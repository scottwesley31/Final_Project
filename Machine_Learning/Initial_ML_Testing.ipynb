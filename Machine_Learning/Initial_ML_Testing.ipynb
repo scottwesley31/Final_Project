{
 "cells": [
  {
   "cell_type": "code",
   "execution_count": 1,
   "id": "61be7cff",
   "metadata": {},
   "outputs": [],
   "source": [
    "# Initial imports\n",
    "import pandas as pd\n",
    "from pathlib import Path\n",
    "from sklearn import tree\n",
    "from sklearn.preprocessing import StandardScaler\n",
    "from sklearn.model_selection import train_test_split\n",
    "from sklearn.metrics import confusion_matrix, accuracy_score, classification_report"
   ]
  },
  {
   "cell_type": "code",
   "execution_count": 2,
   "id": "14268487",
   "metadata": {},
   "outputs": [
    {
     "data": {
      "text/html": [
       "<div>\n",
       "<style scoped>\n",
       "    .dataframe tbody tr th:only-of-type {\n",
       "        vertical-align: middle;\n",
       "    }\n",
       "\n",
       "    .dataframe tbody tr th {\n",
       "        vertical-align: top;\n",
       "    }\n",
       "\n",
       "    .dataframe thead th {\n",
       "        text-align: right;\n",
       "    }\n",
       "</style>\n",
       "<table border=\"1\" class=\"dataframe\">\n",
       "  <thead>\n",
       "    <tr style=\"text-align: right;\">\n",
       "      <th></th>\n",
       "      <th>Open</th>\n",
       "      <th>High</th>\n",
       "      <th>Low</th>\n",
       "      <th>Close</th>\n",
       "      <th>Adj Close</th>\n",
       "      <th>Volume</th>\n",
       "      <th>Name</th>\n",
       "    </tr>\n",
       "  </thead>\n",
       "  <tbody>\n",
       "    <tr>\n",
       "      <th>0</th>\n",
       "      <td>87.300003</td>\n",
       "      <td>87.300003</td>\n",
       "      <td>64.904999</td>\n",
       "      <td>71.699997</td>\n",
       "      <td>71.699997</td>\n",
       "      <td>33947.0</td>\n",
       "      <td>MKDTY</td>\n",
       "    </tr>\n",
       "    <tr>\n",
       "      <th>1</th>\n",
       "      <td>72.900002</td>\n",
       "      <td>72.900002</td>\n",
       "      <td>62.250000</td>\n",
       "      <td>65.550003</td>\n",
       "      <td>65.550003</td>\n",
       "      <td>13607.0</td>\n",
       "      <td>MKDTY</td>\n",
       "    </tr>\n",
       "    <tr>\n",
       "      <th>2</th>\n",
       "      <td>63.299999</td>\n",
       "      <td>66.750000</td>\n",
       "      <td>63.299999</td>\n",
       "      <td>65.250000</td>\n",
       "      <td>65.250000</td>\n",
       "      <td>4427.0</td>\n",
       "      <td>MKDTY</td>\n",
       "    </tr>\n",
       "    <tr>\n",
       "      <th>3</th>\n",
       "      <td>65.550003</td>\n",
       "      <td>72.000000</td>\n",
       "      <td>63.750000</td>\n",
       "      <td>67.650002</td>\n",
       "      <td>67.650002</td>\n",
       "      <td>9933.0</td>\n",
       "      <td>MKDTY</td>\n",
       "    </tr>\n",
       "    <tr>\n",
       "      <th>4</th>\n",
       "      <td>68.250000</td>\n",
       "      <td>72.419998</td>\n",
       "      <td>68.099998</td>\n",
       "      <td>72.000000</td>\n",
       "      <td>72.000000</td>\n",
       "      <td>8347.0</td>\n",
       "      <td>MKDTY</td>\n",
       "    </tr>\n",
       "  </tbody>\n",
       "</table>\n",
       "</div>"
      ],
      "text/plain": [
       "        Open       High        Low      Close  Adj Close   Volume   Name\n",
       "0  87.300003  87.300003  64.904999  71.699997  71.699997  33947.0  MKDTY\n",
       "1  72.900002  72.900002  62.250000  65.550003  65.550003  13607.0  MKDTY\n",
       "2  63.299999  66.750000  63.299999  65.250000  65.250000   4427.0  MKDTY\n",
       "3  65.550003  72.000000  63.750000  67.650002  67.650002   9933.0  MKDTY\n",
       "4  68.250000  72.419998  68.099998  72.000000  72.000000   8347.0  MKDTY"
      ]
     },
     "execution_count": 2,
     "metadata": {},
     "output_type": "execute_result"
    }
   ],
   "source": [
    "# Loading data\n",
    "file_path = Path(\"../../stock_data.csv\")\n",
    "df_stock = pd.read_csv(file_path)\n",
    "df_stock.head()"
   ]
  },
  {
   "cell_type": "code",
   "execution_count": 7,
   "id": "845485de",
   "metadata": {},
   "outputs": [
    {
     "data": {
      "text/plain": [
       "array(['MKDTY', 'INDO', 'MNPR', ..., 'VIGL', 'SCRM', 'CITE'], dtype=object)"
      ]
     },
     "execution_count": 7,
     "metadata": {},
     "output_type": "execute_result"
    }
   ],
   "source": [
    "# List all the unique values in the Name column\n",
    "pd.unique(df_stock['Name'])"
   ]
  },
  {
   "cell_type": "code",
   "execution_count": 9,
   "id": "18afc89d",
   "metadata": {},
   "outputs": [
    {
     "data": {
      "text/plain": [
       "INTZ    7672\n",
       "ALRS    4943\n",
       "EVO     4721\n",
       "WTRE    3884\n",
       "ABST    3456\n",
       "        ... \n",
       "LASE      25\n",
       "PRME      11\n",
       "AQU       11\n",
       "MBLY       7\n",
       "SVII       5\n",
       "Name: Name, Length: 1577, dtype: int64"
      ]
     },
     "execution_count": 9,
     "metadata": {},
     "output_type": "execute_result"
    }
   ],
   "source": [
    "# List and count all of the values in the Name column\n",
    "df_stock.Name.value_counts()"
   ]
  }
 ],
 "metadata": {
  "kernelspec": {
   "display_name": "mlenv",
   "language": "python",
   "name": "mlenv"
  },
  "language_info": {
   "codemirror_mode": {
    "name": "ipython",
    "version": 3
   },
   "file_extension": ".py",
   "mimetype": "text/x-python",
   "name": "python",
   "nbconvert_exporter": "python",
   "pygments_lexer": "ipython3",
   "version": "3.7.13"
  }
 },
 "nbformat": 4,
 "nbformat_minor": 5
}
