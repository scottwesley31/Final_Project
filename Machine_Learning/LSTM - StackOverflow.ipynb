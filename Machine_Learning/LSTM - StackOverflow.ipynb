{
 "cells": [
  {
   "cell_type": "code",
   "execution_count": 1,
   "id": "df7e2f24",
   "metadata": {},
   "outputs": [],
   "source": [
    "# Import dependencies\n",
    "import numpy as np\n",
    "import pandas as pd\n",
    "import datetime"
   ]
  },
  {
   "cell_type": "code",
   "execution_count": null,
   "id": "6b3e81cc",
   "metadata": {},
   "outputs": [],
   "source": [
    "# Import learning model dependencies\n",
    "import tensorflow as tf\n",
    "from tensorflow.keras.layers import Dense, LSTM\n",
    "from tensorflow.keras.models import Sequential\n",
    "from sklearn.preprocessing import MinMaxScaler\n",
    "pd.options.mode.chained_assignment = None\n",
    "tf.random.set_seed(0)"
   ]
  },
  {
   "cell_type": "code",
   "execution_count": null,
   "id": "06fe0ed9",
   "metadata": {},
   "outputs": [],
   "source": [
    "# Establish connection to AWS server\n",
    "from config import db_password\n",
    "import psycopg2\n",
    "connection = psycopg2.connect(\n",
    "    host = 'launch-it-1.cyo6pvehqvyz.us-east-1.rds.amazonaws.com',\n",
    "    port = 5432,\n",
    "    user = 'postgres',\n",
    "    password = db_password,\n",
    "    database='launch-it-1'\n",
    "    )\n",
    "cursor=connection.cursor()"
   ]
  },
  {
   "cell_type": "code",
   "execution_count": null,
   "id": "589fc94b",
   "metadata": {},
   "outputs": [],
   "source": [
    "# Pull SQL dataset from database\n",
    "sql = \"\"\"\n",
    "SELECT * FROM launchit  \n",
    "\"\"\"\n",
    "\n",
    "# Build dataframe from SQL data\n",
    "stock_data = pd.read_sql(sql, con=connection)\n",
    "stock_data.head()"
   ]
  },
  {
   "cell_type": "code",
   "execution_count": null,
   "id": "5691de3c",
   "metadata": {},
   "outputs": [],
   "source": [
    "# Create a function to run the LSTM learning model for each company\n",
    "def learning_model(df):\n",
    "    # download the data\n",
    "    y = df['Adj Close'].fillna(method='ffill')\n",
    "    y = y.values.reshape(-1, 1)\n",
    "\n",
    "    # scale the data\n",
    "    scaler = MinMaxScaler(feature_range=(0, 1))\n",
    "    scaler = scaler.fit(y)\n",
    "    y = scaler.transform(y)\n",
    "\n",
    "    # generate the input and output sequences\n",
    "    n_lookback = 365  # length of input sequences (lookback period)\n",
    "    n_forecast = 180  # length of output sequences (forecast period)\n",
    "\n",
    "    X = []\n",
    "    Y = []\n",
    "\n",
    "    for i in range(n_lookback, len(y) - n_forecast + 1):\n",
    "        X.append(y[i - n_lookback: i])\n",
    "        Y.append(y[i: i + n_forecast])\n",
    "\n",
    "    X = np.array(X)\n",
    "    Y = np.array(Y)\n",
    "\n",
    "    # fit the model\n",
    "    model = Sequential()\n",
    "    model.add(LSTM(units=50, return_sequences=True, input_shape=(n_lookback, 1)))\n",
    "    model.add(LSTM(units=50))\n",
    "    model.add(Dense(n_forecast))\n",
    "\n",
    "    model.compile(loss='mean_squared_error', optimizer='adam')\n",
    "    model.fit(X, Y, epochs=3, batch_size=32, verbose=0)\n",
    "\n",
    "    # generate the forecasts\n",
    "    X_ = y[- n_lookback:]  # last available input sequence\n",
    "    X_ = X_.reshape(1, n_lookback, 1)\n",
    "\n",
    "    Y_ = model.predict(X_).reshape(-1, 1)\n",
    "    Y_ = scaler.inverse_transform(Y_)\n",
    "\n",
    "    # organize the results in a data frame\n",
    "    df_past = df[['Close']].reset_index()\n",
    "    df_past.rename(columns={'index': 'Date', 'Close': 'Actual'}, inplace=True)\n",
    "    df_past['Date'] = pd.to_datetime(df_past['Date'])\n",
    "    df_past['Forecast'] = np.nan\n",
    "    df_past['Forecast'].iloc[-1] = df_past['Actual'].iloc[-1]\n",
    "\n",
    "    df_future = pd.DataFrame(columns=['Date', 'Actual', 'Forecast'])\n",
    "    df_future['Date'] = pd.date_range(start=df_past['Date'].iloc[-1] + pd.Timedelta(days=1), periods=n_forecast)\n",
    "    df_future['Forecast'] = Y_.flatten()\n",
    "    df_future['Actual'] = np.nan\n",
    "\n",
    "    results = df_past.append(df_future).set_index('Date')\n",
    "    \n",
    "    # Calculate rate of return on investment based on projected future stock price\n",
    "    return_rate = (results['Forecast'][-1] - df['Adj Close'][-1]) / df['Adj Close'][-1]\n",
    "    \n",
    "    return return_rate\n",
    "\n",
    "    # plot the results - optional\n",
    "    #results.plot(title='VIST', figsize=(16,8))"
   ]
  },
  {
   "cell_type": "code",
   "execution_count": null,
   "id": "de8cf2ad",
   "metadata": {},
   "outputs": [],
   "source": [
    "# Temporary cell used for testing output of function to build future dataframe of tickers and growth rates\n",
    "# *** do not remove until testing complete ***\n",
    "ticker_df = stock_data[stock_data.TCKR == \"BLI\"]\n",
    "ticker_df = ticker_df.set_index('Date')\n",
    "learning_model(ticker_df)"
   ]
  },
  {
   "cell_type": "code",
   "execution_count": null,
   "id": "c95727ad",
   "metadata": {},
   "outputs": [],
   "source": [
    "# Generate unique list of IPO stock symbols\n",
    "unique_ipos = stock_data['TCKR'].unique()\n",
    "\n",
    "# Create new dataframe to house all company stock symbols and their associated growth rates\n",
    "company_roi_df = pd.DataFrame(unique_ipos, columns=['TCKR'])\n",
    "\n",
    "# Iterate through each unique stock symbol and filter the historical stock data for each company\n",
    "for index, ticker in company_roi_df.iterrows():\n",
    "    ticker = ticker.values[0]\n",
    "    ticker_df = stock_data[stock_data.TCKR == ticker]\n",
    "    \n",
    "    # Reset the index for the filtered dataframe\n",
    "    ticker_df = ticker_df.set_index('Date')\n",
    "    \n",
    "    # Run the learning model function for each company\n",
    "    company_roi_df.loc[index, 'ROI'] = learning_model(ticker_df)"
   ]
  }
 ],
 "metadata": {
  "kernelspec": {
   "display_name": "mlenv",
   "language": "python",
   "name": "mlenv"
  },
  "language_info": {
   "codemirror_mode": {
    "name": "ipython",
    "version": 3
   },
   "file_extension": ".py",
   "mimetype": "text/x-python",
   "name": "python",
   "nbconvert_exporter": "python",
   "pygments_lexer": "ipython3",
   "version": "3.7.13"
  }
 },
 "nbformat": 4,
 "nbformat_minor": 5
}
