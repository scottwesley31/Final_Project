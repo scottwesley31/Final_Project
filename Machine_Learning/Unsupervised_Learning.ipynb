{
 "cells": [
  {
   "cell_type": "code",
   "execution_count": 1,
   "id": "8a8f1d74",
   "metadata": {},
   "outputs": [],
   "source": [
    "from config import db_password"
   ]
  },
  {
   "cell_type": "code",
   "execution_count": 2,
   "id": "a8be2407",
   "metadata": {},
   "outputs": [],
   "source": [
    "import psycopg2\n",
    "connection = psycopg2.connect(\n",
    "    host = 'launch-it-1.cyo6pvehqvyz.us-east-1.rds.amazonaws.com',\n",
    "    port = 5432,\n",
    "    user = 'postgres',\n",
    "    password = db_password,\n",
    "    database='launch-it-1'\n",
    "    )\n",
    "cursor=connection.cursor()"
   ]
  },
  {
   "cell_type": "code",
   "execution_count": 4,
   "id": "9a718259",
   "metadata": {},
   "outputs": [
    {
     "data": {
      "text/html": [
       "<div>\n",
       "<style scoped>\n",
       "    .dataframe tbody tr th:only-of-type {\n",
       "        vertical-align: middle;\n",
       "    }\n",
       "\n",
       "    .dataframe tbody tr th {\n",
       "        vertical-align: top;\n",
       "    }\n",
       "\n",
       "    .dataframe thead th {\n",
       "        text-align: right;\n",
       "    }\n",
       "</style>\n",
       "<table border=\"1\" class=\"dataframe\">\n",
       "  <thead>\n",
       "    <tr style=\"text-align: right;\">\n",
       "      <th></th>\n",
       "      <th>Date</th>\n",
       "      <th>Open</th>\n",
       "      <th>High</th>\n",
       "      <th>Low</th>\n",
       "      <th>Close</th>\n",
       "      <th>Adj Close</th>\n",
       "      <th>Volume</th>\n",
       "      <th>TCKR</th>\n",
       "      <th>sector</th>\n",
       "      <th>industry</th>\n",
       "      <th>country</th>\n",
       "      <th>growth_rate</th>\n",
       "      <th>target_median_price</th>\n",
       "      <th>target_mean_price</th>\n",
       "      <th>target_high_price</th>\n",
       "    </tr>\n",
       "  </thead>\n",
       "  <tbody>\n",
       "    <tr>\n",
       "      <th>0</th>\n",
       "      <td>2019-12-19</td>\n",
       "      <td>11.000</td>\n",
       "      <td>11.96</td>\n",
       "      <td>10.50</td>\n",
       "      <td>10.70</td>\n",
       "      <td>10.70</td>\n",
       "      <td>89400.0</td>\n",
       "      <td>INDO</td>\n",
       "      <td>Energy</td>\n",
       "      <td>Oil &amp; Gas E&amp;P</td>\n",
       "      <td>Indonesia</td>\n",
       "      <td>1.206</td>\n",
       "      <td>15.0</td>\n",
       "      <td>15.0</td>\n",
       "      <td>15.0</td>\n",
       "    </tr>\n",
       "    <tr>\n",
       "      <th>1</th>\n",
       "      <td>2019-12-20</td>\n",
       "      <td>10.808</td>\n",
       "      <td>12.49</td>\n",
       "      <td>9.25</td>\n",
       "      <td>9.65</td>\n",
       "      <td>9.65</td>\n",
       "      <td>503000.0</td>\n",
       "      <td>INDO</td>\n",
       "      <td>Energy</td>\n",
       "      <td>Oil &amp; Gas E&amp;P</td>\n",
       "      <td>Indonesia</td>\n",
       "      <td>1.206</td>\n",
       "      <td>15.0</td>\n",
       "      <td>15.0</td>\n",
       "      <td>15.0</td>\n",
       "    </tr>\n",
       "    <tr>\n",
       "      <th>2</th>\n",
       "      <td>2019-12-23</td>\n",
       "      <td>8.790</td>\n",
       "      <td>8.79</td>\n",
       "      <td>7.25</td>\n",
       "      <td>7.81</td>\n",
       "      <td>7.81</td>\n",
       "      <td>117400.0</td>\n",
       "      <td>INDO</td>\n",
       "      <td>Energy</td>\n",
       "      <td>Oil &amp; Gas E&amp;P</td>\n",
       "      <td>Indonesia</td>\n",
       "      <td>1.206</td>\n",
       "      <td>15.0</td>\n",
       "      <td>15.0</td>\n",
       "      <td>15.0</td>\n",
       "    </tr>\n",
       "    <tr>\n",
       "      <th>3</th>\n",
       "      <td>2019-12-24</td>\n",
       "      <td>7.500</td>\n",
       "      <td>7.64</td>\n",
       "      <td>6.00</td>\n",
       "      <td>6.41</td>\n",
       "      <td>6.41</td>\n",
       "      <td>102800.0</td>\n",
       "      <td>INDO</td>\n",
       "      <td>Energy</td>\n",
       "      <td>Oil &amp; Gas E&amp;P</td>\n",
       "      <td>Indonesia</td>\n",
       "      <td>1.206</td>\n",
       "      <td>15.0</td>\n",
       "      <td>15.0</td>\n",
       "      <td>15.0</td>\n",
       "    </tr>\n",
       "    <tr>\n",
       "      <th>4</th>\n",
       "      <td>2019-12-26</td>\n",
       "      <td>6.420</td>\n",
       "      <td>7.72</td>\n",
       "      <td>6.42</td>\n",
       "      <td>7.41</td>\n",
       "      <td>7.41</td>\n",
       "      <td>78400.0</td>\n",
       "      <td>INDO</td>\n",
       "      <td>Energy</td>\n",
       "      <td>Oil &amp; Gas E&amp;P</td>\n",
       "      <td>Indonesia</td>\n",
       "      <td>1.206</td>\n",
       "      <td>15.0</td>\n",
       "      <td>15.0</td>\n",
       "      <td>15.0</td>\n",
       "    </tr>\n",
       "  </tbody>\n",
       "</table>\n",
       "</div>"
      ],
      "text/plain": [
       "        Date    Open   High    Low  Close  Adj Close    Volume  TCKR  sector  \\\n",
       "0 2019-12-19  11.000  11.96  10.50  10.70      10.70   89400.0  INDO  Energy   \n",
       "1 2019-12-20  10.808  12.49   9.25   9.65       9.65  503000.0  INDO  Energy   \n",
       "2 2019-12-23   8.790   8.79   7.25   7.81       7.81  117400.0  INDO  Energy   \n",
       "3 2019-12-24   7.500   7.64   6.00   6.41       6.41  102800.0  INDO  Energy   \n",
       "4 2019-12-26   6.420   7.72   6.42   7.41       7.41   78400.0  INDO  Energy   \n",
       "\n",
       "        industry    country  growth_rate  target_median_price  \\\n",
       "0  Oil & Gas E&P  Indonesia        1.206                 15.0   \n",
       "1  Oil & Gas E&P  Indonesia        1.206                 15.0   \n",
       "2  Oil & Gas E&P  Indonesia        1.206                 15.0   \n",
       "3  Oil & Gas E&P  Indonesia        1.206                 15.0   \n",
       "4  Oil & Gas E&P  Indonesia        1.206                 15.0   \n",
       "\n",
       "   target_mean_price  target_high_price  \n",
       "0               15.0               15.0  \n",
       "1               15.0               15.0  \n",
       "2               15.0               15.0  \n",
       "3               15.0               15.0  \n",
       "4               15.0               15.0  "
      ]
     },
     "execution_count": 4,
     "metadata": {},
     "output_type": "execute_result"
    }
   ],
   "source": [
    "# using pandas to execute SQL queries\n",
    "\n",
    "import pandas as pd\n",
    "\n",
    "sql = \"\"\"\n",
    "SELECT * FROM launchit  \n",
    "\"\"\"\n",
    "project_df = pd.read_sql(sql, con=connection)\n",
    "project_df.head()"
   ]
  },
  {
   "cell_type": "code",
   "execution_count": 5,
   "id": "2f6ef484",
   "metadata": {},
   "outputs": [
    {
     "data": {
      "text/plain": [
       "Index(['Date', 'Open', 'High', 'Low', 'Close', 'Adj Close', 'Volume', 'TCKR',\n",
       "       'sector', 'industry', 'country', 'growth_rate', 'target_median_price',\n",
       "       'target_mean_price', 'target_high_price'],\n",
       "      dtype='object')"
      ]
     },
     "execution_count": 5,
     "metadata": {},
     "output_type": "execute_result"
    }
   ],
   "source": [
    "# List the column names\n",
    "project_df.columns"
   ]
  },
  {
   "cell_type": "code",
   "execution_count": 6,
   "id": "249b8f26",
   "metadata": {},
   "outputs": [
    {
     "data": {
      "text/plain": [
       "Date                   datetime64[ns]\n",
       "Open                          float64\n",
       "High                          float64\n",
       "Low                           float64\n",
       "Close                         float64\n",
       "Adj Close                     float64\n",
       "Volume                        float64\n",
       "TCKR                           object\n",
       "sector                         object\n",
       "industry                       object\n",
       "country                        object\n",
       "growth_rate                   float64\n",
       "target_median_price           float64\n",
       "target_mean_price             float64\n",
       "target_high_price             float64\n",
       "dtype: object"
      ]
     },
     "execution_count": 6,
     "metadata": {},
     "output_type": "execute_result"
    }
   ],
   "source": [
    "# View the data types\n",
    "project_df.dtypes"
   ]
  },
  {
   "cell_type": "code",
   "execution_count": 7,
   "id": "fe52ca97",
   "metadata": {},
   "outputs": [
    {
     "data": {
      "text/plain": [
       "INTZ    7673\n",
       "ALRS    4944\n",
       "EVO     4722\n",
       "ABST    3457\n",
       "MEDS    2204\n",
       "        ... \n",
       "EE       143\n",
       "ACON     137\n",
       "TNON     134\n",
       "HNVR     124\n",
       "PFHC     121\n",
       "Name: TCKR, Length: 547, dtype: int64"
      ]
     },
     "execution_count": 7,
     "metadata": {},
     "output_type": "execute_result"
    }
   ],
   "source": [
    "# List and count all of the values in the Name column\n",
    "project_df.TCKR.value_counts()"
   ]
  },
  {
   "cell_type": "code",
   "execution_count": 9,
   "id": "377e9263",
   "metadata": {},
   "outputs": [
    {
     "data": {
      "text/plain": [
       "Date                   0\n",
       "Open                   0\n",
       "High                   0\n",
       "Low                    0\n",
       "Close                  0\n",
       "Adj Close              0\n",
       "Volume                 0\n",
       "TCKR                   0\n",
       "sector                 0\n",
       "industry               0\n",
       "country                0\n",
       "growth_rate            0\n",
       "target_median_price    0\n",
       "target_mean_price      0\n",
       "target_high_price      0\n",
       "dtype: int64"
      ]
     },
     "execution_count": 9,
     "metadata": {},
     "output_type": "execute_result"
    }
   ],
   "source": [
    "# Find null values\n",
    "project_df.isnull().sum()"
   ]
  },
  {
   "cell_type": "code",
   "execution_count": 10,
   "id": "aa103d0a",
   "metadata": {},
   "outputs": [
    {
     "data": {
      "text/plain": [
       "0"
      ]
     },
     "execution_count": 10,
     "metadata": {},
     "output_type": "execute_result"
    }
   ],
   "source": [
    "# Find duplicate entries\n",
    "project_df.duplicated().sum()"
   ]
  }
 ],
 "metadata": {
  "kernelspec": {
   "display_name": "PythonData",
   "language": "python",
   "name": "pythondata"
  },
  "language_info": {
   "codemirror_mode": {
    "name": "ipython",
    "version": 3
   },
   "file_extension": ".py",
   "mimetype": "text/x-python",
   "name": "python",
   "nbconvert_exporter": "python",
   "pygments_lexer": "ipython3",
   "version": "3.7.13"
  }
 },
 "nbformat": 4,
 "nbformat_minor": 5
}
