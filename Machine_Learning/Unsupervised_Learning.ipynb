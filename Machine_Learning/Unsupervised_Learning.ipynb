{
 "cells": [
  {
   "cell_type": "markdown",
   "id": "f7859747",
   "metadata": {},
   "source": [
    "# Unsupervised Learning Models"
   ]
  },
  {
   "cell_type": "markdown",
   "id": "4e0e94cb",
   "metadata": {},
   "source": [
    "### Loading Dataset from AWS Database"
   ]
  },
  {
   "cell_type": "code",
   "execution_count": 1,
   "id": "f554eac0",
   "metadata": {},
   "outputs": [],
   "source": [
    "from config import db_password"
   ]
  },
  {
   "cell_type": "code",
   "execution_count": 2,
   "id": "a8be2407",
   "metadata": {},
   "outputs": [],
   "source": [
    "import psycopg2\n",
    "connection = psycopg2.connect(\n",
    "    host = 'launch-it-1.cyo6pvehqvyz.us-east-1.rds.amazonaws.com',\n",
    "    port = 5432,\n",
    "    user = 'postgres',\n",
    "    password = db_password,\n",
    "    database='launch-it-1'\n",
    "    )\n",
    "cursor=connection.cursor()"
   ]
  },
  {
   "cell_type": "code",
   "execution_count": 24,
   "id": "9308cd36",
   "metadata": {},
   "outputs": [
    {
     "data": {
      "text/html": [
       "<div>\n",
       "<style scoped>\n",
       "    .dataframe tbody tr th:only-of-type {\n",
       "        vertical-align: middle;\n",
       "    }\n",
       "\n",
       "    .dataframe tbody tr th {\n",
       "        vertical-align: top;\n",
       "    }\n",
       "\n",
       "    .dataframe thead th {\n",
       "        text-align: right;\n",
       "    }\n",
       "</style>\n",
       "<table border=\"1\" class=\"dataframe\">\n",
       "  <thead>\n",
       "    <tr style=\"text-align: right;\">\n",
       "      <th></th>\n",
       "      <th>Date</th>\n",
       "      <th>Open</th>\n",
       "      <th>High</th>\n",
       "      <th>Low</th>\n",
       "      <th>Close</th>\n",
       "      <th>Adj Close</th>\n",
       "      <th>Volume</th>\n",
       "      <th>TCKR</th>\n",
       "      <th>sector</th>\n",
       "      <th>industry</th>\n",
       "      <th>country</th>\n",
       "      <th>growth_rate</th>\n",
       "      <th>target_median_price</th>\n",
       "      <th>target_mean_price</th>\n",
       "      <th>target_high_price</th>\n",
       "    </tr>\n",
       "  </thead>\n",
       "  <tbody>\n",
       "    <tr>\n",
       "      <th>0</th>\n",
       "      <td>2019-12-19</td>\n",
       "      <td>11.000</td>\n",
       "      <td>11.96</td>\n",
       "      <td>10.50</td>\n",
       "      <td>10.70</td>\n",
       "      <td>10.70</td>\n",
       "      <td>89400.0</td>\n",
       "      <td>INDO</td>\n",
       "      <td>Energy</td>\n",
       "      <td>Oil &amp; Gas E&amp;P</td>\n",
       "      <td>Indonesia</td>\n",
       "      <td>1.206</td>\n",
       "      <td>15.0</td>\n",
       "      <td>15.0</td>\n",
       "      <td>15.0</td>\n",
       "    </tr>\n",
       "    <tr>\n",
       "      <th>1</th>\n",
       "      <td>2019-12-20</td>\n",
       "      <td>10.808</td>\n",
       "      <td>12.49</td>\n",
       "      <td>9.25</td>\n",
       "      <td>9.65</td>\n",
       "      <td>9.65</td>\n",
       "      <td>503000.0</td>\n",
       "      <td>INDO</td>\n",
       "      <td>Energy</td>\n",
       "      <td>Oil &amp; Gas E&amp;P</td>\n",
       "      <td>Indonesia</td>\n",
       "      <td>1.206</td>\n",
       "      <td>15.0</td>\n",
       "      <td>15.0</td>\n",
       "      <td>15.0</td>\n",
       "    </tr>\n",
       "    <tr>\n",
       "      <th>2</th>\n",
       "      <td>2019-12-23</td>\n",
       "      <td>8.790</td>\n",
       "      <td>8.79</td>\n",
       "      <td>7.25</td>\n",
       "      <td>7.81</td>\n",
       "      <td>7.81</td>\n",
       "      <td>117400.0</td>\n",
       "      <td>INDO</td>\n",
       "      <td>Energy</td>\n",
       "      <td>Oil &amp; Gas E&amp;P</td>\n",
       "      <td>Indonesia</td>\n",
       "      <td>1.206</td>\n",
       "      <td>15.0</td>\n",
       "      <td>15.0</td>\n",
       "      <td>15.0</td>\n",
       "    </tr>\n",
       "    <tr>\n",
       "      <th>3</th>\n",
       "      <td>2019-12-24</td>\n",
       "      <td>7.500</td>\n",
       "      <td>7.64</td>\n",
       "      <td>6.00</td>\n",
       "      <td>6.41</td>\n",
       "      <td>6.41</td>\n",
       "      <td>102800.0</td>\n",
       "      <td>INDO</td>\n",
       "      <td>Energy</td>\n",
       "      <td>Oil &amp; Gas E&amp;P</td>\n",
       "      <td>Indonesia</td>\n",
       "      <td>1.206</td>\n",
       "      <td>15.0</td>\n",
       "      <td>15.0</td>\n",
       "      <td>15.0</td>\n",
       "    </tr>\n",
       "    <tr>\n",
       "      <th>4</th>\n",
       "      <td>2019-12-26</td>\n",
       "      <td>6.420</td>\n",
       "      <td>7.72</td>\n",
       "      <td>6.42</td>\n",
       "      <td>7.41</td>\n",
       "      <td>7.41</td>\n",
       "      <td>78400.0</td>\n",
       "      <td>INDO</td>\n",
       "      <td>Energy</td>\n",
       "      <td>Oil &amp; Gas E&amp;P</td>\n",
       "      <td>Indonesia</td>\n",
       "      <td>1.206</td>\n",
       "      <td>15.0</td>\n",
       "      <td>15.0</td>\n",
       "      <td>15.0</td>\n",
       "    </tr>\n",
       "  </tbody>\n",
       "</table>\n",
       "</div>"
      ],
      "text/plain": [
       "        Date    Open   High    Low  Close  Adj Close    Volume  TCKR  sector  \\\n",
       "0 2019-12-19  11.000  11.96  10.50  10.70      10.70   89400.0  INDO  Energy   \n",
       "1 2019-12-20  10.808  12.49   9.25   9.65       9.65  503000.0  INDO  Energy   \n",
       "2 2019-12-23   8.790   8.79   7.25   7.81       7.81  117400.0  INDO  Energy   \n",
       "3 2019-12-24   7.500   7.64   6.00   6.41       6.41  102800.0  INDO  Energy   \n",
       "4 2019-12-26   6.420   7.72   6.42   7.41       7.41   78400.0  INDO  Energy   \n",
       "\n",
       "        industry    country  growth_rate  target_median_price  \\\n",
       "0  Oil & Gas E&P  Indonesia        1.206                 15.0   \n",
       "1  Oil & Gas E&P  Indonesia        1.206                 15.0   \n",
       "2  Oil & Gas E&P  Indonesia        1.206                 15.0   \n",
       "3  Oil & Gas E&P  Indonesia        1.206                 15.0   \n",
       "4  Oil & Gas E&P  Indonesia        1.206                 15.0   \n",
       "\n",
       "   target_mean_price  target_high_price  \n",
       "0               15.0               15.0  \n",
       "1               15.0               15.0  \n",
       "2               15.0               15.0  \n",
       "3               15.0               15.0  \n",
       "4               15.0               15.0  "
      ]
     },
     "execution_count": 24,
     "metadata": {},
     "output_type": "execute_result"
    }
   ],
   "source": [
    "# using pandas to execute SQL queries\n",
    "\n",
    "import pandas as pd\n",
    "\n",
    "sql = \"\"\"\n",
    "SELECT * FROM launchit  \n",
    "\"\"\"\n",
    "project_df = pd.read_sql(sql, con=connection)\n",
    "project_df.head()"
   ]
  },
  {
   "cell_type": "markdown",
   "id": "b20331eb",
   "metadata": {},
   "source": [
    "### Data Processing"
   ]
  },
  {
   "cell_type": "code",
   "execution_count": 25,
   "id": "639750c1",
   "metadata": {},
   "outputs": [
    {
     "data": {
      "text/plain": [
       "Index(['Date', 'Open', 'High', 'Low', 'Close', 'Adj Close', 'Volume', 'TCKR',\n",
       "       'sector', 'industry', 'country', 'growth_rate', 'target_median_price',\n",
       "       'target_mean_price', 'target_high_price'],\n",
       "      dtype='object')"
      ]
     },
     "execution_count": 25,
     "metadata": {},
     "output_type": "execute_result"
    }
   ],
   "source": [
    "# List the column names\n",
    "project_df.columns"
   ]
  },
  {
   "cell_type": "code",
   "execution_count": 26,
   "id": "95da1b5a",
   "metadata": {},
   "outputs": [
    {
     "data": {
      "text/plain": [
       "Date                   datetime64[ns]\n",
       "Open                          float64\n",
       "High                          float64\n",
       "Low                           float64\n",
       "Close                         float64\n",
       "Adj Close                     float64\n",
       "Volume                        float64\n",
       "TCKR                           object\n",
       "sector                         object\n",
       "industry                       object\n",
       "country                        object\n",
       "growth_rate                   float64\n",
       "target_median_price           float64\n",
       "target_mean_price             float64\n",
       "target_high_price             float64\n",
       "dtype: object"
      ]
     },
     "execution_count": 26,
     "metadata": {},
     "output_type": "execute_result"
    }
   ],
   "source": [
    "# View the data types\n",
    "project_df.dtypes"
   ]
  },
  {
   "cell_type": "code",
   "execution_count": 27,
   "id": "71d9aa4c",
   "metadata": {},
   "outputs": [
    {
     "data": {
      "text/plain": [
       "INTZ    7673\n",
       "ALRS    4944\n",
       "EVO     4722\n",
       "ABST    3457\n",
       "MEDS    2204\n",
       "        ... \n",
       "EE       143\n",
       "ACON     137\n",
       "TNON     134\n",
       "HNVR     124\n",
       "PFHC     121\n",
       "Name: TCKR, Length: 547, dtype: int64"
      ]
     },
     "execution_count": 27,
     "metadata": {},
     "output_type": "execute_result"
    }
   ],
   "source": [
    "# List and count all of the values in the Name column\n",
    "project_df.TCKR.value_counts()"
   ]
  },
  {
   "cell_type": "code",
   "execution_count": 28,
   "id": "a6d5508d",
   "metadata": {},
   "outputs": [
    {
     "data": {
      "text/plain": [
       "Date                   0\n",
       "Open                   0\n",
       "High                   0\n",
       "Low                    0\n",
       "Close                  0\n",
       "Adj Close              0\n",
       "Volume                 0\n",
       "TCKR                   0\n",
       "sector                 0\n",
       "industry               0\n",
       "country                0\n",
       "growth_rate            0\n",
       "target_median_price    0\n",
       "target_mean_price      0\n",
       "target_high_price      0\n",
       "dtype: int64"
      ]
     },
     "execution_count": 28,
     "metadata": {},
     "output_type": "execute_result"
    }
   ],
   "source": [
    "# Find null values\n",
    "project_df.isnull().sum()"
   ]
  },
  {
   "cell_type": "code",
   "execution_count": 29,
   "id": "8d484cd2",
   "metadata": {},
   "outputs": [
    {
     "data": {
      "text/plain": [
       "0"
      ]
     },
     "execution_count": 29,
     "metadata": {},
     "output_type": "execute_result"
    }
   ],
   "source": [
    "# Find duplicate entries\n",
    "project_df.duplicated().sum()"
   ]
  },
  {
   "cell_type": "code",
   "execution_count": 30,
   "id": "9bb45f3b",
   "metadata": {},
   "outputs": [
    {
     "data": {
      "text/html": [
       "<div>\n",
       "<style scoped>\n",
       "    .dataframe tbody tr th:only-of-type {\n",
       "        vertical-align: middle;\n",
       "    }\n",
       "\n",
       "    .dataframe tbody tr th {\n",
       "        vertical-align: top;\n",
       "    }\n",
       "\n",
       "    .dataframe thead th {\n",
       "        text-align: right;\n",
       "    }\n",
       "</style>\n",
       "<table border=\"1\" class=\"dataframe\">\n",
       "  <thead>\n",
       "    <tr style=\"text-align: right;\">\n",
       "      <th></th>\n",
       "      <th>Open</th>\n",
       "      <th>High</th>\n",
       "      <th>Low</th>\n",
       "      <th>Close</th>\n",
       "      <th>Adj Close</th>\n",
       "      <th>Volume</th>\n",
       "      <th>growth_rate</th>\n",
       "      <th>target_median_price</th>\n",
       "      <th>target_mean_price</th>\n",
       "      <th>target_high_price</th>\n",
       "    </tr>\n",
       "  </thead>\n",
       "  <tbody>\n",
       "    <tr>\n",
       "      <th>count</th>\n",
       "      <td>294310.000000</td>\n",
       "      <td>294310.000000</td>\n",
       "      <td>294310.000000</td>\n",
       "      <td>294310.000000</td>\n",
       "      <td>294310.000000</td>\n",
       "      <td>2.943100e+05</td>\n",
       "      <td>294310.000000</td>\n",
       "      <td>294310.000000</td>\n",
       "      <td>294310.000000</td>\n",
       "      <td>294310.000000</td>\n",
       "    </tr>\n",
       "    <tr>\n",
       "      <th>mean</th>\n",
       "      <td>26.583393</td>\n",
       "      <td>27.382844</td>\n",
       "      <td>25.748342</td>\n",
       "      <td>26.540951</td>\n",
       "      <td>26.366506</td>\n",
       "      <td>1.569110e+06</td>\n",
       "      <td>9.231909</td>\n",
       "      <td>42.769452</td>\n",
       "      <td>42.769452</td>\n",
       "      <td>61.148451</td>\n",
       "    </tr>\n",
       "    <tr>\n",
       "      <th>std</th>\n",
       "      <td>41.118378</td>\n",
       "      <td>42.496060</td>\n",
       "      <td>39.734576</td>\n",
       "      <td>40.961183</td>\n",
       "      <td>40.967190</td>\n",
       "      <td>6.202717e+06</td>\n",
       "      <td>91.521475</td>\n",
       "      <td>215.510160</td>\n",
       "      <td>215.510160</td>\n",
       "      <td>306.290318</td>\n",
       "    </tr>\n",
       "    <tr>\n",
       "      <th>min</th>\n",
       "      <td>0.001000</td>\n",
       "      <td>0.001000</td>\n",
       "      <td>0.001000</td>\n",
       "      <td>0.001000</td>\n",
       "      <td>0.001000</td>\n",
       "      <td>0.000000e+00</td>\n",
       "      <td>-0.984000</td>\n",
       "      <td>0.680000</td>\n",
       "      <td>0.680000</td>\n",
       "      <td>0.750000</td>\n",
       "    </tr>\n",
       "    <tr>\n",
       "      <th>25%</th>\n",
       "      <td>7.730000</td>\n",
       "      <td>8.000000</td>\n",
       "      <td>7.477250</td>\n",
       "      <td>7.710000</td>\n",
       "      <td>7.490000</td>\n",
       "      <td>6.920000e+04</td>\n",
       "      <td>0.020000</td>\n",
       "      <td>9.500000</td>\n",
       "      <td>9.500000</td>\n",
       "      <td>14.500000</td>\n",
       "    </tr>\n",
       "    <tr>\n",
       "      <th>50%</th>\n",
       "      <td>16.670000</td>\n",
       "      <td>17.139999</td>\n",
       "      <td>16.160000</td>\n",
       "      <td>16.639999</td>\n",
       "      <td>16.299999</td>\n",
       "      <td>3.088500e+05</td>\n",
       "      <td>0.251000</td>\n",
       "      <td>19.050000</td>\n",
       "      <td>19.050000</td>\n",
       "      <td>26.000000</td>\n",
       "    </tr>\n",
       "    <tr>\n",
       "      <th>75%</th>\n",
       "      <td>30.000000</td>\n",
       "      <td>30.879999</td>\n",
       "      <td>29.118751</td>\n",
       "      <td>29.990000</td>\n",
       "      <td>29.770000</td>\n",
       "      <td>1.059300e+06</td>\n",
       "      <td>0.589000</td>\n",
       "      <td>32.000000</td>\n",
       "      <td>32.000000</td>\n",
       "      <td>47.000000</td>\n",
       "    </tr>\n",
       "    <tr>\n",
       "      <th>max</th>\n",
       "      <td>1531.000000</td>\n",
       "      <td>2299.000000</td>\n",
       "      <td>1227.000000</td>\n",
       "      <td>1277.000000</td>\n",
       "      <td>1277.000000</td>\n",
       "      <td>4.120083e+08</td>\n",
       "      <td>1404.333000</td>\n",
       "      <td>4164.940000</td>\n",
       "      <td>4164.940000</td>\n",
       "      <td>6597.920000</td>\n",
       "    </tr>\n",
       "  </tbody>\n",
       "</table>\n",
       "</div>"
      ],
      "text/plain": [
       "                Open           High            Low          Close  \\\n",
       "count  294310.000000  294310.000000  294310.000000  294310.000000   \n",
       "mean       26.583393      27.382844      25.748342      26.540951   \n",
       "std        41.118378      42.496060      39.734576      40.961183   \n",
       "min         0.001000       0.001000       0.001000       0.001000   \n",
       "25%         7.730000       8.000000       7.477250       7.710000   \n",
       "50%        16.670000      17.139999      16.160000      16.639999   \n",
       "75%        30.000000      30.879999      29.118751      29.990000   \n",
       "max      1531.000000    2299.000000    1227.000000    1277.000000   \n",
       "\n",
       "           Adj Close        Volume    growth_rate  target_median_price  \\\n",
       "count  294310.000000  2.943100e+05  294310.000000        294310.000000   \n",
       "mean       26.366506  1.569110e+06       9.231909            42.769452   \n",
       "std        40.967190  6.202717e+06      91.521475           215.510160   \n",
       "min         0.001000  0.000000e+00      -0.984000             0.680000   \n",
       "25%         7.490000  6.920000e+04       0.020000             9.500000   \n",
       "50%        16.299999  3.088500e+05       0.251000            19.050000   \n",
       "75%        29.770000  1.059300e+06       0.589000            32.000000   \n",
       "max      1277.000000  4.120083e+08    1404.333000          4164.940000   \n",
       "\n",
       "       target_mean_price  target_high_price  \n",
       "count      294310.000000      294310.000000  \n",
       "mean           42.769452          61.148451  \n",
       "std           215.510160         306.290318  \n",
       "min             0.680000           0.750000  \n",
       "25%             9.500000          14.500000  \n",
       "50%            19.050000          26.000000  \n",
       "75%            32.000000          47.000000  \n",
       "max          4164.940000        6597.920000  "
      ]
     },
     "execution_count": 30,
     "metadata": {},
     "output_type": "execute_result"
    }
   ],
   "source": [
    "# Describe the project column to observe range\n",
    "project_df.describe()"
   ]
  },
  {
   "cell_type": "markdown",
   "id": "ed35f12a",
   "metadata": {},
   "source": [
    "### Transform DataFrame"
   ]
  },
  {
   "cell_type": "code",
   "execution_count": 88,
   "id": "f8280fd7",
   "metadata": {},
   "outputs": [],
   "source": [
    "# Make a new copy of the project_df\n",
    "df1 = project_df.copy()"
   ]
  },
  {
   "cell_type": "code",
   "execution_count": 89,
   "id": "ddd1734b",
   "metadata": {},
   "outputs": [
    {
     "data": {
      "text/plain": [
       "0    0.894\n",
       "1    5.030\n",
       "2    1.174\n",
       "3    1.028\n",
       "4    0.784\n",
       "Name: Volume, dtype: float64"
      ]
     },
     "execution_count": 89,
     "metadata": {},
     "output_type": "execute_result"
    }
   ],
   "source": [
    "# Transform volume\n",
    "df1.Volume = project_df.Volume / 100000\n",
    "df1.Volume.head()"
   ]
  },
  {
   "cell_type": "code",
   "execution_count": 90,
   "id": "2ab8c4af",
   "metadata": {},
   "outputs": [
    {
     "data": {
      "text/html": [
       "<div>\n",
       "<style scoped>\n",
       "    .dataframe tbody tr th:only-of-type {\n",
       "        vertical-align: middle;\n",
       "    }\n",
       "\n",
       "    .dataframe tbody tr th {\n",
       "        vertical-align: top;\n",
       "    }\n",
       "\n",
       "    .dataframe thead th {\n",
       "        text-align: right;\n",
       "    }\n",
       "</style>\n",
       "<table border=\"1\" class=\"dataframe\">\n",
       "  <thead>\n",
       "    <tr style=\"text-align: right;\">\n",
       "      <th></th>\n",
       "      <th>Open</th>\n",
       "      <th>High</th>\n",
       "      <th>Low</th>\n",
       "      <th>Close</th>\n",
       "      <th>Adj Close</th>\n",
       "      <th>Volume</th>\n",
       "      <th>growth_rate</th>\n",
       "      <th>target_median_price</th>\n",
       "      <th>target_mean_price</th>\n",
       "      <th>target_high_price</th>\n",
       "    </tr>\n",
       "  </thead>\n",
       "  <tbody>\n",
       "    <tr>\n",
       "      <th>count</th>\n",
       "      <td>294310.000000</td>\n",
       "      <td>294310.000000</td>\n",
       "      <td>294310.000000</td>\n",
       "      <td>294310.000000</td>\n",
       "      <td>294310.000000</td>\n",
       "      <td>294310.000000</td>\n",
       "      <td>294310.000000</td>\n",
       "      <td>294310.000000</td>\n",
       "      <td>294310.000000</td>\n",
       "      <td>294310.000000</td>\n",
       "    </tr>\n",
       "    <tr>\n",
       "      <th>mean</th>\n",
       "      <td>26.583393</td>\n",
       "      <td>27.382844</td>\n",
       "      <td>25.748342</td>\n",
       "      <td>26.540951</td>\n",
       "      <td>26.366506</td>\n",
       "      <td>15.691103</td>\n",
       "      <td>9.231909</td>\n",
       "      <td>42.769452</td>\n",
       "      <td>42.769452</td>\n",
       "      <td>61.148451</td>\n",
       "    </tr>\n",
       "    <tr>\n",
       "      <th>std</th>\n",
       "      <td>41.118378</td>\n",
       "      <td>42.496060</td>\n",
       "      <td>39.734576</td>\n",
       "      <td>40.961183</td>\n",
       "      <td>40.967190</td>\n",
       "      <td>62.027173</td>\n",
       "      <td>91.521475</td>\n",
       "      <td>215.510160</td>\n",
       "      <td>215.510160</td>\n",
       "      <td>306.290318</td>\n",
       "    </tr>\n",
       "    <tr>\n",
       "      <th>min</th>\n",
       "      <td>0.001000</td>\n",
       "      <td>0.001000</td>\n",
       "      <td>0.001000</td>\n",
       "      <td>0.001000</td>\n",
       "      <td>0.001000</td>\n",
       "      <td>0.000000</td>\n",
       "      <td>-0.984000</td>\n",
       "      <td>0.680000</td>\n",
       "      <td>0.680000</td>\n",
       "      <td>0.750000</td>\n",
       "    </tr>\n",
       "    <tr>\n",
       "      <th>25%</th>\n",
       "      <td>7.730000</td>\n",
       "      <td>8.000000</td>\n",
       "      <td>7.477250</td>\n",
       "      <td>7.710000</td>\n",
       "      <td>7.490000</td>\n",
       "      <td>0.692000</td>\n",
       "      <td>0.020000</td>\n",
       "      <td>9.500000</td>\n",
       "      <td>9.500000</td>\n",
       "      <td>14.500000</td>\n",
       "    </tr>\n",
       "    <tr>\n",
       "      <th>50%</th>\n",
       "      <td>16.670000</td>\n",
       "      <td>17.139999</td>\n",
       "      <td>16.160000</td>\n",
       "      <td>16.639999</td>\n",
       "      <td>16.299999</td>\n",
       "      <td>3.088500</td>\n",
       "      <td>0.251000</td>\n",
       "      <td>19.050000</td>\n",
       "      <td>19.050000</td>\n",
       "      <td>26.000000</td>\n",
       "    </tr>\n",
       "    <tr>\n",
       "      <th>75%</th>\n",
       "      <td>30.000000</td>\n",
       "      <td>30.879999</td>\n",
       "      <td>29.118751</td>\n",
       "      <td>29.990000</td>\n",
       "      <td>29.770000</td>\n",
       "      <td>10.593000</td>\n",
       "      <td>0.589000</td>\n",
       "      <td>32.000000</td>\n",
       "      <td>32.000000</td>\n",
       "      <td>47.000000</td>\n",
       "    </tr>\n",
       "    <tr>\n",
       "      <th>max</th>\n",
       "      <td>1531.000000</td>\n",
       "      <td>2299.000000</td>\n",
       "      <td>1227.000000</td>\n",
       "      <td>1277.000000</td>\n",
       "      <td>1277.000000</td>\n",
       "      <td>4120.083000</td>\n",
       "      <td>1404.333000</td>\n",
       "      <td>4164.940000</td>\n",
       "      <td>4164.940000</td>\n",
       "      <td>6597.920000</td>\n",
       "    </tr>\n",
       "  </tbody>\n",
       "</table>\n",
       "</div>"
      ],
      "text/plain": [
       "                Open           High            Low          Close  \\\n",
       "count  294310.000000  294310.000000  294310.000000  294310.000000   \n",
       "mean       26.583393      27.382844      25.748342      26.540951   \n",
       "std        41.118378      42.496060      39.734576      40.961183   \n",
       "min         0.001000       0.001000       0.001000       0.001000   \n",
       "25%         7.730000       8.000000       7.477250       7.710000   \n",
       "50%        16.670000      17.139999      16.160000      16.639999   \n",
       "75%        30.000000      30.879999      29.118751      29.990000   \n",
       "max      1531.000000    2299.000000    1227.000000    1277.000000   \n",
       "\n",
       "           Adj Close         Volume    growth_rate  target_median_price  \\\n",
       "count  294310.000000  294310.000000  294310.000000        294310.000000   \n",
       "mean       26.366506      15.691103       9.231909            42.769452   \n",
       "std        40.967190      62.027173      91.521475           215.510160   \n",
       "min         0.001000       0.000000      -0.984000             0.680000   \n",
       "25%         7.490000       0.692000       0.020000             9.500000   \n",
       "50%        16.299999       3.088500       0.251000            19.050000   \n",
       "75%        29.770000      10.593000       0.589000            32.000000   \n",
       "max      1277.000000    4120.083000    1404.333000          4164.940000   \n",
       "\n",
       "       target_mean_price  target_high_price  \n",
       "count      294310.000000      294310.000000  \n",
       "mean           42.769452          61.148451  \n",
       "std           215.510160         306.290318  \n",
       "min             0.680000           0.750000  \n",
       "25%             9.500000          14.500000  \n",
       "50%            19.050000          26.000000  \n",
       "75%            32.000000          47.000000  \n",
       "max          4164.940000        6597.920000  "
      ]
     },
     "execution_count": 90,
     "metadata": {},
     "output_type": "execute_result"
    }
   ],
   "source": [
    "# Describe the Volume column to observe range\n",
    "df1.describe()"
   ]
  },
  {
   "cell_type": "code",
   "execution_count": 91,
   "id": "16e80874",
   "metadata": {},
   "outputs": [
    {
     "data": {
      "text/plain": [
       "Index(['Date', 'Open', 'High', 'Low', 'Close', 'Adj Close', 'Volume', 'TCKR',\n",
       "       'sector', 'industry', 'country', 'growth_rate', 'target_median_price',\n",
       "       'target_mean_price', 'target_high_price'],\n",
       "      dtype='object')"
      ]
     },
     "execution_count": 91,
     "metadata": {},
     "output_type": "execute_result"
    }
   ],
   "source": [
    "df1.columns"
   ]
  },
  {
   "cell_type": "markdown",
   "id": "429d06b4",
   "metadata": {},
   "source": [
    "Non-numeric columns = 'Date', 'TCKR', 'sector', 'industry', 'country'"
   ]
  },
  {
   "cell_type": "code",
   "execution_count": 92,
   "id": "e807c4c6",
   "metadata": {},
   "outputs": [
    {
     "data": {
      "text/html": [
       "<div>\n",
       "<style scoped>\n",
       "    .dataframe tbody tr th:only-of-type {\n",
       "        vertical-align: middle;\n",
       "    }\n",
       "\n",
       "    .dataframe tbody tr th {\n",
       "        vertical-align: top;\n",
       "    }\n",
       "\n",
       "    .dataframe thead th {\n",
       "        text-align: right;\n",
       "    }\n",
       "</style>\n",
       "<table border=\"1\" class=\"dataframe\">\n",
       "  <thead>\n",
       "    <tr style=\"text-align: right;\">\n",
       "      <th></th>\n",
       "      <th>Open</th>\n",
       "      <th>High</th>\n",
       "      <th>Low</th>\n",
       "      <th>Close</th>\n",
       "      <th>Adj Close</th>\n",
       "      <th>Volume</th>\n",
       "      <th>TCKR</th>\n",
       "      <th>sector</th>\n",
       "      <th>industry</th>\n",
       "      <th>country</th>\n",
       "      <th>growth_rate</th>\n",
       "      <th>target_median_price</th>\n",
       "      <th>target_mean_price</th>\n",
       "      <th>target_high_price</th>\n",
       "    </tr>\n",
       "  </thead>\n",
       "  <tbody>\n",
       "    <tr>\n",
       "      <th>0</th>\n",
       "      <td>11.000</td>\n",
       "      <td>11.96</td>\n",
       "      <td>10.50</td>\n",
       "      <td>10.70</td>\n",
       "      <td>10.70</td>\n",
       "      <td>89400.0</td>\n",
       "      <td>INDO</td>\n",
       "      <td>Energy</td>\n",
       "      <td>Oil &amp; Gas E&amp;P</td>\n",
       "      <td>Indonesia</td>\n",
       "      <td>1.206</td>\n",
       "      <td>15.0</td>\n",
       "      <td>15.0</td>\n",
       "      <td>15.0</td>\n",
       "    </tr>\n",
       "    <tr>\n",
       "      <th>1</th>\n",
       "      <td>10.808</td>\n",
       "      <td>12.49</td>\n",
       "      <td>9.25</td>\n",
       "      <td>9.65</td>\n",
       "      <td>9.65</td>\n",
       "      <td>503000.0</td>\n",
       "      <td>INDO</td>\n",
       "      <td>Energy</td>\n",
       "      <td>Oil &amp; Gas E&amp;P</td>\n",
       "      <td>Indonesia</td>\n",
       "      <td>1.206</td>\n",
       "      <td>15.0</td>\n",
       "      <td>15.0</td>\n",
       "      <td>15.0</td>\n",
       "    </tr>\n",
       "    <tr>\n",
       "      <th>2</th>\n",
       "      <td>8.790</td>\n",
       "      <td>8.79</td>\n",
       "      <td>7.25</td>\n",
       "      <td>7.81</td>\n",
       "      <td>7.81</td>\n",
       "      <td>117400.0</td>\n",
       "      <td>INDO</td>\n",
       "      <td>Energy</td>\n",
       "      <td>Oil &amp; Gas E&amp;P</td>\n",
       "      <td>Indonesia</td>\n",
       "      <td>1.206</td>\n",
       "      <td>15.0</td>\n",
       "      <td>15.0</td>\n",
       "      <td>15.0</td>\n",
       "    </tr>\n",
       "    <tr>\n",
       "      <th>3</th>\n",
       "      <td>7.500</td>\n",
       "      <td>7.64</td>\n",
       "      <td>6.00</td>\n",
       "      <td>6.41</td>\n",
       "      <td>6.41</td>\n",
       "      <td>102800.0</td>\n",
       "      <td>INDO</td>\n",
       "      <td>Energy</td>\n",
       "      <td>Oil &amp; Gas E&amp;P</td>\n",
       "      <td>Indonesia</td>\n",
       "      <td>1.206</td>\n",
       "      <td>15.0</td>\n",
       "      <td>15.0</td>\n",
       "      <td>15.0</td>\n",
       "    </tr>\n",
       "    <tr>\n",
       "      <th>4</th>\n",
       "      <td>6.420</td>\n",
       "      <td>7.72</td>\n",
       "      <td>6.42</td>\n",
       "      <td>7.41</td>\n",
       "      <td>7.41</td>\n",
       "      <td>78400.0</td>\n",
       "      <td>INDO</td>\n",
       "      <td>Energy</td>\n",
       "      <td>Oil &amp; Gas E&amp;P</td>\n",
       "      <td>Indonesia</td>\n",
       "      <td>1.206</td>\n",
       "      <td>15.0</td>\n",
       "      <td>15.0</td>\n",
       "      <td>15.0</td>\n",
       "    </tr>\n",
       "  </tbody>\n",
       "</table>\n",
       "</div>"
      ],
      "text/plain": [
       "     Open   High    Low  Close  Adj Close    Volume  TCKR  sector  \\\n",
       "0  11.000  11.96  10.50  10.70      10.70   89400.0  INDO  Energy   \n",
       "1  10.808  12.49   9.25   9.65       9.65  503000.0  INDO  Energy   \n",
       "2   8.790   8.79   7.25   7.81       7.81  117400.0  INDO  Energy   \n",
       "3   7.500   7.64   6.00   6.41       6.41  102800.0  INDO  Energy   \n",
       "4   6.420   7.72   6.42   7.41       7.41   78400.0  INDO  Energy   \n",
       "\n",
       "        industry    country  growth_rate  target_median_price  \\\n",
       "0  Oil & Gas E&P  Indonesia        1.206                 15.0   \n",
       "1  Oil & Gas E&P  Indonesia        1.206                 15.0   \n",
       "2  Oil & Gas E&P  Indonesia        1.206                 15.0   \n",
       "3  Oil & Gas E&P  Indonesia        1.206                 15.0   \n",
       "4  Oil & Gas E&P  Indonesia        1.206                 15.0   \n",
       "\n",
       "   target_mean_price  target_high_price  \n",
       "0               15.0               15.0  \n",
       "1               15.0               15.0  \n",
       "2               15.0               15.0  \n",
       "3               15.0               15.0  \n",
       "4               15.0               15.0  "
      ]
     },
     "execution_count": 92,
     "metadata": {},
     "output_type": "execute_result"
    }
   ],
   "source": [
    "# Drop the Date column\n",
    "df1 = project_df.drop(labels='Date', axis=1)\n",
    "df1.head()"
   ]
  },
  {
   "cell_type": "code",
   "execution_count": 93,
   "id": "53de2f00",
   "metadata": {},
   "outputs": [
    {
     "data": {
      "text/html": [
       "<div>\n",
       "<style scoped>\n",
       "    .dataframe tbody tr th:only-of-type {\n",
       "        vertical-align: middle;\n",
       "    }\n",
       "\n",
       "    .dataframe tbody tr th {\n",
       "        vertical-align: top;\n",
       "    }\n",
       "\n",
       "    .dataframe thead th {\n",
       "        text-align: right;\n",
       "    }\n",
       "</style>\n",
       "<table border=\"1\" class=\"dataframe\">\n",
       "  <thead>\n",
       "    <tr style=\"text-align: right;\">\n",
       "      <th></th>\n",
       "      <th>Open</th>\n",
       "      <th>High</th>\n",
       "      <th>Low</th>\n",
       "      <th>Close</th>\n",
       "      <th>Adj Close</th>\n",
       "      <th>Volume</th>\n",
       "      <th>TCKR</th>\n",
       "      <th>sector</th>\n",
       "      <th>industry</th>\n",
       "      <th>country</th>\n",
       "      <th>growth_rate</th>\n",
       "      <th>target_median_price</th>\n",
       "      <th>target_mean_price</th>\n",
       "      <th>target_high_price</th>\n",
       "    </tr>\n",
       "  </thead>\n",
       "  <tbody>\n",
       "    <tr>\n",
       "      <th>0</th>\n",
       "      <td>11.000</td>\n",
       "      <td>11.96</td>\n",
       "      <td>10.50</td>\n",
       "      <td>10.70</td>\n",
       "      <td>10.70</td>\n",
       "      <td>89400.0</td>\n",
       "      <td>242</td>\n",
       "      <td>4</td>\n",
       "      <td>59</td>\n",
       "      <td>10</td>\n",
       "      <td>1.206</td>\n",
       "      <td>15.0</td>\n",
       "      <td>15.0</td>\n",
       "      <td>15.0</td>\n",
       "    </tr>\n",
       "    <tr>\n",
       "      <th>1</th>\n",
       "      <td>10.808</td>\n",
       "      <td>12.49</td>\n",
       "      <td>9.25</td>\n",
       "      <td>9.65</td>\n",
       "      <td>9.65</td>\n",
       "      <td>503000.0</td>\n",
       "      <td>242</td>\n",
       "      <td>4</td>\n",
       "      <td>59</td>\n",
       "      <td>10</td>\n",
       "      <td>1.206</td>\n",
       "      <td>15.0</td>\n",
       "      <td>15.0</td>\n",
       "      <td>15.0</td>\n",
       "    </tr>\n",
       "    <tr>\n",
       "      <th>2</th>\n",
       "      <td>8.790</td>\n",
       "      <td>8.79</td>\n",
       "      <td>7.25</td>\n",
       "      <td>7.81</td>\n",
       "      <td>7.81</td>\n",
       "      <td>117400.0</td>\n",
       "      <td>242</td>\n",
       "      <td>4</td>\n",
       "      <td>59</td>\n",
       "      <td>10</td>\n",
       "      <td>1.206</td>\n",
       "      <td>15.0</td>\n",
       "      <td>15.0</td>\n",
       "      <td>15.0</td>\n",
       "    </tr>\n",
       "    <tr>\n",
       "      <th>3</th>\n",
       "      <td>7.500</td>\n",
       "      <td>7.64</td>\n",
       "      <td>6.00</td>\n",
       "      <td>6.41</td>\n",
       "      <td>6.41</td>\n",
       "      <td>102800.0</td>\n",
       "      <td>242</td>\n",
       "      <td>4</td>\n",
       "      <td>59</td>\n",
       "      <td>10</td>\n",
       "      <td>1.206</td>\n",
       "      <td>15.0</td>\n",
       "      <td>15.0</td>\n",
       "      <td>15.0</td>\n",
       "    </tr>\n",
       "    <tr>\n",
       "      <th>4</th>\n",
       "      <td>6.420</td>\n",
       "      <td>7.72</td>\n",
       "      <td>6.42</td>\n",
       "      <td>7.41</td>\n",
       "      <td>7.41</td>\n",
       "      <td>78400.0</td>\n",
       "      <td>242</td>\n",
       "      <td>4</td>\n",
       "      <td>59</td>\n",
       "      <td>10</td>\n",
       "      <td>1.206</td>\n",
       "      <td>15.0</td>\n",
       "      <td>15.0</td>\n",
       "      <td>15.0</td>\n",
       "    </tr>\n",
       "  </tbody>\n",
       "</table>\n",
       "</div>"
      ],
      "text/plain": [
       "     Open   High    Low  Close  Adj Close    Volume  TCKR  sector  industry  \\\n",
       "0  11.000  11.96  10.50  10.70      10.70   89400.0   242       4        59   \n",
       "1  10.808  12.49   9.25   9.65       9.65  503000.0   242       4        59   \n",
       "2   8.790   8.79   7.25   7.81       7.81  117400.0   242       4        59   \n",
       "3   7.500   7.64   6.00   6.41       6.41  102800.0   242       4        59   \n",
       "4   6.420   7.72   6.42   7.41       7.41   78400.0   242       4        59   \n",
       "\n",
       "   country  growth_rate  target_median_price  target_mean_price  \\\n",
       "0       10        1.206                 15.0               15.0   \n",
       "1       10        1.206                 15.0               15.0   \n",
       "2       10        1.206                 15.0               15.0   \n",
       "3       10        1.206                 15.0               15.0   \n",
       "4       10        1.206                 15.0               15.0   \n",
       "\n",
       "   target_high_price  \n",
       "0               15.0  \n",
       "1               15.0  \n",
       "2               15.0  \n",
       "3               15.0  \n",
       "4               15.0  "
      ]
     },
     "execution_count": 93,
     "metadata": {},
     "output_type": "execute_result"
    }
   ],
   "source": [
    "# Label Encode non-numeric columns\n",
    "from sklearn.preprocessing import LabelEncoder\n",
    "le = LabelEncoder()\n",
    "df1['TCKR'] = le.fit_transform(df1['TCKR'])\n",
    "df1['sector'] = le.fit_transform(df1['sector'])\n",
    "df1['industry'] = le.fit_transform(df1['industry'])\n",
    "df1['country'] = le.fit_transform(df1['country'])\n",
    "df1.head()"
   ]
  },
  {
   "cell_type": "code",
   "execution_count": 94,
   "id": "ca19117b",
   "metadata": {},
   "outputs": [
    {
     "data": {
      "text/html": [
       "<div>\n",
       "<style scoped>\n",
       "    .dataframe tbody tr th:only-of-type {\n",
       "        vertical-align: middle;\n",
       "    }\n",
       "\n",
       "    .dataframe tbody tr th {\n",
       "        vertical-align: top;\n",
       "    }\n",
       "\n",
       "    .dataframe thead th {\n",
       "        text-align: right;\n",
       "    }\n",
       "</style>\n",
       "<table border=\"1\" class=\"dataframe\">\n",
       "  <thead>\n",
       "    <tr style=\"text-align: right;\">\n",
       "      <th></th>\n",
       "      <th>Open</th>\n",
       "      <th>High</th>\n",
       "      <th>Low</th>\n",
       "      <th>Close</th>\n",
       "      <th>Adj Close</th>\n",
       "      <th>Volume</th>\n",
       "      <th>TCKR</th>\n",
       "      <th>sector</th>\n",
       "      <th>industry</th>\n",
       "      <th>country</th>\n",
       "      <th>growth_rate</th>\n",
       "      <th>target_median_price</th>\n",
       "      <th>target_mean_price</th>\n",
       "      <th>target_high_price</th>\n",
       "    </tr>\n",
       "  </thead>\n",
       "  <tbody>\n",
       "    <tr>\n",
       "      <th>count</th>\n",
       "      <td>294310.000000</td>\n",
       "      <td>294310.000000</td>\n",
       "      <td>294310.000000</td>\n",
       "      <td>294310.000000</td>\n",
       "      <td>294310.000000</td>\n",
       "      <td>2.943100e+05</td>\n",
       "      <td>294310.000000</td>\n",
       "      <td>294310.000000</td>\n",
       "      <td>294310.000000</td>\n",
       "      <td>294310.000000</td>\n",
       "      <td>294310.000000</td>\n",
       "      <td>294310.000000</td>\n",
       "      <td>294310.000000</td>\n",
       "      <td>294310.000000</td>\n",
       "    </tr>\n",
       "    <tr>\n",
       "      <th>mean</th>\n",
       "      <td>26.583393</td>\n",
       "      <td>27.382844</td>\n",
       "      <td>25.748342</td>\n",
       "      <td>26.540951</td>\n",
       "      <td>26.366506</td>\n",
       "      <td>1.569110e+06</td>\n",
       "      <td>266.094370</td>\n",
       "      <td>5.755635</td>\n",
       "      <td>44.165771</td>\n",
       "      <td>21.495478</td>\n",
       "      <td>9.231909</td>\n",
       "      <td>42.769452</td>\n",
       "      <td>42.769452</td>\n",
       "      <td>61.148451</td>\n",
       "    </tr>\n",
       "    <tr>\n",
       "      <th>std</th>\n",
       "      <td>41.118378</td>\n",
       "      <td>42.496060</td>\n",
       "      <td>39.734576</td>\n",
       "      <td>40.961183</td>\n",
       "      <td>40.967190</td>\n",
       "      <td>6.202717e+06</td>\n",
       "      <td>156.391223</td>\n",
       "      <td>2.569531</td>\n",
       "      <td>27.029823</td>\n",
       "      <td>8.386829</td>\n",
       "      <td>91.521475</td>\n",
       "      <td>215.510160</td>\n",
       "      <td>215.510160</td>\n",
       "      <td>306.290318</td>\n",
       "    </tr>\n",
       "    <tr>\n",
       "      <th>min</th>\n",
       "      <td>0.001000</td>\n",
       "      <td>0.001000</td>\n",
       "      <td>0.001000</td>\n",
       "      <td>0.001000</td>\n",
       "      <td>0.001000</td>\n",
       "      <td>0.000000e+00</td>\n",
       "      <td>0.000000</td>\n",
       "      <td>0.000000</td>\n",
       "      <td>0.000000</td>\n",
       "      <td>0.000000</td>\n",
       "      <td>-0.984000</td>\n",
       "      <td>0.680000</td>\n",
       "      <td>0.680000</td>\n",
       "      <td>0.750000</td>\n",
       "    </tr>\n",
       "    <tr>\n",
       "      <th>25%</th>\n",
       "      <td>7.730000</td>\n",
       "      <td>8.000000</td>\n",
       "      <td>7.477250</td>\n",
       "      <td>7.710000</td>\n",
       "      <td>7.490000</td>\n",
       "      <td>6.920000e+04</td>\n",
       "      <td>134.000000</td>\n",
       "      <td>5.000000</td>\n",
       "      <td>14.000000</td>\n",
       "      <td>25.000000</td>\n",
       "      <td>0.020000</td>\n",
       "      <td>9.500000</td>\n",
       "      <td>9.500000</td>\n",
       "      <td>14.500000</td>\n",
       "    </tr>\n",
       "    <tr>\n",
       "      <th>50%</th>\n",
       "      <td>16.670000</td>\n",
       "      <td>17.139999</td>\n",
       "      <td>16.160000</td>\n",
       "      <td>16.639999</td>\n",
       "      <td>16.299999</td>\n",
       "      <td>3.088500e+05</td>\n",
       "      <td>263.000000</td>\n",
       "      <td>6.000000</td>\n",
       "      <td>48.000000</td>\n",
       "      <td>26.000000</td>\n",
       "      <td>0.251000</td>\n",
       "      <td>19.050000</td>\n",
       "      <td>19.050000</td>\n",
       "      <td>26.000000</td>\n",
       "    </tr>\n",
       "    <tr>\n",
       "      <th>75%</th>\n",
       "      <td>30.000000</td>\n",
       "      <td>30.879999</td>\n",
       "      <td>29.118751</td>\n",
       "      <td>29.990000</td>\n",
       "      <td>29.770000</td>\n",
       "      <td>1.059300e+06</td>\n",
       "      <td>397.000000</td>\n",
       "      <td>9.000000</td>\n",
       "      <td>76.000000</td>\n",
       "      <td>26.000000</td>\n",
       "      <td>0.589000</td>\n",
       "      <td>32.000000</td>\n",
       "      <td>32.000000</td>\n",
       "      <td>47.000000</td>\n",
       "    </tr>\n",
       "    <tr>\n",
       "      <th>max</th>\n",
       "      <td>1531.000000</td>\n",
       "      <td>2299.000000</td>\n",
       "      <td>1227.000000</td>\n",
       "      <td>1277.000000</td>\n",
       "      <td>1277.000000</td>\n",
       "      <td>4.120083e+08</td>\n",
       "      <td>546.000000</td>\n",
       "      <td>10.000000</td>\n",
       "      <td>92.000000</td>\n",
       "      <td>27.000000</td>\n",
       "      <td>1404.333000</td>\n",
       "      <td>4164.940000</td>\n",
       "      <td>4164.940000</td>\n",
       "      <td>6597.920000</td>\n",
       "    </tr>\n",
       "  </tbody>\n",
       "</table>\n",
       "</div>"
      ],
      "text/plain": [
       "                Open           High            Low          Close  \\\n",
       "count  294310.000000  294310.000000  294310.000000  294310.000000   \n",
       "mean       26.583393      27.382844      25.748342      26.540951   \n",
       "std        41.118378      42.496060      39.734576      40.961183   \n",
       "min         0.001000       0.001000       0.001000       0.001000   \n",
       "25%         7.730000       8.000000       7.477250       7.710000   \n",
       "50%        16.670000      17.139999      16.160000      16.639999   \n",
       "75%        30.000000      30.879999      29.118751      29.990000   \n",
       "max      1531.000000    2299.000000    1227.000000    1277.000000   \n",
       "\n",
       "           Adj Close        Volume           TCKR         sector  \\\n",
       "count  294310.000000  2.943100e+05  294310.000000  294310.000000   \n",
       "mean       26.366506  1.569110e+06     266.094370       5.755635   \n",
       "std        40.967190  6.202717e+06     156.391223       2.569531   \n",
       "min         0.001000  0.000000e+00       0.000000       0.000000   \n",
       "25%         7.490000  6.920000e+04     134.000000       5.000000   \n",
       "50%        16.299999  3.088500e+05     263.000000       6.000000   \n",
       "75%        29.770000  1.059300e+06     397.000000       9.000000   \n",
       "max      1277.000000  4.120083e+08     546.000000      10.000000   \n",
       "\n",
       "            industry        country    growth_rate  target_median_price  \\\n",
       "count  294310.000000  294310.000000  294310.000000        294310.000000   \n",
       "mean       44.165771      21.495478       9.231909            42.769452   \n",
       "std        27.029823       8.386829      91.521475           215.510160   \n",
       "min         0.000000       0.000000      -0.984000             0.680000   \n",
       "25%        14.000000      25.000000       0.020000             9.500000   \n",
       "50%        48.000000      26.000000       0.251000            19.050000   \n",
       "75%        76.000000      26.000000       0.589000            32.000000   \n",
       "max        92.000000      27.000000    1404.333000          4164.940000   \n",
       "\n",
       "       target_mean_price  target_high_price  \n",
       "count      294310.000000      294310.000000  \n",
       "mean           42.769452          61.148451  \n",
       "std           215.510160         306.290318  \n",
       "min             0.680000           0.750000  \n",
       "25%             9.500000          14.500000  \n",
       "50%            19.050000          26.000000  \n",
       "75%            32.000000          47.000000  \n",
       "max          4164.940000        6597.920000  "
      ]
     },
     "execution_count": 94,
     "metadata": {},
     "output_type": "execute_result"
    }
   ],
   "source": [
    "# Describe transformed dataframe\n",
    "df1.describe()"
   ]
  },
  {
   "cell_type": "code",
   "execution_count": 95,
   "id": "64087477",
   "metadata": {},
   "outputs": [
    {
     "data": {
      "text/html": [
       "<div>\n",
       "<style scoped>\n",
       "    .dataframe tbody tr th:only-of-type {\n",
       "        vertical-align: middle;\n",
       "    }\n",
       "\n",
       "    .dataframe tbody tr th {\n",
       "        vertical-align: top;\n",
       "    }\n",
       "\n",
       "    .dataframe thead th {\n",
       "        text-align: right;\n",
       "    }\n",
       "</style>\n",
       "<table border=\"1\" class=\"dataframe\">\n",
       "  <thead>\n",
       "    <tr style=\"text-align: right;\">\n",
       "      <th></th>\n",
       "      <th>sector</th>\n",
       "      <th>industry</th>\n",
       "      <th>country</th>\n",
       "      <th>growth_rate</th>\n",
       "      <th>target_median_price</th>\n",
       "      <th>target_mean_price</th>\n",
       "      <th>target_high_price</th>\n",
       "    </tr>\n",
       "  </thead>\n",
       "  <tbody>\n",
       "    <tr>\n",
       "      <th>0</th>\n",
       "      <td>4</td>\n",
       "      <td>59</td>\n",
       "      <td>10</td>\n",
       "      <td>1.206</td>\n",
       "      <td>15.0</td>\n",
       "      <td>15.0</td>\n",
       "      <td>15.0</td>\n",
       "    </tr>\n",
       "    <tr>\n",
       "      <th>1</th>\n",
       "      <td>4</td>\n",
       "      <td>59</td>\n",
       "      <td>10</td>\n",
       "      <td>1.206</td>\n",
       "      <td>15.0</td>\n",
       "      <td>15.0</td>\n",
       "      <td>15.0</td>\n",
       "    </tr>\n",
       "    <tr>\n",
       "      <th>2</th>\n",
       "      <td>4</td>\n",
       "      <td>59</td>\n",
       "      <td>10</td>\n",
       "      <td>1.206</td>\n",
       "      <td>15.0</td>\n",
       "      <td>15.0</td>\n",
       "      <td>15.0</td>\n",
       "    </tr>\n",
       "    <tr>\n",
       "      <th>3</th>\n",
       "      <td>4</td>\n",
       "      <td>59</td>\n",
       "      <td>10</td>\n",
       "      <td>1.206</td>\n",
       "      <td>15.0</td>\n",
       "      <td>15.0</td>\n",
       "      <td>15.0</td>\n",
       "    </tr>\n",
       "    <tr>\n",
       "      <th>4</th>\n",
       "      <td>4</td>\n",
       "      <td>59</td>\n",
       "      <td>10</td>\n",
       "      <td>1.206</td>\n",
       "      <td>15.0</td>\n",
       "      <td>15.0</td>\n",
       "      <td>15.0</td>\n",
       "    </tr>\n",
       "  </tbody>\n",
       "</table>\n",
       "</div>"
      ],
      "text/plain": [
       "   sector  industry  country  growth_rate  target_median_price  \\\n",
       "0       4        59       10        1.206                 15.0   \n",
       "1       4        59       10        1.206                 15.0   \n",
       "2       4        59       10        1.206                 15.0   \n",
       "3       4        59       10        1.206                 15.0   \n",
       "4       4        59       10        1.206                 15.0   \n",
       "\n",
       "   target_mean_price  target_high_price  \n",
       "0               15.0               15.0  \n",
       "1               15.0               15.0  \n",
       "2               15.0               15.0  \n",
       "3               15.0               15.0  \n",
       "4               15.0               15.0  "
      ]
     },
     "execution_count": 95,
     "metadata": {},
     "output_type": "execute_result"
    }
   ],
   "source": [
    "# Drop the stock data columns\n",
    "df1 = df1.drop(labels=['Open', 'High', 'Low', 'Close', 'Adj Close', 'Volume', 'TCKR'], axis=1)\n",
    "df1.head()"
   ]
  },
  {
   "cell_type": "code",
   "execution_count": 96,
   "id": "8552d5d7",
   "metadata": {},
   "outputs": [
    {
     "data": {
      "text/html": [
       "<div>\n",
       "<style scoped>\n",
       "    .dataframe tbody tr th:only-of-type {\n",
       "        vertical-align: middle;\n",
       "    }\n",
       "\n",
       "    .dataframe tbody tr th {\n",
       "        vertical-align: top;\n",
       "    }\n",
       "\n",
       "    .dataframe thead th {\n",
       "        text-align: right;\n",
       "    }\n",
       "</style>\n",
       "<table border=\"1\" class=\"dataframe\">\n",
       "  <thead>\n",
       "    <tr style=\"text-align: right;\">\n",
       "      <th></th>\n",
       "      <th>sector</th>\n",
       "      <th>industry</th>\n",
       "      <th>country</th>\n",
       "      <th>growth_rate</th>\n",
       "      <th>target_median_price</th>\n",
       "      <th>target_mean_price</th>\n",
       "      <th>target_high_price</th>\n",
       "    </tr>\n",
       "  </thead>\n",
       "  <tbody>\n",
       "    <tr>\n",
       "      <th>0</th>\n",
       "      <td>4</td>\n",
       "      <td>59</td>\n",
       "      <td>10</td>\n",
       "      <td>1.206</td>\n",
       "      <td>15.0</td>\n",
       "      <td>15.0</td>\n",
       "      <td>15.0</td>\n",
       "    </tr>\n",
       "    <tr>\n",
       "      <th>1</th>\n",
       "      <td>4</td>\n",
       "      <td>59</td>\n",
       "      <td>10</td>\n",
       "      <td>1.206</td>\n",
       "      <td>15.0</td>\n",
       "      <td>15.0</td>\n",
       "      <td>15.0</td>\n",
       "    </tr>\n",
       "    <tr>\n",
       "      <th>2</th>\n",
       "      <td>4</td>\n",
       "      <td>59</td>\n",
       "      <td>10</td>\n",
       "      <td>1.206</td>\n",
       "      <td>15.0</td>\n",
       "      <td>15.0</td>\n",
       "      <td>15.0</td>\n",
       "    </tr>\n",
       "    <tr>\n",
       "      <th>3</th>\n",
       "      <td>4</td>\n",
       "      <td>59</td>\n",
       "      <td>10</td>\n",
       "      <td>1.206</td>\n",
       "      <td>15.0</td>\n",
       "      <td>15.0</td>\n",
       "      <td>15.0</td>\n",
       "    </tr>\n",
       "    <tr>\n",
       "      <th>4</th>\n",
       "      <td>4</td>\n",
       "      <td>59</td>\n",
       "      <td>10</td>\n",
       "      <td>1.206</td>\n",
       "      <td>15.0</td>\n",
       "      <td>15.0</td>\n",
       "      <td>15.0</td>\n",
       "    </tr>\n",
       "    <tr>\n",
       "      <th>...</th>\n",
       "      <td>...</td>\n",
       "      <td>...</td>\n",
       "      <td>...</td>\n",
       "      <td>...</td>\n",
       "      <td>...</td>\n",
       "      <td>...</td>\n",
       "      <td>...</td>\n",
       "    </tr>\n",
       "    <tr>\n",
       "      <th>294305</th>\n",
       "      <td>2</td>\n",
       "      <td>49</td>\n",
       "      <td>26</td>\n",
       "      <td>0.325</td>\n",
       "      <td>7.0</td>\n",
       "      <td>7.0</td>\n",
       "      <td>7.0</td>\n",
       "    </tr>\n",
       "    <tr>\n",
       "      <th>294306</th>\n",
       "      <td>2</td>\n",
       "      <td>49</td>\n",
       "      <td>26</td>\n",
       "      <td>0.325</td>\n",
       "      <td>7.0</td>\n",
       "      <td>7.0</td>\n",
       "      <td>7.0</td>\n",
       "    </tr>\n",
       "    <tr>\n",
       "      <th>294307</th>\n",
       "      <td>2</td>\n",
       "      <td>49</td>\n",
       "      <td>26</td>\n",
       "      <td>0.325</td>\n",
       "      <td>7.0</td>\n",
       "      <td>7.0</td>\n",
       "      <td>7.0</td>\n",
       "    </tr>\n",
       "    <tr>\n",
       "      <th>294308</th>\n",
       "      <td>2</td>\n",
       "      <td>49</td>\n",
       "      <td>26</td>\n",
       "      <td>0.325</td>\n",
       "      <td>7.0</td>\n",
       "      <td>7.0</td>\n",
       "      <td>7.0</td>\n",
       "    </tr>\n",
       "    <tr>\n",
       "      <th>294309</th>\n",
       "      <td>2</td>\n",
       "      <td>49</td>\n",
       "      <td>26</td>\n",
       "      <td>0.325</td>\n",
       "      <td>7.0</td>\n",
       "      <td>7.0</td>\n",
       "      <td>7.0</td>\n",
       "    </tr>\n",
       "  </tbody>\n",
       "</table>\n",
       "<p>294310 rows × 7 columns</p>\n",
       "</div>"
      ],
      "text/plain": [
       "        sector  industry  country  growth_rate  target_median_price  \\\n",
       "0            4        59       10        1.206                 15.0   \n",
       "1            4        59       10        1.206                 15.0   \n",
       "2            4        59       10        1.206                 15.0   \n",
       "3            4        59       10        1.206                 15.0   \n",
       "4            4        59       10        1.206                 15.0   \n",
       "...        ...       ...      ...          ...                  ...   \n",
       "294305       2        49       26        0.325                  7.0   \n",
       "294306       2        49       26        0.325                  7.0   \n",
       "294307       2        49       26        0.325                  7.0   \n",
       "294308       2        49       26        0.325                  7.0   \n",
       "294309       2        49       26        0.325                  7.0   \n",
       "\n",
       "        target_mean_price  target_high_price  \n",
       "0                    15.0               15.0  \n",
       "1                    15.0               15.0  \n",
       "2                    15.0               15.0  \n",
       "3                    15.0               15.0  \n",
       "4                    15.0               15.0  \n",
       "...                   ...                ...  \n",
       "294305                7.0                7.0  \n",
       "294306                7.0                7.0  \n",
       "294307                7.0                7.0  \n",
       "294308                7.0                7.0  \n",
       "294309                7.0                7.0  \n",
       "\n",
       "[294310 rows x 7 columns]"
      ]
     },
     "execution_count": 96,
     "metadata": {},
     "output_type": "execute_result"
    }
   ],
   "source": [
    "df1"
   ]
  },
  {
   "cell_type": "code",
   "execution_count": 97,
   "id": "120d3e64",
   "metadata": {},
   "outputs": [
    {
     "data": {
      "text/plain": [
       "293763"
      ]
     },
     "execution_count": 97,
     "metadata": {},
     "output_type": "execute_result"
    }
   ],
   "source": [
    "# Find duplicate entries\n",
    "df1.duplicated().sum()"
   ]
  },
  {
   "cell_type": "code",
   "execution_count": 98,
   "id": "c6c4906c",
   "metadata": {},
   "outputs": [
    {
     "data": {
      "text/html": [
       "<div>\n",
       "<style scoped>\n",
       "    .dataframe tbody tr th:only-of-type {\n",
       "        vertical-align: middle;\n",
       "    }\n",
       "\n",
       "    .dataframe tbody tr th {\n",
       "        vertical-align: top;\n",
       "    }\n",
       "\n",
       "    .dataframe thead th {\n",
       "        text-align: right;\n",
       "    }\n",
       "</style>\n",
       "<table border=\"1\" class=\"dataframe\">\n",
       "  <thead>\n",
       "    <tr style=\"text-align: right;\">\n",
       "      <th></th>\n",
       "      <th>sector</th>\n",
       "      <th>industry</th>\n",
       "      <th>country</th>\n",
       "      <th>growth_rate</th>\n",
       "      <th>target_median_price</th>\n",
       "      <th>target_mean_price</th>\n",
       "      <th>target_high_price</th>\n",
       "    </tr>\n",
       "  </thead>\n",
       "  <tbody>\n",
       "    <tr>\n",
       "      <th>0</th>\n",
       "      <td>4</td>\n",
       "      <td>59</td>\n",
       "      <td>10</td>\n",
       "      <td>1.206</td>\n",
       "      <td>15.00</td>\n",
       "      <td>15.00</td>\n",
       "      <td>15.0</td>\n",
       "    </tr>\n",
       "    <tr>\n",
       "      <th>726</th>\n",
       "      <td>9</td>\n",
       "      <td>76</td>\n",
       "      <td>5</td>\n",
       "      <td>0.172</td>\n",
       "      <td>1.59</td>\n",
       "      <td>1.59</td>\n",
       "      <td>2.5</td>\n",
       "    </tr>\n",
       "    <tr>\n",
       "      <th>1456</th>\n",
       "      <td>9</td>\n",
       "      <td>76</td>\n",
       "      <td>26</td>\n",
       "      <td>0.375</td>\n",
       "      <td>75.00</td>\n",
       "      <td>75.00</td>\n",
       "      <td>100.0</td>\n",
       "    </tr>\n",
       "    <tr>\n",
       "      <th>2186</th>\n",
       "      <td>9</td>\n",
       "      <td>76</td>\n",
       "      <td>26</td>\n",
       "      <td>1.558</td>\n",
       "      <td>205.00</td>\n",
       "      <td>205.00</td>\n",
       "      <td>300.0</td>\n",
       "    </tr>\n",
       "    <tr>\n",
       "      <th>2917</th>\n",
       "      <td>7</td>\n",
       "      <td>1</td>\n",
       "      <td>5</td>\n",
       "      <td>0.202</td>\n",
       "      <td>4.00</td>\n",
       "      <td>4.00</td>\n",
       "      <td>4.0</td>\n",
       "    </tr>\n",
       "    <tr>\n",
       "      <th>...</th>\n",
       "      <td>...</td>\n",
       "      <td>...</td>\n",
       "      <td>...</td>\n",
       "      <td>...</td>\n",
       "      <td>...</td>\n",
       "      <td>...</td>\n",
       "      <td>...</td>\n",
       "    </tr>\n",
       "    <tr>\n",
       "      <th>293317</th>\n",
       "      <td>6</td>\n",
       "      <td>12</td>\n",
       "      <td>25</td>\n",
       "      <td>0.000</td>\n",
       "      <td>5.00</td>\n",
       "      <td>5.00</td>\n",
       "      <td>5.0</td>\n",
       "    </tr>\n",
       "    <tr>\n",
       "      <th>293502</th>\n",
       "      <td>9</td>\n",
       "      <td>17</td>\n",
       "      <td>26</td>\n",
       "      <td>0.900</td>\n",
       "      <td>17.75</td>\n",
       "      <td>17.75</td>\n",
       "      <td>20.0</td>\n",
       "    </tr>\n",
       "    <tr>\n",
       "      <th>293698</th>\n",
       "      <td>2</td>\n",
       "      <td>35</td>\n",
       "      <td>26</td>\n",
       "      <td>0.198</td>\n",
       "      <td>6.00</td>\n",
       "      <td>6.00</td>\n",
       "      <td>6.0</td>\n",
       "    </tr>\n",
       "    <tr>\n",
       "      <th>293896</th>\n",
       "      <td>5</td>\n",
       "      <td>5</td>\n",
       "      <td>26</td>\n",
       "      <td>-0.078</td>\n",
       "      <td>29.00</td>\n",
       "      <td>29.00</td>\n",
       "      <td>39.0</td>\n",
       "    </tr>\n",
       "    <tr>\n",
       "      <th>294101</th>\n",
       "      <td>2</td>\n",
       "      <td>49</td>\n",
       "      <td>26</td>\n",
       "      <td>0.325</td>\n",
       "      <td>7.00</td>\n",
       "      <td>7.00</td>\n",
       "      <td>7.0</td>\n",
       "    </tr>\n",
       "  </tbody>\n",
       "</table>\n",
       "<p>547 rows × 7 columns</p>\n",
       "</div>"
      ],
      "text/plain": [
       "        sector  industry  country  growth_rate  target_median_price  \\\n",
       "0            4        59       10        1.206                15.00   \n",
       "726          9        76        5        0.172                 1.59   \n",
       "1456         9        76       26        0.375                75.00   \n",
       "2186         9        76       26        1.558               205.00   \n",
       "2917         7         1        5        0.202                 4.00   \n",
       "...        ...       ...      ...          ...                  ...   \n",
       "293317       6        12       25        0.000                 5.00   \n",
       "293502       9        17       26        0.900                17.75   \n",
       "293698       2        35       26        0.198                 6.00   \n",
       "293896       5         5       26       -0.078                29.00   \n",
       "294101       2        49       26        0.325                 7.00   \n",
       "\n",
       "        target_mean_price  target_high_price  \n",
       "0                   15.00               15.0  \n",
       "726                  1.59                2.5  \n",
       "1456                75.00              100.0  \n",
       "2186               205.00              300.0  \n",
       "2917                 4.00                4.0  \n",
       "...                   ...                ...  \n",
       "293317               5.00                5.0  \n",
       "293502              17.75               20.0  \n",
       "293698               6.00                6.0  \n",
       "293896              29.00               39.0  \n",
       "294101               7.00                7.0  \n",
       "\n",
       "[547 rows x 7 columns]"
      ]
     },
     "execution_count": 98,
     "metadata": {},
     "output_type": "execute_result"
    }
   ],
   "source": [
    "# Drop duplicates\n",
    "df1 = df1.drop_duplicates()\n",
    "df1"
   ]
  },
  {
   "cell_type": "markdown",
   "id": "df1f6eb1",
   "metadata": {},
   "source": [
    "### K-mean Algorithm"
   ]
  },
  {
   "cell_type": "code",
   "execution_count": 99,
   "id": "515beb85",
   "metadata": {},
   "outputs": [],
   "source": [
    "# Import dependencies\n",
    "import plotly.express as px\n",
    "import hvplot.pandas\n",
    "from sklearn.cluster import KMeans"
   ]
  },
  {
   "cell_type": "code",
   "execution_count": 100,
   "id": "54692253",
   "metadata": {},
   "outputs": [],
   "source": [
    "# Function to cluster and plot dataset\n",
    "def test_cluster_amount(df, clusters):\n",
    "    model = KMeans(n_clusters=clusters, random_state=5)\n",
    "    model\n",
    "\n",
    "    # Fitting model\n",
    "    model.fit(df)\n",
    "\n",
    "    # Add a new class column\n",
    "    df[\"class\"] = model.labels_"
   ]
  },
  {
   "cell_type": "code",
   "execution_count": 101,
   "id": "af96a290",
   "metadata": {},
   "outputs": [
    {
     "data": {},
     "metadata": {},
     "output_type": "display_data"
    },
    {
     "data": {
      "application/vnd.holoviews_exec.v0+json": "",
      "text/html": [
       "<div id='3424'>\n",
       "\n",
       "\n",
       "\n",
       "\n",
       "\n",
       "  <div class=\"bk-root\" id=\"648aa712-bb1c-4bee-91fc-25abb7f0b1c5\" data-root-id=\"3424\"></div>\n",
       "</div>\n",
       "<script type=\"application/javascript\">(function(root) {\n",
       "  function embed_document(root) {\n",
       "    var docs_json = {\"0c51c993-2e0e-4236-a3ed-10f8d340edb9\":{\"defs\":[{\"extends\":null,\"module\":null,\"name\":\"ReactiveHTML1\",\"overrides\":[],\"properties\":[]},{\"extends\":null,\"module\":null,\"name\":\"FlexBox1\",\"overrides\":[],\"properties\":[{\"default\":\"flex-start\",\"kind\":null,\"name\":\"align_content\"},{\"default\":\"flex-start\",\"kind\":null,\"name\":\"align_items\"},{\"default\":\"row\",\"kind\":null,\"name\":\"flex_direction\"},{\"default\":\"wrap\",\"kind\":null,\"name\":\"flex_wrap\"},{\"default\":\"flex-start\",\"kind\":null,\"name\":\"justify_content\"}]},{\"extends\":null,\"module\":null,\"name\":\"GridStack1\",\"overrides\":[],\"properties\":[{\"default\":\"warn\",\"kind\":null,\"name\":\"mode\"},{\"default\":null,\"kind\":null,\"name\":\"ncols\"},{\"default\":null,\"kind\":null,\"name\":\"nrows\"},{\"default\":true,\"kind\":null,\"name\":\"allow_resize\"},{\"default\":true,\"kind\":null,\"name\":\"allow_drag\"},{\"default\":[],\"kind\":null,\"name\":\"state\"}]},{\"extends\":null,\"module\":null,\"name\":\"click1\",\"overrides\":[],\"properties\":[{\"default\":\"\",\"kind\":null,\"name\":\"terminal_output\"},{\"default\":\"\",\"kind\":null,\"name\":\"debug_name\"},{\"default\":0,\"kind\":null,\"name\":\"clears\"}]},{\"extends\":null,\"module\":null,\"name\":\"TemplateActions1\",\"overrides\":[],\"properties\":[{\"default\":0,\"kind\":null,\"name\":\"open_modal\"},{\"default\":0,\"kind\":null,\"name\":\"close_modal\"}]},{\"extends\":null,\"module\":null,\"name\":\"MaterialTemplateActions1\",\"overrides\":[],\"properties\":[{\"default\":0,\"kind\":null,\"name\":\"open_modal\"},{\"default\":0,\"kind\":null,\"name\":\"close_modal\"}]}],\"roots\":{\"references\":[{\"attributes\":{\"margin\":[5,5,5,5],\"name\":\"HSpacer05808\",\"sizing_mode\":\"stretch_width\"},\"id\":\"3494\",\"type\":\"Spacer\"},{\"attributes\":{},\"id\":\"3450\",\"type\":\"ResetTool\"},{\"attributes\":{},\"id\":\"3434\",\"type\":\"LinearScale\"},{\"attributes\":{\"coordinates\":null,\"group\":null,\"text_color\":\"black\",\"text_font_size\":\"12pt\"},\"id\":\"3430\",\"type\":\"Title\"},{\"attributes\":{\"end\":10.428571428571429,\"reset_end\":10.428571428571429,\"reset_start\":-0.4285714285714286,\"start\":-0.4285714285714286,\"tags\":[[[\"sector\",\"sector\",null]]]},\"id\":\"3426\",\"type\":\"Range1d\"},{\"attributes\":{\"axis\":{\"id\":\"3438\"},\"coordinates\":null,\"grid_line_color\":null,\"group\":null,\"ticker\":null},\"id\":\"3441\",\"type\":\"Grid\"},{\"attributes\":{},\"id\":\"3473\",\"type\":\"AllLabels\"},{\"attributes\":{},\"id\":\"3469\",\"type\":\"BasicTickFormatter\"},{\"attributes\":{\"overlay\":{\"id\":\"3451\"}},\"id\":\"3449\",\"type\":\"BoxZoomTool\"},{\"attributes\":{\"tools\":[{\"id\":\"3428\"},{\"id\":\"3446\"},{\"id\":\"3447\"},{\"id\":\"3448\"},{\"id\":\"3449\"},{\"id\":\"3450\"}]},\"id\":\"3452\",\"type\":\"Toolbar\"},{\"attributes\":{},\"id\":\"3436\",\"type\":\"LinearScale\"},{\"attributes\":{},\"id\":\"3443\",\"type\":\"BasicTicker\"},{\"attributes\":{\"bottom_units\":\"screen\",\"coordinates\":null,\"fill_alpha\":0.5,\"fill_color\":\"lightgrey\",\"group\":null,\"left_units\":\"screen\",\"level\":\"overlay\",\"line_alpha\":1.0,\"line_color\":\"black\",\"line_dash\":[4,4],\"line_width\":2,\"right_units\":\"screen\",\"syncable\":false,\"top_units\":\"screen\"},\"id\":\"3451\",\"type\":\"BoxAnnotation\"},{\"attributes\":{\"axis_label\":\"sector\",\"coordinates\":null,\"formatter\":{\"id\":\"3469\"},\"group\":null,\"major_label_policy\":{\"id\":\"3470\"},\"ticker\":{\"id\":\"3439\"}},\"id\":\"3438\",\"type\":\"LinearAxis\"},{\"attributes\":{\"below\":[{\"id\":\"3438\"}],\"center\":[{\"id\":\"3441\"},{\"id\":\"3445\"}],\"height\":300,\"left\":[{\"id\":\"3442\"}],\"margin\":[5,5,5,5],\"min_border_bottom\":10,\"min_border_left\":10,\"min_border_right\":10,\"min_border_top\":10,\"renderers\":[{\"id\":\"3465\"}],\"sizing_mode\":\"fixed\",\"title\":{\"id\":\"3430\"},\"toolbar\":{\"id\":\"3452\"},\"width\":700,\"x_range\":{\"id\":\"3426\"},\"x_scale\":{\"id\":\"3434\"},\"y_range\":{\"id\":\"3427\"},\"y_scale\":{\"id\":\"3436\"}},\"id\":\"3429\",\"subtype\":\"Figure\",\"type\":\"Plot\"},{\"attributes\":{\"axis_label\":\"growth_rate\",\"coordinates\":null,\"formatter\":{\"id\":\"3472\"},\"group\":null,\"major_label_policy\":{\"id\":\"3473\"},\"ticker\":{\"id\":\"3443\"}},\"id\":\"3442\",\"type\":\"LinearAxis\"},{\"attributes\":{\"angle\":{\"value\":0.0},\"fill_alpha\":{\"value\":1.0},\"fill_color\":{\"value\":\"#30a2da\"},\"hatch_alpha\":{\"value\":1.0},\"hatch_color\":{\"value\":\"#30a2da\"},\"hatch_scale\":{\"value\":12.0},\"hatch_weight\":{\"value\":1.0},\"line_alpha\":{\"value\":1.0},\"line_cap\":{\"value\":\"butt\"},\"line_color\":{\"value\":\"#30a2da\"},\"line_dash\":{\"value\":[]},\"line_dash_offset\":{\"value\":0},\"line_join\":{\"value\":\"bevel\"},\"line_width\":{\"value\":1},\"marker\":{\"value\":\"circle\"},\"size\":{\"value\":5.477225575051661},\"x\":{\"field\":\"sector\"},\"y\":{\"field\":\"growth_rate\"}},\"id\":\"3467\",\"type\":\"Scatter\"},{\"attributes\":{\"margin\":[5,5,5,5],\"name\":\"HSpacer05807\",\"sizing_mode\":\"stretch_width\"},\"id\":\"3425\",\"type\":\"Spacer\"},{\"attributes\":{},\"id\":\"3472\",\"type\":\"BasicTickFormatter\"},{\"attributes\":{},\"id\":\"3439\",\"type\":\"BasicTicker\"},{\"attributes\":{},\"id\":\"3460\",\"type\":\"Selection\"},{\"attributes\":{\"source\":{\"id\":\"3459\"}},\"id\":\"3466\",\"type\":\"CDSView\"},{\"attributes\":{\"fill_alpha\":{\"value\":0.2},\"fill_color\":{\"value\":\"#30a2da\"},\"hatch_alpha\":{\"value\":0.2},\"hatch_color\":{\"value\":\"#30a2da\"},\"line_alpha\":{\"value\":0.2},\"line_color\":{\"value\":\"#30a2da\"},\"size\":{\"value\":5.477225575051661},\"x\":{\"field\":\"sector\"},\"y\":{\"field\":\"growth_rate\"}},\"id\":\"3464\",\"type\":\"Scatter\"},{\"attributes\":{\"children\":[{\"id\":\"3425\"},{\"id\":\"3429\"},{\"id\":\"3494\"}],\"margin\":[0,0,0,0],\"name\":\"Row05803\",\"tags\":[\"embedded\"]},\"id\":\"3424\",\"type\":\"Row\"},{\"attributes\":{\"fill_color\":{\"value\":\"#30a2da\"},\"hatch_color\":{\"value\":\"#30a2da\"},\"line_color\":{\"value\":\"#30a2da\"},\"size\":{\"value\":5.477225575051661},\"x\":{\"field\":\"sector\"},\"y\":{\"field\":\"growth_rate\"}},\"id\":\"3462\",\"type\":\"Scatter\"},{\"attributes\":{\"axis\":{\"id\":\"3442\"},\"coordinates\":null,\"dimension\":1,\"grid_line_color\":null,\"group\":null,\"ticker\":null},\"id\":\"3445\",\"type\":\"Grid\"},{\"attributes\":{},\"id\":\"3446\",\"type\":\"SaveTool\"},{\"attributes\":{\"coordinates\":null,\"data_source\":{\"id\":\"3459\"},\"glyph\":{\"id\":\"3462\"},\"group\":null,\"hover_glyph\":null,\"muted_glyph\":{\"id\":\"3464\"},\"nonselection_glyph\":{\"id\":\"3463\"},\"selection_glyph\":{\"id\":\"3467\"},\"view\":{\"id\":\"3466\"}},\"id\":\"3465\",\"type\":\"GlyphRenderer\"},{\"attributes\":{\"data\":{\"growth_rate\":{\"__ndarray__\":\"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\",\"dtype\":\"float64\",\"order\":\"little\",\"shape\":[547]},\"sector\":{\"__ndarray__\":\"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\",\"dtype\":\"int32\",\"order\":\"little\",\"shape\":[547]}},\"selected\":{\"id\":\"3460\"},\"selection_policy\":{\"id\":\"3481\"}},\"id\":\"3459\",\"type\":\"ColumnDataSource\"},{\"attributes\":{},\"id\":\"3447\",\"type\":\"PanTool\"},{\"attributes\":{},\"id\":\"3481\",\"type\":\"UnionRenderers\"},{\"attributes\":{\"end\":1544.8647,\"reset_end\":1544.8647,\"reset_start\":-141.5157,\"start\":-141.5157,\"tags\":[[[\"growth_rate\",\"growth_rate\",null]]]},\"id\":\"3427\",\"type\":\"Range1d\"},{\"attributes\":{\"fill_alpha\":{\"value\":0.1},\"fill_color\":{\"value\":\"#30a2da\"},\"hatch_alpha\":{\"value\":0.1},\"hatch_color\":{\"value\":\"#30a2da\"},\"line_alpha\":{\"value\":0.1},\"line_color\":{\"value\":\"#30a2da\"},\"size\":{\"value\":5.477225575051661},\"x\":{\"field\":\"sector\"},\"y\":{\"field\":\"growth_rate\"}},\"id\":\"3463\",\"type\":\"Scatter\"},{\"attributes\":{},\"id\":\"3448\",\"type\":\"WheelZoomTool\"},{\"attributes\":{},\"id\":\"3470\",\"type\":\"AllLabels\"},{\"attributes\":{\"callback\":null,\"renderers\":[{\"id\":\"3465\"}],\"tags\":[\"hv_created\"],\"tooltips\":[[\"sector\",\"@{sector}\"],[\"growth_rate\",\"@{growth_rate}\"]]},\"id\":\"3428\",\"type\":\"HoverTool\"}],\"root_ids\":[\"3424\"]},\"title\":\"Bokeh Application\",\"version\":\"2.4.2\"}};\n",
       "    var render_items = [{\"docid\":\"0c51c993-2e0e-4236-a3ed-10f8d340edb9\",\"root_ids\":[\"3424\"],\"roots\":{\"3424\":\"648aa712-bb1c-4bee-91fc-25abb7f0b1c5\"}}];\n",
       "    root.Bokeh.embed.embed_items_notebook(docs_json, render_items);\n",
       "  }\n",
       "  if (root.Bokeh !== undefined && root.Bokeh.Panel !== undefined) {\n",
       "    embed_document(root);\n",
       "  } else {\n",
       "    var attempts = 0;\n",
       "    var timer = setInterval(function(root) {\n",
       "      if (root.Bokeh !== undefined && root.Bokeh.Panel !== undefined) {\n",
       "        clearInterval(timer);\n",
       "        embed_document(root);\n",
       "      } else if (document.readyState == \"complete\") {\n",
       "        attempts++;\n",
       "        if (attempts > 200) {\n",
       "          clearInterval(timer);\n",
       "          console.log(\"Bokeh: ERROR: Unable to run BokehJS code because BokehJS library is missing\");\n",
       "        }\n",
       "      }\n",
       "    }, 25, root)\n",
       "  }\n",
       "})(window);</script>"
      ],
      "text/plain": [
       ":Scatter   [sector]   (growth_rate)"
      ]
     },
     "execution_count": 101,
     "metadata": {
      "application/vnd.holoviews_exec.v0+json": {
       "id": "3424"
      }
     },
     "output_type": "execute_result"
    }
   ],
   "source": [
    "# Try plotting two variables\n",
    "df1.hvplot.scatter(x='sector', y='growth_rate')"
   ]
  },
  {
   "cell_type": "code",
   "execution_count": 103,
   "id": "262d28a2",
   "metadata": {},
   "outputs": [
    {
     "name": "stderr",
     "output_type": "stream",
     "text": [
      "C:\\Users\\Owner\\anaconda3\\envs\\mlenv\\lib\\site-packages\\ipykernel_launcher.py:10: SettingWithCopyWarning:\n",
      "\n",
      "\n",
      "A value is trying to be set on a copy of a slice from a DataFrame.\n",
      "Try using .loc[row_indexer,col_indexer] = value instead\n",
      "\n",
      "See the caveats in the documentation: https://pandas.pydata.org/pandas-docs/stable/user_guide/indexing.html#returning-a-view-versus-a-copy\n",
      "\n"
     ]
    },
    {
     "data": {},
     "metadata": {},
     "output_type": "display_data"
    },
    {
     "data": {
      "application/vnd.holoviews_exec.v0+json": "",
      "text/html": [
       "<div id='3854'>\n",
       "\n",
       "\n",
       "\n",
       "\n",
       "\n",
       "  <div class=\"bk-root\" id=\"4c981df9-9195-4abe-953a-6a010accb754\" data-root-id=\"3854\"></div>\n",
       "</div>\n",
       "<script type=\"application/javascript\">(function(root) {\n",
       "  function embed_document(root) {\n",
       "    var docs_json = {\"04359ccf-b193-4acf-9fbd-e52e584b235c\":{\"defs\":[{\"extends\":null,\"module\":null,\"name\":\"ReactiveHTML1\",\"overrides\":[],\"properties\":[]},{\"extends\":null,\"module\":null,\"name\":\"FlexBox1\",\"overrides\":[],\"properties\":[{\"default\":\"flex-start\",\"kind\":null,\"name\":\"align_content\"},{\"default\":\"flex-start\",\"kind\":null,\"name\":\"align_items\"},{\"default\":\"row\",\"kind\":null,\"name\":\"flex_direction\"},{\"default\":\"wrap\",\"kind\":null,\"name\":\"flex_wrap\"},{\"default\":\"flex-start\",\"kind\":null,\"name\":\"justify_content\"}]},{\"extends\":null,\"module\":null,\"name\":\"GridStack1\",\"overrides\":[],\"properties\":[{\"default\":\"warn\",\"kind\":null,\"name\":\"mode\"},{\"default\":null,\"kind\":null,\"name\":\"ncols\"},{\"default\":null,\"kind\":null,\"name\":\"nrows\"},{\"default\":true,\"kind\":null,\"name\":\"allow_resize\"},{\"default\":true,\"kind\":null,\"name\":\"allow_drag\"},{\"default\":[],\"kind\":null,\"name\":\"state\"}]},{\"extends\":null,\"module\":null,\"name\":\"click1\",\"overrides\":[],\"properties\":[{\"default\":\"\",\"kind\":null,\"name\":\"terminal_output\"},{\"default\":\"\",\"kind\":null,\"name\":\"debug_name\"},{\"default\":0,\"kind\":null,\"name\":\"clears\"}]},{\"extends\":null,\"module\":null,\"name\":\"TemplateActions1\",\"overrides\":[],\"properties\":[{\"default\":0,\"kind\":null,\"name\":\"open_modal\"},{\"default\":0,\"kind\":null,\"name\":\"close_modal\"}]},{\"extends\":null,\"module\":null,\"name\":\"MaterialTemplateActions1\",\"overrides\":[],\"properties\":[{\"default\":0,\"kind\":null,\"name\":\"open_modal\"},{\"default\":0,\"kind\":null,\"name\":\"close_modal\"}]}],\"roots\":{\"references\":[{\"attributes\":{\"margin\":[5,5,5,5],\"name\":\"HSpacer06637\",\"sizing_mode\":\"stretch_width\"},\"id\":\"4047\",\"type\":\"Spacer\"},{\"attributes\":{\"click_policy\":\"mute\",\"coordinates\":null,\"group\":null,\"items\":[{\"id\":\"3915\"},{\"id\":\"3937\"}],\"location\":[0,0],\"title\":\"class\"},\"id\":\"3914\",\"type\":\"Legend\"},{\"attributes\":{\"fill_alpha\":{\"value\":0.1},\"fill_color\":{\"value\":\"#30a2da\"},\"hatch_alpha\":{\"value\":0.1},\"hatch_color\":{\"value\":\"#30a2da\"},\"line_alpha\":{\"value\":0.1},\"line_color\":{\"value\":\"#30a2da\"},\"size\":{\"value\":5.477225575051661},\"x\":{\"field\":\"sector\"},\"y\":{\"field\":\"country\"}},\"id\":\"3900\",\"type\":\"Scatter\"},{\"attributes\":{\"bottom_units\":\"screen\",\"coordinates\":null,\"fill_alpha\":0.5,\"fill_color\":\"lightgrey\",\"group\":null,\"left_units\":\"screen\",\"level\":\"overlay\",\"line_alpha\":1.0,\"line_color\":\"black\",\"line_dash\":[4,4],\"line_width\":2,\"right_units\":\"screen\",\"syncable\":false,\"top_units\":\"screen\"},\"id\":\"3882\",\"type\":\"BoxAnnotation\"},{\"attributes\":{},\"id\":\"3877\",\"type\":\"SaveTool\"},{\"attributes\":{},\"id\":\"3865\",\"type\":\"LinearScale\"},{\"attributes\":{},\"id\":\"3878\",\"type\":\"PanTool\"},{\"attributes\":{},\"id\":\"3897\",\"type\":\"Selection\"},{\"attributes\":{\"axis\":{\"id\":\"3873\"},\"coordinates\":null,\"dimension\":1,\"grid_line_color\":null,\"group\":null,\"ticker\":null},\"id\":\"3876\",\"type\":\"Grid\"},{\"attributes\":{\"fill_alpha\":{\"value\":0.1},\"fill_color\":{\"value\":\"#fc4f30\"},\"hatch_alpha\":{\"value\":0.1},\"hatch_color\":{\"value\":\"#fc4f30\"},\"line_alpha\":{\"value\":0.1},\"line_color\":{\"value\":\"#fc4f30\"},\"size\":{\"value\":5.477225575051661},\"x\":{\"field\":\"sector\"},\"y\":{\"field\":\"country\"}},\"id\":\"3921\",\"type\":\"Scatter\"},{\"attributes\":{},\"id\":\"3881\",\"type\":\"ResetTool\"},{\"attributes\":{\"label\":{\"value\":\"0\"},\"renderers\":[{\"id\":\"3902\"}]},\"id\":\"3915\",\"type\":\"LegendItem\"},{\"attributes\":{},\"id\":\"3879\",\"type\":\"WheelZoomTool\"},{\"attributes\":{\"coordinates\":null,\"group\":null,\"text_color\":\"black\",\"text_font_size\":\"12pt\"},\"id\":\"3861\",\"type\":\"Title\"},{\"attributes\":{\"fill_color\":{\"value\":\"#30a2da\"},\"hatch_color\":{\"value\":\"#30a2da\"},\"line_color\":{\"value\":\"#30a2da\"},\"size\":{\"value\":5.477225575051661},\"x\":{\"field\":\"sector\"},\"y\":{\"field\":\"country\"}},\"id\":\"3899\",\"type\":\"Scatter\"},{\"attributes\":{},\"id\":\"3895\",\"type\":\"AllLabels\"},{\"attributes\":{\"label\":{\"value\":\"1\"},\"renderers\":[{\"id\":\"3923\"}]},\"id\":\"3937\",\"type\":\"LegendItem\"},{\"attributes\":{\"fill_alpha\":{\"value\":0.2},\"fill_color\":{\"value\":\"#30a2da\"},\"hatch_alpha\":{\"value\":0.2},\"hatch_color\":{\"value\":\"#30a2da\"},\"line_alpha\":{\"value\":0.2},\"line_color\":{\"value\":\"#30a2da\"},\"size\":{\"value\":5.477225575051661},\"x\":{\"field\":\"sector\"},\"y\":{\"field\":\"country\"}},\"id\":\"3901\",\"type\":\"Scatter\"},{\"attributes\":{\"overlay\":{\"id\":\"3882\"}},\"id\":\"3880\",\"type\":\"BoxZoomTool\"},{\"attributes\":{},\"id\":\"3891\",\"type\":\"BasicTickFormatter\"},{\"attributes\":{\"coordinates\":null,\"data_source\":{\"id\":\"3917\"},\"glyph\":{\"id\":\"3920\"},\"group\":null,\"hover_glyph\":null,\"muted_glyph\":{\"id\":\"3922\"},\"nonselection_glyph\":{\"id\":\"3921\"},\"selection_glyph\":{\"id\":\"3938\"},\"view\":{\"id\":\"3924\"}},\"id\":\"3923\",\"type\":\"GlyphRenderer\"},{\"attributes\":{\"children\":[{\"id\":\"3855\"},{\"id\":\"3860\"},{\"id\":\"4047\"}],\"margin\":[0,0,0,0],\"name\":\"Row06632\",\"tags\":[\"embedded\"]},\"id\":\"3854\",\"type\":\"Row\"},{\"attributes\":{},\"id\":\"3870\",\"type\":\"BasicTicker\"},{\"attributes\":{\"tools\":[{\"id\":\"3858\"},{\"id\":\"3877\"},{\"id\":\"3878\"},{\"id\":\"3879\"},{\"id\":\"3880\"},{\"id\":\"3881\"}]},\"id\":\"3883\",\"type\":\"Toolbar\"},{\"attributes\":{\"below\":[{\"id\":\"3869\"}],\"center\":[{\"id\":\"3872\"},{\"id\":\"3876\"}],\"height\":300,\"left\":[{\"id\":\"3873\"}],\"margin\":[5,5,5,5],\"min_border_bottom\":10,\"min_border_left\":10,\"min_border_right\":10,\"min_border_top\":10,\"renderers\":[{\"id\":\"3902\"},{\"id\":\"3923\"}],\"right\":[{\"id\":\"3914\"}],\"sizing_mode\":\"fixed\",\"title\":{\"id\":\"3861\"},\"toolbar\":{\"id\":\"3883\"},\"width\":700,\"x_range\":{\"id\":\"3856\"},\"x_scale\":{\"id\":\"3865\"},\"y_range\":{\"id\":\"3857\"},\"y_scale\":{\"id\":\"3867\"}},\"id\":\"3860\",\"subtype\":\"Figure\",\"type\":\"Plot\"},{\"attributes\":{\"data\":{\"class\":[0,0,0,0,0,0,0,0,0,0,0,0,0,0,0,0,0,0,0,0,0,0,0,0,0,0,0,0,0,0,0,0,0,0,0,0,0,0,0,0,0,0,0,0,0,0,0,0,0,0,0,0,0,0,0,0,0,0,0,0,0,0,0,0,0,0,0,0,0,0,0,0,0,0,0,0,0,0,0,0,0,0,0,0,0,0,0,0,0,0,0,0,0,0,0,0,0,0,0,0,0,0,0,0,0,0,0,0,0,0,0,0,0,0,0,0,0,0,0,0,0,0,0,0,0,0,0,0,0,0,0,0,0,0,0,0,0,0,0,0,0,0,0,0,0,0,0,0,0,0,0,0,0,0,0,0,0,0,0,0,0,0,0,0,0,0,0,0,0,0,0,0,0,0,0,0,0,0,0,0,0,0,0,0,0,0,0,0,0,0,0,0,0,0,0,0,0,0,0,0,0,0,0,0,0,0,0,0,0,0,0,0,0,0,0,0,0,0,0,0,0,0,0,0,0,0,0,0,0,0,0,0,0,0,0,0,0,0,0,0,0,0,0,0,0,0,0,0,0,0,0,0,0,0,0,0,0,0,0,0,0,0,0,0,0,0,0,0,0,0,0,0,0,0,0,0,0,0,0,0,0,0,0,0,0,0,0,0,0,0,0,0,0,0,0,0,0,0,0,0,0,0,0,0,0,0,0,0,0,0,0,0,0,0,0,0,0,0,0,0,0,0,0,0,0,0,0,0,0,0,0,0,0,0,0,0,0,0,0,0,0,0,0,0,0,0,0,0,0,0,0,0,0,0,0,0,0,0,0,0,0,0,0,0,0,0,0,0,0,0,0,0,0,0,0,0,0,0,0,0,0,0,0,0,0,0,0,0,0,0,0,0,0,0,0,0,0,0,0,0,0,0,0,0,0,0,0,0,0,0,0,0,0,0,0,0,0,0,0,0,0,0,0,0,0,0,0,0,0,0,0,0,0,0,0,0,0,0,0,0,0,0,0,0,0,0,0,0,0,0,0,0,0,0,0,0,0,0,0,0,0,0,0,0,0,0,0,0,0,0,0,0,0,0,0,0,0,0,0,0,0,0,0,0,0,0,0,0,0,0,0,0,0,0,0,0,0,0,0,0,0,0,0,0,0,0,0,0,0,0,0,0,0,0,0,0,0,0,0,0,0,0,0,0,0,0,0,0,0,0,0,0,0,0,0,0,0,0,0,0,0,0,0,0,0],\"country\":{\"__ndarray__\":\"CgAAAAUAAAAaAAAAGgAAAAUAAAACAAAAGgAAAAUAAAAaAAAABQAAABoAAAAIAAAAGgAAABoAAAAFAAAABQAAABoAAAAaAAAAGgAAABoAAAAHAAAAGgAAAAgAAAAaAAAAGgAAABoAAAAaAAAAGgAAABoAAAAMAAAAGgAAABoAAAAaAAAAGgAAABoAAAAaAAAAGgAAAAMAAAAPAAAAGgAAABoAAAAaAAAAAgAAABEAAAAaAAAAGgAAABoAAAAaAAAAGgAAABoAAAAFAAAAGgAAABoAAAAaAAAAGgAAABoAAAAaAAAAGgAAABoAAAAaAAAADAAAABoAAAAaAAAABQAAABkAAAAaAAAAGgAAABoAAAAaAAAAGgAAAAUAAAAaAAAAGgAAABIAAAAaAAAAGgAAABoAAAAaAAAAGgAAAAUAAAAaAAAABQAAABoAAAAaAAAAGgAAABoAAAAaAAAAGgAAAAwAAAAaAAAAGgAAABoAAAAaAAAAGgAAABoAAAAaAAAAGgAAABoAAAAFAAAACQAAABoAAAAaAAAAGgAAABoAAAAaAAAAGgAAABoAAAAaAAAAGgAAABoAAAAaAAAAGgAAABoAAAADAAAAGgAAABoAAAAHAAAAGgAAABoAAAAaAAAAGgAAABoAAAAaAAAAGgAAABoAAAAaAAAABQAAAAMAAAADAAAAGgAAABoAAAAMAAAAGgAAAAUAAAAFAAAAGgAAABoAAAAaAAAAAwAAABoAAAAaAAAAGgAAABoAAAAZAAAAGgAAABoAAAAaAAAAAAAAABoAAAAaAAAAGgAAAAUAAAAaAAAABQAAABoAAAAaAAAAGgAAABoAAAAaAAAAGgAAABoAAAAaAAAAGgAAABoAAAAFAAAABQAAABoAAAAYAAAAAwAAAAgAAAAaAAAAGgAAABoAAAAaAAAAGgAAABoAAAACAAAAGgAAABoAAAAaAAAAGgAAABoAAAAaAAAAGgAAAAMAAAAaAAAAAwAAAAUAAAAaAAAAGgAAABoAAAAIAAAAGgAAAAUAAAAaAAAAGgAAABoAAAAaAAAAGgAAABoAAAAaAAAAGgAAABoAAAAaAAAAGgAAAAIAAAAFAAAAGgAAABoAAAAaAAAAGgAAABoAAAAaAAAAGgAAABoAAAAaAAAAGgAAAAUAAAAaAAAAGgAAABoAAAAaAAAABQAAABoAAAAFAAAAAwAAABoAAAAaAAAABQAAABoAAAAJAAAAGgAAAAUAAAAaAAAAGgAAABoAAAAaAAAAGgAAABoAAAAaAAAADAAAAAUAAAAaAAAABQAAAAMAAAAaAAAAGgAAAAUAAAAaAAAAGgAAABoAAAAaAAAAGgAAABoAAAAaAAAABQAAAAUAAAAaAAAAGgAAAAAAAAAaAAAAGgAAAAIAAAAaAAAAGgAAABoAAAASAAAAAAAAABoAAAAaAAAAGgAAABoAAAAaAAAAGgAAABoAAAACAAAAGgAAABMAAAAaAAAAGgAAABoAAAAaAAAAGgAAAAgAAAABAAAAGgAAABoAAAAaAAAAGgAAABoAAAAaAAAAGgAAABoAAAAaAAAAGgAAABoAAAAaAAAAGgAAABoAAAAaAAAAGgAAABoAAAAaAAAAGgAAABoAAAAaAAAAGgAAABkAAAAaAAAAGgAAABoAAAAaAAAAAwAAAAMAAAAZAAAAGgAAABMAAAAaAAAAGgAAABoAAAAaAAAAGgAAABkAAAAaAAAAGgAAABoAAAAaAAAAGgAAABoAAAAaAAAAGgAAABoAAAADAAAAGgAAABoAAAAaAAAAGgAAABoAAAAWAAAAGgAAABoAAAAWAAAAGgAAABQAAAAaAAAACwAAABoAAAAaAAAAGgAAABoAAAAaAAAAGgAAABoAAAAaAAAAGgAAAAwAAAAaAAAAGgAAABoAAAAaAAAAGgAAABoAAAAaAAAAGgAAAA4AAAAaAAAAFgAAABoAAAAaAAAAGgAAABoAAAAaAAAAGgAAABoAAAACAAAAGgAAABoAAAAaAAAAGgAAABkAAAAaAAAAGgAAAA0AAAAaAAAAGgAAABoAAAAaAAAAGgAAABoAAAABAAAAGgAAABoAAAAaAAAAFwAAABoAAAAaAAAABQAAABoAAAAaAAAAGgAAABoAAAAaAAAAGgAAAAUAAAAaAAAABQAAABoAAAAaAAAAGgAAABoAAAAaAAAAGgAAAAUAAAAaAAAAGgAAABoAAAAFAAAADAAAABoAAAAaAAAAGgAAABYAAAAMAAAABQAAABoAAAAaAAAAGgAAABoAAAAMAAAAGgAAABoAAAAbAAAAGgAAABoAAAAaAAAAGgAAABUAAAAaAAAAGgAAAAwAAAAaAAAADAAAAAMAAAAaAAAABQAAAAcAAAAaAAAAGgAAABkAAAAaAAAAGgAAABoAAAAaAAAAGgAAABoAAAAaAAAAGgAAABoAAAAaAAAAGgAAABoAAAAaAAAAGgAAABoAAAAaAAAAGgAAABoAAAAaAAAAGgAAABoAAAAaAAAABQAAABoAAAAaAAAAEwAAABoAAAAaAAAAGgAAAAUAAAAaAAAAGgAAAAUAAAAaAAAAGgAAABAAAAAVAAAAGgAAABoAAAAaAAAAGgAAABoAAAAaAAAAGgAAAAUAAAAaAAAAGgAAABoAAAAaAAAAGgAAABQAAAAaAAAAGgAAABoAAAAaAAAAGgAAABoAAAAaAAAAGgAAAAUAAAAaAAAAGgAAAAUAAAAaAAAAGgAAABoAAAADAAAAGgAAABoAAAAaAAAAAgAAABoAAAAMAAAAGgAAABoAAAAEAAAABQAAABoAAAAaAAAADAAAABoAAAAaAAAAGgAAABoAAAAaAAAAGgAAABoAAAAaAAAAGgAAABoAAAAaAAAAGQAAABoAAAAaAAAAGgAAABoAAAA=\",\"dtype\":\"int32\",\"order\":\"little\",\"shape\":[545]},\"sector\":{\"__ndarray__\":\"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\",\"dtype\":\"int32\",\"order\":\"little\",\"shape\":[545]}},\"selected\":{\"id\":\"3897\"},\"selection_policy\":{\"id\":\"3911\"}},\"id\":\"3896\",\"type\":\"ColumnDataSource\"},{\"attributes\":{},\"id\":\"3918\",\"type\":\"Selection\"},{\"attributes\":{\"axis\":{\"id\":\"3869\"},\"coordinates\":null,\"grid_line_color\":null,\"group\":null,\"ticker\":null},\"id\":\"3872\",\"type\":\"Grid\"},{\"attributes\":{\"angle\":{\"value\":0.0},\"fill_alpha\":{\"value\":1.0},\"fill_color\":{\"value\":\"#fc4f30\"},\"hatch_alpha\":{\"value\":1.0},\"hatch_color\":{\"value\":\"#fc4f30\"},\"hatch_scale\":{\"value\":12.0},\"hatch_weight\":{\"value\":1.0},\"line_alpha\":{\"value\":1.0},\"line_cap\":{\"value\":\"butt\"},\"line_color\":{\"value\":\"#fc4f30\"},\"line_dash\":{\"value\":[]},\"line_dash_offset\":{\"value\":0},\"line_join\":{\"value\":\"bevel\"},\"line_width\":{\"value\":1},\"marker\":{\"value\":\"circle\"},\"size\":{\"value\":5.477225575051661},\"x\":{\"field\":\"sector\"},\"y\":{\"field\":\"country\"}},\"id\":\"3938\",\"type\":\"Scatter\"},{\"attributes\":{},\"id\":\"3894\",\"type\":\"BasicTickFormatter\"},{\"attributes\":{\"data\":{\"class\":[1,1],\"country\":{\"__ndarray__\":\"BgAAABkAAAA=\",\"dtype\":\"int32\",\"order\":\"little\",\"shape\":[2]},\"sector\":{\"__ndarray__\":\"AgAAAAYAAAA=\",\"dtype\":\"int32\",\"order\":\"little\",\"shape\":[2]}},\"selected\":{\"id\":\"3918\"},\"selection_policy\":{\"id\":\"3934\"}},\"id\":\"3917\",\"type\":\"ColumnDataSource\"},{\"attributes\":{\"fill_alpha\":{\"value\":0.2},\"fill_color\":{\"value\":\"#fc4f30\"},\"hatch_alpha\":{\"value\":0.2},\"hatch_color\":{\"value\":\"#fc4f30\"},\"line_alpha\":{\"value\":0.2},\"line_color\":{\"value\":\"#fc4f30\"},\"size\":{\"value\":5.477225575051661},\"x\":{\"field\":\"sector\"},\"y\":{\"field\":\"country\"}},\"id\":\"3922\",\"type\":\"Scatter\"},{\"attributes\":{},\"id\":\"3934\",\"type\":\"UnionRenderers\"},{\"attributes\":{\"margin\":[5,5,5,5],\"name\":\"HSpacer06636\",\"sizing_mode\":\"stretch_width\"},\"id\":\"3855\",\"type\":\"Spacer\"},{\"attributes\":{},\"id\":\"3867\",\"type\":\"LinearScale\"},{\"attributes\":{\"axis_label\":\"country\",\"coordinates\":null,\"formatter\":{\"id\":\"3894\"},\"group\":null,\"major_label_policy\":{\"id\":\"3895\"},\"ticker\":{\"id\":\"3874\"}},\"id\":\"3873\",\"type\":\"LinearAxis\"},{\"attributes\":{},\"id\":\"3874\",\"type\":\"BasicTicker\"},{\"attributes\":{\"axis_label\":\"sector\",\"coordinates\":null,\"formatter\":{\"id\":\"3891\"},\"group\":null,\"major_label_policy\":{\"id\":\"3892\"},\"ticker\":{\"id\":\"3870\"}},\"id\":\"3869\",\"type\":\"LinearAxis\"},{\"attributes\":{},\"id\":\"3911\",\"type\":\"UnionRenderers\"},{\"attributes\":{\"coordinates\":null,\"data_source\":{\"id\":\"3896\"},\"glyph\":{\"id\":\"3899\"},\"group\":null,\"hover_glyph\":null,\"muted_glyph\":{\"id\":\"3901\"},\"nonselection_glyph\":{\"id\":\"3900\"},\"selection_glyph\":{\"id\":\"3916\"},\"view\":{\"id\":\"3903\"}},\"id\":\"3902\",\"type\":\"GlyphRenderer\"},{\"attributes\":{\"end\":10.428571428571429,\"reset_end\":10.428571428571429,\"reset_start\":-0.4285714285714286,\"start\":-0.4285714285714286,\"tags\":[[[\"sector\",\"sector\",null]]]},\"id\":\"3856\",\"type\":\"Range1d\"},{\"attributes\":{\"angle\":{\"value\":0.0},\"fill_alpha\":{\"value\":1.0},\"fill_color\":{\"value\":\"#30a2da\"},\"hatch_alpha\":{\"value\":1.0},\"hatch_color\":{\"value\":\"#30a2da\"},\"hatch_scale\":{\"value\":12.0},\"hatch_weight\":{\"value\":1.0},\"line_alpha\":{\"value\":1.0},\"line_cap\":{\"value\":\"butt\"},\"line_color\":{\"value\":\"#30a2da\"},\"line_dash\":{\"value\":[]},\"line_dash_offset\":{\"value\":0},\"line_join\":{\"value\":\"bevel\"},\"line_width\":{\"value\":1},\"marker\":{\"value\":\"circle\"},\"size\":{\"value\":5.477225575051661},\"x\":{\"field\":\"sector\"},\"y\":{\"field\":\"country\"}},\"id\":\"3916\",\"type\":\"Scatter\"},{\"attributes\":{\"callback\":null,\"renderers\":[{\"id\":\"3902\"},{\"id\":\"3923\"}],\"tags\":[\"hv_created\"],\"tooltips\":[[\"class\",\"@{class}\"],[\"sector\",\"@{sector}\"],[\"country\",\"@{country}\"]]},\"id\":\"3858\",\"type\":\"HoverTool\"},{\"attributes\":{\"end\":29.7,\"reset_end\":29.7,\"reset_start\":-2.7,\"start\":-2.7,\"tags\":[[[\"country\",\"country\",null]]]},\"id\":\"3857\",\"type\":\"Range1d\"},{\"attributes\":{\"fill_color\":{\"value\":\"#fc4f30\"},\"hatch_color\":{\"value\":\"#fc4f30\"},\"line_color\":{\"value\":\"#fc4f30\"},\"size\":{\"value\":5.477225575051661},\"x\":{\"field\":\"sector\"},\"y\":{\"field\":\"country\"}},\"id\":\"3920\",\"type\":\"Scatter\"},{\"attributes\":{},\"id\":\"3892\",\"type\":\"AllLabels\"},{\"attributes\":{\"source\":{\"id\":\"3896\"}},\"id\":\"3903\",\"type\":\"CDSView\"},{\"attributes\":{\"source\":{\"id\":\"3917\"}},\"id\":\"3924\",\"type\":\"CDSView\"}],\"root_ids\":[\"3854\"]},\"title\":\"Bokeh Application\",\"version\":\"2.4.2\"}};\n",
       "    var render_items = [{\"docid\":\"04359ccf-b193-4acf-9fbd-e52e584b235c\",\"root_ids\":[\"3854\"],\"roots\":{\"3854\":\"4c981df9-9195-4abe-953a-6a010accb754\"}}];\n",
       "    root.Bokeh.embed.embed_items_notebook(docs_json, render_items);\n",
       "  }\n",
       "  if (root.Bokeh !== undefined && root.Bokeh.Panel !== undefined) {\n",
       "    embed_document(root);\n",
       "  } else {\n",
       "    var attempts = 0;\n",
       "    var timer = setInterval(function(root) {\n",
       "      if (root.Bokeh !== undefined && root.Bokeh.Panel !== undefined) {\n",
       "        clearInterval(timer);\n",
       "        embed_document(root);\n",
       "      } else if (document.readyState == \"complete\") {\n",
       "        attempts++;\n",
       "        if (attempts > 200) {\n",
       "          clearInterval(timer);\n",
       "          console.log(\"Bokeh: ERROR: Unable to run BokehJS code because BokehJS library is missing\");\n",
       "        }\n",
       "      }\n",
       "    }, 25, root)\n",
       "  }\n",
       "})(window);</script>"
      ],
      "text/plain": [
       ":NdOverlay   [class]\n",
       "   :Scatter   [sector]   (country)"
      ]
     },
     "execution_count": 103,
     "metadata": {
      "application/vnd.holoviews_exec.v0+json": {
       "id": "3854"
      }
     },
     "output_type": "execute_result"
    }
   ],
   "source": [
    "test_cluster_amount(df1, 2)\n",
    "df1.hvplot.scatter(x='sector', y='country', by='class')"
   ]
  },
  {
   "cell_type": "code",
   "execution_count": 105,
   "id": "3109d2c0",
   "metadata": {},
   "outputs": [
    {
     "data": {
      "application/vnd.plotly.v1+json": {
       "config": {
        "plotlyServerURL": "https://plot.ly"
       },
       "data": [
        {
         "hovertemplate": "class=%{marker.color}<br>industry=%{x}<br>sector=%{y}<br>country=%{z}<extra></extra>",
         "legendgroup": "0",
         "marker": {
          "color": [
           0,
           0,
           0,
           0,
           0,
           0,
           0,
           0,
           0,
           0,
           0,
           0,
           0,
           0,
           0,
           0,
           0,
           0,
           0,
           0,
           0,
           0,
           0,
           0,
           0,
           0,
           0,
           0,
           0,
           0,
           0,
           0,
           0,
           0,
           0,
           0,
           0,
           0,
           0,
           0,
           0,
           0,
           0,
           0,
           0,
           0,
           0,
           0,
           0,
           0,
           0,
           0,
           0,
           0,
           0,
           0,
           0,
           0,
           0,
           0,
           0,
           0,
           0,
           0,
           0,
           0,
           0,
           0,
           0,
           0,
           0,
           0,
           0,
           0,
           0,
           0,
           0,
           0,
           0,
           0,
           0,
           0,
           0,
           0,
           0,
           0,
           0,
           0,
           0,
           0,
           0,
           0,
           0,
           0,
           0,
           0,
           0,
           0,
           0,
           0,
           0,
           0,
           0,
           0,
           0,
           0,
           0,
           0,
           0,
           0,
           0,
           0,
           0,
           0,
           0,
           0,
           0,
           0,
           0,
           0,
           0,
           0,
           0,
           0,
           0,
           0,
           0,
           0,
           0,
           0,
           0,
           0,
           0,
           0,
           0,
           0,
           0,
           0,
           0,
           0,
           0,
           0,
           0,
           0,
           0,
           0,
           0,
           0,
           0,
           0,
           0,
           0,
           0,
           0,
           0,
           0,
           0,
           0,
           0,
           0,
           0,
           0,
           0,
           0,
           0,
           0,
           0,
           0,
           0,
           0,
           0,
           0,
           0,
           0,
           0,
           0,
           0,
           0,
           0,
           0,
           0,
           0,
           0,
           0,
           0,
           0,
           0,
           0,
           0,
           0,
           0,
           0,
           0,
           0,
           0,
           0,
           0,
           0,
           0,
           0,
           0,
           0,
           0,
           0,
           0,
           0,
           0,
           0,
           0,
           0,
           0,
           0,
           0,
           0,
           0,
           0,
           0,
           0,
           0,
           0,
           0,
           0,
           0,
           0,
           0,
           0,
           0,
           0,
           0,
           0,
           0,
           0,
           0,
           0,
           0,
           0,
           0,
           0,
           0,
           0,
           0,
           0,
           0,
           0,
           0,
           0,
           0,
           0,
           0,
           0,
           0,
           0,
           0,
           0,
           0,
           0,
           0,
           0,
           0,
           0,
           0,
           0,
           0,
           0,
           0,
           0,
           0,
           0,
           0,
           0,
           0,
           0,
           0,
           0,
           0,
           0,
           0,
           0,
           0,
           0,
           0,
           0,
           0,
           0,
           0,
           0,
           0,
           0,
           0,
           0,
           0,
           0,
           0,
           0,
           0,
           0,
           0,
           0,
           0,
           0,
           0,
           0,
           0,
           0,
           0,
           0,
           0,
           0,
           0,
           0,
           0,
           0,
           0,
           0,
           0,
           0,
           0,
           0,
           0,
           0,
           0,
           0,
           0,
           0,
           0,
           0,
           0,
           0,
           0,
           0,
           0,
           0,
           0,
           0,
           0,
           0,
           0,
           0,
           0,
           0,
           0,
           0,
           0,
           0,
           0,
           0,
           0,
           0,
           0,
           0,
           0,
           0,
           0,
           0,
           0,
           0,
           0,
           0,
           0,
           0,
           0,
           0,
           0,
           0,
           0,
           0,
           0,
           0,
           0,
           0,
           0,
           0,
           0,
           0,
           0,
           0,
           0,
           0,
           0,
           0,
           0,
           0,
           0,
           0,
           0,
           0,
           0,
           0,
           0,
           0,
           0,
           0,
           0,
           0,
           0,
           0,
           0,
           0,
           0,
           0,
           0,
           0,
           0,
           0,
           0,
           0,
           0,
           0,
           0,
           0,
           0,
           0,
           0,
           0,
           0,
           0,
           0,
           0,
           0,
           0,
           0,
           0,
           0,
           0,
           0,
           0,
           0,
           0,
           0,
           0,
           0,
           0,
           0,
           0,
           0,
           0,
           0,
           0,
           0,
           0,
           0,
           0,
           0,
           0,
           0,
           0,
           0,
           0,
           0,
           0,
           0,
           0,
           0,
           0,
           0,
           0,
           0,
           0,
           0,
           0,
           0,
           0,
           0,
           0,
           0,
           0,
           0,
           0,
           0,
           0,
           0,
           0,
           0,
           0,
           0,
           0,
           0,
           0,
           0,
           0,
           0,
           0,
           0,
           0,
           0,
           0,
           0,
           0,
           0,
           0,
           0,
           0,
           0,
           0,
           0,
           0,
           0,
           0,
           0,
           0,
           0,
           0,
           0,
           0,
           0,
           0,
           0,
           0,
           0,
           0,
           0,
           0,
           0,
           0,
           0,
           0,
           0,
           0,
           0,
           0,
           0,
           0,
           0,
           0,
           0,
           0,
           0,
           0,
           0,
           0,
           0,
           0,
           0,
           0,
           0,
           0,
           0,
           0,
           0,
           0,
           0,
           0,
           0,
           0,
           0
          ],
          "coloraxis": "coloraxis",
          "symbol": "circle"
         },
         "mode": "markers",
         "name": "0",
         "scene": "scene",
         "showlegend": true,
         "type": "scatter3d",
         "x": [
          59,
          76,
          76,
          76,
          1,
          15,
          69,
          18,
          75,
          48,
          55,
          22,
          9,
          12,
          54,
          24,
          38,
          12,
          44,
          62,
          12,
          9,
          12,
          9,
          21,
          50,
          76,
          22,
          56,
          55,
          9,
          77,
          56,
          38,
          9,
          76,
          74,
          23,
          59,
          22,
          38,
          78,
          24,
          9,
          5,
          12,
          13,
          12,
          21,
          38,
          48,
          52,
          12,
          12,
          38,
          12,
          17,
          37,
          22,
          49,
          48,
          77,
          49,
          24,
          12,
          12,
          61,
          80,
          76,
          68,
          48,
          17,
          76,
          83,
          57,
          9,
          81,
          9,
          27,
          49,
          62,
          38,
          55,
          85,
          12,
          59,
          48,
          76,
          55,
          46,
          76,
          23,
          12,
          55,
          15,
          76,
          12,
          3,
          15,
          15,
          55,
          12,
          48,
          16,
          12,
          12,
          12,
          89,
          55,
          12,
          55,
          21,
          49,
          12,
          38,
          12,
          12,
          59,
          55,
          86,
          31,
          43,
          48,
          76,
          12,
          12,
          24,
          76,
          72,
          12,
          22,
          36,
          43,
          82,
          21,
          12,
          75,
          40,
          76,
          22,
          48,
          46,
          12,
          12,
          58,
          77,
          12,
          12,
          12,
          78,
          9,
          82,
          12,
          24,
          77,
          55,
          13,
          66,
          82,
          12,
          34,
          55,
          48,
          76,
          82,
          43,
          77,
          76,
          17,
          26,
          76,
          18,
          38,
          55,
          62,
          76,
          24,
          38,
          66,
          63,
          77,
          76,
          76,
          5,
          76,
          35,
          7,
          7,
          12,
          12,
          12,
          12,
          76,
          71,
          69,
          76,
          43,
          55,
          54,
          58,
          76,
          77,
          71,
          82,
          32,
          24,
          7,
          76,
          12,
          92,
          76,
          12,
          38,
          12,
          47,
          44,
          76,
          76,
          38,
          46,
          33,
          37,
          76,
          12,
          22,
          12,
          12,
          14,
          22,
          12,
          84,
          6,
          49,
          77,
          12,
          76,
          12,
          30,
          55,
          44,
          12,
          76,
          36,
          0,
          92,
          65,
          12,
          44,
          67,
          72,
          9,
          12,
          38,
          38,
          63,
          12,
          48,
          58,
          56,
          76,
          77,
          77,
          8,
          9,
          74,
          76,
          71,
          15,
          76,
          23,
          77,
          4,
          49,
          11,
          76,
          77,
          76,
          76,
          0,
          9,
          62,
          40,
          1,
          23,
          22,
          21,
          4,
          67,
          54,
          83,
          55,
          24,
          49,
          91,
          75,
          75,
          77,
          4,
          90,
          38,
          10,
          76,
          74,
          5,
          15,
          55,
          76,
          84,
          77,
          38,
          55,
          50,
          71,
          77,
          12,
          74,
          79,
          82,
          56,
          76,
          76,
          38,
          15,
          52,
          77,
          77,
          62,
          77,
          62,
          49,
          76,
          77,
          9,
          47,
          77,
          74,
          38,
          76,
          4,
          55,
          43,
          76,
          66,
          27,
          22,
          32,
          9,
          41,
          35,
          12,
          55,
          55,
          35,
          77,
          12,
          76,
          76,
          76,
          76,
          28,
          12,
          42,
          12,
          55,
          36,
          48,
          38,
          9,
          50,
          12,
          77,
          76,
          47,
          12,
          77,
          10,
          77,
          76,
          76,
          76,
          76,
          5,
          56,
          50,
          51,
          69,
          55,
          22,
          55,
          56,
          4,
          37,
          77,
          49,
          77,
          55,
          76,
          0,
          76,
          79,
          77,
          81,
          76,
          37,
          64,
          37,
          23,
          39,
          77,
          38,
          76,
          79,
          76,
          12,
          55,
          56,
          49,
          0,
          22,
          12,
          38,
          12,
          76,
          83,
          12,
          43,
          49,
          54,
          76,
          76,
          77,
          77,
          3,
          43,
          43,
          83,
          10,
          76,
          77,
          49,
          49,
          48,
          23,
          19,
          45,
          12,
          9,
          82,
          12,
          54,
          30,
          38,
          78,
          38,
          14,
          55,
          77,
          55,
          80,
          76,
          77,
          75,
          0,
          56,
          12,
          54,
          76,
          36,
          63,
          87,
          76,
          64,
          76,
          76,
          76,
          2,
          24,
          39,
          5,
          12,
          49,
          48,
          18,
          64,
          12,
          22,
          76,
          20,
          6,
          77,
          70,
          12,
          11,
          77,
          76,
          2,
          25,
          82,
          12,
          49,
          27,
          54,
          39,
          12,
          55,
          76,
          55,
          58,
          12,
          38,
          76,
          76,
          12,
          55,
          76,
          77,
          58,
          5,
          29,
          5,
          76,
          53,
          78,
          88,
          5,
          85,
          73,
          6,
          27,
          49,
          82,
          77,
          27,
          60,
          9,
          55,
          38,
          91,
          0,
          66,
          12,
          17,
          35,
          5,
          49
         ],
         "y": [
          4,
          9,
          9,
          9,
          7,
          5,
          8,
          9,
          9,
          1,
          6,
          6,
          5,
          6,
          6,
          3,
          6,
          6,
          5,
          3,
          6,
          5,
          6,
          5,
          5,
          2,
          9,
          6,
          6,
          6,
          5,
          9,
          6,
          6,
          5,
          9,
          2,
          6,
          4,
          6,
          6,
          9,
          3,
          5,
          5,
          6,
          1,
          6,
          5,
          6,
          1,
          2,
          6,
          6,
          6,
          6,
          9,
          3,
          6,
          2,
          1,
          9,
          2,
          3,
          6,
          6,
          4,
          0,
          9,
          8,
          1,
          9,
          9,
          7,
          7,
          5,
          7,
          5,
          1,
          2,
          3,
          6,
          6,
          3,
          6,
          4,
          1,
          9,
          6,
          5,
          9,
          6,
          6,
          6,
          5,
          9,
          6,
          2,
          5,
          5,
          6,
          6,
          1,
          0,
          6,
          6,
          6,
          10,
          6,
          6,
          6,
          5,
          2,
          6,
          6,
          6,
          6,
          4,
          6,
          2,
          7,
          9,
          1,
          9,
          6,
          6,
          3,
          9,
          2,
          6,
          6,
          2,
          9,
          2,
          5,
          6,
          9,
          2,
          9,
          6,
          1,
          5,
          6,
          6,
          5,
          9,
          6,
          6,
          6,
          9,
          5,
          2,
          6,
          3,
          9,
          6,
          1,
          8,
          2,
          6,
          3,
          6,
          1,
          9,
          2,
          9,
          9,
          9,
          9,
          9,
          9,
          9,
          6,
          6,
          3,
          9,
          3,
          6,
          8,
          2,
          9,
          9,
          9,
          5,
          9,
          2,
          2,
          2,
          6,
          6,
          6,
          6,
          9,
          8,
          8,
          9,
          9,
          6,
          6,
          5,
          9,
          9,
          8,
          2,
          3,
          3,
          2,
          9,
          6,
          7,
          9,
          6,
          6,
          6,
          5,
          5,
          9,
          9,
          6,
          5,
          5,
          3,
          9,
          6,
          6,
          6,
          6,
          7,
          6,
          6,
          1,
          2,
          2,
          9,
          6,
          9,
          6,
          1,
          6,
          5,
          6,
          9,
          2,
          1,
          7,
          6,
          6,
          5,
          8,
          2,
          5,
          6,
          6,
          6,
          2,
          6,
          1,
          5,
          6,
          9,
          9,
          9,
          5,
          5,
          2,
          9,
          8,
          5,
          9,
          6,
          9,
          2,
          2,
          3,
          9,
          9,
          9,
          9,
          1,
          5,
          3,
          2,
          7,
          6,
          6,
          5,
          2,
          8,
          6,
          7,
          6,
          3,
          2,
          10,
          9,
          9,
          9,
          2,
          10,
          6,
          3,
          9,
          2,
          5,
          5,
          6,
          9,
          1,
          9,
          6,
          6,
          2,
          8,
          9,
          6,
          2,
          7,
          2,
          6,
          9,
          9,
          6,
          5,
          2,
          9,
          9,
          3,
          9,
          3,
          2,
          9,
          9,
          5,
          5,
          9,
          2,
          6,
          9,
          2,
          6,
          9,
          9,
          8,
          1,
          6,
          3,
          5,
          3,
          2,
          6,
          6,
          6,
          2,
          9,
          6,
          9,
          9,
          9,
          9,
          9,
          6,
          7,
          6,
          6,
          2,
          1,
          6,
          5,
          2,
          6,
          9,
          9,
          5,
          6,
          9,
          3,
          9,
          9,
          9,
          9,
          9,
          5,
          6,
          2,
          2,
          8,
          6,
          6,
          6,
          6,
          2,
          3,
          9,
          2,
          9,
          6,
          9,
          1,
          9,
          7,
          9,
          7,
          9,
          3,
          2,
          3,
          6,
          6,
          9,
          6,
          9,
          7,
          9,
          6,
          6,
          6,
          2,
          1,
          6,
          6,
          6,
          6,
          9,
          7,
          6,
          9,
          2,
          6,
          9,
          9,
          9,
          9,
          2,
          9,
          9,
          7,
          3,
          9,
          9,
          2,
          2,
          1,
          6,
          7,
          5,
          6,
          5,
          2,
          6,
          6,
          1,
          6,
          9,
          6,
          7,
          6,
          9,
          6,
          0,
          9,
          9,
          9,
          1,
          6,
          6,
          6,
          9,
          2,
          2,
          7,
          9,
          2,
          9,
          9,
          9,
          7,
          3,
          6,
          5,
          6,
          2,
          1,
          9,
          2,
          6,
          6,
          9,
          9,
          2,
          9,
          8,
          6,
          3,
          9,
          9,
          7,
          7,
          2,
          6,
          2,
          1,
          6,
          6,
          6,
          6,
          9,
          6,
          5,
          6,
          6,
          9,
          9,
          6,
          6,
          9,
          9,
          5,
          5,
          7,
          5,
          9,
          7,
          9,
          10,
          5,
          3,
          2,
          2,
          1,
          2,
          2,
          9,
          1,
          4,
          5,
          6,
          6,
          10,
          1,
          8,
          6,
          9,
          2,
          5,
          2
         ],
         "z": [
          10,
          5,
          26,
          26,
          5,
          2,
          26,
          5,
          26,
          5,
          26,
          8,
          26,
          26,
          5,
          5,
          26,
          26,
          26,
          26,
          7,
          26,
          8,
          26,
          26,
          26,
          26,
          26,
          26,
          12,
          26,
          26,
          26,
          26,
          26,
          26,
          26,
          3,
          15,
          26,
          26,
          26,
          2,
          17,
          26,
          26,
          26,
          26,
          26,
          26,
          5,
          26,
          26,
          26,
          26,
          26,
          26,
          26,
          26,
          26,
          12,
          26,
          26,
          5,
          25,
          26,
          26,
          26,
          26,
          26,
          5,
          26,
          26,
          18,
          26,
          26,
          26,
          26,
          26,
          5,
          26,
          5,
          26,
          26,
          26,
          26,
          26,
          26,
          12,
          26,
          26,
          26,
          26,
          26,
          26,
          26,
          26,
          26,
          5,
          9,
          26,
          26,
          26,
          26,
          26,
          26,
          26,
          26,
          26,
          26,
          26,
          26,
          26,
          3,
          26,
          26,
          7,
          26,
          26,
          26,
          26,
          26,
          26,
          26,
          26,
          26,
          5,
          3,
          3,
          26,
          26,
          12,
          26,
          5,
          5,
          26,
          26,
          26,
          3,
          26,
          26,
          26,
          26,
          25,
          26,
          26,
          26,
          0,
          26,
          26,
          26,
          5,
          26,
          5,
          26,
          26,
          26,
          26,
          26,
          26,
          26,
          26,
          26,
          26,
          5,
          5,
          26,
          24,
          3,
          8,
          26,
          26,
          26,
          26,
          26,
          26,
          2,
          26,
          26,
          26,
          26,
          26,
          26,
          26,
          3,
          26,
          3,
          5,
          26,
          26,
          26,
          8,
          26,
          5,
          26,
          26,
          26,
          26,
          26,
          26,
          26,
          26,
          26,
          26,
          26,
          2,
          5,
          26,
          26,
          26,
          26,
          26,
          26,
          26,
          26,
          26,
          26,
          5,
          26,
          26,
          26,
          26,
          5,
          26,
          5,
          3,
          26,
          26,
          5,
          26,
          9,
          26,
          5,
          26,
          26,
          26,
          26,
          26,
          26,
          26,
          12,
          5,
          26,
          5,
          3,
          26,
          26,
          5,
          26,
          26,
          26,
          26,
          26,
          26,
          26,
          5,
          5,
          26,
          26,
          0,
          26,
          26,
          2,
          26,
          26,
          26,
          18,
          0,
          26,
          26,
          26,
          26,
          26,
          26,
          26,
          2,
          26,
          19,
          26,
          26,
          26,
          26,
          26,
          8,
          1,
          26,
          26,
          26,
          26,
          26,
          26,
          26,
          26,
          26,
          26,
          26,
          26,
          26,
          26,
          26,
          26,
          26,
          26,
          26,
          26,
          26,
          26,
          25,
          26,
          26,
          26,
          26,
          3,
          3,
          25,
          26,
          19,
          26,
          26,
          26,
          26,
          26,
          25,
          26,
          26,
          26,
          26,
          26,
          26,
          26,
          26,
          26,
          3,
          26,
          26,
          26,
          26,
          26,
          22,
          26,
          26,
          22,
          26,
          20,
          26,
          11,
          26,
          26,
          26,
          26,
          26,
          26,
          26,
          26,
          26,
          12,
          26,
          26,
          26,
          26,
          26,
          26,
          26,
          26,
          14,
          26,
          22,
          26,
          26,
          26,
          26,
          26,
          26,
          26,
          2,
          26,
          26,
          26,
          26,
          25,
          26,
          26,
          13,
          26,
          26,
          26,
          26,
          26,
          26,
          1,
          26,
          26,
          26,
          23,
          26,
          26,
          5,
          26,
          26,
          26,
          26,
          26,
          26,
          5,
          26,
          5,
          26,
          26,
          26,
          26,
          26,
          26,
          5,
          26,
          26,
          26,
          5,
          12,
          26,
          26,
          26,
          22,
          12,
          5,
          26,
          26,
          26,
          26,
          12,
          26,
          26,
          27,
          26,
          26,
          26,
          26,
          21,
          26,
          26,
          12,
          26,
          12,
          3,
          26,
          5,
          7,
          26,
          26,
          25,
          26,
          26,
          26,
          26,
          26,
          26,
          26,
          26,
          26,
          26,
          26,
          26,
          26,
          26,
          26,
          26,
          26,
          26,
          26,
          26,
          26,
          26,
          5,
          26,
          26,
          19,
          26,
          26,
          26,
          5,
          26,
          26,
          5,
          26,
          26,
          16,
          21,
          26,
          26,
          26,
          26,
          26,
          26,
          26,
          5,
          26,
          26,
          26,
          26,
          26,
          20,
          26,
          26,
          26,
          26,
          26,
          26,
          26,
          26,
          5,
          26,
          26,
          5,
          26,
          26,
          26,
          3,
          26,
          26,
          26,
          2,
          26,
          12,
          26,
          26,
          4,
          5,
          26,
          26,
          12,
          26,
          26,
          26,
          26,
          26,
          26,
          26,
          26,
          26,
          26,
          26,
          25,
          26,
          26,
          26,
          26
         ]
        },
        {
         "hovertemplate": "class=%{marker.color}<br>industry=%{x}<br>sector=%{y}<br>country=%{z}<extra></extra>",
         "legendgroup": "1",
         "marker": {
          "color": [
           1,
           1
          ],
          "coloraxis": "coloraxis",
          "symbol": "diamond"
         },
         "mode": "markers",
         "name": "1",
         "scene": "scene",
         "showlegend": true,
         "type": "scatter3d",
         "x": [
          49,
          12
         ],
         "y": [
          2,
          6
         ],
         "z": [
          6,
          25
         ]
        }
       ],
       "layout": {
        "coloraxis": {
         "colorbar": {
          "title": {
           "text": "class"
          }
         },
         "colorscale": [
          [
           0,
           "#0d0887"
          ],
          [
           0.1111111111111111,
           "#46039f"
          ],
          [
           0.2222222222222222,
           "#7201a8"
          ],
          [
           0.3333333333333333,
           "#9c179e"
          ],
          [
           0.4444444444444444,
           "#bd3786"
          ],
          [
           0.5555555555555556,
           "#d8576b"
          ],
          [
           0.6666666666666666,
           "#ed7953"
          ],
          [
           0.7777777777777778,
           "#fb9f3a"
          ],
          [
           0.8888888888888888,
           "#fdca26"
          ],
          [
           1,
           "#f0f921"
          ]
         ]
        },
        "legend": {
         "title": {
          "text": "class"
         },
         "tracegroupgap": 0,
         "x": 0,
         "y": 1
        },
        "margin": {
         "t": 60
        },
        "scene": {
         "domain": {
          "x": [
           0,
           1
          ],
          "y": [
           0,
           1
          ]
         },
         "xaxis": {
          "title": {
           "text": "industry"
          }
         },
         "yaxis": {
          "title": {
           "text": "sector"
          }
         },
         "zaxis": {
          "title": {
           "text": "country"
          }
         }
        },
        "template": {
         "data": {
          "bar": [
           {
            "error_x": {
             "color": "#2a3f5f"
            },
            "error_y": {
             "color": "#2a3f5f"
            },
            "marker": {
             "line": {
              "color": "#E5ECF6",
              "width": 0.5
             },
             "pattern": {
              "fillmode": "overlay",
              "size": 10,
              "solidity": 0.2
             }
            },
            "type": "bar"
           }
          ],
          "barpolar": [
           {
            "marker": {
             "line": {
              "color": "#E5ECF6",
              "width": 0.5
             },
             "pattern": {
              "fillmode": "overlay",
              "size": 10,
              "solidity": 0.2
             }
            },
            "type": "barpolar"
           }
          ],
          "carpet": [
           {
            "aaxis": {
             "endlinecolor": "#2a3f5f",
             "gridcolor": "white",
             "linecolor": "white",
             "minorgridcolor": "white",
             "startlinecolor": "#2a3f5f"
            },
            "baxis": {
             "endlinecolor": "#2a3f5f",
             "gridcolor": "white",
             "linecolor": "white",
             "minorgridcolor": "white",
             "startlinecolor": "#2a3f5f"
            },
            "type": "carpet"
           }
          ],
          "choropleth": [
           {
            "colorbar": {
             "outlinewidth": 0,
             "ticks": ""
            },
            "type": "choropleth"
           }
          ],
          "contour": [
           {
            "colorbar": {
             "outlinewidth": 0,
             "ticks": ""
            },
            "colorscale": [
             [
              0,
              "#0d0887"
             ],
             [
              0.1111111111111111,
              "#46039f"
             ],
             [
              0.2222222222222222,
              "#7201a8"
             ],
             [
              0.3333333333333333,
              "#9c179e"
             ],
             [
              0.4444444444444444,
              "#bd3786"
             ],
             [
              0.5555555555555556,
              "#d8576b"
             ],
             [
              0.6666666666666666,
              "#ed7953"
             ],
             [
              0.7777777777777778,
              "#fb9f3a"
             ],
             [
              0.8888888888888888,
              "#fdca26"
             ],
             [
              1,
              "#f0f921"
             ]
            ],
            "type": "contour"
           }
          ],
          "contourcarpet": [
           {
            "colorbar": {
             "outlinewidth": 0,
             "ticks": ""
            },
            "type": "contourcarpet"
           }
          ],
          "heatmap": [
           {
            "colorbar": {
             "outlinewidth": 0,
             "ticks": ""
            },
            "colorscale": [
             [
              0,
              "#0d0887"
             ],
             [
              0.1111111111111111,
              "#46039f"
             ],
             [
              0.2222222222222222,
              "#7201a8"
             ],
             [
              0.3333333333333333,
              "#9c179e"
             ],
             [
              0.4444444444444444,
              "#bd3786"
             ],
             [
              0.5555555555555556,
              "#d8576b"
             ],
             [
              0.6666666666666666,
              "#ed7953"
             ],
             [
              0.7777777777777778,
              "#fb9f3a"
             ],
             [
              0.8888888888888888,
              "#fdca26"
             ],
             [
              1,
              "#f0f921"
             ]
            ],
            "type": "heatmap"
           }
          ],
          "heatmapgl": [
           {
            "colorbar": {
             "outlinewidth": 0,
             "ticks": ""
            },
            "colorscale": [
             [
              0,
              "#0d0887"
             ],
             [
              0.1111111111111111,
              "#46039f"
             ],
             [
              0.2222222222222222,
              "#7201a8"
             ],
             [
              0.3333333333333333,
              "#9c179e"
             ],
             [
              0.4444444444444444,
              "#bd3786"
             ],
             [
              0.5555555555555556,
              "#d8576b"
             ],
             [
              0.6666666666666666,
              "#ed7953"
             ],
             [
              0.7777777777777778,
              "#fb9f3a"
             ],
             [
              0.8888888888888888,
              "#fdca26"
             ],
             [
              1,
              "#f0f921"
             ]
            ],
            "type": "heatmapgl"
           }
          ],
          "histogram": [
           {
            "marker": {
             "pattern": {
              "fillmode": "overlay",
              "size": 10,
              "solidity": 0.2
             }
            },
            "type": "histogram"
           }
          ],
          "histogram2d": [
           {
            "colorbar": {
             "outlinewidth": 0,
             "ticks": ""
            },
            "colorscale": [
             [
              0,
              "#0d0887"
             ],
             [
              0.1111111111111111,
              "#46039f"
             ],
             [
              0.2222222222222222,
              "#7201a8"
             ],
             [
              0.3333333333333333,
              "#9c179e"
             ],
             [
              0.4444444444444444,
              "#bd3786"
             ],
             [
              0.5555555555555556,
              "#d8576b"
             ],
             [
              0.6666666666666666,
              "#ed7953"
             ],
             [
              0.7777777777777778,
              "#fb9f3a"
             ],
             [
              0.8888888888888888,
              "#fdca26"
             ],
             [
              1,
              "#f0f921"
             ]
            ],
            "type": "histogram2d"
           }
          ],
          "histogram2dcontour": [
           {
            "colorbar": {
             "outlinewidth": 0,
             "ticks": ""
            },
            "colorscale": [
             [
              0,
              "#0d0887"
             ],
             [
              0.1111111111111111,
              "#46039f"
             ],
             [
              0.2222222222222222,
              "#7201a8"
             ],
             [
              0.3333333333333333,
              "#9c179e"
             ],
             [
              0.4444444444444444,
              "#bd3786"
             ],
             [
              0.5555555555555556,
              "#d8576b"
             ],
             [
              0.6666666666666666,
              "#ed7953"
             ],
             [
              0.7777777777777778,
              "#fb9f3a"
             ],
             [
              0.8888888888888888,
              "#fdca26"
             ],
             [
              1,
              "#f0f921"
             ]
            ],
            "type": "histogram2dcontour"
           }
          ],
          "mesh3d": [
           {
            "colorbar": {
             "outlinewidth": 0,
             "ticks": ""
            },
            "type": "mesh3d"
           }
          ],
          "parcoords": [
           {
            "line": {
             "colorbar": {
              "outlinewidth": 0,
              "ticks": ""
             }
            },
            "type": "parcoords"
           }
          ],
          "pie": [
           {
            "automargin": true,
            "type": "pie"
           }
          ],
          "scatter": [
           {
            "marker": {
             "colorbar": {
              "outlinewidth": 0,
              "ticks": ""
             }
            },
            "type": "scatter"
           }
          ],
          "scatter3d": [
           {
            "line": {
             "colorbar": {
              "outlinewidth": 0,
              "ticks": ""
             }
            },
            "marker": {
             "colorbar": {
              "outlinewidth": 0,
              "ticks": ""
             }
            },
            "type": "scatter3d"
           }
          ],
          "scattercarpet": [
           {
            "marker": {
             "colorbar": {
              "outlinewidth": 0,
              "ticks": ""
             }
            },
            "type": "scattercarpet"
           }
          ],
          "scattergeo": [
           {
            "marker": {
             "colorbar": {
              "outlinewidth": 0,
              "ticks": ""
             }
            },
            "type": "scattergeo"
           }
          ],
          "scattergl": [
           {
            "marker": {
             "colorbar": {
              "outlinewidth": 0,
              "ticks": ""
             }
            },
            "type": "scattergl"
           }
          ],
          "scattermapbox": [
           {
            "marker": {
             "colorbar": {
              "outlinewidth": 0,
              "ticks": ""
             }
            },
            "type": "scattermapbox"
           }
          ],
          "scatterpolar": [
           {
            "marker": {
             "colorbar": {
              "outlinewidth": 0,
              "ticks": ""
             }
            },
            "type": "scatterpolar"
           }
          ],
          "scatterpolargl": [
           {
            "marker": {
             "colorbar": {
              "outlinewidth": 0,
              "ticks": ""
             }
            },
            "type": "scatterpolargl"
           }
          ],
          "scatterternary": [
           {
            "marker": {
             "colorbar": {
              "outlinewidth": 0,
              "ticks": ""
             }
            },
            "type": "scatterternary"
           }
          ],
          "surface": [
           {
            "colorbar": {
             "outlinewidth": 0,
             "ticks": ""
            },
            "colorscale": [
             [
              0,
              "#0d0887"
             ],
             [
              0.1111111111111111,
              "#46039f"
             ],
             [
              0.2222222222222222,
              "#7201a8"
             ],
             [
              0.3333333333333333,
              "#9c179e"
             ],
             [
              0.4444444444444444,
              "#bd3786"
             ],
             [
              0.5555555555555556,
              "#d8576b"
             ],
             [
              0.6666666666666666,
              "#ed7953"
             ],
             [
              0.7777777777777778,
              "#fb9f3a"
             ],
             [
              0.8888888888888888,
              "#fdca26"
             ],
             [
              1,
              "#f0f921"
             ]
            ],
            "type": "surface"
           }
          ],
          "table": [
           {
            "cells": {
             "fill": {
              "color": "#EBF0F8"
             },
             "line": {
              "color": "white"
             }
            },
            "header": {
             "fill": {
              "color": "#C8D4E3"
             },
             "line": {
              "color": "white"
             }
            },
            "type": "table"
           }
          ]
         },
         "layout": {
          "annotationdefaults": {
           "arrowcolor": "#2a3f5f",
           "arrowhead": 0,
           "arrowwidth": 1
          },
          "autotypenumbers": "strict",
          "coloraxis": {
           "colorbar": {
            "outlinewidth": 0,
            "ticks": ""
           }
          },
          "colorscale": {
           "diverging": [
            [
             0,
             "#8e0152"
            ],
            [
             0.1,
             "#c51b7d"
            ],
            [
             0.2,
             "#de77ae"
            ],
            [
             0.3,
             "#f1b6da"
            ],
            [
             0.4,
             "#fde0ef"
            ],
            [
             0.5,
             "#f7f7f7"
            ],
            [
             0.6,
             "#e6f5d0"
            ],
            [
             0.7,
             "#b8e186"
            ],
            [
             0.8,
             "#7fbc41"
            ],
            [
             0.9,
             "#4d9221"
            ],
            [
             1,
             "#276419"
            ]
           ],
           "sequential": [
            [
             0,
             "#0d0887"
            ],
            [
             0.1111111111111111,
             "#46039f"
            ],
            [
             0.2222222222222222,
             "#7201a8"
            ],
            [
             0.3333333333333333,
             "#9c179e"
            ],
            [
             0.4444444444444444,
             "#bd3786"
            ],
            [
             0.5555555555555556,
             "#d8576b"
            ],
            [
             0.6666666666666666,
             "#ed7953"
            ],
            [
             0.7777777777777778,
             "#fb9f3a"
            ],
            [
             0.8888888888888888,
             "#fdca26"
            ],
            [
             1,
             "#f0f921"
            ]
           ],
           "sequentialminus": [
            [
             0,
             "#0d0887"
            ],
            [
             0.1111111111111111,
             "#46039f"
            ],
            [
             0.2222222222222222,
             "#7201a8"
            ],
            [
             0.3333333333333333,
             "#9c179e"
            ],
            [
             0.4444444444444444,
             "#bd3786"
            ],
            [
             0.5555555555555556,
             "#d8576b"
            ],
            [
             0.6666666666666666,
             "#ed7953"
            ],
            [
             0.7777777777777778,
             "#fb9f3a"
            ],
            [
             0.8888888888888888,
             "#fdca26"
            ],
            [
             1,
             "#f0f921"
            ]
           ]
          },
          "colorway": [
           "#636efa",
           "#EF553B",
           "#00cc96",
           "#ab63fa",
           "#FFA15A",
           "#19d3f3",
           "#FF6692",
           "#B6E880",
           "#FF97FF",
           "#FECB52"
          ],
          "font": {
           "color": "#2a3f5f"
          },
          "geo": {
           "bgcolor": "white",
           "lakecolor": "white",
           "landcolor": "#E5ECF6",
           "showlakes": true,
           "showland": true,
           "subunitcolor": "white"
          },
          "hoverlabel": {
           "align": "left"
          },
          "hovermode": "closest",
          "mapbox": {
           "style": "light"
          },
          "paper_bgcolor": "white",
          "plot_bgcolor": "#E5ECF6",
          "polar": {
           "angularaxis": {
            "gridcolor": "white",
            "linecolor": "white",
            "ticks": ""
           },
           "bgcolor": "#E5ECF6",
           "radialaxis": {
            "gridcolor": "white",
            "linecolor": "white",
            "ticks": ""
           }
          },
          "scene": {
           "xaxis": {
            "backgroundcolor": "#E5ECF6",
            "gridcolor": "white",
            "gridwidth": 2,
            "linecolor": "white",
            "showbackground": true,
            "ticks": "",
            "zerolinecolor": "white"
           },
           "yaxis": {
            "backgroundcolor": "#E5ECF6",
            "gridcolor": "white",
            "gridwidth": 2,
            "linecolor": "white",
            "showbackground": true,
            "ticks": "",
            "zerolinecolor": "white"
           },
           "zaxis": {
            "backgroundcolor": "#E5ECF6",
            "gridcolor": "white",
            "gridwidth": 2,
            "linecolor": "white",
            "showbackground": true,
            "ticks": "",
            "zerolinecolor": "white"
           }
          },
          "shapedefaults": {
           "line": {
            "color": "#2a3f5f"
           }
          },
          "ternary": {
           "aaxis": {
            "gridcolor": "white",
            "linecolor": "white",
            "ticks": ""
           },
           "baxis": {
            "gridcolor": "white",
            "linecolor": "white",
            "ticks": ""
           },
           "bgcolor": "#E5ECF6",
           "caxis": {
            "gridcolor": "white",
            "linecolor": "white",
            "ticks": ""
           }
          },
          "title": {
           "x": 0.05
          },
          "xaxis": {
           "automargin": true,
           "gridcolor": "white",
           "linecolor": "white",
           "ticks": "",
           "title": {
            "standoff": 15
           },
           "zerolinecolor": "white",
           "zerolinewidth": 2
          },
          "yaxis": {
           "automargin": true,
           "gridcolor": "white",
           "linecolor": "white",
           "ticks": "",
           "title": {
            "standoff": 15
           },
           "zerolinecolor": "white",
           "zerolinewidth": 2
          }
         }
        },
        "width": 800
       }
      },
      "text/html": [
       "<div>                            <div id=\"1f62a78e-4771-4e70-850b-32f1040f4cce\" class=\"plotly-graph-div\" style=\"height:525px; width:800px;\"></div>            <script type=\"text/javascript\">                require([\"plotly\"], function(Plotly) {                    window.PLOTLYENV=window.PLOTLYENV || {};                                    if (document.getElementById(\"1f62a78e-4771-4e70-850b-32f1040f4cce\")) {                    Plotly.newPlot(                        \"1f62a78e-4771-4e70-850b-32f1040f4cce\",                        [{\"hovertemplate\":\"class=%{marker.color}<br>industry=%{x}<br>sector=%{y}<br>country=%{z}<extra></extra>\",\"legendgroup\":\"0\",\"marker\":{\"color\":[0,0,0,0,0,0,0,0,0,0,0,0,0,0,0,0,0,0,0,0,0,0,0,0,0,0,0,0,0,0,0,0,0,0,0,0,0,0,0,0,0,0,0,0,0,0,0,0,0,0,0,0,0,0,0,0,0,0,0,0,0,0,0,0,0,0,0,0,0,0,0,0,0,0,0,0,0,0,0,0,0,0,0,0,0,0,0,0,0,0,0,0,0,0,0,0,0,0,0,0,0,0,0,0,0,0,0,0,0,0,0,0,0,0,0,0,0,0,0,0,0,0,0,0,0,0,0,0,0,0,0,0,0,0,0,0,0,0,0,0,0,0,0,0,0,0,0,0,0,0,0,0,0,0,0,0,0,0,0,0,0,0,0,0,0,0,0,0,0,0,0,0,0,0,0,0,0,0,0,0,0,0,0,0,0,0,0,0,0,0,0,0,0,0,0,0,0,0,0,0,0,0,0,0,0,0,0,0,0,0,0,0,0,0,0,0,0,0,0,0,0,0,0,0,0,0,0,0,0,0,0,0,0,0,0,0,0,0,0,0,0,0,0,0,0,0,0,0,0,0,0,0,0,0,0,0,0,0,0,0,0,0,0,0,0,0,0,0,0,0,0,0,0,0,0,0,0,0,0,0,0,0,0,0,0,0,0,0,0,0,0,0,0,0,0,0,0,0,0,0,0,0,0,0,0,0,0,0,0,0,0,0,0,0,0,0,0,0,0,0,0,0,0,0,0,0,0,0,0,0,0,0,0,0,0,0,0,0,0,0,0,0,0,0,0,0,0,0,0,0,0,0,0,0,0,0,0,0,0,0,0,0,0,0,0,0,0,0,0,0,0,0,0,0,0,0,0,0,0,0,0,0,0,0,0,0,0,0,0,0,0,0,0,0,0,0,0,0,0,0,0,0,0,0,0,0,0,0,0,0,0,0,0,0,0,0,0,0,0,0,0,0,0,0,0,0,0,0,0,0,0,0,0,0,0,0,0,0,0,0,0,0,0,0,0,0,0,0,0,0,0,0,0,0,0,0,0,0,0,0,0,0,0,0,0,0,0,0,0,0,0,0,0,0,0,0,0,0,0,0,0,0,0,0,0,0,0,0,0,0,0,0,0,0,0,0,0,0,0,0,0,0,0,0,0,0,0,0,0,0,0,0,0,0,0,0,0,0,0,0,0,0,0,0,0,0,0,0,0,0,0,0,0,0,0,0,0,0,0,0,0,0,0,0,0],\"coloraxis\":\"coloraxis\",\"symbol\":\"circle\"},\"mode\":\"markers\",\"name\":\"0\",\"scene\":\"scene\",\"showlegend\":true,\"x\":[59,76,76,76,1,15,69,18,75,48,55,22,9,12,54,24,38,12,44,62,12,9,12,9,21,50,76,22,56,55,9,77,56,38,9,76,74,23,59,22,38,78,24,9,5,12,13,12,21,38,48,52,12,12,38,12,17,37,22,49,48,77,49,24,12,12,61,80,76,68,48,17,76,83,57,9,81,9,27,49,62,38,55,85,12,59,48,76,55,46,76,23,12,55,15,76,12,3,15,15,55,12,48,16,12,12,12,89,55,12,55,21,49,12,38,12,12,59,55,86,31,43,48,76,12,12,24,76,72,12,22,36,43,82,21,12,75,40,76,22,48,46,12,12,58,77,12,12,12,78,9,82,12,24,77,55,13,66,82,12,34,55,48,76,82,43,77,76,17,26,76,18,38,55,62,76,24,38,66,63,77,76,76,5,76,35,7,7,12,12,12,12,76,71,69,76,43,55,54,58,76,77,71,82,32,24,7,76,12,92,76,12,38,12,47,44,76,76,38,46,33,37,76,12,22,12,12,14,22,12,84,6,49,77,12,76,12,30,55,44,12,76,36,0,92,65,12,44,67,72,9,12,38,38,63,12,48,58,56,76,77,77,8,9,74,76,71,15,76,23,77,4,49,11,76,77,76,76,0,9,62,40,1,23,22,21,4,67,54,83,55,24,49,91,75,75,77,4,90,38,10,76,74,5,15,55,76,84,77,38,55,50,71,77,12,74,79,82,56,76,76,38,15,52,77,77,62,77,62,49,76,77,9,47,77,74,38,76,4,55,43,76,66,27,22,32,9,41,35,12,55,55,35,77,12,76,76,76,76,28,12,42,12,55,36,48,38,9,50,12,77,76,47,12,77,10,77,76,76,76,76,5,56,50,51,69,55,22,55,56,4,37,77,49,77,55,76,0,76,79,77,81,76,37,64,37,23,39,77,38,76,79,76,12,55,56,49,0,22,12,38,12,76,83,12,43,49,54,76,76,77,77,3,43,43,83,10,76,77,49,49,48,23,19,45,12,9,82,12,54,30,38,78,38,14,55,77,55,80,76,77,75,0,56,12,54,76,36,63,87,76,64,76,76,76,2,24,39,5,12,49,48,18,64,12,22,76,20,6,77,70,12,11,77,76,2,25,82,12,49,27,54,39,12,55,76,55,58,12,38,76,76,12,55,76,77,58,5,29,5,76,53,78,88,5,85,73,6,27,49,82,77,27,60,9,55,38,91,0,66,12,17,35,5,49],\"y\":[4,9,9,9,7,5,8,9,9,1,6,6,5,6,6,3,6,6,5,3,6,5,6,5,5,2,9,6,6,6,5,9,6,6,5,9,2,6,4,6,6,9,3,5,5,6,1,6,5,6,1,2,6,6,6,6,9,3,6,2,1,9,2,3,6,6,4,0,9,8,1,9,9,7,7,5,7,5,1,2,3,6,6,3,6,4,1,9,6,5,9,6,6,6,5,9,6,2,5,5,6,6,1,0,6,6,6,10,6,6,6,5,2,6,6,6,6,4,6,2,7,9,1,9,6,6,3,9,2,6,6,2,9,2,5,6,9,2,9,6,1,5,6,6,5,9,6,6,6,9,5,2,6,3,9,6,1,8,2,6,3,6,1,9,2,9,9,9,9,9,9,9,6,6,3,9,3,6,8,2,9,9,9,5,9,2,2,2,6,6,6,6,9,8,8,9,9,6,6,5,9,9,8,2,3,3,2,9,6,7,9,6,6,6,5,5,9,9,6,5,5,3,9,6,6,6,6,7,6,6,1,2,2,9,6,9,6,1,6,5,6,9,2,1,7,6,6,5,8,2,5,6,6,6,2,6,1,5,6,9,9,9,5,5,2,9,8,5,9,6,9,2,2,3,9,9,9,9,1,5,3,2,7,6,6,5,2,8,6,7,6,3,2,10,9,9,9,2,10,6,3,9,2,5,5,6,9,1,9,6,6,2,8,9,6,2,7,2,6,9,9,6,5,2,9,9,3,9,3,2,9,9,5,5,9,2,6,9,2,6,9,9,8,1,6,3,5,3,2,6,6,6,2,9,6,9,9,9,9,9,6,7,6,6,2,1,6,5,2,6,9,9,5,6,9,3,9,9,9,9,9,5,6,2,2,8,6,6,6,6,2,3,9,2,9,6,9,1,9,7,9,7,9,3,2,3,6,6,9,6,9,7,9,6,6,6,2,1,6,6,6,6,9,7,6,9,2,6,9,9,9,9,2,9,9,7,3,9,9,2,2,1,6,7,5,6,5,2,6,6,1,6,9,6,7,6,9,6,0,9,9,9,1,6,6,6,9,2,2,7,9,2,9,9,9,7,3,6,5,6,2,1,9,2,6,6,9,9,2,9,8,6,3,9,9,7,7,2,6,2,1,6,6,6,6,9,6,5,6,6,9,9,6,6,9,9,5,5,7,5,9,7,9,10,5,3,2,2,1,2,2,9,1,4,5,6,6,10,1,8,6,9,2,5,2],\"z\":[10,5,26,26,5,2,26,5,26,5,26,8,26,26,5,5,26,26,26,26,7,26,8,26,26,26,26,26,26,12,26,26,26,26,26,26,26,3,15,26,26,26,2,17,26,26,26,26,26,26,5,26,26,26,26,26,26,26,26,26,12,26,26,5,25,26,26,26,26,26,5,26,26,18,26,26,26,26,26,5,26,5,26,26,26,26,26,26,12,26,26,26,26,26,26,26,26,26,5,9,26,26,26,26,26,26,26,26,26,26,26,26,26,3,26,26,7,26,26,26,26,26,26,26,26,26,5,3,3,26,26,12,26,5,5,26,26,26,3,26,26,26,26,25,26,26,26,0,26,26,26,5,26,5,26,26,26,26,26,26,26,26,26,26,5,5,26,24,3,8,26,26,26,26,26,26,2,26,26,26,26,26,26,26,3,26,3,5,26,26,26,8,26,5,26,26,26,26,26,26,26,26,26,26,26,2,5,26,26,26,26,26,26,26,26,26,26,5,26,26,26,26,5,26,5,3,26,26,5,26,9,26,5,26,26,26,26,26,26,26,12,5,26,5,3,26,26,5,26,26,26,26,26,26,26,5,5,26,26,0,26,26,2,26,26,26,18,0,26,26,26,26,26,26,26,2,26,19,26,26,26,26,26,8,1,26,26,26,26,26,26,26,26,26,26,26,26,26,26,26,26,26,26,26,26,26,26,25,26,26,26,26,3,3,25,26,19,26,26,26,26,26,25,26,26,26,26,26,26,26,26,26,3,26,26,26,26,26,22,26,26,22,26,20,26,11,26,26,26,26,26,26,26,26,26,12,26,26,26,26,26,26,26,26,14,26,22,26,26,26,26,26,26,26,2,26,26,26,26,25,26,26,13,26,26,26,26,26,26,1,26,26,26,23,26,26,5,26,26,26,26,26,26,5,26,5,26,26,26,26,26,26,5,26,26,26,5,12,26,26,26,22,12,5,26,26,26,26,12,26,26,27,26,26,26,26,21,26,26,12,26,12,3,26,5,7,26,26,25,26,26,26,26,26,26,26,26,26,26,26,26,26,26,26,26,26,26,26,26,26,26,5,26,26,19,26,26,26,5,26,26,5,26,26,16,21,26,26,26,26,26,26,26,5,26,26,26,26,26,20,26,26,26,26,26,26,26,26,5,26,26,5,26,26,26,3,26,26,26,2,26,12,26,26,4,5,26,26,12,26,26,26,26,26,26,26,26,26,26,26,25,26,26,26,26],\"type\":\"scatter3d\"},{\"hovertemplate\":\"class=%{marker.color}<br>industry=%{x}<br>sector=%{y}<br>country=%{z}<extra></extra>\",\"legendgroup\":\"1\",\"marker\":{\"color\":[1,1],\"coloraxis\":\"coloraxis\",\"symbol\":\"diamond\"},\"mode\":\"markers\",\"name\":\"1\",\"scene\":\"scene\",\"showlegend\":true,\"x\":[49,12],\"y\":[2,6],\"z\":[6,25],\"type\":\"scatter3d\"}],                        {\"template\":{\"data\":{\"bar\":[{\"error_x\":{\"color\":\"#2a3f5f\"},\"error_y\":{\"color\":\"#2a3f5f\"},\"marker\":{\"line\":{\"color\":\"#E5ECF6\",\"width\":0.5},\"pattern\":{\"fillmode\":\"overlay\",\"size\":10,\"solidity\":0.2}},\"type\":\"bar\"}],\"barpolar\":[{\"marker\":{\"line\":{\"color\":\"#E5ECF6\",\"width\":0.5},\"pattern\":{\"fillmode\":\"overlay\",\"size\":10,\"solidity\":0.2}},\"type\":\"barpolar\"}],\"carpet\":[{\"aaxis\":{\"endlinecolor\":\"#2a3f5f\",\"gridcolor\":\"white\",\"linecolor\":\"white\",\"minorgridcolor\":\"white\",\"startlinecolor\":\"#2a3f5f\"},\"baxis\":{\"endlinecolor\":\"#2a3f5f\",\"gridcolor\":\"white\",\"linecolor\":\"white\",\"minorgridcolor\":\"white\",\"startlinecolor\":\"#2a3f5f\"},\"type\":\"carpet\"}],\"choropleth\":[{\"colorbar\":{\"outlinewidth\":0,\"ticks\":\"\"},\"type\":\"choropleth\"}],\"contour\":[{\"colorbar\":{\"outlinewidth\":0,\"ticks\":\"\"},\"colorscale\":[[0.0,\"#0d0887\"],[0.1111111111111111,\"#46039f\"],[0.2222222222222222,\"#7201a8\"],[0.3333333333333333,\"#9c179e\"],[0.4444444444444444,\"#bd3786\"],[0.5555555555555556,\"#d8576b\"],[0.6666666666666666,\"#ed7953\"],[0.7777777777777778,\"#fb9f3a\"],[0.8888888888888888,\"#fdca26\"],[1.0,\"#f0f921\"]],\"type\":\"contour\"}],\"contourcarpet\":[{\"colorbar\":{\"outlinewidth\":0,\"ticks\":\"\"},\"type\":\"contourcarpet\"}],\"heatmap\":[{\"colorbar\":{\"outlinewidth\":0,\"ticks\":\"\"},\"colorscale\":[[0.0,\"#0d0887\"],[0.1111111111111111,\"#46039f\"],[0.2222222222222222,\"#7201a8\"],[0.3333333333333333,\"#9c179e\"],[0.4444444444444444,\"#bd3786\"],[0.5555555555555556,\"#d8576b\"],[0.6666666666666666,\"#ed7953\"],[0.7777777777777778,\"#fb9f3a\"],[0.8888888888888888,\"#fdca26\"],[1.0,\"#f0f921\"]],\"type\":\"heatmap\"}],\"heatmapgl\":[{\"colorbar\":{\"outlinewidth\":0,\"ticks\":\"\"},\"colorscale\":[[0.0,\"#0d0887\"],[0.1111111111111111,\"#46039f\"],[0.2222222222222222,\"#7201a8\"],[0.3333333333333333,\"#9c179e\"],[0.4444444444444444,\"#bd3786\"],[0.5555555555555556,\"#d8576b\"],[0.6666666666666666,\"#ed7953\"],[0.7777777777777778,\"#fb9f3a\"],[0.8888888888888888,\"#fdca26\"],[1.0,\"#f0f921\"]],\"type\":\"heatmapgl\"}],\"histogram\":[{\"marker\":{\"pattern\":{\"fillmode\":\"overlay\",\"size\":10,\"solidity\":0.2}},\"type\":\"histogram\"}],\"histogram2d\":[{\"colorbar\":{\"outlinewidth\":0,\"ticks\":\"\"},\"colorscale\":[[0.0,\"#0d0887\"],[0.1111111111111111,\"#46039f\"],[0.2222222222222222,\"#7201a8\"],[0.3333333333333333,\"#9c179e\"],[0.4444444444444444,\"#bd3786\"],[0.5555555555555556,\"#d8576b\"],[0.6666666666666666,\"#ed7953\"],[0.7777777777777778,\"#fb9f3a\"],[0.8888888888888888,\"#fdca26\"],[1.0,\"#f0f921\"]],\"type\":\"histogram2d\"}],\"histogram2dcontour\":[{\"colorbar\":{\"outlinewidth\":0,\"ticks\":\"\"},\"colorscale\":[[0.0,\"#0d0887\"],[0.1111111111111111,\"#46039f\"],[0.2222222222222222,\"#7201a8\"],[0.3333333333333333,\"#9c179e\"],[0.4444444444444444,\"#bd3786\"],[0.5555555555555556,\"#d8576b\"],[0.6666666666666666,\"#ed7953\"],[0.7777777777777778,\"#fb9f3a\"],[0.8888888888888888,\"#fdca26\"],[1.0,\"#f0f921\"]],\"type\":\"histogram2dcontour\"}],\"mesh3d\":[{\"colorbar\":{\"outlinewidth\":0,\"ticks\":\"\"},\"type\":\"mesh3d\"}],\"parcoords\":[{\"line\":{\"colorbar\":{\"outlinewidth\":0,\"ticks\":\"\"}},\"type\":\"parcoords\"}],\"pie\":[{\"automargin\":true,\"type\":\"pie\"}],\"scatter\":[{\"marker\":{\"colorbar\":{\"outlinewidth\":0,\"ticks\":\"\"}},\"type\":\"scatter\"}],\"scatter3d\":[{\"line\":{\"colorbar\":{\"outlinewidth\":0,\"ticks\":\"\"}},\"marker\":{\"colorbar\":{\"outlinewidth\":0,\"ticks\":\"\"}},\"type\":\"scatter3d\"}],\"scattercarpet\":[{\"marker\":{\"colorbar\":{\"outlinewidth\":0,\"ticks\":\"\"}},\"type\":\"scattercarpet\"}],\"scattergeo\":[{\"marker\":{\"colorbar\":{\"outlinewidth\":0,\"ticks\":\"\"}},\"type\":\"scattergeo\"}],\"scattergl\":[{\"marker\":{\"colorbar\":{\"outlinewidth\":0,\"ticks\":\"\"}},\"type\":\"scattergl\"}],\"scattermapbox\":[{\"marker\":{\"colorbar\":{\"outlinewidth\":0,\"ticks\":\"\"}},\"type\":\"scattermapbox\"}],\"scatterpolar\":[{\"marker\":{\"colorbar\":{\"outlinewidth\":0,\"ticks\":\"\"}},\"type\":\"scatterpolar\"}],\"scatterpolargl\":[{\"marker\":{\"colorbar\":{\"outlinewidth\":0,\"ticks\":\"\"}},\"type\":\"scatterpolargl\"}],\"scatterternary\":[{\"marker\":{\"colorbar\":{\"outlinewidth\":0,\"ticks\":\"\"}},\"type\":\"scatterternary\"}],\"surface\":[{\"colorbar\":{\"outlinewidth\":0,\"ticks\":\"\"},\"colorscale\":[[0.0,\"#0d0887\"],[0.1111111111111111,\"#46039f\"],[0.2222222222222222,\"#7201a8\"],[0.3333333333333333,\"#9c179e\"],[0.4444444444444444,\"#bd3786\"],[0.5555555555555556,\"#d8576b\"],[0.6666666666666666,\"#ed7953\"],[0.7777777777777778,\"#fb9f3a\"],[0.8888888888888888,\"#fdca26\"],[1.0,\"#f0f921\"]],\"type\":\"surface\"}],\"table\":[{\"cells\":{\"fill\":{\"color\":\"#EBF0F8\"},\"line\":{\"color\":\"white\"}},\"header\":{\"fill\":{\"color\":\"#C8D4E3\"},\"line\":{\"color\":\"white\"}},\"type\":\"table\"}]},\"layout\":{\"annotationdefaults\":{\"arrowcolor\":\"#2a3f5f\",\"arrowhead\":0,\"arrowwidth\":1},\"autotypenumbers\":\"strict\",\"coloraxis\":{\"colorbar\":{\"outlinewidth\":0,\"ticks\":\"\"}},\"colorscale\":{\"diverging\":[[0,\"#8e0152\"],[0.1,\"#c51b7d\"],[0.2,\"#de77ae\"],[0.3,\"#f1b6da\"],[0.4,\"#fde0ef\"],[0.5,\"#f7f7f7\"],[0.6,\"#e6f5d0\"],[0.7,\"#b8e186\"],[0.8,\"#7fbc41\"],[0.9,\"#4d9221\"],[1,\"#276419\"]],\"sequential\":[[0.0,\"#0d0887\"],[0.1111111111111111,\"#46039f\"],[0.2222222222222222,\"#7201a8\"],[0.3333333333333333,\"#9c179e\"],[0.4444444444444444,\"#bd3786\"],[0.5555555555555556,\"#d8576b\"],[0.6666666666666666,\"#ed7953\"],[0.7777777777777778,\"#fb9f3a\"],[0.8888888888888888,\"#fdca26\"],[1.0,\"#f0f921\"]],\"sequentialminus\":[[0.0,\"#0d0887\"],[0.1111111111111111,\"#46039f\"],[0.2222222222222222,\"#7201a8\"],[0.3333333333333333,\"#9c179e\"],[0.4444444444444444,\"#bd3786\"],[0.5555555555555556,\"#d8576b\"],[0.6666666666666666,\"#ed7953\"],[0.7777777777777778,\"#fb9f3a\"],[0.8888888888888888,\"#fdca26\"],[1.0,\"#f0f921\"]]},\"colorway\":[\"#636efa\",\"#EF553B\",\"#00cc96\",\"#ab63fa\",\"#FFA15A\",\"#19d3f3\",\"#FF6692\",\"#B6E880\",\"#FF97FF\",\"#FECB52\"],\"font\":{\"color\":\"#2a3f5f\"},\"geo\":{\"bgcolor\":\"white\",\"lakecolor\":\"white\",\"landcolor\":\"#E5ECF6\",\"showlakes\":true,\"showland\":true,\"subunitcolor\":\"white\"},\"hoverlabel\":{\"align\":\"left\"},\"hovermode\":\"closest\",\"mapbox\":{\"style\":\"light\"},\"paper_bgcolor\":\"white\",\"plot_bgcolor\":\"#E5ECF6\",\"polar\":{\"angularaxis\":{\"gridcolor\":\"white\",\"linecolor\":\"white\",\"ticks\":\"\"},\"bgcolor\":\"#E5ECF6\",\"radialaxis\":{\"gridcolor\":\"white\",\"linecolor\":\"white\",\"ticks\":\"\"}},\"scene\":{\"xaxis\":{\"backgroundcolor\":\"#E5ECF6\",\"gridcolor\":\"white\",\"gridwidth\":2,\"linecolor\":\"white\",\"showbackground\":true,\"ticks\":\"\",\"zerolinecolor\":\"white\"},\"yaxis\":{\"backgroundcolor\":\"#E5ECF6\",\"gridcolor\":\"white\",\"gridwidth\":2,\"linecolor\":\"white\",\"showbackground\":true,\"ticks\":\"\",\"zerolinecolor\":\"white\"},\"zaxis\":{\"backgroundcolor\":\"#E5ECF6\",\"gridcolor\":\"white\",\"gridwidth\":2,\"linecolor\":\"white\",\"showbackground\":true,\"ticks\":\"\",\"zerolinecolor\":\"white\"}},\"shapedefaults\":{\"line\":{\"color\":\"#2a3f5f\"}},\"ternary\":{\"aaxis\":{\"gridcolor\":\"white\",\"linecolor\":\"white\",\"ticks\":\"\"},\"baxis\":{\"gridcolor\":\"white\",\"linecolor\":\"white\",\"ticks\":\"\"},\"bgcolor\":\"#E5ECF6\",\"caxis\":{\"gridcolor\":\"white\",\"linecolor\":\"white\",\"ticks\":\"\"}},\"title\":{\"x\":0.05},\"xaxis\":{\"automargin\":true,\"gridcolor\":\"white\",\"linecolor\":\"white\",\"ticks\":\"\",\"title\":{\"standoff\":15},\"zerolinecolor\":\"white\",\"zerolinewidth\":2},\"yaxis\":{\"automargin\":true,\"gridcolor\":\"white\",\"linecolor\":\"white\",\"ticks\":\"\",\"title\":{\"standoff\":15},\"zerolinecolor\":\"white\",\"zerolinewidth\":2}}},\"scene\":{\"domain\":{\"x\":[0.0,1.0],\"y\":[0.0,1.0]},\"xaxis\":{\"title\":{\"text\":\"industry\"}},\"yaxis\":{\"title\":{\"text\":\"sector\"}},\"zaxis\":{\"title\":{\"text\":\"country\"}}},\"coloraxis\":{\"colorbar\":{\"title\":{\"text\":\"class\"}},\"colorscale\":[[0.0,\"#0d0887\"],[0.1111111111111111,\"#46039f\"],[0.2222222222222222,\"#7201a8\"],[0.3333333333333333,\"#9c179e\"],[0.4444444444444444,\"#bd3786\"],[0.5555555555555556,\"#d8576b\"],[0.6666666666666666,\"#ed7953\"],[0.7777777777777778,\"#fb9f3a\"],[0.8888888888888888,\"#fdca26\"],[1.0,\"#f0f921\"]]},\"legend\":{\"title\":{\"text\":\"class\"},\"tracegroupgap\":0,\"x\":0,\"y\":1},\"margin\":{\"t\":60},\"width\":800},                        {\"responsive\": true}                    ).then(function(){\n",
       "                            \n",
       "var gd = document.getElementById('1f62a78e-4771-4e70-850b-32f1040f4cce');\n",
       "var x = new MutationObserver(function (mutations, observer) {{\n",
       "        var display = window.getComputedStyle(gd).display;\n",
       "        if (!display || display === 'none') {{\n",
       "            console.log([gd, 'removed!']);\n",
       "            Plotly.purge(gd);\n",
       "            observer.disconnect();\n",
       "        }}\n",
       "}});\n",
       "\n",
       "// Listen for the removal of the full notebook cells\n",
       "var notebookContainer = gd.closest('#notebook-container');\n",
       "if (notebookContainer) {{\n",
       "    x.observe(notebookContainer, {childList: true});\n",
       "}}\n",
       "\n",
       "// Listen for the clearing of the current output cell\n",
       "var outputEl = gd.closest('.output');\n",
       "if (outputEl) {{\n",
       "    x.observe(outputEl, {childList: true});\n",
       "}}\n",
       "\n",
       "                        })                };                });            </script>        </div>"
      ]
     },
     "metadata": {},
     "output_type": "display_data"
    }
   ],
   "source": [
    "fig = px.scatter_3d(\n",
    "    df1,\n",
    "    x='industry',\n",
    "    y='sector',\n",
    "    z='country',\n",
    "    color='class',\n",
    "    symbol='class',\n",
    "    width=800,\n",
    ")\n",
    "\n",
    "fig.update_layout(legend=dict(x=0, y=1))\n",
    "fig.show()"
   ]
  },
  {
   "cell_type": "code",
   "execution_count": 113,
   "id": "4550301a",
   "metadata": {},
   "outputs": [
    {
     "data": {
      "text/html": [
       "<div>\n",
       "<style scoped>\n",
       "    .dataframe tbody tr th:only-of-type {\n",
       "        vertical-align: middle;\n",
       "    }\n",
       "\n",
       "    .dataframe tbody tr th {\n",
       "        vertical-align: top;\n",
       "    }\n",
       "\n",
       "    .dataframe thead th {\n",
       "        text-align: right;\n",
       "    }\n",
       "</style>\n",
       "<table border=\"1\" class=\"dataframe\">\n",
       "  <thead>\n",
       "    <tr style=\"text-align: right;\">\n",
       "      <th></th>\n",
       "      <th>sector</th>\n",
       "      <th>industry</th>\n",
       "      <th>country</th>\n",
       "      <th>growth_rate</th>\n",
       "      <th>target_median_price</th>\n",
       "      <th>target_mean_price</th>\n",
       "      <th>target_high_price</th>\n",
       "    </tr>\n",
       "  </thead>\n",
       "  <tbody>\n",
       "    <tr>\n",
       "      <th>0</th>\n",
       "      <td>4</td>\n",
       "      <td>59</td>\n",
       "      <td>10</td>\n",
       "      <td>1.206</td>\n",
       "      <td>15.00</td>\n",
       "      <td>15.00</td>\n",
       "      <td>15.0</td>\n",
       "    </tr>\n",
       "    <tr>\n",
       "      <th>726</th>\n",
       "      <td>9</td>\n",
       "      <td>76</td>\n",
       "      <td>5</td>\n",
       "      <td>0.172</td>\n",
       "      <td>1.59</td>\n",
       "      <td>1.59</td>\n",
       "      <td>2.5</td>\n",
       "    </tr>\n",
       "    <tr>\n",
       "      <th>1456</th>\n",
       "      <td>9</td>\n",
       "      <td>76</td>\n",
       "      <td>26</td>\n",
       "      <td>0.375</td>\n",
       "      <td>75.00</td>\n",
       "      <td>75.00</td>\n",
       "      <td>100.0</td>\n",
       "    </tr>\n",
       "    <tr>\n",
       "      <th>2186</th>\n",
       "      <td>9</td>\n",
       "      <td>76</td>\n",
       "      <td>26</td>\n",
       "      <td>1.558</td>\n",
       "      <td>205.00</td>\n",
       "      <td>205.00</td>\n",
       "      <td>300.0</td>\n",
       "    </tr>\n",
       "    <tr>\n",
       "      <th>2917</th>\n",
       "      <td>7</td>\n",
       "      <td>1</td>\n",
       "      <td>5</td>\n",
       "      <td>0.202</td>\n",
       "      <td>4.00</td>\n",
       "      <td>4.00</td>\n",
       "      <td>4.0</td>\n",
       "    </tr>\n",
       "  </tbody>\n",
       "</table>\n",
       "</div>"
      ],
      "text/plain": [
       "      sector  industry  country  growth_rate  target_median_price  \\\n",
       "0          4        59       10        1.206                15.00   \n",
       "726        9        76        5        0.172                 1.59   \n",
       "1456       9        76       26        0.375                75.00   \n",
       "2186       9        76       26        1.558               205.00   \n",
       "2917       7         1        5        0.202                 4.00   \n",
       "\n",
       "      target_mean_price  target_high_price  \n",
       "0                 15.00               15.0  \n",
       "726                1.59                2.5  \n",
       "1456              75.00              100.0  \n",
       "2186             205.00              300.0  \n",
       "2917               4.00                4.0  "
      ]
     },
     "execution_count": 113,
     "metadata": {},
     "output_type": "execute_result"
    }
   ],
   "source": [
    "# Drop the class column\n",
    "df1 = df1.drop(labels=['class'], axis=1)\n",
    "df1.head()"
   ]
  },
  {
   "cell_type": "markdown",
   "id": "6ac14191",
   "metadata": {},
   "source": [
    "### Elbow Curve"
   ]
  },
  {
   "cell_type": "code",
   "execution_count": 114,
   "id": "f96aa2cc",
   "metadata": {},
   "outputs": [],
   "source": [
    "# Set up for elbow curve\n",
    "inertia = []\n",
    "k = list(range(1, 11))"
   ]
  },
  {
   "cell_type": "code",
   "execution_count": 115,
   "id": "f3ae477b",
   "metadata": {},
   "outputs": [
    {
     "name": "stderr",
     "output_type": "stream",
     "text": [
      "C:\\Users\\Owner\\anaconda3\\envs\\mlenv\\lib\\site-packages\\sklearn\\cluster\\_kmeans.py:1039: UserWarning:\n",
      "\n",
      "KMeans is known to have a memory leak on Windows with MKL, when there are less chunks than available threads. You can avoid it by setting the environment variable OMP_NUM_THREADS=3.\n",
      "\n"
     ]
    }
   ],
   "source": [
    "# Looking for the best K\n",
    "for i in k:\n",
    "    km = KMeans(n_clusters=i, random_state=0)\n",
    "    km.fit(df1)\n",
    "    inertia.append(km.inertia_)"
   ]
  },
  {
   "cell_type": "code",
   "execution_count": 116,
   "id": "d46ac6ec",
   "metadata": {},
   "outputs": [
    {
     "data": {},
     "metadata": {},
     "output_type": "display_data"
    },
    {
     "data": {
      "application/vnd.holoviews_exec.v0+json": "",
      "text/html": [
       "<div id='4227'>\n",
       "\n",
       "\n",
       "\n",
       "\n",
       "\n",
       "  <div class=\"bk-root\" id=\"21d26fa5-7daf-48db-8016-225df6aaaac6\" data-root-id=\"4227\"></div>\n",
       "</div>\n",
       "<script type=\"application/javascript\">(function(root) {\n",
       "  function embed_document(root) {\n",
       "    var docs_json = {\"1775168f-f949-4e6f-95e4-7b9156460175\":{\"defs\":[{\"extends\":null,\"module\":null,\"name\":\"ReactiveHTML1\",\"overrides\":[],\"properties\":[]},{\"extends\":null,\"module\":null,\"name\":\"FlexBox1\",\"overrides\":[],\"properties\":[{\"default\":\"flex-start\",\"kind\":null,\"name\":\"align_content\"},{\"default\":\"flex-start\",\"kind\":null,\"name\":\"align_items\"},{\"default\":\"row\",\"kind\":null,\"name\":\"flex_direction\"},{\"default\":\"wrap\",\"kind\":null,\"name\":\"flex_wrap\"},{\"default\":\"flex-start\",\"kind\":null,\"name\":\"justify_content\"}]},{\"extends\":null,\"module\":null,\"name\":\"GridStack1\",\"overrides\":[],\"properties\":[{\"default\":\"warn\",\"kind\":null,\"name\":\"mode\"},{\"default\":null,\"kind\":null,\"name\":\"ncols\"},{\"default\":null,\"kind\":null,\"name\":\"nrows\"},{\"default\":true,\"kind\":null,\"name\":\"allow_resize\"},{\"default\":true,\"kind\":null,\"name\":\"allow_drag\"},{\"default\":[],\"kind\":null,\"name\":\"state\"}]},{\"extends\":null,\"module\":null,\"name\":\"click1\",\"overrides\":[],\"properties\":[{\"default\":\"\",\"kind\":null,\"name\":\"terminal_output\"},{\"default\":\"\",\"kind\":null,\"name\":\"debug_name\"},{\"default\":0,\"kind\":null,\"name\":\"clears\"}]},{\"extends\":null,\"module\":null,\"name\":\"TemplateActions1\",\"overrides\":[],\"properties\":[{\"default\":0,\"kind\":null,\"name\":\"open_modal\"},{\"default\":0,\"kind\":null,\"name\":\"close_modal\"}]},{\"extends\":null,\"module\":null,\"name\":\"MaterialTemplateActions1\",\"overrides\":[],\"properties\":[{\"default\":0,\"kind\":null,\"name\":\"open_modal\"},{\"default\":0,\"kind\":null,\"name\":\"close_modal\"}]}],\"roots\":{\"references\":[{\"attributes\":{\"data\":{\"inertia\":{\"__ndarray__\":\"LM43GxScnUGuD+YLhnB6QaCqTZ+GbGZBY30ZT76ZW0GMN9zxOfJRQU9KhivL/0NBmBruKIlkQEG0ZCho3LY5QXwMM8oKOTRBtBEvjPbiLUE=\",\"dtype\":\"float64\",\"order\":\"little\",\"shape\":[10]},\"k\":[1,2,3,4,5,6,7,8,9,10]},\"selected\":{\"id\":\"4263\"},\"selection_policy\":{\"id\":\"4286\"}},\"id\":\"4262\",\"type\":\"ColumnDataSource\"},{\"attributes\":{\"axis\":{\"id\":\"4241\"},\"coordinates\":null,\"grid_line_color\":null,\"group\":null,\"ticker\":null},\"id\":\"4244\",\"type\":\"Grid\"},{\"attributes\":{\"axis\":{\"id\":\"4245\"},\"coordinates\":null,\"dimension\":1,\"grid_line_color\":null,\"group\":null,\"ticker\":null},\"id\":\"4248\",\"type\":\"Grid\"},{\"attributes\":{},\"id\":\"4286\",\"type\":\"UnionRenderers\"},{\"attributes\":{\"margin\":[5,5,5,5],\"name\":\"HSpacer07238\",\"sizing_mode\":\"stretch_width\"},\"id\":\"4298\",\"type\":\"Spacer\"},{\"attributes\":{},\"id\":\"4246\",\"type\":\"BasicTicker\"},{\"attributes\":{\"axis_label\":\"k\",\"coordinates\":null,\"formatter\":{\"id\":\"4273\"},\"group\":null,\"major_label_policy\":{\"id\":\"4274\"},\"ticker\":{\"id\":\"4271\"}},\"id\":\"4241\",\"type\":\"LinearAxis\"},{\"attributes\":{\"axis_label\":\"inertia\",\"coordinates\":null,\"formatter\":{\"id\":\"4278\"},\"group\":null,\"major_label_policy\":{\"id\":\"4279\"},\"ticker\":{\"id\":\"4246\"}},\"id\":\"4245\",\"type\":\"LinearAxis\"},{\"attributes\":{},\"id\":\"4279\",\"type\":\"AllLabels\"},{\"attributes\":{\"margin\":[5,5,5,5],\"name\":\"HSpacer07237\",\"sizing_mode\":\"stretch_width\"},\"id\":\"4228\",\"type\":\"Spacer\"},{\"attributes\":{\"line_color\":\"#30a2da\",\"line_width\":2,\"x\":{\"field\":\"k\"},\"y\":{\"field\":\"inertia\"}},\"id\":\"4270\",\"type\":\"Line\"},{\"attributes\":{\"below\":[{\"id\":\"4241\"}],\"center\":[{\"id\":\"4244\"},{\"id\":\"4248\"}],\"height\":300,\"left\":[{\"id\":\"4245\"}],\"margin\":[5,5,5,5],\"min_border_bottom\":10,\"min_border_left\":10,\"min_border_right\":10,\"min_border_top\":10,\"renderers\":[{\"id\":\"4268\"}],\"sizing_mode\":\"fixed\",\"title\":{\"id\":\"4233\"},\"toolbar\":{\"id\":\"4255\"},\"width\":700,\"x_range\":{\"id\":\"4229\"},\"x_scale\":{\"id\":\"4237\"},\"y_range\":{\"id\":\"4230\"},\"y_scale\":{\"id\":\"4239\"}},\"id\":\"4232\",\"subtype\":\"Figure\",\"type\":\"Plot\"},{\"attributes\":{\"children\":[{\"id\":\"4228\"},{\"id\":\"4232\"},{\"id\":\"4298\"}],\"margin\":[0,0,0,0],\"name\":\"Row07233\",\"tags\":[\"embedded\"]},\"id\":\"4227\",\"type\":\"Row\"},{\"attributes\":{\"end\":10.0,\"reset_end\":10.0,\"reset_start\":1.0,\"start\":1.0,\"tags\":[[[\"k\",\"k\",null]]]},\"id\":\"4229\",\"type\":\"Range1d\"},{\"attributes\":{\"coordinates\":null,\"group\":null,\"text\":\"Elbow Curve\",\"text_color\":\"black\",\"text_font_size\":\"12pt\"},\"id\":\"4233\",\"type\":\"Title\"},{\"attributes\":{},\"id\":\"4273\",\"type\":\"BasicTickFormatter\"},{\"attributes\":{\"coordinates\":null,\"data_source\":{\"id\":\"4262\"},\"glyph\":{\"id\":\"4265\"},\"group\":null,\"hover_glyph\":null,\"muted_glyph\":{\"id\":\"4267\"},\"nonselection_glyph\":{\"id\":\"4266\"},\"selection_glyph\":{\"id\":\"4270\"},\"view\":{\"id\":\"4269\"}},\"id\":\"4268\",\"type\":\"GlyphRenderer\"},{\"attributes\":{\"source\":{\"id\":\"4262\"}},\"id\":\"4269\",\"type\":\"CDSView\"},{\"attributes\":{\"line_color\":\"#30a2da\",\"line_width\":2,\"x\":{\"field\":\"k\"},\"y\":{\"field\":\"inertia\"}},\"id\":\"4265\",\"type\":\"Line\"},{\"attributes\":{\"ticks\":[1,2,3,4,5,6,7,8,9,10]},\"id\":\"4271\",\"type\":\"FixedTicker\"},{\"attributes\":{},\"id\":\"4239\",\"type\":\"LinearScale\"},{\"attributes\":{\"bottom_units\":\"screen\",\"coordinates\":null,\"fill_alpha\":0.5,\"fill_color\":\"lightgrey\",\"group\":null,\"left_units\":\"screen\",\"level\":\"overlay\",\"line_alpha\":1.0,\"line_color\":\"black\",\"line_dash\":[4,4],\"line_width\":2,\"right_units\":\"screen\",\"syncable\":false,\"top_units\":\"screen\"},\"id\":\"4254\",\"type\":\"BoxAnnotation\"},{\"attributes\":{},\"id\":\"4249\",\"type\":\"SaveTool\"},{\"attributes\":{},\"id\":\"4278\",\"type\":\"BasicTickFormatter\"},{\"attributes\":{\"end\":136513275.1575675,\"reset_end\":136513275.1575675,\"reset_start\":-11341945.079273473,\"start\":-11341945.079273473,\"tags\":[[[\"inertia\",\"inertia\",null]]]},\"id\":\"4230\",\"type\":\"Range1d\"},{\"attributes\":{},\"id\":\"4250\",\"type\":\"PanTool\"},{\"attributes\":{},\"id\":\"4274\",\"type\":\"AllLabels\"},{\"attributes\":{\"callback\":null,\"renderers\":[{\"id\":\"4268\"}],\"tags\":[\"hv_created\"],\"tooltips\":[[\"k\",\"@{k}\"],[\"inertia\",\"@{inertia}\"]]},\"id\":\"4231\",\"type\":\"HoverTool\"},{\"attributes\":{},\"id\":\"4253\",\"type\":\"ResetTool\"},{\"attributes\":{\"line_alpha\":0.2,\"line_color\":\"#30a2da\",\"line_width\":2,\"x\":{\"field\":\"k\"},\"y\":{\"field\":\"inertia\"}},\"id\":\"4267\",\"type\":\"Line\"},{\"attributes\":{},\"id\":\"4251\",\"type\":\"WheelZoomTool\"},{\"attributes\":{\"overlay\":{\"id\":\"4254\"}},\"id\":\"4252\",\"type\":\"BoxZoomTool\"},{\"attributes\":{\"line_alpha\":0.1,\"line_color\":\"#30a2da\",\"line_width\":2,\"x\":{\"field\":\"k\"},\"y\":{\"field\":\"inertia\"}},\"id\":\"4266\",\"type\":\"Line\"},{\"attributes\":{},\"id\":\"4263\",\"type\":\"Selection\"},{\"attributes\":{},\"id\":\"4237\",\"type\":\"LinearScale\"},{\"attributes\":{\"tools\":[{\"id\":\"4231\"},{\"id\":\"4249\"},{\"id\":\"4250\"},{\"id\":\"4251\"},{\"id\":\"4252\"},{\"id\":\"4253\"}]},\"id\":\"4255\",\"type\":\"Toolbar\"}],\"root_ids\":[\"4227\"]},\"title\":\"Bokeh Application\",\"version\":\"2.4.2\"}};\n",
       "    var render_items = [{\"docid\":\"1775168f-f949-4e6f-95e4-7b9156460175\",\"root_ids\":[\"4227\"],\"roots\":{\"4227\":\"21d26fa5-7daf-48db-8016-225df6aaaac6\"}}];\n",
       "    root.Bokeh.embed.embed_items_notebook(docs_json, render_items);\n",
       "  }\n",
       "  if (root.Bokeh !== undefined && root.Bokeh.Panel !== undefined) {\n",
       "    embed_document(root);\n",
       "  } else {\n",
       "    var attempts = 0;\n",
       "    var timer = setInterval(function(root) {\n",
       "      if (root.Bokeh !== undefined && root.Bokeh.Panel !== undefined) {\n",
       "        clearInterval(timer);\n",
       "        embed_document(root);\n",
       "      } else if (document.readyState == \"complete\") {\n",
       "        attempts++;\n",
       "        if (attempts > 200) {\n",
       "          clearInterval(timer);\n",
       "          console.log(\"Bokeh: ERROR: Unable to run BokehJS code because BokehJS library is missing\");\n",
       "        }\n",
       "      }\n",
       "    }, 25, root)\n",
       "  }\n",
       "})(window);</script>"
      ],
      "text/plain": [
       ":Curve   [k]   (inertia)"
      ]
     },
     "execution_count": 116,
     "metadata": {
      "application/vnd.holoviews_exec.v0+json": {
       "id": "4227"
      }
     },
     "output_type": "execute_result"
    }
   ],
   "source": [
    "# Define a DataFrame to plot the Elbow Curve using hvPlot\n",
    "elbow_data = {\"k\": k, \"inertia\": inertia}\n",
    "df_elbow = pd.DataFrame(elbow_data)\n",
    "df_elbow.hvplot.line(x=\"k\", y=\"inertia\", title=\"Elbow Curve\", xticks=k)"
   ]
  },
  {
   "cell_type": "markdown",
   "id": "216388e6",
   "metadata": {},
   "source": [
    "### Pricipal Component Analysis"
   ]
  },
  {
   "cell_type": "code",
   "execution_count": 109,
   "id": "d3241089",
   "metadata": {},
   "outputs": [],
   "source": [
    "# Import dependencies\n",
    "from sklearn.preprocessing import StandardScaler\n",
    "from sklearn.decomposition import PCA"
   ]
  },
  {
   "cell_type": "code",
   "execution_count": 117,
   "id": "ad09421b",
   "metadata": {},
   "outputs": [
    {
     "name": "stdout",
     "output_type": "stream",
     "text": [
      "[[-0.67483379  0.50727479 -1.48518124 -0.07210751 -0.12490989 -0.12490989\n",
      "  -0.14347298]\n",
      " [ 1.23579811  1.1359764  -2.1060878  -0.08598442 -0.18213564 -0.18213564\n",
      "  -0.18101521]\n",
      " [ 1.23579811  1.1359764   0.50171974 -0.08326004  0.13113373  0.13113373\n",
      "   0.11181419]\n",
      " [ 1.23579811  1.1359764   0.50171974 -0.06738346  0.6858949   0.6858949\n",
      "   0.71248987]\n",
      " [ 0.47154535 -1.6377072  -2.1060878  -0.0855818  -0.17185122 -0.17185122\n",
      "  -0.17651014]]\n"
     ]
    }
   ],
   "source": [
    "# Standardize data with StandardScaler\n",
    "df1_scaled = StandardScaler().fit_transform(df1)\n",
    "print(df1_scaled[0:5])"
   ]
  },
  {
   "cell_type": "code",
   "execution_count": 118,
   "id": "14a16562",
   "metadata": {},
   "outputs": [],
   "source": [
    "# Initialize PCA model\n",
    "pca = PCA(n_components=5)"
   ]
  },
  {
   "cell_type": "code",
   "execution_count": 119,
   "id": "65791293",
   "metadata": {},
   "outputs": [],
   "source": [
    "# Get principal components for the df1 data\n",
    "df1_pca = pca.fit_transform(df1_scaled)"
   ]
  },
  {
   "cell_type": "code",
   "execution_count": 120,
   "id": "28b430ff",
   "metadata": {},
   "outputs": [
    {
     "data": {
      "text/html": [
       "<div>\n",
       "<style scoped>\n",
       "    .dataframe tbody tr th:only-of-type {\n",
       "        vertical-align: middle;\n",
       "    }\n",
       "\n",
       "    .dataframe tbody tr th {\n",
       "        vertical-align: top;\n",
       "    }\n",
       "\n",
       "    .dataframe thead th {\n",
       "        text-align: right;\n",
       "    }\n",
       "</style>\n",
       "<table border=\"1\" class=\"dataframe\">\n",
       "  <thead>\n",
       "    <tr style=\"text-align: right;\">\n",
       "      <th></th>\n",
       "      <th>PC1</th>\n",
       "      <th>PC2</th>\n",
       "      <th>PC3</th>\n",
       "      <th>PC4</th>\n",
       "      <th>PC5</th>\n",
       "    </tr>\n",
       "  </thead>\n",
       "  <tbody>\n",
       "    <tr>\n",
       "      <th>0</th>\n",
       "      <td>-0.211851</td>\n",
       "      <td>0.446897</td>\n",
       "      <td>-1.128799</td>\n",
       "      <td>0.952116</td>\n",
       "      <td>0.741696</td>\n",
       "    </tr>\n",
       "    <tr>\n",
       "      <th>1</th>\n",
       "      <td>-0.299020</td>\n",
       "      <td>-1.122570</td>\n",
       "      <td>-1.529409</td>\n",
       "      <td>1.904702</td>\n",
       "      <td>-0.207345</td>\n",
       "    </tr>\n",
       "    <tr>\n",
       "      <th>2</th>\n",
       "      <td>0.183606</td>\n",
       "      <td>-1.731744</td>\n",
       "      <td>0.272794</td>\n",
       "      <td>0.115013</td>\n",
       "      <td>-0.046124</td>\n",
       "    </tr>\n",
       "    <tr>\n",
       "      <th>3</th>\n",
       "      <td>1.170501</td>\n",
       "      <td>-1.746579</td>\n",
       "      <td>0.295282</td>\n",
       "      <td>0.116972</td>\n",
       "      <td>-0.028584</td>\n",
       "    </tr>\n",
       "    <tr>\n",
       "      <th>4</th>\n",
       "      <td>-0.224846</td>\n",
       "      <td>1.251701</td>\n",
       "      <td>-1.409877</td>\n",
       "      <td>1.105906</td>\n",
       "      <td>-1.615379</td>\n",
       "    </tr>\n",
       "  </tbody>\n",
       "</table>\n",
       "</div>"
      ],
      "text/plain": [
       "        PC1       PC2       PC3       PC4       PC5\n",
       "0 -0.211851  0.446897 -1.128799  0.952116  0.741696\n",
       "1 -0.299020 -1.122570 -1.529409  1.904702 -0.207345\n",
       "2  0.183606 -1.731744  0.272794  0.115013 -0.046124\n",
       "3  1.170501 -1.746579  0.295282  0.116972 -0.028584\n",
       "4 -0.224846  1.251701 -1.409877  1.105906 -1.615379"
      ]
     },
     "execution_count": 120,
     "metadata": {},
     "output_type": "execute_result"
    }
   ],
   "source": [
    "# Transform PCA data to a DataFrame\n",
    "df_df1_pca = pd.DataFrame(\n",
    "    data=df1_pca, columns=['PC1','PC2','PC3','PC4','PC5']\n",
    ")\n",
    "df_df1_pca.head()"
   ]
  },
  {
   "cell_type": "code",
   "execution_count": 121,
   "id": "bef1f8da",
   "metadata": {},
   "outputs": [
    {
     "data": {
      "text/plain": [
       "array([0.42590823, 0.2040946 , 0.14758921, 0.13139752, 0.08814394])"
      ]
     },
     "execution_count": 121,
     "metadata": {},
     "output_type": "execute_result"
    }
   ],
   "source": [
    "# Fetch the explained variance\n",
    "pca.explained_variance_ratio_"
   ]
  },
  {
   "cell_type": "code",
   "execution_count": 122,
   "id": "b92ad3e8",
   "metadata": {},
   "outputs": [
    {
     "name": "stderr",
     "output_type": "stream",
     "text": [
      "C:\\Users\\Owner\\anaconda3\\envs\\mlenv\\lib\\site-packages\\sklearn\\cluster\\_kmeans.py:1039: UserWarning:\n",
      "\n",
      "KMeans is known to have a memory leak on Windows with MKL, when there are less chunks than available threads. You can avoid it by setting the environment variable OMP_NUM_THREADS=3.\n",
      "\n"
     ]
    },
    {
     "data": {},
     "metadata": {},
     "output_type": "display_data"
    },
    {
     "data": {
      "application/vnd.holoviews_exec.v0+json": "",
      "text/html": [
       "<div id='4345'>\n",
       "\n",
       "\n",
       "\n",
       "\n",
       "\n",
       "  <div class=\"bk-root\" id=\"6ba51628-d56b-4cb7-b093-a23e5ad904c5\" data-root-id=\"4345\"></div>\n",
       "</div>\n",
       "<script type=\"application/javascript\">(function(root) {\n",
       "  function embed_document(root) {\n",
       "    var docs_json = {\"80de0165-5f08-4deb-b401-a01372b7e64f\":{\"defs\":[{\"extends\":null,\"module\":null,\"name\":\"ReactiveHTML1\",\"overrides\":[],\"properties\":[]},{\"extends\":null,\"module\":null,\"name\":\"FlexBox1\",\"overrides\":[],\"properties\":[{\"default\":\"flex-start\",\"kind\":null,\"name\":\"align_content\"},{\"default\":\"flex-start\",\"kind\":null,\"name\":\"align_items\"},{\"default\":\"row\",\"kind\":null,\"name\":\"flex_direction\"},{\"default\":\"wrap\",\"kind\":null,\"name\":\"flex_wrap\"},{\"default\":\"flex-start\",\"kind\":null,\"name\":\"justify_content\"}]},{\"extends\":null,\"module\":null,\"name\":\"GridStack1\",\"overrides\":[],\"properties\":[{\"default\":\"warn\",\"kind\":null,\"name\":\"mode\"},{\"default\":null,\"kind\":null,\"name\":\"ncols\"},{\"default\":null,\"kind\":null,\"name\":\"nrows\"},{\"default\":true,\"kind\":null,\"name\":\"allow_resize\"},{\"default\":true,\"kind\":null,\"name\":\"allow_drag\"},{\"default\":[],\"kind\":null,\"name\":\"state\"}]},{\"extends\":null,\"module\":null,\"name\":\"click1\",\"overrides\":[],\"properties\":[{\"default\":\"\",\"kind\":null,\"name\":\"terminal_output\"},{\"default\":\"\",\"kind\":null,\"name\":\"debug_name\"},{\"default\":0,\"kind\":null,\"name\":\"clears\"}]},{\"extends\":null,\"module\":null,\"name\":\"TemplateActions1\",\"overrides\":[],\"properties\":[{\"default\":0,\"kind\":null,\"name\":\"open_modal\"},{\"default\":0,\"kind\":null,\"name\":\"close_modal\"}]},{\"extends\":null,\"module\":null,\"name\":\"MaterialTemplateActions1\",\"overrides\":[],\"properties\":[{\"default\":0,\"kind\":null,\"name\":\"open_modal\"},{\"default\":0,\"kind\":null,\"name\":\"close_modal\"}]}],\"roots\":{\"references\":[{\"attributes\":{},\"id\":\"4367\",\"type\":\"SaveTool\"},{\"attributes\":{},\"id\":\"4396\",\"type\":\"BasicTickFormatter\"},{\"attributes\":{},\"id\":\"4368\",\"type\":\"PanTool\"},{\"attributes\":{\"line_color\":\"#30a2da\",\"line_width\":2,\"x\":{\"field\":\"k\"},\"y\":{\"field\":\"inertia\"}},\"id\":\"4383\",\"type\":\"Line\"},{\"attributes\":{},\"id\":\"4371\",\"type\":\"ResetTool\"},{\"attributes\":{},\"id\":\"4392\",\"type\":\"AllLabels\"},{\"attributes\":{\"axis\":{\"id\":\"4363\"},\"coordinates\":null,\"dimension\":1,\"grid_line_color\":null,\"group\":null,\"ticker\":null},\"id\":\"4366\",\"type\":\"Grid\"},{\"attributes\":{},\"id\":\"4369\",\"type\":\"WheelZoomTool\"},{\"attributes\":{\"overlay\":{\"id\":\"4372\"}},\"id\":\"4370\",\"type\":\"BoxZoomTool\"},{\"attributes\":{\"line_color\":\"#30a2da\",\"line_width\":2,\"x\":{\"field\":\"k\"},\"y\":{\"field\":\"inertia\"}},\"id\":\"4388\",\"type\":\"Line\"},{\"attributes\":{\"ticks\":[1,2,3,4,5,6,7,8,9,10]},\"id\":\"4389\",\"type\":\"FixedTicker\"},{\"attributes\":{\"tools\":[{\"id\":\"4349\"},{\"id\":\"4367\"},{\"id\":\"4368\"},{\"id\":\"4369\"},{\"id\":\"4370\"},{\"id\":\"4371\"}]},\"id\":\"4373\",\"type\":\"Toolbar\"},{\"attributes\":{\"callback\":null,\"renderers\":[{\"id\":\"4386\"}],\"tags\":[\"hv_created\"],\"tooltips\":[[\"k\",\"@{k}\"],[\"inertia\",\"@{inertia}\"]]},\"id\":\"4349\",\"type\":\"HoverTool\"},{\"attributes\":{},\"id\":\"4404\",\"type\":\"UnionRenderers\"},{\"attributes\":{},\"id\":\"4355\",\"type\":\"LinearScale\"},{\"attributes\":{\"coordinates\":null,\"group\":null,\"text\":\"Elbow Curve\",\"text_color\":\"black\",\"text_font_size\":\"12pt\"},\"id\":\"4351\",\"type\":\"Title\"},{\"attributes\":{\"bottom_units\":\"screen\",\"coordinates\":null,\"fill_alpha\":0.5,\"fill_color\":\"lightgrey\",\"group\":null,\"left_units\":\"screen\",\"level\":\"overlay\",\"line_alpha\":1.0,\"line_color\":\"black\",\"line_dash\":[4,4],\"line_width\":2,\"right_units\":\"screen\",\"syncable\":false,\"top_units\":\"screen\"},\"id\":\"4372\",\"type\":\"BoxAnnotation\"},{\"attributes\":{\"axis\":{\"id\":\"4359\"},\"coordinates\":null,\"grid_line_color\":null,\"group\":null,\"ticker\":null},\"id\":\"4362\",\"type\":\"Grid\"},{\"attributes\":{},\"id\":\"4381\",\"type\":\"Selection\"},{\"attributes\":{},\"id\":\"4357\",\"type\":\"LinearScale\"},{\"attributes\":{\"axis_label\":\"inertia\",\"coordinates\":null,\"formatter\":{\"id\":\"4396\"},\"group\":null,\"major_label_policy\":{\"id\":\"4397\"},\"ticker\":{\"id\":\"4364\"}},\"id\":\"4363\",\"type\":\"LinearAxis\"},{\"attributes\":{},\"id\":\"4364\",\"type\":\"BasicTicker\"},{\"attributes\":{\"axis_label\":\"k\",\"coordinates\":null,\"formatter\":{\"id\":\"4391\"},\"group\":null,\"major_label_policy\":{\"id\":\"4392\"},\"ticker\":{\"id\":\"4389\"}},\"id\":\"4359\",\"type\":\"LinearAxis\"},{\"attributes\":{},\"id\":\"4397\",\"type\":\"AllLabels\"},{\"attributes\":{\"end\":4158.5956947284285,\"reset_end\":4158.5956947284285,\"reset_start\":71.73778065021588,\"start\":71.73778065021588,\"tags\":[[[\"inertia\",\"inertia\",null]]]},\"id\":\"4348\",\"type\":\"Range1d\"},{\"attributes\":{\"children\":[{\"id\":\"4346\"},{\"id\":\"4350\"},{\"id\":\"4416\"}],\"margin\":[0,0,0,0],\"name\":\"Row07411\",\"tags\":[\"embedded\"]},\"id\":\"4345\",\"type\":\"Row\"},{\"attributes\":{\"margin\":[5,5,5,5],\"name\":\"HSpacer07415\",\"sizing_mode\":\"stretch_width\"},\"id\":\"4346\",\"type\":\"Spacer\"},{\"attributes\":{\"margin\":[5,5,5,5],\"name\":\"HSpacer07416\",\"sizing_mode\":\"stretch_width\"},\"id\":\"4416\",\"type\":\"Spacer\"},{\"attributes\":{\"end\":10.0,\"reset_end\":10.0,\"reset_start\":1.0,\"start\":1.0,\"tags\":[[[\"k\",\"k\",null]]]},\"id\":\"4347\",\"type\":\"Range1d\"},{\"attributes\":{\"line_alpha\":0.2,\"line_color\":\"#30a2da\",\"line_width\":2,\"x\":{\"field\":\"k\"},\"y\":{\"field\":\"inertia\"}},\"id\":\"4385\",\"type\":\"Line\"},{\"attributes\":{\"line_alpha\":0.1,\"line_color\":\"#30a2da\",\"line_width\":2,\"x\":{\"field\":\"k\"},\"y\":{\"field\":\"inertia\"}},\"id\":\"4384\",\"type\":\"Line\"},{\"attributes\":{\"source\":{\"id\":\"4380\"}},\"id\":\"4387\",\"type\":\"CDSView\"},{\"attributes\":{},\"id\":\"4391\",\"type\":\"BasicTickFormatter\"},{\"attributes\":{\"coordinates\":null,\"data_source\":{\"id\":\"4380\"},\"glyph\":{\"id\":\"4383\"},\"group\":null,\"hover_glyph\":null,\"muted_glyph\":{\"id\":\"4385\"},\"nonselection_glyph\":{\"id\":\"4384\"},\"selection_glyph\":{\"id\":\"4388\"},\"view\":{\"id\":\"4387\"}},\"id\":\"4386\",\"type\":\"GlyphRenderer\"},{\"attributes\":{\"below\":[{\"id\":\"4359\"}],\"center\":[{\"id\":\"4362\"},{\"id\":\"4366\"}],\"height\":300,\"left\":[{\"id\":\"4363\"}],\"margin\":[5,5,5,5],\"min_border_bottom\":10,\"min_border_left\":10,\"min_border_right\":10,\"min_border_top\":10,\"renderers\":[{\"id\":\"4386\"}],\"sizing_mode\":\"fixed\",\"title\":{\"id\":\"4351\"},\"toolbar\":{\"id\":\"4373\"},\"width\":700,\"x_range\":{\"id\":\"4347\"},\"x_scale\":{\"id\":\"4355\"},\"y_range\":{\"id\":\"4348\"},\"y_scale\":{\"id\":\"4357\"}},\"id\":\"4350\",\"subtype\":\"Figure\",\"type\":\"Plot\"},{\"attributes\":{\"data\":{\"inertia\":{\"__ndarray__\":\"4p8wZAzUrUDq8TpRSYCjQFfzF1vs+p1Ak7j2G7PqlkAT8zcdWT2QQOgeQ2pnq4pAlKmcWRZuhEDBLMgP3liBQOwOXnygNH1AuFXCyPLEeUA=\",\"dtype\":\"float64\",\"order\":\"little\",\"shape\":[10]},\"k\":[1,2,3,4,5,6,7,8,9,10]},\"selected\":{\"id\":\"4381\"},\"selection_policy\":{\"id\":\"4404\"}},\"id\":\"4380\",\"type\":\"ColumnDataSource\"}],\"root_ids\":[\"4345\"]},\"title\":\"Bokeh Application\",\"version\":\"2.4.2\"}};\n",
       "    var render_items = [{\"docid\":\"80de0165-5f08-4deb-b401-a01372b7e64f\",\"root_ids\":[\"4345\"],\"roots\":{\"4345\":\"6ba51628-d56b-4cb7-b093-a23e5ad904c5\"}}];\n",
       "    root.Bokeh.embed.embed_items_notebook(docs_json, render_items);\n",
       "  }\n",
       "  if (root.Bokeh !== undefined && root.Bokeh.Panel !== undefined) {\n",
       "    embed_document(root);\n",
       "  } else {\n",
       "    var attempts = 0;\n",
       "    var timer = setInterval(function(root) {\n",
       "      if (root.Bokeh !== undefined && root.Bokeh.Panel !== undefined) {\n",
       "        clearInterval(timer);\n",
       "        embed_document(root);\n",
       "      } else if (document.readyState == \"complete\") {\n",
       "        attempts++;\n",
       "        if (attempts > 200) {\n",
       "          clearInterval(timer);\n",
       "          console.log(\"Bokeh: ERROR: Unable to run BokehJS code because BokehJS library is missing\");\n",
       "        }\n",
       "      }\n",
       "    }, 25, root)\n",
       "  }\n",
       "})(window);</script>"
      ],
      "text/plain": [
       ":Curve   [k]   (inertia)"
      ]
     },
     "execution_count": 122,
     "metadata": {
      "application/vnd.holoviews_exec.v0+json": {
       "id": "4345"
      }
     },
     "output_type": "execute_result"
    }
   ],
   "source": [
    "# Find the best value for K\n",
    "inertia = []\n",
    "k = list(range(1, 11))\n",
    "\n",
    "# Calculate the inertia for the range of K values\n",
    "for i in k:\n",
    "    km = KMeans(n_clusters=i, random_state=0)\n",
    "    km.fit(df_df1_pca)\n",
    "    inertia.append(km.inertia_)\n",
    "\n",
    "# Create the elbow curve\n",
    "elbow_data = {\"k\": k, \"inertia\": inertia}\n",
    "df_elbow = pd.DataFrame(elbow_data)\n",
    "df_elbow.hvplot.line(x=\"k\", y=\"inertia\", xticks=k, title=\"Elbow Curve\")"
   ]
  },
  {
   "cell_type": "code",
   "execution_count": 134,
   "id": "b5570960",
   "metadata": {},
   "outputs": [
    {
     "data": {
      "text/html": [
       "<div>\n",
       "<style scoped>\n",
       "    .dataframe tbody tr th:only-of-type {\n",
       "        vertical-align: middle;\n",
       "    }\n",
       "\n",
       "    .dataframe tbody tr th {\n",
       "        vertical-align: top;\n",
       "    }\n",
       "\n",
       "    .dataframe thead th {\n",
       "        text-align: right;\n",
       "    }\n",
       "</style>\n",
       "<table border=\"1\" class=\"dataframe\">\n",
       "  <thead>\n",
       "    <tr style=\"text-align: right;\">\n",
       "      <th></th>\n",
       "      <th>PC1</th>\n",
       "      <th>PC2</th>\n",
       "      <th>PC3</th>\n",
       "      <th>PC4</th>\n",
       "      <th>PC5</th>\n",
       "      <th>class</th>\n",
       "    </tr>\n",
       "  </thead>\n",
       "  <tbody>\n",
       "    <tr>\n",
       "      <th>0</th>\n",
       "      <td>-0.211851</td>\n",
       "      <td>0.446897</td>\n",
       "      <td>-1.128799</td>\n",
       "      <td>0.952116</td>\n",
       "      <td>0.741696</td>\n",
       "      <td>0</td>\n",
       "    </tr>\n",
       "    <tr>\n",
       "      <th>1</th>\n",
       "      <td>-0.299020</td>\n",
       "      <td>-1.122570</td>\n",
       "      <td>-1.529409</td>\n",
       "      <td>1.904702</td>\n",
       "      <td>-0.207345</td>\n",
       "      <td>0</td>\n",
       "    </tr>\n",
       "    <tr>\n",
       "      <th>2</th>\n",
       "      <td>0.183606</td>\n",
       "      <td>-1.731744</td>\n",
       "      <td>0.272794</td>\n",
       "      <td>0.115013</td>\n",
       "      <td>-0.046124</td>\n",
       "      <td>0</td>\n",
       "    </tr>\n",
       "    <tr>\n",
       "      <th>3</th>\n",
       "      <td>1.170501</td>\n",
       "      <td>-1.746579</td>\n",
       "      <td>0.295282</td>\n",
       "      <td>0.116972</td>\n",
       "      <td>-0.028584</td>\n",
       "      <td>0</td>\n",
       "    </tr>\n",
       "    <tr>\n",
       "      <th>4</th>\n",
       "      <td>-0.224846</td>\n",
       "      <td>1.251701</td>\n",
       "      <td>-1.409877</td>\n",
       "      <td>1.105906</td>\n",
       "      <td>-1.615379</td>\n",
       "      <td>0</td>\n",
       "    </tr>\n",
       "  </tbody>\n",
       "</table>\n",
       "</div>"
      ],
      "text/plain": [
       "        PC1       PC2       PC3       PC4       PC5  class\n",
       "0 -0.211851  0.446897 -1.128799  0.952116  0.741696      0\n",
       "1 -0.299020 -1.122570 -1.529409  1.904702 -0.207345      0\n",
       "2  0.183606 -1.731744  0.272794  0.115013 -0.046124      0\n",
       "3  1.170501 -1.746579  0.295282  0.116972 -0.028584      0\n",
       "4 -0.224846  1.251701 -1.409877  1.105906 -1.615379      0"
      ]
     },
     "execution_count": 134,
     "metadata": {},
     "output_type": "execute_result"
    }
   ],
   "source": [
    "# Initialize the K-means model\n",
    "model = KMeans(n_clusters=2, random_state=0)\n",
    "\n",
    "# Fit the model\n",
    "model.fit(df_df1_pca)\n",
    "\n",
    "# Predict clusters\n",
    "predictions = model.predict(df_df1_pca)\n",
    "\n",
    "# Add the predicted class columns\n",
    "df_df1_pca[\"class\"] = model.labels_\n",
    "df_df1_pca.head()"
   ]
  },
  {
   "cell_type": "code",
   "execution_count": 135,
   "id": "5cb77622",
   "metadata": {},
   "outputs": [
    {
     "data": {
      "application/vnd.plotly.v1+json": {
       "config": {
        "plotlyServerURL": "https://plot.ly"
       },
       "data": [
        {
         "hovertemplate": "class=%{marker.color}<br>PC1=%{x}<br>PC2=%{y}<br>PC3=%{z}<extra></extra>",
         "legendgroup": "0",
         "marker": {
          "color": [
           0,
           0,
           0,
           0,
           0,
           0,
           0,
           0,
           0,
           0,
           0,
           0,
           0,
           0,
           0,
           0,
           0,
           0,
           0,
           0,
           0,
           0,
           0,
           0,
           0,
           0,
           0,
           0,
           0,
           0,
           0,
           0,
           0,
           0,
           0,
           0,
           0,
           0,
           0,
           0,
           0,
           0,
           0,
           0,
           0,
           0,
           0,
           0,
           0,
           0,
           0,
           0,
           0,
           0,
           0,
           0,
           0,
           0,
           0,
           0,
           0,
           0,
           0,
           0,
           0,
           0,
           0,
           0,
           0,
           0,
           0,
           0,
           0,
           0,
           0,
           0,
           0,
           0,
           0,
           0,
           0,
           0,
           0,
           0,
           0,
           0,
           0,
           0,
           0,
           0,
           0,
           0,
           0,
           0,
           0,
           0,
           0,
           0,
           0,
           0,
           0,
           0,
           0,
           0,
           0,
           0,
           0,
           0,
           0,
           0,
           0,
           0,
           0,
           0,
           0,
           0,
           0,
           0,
           0,
           0,
           0,
           0,
           0,
           0,
           0,
           0,
           0,
           0,
           0,
           0,
           0,
           0,
           0,
           0,
           0,
           0,
           0,
           0,
           0,
           0,
           0,
           0,
           0,
           0,
           0,
           0,
           0,
           0,
           0,
           0,
           0,
           0,
           0,
           0,
           0,
           0,
           0,
           0,
           0,
           0,
           0,
           0,
           0,
           0,
           0,
           0,
           0,
           0,
           0,
           0,
           0,
           0,
           0,
           0,
           0,
           0,
           0,
           0,
           0,
           0,
           0,
           0,
           0,
           0,
           0,
           0,
           0,
           0,
           0,
           0,
           0,
           0,
           0,
           0,
           0,
           0,
           0,
           0,
           0,
           0,
           0,
           0,
           0,
           0,
           0,
           0,
           0,
           0,
           0,
           0,
           0,
           0,
           0,
           0,
           0,
           0,
           0,
           0,
           0,
           0,
           0,
           0,
           0,
           0,
           0,
           0,
           0,
           0,
           0,
           0,
           0,
           0,
           0,
           0,
           0,
           0,
           0,
           0,
           0,
           0,
           0,
           0,
           0,
           0,
           0,
           0,
           0,
           0,
           0,
           0,
           0,
           0,
           0,
           0,
           0,
           0,
           0,
           0,
           0,
           0,
           0,
           0,
           0,
           0,
           0,
           0,
           0,
           0,
           0,
           0,
           0,
           0,
           0,
           0,
           0,
           0,
           0,
           0,
           0,
           0,
           0,
           0,
           0,
           0,
           0,
           0,
           0,
           0,
           0,
           0,
           0,
           0,
           0,
           0,
           0,
           0,
           0,
           0,
           0,
           0,
           0,
           0,
           0,
           0,
           0,
           0,
           0,
           0,
           0,
           0,
           0,
           0,
           0,
           0,
           0,
           0,
           0,
           0,
           0,
           0,
           0,
           0,
           0,
           0,
           0,
           0,
           0,
           0,
           0,
           0,
           0,
           0,
           0,
           0,
           0,
           0,
           0,
           0,
           0,
           0,
           0,
           0,
           0,
           0,
           0,
           0,
           0,
           0,
           0,
           0,
           0,
           0,
           0,
           0,
           0,
           0,
           0,
           0,
           0,
           0,
           0,
           0,
           0,
           0,
           0,
           0,
           0,
           0,
           0,
           0,
           0,
           0,
           0,
           0,
           0,
           0,
           0,
           0,
           0,
           0,
           0,
           0,
           0,
           0,
           0,
           0,
           0,
           0,
           0,
           0,
           0,
           0,
           0,
           0,
           0,
           0,
           0,
           0,
           0,
           0,
           0,
           0,
           0,
           0,
           0,
           0,
           0,
           0,
           0,
           0,
           0,
           0,
           0,
           0,
           0,
           0,
           0,
           0,
           0,
           0,
           0,
           0,
           0,
           0,
           0,
           0,
           0,
           0,
           0,
           0,
           0,
           0,
           0,
           0,
           0,
           0,
           0,
           0,
           0,
           0,
           0,
           0,
           0,
           0,
           0,
           0,
           0,
           0,
           0,
           0,
           0,
           0,
           0,
           0,
           0,
           0,
           0,
           0,
           0,
           0,
           0,
           0,
           0,
           0,
           0,
           0,
           0,
           0,
           0,
           0,
           0,
           0,
           0,
           0,
           0,
           0,
           0,
           0,
           0,
           0,
           0,
           0,
           0,
           0,
           0,
           0,
           0,
           0,
           0,
           0,
           0,
           0,
           0,
           0,
           0,
           0,
           0,
           0,
           0,
           0,
           0,
           0,
           0,
           0,
           0,
           0,
           0,
           0,
           0,
           0,
           0,
           0,
           0,
           0,
           0,
           0,
           0,
           0,
           0,
           0,
           0,
           0,
           0,
           0,
           0,
           0,
           0,
           0,
           0,
           0,
           0,
           0,
           0,
           0,
           0,
           0,
           0,
           0,
           0,
           0,
           0,
           0,
           0,
           0,
           0
          ],
          "coloraxis": "coloraxis",
          "symbol": "circle"
         },
         "mode": "markers",
         "name": "0",
         "scene": "scene",
         "showlegend": true,
         "type": "scatter3d",
         "x": [
          -0.21185071726899632,
          -0.29901957092498327,
          0.1836060152047331,
          1.1705005124223378,
          -0.2248455695622448,
          -0.02561787474463994,
          -0.21567902807847222,
          -0.20661237739180896,
          0.4496404274259988,
          -0.2778628018138107,
          -0.20723138230809832,
          -0.23602249988338994,
          0.3713198081839479,
          0.022823347020925523,
          -0.2279807249427313,
          -0.22011206558466773,
          0.08931124983074039,
          -0.1721608806505398,
          -0.10883788820999937,
          -0.1244013675957026,
          -0.19130678925363856,
          -0.14063660216688834,
          1.3003301772946707,
          -0.15432994681471915,
          -0.22808538476274545,
          -0.2102434335010704,
          0.5438232329001926,
          -0.24361130568832076,
          -0.03139765683034431,
          0.040890026826510745,
          -0.13718432898325197,
          0.27408961079668936,
          -0.3371460887127122,
          0.043660428528691037,
          -0.19713596089266325,
          -0.052012256488272866,
          0.21314565496583654,
          -0.23548678058174882,
          -0.18528598809514077,
          0.02359536719191872,
          -0.2099638090338481,
          -0.08767171071372126,
          -0.13809274707982228,
          -0.0628293447408096,
          -0.11888448817067875,
          -0.10078785157372214,
          -0.22372896890986035,
          0.12916906550532875,
          -0.21526326857095415,
          -0.09326448561894271,
          -0.2807064756492465,
          -0.3001850418874899,
          -0.22043877551060198,
          -0.14025224967273694,
          -0.1551332335315077,
          0.16017587002011163,
          -0.11021292701715169,
          -0.01257499848442333,
          -0.2552051664011196,
          -0.012237406564250647,
          0.0238585363286801,
          1.4645131006469108,
          0.06690602450213576,
          -0.253939195389972,
          0.152182933958835,
          -0.11952581778579788,
          -0.2340189521500665,
          -0.08232462178330859,
          -0.23458216568304383,
          -0.2247363703714773,
          -0.2134703318634598,
          -0.29796394309495616,
          0.007215403771823011,
          0.1226134534902901,
          -0.2548918549936737,
          -0.1056034377496186,
          -0.0693526723544562,
          0.12335073669819102,
          -0.21067055330671008,
          -0.2708538395938862,
          -0.16757519221971717,
          -0.26807839582769993,
          -0.05474937152171368,
          -0.351544844642648,
          -0.2517814074118927,
          -0.10852894411443341,
          -0.16381406924603323,
          1.2601898124832325,
          -0.2085421149549157,
          0.17967476068383167,
          -0.1107312641476072,
          -0.3131802348446573,
          -0.07857752607256639,
          0.014076390455994861,
          0.27021459163497147,
          -0.04484977203920457,
          -0.23500515327838037,
          -0.12175820012487877,
          -0.2241197165618758,
          0.9370391152303955,
          1.130246254661204,
          -0.16245032397196435,
          -0.3145172780973439,
          -0.2803219760763171,
          -0.21378316368215108,
          -0.12193569179993498,
          -0.20145770948955347,
          0.028108174231511632,
          -0.3138859085518668,
          -0.2690561323821514,
          -0.16134028037652154,
          -0.05956163369824077,
          -0.31843955104270116,
          -0.029210921760029165,
          -0.1468040845827122,
          -0.131378048006747,
          -0.1313792754003989,
          0.0456792032637695,
          -0.31307781094997605,
          0.9238261546120256,
          -0.25327844949577716,
          -0.20014612957127847,
          0.5442847710808629,
          -0.15686718397234475,
          -0.20155260573330347,
          -0.2821190112241519,
          -0.19327768858475114,
          0.21305725587117705,
          -0.17361614068975392,
          -0.01467019226116706,
          -0.1352973051427536,
          -0.13974302515947698,
          -0.029178385364921604,
          -0.2911653980600089,
          -0.2063718786938037,
          -0.12792469165672601,
          -0.13779966319215284,
          -0.17029566075853117,
          -0.20816491637392276,
          -0.27544403193965034,
          -0.22525274860075828,
          -0.3040923098211482,
          -0.14010372349104444,
          11.393302099737214,
          -0.25492175222373875,
          -0.18679377418735618,
          -0.2764227001172293,
          -0.017719076223199556,
          0.11088881777677495,
          -0.228559162746748,
          -0.1487772629870329,
          -0.2365217579860978,
          -0.2352433765051768,
          -0.2452959780954747,
          -0.34393097794094724,
          -0.26965659167704253,
          -0.23481876242625924,
          -0.31125993199919355,
          0.012720878376581977,
          -0.04057435749976705,
          -0.2112150222268851,
          -0.14678688795677658,
          -0.03774391593804479,
          -0.059155938302579224,
          -0.20057829192638746,
          -0.2159058553074489,
          -0.27116880870868315,
          -0.31784741772375713,
          -0.1544137559971914,
          -0.24654468816846514,
          -0.05078020992693441,
          -0.17542113478097282,
          -0.26325373931269064,
          -0.1425884129157771,
          -0.31141213923125927,
          0.19225501939130427,
          -0.1177284557787657,
          -0.29434179013578093,
          -0.17994030115071963,
          -0.2684083696241575,
          -0.26968968102655866,
          -0.1692028898066042,
          1.4641263705994558,
          -0.09692892794734881,
          0.011751881132804431,
          -0.2726194511791581,
          -0.1568196563412286,
          0.048412509236525,
          0.14766040793353644,
          0.09264892524043786,
          0.018629373751412805,
          -0.07887079608633119,
          -0.2086805259924755,
          -0.13962664349433204,
          -0.17792780468020658,
          -0.3325258323950578,
          -0.17893196284338236,
          -0.32220489979199224,
          -0.0845318446751969,
          -0.29020704050307383,
          -0.14452754263355455,
          -0.26969188346487405,
          -0.2572658493800283,
          -0.3296023463896253,
          -0.21328949622969517,
          -0.19183619971605226,
          0.07451656054098334,
          -0.23433744407133952,
          -0.033172702724918464,
          0.03890952323577751,
          -0.11813255970719333,
          -0.2199446253042119,
          -0.2548646494313703,
          -0.013204917073583374,
          -0.2921233617649374,
          -0.32719053353037747,
          -0.03597001134590646,
          -0.2912622082219966,
          -0.24992896404079926,
          -0.12205319735732692,
          -0.18651705972231095,
          -0.08313628326915053,
          -0.20139220355784684,
          -0.2739829959842791,
          -0.2428394504780371,
          -0.023771217313786223,
          0.06599806286181156,
          -0.08823336311993148,
          -0.18169948077947537,
          -0.0326893721471924,
          -0.2724031329086742,
          -0.20426628313117523,
          -0.18744738520166612,
          0.08386694227508053,
          0.17087586922696257,
          0.1392008173761755,
          -0.018382640230261375,
          -0.0690199820266622,
          0.36540462605510604,
          -0.3144633720910034,
          -0.18178840900681945,
          -0.21256348837029426,
          -0.28152415632536965,
          -0.2076231913046363,
          -0.029194983017985558,
          -0.32451719783638017,
          -0.1017713011947358,
          -0.2725126133188035,
          -0.19259937546952105,
          -0.01912272991405256,
          -0.1389089972828599,
          0.3777357351058779,
          0.15493760744136573,
          -0.21020023901851898,
          -0.13444319178156472,
          0.2935956842470257,
          -0.27595929992917567,
          -0.25097388522526587,
          -0.31141668536973166,
          -0.2794482795004232,
          -0.23662571457108808,
          -0.03974582273343283,
          -0.19622658637324958,
          -0.21391233537799614,
          -0.17445057173893652,
          0.008438917389087246,
          7.9737488789144555,
          -0.14055423096255032,
          -0.27405685447611206,
          -0.24785971104438423,
          -0.24995269228129474,
          -0.2027471498829873,
          -0.2748140263504027,
          -0.26310705188722094,
          -0.29157374898608057,
          -0.17696631437407268,
          -0.19091482933068765,
          -0.30932364176640376,
          -0.2655996196285999,
          -0.11966475001428635,
          -0.24972091539649668,
          -0.24899654788078218,
          -0.11272403097635429,
          -0.11495269334386694,
          -0.15488810045526852,
          -0.1612270281181101,
          -0.2370455705496063,
          -0.22072308316524106,
          -0.21258462843495293,
          -0.2185105183864057,
          -0.3022196086616639,
          -0.1754622204471695,
          -0.2612393898306716,
          -0.21776357679550398,
          0.1646809487907476,
          -0.19922442926302714,
          -0.17248563354072552,
          -0.22642840772069045,
          -0.2066166799955388,
          -0.29015069592717474,
          -0.21911746509545427,
          -0.2698633987194275,
          -0.16236660464091687,
          -0.20646782044522483,
          -0.2559582006809391,
          -0.1687445365908922,
          0.13303408373097647,
          -0.21961806709901274,
          -0.2857264014069639,
          -0.30346781682328156,
          -0.2906204163632164,
          -0.18679475438978171,
          -0.2022356880152204,
          0.22746977073947122,
          -0.13895236549746345,
          -0.2215785950939822,
          -0.21811518522574672,
          -0.18069827954445494,
          -0.18682768104105252,
          -0.1926368613120268,
          -0.2323642029017709,
          -0.2617556923243818,
          -0.21106782417730605,
          -0.2668789046655101,
          -0.14287434885168138,
          -0.24624829523559294,
          -0.23295743059114046,
          -0.18481760785514945,
          -0.278845632043843,
          -0.29700167756857426,
          -0.19633856186354948,
          -0.2097296244897116,
          -0.17426779872854073,
          -0.16309634856041821,
          -0.19320856318968765,
          -0.07847637979790897,
          -0.13791917160469683,
          -0.33030768214836354,
          -0.09303266984042372,
          -0.013057345776839228,
          -0.18805844421540469,
          -0.22211304665291168,
          -0.28997497431545377,
          -0.17722278194100363,
          -0.29714863000268266,
          -0.18590608956136156,
          -0.12978034957806844,
          -0.0908231735665258,
          -0.2866393483313762,
          -0.1321223356567643,
          -0.2422604908690168,
          -0.20376269313614429,
          -0.28466452993955915,
          -0.26180094823977074,
          -0.0926483461310545,
          -0.2804283776475601,
          0.4512941519826815,
          -0.20670587609320717,
          -0.2170666552190112,
          -0.18821887688098,
          -0.2068702889688989,
          -0.11392200231130045,
          -0.10348726805772084,
          -0.25879429742683285,
          -0.2200476048784902,
          -0.269164302313972,
          -0.22771433863871085,
          -0.20058799337265854,
          -0.15373557855016715,
          -0.21131249812327482,
          -0.2156589051597654,
          -0.14576690781237944,
          -0.03973371080054912,
          -0.2011903038931285,
          -0.2382462150449683,
          -0.2647602101769477,
          -0.3279165242845414,
          -0.11738916266064782,
          -0.13861055049777457,
          -0.3033525952143682,
          -0.335295208793939,
          -0.1738897835534037,
          -0.17599279863039874,
          -0.2792997992085376,
          -0.24545195954417853,
          -0.10194495246858747,
          -0.2277145602621435,
          -0.24087011508742273,
          -0.23806695086605797,
          0.0002100253332662966,
          -0.24617710669809,
          -0.21093611212587984,
          -0.23638143764771985,
          0.06488437718711891,
          -0.2800408320067218,
          -0.24053538930285506,
          -0.27994467616737206,
          -0.16506423930680073,
          -0.15316543466669416,
          -0.23746958011337985,
          -0.08908059208007983,
          0.035273289411415276,
          -0.12577578532964764,
          -0.16623028463069034,
          -0.22431594870653682,
          -0.22683823857652258,
          -0.15954616024763849,
          -0.30871156827111645,
          0.0409474457916458,
          0.01011343298844536,
          -0.24716599969892783,
          -0.18614748720736501,
          -0.21161237749806366,
          -0.24191244366716083,
          -0.2822210002956963,
          -0.26701296725516627,
          -0.1996412113835977,
          -0.08372777098477856,
          -0.2384279735234072,
          -0.20737434413011693,
          -0.2568409120450335,
          -0.06017217386430994,
          -0.20233848911747201,
          -0.08755713904767425,
          -0.10049752865722623,
          -0.10170324706803041,
          -0.26962971933574315,
          -0.27278541151646296,
          1.0026479250166787,
          -0.2636964725113157,
          -0.27042613377306063,
          -0.1165307857107384,
          -0.19207136672416694,
          -0.12563804891928096,
          -0.19052655770228635,
          -0.1439950354840471,
          -0.23803605551937648,
          0.1118111186716014,
          -0.1724834665945566,
          -0.0905805984544548,
          -0.31057681956595157,
          -0.16586215789140615,
          -0.22957427196963218,
          -0.14829826938218033,
          -0.2619409733516359,
          0.005923229291343541,
          -0.10387428032710559,
          -0.32898534853587164,
          -0.16502261403507593,
          -0.30585004623123724,
          -0.1077523924317159,
          -0.0816672791255336,
          -0.3173843267990399,
          -0.1549449018602234,
          -0.2046887357881836,
          -0.17145314734057832,
          -0.18136295170546696,
          -0.29704048881046824,
          -0.3519358650295809,
          -0.12873974537018879,
          -0.13497738603936713,
          -0.2831191311937581,
          -0.2722315582539563,
          -0.21272986292821283,
          -0.1964919619342647,
          -0.11685760247438533,
          0.16534943109769082,
          -0.26417306843522864,
          -0.15516385881630124,
          -0.18473165338972716,
          -0.23063577962536297,
          -0.28138636588495336,
          0.5907090434819976,
          -0.3099570527817767,
          3.553719746345999,
          -0.18680226297119415,
          -0.1576978470420076,
          -0.22483687513724532,
          -0.1761928697966956,
          -0.13409033071375803,
          -0.26592480477721303,
          -0.2688226756277493,
          -0.2620184298703642,
          -0.2783514429780938,
          -0.12907497921096067,
          -0.17246731842081764,
          -0.26048726069766026,
          -0.19060961411357602,
          -0.17427238421173205,
          0.04956678792884651,
          -0.18957314885995374,
          -0.21551703889602813,
          -0.13826880071838632,
          -0.257962886054881,
          -0.2419859170331681,
          -0.07849177669878593,
          -0.1884545614877742,
          -0.3198577662513915,
          0.07715353359346253,
          -0.17252168201744195,
          -0.03327447929141488,
          -0.3105372968497414,
          -0.2707110917084044,
          -0.17578558188742216,
          -0.337262774315218,
          -0.13491068765721112,
          -0.21068286055631966,
          -0.3218886215600714,
          -0.08424353713386064,
          -0.16283929995196134,
          -0.275294208552735,
          -0.2555150364339986,
          -0.2717164282001933,
          -0.31951013404583317,
          -0.2580257063849964,
          -0.06317047771198243,
          -0.32018521535346156,
          -0.1780901595397676,
          -0.24718287337727368,
          -0.12733088222150585,
          -0.20127267064527185,
          0.2725708759186511,
          -0.1831586840998206,
          -0.27518996765358306,
          -0.10017577286951707,
          -0.2738216448855281,
          -0.2740508863300724,
          -0.036359905024222844,
          -0.13549601536544909,
          -0.24100869618075357,
          -0.21771325479431333,
          -0.04911467762986012,
          -0.30491336070314556,
          -0.1515284986540041,
          -0.13767225067623068,
          -0.30390446457904685,
          -0.310136727527899,
          -0.1605267790516986,
          -0.2612771834092353,
          -0.20165227678034922,
          -0.2734203594909227,
          -0.18915145396656946,
          -0.2900904661375357,
          -0.09347459042329075,
          -0.29479195827360655
         ],
         "y": [
          0.4468969485570544,
          -1.1225697292634493,
          -1.7317440501383112,
          -1.746579295745649,
          1.2517008530397749,
          1.5021950198495708,
          -1.2929255707966196,
          0.3148899503876265,
          -1.7100768518626168,
          1.6347464883380811,
          -0.43014480213800627,
          0.9028341394012939,
          0.9583729886216555,
          0.6309873631436996,
          0.20640481585159168,
          1.7117957326582482,
          -0.013696243171516107,
          0.6732526343045966,
          0.10036400510318823,
          0.16779160092048215,
          1.1851826289613276,
          0.9664799158631209,
          1.121468355400075,
          0.9665520956261041,
          0.6718114064427597,
          0.7235557734780285,
          -1.7374965159491966,
          0.386800193895268,
          -0.45899579058995094,
          -0.03407982138946935,
          0.965909941127725,
          -1.7584265078813408,
          -0.4544772098404451,
          -0.014185020936846331,
          0.9670893794692046,
          -1.727762443003663,
          0.12512675728406758,
          1.085499247774581,
          0.3023722170383596,
          0.3842939515367609,
          -0.009156764437013494,
          -1.7743024402774537,
          1.7986484298828451,
          1.2220571832598424,
          1.0654327114737225,
          0.6313700478858035,
          1.9002885161316965,
          0.6303561205150973,
          0.6703764693132592,
          -0.010793833867468591,
          1.6338117070484395,
          0.6778034054259814,
          0.6355159386711077,
          0.6347085600082035,
          -0.010524249798097084,
          0.6687202431599282,
          -0.2654821940596625,
          0.785945661260113,
          0.3873686727896495,
          0.7459885024469292,
          1.429204757226597,
          -1.7799850839150886,
          0.7455529076274606,
          1.711396371569795,
          0.6603235033365072,
          0.6349317967279904,
          -0.06349608346416018,
          0.49440362196191334,
          -1.7249672611454807,
          -1.2681726631354067,
          1.6346255345242222,
          -0.26100967892347904,
          -1.7260306581508706,
          -1.1587762490223472,
          -0.7373154828249683,
          0.9656689609541675,
          -1.335958217813447,
          0.961896771222295,
          1.5529214631283295,
          1.3501716130632724,
          0.16809360505282736,
          0.5919473628467248,
          -0.4303838735702814,
          -0.3977021908070839,
          0.6336065386648193,
          -0.013287654808764567,
          1.0316602788870621,
          -1.757647788663849,
          -0.029629532277928954,
          0.044739309172738606,
          -1.7264510122294476,
          0.3894495992952233,
          0.632548244439612,
          -0.43467238817307247,
          0.8104634612464918,
          -1.7279941138227541,
          0.6330935306454707,
          1.8887473518004472,
          1.418894455287873,
          1.2832752995217398,
          -0.4493373789243079,
          0.6370496737103774,
          1.0443700295234797,
          4.428265224842318,
          0.6340866290430075,
          0.6466038578122554,
          0.7441156799578578,
          -2.3034066199915726,
          -0.4166238778492627,
          0.6334032987293506,
          -0.43062506417994634,
          0.6708418184275942,
          0.7491310748124665,
          1.2915843587565978,
          -0.010109069313614522,
          0.6323352345652187,
          1.1788270093516,
          -0.013811713608737779,
          -0.4293295214654167,
          -0.18671976624103273,
          -0.09339994252892973,
          -0.9066912195462423,
          1.0181367384122277,
          -1.7260386687873477,
          0.7790306451390434,
          0.6364165010554639,
          1.7107085896753111,
          -1.0737812144173824,
          0.8412718357569803,
          0.6333675545743072,
          0.38606050727782115,
          1.4712048946942926,
          -0.9108158039448085,
          0.5325430235862932,
          1.2710897723501982,
          0.6320128095821831,
          -1.701814939039147,
          0.9722467113004848,
          -1.065481319241338,
          0.3860889306857516,
          1.0318833600613728,
          0.05210647772286716,
          0.6686531321624619,
          0.4581920819602662,
          -0.24711837827645716,
          -1.7501323958646369,
          0.6410781781600089,
          1.3741785926519534,
          0.6267592405207367,
          -1.7744723156769273,
          0.9666902125880151,
          0.532751786727254,
          0.6352521624837288,
          1.713195759227431,
          -1.7481254558246195,
          -0.430413483700869,
          1.9028522500347596,
          -1.2185169379542944,
          -0.07312028584645258,
          0.6312763209086288,
          0.8639248863740111,
          -0.431889750131336,
          1.0293837923924316,
          -1.727549893713728,
          0.5323422118855303,
          -0.30508293248059887,
          -1.7486466325793484,
          -1.6663525696578187,
          0.392403517592601,
          0.030665839571190418,
          -1.7277624771055193,
          -0.2889443042731455,
          -0.008014856004806482,
          -0.431729172035007,
          0.17163314525040693,
          -1.733298130618119,
          1.7970827810097085,
          -0.007912787977244557,
          -1.2199167645053017,
          0.4040277757736408,
          -1.7487808916557135,
          -1.7252050426096406,
          -1.7576029944625078,
          1.06462928128593,
          -1.0694670982959287,
          1.0988303752627466,
          2.4475728969760198,
          2.3912961407956477,
          0.6270331176539716,
          0.6309464690752086,
          0.6311362442945667,
          1.15139791508372,
          -1.7256113860731517,
          -0.7452407804163445,
          -1.2930167501814052,
          -1.7214101329323164,
          -0.9074859804713103,
          -0.4292279840281106,
          -0.4069956379290273,
          -0.24732568001787383,
          -1.7259728641981444,
          -1.749284242818847,
          -1.3406902828926608,
          -0.038841033651458155,
          0.9137893599104433,
          1.7986883409282657,
          2.391298545052523,
          -1.7249213469680724,
          0.6334187969318115,
          -1.6109330996544384,
          -1.7263532291640022,
          0.6352447381692862,
          -0.008051315790160283,
          0.6300674092205294,
          0.027772963882470542,
          0.10246943425347697,
          -1.7276581888672822,
          -1.1219596190741679,
          -0.007776352803694773,
          0.05039837521567625,
          0.37201512329207376,
          0.7869352370404712,
          -1.1252195783265881,
          0.6351444909482228,
          0.9892516615788394,
          1.2938435745405283,
          0.6301696524173483,
          0.3258797026667606,
          0.988391382078726,
          0.6306748494591873,
          0.6268284035215361,
          1.816263313967674,
          1.3504161826103296,
          -1.7542427766993556,
          0.6336746790814516,
          -1.7305687334455848,
          0.6303599053319493,
          1.4760305909157851,
          -0.43999071238128745,
          0.10145644700403747,
          1.0337238606029158,
          -1.124332922880746,
          1.0739846689512447,
          2.822478362358326,
          -0.9502325044102589,
          -0.6750831345552499,
          0.6323016741679587,
          0.7000485833686235,
          -1.2454548327767223,
          0.1762866039109655,
          0.9665304959375121,
          4.486964712141356,
          -0.014787497111687165,
          -0.006588300230957996,
          0.4012860363636032,
          1.2243231575974114,
          1.6344732237110562,
          -0.2469102396756911,
          -0.45282391277789336,
          -0.9820845524412705,
          -1.7482539495859226,
          -1.7520599213172656,
          1.6823314317524412,
          0.9675748819605136,
          0.13062069280536703,
          -1.7279808341907692,
          -1.255760396747387,
          1.5739151661756983,
          -1.7232612241690046,
          0.3661574070160793,
          -1.7489958039501674,
          1.8666162808422315,
          0.7500328856358606,
          1.434675432948303,
          -1.723646508588935,
          -1.062366878031988,
          -1.7249669975767576,
          -1.3975048506751813,
          2.2249656891059213,
          0.9661893513214459,
          0.17324383757610992,
          0.9744078799539926,
          0.6479534083829164,
          0.8764338045052323,
          1.102213675362999,
          0.6699898686880134,
          1.8662585098149982,
          -1.2446616017945251,
          -0.4050123763819187,
          -1.3822705911102877,
          -0.428938316436715,
          1.111097914461597,
          0.7507725415601895,
          -2.348842246714374,
          -1.7067076509504169,
          -1.6991314663249066,
          -1.7508447728153083,
          1.8681647173258196,
          -2.3292844423633876,
          -0.008431902358229403,
          1.4593530945523772,
          -1.7235283790904445,
          0.12885682766701778,
          1.067363829397967,
          0.8373759900103735,
          -0.4312039171042872,
          -1.729896118945958,
          0.1689291801626693,
          -1.7483418895565574,
          -0.006921053975992238,
          -0.42828830043892085,
          0.725455978097778,
          -0.6841184971764858,
          -1.0991887148684205,
          0.6630078988828102,
          0.13070626256504325,
          -1.0828952217180745,
          -0.06795065022928796,
          -0.45614748056873483,
          -1.7244633192043954,
          -1.724615810703169,
          -0.0038252460732717234,
          0.847394065298612,
          0.6770738969772291,
          -1.7505606223069596,
          -1.748547522035193,
          0.16981249303170903,
          -1.7498777227698614,
          0.17095563829941504,
          0.7540367305648024,
          -1.7250147247927752,
          -1.7480349430343878,
          1.6254347710875117,
          0.024189647608341906,
          -1.750267598669129,
          0.12833819885645548,
          -0.010034402761032664,
          -1.7220949201737958,
          1.9793686896140719,
          -0.43188148885025374,
          -0.9068859163666507,
          -1.6101960258552959,
          -1.217643339547137,
          1.7236928067099901,
          0.3880048129290794,
          1.3449800539186931,
          0.9664255313375734,
          0.6883559807238928,
          1.0976392026313204,
          0.6313227721278282,
          -0.4284069109341017,
          -0.42696302284873583,
          1.0975858138120467,
          -1.7509718325776573,
          0.6308956980917247,
          -1.3233113766726596,
          -1.7359820806510606,
          -1.7257032826316818,
          -1.7248982902980126,
          -0.5352633979187897,
          0.6348500621125887,
          -0.36734750659345977,
          0.6349108786550434,
          -0.4290870907188046,
          1.4172825942048297,
          1.0333912005360142,
          0.10576663103613954,
          0.9677143652606809,
          0.7256074476530769,
          0.6341498676672774,
          -1.7496969957524768,
          -1.7262066711981192,
          0.02288362234435126,
          0.6361402380892486,
          -1.0614821778260841,
          1.459990690217033,
          -1.7481945025959806,
          -1.7255443076341084,
          -1.7263998783914452,
          -1.6945179504280883,
          -1.7200671208533278,
          1.0693213520332148,
          -0.08424070111914662,
          0.7303055248410097,
          0.7049582903041527,
          -1.2958921932534724,
          -0.43137693962397594,
          0.39280653190873877,
          -0.42865481198591326,
          0.26308684597196497,
          1.865703341741974,
          0.7894072958799243,
          -1.7490290533637645,
          0.8327562777001708,
          -1.7457754570788382,
          -0.4289284458429445,
          -1.123705658014862,
          2.222273817602348,
          -1.726195508489255,
          -1.2833459259075348,
          -1.749762286786566,
          -1.3362851750912321,
          -1.7249439845239336,
          1.3903707888834702,
          0.3781820035978085,
          1.3915118097026489,
          0.36202335530134017,
          -0.029710759770538556,
          -1.7545769072580144,
          -0.012618499215415798,
          -1.7242387080872144,
          -1.2835583723956459,
          -1.1231433819669066,
          0.6336063540769488,
          -0.425964785918436,
          -0.4550567949670178,
          1.3514549283307644,
          2.6212004835994698,
          0.3870702078890133,
          0.632857557656712,
          -0.008327993307367497,
          1.2303566083283528,
          -1.3243241724795656,
          -0.7831919132106243,
          0.6418378066375967,
          -0.907923070527736,
          0.7505256944067304,
          -0.4041718081482196,
          -1.3449689966439287,
          -1.7241569847452067,
          -1.7480027442176953,
          -1.7776463487291227,
          1.8902713487589042,
          -0.9077174559253909,
          -0.9070852852979736,
          -1.3823244850164742,
          1.6024149677080695,
          -1.7303927646191175,
          -1.7510689208120898,
          1.1497014451585463,
          0.7531815514227057,
          1.4334666522263604,
          1.1962460290754147,
          0.20424901993868816,
          0.6758889649710524,
          1.174510409821464,
          0.966074362340275,
          -0.06727941669640614,
          0.8522483226909797,
          -0.40449178214788223,
          1.4775705005098794,
          -0.010597659082335781,
          -1.774058115578982,
          -0.00993452977517269,
          0.3281058983966701,
          -0.43048375617881174,
          -1.7499030880500643,
          -0.42963099592437254,
          0.4999122492755401,
          -1.7259792284003022,
          -1.7513022837224241,
          -1.6996360431574347,
          2.2318053360995047,
          -0.454907883015742,
          0.6373361282656597,
          -0.406460651724447,
          -1.7328103333260052,
          2.6148801813604328,
          0.4023803144369361,
          -1.479615274438708,
          -1.7243781930381055,
          0.9793375534820491,
          -1.7435291124165708,
          -1.7232140827251226,
          -1.58920685139048,
          0.6263805704324039,
          1.1107204946480482,
          -0.0334193532239214,
          1.667055305727288,
          0.6336549718884767,
          0.7510922500922773,
          1.6357182165449593,
          -0.2873534437781949,
          0.37873913849690277,
          0.9198376995217342,
          0.5313938269032492,
          -1.7236740498695553,
          -0.33776047210573223,
          1.8161459411235024,
          -1.7542773798288642,
          -1.3125660538800983,
          0.6326030109577286,
          1.4324319871891773,
          -1.1489025598602345,
          -1.7247113433505508,
          0.6248377223961868,
          0.05451457365848826,
          -0.06726818146874794,
          0.6411771901627507,
          0.9208148286473943,
          1.5505879584357591,
          -0.40423190916765434,
          -0.02908006559795842,
          0.6344154390169748,
          -0.43041307090789144,
          -1.7263404069663881,
          -0.4301125384190484,
          -0.2476137646246135,
          1.2618588741652659,
          -0.010045495615459983,
          -1.724474183853716,
          -1.1225816288063988,
          0.6455251776372662,
          -0.3768692056645621,
          -1.724973732216417,
          -1.0944114858591307,
          -0.2472750691967195,
          1.0680069390923501,
          -0.03630966826850192,
          1.7516096841692632,
          -1.7249293653619155,
          -0.24464778383340666,
          -1.7745947127469737,
          -2.2799720286393095,
          1.6964483986258057,
          0.20009499008788628,
          0.15797617047259685,
          1.8134830643324429,
          1.9521797191908716,
          0.7501846583101661,
          -0.06868437768018885,
          -1.7524079085962379,
          1.5553989632305878,
          -0.03667314280969863,
          0.9672449289548691,
          -0.41921893295127055,
          -0.008531105196320247,
          -2.349285064927045,
          2.225874671564639,
          -1.2196869711308305,
          0.6647596882772865,
          -0.2606693680061513,
          1.0984732304359008,
          1.06417140260567,
          0.7517848048348671
         ],
         "z": [
          -1.1287994879129586,
          -1.5294094821889141,
          0.2727944897369927,
          0.29528153998584533,
          -1.4098770072825768,
          -1.7203226657569375,
          0.2683686213906965,
          -1.4114665856035684,
          0.2807554343812186,
          -1.5882147420636716,
          0.26715193955259053,
          -1.2104861550133499,
          0.3535970085775548,
          0.3502255812985462,
          -1.4898570872119614,
          -1.5160398824956585,
          0.30511402319962594,
          0.4851454523771131,
          0.28097303181881783,
          0.20895027819787995,
          -1.252748894565053,
          0.34106769103577345,
          -1.178010768492054,
          0.34042331395835945,
          0.32224527616349874,
          0.21429621474367125,
          0.2805742440427534,
          0.32496273789964647,
          0.263372031350389,
          -0.9279256993051299,
          0.33946167154197116,
          0.27446898107895834,
          0.25757030975618816,
          0.2993061404749652,
          0.3394192453510853,
          0.26927512943208204,
          0.18381414480545472,
          -1.4128031862786394,
          -0.7038478583408185,
          0.33581494584079336,
          0.29861790901772717,
          0.2737250907378169,
          -1.7633222605492698,
          -0.42910408347738666,
          0.34988044530118234,
          0.3435197400602205,
          0.27600267945662227,
          0.3573049642023289,
          0.31744041494990377,
          0.3011838982340363,
          -1.5915896689118658,
          0.21642973779651242,
          0.34898569646369687,
          0.35207967373655186,
          0.2974774683167921,
          0.4936601463941503,
          0.3793974915722869,
          0.25968683580437535,
          0.3262350207860444,
          0.22214519992975565,
          -0.9870507553952037,
          0.2879985779824503,
          0.22782717233103078,
          -1.5199471594092107,
          0.2769717010000862,
          0.3541976021404574,
          0.22361091490048562,
          0.13107760796855764,
          0.2671444530987494,
          0.26970898063036386,
          -1.5841655990088142,
          0.38039745340873415,
          0.2807381741559589,
          -0.45199220074642793,
          0.27534949657968794,
          0.34074398103100734,
          0.22894330650596584,
          0.34344617037570274,
          0.24788850908980523,
          -1.58201287746313,
          0.20824007399744723,
          -1.5004477204544224,
          0.27711220636599565,
          0.16439793930146634,
          0.34046263824294914,
          0.23931222200429864,
          0.20877999360382216,
          0.29068152440843287,
          -0.930317241094442,
          0.2764724940731635,
          0.2692199091246301,
          0.4145501419358856,
          0.3488659072458544,
          0.2686311743263776,
          0.3339051447459452,
          0.27178231824154186,
          0.33999082631893035,
          0.31105656488512995,
          -1.4709982666887085,
          -1.1144132762476842,
          0.295614347745394,
          0.3580512150320213,
          0.24189485356676552,
          8.514904788526913,
          0.34441372137356246,
          0.39738941434299857,
          0.7333648070501573,
          0.28006058574554465,
          0.30717950140416084,
          0.33772975920011306,
          0.2687948630761293,
          0.3332135263882702,
          0.21022770811022287,
          -1.6109447271971074,
          0.29952444783046067,
          0.34506119224842224,
          -1.2706087870437421,
          0.2484694790708025,
          0.262489802640745,
          0.16527116101457423,
          0.3244595846535043,
          0.3335598849062171,
          0.21982695680462927,
          0.2680864113382795,
          0.8561087775918886,
          0.34775852309635297,
          -1.5182630467024336,
          -1.6918800883079046,
          -1.7766857575277248,
          0.3559487099979422,
          0.3300238885079293,
          -0.952192973053704,
          0.3302723452131779,
          -1.6456790806602268,
          -1.4777371166850226,
          0.3443278465258509,
          0.2692898304871849,
          0.2384796643548462,
          -1.6943814999440874,
          0.31998366587622895,
          0.20441567681036152,
          0.26861903989456465,
          0.471742640522772,
          0.3840003661315076,
          0.24227127402147847,
          0.26545169787985373,
          0.3649323818863418,
          -1.8778876153115793,
          0.3412491876825872,
          0.2630549308016961,
          0.34148057532153336,
          -1.6408998942363489,
          0.34726066417634954,
          -1.5131400340900496,
          0.261527564828841,
          0.261872008422554,
          0.284988467794568,
          0.26742026746573533,
          0.15568529638268905,
          0.3509956138841145,
          0.2638024972056075,
          0.26588054585040294,
          0.2089422438696821,
          0.2732328877953419,
          -1.6404053531001643,
          -1.4614556924773325,
          0.26550375226841144,
          0.09357350414258123,
          -1.5927969125858532,
          -1.1735179048151445,
          0.2687969093041929,
          0.37611440702553306,
          0.29890987360607135,
          0.26786951590239594,
          0.20874552383835276,
          0.2748565331657707,
          -1.767194350085856,
          0.29716436984311245,
          0.2719072126941944,
          0.19332021515619496,
          0.2648922264567241,
          0.2692737925142773,
          0.2972315862716622,
          0.3484453833370141,
          -1.6908439507035324,
          0.24970392163045374,
          -1.6662379274625285,
          -1.476691105951353,
          0.34712887006485427,
          0.35481176034689466,
          0.3504162570938201,
          -1.1751062616138397,
          0.2657209149401617,
          -1.5373470317000868,
          0.2710546935903285,
          0.2710478703808915,
          0.3316801360575154,
          0.26279289102491377,
          0.2744882487453167,
          0.23866550848620155,
          0.2700697448644204,
          0.26311778978855477,
          0.2679653539713598,
          0.2511656303293297,
          0.2691533564232675,
          -1.7659693053383059,
          -1.4750627594972863,
          0.26655745635967404,
          0.35567976942554425,
          0.20789188441782697,
          0.26916704031315397,
          0.34870938872086443,
          0.2994496776629338,
          0.3441766562897358,
          0.26836916484714873,
          0.2728560908784046,
          0.27213715909431513,
          -1.5267888167274777,
          0.3006840419414239,
          0.2770568521345106,
          0.2932571635872008,
          0.25851410792497603,
          -1.5299684367935857,
          0.3436028379695363,
          -1.4653936360706126,
          -1.6020356429680132,
          0.35020651877547665,
          0.3632697256719093,
          -1.4640937616911556,
          0.3466864203456393,
          -1.319128727715035,
          0.30935928696527926,
          -1.5740080403775782,
          0.27322965650495756,
          0.3698280461927217,
          0.27455230116861784,
          0.34569158042792647,
          0.24422158971025607,
          0.274415858312503,
          0.2701866412708354,
          -0.8538172955615304,
          -1.527798982114347,
          0.2470280855921324,
          -1.4977136452019493,
          -1.75516543379567,
          0.24981076715695244,
          0.34653319627499346,
          -1.5306171558390507,
          0.26619724951230145,
          0.17929825253961032,
          0.3414476390676519,
          13.971448861662592,
          0.3056632584403967,
          0.30733250678529533,
          0.19291965335744207,
          -1.4515026488366276,
          -1.5890801118812468,
          0.2429993103041106,
          0.26518844493915056,
          -1.964756284876278,
          0.26874342121144734,
          0.2696036819588417,
          -1.6971733116991579,
          0.33979409352274537,
          0.1765915282724923,
          0.27338522398581794,
          -0.34034521841458,
          -1.850156657130671,
          0.26886078443934663,
          0.3371781795725816,
          0.2651948162079253,
          0.31292402542169684,
          0.21601116799292905,
          0.30721597172742515,
          0.2673237351946375,
          -1.7817585915090233,
          0.26851124015980604,
          0.10983507796295491,
          0.3057830074436701,
          0.34171421397332685,
          0.21882548779607175,
          0.2400199002729248,
          0.38388108285848255,
          -1.2092222205897916,
          -1.806344368893893,
          0.32083070728447793,
          0.309058574238642,
          0.26726504162570974,
          0.2705733454576014,
          0.22592204795187948,
          0.2646697564242398,
          0.28447822648555926,
          0.2198918933239758,
          0.2742818175780141,
          0.27460412211615665,
          0.27468772497546373,
          0.2641445353737819,
          0.3162394140743558,
          0.25687065715573537,
          0.29523304048779525,
          0.3116847432675162,
          0.2682531645089291,
          0.17178495556400003,
          0.35035034717984126,
          0.390820960544888,
          0.26635668595662226,
          0.27604775465355547,
          0.0525010967816723,
          0.26503403453680946,
          0.29962576680247394,
          0.2676929677673448,
          0.222798263934068,
          -1.7003367076406308,
          -1.6938142357101105,
          0.2664418774078174,
          0.17294659139726262,
          -0.3652161290016049,
          0.1600355679323287,
          0.2628864314861083,
          0.27117391537118957,
          0.2670873321704054,
          0.31354104966521595,
          0.24319179690504106,
          0.2161915057711909,
          0.2678252743733278,
          0.26751827225416625,
          0.2080658217467649,
          0.2668909943819493,
          0.20875972465507744,
          0.2289329717517273,
          0.26957564888683105,
          0.2717221153127387,
          -1.6250049970716771,
          0.2647367854713106,
          0.26484825216352276,
          0.17663999911941394,
          0.3011357403022805,
          0.2689708455322655,
          -0.027419141964571257,
          0.27483454258478746,
          0.3331962906365763,
          -0.07403262705921321,
          0.27205122618991034,
          -0.26634767326291997,
          0.32513590241565554,
          -1.004977276946808,
          0.3416768320310526,
          0.2518824426689146,
          0.24449070287738012,
          0.341561127874176,
          0.27074332801185447,
          0.27877177588055363,
          0.24484400535305534,
          0.25868143002240007,
          0.34217600375181434,
          -0.931036636424944,
          0.27604400741858787,
          0.26593846816253425,
          0.2675664191913303,
          0.3617500782072722,
          0.3479115740491996,
          0.30957051945347547,
          0.35552964309622853,
          0.2673487297862542,
          -0.7751127000523895,
          0.2069367312302058,
          -0.04332708405408578,
          0.34121919234960557,
          0.22423709983586249,
          0.3458579050146668,
          0.2653271629251592,
          0.2675461658308012,
          0.26893647974846013,
          0.35265569907717204,
          -1.7827741616877208,
          0.3109363298351843,
          0.2629607964925165,
          0.2719495729199438,
          0.2680114966271066,
          0.18183817355838275,
          0.275769317244341,
          0.3596536754725565,
          -0.8483251791886197,
          0.23329129318311434,
          0.2302622553851468,
          0.26652406821832364,
          0.26181725813987106,
          0.34660895330744107,
          0.27020358270808803,
          -1.8486697906318996,
          0.30650225121862573,
          0.25775093157762197,
          0.2663508600976847,
          -0.02729868644784028,
          0.27427727767423865,
          0.26910642999466616,
          -1.5321506554970623,
          0.3041435682688202,
          0.26827666483262275,
          0.23190459273276964,
          0.2750528877318136,
          0.23907118104975786,
          0.2733975257864406,
          -1.5341582946679793,
          0.19175107108331033,
          -1.5343256775194671,
          0.32887327941740396,
          0.3045463985240172,
          0.27388296903986054,
          0.3032439056900854,
          0.26762155531302245,
          0.2354364248146123,
          -1.524931773484289,
          0.3409920917527498,
          0.27655226177660774,
          0.2607911808625507,
          -1.5719691597989358,
          -0.8939418459281308,
          0.3265195261304256,
          0.3402077649728878,
          0.2979328101589509,
          1.7127446631906633,
          -0.9282895256180901,
          -1.5667825299486382,
          0.37967230908996347,
          0.33635593083747345,
          0.21835336261781577,
          0.2689964484099393,
          -0.9099947167534933,
          0.2669128530277659,
          0.2677045023610474,
          0.36096760637179526,
          0.311454437961842,
          0.3345976716722535,
          0.33236094005452355,
          0.2314763069970345,
          -0.1165976474617813,
          0.2722862516957743,
          0.2644430844252847,
          -0.9705575022375549,
          0.22464499866077278,
          -0.9851573407906209,
          -1.022101982537661,
          0.35505638243878646,
          -1.529179586947759,
          -1.2742925454474545,
          0.34237476146831664,
          0.15138858277561917,
          0.9302655541095859,
          0.26533050407510317,
          0.2463718922697456,
          0.3026072076632181,
          0.25756669823241773,
          0.29981127923815387,
          0.360942970192386,
          0.2695117598214453,
          0.26720485718485504,
          0.2628328133224546,
          0.13074499356049524,
          0.2700244955479997,
          0.26737678023073586,
          0.26622562983229575,
          0.3294277526228164,
          0.26532043125003923,
          0.35897413962338437,
          0.2721340458526289,
          0.2700145929671911,
          5.679524797417626,
          0.19544628869153174,
          0.2295706619083997,
          0.2681266337183249,
          -1.6078261334285484,
          0.2738018372874952,
          0.26639104367733496,
          -0.2952797249078607,
          0.38808752502479715,
          0.28475515193829587,
          0.29761166908298375,
          -1.4474470816284553,
          0.34815246864821403,
          0.22109376279920032,
          -1.5840142495976575,
          0.3756555733651372,
          0.18896195401336202,
          -0.5063304133304298,
          -0.0925382585420925,
          0.26867872854655217,
          0.3746201267638278,
          0.30805296614988387,
          0.26941472577889236,
          0.28672735428718277,
          0.338981961843781,
          0.30797279862400495,
          -1.532477579998716,
          0.266560322230109,
          0.39031733406419783,
          0.3377571261407371,
          0.15148304577612223,
          0.3912402531179098,
          -0.29155061190570497,
          0.2532192402715646,
          0.26577707557233277,
          0.3095727600154102,
          0.34783150386620143,
          0.2569357786079745,
          0.26798444676384764,
          0.2679511213210031,
          0.23562168704876518,
          -1.3462800547079998,
          0.29943150432407445,
          0.26506290308820474,
          -1.5263569783594437,
          0.3805343306949289,
          0.4469586274824994,
          0.2642295546250404,
          -1.6995527434296427,
          0.2367438058445224,
          0.35468587964233256,
          0.3545229064024265,
          -1.7045739809168623,
          0.2696115097642435,
          -0.89861416804446,
          0.2663684015212267,
          0.2552340125675539,
          -1.5245596027408603,
          -1.6361142183191555,
          0.17995655635302385,
          0.30792471099767593,
          -0.947726194885003,
          0.21955940944861618,
          0.15437238144936297,
          0.2707040294660604,
          0.24981784960787512,
          0.2385807099944298,
          0.3440324542239016,
          0.2987313332302719,
          0.29348324725694075,
          0.2753598886186812,
          0.30949149627797956,
          0.2711155712140154,
          0.26158415527051493,
          0.38940123879220534,
          0.2470275743938285,
          0.347778892950689,
          0.22078703529583407
         ]
        },
        {
         "hovertemplate": "class=%{marker.color}<br>PC1=%{x}<br>PC2=%{y}<br>PC3=%{z}<extra></extra>",
         "legendgroup": "1",
         "marker": {
          "color": [
           1,
           1
          ],
          "coloraxis": "coloraxis",
          "symbol": "diamond"
         },
         "mode": "markers",
         "name": "1",
         "scene": "scene",
         "showlegend": true,
         "type": "scatter3d",
         "x": [
          19.659134607803935,
          31.63968084347442
         ],
         "y": [
          0.9767885466653433,
          0.08182210828643853
         ],
         "z": [
          -1.285881657197722,
          0.6385885253586447
         ]
        }
       ],
       "layout": {
        "coloraxis": {
         "colorbar": {
          "title": {
           "text": "class"
          }
         },
         "colorscale": [
          [
           0,
           "#0d0887"
          ],
          [
           0.1111111111111111,
           "#46039f"
          ],
          [
           0.2222222222222222,
           "#7201a8"
          ],
          [
           0.3333333333333333,
           "#9c179e"
          ],
          [
           0.4444444444444444,
           "#bd3786"
          ],
          [
           0.5555555555555556,
           "#d8576b"
          ],
          [
           0.6666666666666666,
           "#ed7953"
          ],
          [
           0.7777777777777778,
           "#fb9f3a"
          ],
          [
           0.8888888888888888,
           "#fdca26"
          ],
          [
           1,
           "#f0f921"
          ]
         ]
        },
        "legend": {
         "title": {
          "text": "class"
         },
         "tracegroupgap": 0,
         "x": 0,
         "y": 1
        },
        "margin": {
         "t": 60
        },
        "scene": {
         "domain": {
          "x": [
           0,
           1
          ],
          "y": [
           0,
           1
          ]
         },
         "xaxis": {
          "title": {
           "text": "PC1"
          }
         },
         "yaxis": {
          "title": {
           "text": "PC2"
          }
         },
         "zaxis": {
          "title": {
           "text": "PC3"
          }
         }
        },
        "template": {
         "data": {
          "bar": [
           {
            "error_x": {
             "color": "#2a3f5f"
            },
            "error_y": {
             "color": "#2a3f5f"
            },
            "marker": {
             "line": {
              "color": "#E5ECF6",
              "width": 0.5
             },
             "pattern": {
              "fillmode": "overlay",
              "size": 10,
              "solidity": 0.2
             }
            },
            "type": "bar"
           }
          ],
          "barpolar": [
           {
            "marker": {
             "line": {
              "color": "#E5ECF6",
              "width": 0.5
             },
             "pattern": {
              "fillmode": "overlay",
              "size": 10,
              "solidity": 0.2
             }
            },
            "type": "barpolar"
           }
          ],
          "carpet": [
           {
            "aaxis": {
             "endlinecolor": "#2a3f5f",
             "gridcolor": "white",
             "linecolor": "white",
             "minorgridcolor": "white",
             "startlinecolor": "#2a3f5f"
            },
            "baxis": {
             "endlinecolor": "#2a3f5f",
             "gridcolor": "white",
             "linecolor": "white",
             "minorgridcolor": "white",
             "startlinecolor": "#2a3f5f"
            },
            "type": "carpet"
           }
          ],
          "choropleth": [
           {
            "colorbar": {
             "outlinewidth": 0,
             "ticks": ""
            },
            "type": "choropleth"
           }
          ],
          "contour": [
           {
            "colorbar": {
             "outlinewidth": 0,
             "ticks": ""
            },
            "colorscale": [
             [
              0,
              "#0d0887"
             ],
             [
              0.1111111111111111,
              "#46039f"
             ],
             [
              0.2222222222222222,
              "#7201a8"
             ],
             [
              0.3333333333333333,
              "#9c179e"
             ],
             [
              0.4444444444444444,
              "#bd3786"
             ],
             [
              0.5555555555555556,
              "#d8576b"
             ],
             [
              0.6666666666666666,
              "#ed7953"
             ],
             [
              0.7777777777777778,
              "#fb9f3a"
             ],
             [
              0.8888888888888888,
              "#fdca26"
             ],
             [
              1,
              "#f0f921"
             ]
            ],
            "type": "contour"
           }
          ],
          "contourcarpet": [
           {
            "colorbar": {
             "outlinewidth": 0,
             "ticks": ""
            },
            "type": "contourcarpet"
           }
          ],
          "heatmap": [
           {
            "colorbar": {
             "outlinewidth": 0,
             "ticks": ""
            },
            "colorscale": [
             [
              0,
              "#0d0887"
             ],
             [
              0.1111111111111111,
              "#46039f"
             ],
             [
              0.2222222222222222,
              "#7201a8"
             ],
             [
              0.3333333333333333,
              "#9c179e"
             ],
             [
              0.4444444444444444,
              "#bd3786"
             ],
             [
              0.5555555555555556,
              "#d8576b"
             ],
             [
              0.6666666666666666,
              "#ed7953"
             ],
             [
              0.7777777777777778,
              "#fb9f3a"
             ],
             [
              0.8888888888888888,
              "#fdca26"
             ],
             [
              1,
              "#f0f921"
             ]
            ],
            "type": "heatmap"
           }
          ],
          "heatmapgl": [
           {
            "colorbar": {
             "outlinewidth": 0,
             "ticks": ""
            },
            "colorscale": [
             [
              0,
              "#0d0887"
             ],
             [
              0.1111111111111111,
              "#46039f"
             ],
             [
              0.2222222222222222,
              "#7201a8"
             ],
             [
              0.3333333333333333,
              "#9c179e"
             ],
             [
              0.4444444444444444,
              "#bd3786"
             ],
             [
              0.5555555555555556,
              "#d8576b"
             ],
             [
              0.6666666666666666,
              "#ed7953"
             ],
             [
              0.7777777777777778,
              "#fb9f3a"
             ],
             [
              0.8888888888888888,
              "#fdca26"
             ],
             [
              1,
              "#f0f921"
             ]
            ],
            "type": "heatmapgl"
           }
          ],
          "histogram": [
           {
            "marker": {
             "pattern": {
              "fillmode": "overlay",
              "size": 10,
              "solidity": 0.2
             }
            },
            "type": "histogram"
           }
          ],
          "histogram2d": [
           {
            "colorbar": {
             "outlinewidth": 0,
             "ticks": ""
            },
            "colorscale": [
             [
              0,
              "#0d0887"
             ],
             [
              0.1111111111111111,
              "#46039f"
             ],
             [
              0.2222222222222222,
              "#7201a8"
             ],
             [
              0.3333333333333333,
              "#9c179e"
             ],
             [
              0.4444444444444444,
              "#bd3786"
             ],
             [
              0.5555555555555556,
              "#d8576b"
             ],
             [
              0.6666666666666666,
              "#ed7953"
             ],
             [
              0.7777777777777778,
              "#fb9f3a"
             ],
             [
              0.8888888888888888,
              "#fdca26"
             ],
             [
              1,
              "#f0f921"
             ]
            ],
            "type": "histogram2d"
           }
          ],
          "histogram2dcontour": [
           {
            "colorbar": {
             "outlinewidth": 0,
             "ticks": ""
            },
            "colorscale": [
             [
              0,
              "#0d0887"
             ],
             [
              0.1111111111111111,
              "#46039f"
             ],
             [
              0.2222222222222222,
              "#7201a8"
             ],
             [
              0.3333333333333333,
              "#9c179e"
             ],
             [
              0.4444444444444444,
              "#bd3786"
             ],
             [
              0.5555555555555556,
              "#d8576b"
             ],
             [
              0.6666666666666666,
              "#ed7953"
             ],
             [
              0.7777777777777778,
              "#fb9f3a"
             ],
             [
              0.8888888888888888,
              "#fdca26"
             ],
             [
              1,
              "#f0f921"
             ]
            ],
            "type": "histogram2dcontour"
           }
          ],
          "mesh3d": [
           {
            "colorbar": {
             "outlinewidth": 0,
             "ticks": ""
            },
            "type": "mesh3d"
           }
          ],
          "parcoords": [
           {
            "line": {
             "colorbar": {
              "outlinewidth": 0,
              "ticks": ""
             }
            },
            "type": "parcoords"
           }
          ],
          "pie": [
           {
            "automargin": true,
            "type": "pie"
           }
          ],
          "scatter": [
           {
            "marker": {
             "colorbar": {
              "outlinewidth": 0,
              "ticks": ""
             }
            },
            "type": "scatter"
           }
          ],
          "scatter3d": [
           {
            "line": {
             "colorbar": {
              "outlinewidth": 0,
              "ticks": ""
             }
            },
            "marker": {
             "colorbar": {
              "outlinewidth": 0,
              "ticks": ""
             }
            },
            "type": "scatter3d"
           }
          ],
          "scattercarpet": [
           {
            "marker": {
             "colorbar": {
              "outlinewidth": 0,
              "ticks": ""
             }
            },
            "type": "scattercarpet"
           }
          ],
          "scattergeo": [
           {
            "marker": {
             "colorbar": {
              "outlinewidth": 0,
              "ticks": ""
             }
            },
            "type": "scattergeo"
           }
          ],
          "scattergl": [
           {
            "marker": {
             "colorbar": {
              "outlinewidth": 0,
              "ticks": ""
             }
            },
            "type": "scattergl"
           }
          ],
          "scattermapbox": [
           {
            "marker": {
             "colorbar": {
              "outlinewidth": 0,
              "ticks": ""
             }
            },
            "type": "scattermapbox"
           }
          ],
          "scatterpolar": [
           {
            "marker": {
             "colorbar": {
              "outlinewidth": 0,
              "ticks": ""
             }
            },
            "type": "scatterpolar"
           }
          ],
          "scatterpolargl": [
           {
            "marker": {
             "colorbar": {
              "outlinewidth": 0,
              "ticks": ""
             }
            },
            "type": "scatterpolargl"
           }
          ],
          "scatterternary": [
           {
            "marker": {
             "colorbar": {
              "outlinewidth": 0,
              "ticks": ""
             }
            },
            "type": "scatterternary"
           }
          ],
          "surface": [
           {
            "colorbar": {
             "outlinewidth": 0,
             "ticks": ""
            },
            "colorscale": [
             [
              0,
              "#0d0887"
             ],
             [
              0.1111111111111111,
              "#46039f"
             ],
             [
              0.2222222222222222,
              "#7201a8"
             ],
             [
              0.3333333333333333,
              "#9c179e"
             ],
             [
              0.4444444444444444,
              "#bd3786"
             ],
             [
              0.5555555555555556,
              "#d8576b"
             ],
             [
              0.6666666666666666,
              "#ed7953"
             ],
             [
              0.7777777777777778,
              "#fb9f3a"
             ],
             [
              0.8888888888888888,
              "#fdca26"
             ],
             [
              1,
              "#f0f921"
             ]
            ],
            "type": "surface"
           }
          ],
          "table": [
           {
            "cells": {
             "fill": {
              "color": "#EBF0F8"
             },
             "line": {
              "color": "white"
             }
            },
            "header": {
             "fill": {
              "color": "#C8D4E3"
             },
             "line": {
              "color": "white"
             }
            },
            "type": "table"
           }
          ]
         },
         "layout": {
          "annotationdefaults": {
           "arrowcolor": "#2a3f5f",
           "arrowhead": 0,
           "arrowwidth": 1
          },
          "autotypenumbers": "strict",
          "coloraxis": {
           "colorbar": {
            "outlinewidth": 0,
            "ticks": ""
           }
          },
          "colorscale": {
           "diverging": [
            [
             0,
             "#8e0152"
            ],
            [
             0.1,
             "#c51b7d"
            ],
            [
             0.2,
             "#de77ae"
            ],
            [
             0.3,
             "#f1b6da"
            ],
            [
             0.4,
             "#fde0ef"
            ],
            [
             0.5,
             "#f7f7f7"
            ],
            [
             0.6,
             "#e6f5d0"
            ],
            [
             0.7,
             "#b8e186"
            ],
            [
             0.8,
             "#7fbc41"
            ],
            [
             0.9,
             "#4d9221"
            ],
            [
             1,
             "#276419"
            ]
           ],
           "sequential": [
            [
             0,
             "#0d0887"
            ],
            [
             0.1111111111111111,
             "#46039f"
            ],
            [
             0.2222222222222222,
             "#7201a8"
            ],
            [
             0.3333333333333333,
             "#9c179e"
            ],
            [
             0.4444444444444444,
             "#bd3786"
            ],
            [
             0.5555555555555556,
             "#d8576b"
            ],
            [
             0.6666666666666666,
             "#ed7953"
            ],
            [
             0.7777777777777778,
             "#fb9f3a"
            ],
            [
             0.8888888888888888,
             "#fdca26"
            ],
            [
             1,
             "#f0f921"
            ]
           ],
           "sequentialminus": [
            [
             0,
             "#0d0887"
            ],
            [
             0.1111111111111111,
             "#46039f"
            ],
            [
             0.2222222222222222,
             "#7201a8"
            ],
            [
             0.3333333333333333,
             "#9c179e"
            ],
            [
             0.4444444444444444,
             "#bd3786"
            ],
            [
             0.5555555555555556,
             "#d8576b"
            ],
            [
             0.6666666666666666,
             "#ed7953"
            ],
            [
             0.7777777777777778,
             "#fb9f3a"
            ],
            [
             0.8888888888888888,
             "#fdca26"
            ],
            [
             1,
             "#f0f921"
            ]
           ]
          },
          "colorway": [
           "#636efa",
           "#EF553B",
           "#00cc96",
           "#ab63fa",
           "#FFA15A",
           "#19d3f3",
           "#FF6692",
           "#B6E880",
           "#FF97FF",
           "#FECB52"
          ],
          "font": {
           "color": "#2a3f5f"
          },
          "geo": {
           "bgcolor": "white",
           "lakecolor": "white",
           "landcolor": "#E5ECF6",
           "showlakes": true,
           "showland": true,
           "subunitcolor": "white"
          },
          "hoverlabel": {
           "align": "left"
          },
          "hovermode": "closest",
          "mapbox": {
           "style": "light"
          },
          "paper_bgcolor": "white",
          "plot_bgcolor": "#E5ECF6",
          "polar": {
           "angularaxis": {
            "gridcolor": "white",
            "linecolor": "white",
            "ticks": ""
           },
           "bgcolor": "#E5ECF6",
           "radialaxis": {
            "gridcolor": "white",
            "linecolor": "white",
            "ticks": ""
           }
          },
          "scene": {
           "xaxis": {
            "backgroundcolor": "#E5ECF6",
            "gridcolor": "white",
            "gridwidth": 2,
            "linecolor": "white",
            "showbackground": true,
            "ticks": "",
            "zerolinecolor": "white"
           },
           "yaxis": {
            "backgroundcolor": "#E5ECF6",
            "gridcolor": "white",
            "gridwidth": 2,
            "linecolor": "white",
            "showbackground": true,
            "ticks": "",
            "zerolinecolor": "white"
           },
           "zaxis": {
            "backgroundcolor": "#E5ECF6",
            "gridcolor": "white",
            "gridwidth": 2,
            "linecolor": "white",
            "showbackground": true,
            "ticks": "",
            "zerolinecolor": "white"
           }
          },
          "shapedefaults": {
           "line": {
            "color": "#2a3f5f"
           }
          },
          "ternary": {
           "aaxis": {
            "gridcolor": "white",
            "linecolor": "white",
            "ticks": ""
           },
           "baxis": {
            "gridcolor": "white",
            "linecolor": "white",
            "ticks": ""
           },
           "bgcolor": "#E5ECF6",
           "caxis": {
            "gridcolor": "white",
            "linecolor": "white",
            "ticks": ""
           }
          },
          "title": {
           "x": 0.05
          },
          "xaxis": {
           "automargin": true,
           "gridcolor": "white",
           "linecolor": "white",
           "ticks": "",
           "title": {
            "standoff": 15
           },
           "zerolinecolor": "white",
           "zerolinewidth": 2
          },
          "yaxis": {
           "automargin": true,
           "gridcolor": "white",
           "linecolor": "white",
           "ticks": "",
           "title": {
            "standoff": 15
           },
           "zerolinecolor": "white",
           "zerolinewidth": 2
          }
         }
        },
        "width": 800
       }
      },
      "text/html": [
       "<div>                            <div id=\"8e6a2a46-11f1-4bf1-9502-db430386f74a\" class=\"plotly-graph-div\" style=\"height:525px; width:800px;\"></div>            <script type=\"text/javascript\">                require([\"plotly\"], function(Plotly) {                    window.PLOTLYENV=window.PLOTLYENV || {};                                    if (document.getElementById(\"8e6a2a46-11f1-4bf1-9502-db430386f74a\")) {                    Plotly.newPlot(                        \"8e6a2a46-11f1-4bf1-9502-db430386f74a\",                        [{\"hovertemplate\":\"class=%{marker.color}<br>PC1=%{x}<br>PC2=%{y}<br>PC3=%{z}<extra></extra>\",\"legendgroup\":\"0\",\"marker\":{\"color\":[0,0,0,0,0,0,0,0,0,0,0,0,0,0,0,0,0,0,0,0,0,0,0,0,0,0,0,0,0,0,0,0,0,0,0,0,0,0,0,0,0,0,0,0,0,0,0,0,0,0,0,0,0,0,0,0,0,0,0,0,0,0,0,0,0,0,0,0,0,0,0,0,0,0,0,0,0,0,0,0,0,0,0,0,0,0,0,0,0,0,0,0,0,0,0,0,0,0,0,0,0,0,0,0,0,0,0,0,0,0,0,0,0,0,0,0,0,0,0,0,0,0,0,0,0,0,0,0,0,0,0,0,0,0,0,0,0,0,0,0,0,0,0,0,0,0,0,0,0,0,0,0,0,0,0,0,0,0,0,0,0,0,0,0,0,0,0,0,0,0,0,0,0,0,0,0,0,0,0,0,0,0,0,0,0,0,0,0,0,0,0,0,0,0,0,0,0,0,0,0,0,0,0,0,0,0,0,0,0,0,0,0,0,0,0,0,0,0,0,0,0,0,0,0,0,0,0,0,0,0,0,0,0,0,0,0,0,0,0,0,0,0,0,0,0,0,0,0,0,0,0,0,0,0,0,0,0,0,0,0,0,0,0,0,0,0,0,0,0,0,0,0,0,0,0,0,0,0,0,0,0,0,0,0,0,0,0,0,0,0,0,0,0,0,0,0,0,0,0,0,0,0,0,0,0,0,0,0,0,0,0,0,0,0,0,0,0,0,0,0,0,0,0,0,0,0,0,0,0,0,0,0,0,0,0,0,0,0,0,0,0,0,0,0,0,0,0,0,0,0,0,0,0,0,0,0,0,0,0,0,0,0,0,0,0,0,0,0,0,0,0,0,0,0,0,0,0,0,0,0,0,0,0,0,0,0,0,0,0,0,0,0,0,0,0,0,0,0,0,0,0,0,0,0,0,0,0,0,0,0,0,0,0,0,0,0,0,0,0,0,0,0,0,0,0,0,0,0,0,0,0,0,0,0,0,0,0,0,0,0,0,0,0,0,0,0,0,0,0,0,0,0,0,0,0,0,0,0,0,0,0,0,0,0,0,0,0,0,0,0,0,0,0,0,0,0,0,0,0,0,0,0,0,0,0,0,0,0,0,0,0,0,0,0,0,0,0,0,0,0,0,0,0,0,0,0,0,0,0,0,0,0,0,0,0,0,0,0,0,0,0,0,0,0,0,0,0,0,0,0,0,0,0,0,0,0,0,0,0,0,0,0,0,0,0],\"coloraxis\":\"coloraxis\",\"symbol\":\"circle\"},\"mode\":\"markers\",\"name\":\"0\",\"scene\":\"scene\",\"showlegend\":true,\"x\":[-0.21185071726899632,-0.29901957092498327,0.1836060152047331,1.1705005124223378,-0.2248455695622448,-0.02561787474463994,-0.21567902807847222,-0.20661237739180896,0.4496404274259988,-0.2778628018138107,-0.20723138230809832,-0.23602249988338994,0.3713198081839479,0.022823347020925523,-0.2279807249427313,-0.22011206558466773,0.08931124983074039,-0.1721608806505398,-0.10883788820999937,-0.1244013675957026,-0.19130678925363856,-0.14063660216688834,1.3003301772946707,-0.15432994681471915,-0.22808538476274545,-0.2102434335010704,0.5438232329001926,-0.24361130568832076,-0.03139765683034431,0.040890026826510745,-0.13718432898325197,0.27408961079668936,-0.3371460887127122,0.043660428528691037,-0.19713596089266325,-0.052012256488272866,0.21314565496583654,-0.23548678058174882,-0.18528598809514077,0.02359536719191872,-0.2099638090338481,-0.08767171071372126,-0.13809274707982228,-0.0628293447408096,-0.11888448817067875,-0.10078785157372214,-0.22372896890986035,0.12916906550532875,-0.21526326857095415,-0.09326448561894271,-0.2807064756492465,-0.3001850418874899,-0.22043877551060198,-0.14025224967273694,-0.1551332335315077,0.16017587002011163,-0.11021292701715169,-0.01257499848442333,-0.2552051664011196,-0.012237406564250647,0.0238585363286801,1.4645131006469108,0.06690602450213576,-0.253939195389972,0.152182933958835,-0.11952581778579788,-0.2340189521500665,-0.08232462178330859,-0.23458216568304383,-0.2247363703714773,-0.2134703318634598,-0.29796394309495616,0.007215403771823011,0.1226134534902901,-0.2548918549936737,-0.1056034377496186,-0.0693526723544562,0.12335073669819102,-0.21067055330671008,-0.2708538395938862,-0.16757519221971717,-0.26807839582769993,-0.05474937152171368,-0.351544844642648,-0.2517814074118927,-0.10852894411443341,-0.16381406924603323,1.2601898124832325,-0.2085421149549157,0.17967476068383167,-0.1107312641476072,-0.3131802348446573,-0.07857752607256639,0.014076390455994861,0.27021459163497147,-0.04484977203920457,-0.23500515327838037,-0.12175820012487877,-0.2241197165618758,0.9370391152303955,1.130246254661204,-0.16245032397196435,-0.3145172780973439,-0.2803219760763171,-0.21378316368215108,-0.12193569179993498,-0.20145770948955347,0.028108174231511632,-0.3138859085518668,-0.2690561323821514,-0.16134028037652154,-0.05956163369824077,-0.31843955104270116,-0.029210921760029165,-0.1468040845827122,-0.131378048006747,-0.1313792754003989,0.0456792032637695,-0.31307781094997605,0.9238261546120256,-0.25327844949577716,-0.20014612957127847,0.5442847710808629,-0.15686718397234475,-0.20155260573330347,-0.2821190112241519,-0.19327768858475114,0.21305725587117705,-0.17361614068975392,-0.01467019226116706,-0.1352973051427536,-0.13974302515947698,-0.029178385364921604,-0.2911653980600089,-0.2063718786938037,-0.12792469165672601,-0.13779966319215284,-0.17029566075853117,-0.20816491637392276,-0.27544403193965034,-0.22525274860075828,-0.3040923098211482,-0.14010372349104444,11.393302099737214,-0.25492175222373875,-0.18679377418735618,-0.2764227001172293,-0.017719076223199556,0.11088881777677495,-0.228559162746748,-0.1487772629870329,-0.2365217579860978,-0.2352433765051768,-0.2452959780954747,-0.34393097794094724,-0.26965659167704253,-0.23481876242625924,-0.31125993199919355,0.012720878376581977,-0.04057435749976705,-0.2112150222268851,-0.14678688795677658,-0.03774391593804479,-0.059155938302579224,-0.20057829192638746,-0.2159058553074489,-0.27116880870868315,-0.31784741772375713,-0.1544137559971914,-0.24654468816846514,-0.05078020992693441,-0.17542113478097282,-0.26325373931269064,-0.1425884129157771,-0.31141213923125927,0.19225501939130427,-0.1177284557787657,-0.29434179013578093,-0.17994030115071963,-0.2684083696241575,-0.26968968102655866,-0.1692028898066042,1.4641263705994558,-0.09692892794734881,0.011751881132804431,-0.2726194511791581,-0.1568196563412286,0.048412509236525,0.14766040793353644,0.09264892524043786,0.018629373751412805,-0.07887079608633119,-0.2086805259924755,-0.13962664349433204,-0.17792780468020658,-0.3325258323950578,-0.17893196284338236,-0.32220489979199224,-0.0845318446751969,-0.29020704050307383,-0.14452754263355455,-0.26969188346487405,-0.2572658493800283,-0.3296023463896253,-0.21328949622969517,-0.19183619971605226,0.07451656054098334,-0.23433744407133952,-0.033172702724918464,0.03890952323577751,-0.11813255970719333,-0.2199446253042119,-0.2548646494313703,-0.013204917073583374,-0.2921233617649374,-0.32719053353037747,-0.03597001134590646,-0.2912622082219966,-0.24992896404079926,-0.12205319735732692,-0.18651705972231095,-0.08313628326915053,-0.20139220355784684,-0.2739829959842791,-0.2428394504780371,-0.023771217313786223,0.06599806286181156,-0.08823336311993148,-0.18169948077947537,-0.0326893721471924,-0.2724031329086742,-0.20426628313117523,-0.18744738520166612,0.08386694227508053,0.17087586922696257,0.1392008173761755,-0.018382640230261375,-0.0690199820266622,0.36540462605510604,-0.3144633720910034,-0.18178840900681945,-0.21256348837029426,-0.28152415632536965,-0.2076231913046363,-0.029194983017985558,-0.32451719783638017,-0.1017713011947358,-0.2725126133188035,-0.19259937546952105,-0.01912272991405256,-0.1389089972828599,0.3777357351058779,0.15493760744136573,-0.21020023901851898,-0.13444319178156472,0.2935956842470257,-0.27595929992917567,-0.25097388522526587,-0.31141668536973166,-0.2794482795004232,-0.23662571457108808,-0.03974582273343283,-0.19622658637324958,-0.21391233537799614,-0.17445057173893652,0.008438917389087246,7.9737488789144555,-0.14055423096255032,-0.27405685447611206,-0.24785971104438423,-0.24995269228129474,-0.2027471498829873,-0.2748140263504027,-0.26310705188722094,-0.29157374898608057,-0.17696631437407268,-0.19091482933068765,-0.30932364176640376,-0.2655996196285999,-0.11966475001428635,-0.24972091539649668,-0.24899654788078218,-0.11272403097635429,-0.11495269334386694,-0.15488810045526852,-0.1612270281181101,-0.2370455705496063,-0.22072308316524106,-0.21258462843495293,-0.2185105183864057,-0.3022196086616639,-0.1754622204471695,-0.2612393898306716,-0.21776357679550398,0.1646809487907476,-0.19922442926302714,-0.17248563354072552,-0.22642840772069045,-0.2066166799955388,-0.29015069592717474,-0.21911746509545427,-0.2698633987194275,-0.16236660464091687,-0.20646782044522483,-0.2559582006809391,-0.1687445365908922,0.13303408373097647,-0.21961806709901274,-0.2857264014069639,-0.30346781682328156,-0.2906204163632164,-0.18679475438978171,-0.2022356880152204,0.22746977073947122,-0.13895236549746345,-0.2215785950939822,-0.21811518522574672,-0.18069827954445494,-0.18682768104105252,-0.1926368613120268,-0.2323642029017709,-0.2617556923243818,-0.21106782417730605,-0.2668789046655101,-0.14287434885168138,-0.24624829523559294,-0.23295743059114046,-0.18481760785514945,-0.278845632043843,-0.29700167756857426,-0.19633856186354948,-0.2097296244897116,-0.17426779872854073,-0.16309634856041821,-0.19320856318968765,-0.07847637979790897,-0.13791917160469683,-0.33030768214836354,-0.09303266984042372,-0.013057345776839228,-0.18805844421540469,-0.22211304665291168,-0.28997497431545377,-0.17722278194100363,-0.29714863000268266,-0.18590608956136156,-0.12978034957806844,-0.0908231735665258,-0.2866393483313762,-0.1321223356567643,-0.2422604908690168,-0.20376269313614429,-0.28466452993955915,-0.26180094823977074,-0.0926483461310545,-0.2804283776475601,0.4512941519826815,-0.20670587609320717,-0.2170666552190112,-0.18821887688098,-0.2068702889688989,-0.11392200231130045,-0.10348726805772084,-0.25879429742683285,-0.2200476048784902,-0.269164302313972,-0.22771433863871085,-0.20058799337265854,-0.15373557855016715,-0.21131249812327482,-0.2156589051597654,-0.14576690781237944,-0.03973371080054912,-0.2011903038931285,-0.2382462150449683,-0.2647602101769477,-0.3279165242845414,-0.11738916266064782,-0.13861055049777457,-0.3033525952143682,-0.335295208793939,-0.1738897835534037,-0.17599279863039874,-0.2792997992085376,-0.24545195954417853,-0.10194495246858747,-0.2277145602621435,-0.24087011508742273,-0.23806695086605797,0.0002100253332662966,-0.24617710669809,-0.21093611212587984,-0.23638143764771985,0.06488437718711891,-0.2800408320067218,-0.24053538930285506,-0.27994467616737206,-0.16506423930680073,-0.15316543466669416,-0.23746958011337985,-0.08908059208007983,0.035273289411415276,-0.12577578532964764,-0.16623028463069034,-0.22431594870653682,-0.22683823857652258,-0.15954616024763849,-0.30871156827111645,0.0409474457916458,0.01011343298844536,-0.24716599969892783,-0.18614748720736501,-0.21161237749806366,-0.24191244366716083,-0.2822210002956963,-0.26701296725516627,-0.1996412113835977,-0.08372777098477856,-0.2384279735234072,-0.20737434413011693,-0.2568409120450335,-0.06017217386430994,-0.20233848911747201,-0.08755713904767425,-0.10049752865722623,-0.10170324706803041,-0.26962971933574315,-0.27278541151646296,1.0026479250166787,-0.2636964725113157,-0.27042613377306063,-0.1165307857107384,-0.19207136672416694,-0.12563804891928096,-0.19052655770228635,-0.1439950354840471,-0.23803605551937648,0.1118111186716014,-0.1724834665945566,-0.0905805984544548,-0.31057681956595157,-0.16586215789140615,-0.22957427196963218,-0.14829826938218033,-0.2619409733516359,0.005923229291343541,-0.10387428032710559,-0.32898534853587164,-0.16502261403507593,-0.30585004623123724,-0.1077523924317159,-0.0816672791255336,-0.3173843267990399,-0.1549449018602234,-0.2046887357881836,-0.17145314734057832,-0.18136295170546696,-0.29704048881046824,-0.3519358650295809,-0.12873974537018879,-0.13497738603936713,-0.2831191311937581,-0.2722315582539563,-0.21272986292821283,-0.1964919619342647,-0.11685760247438533,0.16534943109769082,-0.26417306843522864,-0.15516385881630124,-0.18473165338972716,-0.23063577962536297,-0.28138636588495336,0.5907090434819976,-0.3099570527817767,3.553719746345999,-0.18680226297119415,-0.1576978470420076,-0.22483687513724532,-0.1761928697966956,-0.13409033071375803,-0.26592480477721303,-0.2688226756277493,-0.2620184298703642,-0.2783514429780938,-0.12907497921096067,-0.17246731842081764,-0.26048726069766026,-0.19060961411357602,-0.17427238421173205,0.04956678792884651,-0.18957314885995374,-0.21551703889602813,-0.13826880071838632,-0.257962886054881,-0.2419859170331681,-0.07849177669878593,-0.1884545614877742,-0.3198577662513915,0.07715353359346253,-0.17252168201744195,-0.03327447929141488,-0.3105372968497414,-0.2707110917084044,-0.17578558188742216,-0.337262774315218,-0.13491068765721112,-0.21068286055631966,-0.3218886215600714,-0.08424353713386064,-0.16283929995196134,-0.275294208552735,-0.2555150364339986,-0.2717164282001933,-0.31951013404583317,-0.2580257063849964,-0.06317047771198243,-0.32018521535346156,-0.1780901595397676,-0.24718287337727368,-0.12733088222150585,-0.20127267064527185,0.2725708759186511,-0.1831586840998206,-0.27518996765358306,-0.10017577286951707,-0.2738216448855281,-0.2740508863300724,-0.036359905024222844,-0.13549601536544909,-0.24100869618075357,-0.21771325479431333,-0.04911467762986012,-0.30491336070314556,-0.1515284986540041,-0.13767225067623068,-0.30390446457904685,-0.310136727527899,-0.1605267790516986,-0.2612771834092353,-0.20165227678034922,-0.2734203594909227,-0.18915145396656946,-0.2900904661375357,-0.09347459042329075,-0.29479195827360655],\"y\":[0.4468969485570544,-1.1225697292634493,-1.7317440501383112,-1.746579295745649,1.2517008530397749,1.5021950198495708,-1.2929255707966196,0.3148899503876265,-1.7100768518626168,1.6347464883380811,-0.43014480213800627,0.9028341394012939,0.9583729886216555,0.6309873631436996,0.20640481585159168,1.7117957326582482,-0.013696243171516107,0.6732526343045966,0.10036400510318823,0.16779160092048215,1.1851826289613276,0.9664799158631209,1.121468355400075,0.9665520956261041,0.6718114064427597,0.7235557734780285,-1.7374965159491966,0.386800193895268,-0.45899579058995094,-0.03407982138946935,0.965909941127725,-1.7584265078813408,-0.4544772098404451,-0.014185020936846331,0.9670893794692046,-1.727762443003663,0.12512675728406758,1.085499247774581,0.3023722170383596,0.3842939515367609,-0.009156764437013494,-1.7743024402774537,1.7986484298828451,1.2220571832598424,1.0654327114737225,0.6313700478858035,1.9002885161316965,0.6303561205150973,0.6703764693132592,-0.010793833867468591,1.6338117070484395,0.6778034054259814,0.6355159386711077,0.6347085600082035,-0.010524249798097084,0.6687202431599282,-0.2654821940596625,0.785945661260113,0.3873686727896495,0.7459885024469292,1.429204757226597,-1.7799850839150886,0.7455529076274606,1.711396371569795,0.6603235033365072,0.6349317967279904,-0.06349608346416018,0.49440362196191334,-1.7249672611454807,-1.2681726631354067,1.6346255345242222,-0.26100967892347904,-1.7260306581508706,-1.1587762490223472,-0.7373154828249683,0.9656689609541675,-1.335958217813447,0.961896771222295,1.5529214631283295,1.3501716130632724,0.16809360505282736,0.5919473628467248,-0.4303838735702814,-0.3977021908070839,0.6336065386648193,-0.013287654808764567,1.0316602788870621,-1.757647788663849,-0.029629532277928954,0.044739309172738606,-1.7264510122294476,0.3894495992952233,0.632548244439612,-0.43467238817307247,0.8104634612464918,-1.7279941138227541,0.6330935306454707,1.8887473518004472,1.418894455287873,1.2832752995217398,-0.4493373789243079,0.6370496737103774,1.0443700295234797,4.428265224842318,0.6340866290430075,0.6466038578122554,0.7441156799578578,-2.3034066199915726,-0.4166238778492627,0.6334032987293506,-0.43062506417994634,0.6708418184275942,0.7491310748124665,1.2915843587565978,-0.010109069313614522,0.6323352345652187,1.1788270093516,-0.013811713608737779,-0.4293295214654167,-0.18671976624103273,-0.09339994252892973,-0.9066912195462423,1.0181367384122277,-1.7260386687873477,0.7790306451390434,0.6364165010554639,1.7107085896753111,-1.0737812144173824,0.8412718357569803,0.6333675545743072,0.38606050727782115,1.4712048946942926,-0.9108158039448085,0.5325430235862932,1.2710897723501982,0.6320128095821831,-1.701814939039147,0.9722467113004848,-1.065481319241338,0.3860889306857516,1.0318833600613728,0.05210647772286716,0.6686531321624619,0.4581920819602662,-0.24711837827645716,-1.7501323958646369,0.6410781781600089,1.3741785926519534,0.6267592405207367,-1.7744723156769273,0.9666902125880151,0.532751786727254,0.6352521624837288,1.713195759227431,-1.7481254558246195,-0.430413483700869,1.9028522500347596,-1.2185169379542944,-0.07312028584645258,0.6312763209086288,0.8639248863740111,-0.431889750131336,1.0293837923924316,-1.727549893713728,0.5323422118855303,-0.30508293248059887,-1.7486466325793484,-1.6663525696578187,0.392403517592601,0.030665839571190418,-1.7277624771055193,-0.2889443042731455,-0.008014856004806482,-0.431729172035007,0.17163314525040693,-1.733298130618119,1.7970827810097085,-0.007912787977244557,-1.2199167645053017,0.4040277757736408,-1.7487808916557135,-1.7252050426096406,-1.7576029944625078,1.06462928128593,-1.0694670982959287,1.0988303752627466,2.4475728969760198,2.3912961407956477,0.6270331176539716,0.6309464690752086,0.6311362442945667,1.15139791508372,-1.7256113860731517,-0.7452407804163445,-1.2930167501814052,-1.7214101329323164,-0.9074859804713103,-0.4292279840281106,-0.4069956379290273,-0.24732568001787383,-1.7259728641981444,-1.749284242818847,-1.3406902828926608,-0.038841033651458155,0.9137893599104433,1.7986883409282657,2.391298545052523,-1.7249213469680724,0.6334187969318115,-1.6109330996544384,-1.7263532291640022,0.6352447381692862,-0.008051315790160283,0.6300674092205294,0.027772963882470542,0.10246943425347697,-1.7276581888672822,-1.1219596190741679,-0.007776352803694773,0.05039837521567625,0.37201512329207376,0.7869352370404712,-1.1252195783265881,0.6351444909482228,0.9892516615788394,1.2938435745405283,0.6301696524173483,0.3258797026667606,0.988391382078726,0.6306748494591873,0.6268284035215361,1.816263313967674,1.3504161826103296,-1.7542427766993556,0.6336746790814516,-1.7305687334455848,0.6303599053319493,1.4760305909157851,-0.43999071238128745,0.10145644700403747,1.0337238606029158,-1.124332922880746,1.0739846689512447,2.822478362358326,-0.9502325044102589,-0.6750831345552499,0.6323016741679587,0.7000485833686235,-1.2454548327767223,0.1762866039109655,0.9665304959375121,4.486964712141356,-0.014787497111687165,-0.006588300230957996,0.4012860363636032,1.2243231575974114,1.6344732237110562,-0.2469102396756911,-0.45282391277789336,-0.9820845524412705,-1.7482539495859226,-1.7520599213172656,1.6823314317524412,0.9675748819605136,0.13062069280536703,-1.7279808341907692,-1.255760396747387,1.5739151661756983,-1.7232612241690046,0.3661574070160793,-1.7489958039501674,1.8666162808422315,0.7500328856358606,1.434675432948303,-1.723646508588935,-1.062366878031988,-1.7249669975767576,-1.3975048506751813,2.2249656891059213,0.9661893513214459,0.17324383757610992,0.9744078799539926,0.6479534083829164,0.8764338045052323,1.102213675362999,0.6699898686880134,1.8662585098149982,-1.2446616017945251,-0.4050123763819187,-1.3822705911102877,-0.428938316436715,1.111097914461597,0.7507725415601895,-2.348842246714374,-1.7067076509504169,-1.6991314663249066,-1.7508447728153083,1.8681647173258196,-2.3292844423633876,-0.008431902358229403,1.4593530945523772,-1.7235283790904445,0.12885682766701778,1.067363829397967,0.8373759900103735,-0.4312039171042872,-1.729896118945958,0.1689291801626693,-1.7483418895565574,-0.006921053975992238,-0.42828830043892085,0.725455978097778,-0.6841184971764858,-1.0991887148684205,0.6630078988828102,0.13070626256504325,-1.0828952217180745,-0.06795065022928796,-0.45614748056873483,-1.7244633192043954,-1.724615810703169,-0.0038252460732717234,0.847394065298612,0.6770738969772291,-1.7505606223069596,-1.748547522035193,0.16981249303170903,-1.7498777227698614,0.17095563829941504,0.7540367305648024,-1.7250147247927752,-1.7480349430343878,1.6254347710875117,0.024189647608341906,-1.750267598669129,0.12833819885645548,-0.010034402761032664,-1.7220949201737958,1.9793686896140719,-0.43188148885025374,-0.9068859163666507,-1.6101960258552959,-1.217643339547137,1.7236928067099901,0.3880048129290794,1.3449800539186931,0.9664255313375734,0.6883559807238928,1.0976392026313204,0.6313227721278282,-0.4284069109341017,-0.42696302284873583,1.0975858138120467,-1.7509718325776573,0.6308956980917247,-1.3233113766726596,-1.7359820806510606,-1.7257032826316818,-1.7248982902980126,-0.5352633979187897,0.6348500621125887,-0.36734750659345977,0.6349108786550434,-0.4290870907188046,1.4172825942048297,1.0333912005360142,0.10576663103613954,0.9677143652606809,0.7256074476530769,0.6341498676672774,-1.7496969957524768,-1.7262066711981192,0.02288362234435126,0.6361402380892486,-1.0614821778260841,1.459990690217033,-1.7481945025959806,-1.7255443076341084,-1.7263998783914452,-1.6945179504280883,-1.7200671208533278,1.0693213520332148,-0.08424070111914662,0.7303055248410097,0.7049582903041527,-1.2958921932534724,-0.43137693962397594,0.39280653190873877,-0.42865481198591326,0.26308684597196497,1.865703341741974,0.7894072958799243,-1.7490290533637645,0.8327562777001708,-1.7457754570788382,-0.4289284458429445,-1.123705658014862,2.222273817602348,-1.726195508489255,-1.2833459259075348,-1.749762286786566,-1.3362851750912321,-1.7249439845239336,1.3903707888834702,0.3781820035978085,1.3915118097026489,0.36202335530134017,-0.029710759770538556,-1.7545769072580144,-0.012618499215415798,-1.7242387080872144,-1.2835583723956459,-1.1231433819669066,0.6336063540769488,-0.425964785918436,-0.4550567949670178,1.3514549283307644,2.6212004835994698,0.3870702078890133,0.632857557656712,-0.008327993307367497,1.2303566083283528,-1.3243241724795656,-0.7831919132106243,0.6418378066375967,-0.907923070527736,0.7505256944067304,-0.4041718081482196,-1.3449689966439287,-1.7241569847452067,-1.7480027442176953,-1.7776463487291227,1.8902713487589042,-0.9077174559253909,-0.9070852852979736,-1.3823244850164742,1.6024149677080695,-1.7303927646191175,-1.7510689208120898,1.1497014451585463,0.7531815514227057,1.4334666522263604,1.1962460290754147,0.20424901993868816,0.6758889649710524,1.174510409821464,0.966074362340275,-0.06727941669640614,0.8522483226909797,-0.40449178214788223,1.4775705005098794,-0.010597659082335781,-1.774058115578982,-0.00993452977517269,0.3281058983966701,-0.43048375617881174,-1.7499030880500643,-0.42963099592437254,0.4999122492755401,-1.7259792284003022,-1.7513022837224241,-1.6996360431574347,2.2318053360995047,-0.454907883015742,0.6373361282656597,-0.406460651724447,-1.7328103333260052,2.6148801813604328,0.4023803144369361,-1.479615274438708,-1.7243781930381055,0.9793375534820491,-1.7435291124165708,-1.7232140827251226,-1.58920685139048,0.6263805704324039,1.1107204946480482,-0.0334193532239214,1.667055305727288,0.6336549718884767,0.7510922500922773,1.6357182165449593,-0.2873534437781949,0.37873913849690277,0.9198376995217342,0.5313938269032492,-1.7236740498695553,-0.33776047210573223,1.8161459411235024,-1.7542773798288642,-1.3125660538800983,0.6326030109577286,1.4324319871891773,-1.1489025598602345,-1.7247113433505508,0.6248377223961868,0.05451457365848826,-0.06726818146874794,0.6411771901627507,0.9208148286473943,1.5505879584357591,-0.40423190916765434,-0.02908006559795842,0.6344154390169748,-0.43041307090789144,-1.7263404069663881,-0.4301125384190484,-0.2476137646246135,1.2618588741652659,-0.010045495615459983,-1.724474183853716,-1.1225816288063988,0.6455251776372662,-0.3768692056645621,-1.724973732216417,-1.0944114858591307,-0.2472750691967195,1.0680069390923501,-0.03630966826850192,1.7516096841692632,-1.7249293653619155,-0.24464778383340666,-1.7745947127469737,-2.2799720286393095,1.6964483986258057,0.20009499008788628,0.15797617047259685,1.8134830643324429,1.9521797191908716,0.7501846583101661,-0.06868437768018885,-1.7524079085962379,1.5553989632305878,-0.03667314280969863,0.9672449289548691,-0.41921893295127055,-0.008531105196320247,-2.349285064927045,2.225874671564639,-1.2196869711308305,0.6647596882772865,-0.2606693680061513,1.0984732304359008,1.06417140260567,0.7517848048348671],\"z\":[-1.1287994879129586,-1.5294094821889141,0.2727944897369927,0.29528153998584533,-1.4098770072825768,-1.7203226657569375,0.2683686213906965,-1.4114665856035684,0.2807554343812186,-1.5882147420636716,0.26715193955259053,-1.2104861550133499,0.3535970085775548,0.3502255812985462,-1.4898570872119614,-1.5160398824956585,0.30511402319962594,0.4851454523771131,0.28097303181881783,0.20895027819787995,-1.252748894565053,0.34106769103577345,-1.178010768492054,0.34042331395835945,0.32224527616349874,0.21429621474367125,0.2805742440427534,0.32496273789964647,0.263372031350389,-0.9279256993051299,0.33946167154197116,0.27446898107895834,0.25757030975618816,0.2993061404749652,0.3394192453510853,0.26927512943208204,0.18381414480545472,-1.4128031862786394,-0.7038478583408185,0.33581494584079336,0.29861790901772717,0.2737250907378169,-1.7633222605492698,-0.42910408347738666,0.34988044530118234,0.3435197400602205,0.27600267945662227,0.3573049642023289,0.31744041494990377,0.3011838982340363,-1.5915896689118658,0.21642973779651242,0.34898569646369687,0.35207967373655186,0.2974774683167921,0.4936601463941503,0.3793974915722869,0.25968683580437535,0.3262350207860444,0.22214519992975565,-0.9870507553952037,0.2879985779824503,0.22782717233103078,-1.5199471594092107,0.2769717010000862,0.3541976021404574,0.22361091490048562,0.13107760796855764,0.2671444530987494,0.26970898063036386,-1.5841655990088142,0.38039745340873415,0.2807381741559589,-0.45199220074642793,0.27534949657968794,0.34074398103100734,0.22894330650596584,0.34344617037570274,0.24788850908980523,-1.58201287746313,0.20824007399744723,-1.5004477204544224,0.27711220636599565,0.16439793930146634,0.34046263824294914,0.23931222200429864,0.20877999360382216,0.29068152440843287,-0.930317241094442,0.2764724940731635,0.2692199091246301,0.4145501419358856,0.3488659072458544,0.2686311743263776,0.3339051447459452,0.27178231824154186,0.33999082631893035,0.31105656488512995,-1.4709982666887085,-1.1144132762476842,0.295614347745394,0.3580512150320213,0.24189485356676552,8.514904788526913,0.34441372137356246,0.39738941434299857,0.7333648070501573,0.28006058574554465,0.30717950140416084,0.33772975920011306,0.2687948630761293,0.3332135263882702,0.21022770811022287,-1.6109447271971074,0.29952444783046067,0.34506119224842224,-1.2706087870437421,0.2484694790708025,0.262489802640745,0.16527116101457423,0.3244595846535043,0.3335598849062171,0.21982695680462927,0.2680864113382795,0.8561087775918886,0.34775852309635297,-1.5182630467024336,-1.6918800883079046,-1.7766857575277248,0.3559487099979422,0.3300238885079293,-0.952192973053704,0.3302723452131779,-1.6456790806602268,-1.4777371166850226,0.3443278465258509,0.2692898304871849,0.2384796643548462,-1.6943814999440874,0.31998366587622895,0.20441567681036152,0.26861903989456465,0.471742640522772,0.3840003661315076,0.24227127402147847,0.26545169787985373,0.3649323818863418,-1.8778876153115793,0.3412491876825872,0.2630549308016961,0.34148057532153336,-1.6408998942363489,0.34726066417634954,-1.5131400340900496,0.261527564828841,0.261872008422554,0.284988467794568,0.26742026746573533,0.15568529638268905,0.3509956138841145,0.2638024972056075,0.26588054585040294,0.2089422438696821,0.2732328877953419,-1.6404053531001643,-1.4614556924773325,0.26550375226841144,0.09357350414258123,-1.5927969125858532,-1.1735179048151445,0.2687969093041929,0.37611440702553306,0.29890987360607135,0.26786951590239594,0.20874552383835276,0.2748565331657707,-1.767194350085856,0.29716436984311245,0.2719072126941944,0.19332021515619496,0.2648922264567241,0.2692737925142773,0.2972315862716622,0.3484453833370141,-1.6908439507035324,0.24970392163045374,-1.6662379274625285,-1.476691105951353,0.34712887006485427,0.35481176034689466,0.3504162570938201,-1.1751062616138397,0.2657209149401617,-1.5373470317000868,0.2710546935903285,0.2710478703808915,0.3316801360575154,0.26279289102491377,0.2744882487453167,0.23866550848620155,0.2700697448644204,0.26311778978855477,0.2679653539713598,0.2511656303293297,0.2691533564232675,-1.7659693053383059,-1.4750627594972863,0.26655745635967404,0.35567976942554425,0.20789188441782697,0.26916704031315397,0.34870938872086443,0.2994496776629338,0.3441766562897358,0.26836916484714873,0.2728560908784046,0.27213715909431513,-1.5267888167274777,0.3006840419414239,0.2770568521345106,0.2932571635872008,0.25851410792497603,-1.5299684367935857,0.3436028379695363,-1.4653936360706126,-1.6020356429680132,0.35020651877547665,0.3632697256719093,-1.4640937616911556,0.3466864203456393,-1.319128727715035,0.30935928696527926,-1.5740080403775782,0.27322965650495756,0.3698280461927217,0.27455230116861784,0.34569158042792647,0.24422158971025607,0.274415858312503,0.2701866412708354,-0.8538172955615304,-1.527798982114347,0.2470280855921324,-1.4977136452019493,-1.75516543379567,0.24981076715695244,0.34653319627499346,-1.5306171558390507,0.26619724951230145,0.17929825253961032,0.3414476390676519,13.971448861662592,0.3056632584403967,0.30733250678529533,0.19291965335744207,-1.4515026488366276,-1.5890801118812468,0.2429993103041106,0.26518844493915056,-1.964756284876278,0.26874342121144734,0.2696036819588417,-1.6971733116991579,0.33979409352274537,0.1765915282724923,0.27338522398581794,-0.34034521841458,-1.850156657130671,0.26886078443934663,0.3371781795725816,0.2651948162079253,0.31292402542169684,0.21601116799292905,0.30721597172742515,0.2673237351946375,-1.7817585915090233,0.26851124015980604,0.10983507796295491,0.3057830074436701,0.34171421397332685,0.21882548779607175,0.2400199002729248,0.38388108285848255,-1.2092222205897916,-1.806344368893893,0.32083070728447793,0.309058574238642,0.26726504162570974,0.2705733454576014,0.22592204795187948,0.2646697564242398,0.28447822648555926,0.2198918933239758,0.2742818175780141,0.27460412211615665,0.27468772497546373,0.2641445353737819,0.3162394140743558,0.25687065715573537,0.29523304048779525,0.3116847432675162,0.2682531645089291,0.17178495556400003,0.35035034717984126,0.390820960544888,0.26635668595662226,0.27604775465355547,0.0525010967816723,0.26503403453680946,0.29962576680247394,0.2676929677673448,0.222798263934068,-1.7003367076406308,-1.6938142357101105,0.2664418774078174,0.17294659139726262,-0.3652161290016049,0.1600355679323287,0.2628864314861083,0.27117391537118957,0.2670873321704054,0.31354104966521595,0.24319179690504106,0.2161915057711909,0.2678252743733278,0.26751827225416625,0.2080658217467649,0.2668909943819493,0.20875972465507744,0.2289329717517273,0.26957564888683105,0.2717221153127387,-1.6250049970716771,0.2647367854713106,0.26484825216352276,0.17663999911941394,0.3011357403022805,0.2689708455322655,-0.027419141964571257,0.27483454258478746,0.3331962906365763,-0.07403262705921321,0.27205122618991034,-0.26634767326291997,0.32513590241565554,-1.004977276946808,0.3416768320310526,0.2518824426689146,0.24449070287738012,0.341561127874176,0.27074332801185447,0.27877177588055363,0.24484400535305534,0.25868143002240007,0.34217600375181434,-0.931036636424944,0.27604400741858787,0.26593846816253425,0.2675664191913303,0.3617500782072722,0.3479115740491996,0.30957051945347547,0.35552964309622853,0.2673487297862542,-0.7751127000523895,0.2069367312302058,-0.04332708405408578,0.34121919234960557,0.22423709983586249,0.3458579050146668,0.2653271629251592,0.2675461658308012,0.26893647974846013,0.35265569907717204,-1.7827741616877208,0.3109363298351843,0.2629607964925165,0.2719495729199438,0.2680114966271066,0.18183817355838275,0.275769317244341,0.3596536754725565,-0.8483251791886197,0.23329129318311434,0.2302622553851468,0.26652406821832364,0.26181725813987106,0.34660895330744107,0.27020358270808803,-1.8486697906318996,0.30650225121862573,0.25775093157762197,0.2663508600976847,-0.02729868644784028,0.27427727767423865,0.26910642999466616,-1.5321506554970623,0.3041435682688202,0.26827666483262275,0.23190459273276964,0.2750528877318136,0.23907118104975786,0.2733975257864406,-1.5341582946679793,0.19175107108331033,-1.5343256775194671,0.32887327941740396,0.3045463985240172,0.27388296903986054,0.3032439056900854,0.26762155531302245,0.2354364248146123,-1.524931773484289,0.3409920917527498,0.27655226177660774,0.2607911808625507,-1.5719691597989358,-0.8939418459281308,0.3265195261304256,0.3402077649728878,0.2979328101589509,1.7127446631906633,-0.9282895256180901,-1.5667825299486382,0.37967230908996347,0.33635593083747345,0.21835336261781577,0.2689964484099393,-0.9099947167534933,0.2669128530277659,0.2677045023610474,0.36096760637179526,0.311454437961842,0.3345976716722535,0.33236094005452355,0.2314763069970345,-0.1165976474617813,0.2722862516957743,0.2644430844252847,-0.9705575022375549,0.22464499866077278,-0.9851573407906209,-1.022101982537661,0.35505638243878646,-1.529179586947759,-1.2742925454474545,0.34237476146831664,0.15138858277561917,0.9302655541095859,0.26533050407510317,0.2463718922697456,0.3026072076632181,0.25756669823241773,0.29981127923815387,0.360942970192386,0.2695117598214453,0.26720485718485504,0.2628328133224546,0.13074499356049524,0.2700244955479997,0.26737678023073586,0.26622562983229575,0.3294277526228164,0.26532043125003923,0.35897413962338437,0.2721340458526289,0.2700145929671911,5.679524797417626,0.19544628869153174,0.2295706619083997,0.2681266337183249,-1.6078261334285484,0.2738018372874952,0.26639104367733496,-0.2952797249078607,0.38808752502479715,0.28475515193829587,0.29761166908298375,-1.4474470816284553,0.34815246864821403,0.22109376279920032,-1.5840142495976575,0.3756555733651372,0.18896195401336202,-0.5063304133304298,-0.0925382585420925,0.26867872854655217,0.3746201267638278,0.30805296614988387,0.26941472577889236,0.28672735428718277,0.338981961843781,0.30797279862400495,-1.532477579998716,0.266560322230109,0.39031733406419783,0.3377571261407371,0.15148304577612223,0.3912402531179098,-0.29155061190570497,0.2532192402715646,0.26577707557233277,0.3095727600154102,0.34783150386620143,0.2569357786079745,0.26798444676384764,0.2679511213210031,0.23562168704876518,-1.3462800547079998,0.29943150432407445,0.26506290308820474,-1.5263569783594437,0.3805343306949289,0.4469586274824994,0.2642295546250404,-1.6995527434296427,0.2367438058445224,0.35468587964233256,0.3545229064024265,-1.7045739809168623,0.2696115097642435,-0.89861416804446,0.2663684015212267,0.2552340125675539,-1.5245596027408603,-1.6361142183191555,0.17995655635302385,0.30792471099767593,-0.947726194885003,0.21955940944861618,0.15437238144936297,0.2707040294660604,0.24981784960787512,0.2385807099944298,0.3440324542239016,0.2987313332302719,0.29348324725694075,0.2753598886186812,0.30949149627797956,0.2711155712140154,0.26158415527051493,0.38940123879220534,0.2470275743938285,0.347778892950689,0.22078703529583407],\"type\":\"scatter3d\"},{\"hovertemplate\":\"class=%{marker.color}<br>PC1=%{x}<br>PC2=%{y}<br>PC3=%{z}<extra></extra>\",\"legendgroup\":\"1\",\"marker\":{\"color\":[1,1],\"coloraxis\":\"coloraxis\",\"symbol\":\"diamond\"},\"mode\":\"markers\",\"name\":\"1\",\"scene\":\"scene\",\"showlegend\":true,\"x\":[19.659134607803935,31.63968084347442],\"y\":[0.9767885466653433,0.08182210828643853],\"z\":[-1.285881657197722,0.6385885253586447],\"type\":\"scatter3d\"}],                        {\"template\":{\"data\":{\"bar\":[{\"error_x\":{\"color\":\"#2a3f5f\"},\"error_y\":{\"color\":\"#2a3f5f\"},\"marker\":{\"line\":{\"color\":\"#E5ECF6\",\"width\":0.5},\"pattern\":{\"fillmode\":\"overlay\",\"size\":10,\"solidity\":0.2}},\"type\":\"bar\"}],\"barpolar\":[{\"marker\":{\"line\":{\"color\":\"#E5ECF6\",\"width\":0.5},\"pattern\":{\"fillmode\":\"overlay\",\"size\":10,\"solidity\":0.2}},\"type\":\"barpolar\"}],\"carpet\":[{\"aaxis\":{\"endlinecolor\":\"#2a3f5f\",\"gridcolor\":\"white\",\"linecolor\":\"white\",\"minorgridcolor\":\"white\",\"startlinecolor\":\"#2a3f5f\"},\"baxis\":{\"endlinecolor\":\"#2a3f5f\",\"gridcolor\":\"white\",\"linecolor\":\"white\",\"minorgridcolor\":\"white\",\"startlinecolor\":\"#2a3f5f\"},\"type\":\"carpet\"}],\"choropleth\":[{\"colorbar\":{\"outlinewidth\":0,\"ticks\":\"\"},\"type\":\"choropleth\"}],\"contour\":[{\"colorbar\":{\"outlinewidth\":0,\"ticks\":\"\"},\"colorscale\":[[0.0,\"#0d0887\"],[0.1111111111111111,\"#46039f\"],[0.2222222222222222,\"#7201a8\"],[0.3333333333333333,\"#9c179e\"],[0.4444444444444444,\"#bd3786\"],[0.5555555555555556,\"#d8576b\"],[0.6666666666666666,\"#ed7953\"],[0.7777777777777778,\"#fb9f3a\"],[0.8888888888888888,\"#fdca26\"],[1.0,\"#f0f921\"]],\"type\":\"contour\"}],\"contourcarpet\":[{\"colorbar\":{\"outlinewidth\":0,\"ticks\":\"\"},\"type\":\"contourcarpet\"}],\"heatmap\":[{\"colorbar\":{\"outlinewidth\":0,\"ticks\":\"\"},\"colorscale\":[[0.0,\"#0d0887\"],[0.1111111111111111,\"#46039f\"],[0.2222222222222222,\"#7201a8\"],[0.3333333333333333,\"#9c179e\"],[0.4444444444444444,\"#bd3786\"],[0.5555555555555556,\"#d8576b\"],[0.6666666666666666,\"#ed7953\"],[0.7777777777777778,\"#fb9f3a\"],[0.8888888888888888,\"#fdca26\"],[1.0,\"#f0f921\"]],\"type\":\"heatmap\"}],\"heatmapgl\":[{\"colorbar\":{\"outlinewidth\":0,\"ticks\":\"\"},\"colorscale\":[[0.0,\"#0d0887\"],[0.1111111111111111,\"#46039f\"],[0.2222222222222222,\"#7201a8\"],[0.3333333333333333,\"#9c179e\"],[0.4444444444444444,\"#bd3786\"],[0.5555555555555556,\"#d8576b\"],[0.6666666666666666,\"#ed7953\"],[0.7777777777777778,\"#fb9f3a\"],[0.8888888888888888,\"#fdca26\"],[1.0,\"#f0f921\"]],\"type\":\"heatmapgl\"}],\"histogram\":[{\"marker\":{\"pattern\":{\"fillmode\":\"overlay\",\"size\":10,\"solidity\":0.2}},\"type\":\"histogram\"}],\"histogram2d\":[{\"colorbar\":{\"outlinewidth\":0,\"ticks\":\"\"},\"colorscale\":[[0.0,\"#0d0887\"],[0.1111111111111111,\"#46039f\"],[0.2222222222222222,\"#7201a8\"],[0.3333333333333333,\"#9c179e\"],[0.4444444444444444,\"#bd3786\"],[0.5555555555555556,\"#d8576b\"],[0.6666666666666666,\"#ed7953\"],[0.7777777777777778,\"#fb9f3a\"],[0.8888888888888888,\"#fdca26\"],[1.0,\"#f0f921\"]],\"type\":\"histogram2d\"}],\"histogram2dcontour\":[{\"colorbar\":{\"outlinewidth\":0,\"ticks\":\"\"},\"colorscale\":[[0.0,\"#0d0887\"],[0.1111111111111111,\"#46039f\"],[0.2222222222222222,\"#7201a8\"],[0.3333333333333333,\"#9c179e\"],[0.4444444444444444,\"#bd3786\"],[0.5555555555555556,\"#d8576b\"],[0.6666666666666666,\"#ed7953\"],[0.7777777777777778,\"#fb9f3a\"],[0.8888888888888888,\"#fdca26\"],[1.0,\"#f0f921\"]],\"type\":\"histogram2dcontour\"}],\"mesh3d\":[{\"colorbar\":{\"outlinewidth\":0,\"ticks\":\"\"},\"type\":\"mesh3d\"}],\"parcoords\":[{\"line\":{\"colorbar\":{\"outlinewidth\":0,\"ticks\":\"\"}},\"type\":\"parcoords\"}],\"pie\":[{\"automargin\":true,\"type\":\"pie\"}],\"scatter\":[{\"marker\":{\"colorbar\":{\"outlinewidth\":0,\"ticks\":\"\"}},\"type\":\"scatter\"}],\"scatter3d\":[{\"line\":{\"colorbar\":{\"outlinewidth\":0,\"ticks\":\"\"}},\"marker\":{\"colorbar\":{\"outlinewidth\":0,\"ticks\":\"\"}},\"type\":\"scatter3d\"}],\"scattercarpet\":[{\"marker\":{\"colorbar\":{\"outlinewidth\":0,\"ticks\":\"\"}},\"type\":\"scattercarpet\"}],\"scattergeo\":[{\"marker\":{\"colorbar\":{\"outlinewidth\":0,\"ticks\":\"\"}},\"type\":\"scattergeo\"}],\"scattergl\":[{\"marker\":{\"colorbar\":{\"outlinewidth\":0,\"ticks\":\"\"}},\"type\":\"scattergl\"}],\"scattermapbox\":[{\"marker\":{\"colorbar\":{\"outlinewidth\":0,\"ticks\":\"\"}},\"type\":\"scattermapbox\"}],\"scatterpolar\":[{\"marker\":{\"colorbar\":{\"outlinewidth\":0,\"ticks\":\"\"}},\"type\":\"scatterpolar\"}],\"scatterpolargl\":[{\"marker\":{\"colorbar\":{\"outlinewidth\":0,\"ticks\":\"\"}},\"type\":\"scatterpolargl\"}],\"scatterternary\":[{\"marker\":{\"colorbar\":{\"outlinewidth\":0,\"ticks\":\"\"}},\"type\":\"scatterternary\"}],\"surface\":[{\"colorbar\":{\"outlinewidth\":0,\"ticks\":\"\"},\"colorscale\":[[0.0,\"#0d0887\"],[0.1111111111111111,\"#46039f\"],[0.2222222222222222,\"#7201a8\"],[0.3333333333333333,\"#9c179e\"],[0.4444444444444444,\"#bd3786\"],[0.5555555555555556,\"#d8576b\"],[0.6666666666666666,\"#ed7953\"],[0.7777777777777778,\"#fb9f3a\"],[0.8888888888888888,\"#fdca26\"],[1.0,\"#f0f921\"]],\"type\":\"surface\"}],\"table\":[{\"cells\":{\"fill\":{\"color\":\"#EBF0F8\"},\"line\":{\"color\":\"white\"}},\"header\":{\"fill\":{\"color\":\"#C8D4E3\"},\"line\":{\"color\":\"white\"}},\"type\":\"table\"}]},\"layout\":{\"annotationdefaults\":{\"arrowcolor\":\"#2a3f5f\",\"arrowhead\":0,\"arrowwidth\":1},\"autotypenumbers\":\"strict\",\"coloraxis\":{\"colorbar\":{\"outlinewidth\":0,\"ticks\":\"\"}},\"colorscale\":{\"diverging\":[[0,\"#8e0152\"],[0.1,\"#c51b7d\"],[0.2,\"#de77ae\"],[0.3,\"#f1b6da\"],[0.4,\"#fde0ef\"],[0.5,\"#f7f7f7\"],[0.6,\"#e6f5d0\"],[0.7,\"#b8e186\"],[0.8,\"#7fbc41\"],[0.9,\"#4d9221\"],[1,\"#276419\"]],\"sequential\":[[0.0,\"#0d0887\"],[0.1111111111111111,\"#46039f\"],[0.2222222222222222,\"#7201a8\"],[0.3333333333333333,\"#9c179e\"],[0.4444444444444444,\"#bd3786\"],[0.5555555555555556,\"#d8576b\"],[0.6666666666666666,\"#ed7953\"],[0.7777777777777778,\"#fb9f3a\"],[0.8888888888888888,\"#fdca26\"],[1.0,\"#f0f921\"]],\"sequentialminus\":[[0.0,\"#0d0887\"],[0.1111111111111111,\"#46039f\"],[0.2222222222222222,\"#7201a8\"],[0.3333333333333333,\"#9c179e\"],[0.4444444444444444,\"#bd3786\"],[0.5555555555555556,\"#d8576b\"],[0.6666666666666666,\"#ed7953\"],[0.7777777777777778,\"#fb9f3a\"],[0.8888888888888888,\"#fdca26\"],[1.0,\"#f0f921\"]]},\"colorway\":[\"#636efa\",\"#EF553B\",\"#00cc96\",\"#ab63fa\",\"#FFA15A\",\"#19d3f3\",\"#FF6692\",\"#B6E880\",\"#FF97FF\",\"#FECB52\"],\"font\":{\"color\":\"#2a3f5f\"},\"geo\":{\"bgcolor\":\"white\",\"lakecolor\":\"white\",\"landcolor\":\"#E5ECF6\",\"showlakes\":true,\"showland\":true,\"subunitcolor\":\"white\"},\"hoverlabel\":{\"align\":\"left\"},\"hovermode\":\"closest\",\"mapbox\":{\"style\":\"light\"},\"paper_bgcolor\":\"white\",\"plot_bgcolor\":\"#E5ECF6\",\"polar\":{\"angularaxis\":{\"gridcolor\":\"white\",\"linecolor\":\"white\",\"ticks\":\"\"},\"bgcolor\":\"#E5ECF6\",\"radialaxis\":{\"gridcolor\":\"white\",\"linecolor\":\"white\",\"ticks\":\"\"}},\"scene\":{\"xaxis\":{\"backgroundcolor\":\"#E5ECF6\",\"gridcolor\":\"white\",\"gridwidth\":2,\"linecolor\":\"white\",\"showbackground\":true,\"ticks\":\"\",\"zerolinecolor\":\"white\"},\"yaxis\":{\"backgroundcolor\":\"#E5ECF6\",\"gridcolor\":\"white\",\"gridwidth\":2,\"linecolor\":\"white\",\"showbackground\":true,\"ticks\":\"\",\"zerolinecolor\":\"white\"},\"zaxis\":{\"backgroundcolor\":\"#E5ECF6\",\"gridcolor\":\"white\",\"gridwidth\":2,\"linecolor\":\"white\",\"showbackground\":true,\"ticks\":\"\",\"zerolinecolor\":\"white\"}},\"shapedefaults\":{\"line\":{\"color\":\"#2a3f5f\"}},\"ternary\":{\"aaxis\":{\"gridcolor\":\"white\",\"linecolor\":\"white\",\"ticks\":\"\"},\"baxis\":{\"gridcolor\":\"white\",\"linecolor\":\"white\",\"ticks\":\"\"},\"bgcolor\":\"#E5ECF6\",\"caxis\":{\"gridcolor\":\"white\",\"linecolor\":\"white\",\"ticks\":\"\"}},\"title\":{\"x\":0.05},\"xaxis\":{\"automargin\":true,\"gridcolor\":\"white\",\"linecolor\":\"white\",\"ticks\":\"\",\"title\":{\"standoff\":15},\"zerolinecolor\":\"white\",\"zerolinewidth\":2},\"yaxis\":{\"automargin\":true,\"gridcolor\":\"white\",\"linecolor\":\"white\",\"ticks\":\"\",\"title\":{\"standoff\":15},\"zerolinecolor\":\"white\",\"zerolinewidth\":2}}},\"scene\":{\"domain\":{\"x\":[0.0,1.0],\"y\":[0.0,1.0]},\"xaxis\":{\"title\":{\"text\":\"PC1\"}},\"yaxis\":{\"title\":{\"text\":\"PC2\"}},\"zaxis\":{\"title\":{\"text\":\"PC3\"}}},\"coloraxis\":{\"colorbar\":{\"title\":{\"text\":\"class\"}},\"colorscale\":[[0.0,\"#0d0887\"],[0.1111111111111111,\"#46039f\"],[0.2222222222222222,\"#7201a8\"],[0.3333333333333333,\"#9c179e\"],[0.4444444444444444,\"#bd3786\"],[0.5555555555555556,\"#d8576b\"],[0.6666666666666666,\"#ed7953\"],[0.7777777777777778,\"#fb9f3a\"],[0.8888888888888888,\"#fdca26\"],[1.0,\"#f0f921\"]]},\"legend\":{\"title\":{\"text\":\"class\"},\"tracegroupgap\":0,\"x\":0,\"y\":1},\"margin\":{\"t\":60},\"width\":800},                        {\"responsive\": true}                    ).then(function(){\n",
       "                            \n",
       "var gd = document.getElementById('8e6a2a46-11f1-4bf1-9502-db430386f74a');\n",
       "var x = new MutationObserver(function (mutations, observer) {{\n",
       "        var display = window.getComputedStyle(gd).display;\n",
       "        if (!display || display === 'none') {{\n",
       "            console.log([gd, 'removed!']);\n",
       "            Plotly.purge(gd);\n",
       "            observer.disconnect();\n",
       "        }}\n",
       "}});\n",
       "\n",
       "// Listen for the removal of the full notebook cells\n",
       "var notebookContainer = gd.closest('#notebook-container');\n",
       "if (notebookContainer) {{\n",
       "    x.observe(notebookContainer, {childList: true});\n",
       "}}\n",
       "\n",
       "// Listen for the clearing of the current output cell\n",
       "var outputEl = gd.closest('.output');\n",
       "if (outputEl) {{\n",
       "    x.observe(outputEl, {childList: true});\n",
       "}}\n",
       "\n",
       "                        })                };                });            </script>        </div>"
      ]
     },
     "metadata": {},
     "output_type": "display_data"
    }
   ],
   "source": [
    "fig = px.scatter_3d(\n",
    "    df_df1_pca,\n",
    "    x='PC1',\n",
    "    y='PC2',\n",
    "    z='PC3',\n",
    "    color='class',\n",
    "    symbol='class',\n",
    "    width=800,\n",
    ")\n",
    "\n",
    "fig.update_layout(legend=dict(x=0, y=1))\n",
    "fig.show()"
   ]
  },
  {
   "cell_type": "code",
   "execution_count": 139,
   "id": "4b434964",
   "metadata": {},
   "outputs": [
    {
     "data": {
      "text/html": [
       "<div>\n",
       "<style scoped>\n",
       "    .dataframe tbody tr th:only-of-type {\n",
       "        vertical-align: middle;\n",
       "    }\n",
       "\n",
       "    .dataframe tbody tr th {\n",
       "        vertical-align: top;\n",
       "    }\n",
       "\n",
       "    .dataframe thead th {\n",
       "        text-align: right;\n",
       "    }\n",
       "</style>\n",
       "<table border=\"1\" class=\"dataframe\">\n",
       "  <thead>\n",
       "    <tr style=\"text-align: right;\">\n",
       "      <th></th>\n",
       "      <th>sector</th>\n",
       "      <th>industry</th>\n",
       "      <th>country</th>\n",
       "      <th>growth_rate</th>\n",
       "      <th>target_median_price</th>\n",
       "      <th>target_mean_price</th>\n",
       "      <th>target_high_price</th>\n",
       "    </tr>\n",
       "  </thead>\n",
       "  <tbody>\n",
       "    <tr>\n",
       "      <th>0</th>\n",
       "      <td>4</td>\n",
       "      <td>59</td>\n",
       "      <td>10</td>\n",
       "      <td>1.206</td>\n",
       "      <td>15.00</td>\n",
       "      <td>15.00</td>\n",
       "      <td>15.0</td>\n",
       "    </tr>\n",
       "    <tr>\n",
       "      <th>726</th>\n",
       "      <td>9</td>\n",
       "      <td>76</td>\n",
       "      <td>5</td>\n",
       "      <td>0.172</td>\n",
       "      <td>1.59</td>\n",
       "      <td>1.59</td>\n",
       "      <td>2.5</td>\n",
       "    </tr>\n",
       "    <tr>\n",
       "      <th>1456</th>\n",
       "      <td>9</td>\n",
       "      <td>76</td>\n",
       "      <td>26</td>\n",
       "      <td>0.375</td>\n",
       "      <td>75.00</td>\n",
       "      <td>75.00</td>\n",
       "      <td>100.0</td>\n",
       "    </tr>\n",
       "    <tr>\n",
       "      <th>2186</th>\n",
       "      <td>9</td>\n",
       "      <td>76</td>\n",
       "      <td>26</td>\n",
       "      <td>1.558</td>\n",
       "      <td>205.00</td>\n",
       "      <td>205.00</td>\n",
       "      <td>300.0</td>\n",
       "    </tr>\n",
       "    <tr>\n",
       "      <th>2917</th>\n",
       "      <td>7</td>\n",
       "      <td>1</td>\n",
       "      <td>5</td>\n",
       "      <td>0.202</td>\n",
       "      <td>4.00</td>\n",
       "      <td>4.00</td>\n",
       "      <td>4.0</td>\n",
       "    </tr>\n",
       "  </tbody>\n",
       "</table>\n",
       "</div>"
      ],
      "text/plain": [
       "      sector  industry  country  growth_rate  target_median_price  \\\n",
       "0          4        59       10        1.206                15.00   \n",
       "726        9        76        5        0.172                 1.59   \n",
       "1456       9        76       26        0.375                75.00   \n",
       "2186       9        76       26        1.558               205.00   \n",
       "2917       7         1        5        0.202                 4.00   \n",
       "\n",
       "      target_mean_price  target_high_price  \n",
       "0                 15.00               15.0  \n",
       "726                1.59                2.5  \n",
       "1456              75.00              100.0  \n",
       "2186             205.00              300.0  \n",
       "2917               4.00                4.0  "
      ]
     },
     "execution_count": 139,
     "metadata": {},
     "output_type": "execute_result"
    }
   ],
   "source": [
    "# Drop the class column\n",
    "df_df1_pca = df_df1_pca.drop(labels=['class'], axis=1)\n",
    "df1.head()"
   ]
  },
  {
   "cell_type": "markdown",
   "id": "5856cf34",
   "metadata": {},
   "source": [
    "### Hierarchical Clustering"
   ]
  },
  {
   "cell_type": "code",
   "execution_count": 137,
   "id": "8aeb1481",
   "metadata": {},
   "outputs": [],
   "source": [
    "# Import dependencies\n",
    "from sklearn.cluster import AgglomerativeClustering\n",
    "import plotly.figure_factory as ff"
   ]
  },
  {
   "cell_type": "code",
   "execution_count": 140,
   "id": "0d42cc05",
   "metadata": {},
   "outputs": [
    {
     "data": {
      "application/vnd.plotly.v1+json": {
       "config": {
        "plotlyServerURL": "https://plot.ly"
       },
       "data": [
        {
         "hoverinfo": "text",
         "marker": {
          "color": "rgb(0,116,217)"
         },
         "mode": "lines",
         "type": "scatter",
         "x": [
          15,
          15,
          25,
          25
         ],
         "xaxis": "x",
         "y": [
          0,
          0.037186737325502824,
          0.037186737325502824,
          0
         ],
         "yaxis": "y"
        },
        {
         "hoverinfo": "text",
         "marker": {
          "color": "rgb(0,116,217)"
         },
         "mode": "lines",
         "type": "scatter",
         "x": [
          35,
          35,
          45,
          45
         ],
         "xaxis": "x",
         "y": [
          0,
          0.04925611489138193,
          0.04925611489138193,
          0
         ],
         "yaxis": "y"
        },
        {
         "hoverinfo": "text",
         "marker": {
          "color": "rgb(0,116,217)"
         },
         "mode": "lines",
         "type": "scatter",
         "x": [
          20,
          20,
          40,
          40
         ],
         "xaxis": "x",
         "y": [
          0.037186737325502824,
          0.1471713169762362,
          0.1471713169762362,
          0.04925611489138193
         ],
         "yaxis": "y"
        },
        {
         "hoverinfo": "text",
         "marker": {
          "color": "rgb(0,116,217)"
         },
         "mode": "lines",
         "type": "scatter",
         "x": [
          55,
          55,
          65,
          65
         ],
         "xaxis": "x",
         "y": [
          0,
          0.03976083361569799,
          0.03976083361569799,
          0
         ],
         "yaxis": "y"
        },
        {
         "hoverinfo": "text",
         "marker": {
          "color": "rgb(0,116,217)"
         },
         "mode": "lines",
         "type": "scatter",
         "x": [
          75,
          75,
          85,
          85
         ],
         "xaxis": "x",
         "y": [
          0,
          0.0924578105636737,
          0.0924578105636737,
          0
         ],
         "yaxis": "y"
        },
        {
         "hoverinfo": "text",
         "marker": {
          "color": "rgb(0,116,217)"
         },
         "mode": "lines",
         "type": "scatter",
         "x": [
          60,
          60,
          80,
          80
         ],
         "xaxis": "x",
         "y": [
          0.03976083361569799,
          0.29751393991484676,
          0.29751393991484676,
          0.0924578105636737
         ],
         "yaxis": "y"
        },
        {
         "hoverinfo": "text",
         "marker": {
          "color": "rgb(0,116,217)"
         },
         "mode": "lines",
         "type": "scatter",
         "x": [
          30,
          30,
          70,
          70
         ],
         "xaxis": "x",
         "y": [
          0.1471713169762362,
          1.0195754506010073,
          1.0195754506010073,
          0.29751393991484676
         ],
         "yaxis": "y"
        },
        {
         "hoverinfo": "text",
         "marker": {
          "color": "rgb(0,116,217)"
         },
         "mode": "lines",
         "type": "scatter",
         "x": [
          95,
          95,
          105,
          105
         ],
         "xaxis": "x",
         "y": [
          0,
          0.39265100551503246,
          0.39265100551503246,
          0
         ],
         "yaxis": "y"
        },
        {
         "hoverinfo": "text",
         "marker": {
          "color": "rgb(0,116,217)"
         },
         "mode": "lines",
         "type": "scatter",
         "x": [
          135,
          135,
          145,
          145
         ],
         "xaxis": "x",
         "y": [
          0,
          0.07482457562534175,
          0.07482457562534175,
          0
         ],
         "yaxis": "y"
        },
        {
         "hoverinfo": "text",
         "marker": {
          "color": "rgb(0,116,217)"
         },
         "mode": "lines",
         "type": "scatter",
         "x": [
          125,
          125,
          140,
          140
         ],
         "xaxis": "x",
         "y": [
          0,
          0.1529109949265751,
          0.1529109949265751,
          0.07482457562534175
         ],
         "yaxis": "y"
        },
        {
         "hoverinfo": "text",
         "marker": {
          "color": "rgb(0,116,217)"
         },
         "mode": "lines",
         "type": "scatter",
         "x": [
          155,
          155,
          165,
          165
         ],
         "xaxis": "x",
         "y": [
          0,
          0.05149429290023161,
          0.05149429290023161,
          0
         ],
         "yaxis": "y"
        },
        {
         "hoverinfo": "text",
         "marker": {
          "color": "rgb(0,116,217)"
         },
         "mode": "lines",
         "type": "scatter",
         "x": [
          175,
          175,
          185,
          185
         ],
         "xaxis": "x",
         "y": [
          0,
          0.10528467961731709,
          0.10528467961731709,
          0
         ],
         "yaxis": "y"
        },
        {
         "hoverinfo": "text",
         "marker": {
          "color": "rgb(0,116,217)"
         },
         "mode": "lines",
         "type": "scatter",
         "x": [
          160,
          160,
          180,
          180
         ],
         "xaxis": "x",
         "y": [
          0.05149429290023161,
          0.2843849162079907,
          0.2843849162079907,
          0.10528467961731709
         ],
         "yaxis": "y"
        },
        {
         "hoverinfo": "text",
         "marker": {
          "color": "rgb(0,116,217)"
         },
         "mode": "lines",
         "type": "scatter",
         "x": [
          132.5,
          132.5,
          170,
          170
         ],
         "xaxis": "x",
         "y": [
          0.1529109949265751,
          0.30924240139186504,
          0.30924240139186504,
          0.2843849162079907
         ],
         "yaxis": "y"
        },
        {
         "hoverinfo": "text",
         "marker": {
          "color": "rgb(0,116,217)"
         },
         "mode": "lines",
         "type": "scatter",
         "x": [
          115,
          115,
          151.25,
          151.25
         ],
         "xaxis": "x",
         "y": [
          0,
          0.560010928599582,
          0.560010928599582,
          0.30924240139186504
         ],
         "yaxis": "y"
        },
        {
         "hoverinfo": "text",
         "marker": {
          "color": "rgb(0,116,217)"
         },
         "mode": "lines",
         "type": "scatter",
         "x": [
          100,
          100,
          133.125,
          133.125
         ],
         "xaxis": "x",
         "y": [
          0.39265100551503246,
          1.0622215256778582,
          1.0622215256778582,
          0.560010928599582
         ],
         "yaxis": "y"
        },
        {
         "hoverinfo": "text",
         "marker": {
          "color": "rgb(0,116,217)"
         },
         "mode": "lines",
         "type": "scatter",
         "x": [
          225,
          225,
          235,
          235
         ],
         "xaxis": "x",
         "y": [
          0,
          0.0464326443101369,
          0.0464326443101369,
          0
         ],
         "yaxis": "y"
        },
        {
         "hoverinfo": "text",
         "marker": {
          "color": "rgb(0,116,217)"
         },
         "mode": "lines",
         "type": "scatter",
         "x": [
          215,
          215,
          230,
          230
         ],
         "xaxis": "x",
         "y": [
          0,
          0.06577485840900359,
          0.06577485840900359,
          0.0464326443101369
         ],
         "yaxis": "y"
        },
        {
         "hoverinfo": "text",
         "marker": {
          "color": "rgb(0,116,217)"
         },
         "mode": "lines",
         "type": "scatter",
         "x": [
          205,
          205,
          222.5,
          222.5
         ],
         "xaxis": "x",
         "y": [
          0,
          0.16498752620881454,
          0.16498752620881454,
          0.06577485840900359
         ],
         "yaxis": "y"
        },
        {
         "hoverinfo": "text",
         "marker": {
          "color": "rgb(0,116,217)"
         },
         "mode": "lines",
         "type": "scatter",
         "x": [
          195,
          195,
          213.75,
          213.75
         ],
         "xaxis": "x",
         "y": [
          0,
          0.3081982857238599,
          0.3081982857238599,
          0.16498752620881454
         ],
         "yaxis": "y"
        },
        {
         "hoverinfo": "text",
         "marker": {
          "color": "rgb(0,116,217)"
         },
         "mode": "lines",
         "type": "scatter",
         "x": [
          245,
          245,
          255,
          255
         ],
         "xaxis": "x",
         "y": [
          0,
          0.022145968067521372,
          0.022145968067521372,
          0
         ],
         "yaxis": "y"
        },
        {
         "hoverinfo": "text",
         "marker": {
          "color": "rgb(0,116,217)"
         },
         "mode": "lines",
         "type": "scatter",
         "x": [
          265,
          265,
          275,
          275
         ],
         "xaxis": "x",
         "y": [
          0,
          0.021734072073472704,
          0.021734072073472704,
          0
         ],
         "yaxis": "y"
        },
        {
         "hoverinfo": "text",
         "marker": {
          "color": "rgb(0,116,217)"
         },
         "mode": "lines",
         "type": "scatter",
         "x": [
          295,
          295,
          305,
          305
         ],
         "xaxis": "x",
         "y": [
          0,
          0.028191779571942056,
          0.028191779571942056,
          0
         ],
         "yaxis": "y"
        },
        {
         "hoverinfo": "text",
         "marker": {
          "color": "rgb(0,116,217)"
         },
         "mode": "lines",
         "type": "scatter",
         "x": [
          285,
          285,
          300,
          300
         ],
         "xaxis": "x",
         "y": [
          0,
          0.04906435991362902,
          0.04906435991362902,
          0.028191779571942056
         ],
         "yaxis": "y"
        },
        {
         "hoverinfo": "text",
         "marker": {
          "color": "rgb(0,116,217)"
         },
         "mode": "lines",
         "type": "scatter",
         "x": [
          270,
          270,
          292.5,
          292.5
         ],
         "xaxis": "x",
         "y": [
          0.021734072073472704,
          0.08566667312121681,
          0.08566667312121681,
          0.04906435991362902
         ],
         "yaxis": "y"
        },
        {
         "hoverinfo": "text",
         "marker": {
          "color": "rgb(0,116,217)"
         },
         "mode": "lines",
         "type": "scatter",
         "x": [
          250,
          250,
          281.25,
          281.25
         ],
         "xaxis": "x",
         "y": [
          0.022145968067521372,
          0.1314416291946441,
          0.1314416291946441,
          0.08566667312121681
         ],
         "yaxis": "y"
        },
        {
         "hoverinfo": "text",
         "marker": {
          "color": "rgb(0,116,217)"
         },
         "mode": "lines",
         "type": "scatter",
         "x": [
          345,
          345,
          355,
          355
         ],
         "xaxis": "x",
         "y": [
          0,
          0.03789063459592641,
          0.03789063459592641,
          0
         ],
         "yaxis": "y"
        },
        {
         "hoverinfo": "text",
         "marker": {
          "color": "rgb(0,116,217)"
         },
         "mode": "lines",
         "type": "scatter",
         "x": [
          335,
          335,
          350,
          350
         ],
         "xaxis": "x",
         "y": [
          0,
          0.053431363965131685,
          0.053431363965131685,
          0.03789063459592641
         ],
         "yaxis": "y"
        },
        {
         "hoverinfo": "text",
         "marker": {
          "color": "rgb(0,116,217)"
         },
         "mode": "lines",
         "type": "scatter",
         "x": [
          325,
          325,
          342.5,
          342.5
         ],
         "xaxis": "x",
         "y": [
          0,
          0.10733709367828691,
          0.10733709367828691,
          0.053431363965131685
         ],
         "yaxis": "y"
        },
        {
         "hoverinfo": "text",
         "marker": {
          "color": "rgb(0,116,217)"
         },
         "mode": "lines",
         "type": "scatter",
         "x": [
          315,
          315,
          333.75,
          333.75
         ],
         "xaxis": "x",
         "y": [
          0,
          0.17090750789228543,
          0.17090750789228543,
          0.10733709367828691
         ],
         "yaxis": "y"
        },
        {
         "hoverinfo": "text",
         "marker": {
          "color": "rgb(0,116,217)"
         },
         "mode": "lines",
         "type": "scatter",
         "x": [
          265.625,
          265.625,
          324.375,
          324.375
         ],
         "xaxis": "x",
         "y": [
          0.1314416291946441,
          0.23916400507872865,
          0.23916400507872865,
          0.17090750789228543
         ],
         "yaxis": "y"
        },
        {
         "hoverinfo": "text",
         "marker": {
          "color": "rgb(0,116,217)"
         },
         "mode": "lines",
         "type": "scatter",
         "x": [
          375,
          375,
          385,
          385
         ],
         "xaxis": "x",
         "y": [
          0,
          0.03710500891430426,
          0.03710500891430426,
          0
         ],
         "yaxis": "y"
        },
        {
         "hoverinfo": "text",
         "marker": {
          "color": "rgb(0,116,217)"
         },
         "mode": "lines",
         "type": "scatter",
         "x": [
          395,
          395,
          405,
          405
         ],
         "xaxis": "x",
         "y": [
          0,
          0.010074893836684876,
          0.010074893836684876,
          0
         ],
         "yaxis": "y"
        },
        {
         "hoverinfo": "text",
         "marker": {
          "color": "rgb(0,116,217)"
         },
         "mode": "lines",
         "type": "scatter",
         "x": [
          415,
          415,
          425,
          425
         ],
         "xaxis": "x",
         "y": [
          0,
          0.00949287996809776,
          0.00949287996809776,
          0
         ],
         "yaxis": "y"
        },
        {
         "hoverinfo": "text",
         "marker": {
          "color": "rgb(0,116,217)"
         },
         "mode": "lines",
         "type": "scatter",
         "x": [
          465,
          465,
          475,
          475
         ],
         "xaxis": "x",
         "y": [
          0,
          0.0013492039947420366,
          0.0013492039947420366,
          0
         ],
         "yaxis": "y"
        },
        {
         "hoverinfo": "text",
         "marker": {
          "color": "rgb(0,116,217)"
         },
         "mode": "lines",
         "type": "scatter",
         "x": [
          455,
          455,
          470,
          470
         ],
         "xaxis": "x",
         "y": [
          0,
          0.007674755564565643,
          0.007674755564565643,
          0.0013492039947420366
         ],
         "yaxis": "y"
        },
        {
         "hoverinfo": "text",
         "marker": {
          "color": "rgb(0,116,217)"
         },
         "mode": "lines",
         "type": "scatter",
         "x": [
          445,
          445,
          462.5,
          462.5
         ],
         "xaxis": "x",
         "y": [
          0,
          0.014441759501490067,
          0.014441759501490067,
          0.007674755564565643
         ],
         "yaxis": "y"
        },
        {
         "hoverinfo": "text",
         "marker": {
          "color": "rgb(0,116,217)"
         },
         "mode": "lines",
         "type": "scatter",
         "x": [
          435,
          435,
          453.75,
          453.75
         ],
         "xaxis": "x",
         "y": [
          0,
          0.023239396451873104,
          0.023239396451873104,
          0.014441759501490067
         ],
         "yaxis": "y"
        },
        {
         "hoverinfo": "text",
         "marker": {
          "color": "rgb(0,116,217)"
         },
         "mode": "lines",
         "type": "scatter",
         "x": [
          420,
          420,
          444.375,
          444.375
         ],
         "xaxis": "x",
         "y": [
          0.00949287996809776,
          0.042623217596317646,
          0.042623217596317646,
          0.023239396451873104
         ],
         "yaxis": "y"
        },
        {
         "hoverinfo": "text",
         "marker": {
          "color": "rgb(0,116,217)"
         },
         "mode": "lines",
         "type": "scatter",
         "x": [
          400,
          400,
          432.1875,
          432.1875
         ],
         "xaxis": "x",
         "y": [
          0.010074893836684876,
          0.06763144005725515,
          0.06763144005725515,
          0.042623217596317646
         ],
         "yaxis": "y"
        },
        {
         "hoverinfo": "text",
         "marker": {
          "color": "rgb(0,116,217)"
         },
         "mode": "lines",
         "type": "scatter",
         "x": [
          380,
          380,
          416.09375,
          416.09375
         ],
         "xaxis": "x",
         "y": [
          0.03710500891430426,
          0.12026254919048739,
          0.12026254919048739,
          0.06763144005725515
         ],
         "yaxis": "y"
        },
        {
         "hoverinfo": "text",
         "marker": {
          "color": "rgb(0,116,217)"
         },
         "mode": "lines",
         "type": "scatter",
         "x": [
          365,
          365,
          398.046875,
          398.046875
         ],
         "xaxis": "x",
         "y": [
          0,
          0.17810272057938425,
          0.17810272057938425,
          0.12026254919048739
         ],
         "yaxis": "y"
        },
        {
         "hoverinfo": "text",
         "marker": {
          "color": "rgb(0,116,217)"
         },
         "mode": "lines",
         "type": "scatter",
         "x": [
          505,
          505,
          515,
          515
         ],
         "xaxis": "x",
         "y": [
          0,
          0.00999731167676583,
          0.00999731167676583,
          0
         ],
         "yaxis": "y"
        },
        {
         "hoverinfo": "text",
         "marker": {
          "color": "rgb(0,116,217)"
         },
         "mode": "lines",
         "type": "scatter",
         "x": [
          495,
          495,
          510,
          510
         ],
         "xaxis": "x",
         "y": [
          0,
          0.04298796793802206,
          0.04298796793802206,
          0.00999731167676583
         ],
         "yaxis": "y"
        },
        {
         "hoverinfo": "text",
         "marker": {
          "color": "rgb(0,116,217)"
         },
         "mode": "lines",
         "type": "scatter",
         "x": [
          535,
          535,
          545,
          545
         ],
         "xaxis": "x",
         "y": [
          0,
          0.006592975928780984,
          0.006592975928780984,
          0
         ],
         "yaxis": "y"
        },
        {
         "hoverinfo": "text",
         "marker": {
          "color": "rgb(0,116,217)"
         },
         "mode": "lines",
         "type": "scatter",
         "x": [
          525,
          525,
          540,
          540
         ],
         "xaxis": "x",
         "y": [
          0,
          0.02751215892556543,
          0.02751215892556543,
          0.006592975928780984
         ],
         "yaxis": "y"
        },
        {
         "hoverinfo": "text",
         "marker": {
          "color": "rgb(0,116,217)"
         },
         "mode": "lines",
         "type": "scatter",
         "x": [
          575,
          575,
          585,
          585
         ],
         "xaxis": "x",
         "y": [
          0,
          0.009281935790385273,
          0.009281935790385273,
          0
         ],
         "yaxis": "y"
        },
        {
         "hoverinfo": "text",
         "marker": {
          "color": "rgb(0,116,217)"
         },
         "mode": "lines",
         "type": "scatter",
         "x": [
          565,
          565,
          580,
          580
         ],
         "xaxis": "x",
         "y": [
          0,
          0.02742110635999632,
          0.02742110635999632,
          0.009281935790385273
         ],
         "yaxis": "y"
        },
        {
         "hoverinfo": "text",
         "marker": {
          "color": "rgb(0,116,217)"
         },
         "mode": "lines",
         "type": "scatter",
         "x": [
          555,
          555,
          572.5,
          572.5
         ],
         "xaxis": "x",
         "y": [
          0,
          0.046149779114631334,
          0.046149779114631334,
          0.02742110635999632
         ],
         "yaxis": "y"
        },
        {
         "hoverinfo": "text",
         "marker": {
          "color": "rgb(0,116,217)"
         },
         "mode": "lines",
         "type": "scatter",
         "x": [
          532.5,
          532.5,
          563.75,
          563.75
         ],
         "xaxis": "x",
         "y": [
          0.02751215892556543,
          0.08056498486481475,
          0.08056498486481475,
          0.046149779114631334
         ],
         "yaxis": "y"
        },
        {
         "hoverinfo": "text",
         "marker": {
          "color": "rgb(0,116,217)"
         },
         "mode": "lines",
         "type": "scatter",
         "x": [
          502.5,
          502.5,
          548.125,
          548.125
         ],
         "xaxis": "x",
         "y": [
          0.04298796793802206,
          0.15508386651728542,
          0.15508386651728542,
          0.08056498486481475
         ],
         "yaxis": "y"
        },
        {
         "hoverinfo": "text",
         "marker": {
          "color": "rgb(0,116,217)"
         },
         "mode": "lines",
         "type": "scatter",
         "x": [
          485,
          485,
          525.3125,
          525.3125
         ],
         "xaxis": "x",
         "y": [
          0,
          0.23323918410976577,
          0.23323918410976577,
          0.15508386651728542
         ],
         "yaxis": "y"
        },
        {
         "hoverinfo": "text",
         "marker": {
          "color": "rgb(0,116,217)"
         },
         "mode": "lines",
         "type": "scatter",
         "x": [
          381.5234375,
          381.5234375,
          505.15625,
          505.15625
         ],
         "xaxis": "x",
         "y": [
          0.17810272057938425,
          0.4076480776892522,
          0.4076480776892522,
          0.23323918410976577
         ],
         "yaxis": "y"
        },
        {
         "hoverinfo": "text",
         "marker": {
          "color": "rgb(0,116,217)"
         },
         "mode": "lines",
         "type": "scatter",
         "x": [
          605,
          605,
          615,
          615
         ],
         "xaxis": "x",
         "y": [
          0,
          0.1253847747261991,
          0.1253847747261991,
          0
         ],
         "yaxis": "y"
        },
        {
         "hoverinfo": "text",
         "marker": {
          "color": "rgb(0,116,217)"
         },
         "mode": "lines",
         "type": "scatter",
         "x": [
          645,
          645,
          655,
          655
         ],
         "xaxis": "x",
         "y": [
          0,
          0.003708720885602984,
          0.003708720885602984,
          0
         ],
         "yaxis": "y"
        },
        {
         "hoverinfo": "text",
         "marker": {
          "color": "rgb(0,116,217)"
         },
         "mode": "lines",
         "type": "scatter",
         "x": [
          635,
          635,
          650,
          650
         ],
         "xaxis": "x",
         "y": [
          0,
          0.01071367428504675,
          0.01071367428504675,
          0.003708720885602984
         ],
         "yaxis": "y"
        },
        {
         "hoverinfo": "text",
         "marker": {
          "color": "rgb(0,116,217)"
         },
         "mode": "lines",
         "type": "scatter",
         "x": [
          665,
          665,
          675,
          675
         ],
         "xaxis": "x",
         "y": [
          0,
          0.016100120243880165,
          0.016100120243880165,
          0
         ],
         "yaxis": "y"
        },
        {
         "hoverinfo": "text",
         "marker": {
          "color": "rgb(0,116,217)"
         },
         "mode": "lines",
         "type": "scatter",
         "x": [
          642.5,
          642.5,
          670,
          670
         ],
         "xaxis": "x",
         "y": [
          0.01071367428504675,
          0.041387922803952516,
          0.041387922803952516,
          0.016100120243880165
         ],
         "yaxis": "y"
        },
        {
         "hoverinfo": "text",
         "marker": {
          "color": "rgb(0,116,217)"
         },
         "mode": "lines",
         "type": "scatter",
         "x": [
          625,
          625,
          656.25,
          656.25
         ],
         "xaxis": "x",
         "y": [
          0,
          0.07909058620461518,
          0.07909058620461518,
          0.041387922803952516
         ],
         "yaxis": "y"
        },
        {
         "hoverinfo": "text",
         "marker": {
          "color": "rgb(0,116,217)"
         },
         "mode": "lines",
         "type": "scatter",
         "x": [
          695,
          695,
          705,
          705
         ],
         "xaxis": "x",
         "y": [
          0,
          0.01841213321020343,
          0.01841213321020343,
          0
         ],
         "yaxis": "y"
        },
        {
         "hoverinfo": "text",
         "marker": {
          "color": "rgb(0,116,217)"
         },
         "mode": "lines",
         "type": "scatter",
         "x": [
          685,
          685,
          700,
          700
         ],
         "xaxis": "x",
         "y": [
          0,
          0.045373419933110844,
          0.045373419933110844,
          0.01841213321020343
         ],
         "yaxis": "y"
        },
        {
         "hoverinfo": "text",
         "marker": {
          "color": "rgb(0,116,217)"
         },
         "mode": "lines",
         "type": "scatter",
         "x": [
          715,
          715,
          725,
          725
         ],
         "xaxis": "x",
         "y": [
          0,
          0.013991576018883187,
          0.013991576018883187,
          0
         ],
         "yaxis": "y"
        },
        {
         "hoverinfo": "text",
         "marker": {
          "color": "rgb(0,116,217)"
         },
         "mode": "lines",
         "type": "scatter",
         "x": [
          765,
          765,
          775,
          775
         ],
         "xaxis": "x",
         "y": [
          0,
          0.0016774622072650055,
          0.0016774622072650055,
          0
         ],
         "yaxis": "y"
        },
        {
         "hoverinfo": "text",
         "marker": {
          "color": "rgb(0,116,217)"
         },
         "mode": "lines",
         "type": "scatter",
         "x": [
          755,
          755,
          770,
          770
         ],
         "xaxis": "x",
         "y": [
          0,
          0.003561425968852064,
          0.003561425968852064,
          0.0016774622072650055
         ],
         "yaxis": "y"
        },
        {
         "hoverinfo": "text",
         "marker": {
          "color": "rgb(0,116,217)"
         },
         "mode": "lines",
         "type": "scatter",
         "x": [
          745,
          745,
          762.5,
          762.5
         ],
         "xaxis": "x",
         "y": [
          0,
          0.006359336541519365,
          0.006359336541519365,
          0.003561425968852064
         ],
         "yaxis": "y"
        },
        {
         "hoverinfo": "text",
         "marker": {
          "color": "rgb(0,116,217)"
         },
         "mode": "lines",
         "type": "scatter",
         "x": [
          735,
          735,
          753.75,
          753.75
         ],
         "xaxis": "x",
         "y": [
          0,
          0.015530818094215719,
          0.015530818094215719,
          0.006359336541519365
         ],
         "yaxis": "y"
        },
        {
         "hoverinfo": "text",
         "marker": {
          "color": "rgb(0,116,217)"
         },
         "mode": "lines",
         "type": "scatter",
         "x": [
          720,
          720,
          744.375,
          744.375
         ],
         "xaxis": "x",
         "y": [
          0.013991576018883187,
          0.02886484424039304,
          0.02886484424039304,
          0.015530818094215719
         ],
         "yaxis": "y"
        },
        {
         "hoverinfo": "text",
         "marker": {
          "color": "rgb(0,116,217)"
         },
         "mode": "lines",
         "type": "scatter",
         "x": [
          785,
          785,
          795,
          795
         ],
         "xaxis": "x",
         "y": [
          0,
          0.0007015011886277896,
          0.0007015011886277896,
          0
         ],
         "yaxis": "y"
        },
        {
         "hoverinfo": "text",
         "marker": {
          "color": "rgb(0,116,217)"
         },
         "mode": "lines",
         "type": "scatter",
         "x": [
          805,
          805,
          815,
          815
         ],
         "xaxis": "x",
         "y": [
          0,
          0.002216249752137304,
          0.002216249752137304,
          0
         ],
         "yaxis": "y"
        },
        {
         "hoverinfo": "text",
         "marker": {
          "color": "rgb(0,116,217)"
         },
         "mode": "lines",
         "type": "scatter",
         "x": [
          790,
          790,
          810,
          810
         ],
         "xaxis": "x",
         "y": [
          0.0007015011886277896,
          0.004384091438548539,
          0.004384091438548539,
          0.002216249752137304
         ],
         "yaxis": "y"
        },
        {
         "hoverinfo": "text",
         "marker": {
          "color": "rgb(0,116,217)"
         },
         "mode": "lines",
         "type": "scatter",
         "x": [
          825,
          825,
          835,
          835
         ],
         "xaxis": "x",
         "y": [
          0,
          0.005433464819927342,
          0.005433464819927342,
          0
         ],
         "yaxis": "y"
        },
        {
         "hoverinfo": "text",
         "marker": {
          "color": "rgb(0,116,217)"
         },
         "mode": "lines",
         "type": "scatter",
         "x": [
          800,
          800,
          830,
          830
         ],
         "xaxis": "x",
         "y": [
          0.004384091438548539,
          0.01654480053300312,
          0.01654480053300312,
          0.005433464819927342
         ],
         "yaxis": "y"
        },
        {
         "hoverinfo": "text",
         "marker": {
          "color": "rgb(0,116,217)"
         },
         "mode": "lines",
         "type": "scatter",
         "x": [
          855,
          855,
          865,
          865
         ],
         "xaxis": "x",
         "y": [
          0,
          0.0040419541175064294,
          0.0040419541175064294,
          0
         ],
         "yaxis": "y"
        },
        {
         "hoverinfo": "text",
         "marker": {
          "color": "rgb(0,116,217)"
         },
         "mode": "lines",
         "type": "scatter",
         "x": [
          845,
          845,
          860,
          860
         ],
         "xaxis": "x",
         "y": [
          0,
          0.006786514891437427,
          0.006786514891437427,
          0.0040419541175064294
         ],
         "yaxis": "y"
        },
        {
         "hoverinfo": "text",
         "marker": {
          "color": "rgb(0,116,217)"
         },
         "mode": "lines",
         "type": "scatter",
         "x": [
          885,
          885,
          895,
          895
         ],
         "xaxis": "x",
         "y": [
          0,
          0.004293878091746544,
          0.004293878091746544,
          0
         ],
         "yaxis": "y"
        },
        {
         "hoverinfo": "text",
         "marker": {
          "color": "rgb(0,116,217)"
         },
         "mode": "lines",
         "type": "scatter",
         "x": [
          875,
          875,
          890,
          890
         ],
         "xaxis": "x",
         "y": [
          0,
          0.0070720895965234445,
          0.0070720895965234445,
          0.004293878091746544
         ],
         "yaxis": "y"
        },
        {
         "hoverinfo": "text",
         "marker": {
          "color": "rgb(0,116,217)"
         },
         "mode": "lines",
         "type": "scatter",
         "x": [
          852.5,
          852.5,
          882.5,
          882.5
         ],
         "xaxis": "x",
         "y": [
          0.006786514891437427,
          0.01739648984945536,
          0.01739648984945536,
          0.0070720895965234445
         ],
         "yaxis": "y"
        },
        {
         "hoverinfo": "text",
         "marker": {
          "color": "rgb(0,116,217)"
         },
         "mode": "lines",
         "type": "scatter",
         "x": [
          815,
          815,
          867.5,
          867.5
         ],
         "xaxis": "x",
         "y": [
          0.01654480053300312,
          0.044832432946222946,
          0.044832432946222946,
          0.01739648984945536
         ],
         "yaxis": "y"
        },
        {
         "hoverinfo": "text",
         "marker": {
          "color": "rgb(0,116,217)"
         },
         "mode": "lines",
         "type": "scatter",
         "x": [
          732.1875,
          732.1875,
          841.25,
          841.25
         ],
         "xaxis": "x",
         "y": [
          0.02886484424039304,
          0.06569953328736364,
          0.06569953328736364,
          0.044832432946222946
         ],
         "yaxis": "y"
        },
        {
         "hoverinfo": "text",
         "marker": {
          "color": "rgb(0,116,217)"
         },
         "mode": "lines",
         "type": "scatter",
         "x": [
          692.5,
          692.5,
          786.71875,
          786.71875
         ],
         "xaxis": "x",
         "y": [
          0.045373419933110844,
          0.07936234056065967,
          0.07936234056065967,
          0.06569953328736364
         ],
         "yaxis": "y"
        },
        {
         "hoverinfo": "text",
         "marker": {
          "color": "rgb(0,116,217)"
         },
         "mode": "lines",
         "type": "scatter",
         "x": [
          640.625,
          640.625,
          739.609375,
          739.609375
         ],
         "xaxis": "x",
         "y": [
          0.07909058620461518,
          0.11853847705317384,
          0.11853847705317384,
          0.07936234056065967
         ],
         "yaxis": "y"
        },
        {
         "hoverinfo": "text",
         "marker": {
          "color": "rgb(0,116,217)"
         },
         "mode": "lines",
         "type": "scatter",
         "x": [
          915,
          915,
          925,
          925
         ],
         "xaxis": "x",
         "y": [
          0,
          0.0005199000992899978,
          0.0005199000992899978,
          0
         ],
         "yaxis": "y"
        },
        {
         "hoverinfo": "text",
         "marker": {
          "color": "rgb(0,116,217)"
         },
         "mode": "lines",
         "type": "scatter",
         "x": [
          955,
          955,
          965,
          965
         ],
         "xaxis": "x",
         "y": [
          0,
          0.0026964421085812055,
          0.0026964421085812055,
          0
         ],
         "yaxis": "y"
        },
        {
         "hoverinfo": "text",
         "marker": {
          "color": "rgb(0,116,217)"
         },
         "mode": "lines",
         "type": "scatter",
         "x": [
          945,
          945,
          960,
          960
         ],
         "xaxis": "x",
         "y": [
          0,
          0.005850760006074815,
          0.005850760006074815,
          0.0026964421085812055
         ],
         "yaxis": "y"
        },
        {
         "hoverinfo": "text",
         "marker": {
          "color": "rgb(0,116,217)"
         },
         "mode": "lines",
         "type": "scatter",
         "x": [
          935,
          935,
          952.5,
          952.5
         ],
         "xaxis": "x",
         "y": [
          0,
          0.012227222393004786,
          0.012227222393004786,
          0.005850760006074815
         ],
         "yaxis": "y"
        },
        {
         "hoverinfo": "text",
         "marker": {
          "color": "rgb(0,116,217)"
         },
         "mode": "lines",
         "type": "scatter",
         "x": [
          920,
          920,
          943.75,
          943.75
         ],
         "xaxis": "x",
         "y": [
          0.0005199000992899978,
          0.020775120837596875,
          0.020775120837596875,
          0.012227222393004786
         ],
         "yaxis": "y"
        },
        {
         "hoverinfo": "text",
         "marker": {
          "color": "rgb(0,116,217)"
         },
         "mode": "lines",
         "type": "scatter",
         "x": [
          905,
          905,
          931.875,
          931.875
         ],
         "xaxis": "x",
         "y": [
          0,
          0.03866770698675398,
          0.03866770698675398,
          0.020775120837596875
         ],
         "yaxis": "y"
        },
        {
         "hoverinfo": "text",
         "marker": {
          "color": "rgb(0,116,217)"
         },
         "mode": "lines",
         "type": "scatter",
         "x": [
          985,
          985,
          995,
          995
         ],
         "xaxis": "x",
         "y": [
          0,
          0.010550072632535894,
          0.010550072632535894,
          0
         ],
         "yaxis": "y"
        },
        {
         "hoverinfo": "text",
         "marker": {
          "color": "rgb(0,116,217)"
         },
         "mode": "lines",
         "type": "scatter",
         "x": [
          1005,
          1005,
          1015,
          1015
         ],
         "xaxis": "x",
         "y": [
          0,
          0.0034402828515134854,
          0.0034402828515134854,
          0
         ],
         "yaxis": "y"
        },
        {
         "hoverinfo": "text",
         "marker": {
          "color": "rgb(0,116,217)"
         },
         "mode": "lines",
         "type": "scatter",
         "x": [
          1025,
          1025,
          1035,
          1035
         ],
         "xaxis": "x",
         "y": [
          0,
          0.004770282864485271,
          0.004770282864485271,
          0
         ],
         "yaxis": "y"
        },
        {
         "hoverinfo": "text",
         "marker": {
          "color": "rgb(0,116,217)"
         },
         "mode": "lines",
         "type": "scatter",
         "x": [
          1010,
          1010,
          1030,
          1030
         ],
         "xaxis": "x",
         "y": [
          0.0034402828515134854,
          0.014143655792937545,
          0.014143655792937545,
          0.004770282864485271
         ],
         "yaxis": "y"
        },
        {
         "hoverinfo": "text",
         "marker": {
          "color": "rgb(0,116,217)"
         },
         "mode": "lines",
         "type": "scatter",
         "x": [
          990,
          990,
          1020,
          1020
         ],
         "xaxis": "x",
         "y": [
          0.010550072632535894,
          0.04109686613946055,
          0.04109686613946055,
          0.014143655792937545
         ],
         "yaxis": "y"
        },
        {
         "hoverinfo": "text",
         "marker": {
          "color": "rgb(0,116,217)"
         },
         "mode": "lines",
         "type": "scatter",
         "x": [
          975,
          975,
          1005,
          1005
         ],
         "xaxis": "x",
         "y": [
          0,
          0.043089215863788895,
          0.043089215863788895,
          0.04109686613946055
         ],
         "yaxis": "y"
        },
        {
         "hoverinfo": "text",
         "marker": {
          "color": "rgb(0,116,217)"
         },
         "mode": "lines",
         "type": "scatter",
         "x": [
          918.4375,
          918.4375,
          990,
          990
         ],
         "xaxis": "x",
         "y": [
          0.03866770698675398,
          0.07754622051529314,
          0.07754622051529314,
          0.043089215863788895
         ],
         "yaxis": "y"
        },
        {
         "hoverinfo": "text",
         "marker": {
          "color": "rgb(0,116,217)"
         },
         "mode": "lines",
         "type": "scatter",
         "x": [
          1055,
          1055,
          1065,
          1065
         ],
         "xaxis": "x",
         "y": [
          0,
          0.0038023389856493505,
          0.0038023389856493505,
          0
         ],
         "yaxis": "y"
        },
        {
         "hoverinfo": "text",
         "marker": {
          "color": "rgb(0,116,217)"
         },
         "mode": "lines",
         "type": "scatter",
         "x": [
          1075,
          1075,
          1085,
          1085
         ],
         "xaxis": "x",
         "y": [
          0,
          0.004936898107379405,
          0.004936898107379405,
          0
         ],
         "yaxis": "y"
        },
        {
         "hoverinfo": "text",
         "marker": {
          "color": "rgb(0,116,217)"
         },
         "mode": "lines",
         "type": "scatter",
         "x": [
          1060,
          1060,
          1080,
          1080
         ],
         "xaxis": "x",
         "y": [
          0.0038023389856493505,
          0.010445224563996252,
          0.010445224563996252,
          0.004936898107379405
         ],
         "yaxis": "y"
        },
        {
         "hoverinfo": "text",
         "marker": {
          "color": "rgb(0,116,217)"
         },
         "mode": "lines",
         "type": "scatter",
         "x": [
          1105,
          1105,
          1115,
          1115
         ],
         "xaxis": "x",
         "y": [
          0,
          0.0019900305054801008,
          0.0019900305054801008,
          0
         ],
         "yaxis": "y"
        },
        {
         "hoverinfo": "text",
         "marker": {
          "color": "rgb(0,116,217)"
         },
         "mode": "lines",
         "type": "scatter",
         "x": [
          1095,
          1095,
          1110,
          1110
         ],
         "xaxis": "x",
         "y": [
          0,
          0.010682484966760719,
          0.010682484966760719,
          0.0019900305054801008
         ],
         "yaxis": "y"
        },
        {
         "hoverinfo": "text",
         "marker": {
          "color": "rgb(0,116,217)"
         },
         "mode": "lines",
         "type": "scatter",
         "x": [
          1070,
          1070,
          1102.5,
          1102.5
         ],
         "xaxis": "x",
         "y": [
          0.010445224563996252,
          0.026188352884782787,
          0.026188352884782787,
          0.010682484966760719
         ],
         "yaxis": "y"
        },
        {
         "hoverinfo": "text",
         "marker": {
          "color": "rgb(0,116,217)"
         },
         "mode": "lines",
         "type": "scatter",
         "x": [
          1045,
          1045,
          1086.25,
          1086.25
         ],
         "xaxis": "x",
         "y": [
          0,
          0.04131207925881349,
          0.04131207925881349,
          0.026188352884782787
         ],
         "yaxis": "y"
        },
        {
         "hoverinfo": "text",
         "marker": {
          "color": "rgb(0,116,217)"
         },
         "mode": "lines",
         "type": "scatter",
         "x": [
          1135,
          1135,
          1145,
          1145
         ],
         "xaxis": "x",
         "y": [
          0,
          0.005642671978969062,
          0.005642671978969062,
          0
         ],
         "yaxis": "y"
        },
        {
         "hoverinfo": "text",
         "marker": {
          "color": "rgb(0,116,217)"
         },
         "mode": "lines",
         "type": "scatter",
         "x": [
          1165,
          1165,
          1175,
          1175
         ],
         "xaxis": "x",
         "y": [
          0,
          0.003954042867331998,
          0.003954042867331998,
          0
         ],
         "yaxis": "y"
        },
        {
         "hoverinfo": "text",
         "marker": {
          "color": "rgb(0,116,217)"
         },
         "mode": "lines",
         "type": "scatter",
         "x": [
          1155,
          1155,
          1170,
          1170
         ],
         "xaxis": "x",
         "y": [
          0,
          0.00770479471536922,
          0.00770479471536922,
          0.003954042867331998
         ],
         "yaxis": "y"
        },
        {
         "hoverinfo": "text",
         "marker": {
          "color": "rgb(0,116,217)"
         },
         "mode": "lines",
         "type": "scatter",
         "x": [
          1140,
          1140,
          1162.5,
          1162.5
         ],
         "xaxis": "x",
         "y": [
          0.005642671978969062,
          0.018057664873789698,
          0.018057664873789698,
          0.00770479471536922
         ],
         "yaxis": "y"
        },
        {
         "hoverinfo": "text",
         "marker": {
          "color": "rgb(0,116,217)"
         },
         "mode": "lines",
         "type": "scatter",
         "x": [
          1125,
          1125,
          1151.25,
          1151.25
         ],
         "xaxis": "x",
         "y": [
          0,
          0.04644751911086932,
          0.04644751911086932,
          0.018057664873789698
         ],
         "yaxis": "y"
        },
        {
         "hoverinfo": "text",
         "marker": {
          "color": "rgb(0,116,217)"
         },
         "mode": "lines",
         "type": "scatter",
         "x": [
          1185,
          1185,
          1195,
          1195
         ],
         "xaxis": "x",
         "y": [
          0,
          0.00804656479255146,
          0.00804656479255146,
          0
         ],
         "yaxis": "y"
        },
        {
         "hoverinfo": "text",
         "marker": {
          "color": "rgb(0,116,217)"
         },
         "mode": "lines",
         "type": "scatter",
         "x": [
          1205,
          1205,
          1215,
          1215
         ],
         "xaxis": "x",
         "y": [
          0,
          0.0032564828343126097,
          0.0032564828343126097,
          0
         ],
         "yaxis": "y"
        },
        {
         "hoverinfo": "text",
         "marker": {
          "color": "rgb(0,116,217)"
         },
         "mode": "lines",
         "type": "scatter",
         "x": [
          1225,
          1225,
          1235,
          1235
         ],
         "xaxis": "x",
         "y": [
          0,
          0.0037087042044185057,
          0.0037087042044185057,
          0
         ],
         "yaxis": "y"
        },
        {
         "hoverinfo": "text",
         "marker": {
          "color": "rgb(0,116,217)"
         },
         "mode": "lines",
         "type": "scatter",
         "x": [
          1210,
          1210,
          1230,
          1230
         ],
         "xaxis": "x",
         "y": [
          0.0032564828343126097,
          0.010868468027768087,
          0.010868468027768087,
          0.0037087042044185057
         ],
         "yaxis": "y"
        },
        {
         "hoverinfo": "text",
         "marker": {
          "color": "rgb(0,116,217)"
         },
         "mode": "lines",
         "type": "scatter",
         "x": [
          1255,
          1255,
          1265,
          1265
         ],
         "xaxis": "x",
         "y": [
          0,
          0.0037117198800869842,
          0.0037117198800869842,
          0
         ],
         "yaxis": "y"
        },
        {
         "hoverinfo": "text",
         "marker": {
          "color": "rgb(0,116,217)"
         },
         "mode": "lines",
         "type": "scatter",
         "x": [
          1245,
          1245,
          1260,
          1260
         ],
         "xaxis": "x",
         "y": [
          0,
          0.01619560194673507,
          0.01619560194673507,
          0.0037117198800869842
         ],
         "yaxis": "y"
        },
        {
         "hoverinfo": "text",
         "marker": {
          "color": "rgb(0,116,217)"
         },
         "mode": "lines",
         "type": "scatter",
         "x": [
          1220,
          1220,
          1252.5,
          1252.5
         ],
         "xaxis": "x",
         "y": [
          0.010868468027768087,
          0.03438954403465954,
          0.03438954403465954,
          0.01619560194673507
         ],
         "yaxis": "y"
        },
        {
         "hoverinfo": "text",
         "marker": {
          "color": "rgb(0,116,217)"
         },
         "mode": "lines",
         "type": "scatter",
         "x": [
          1190,
          1190,
          1236.25,
          1236.25
         ],
         "xaxis": "x",
         "y": [
          0.00804656479255146,
          0.05080697373097511,
          0.05080697373097511,
          0.03438954403465954
         ],
         "yaxis": "y"
        },
        {
         "hoverinfo": "text",
         "marker": {
          "color": "rgb(0,116,217)"
         },
         "mode": "lines",
         "type": "scatter",
         "x": [
          1138.125,
          1138.125,
          1213.125,
          1213.125
         ],
         "xaxis": "x",
         "y": [
          0.04644751911086932,
          0.074145573441747,
          0.074145573441747,
          0.05080697373097511
         ],
         "yaxis": "y"
        },
        {
         "hoverinfo": "text",
         "marker": {
          "color": "rgb(0,116,217)"
         },
         "mode": "lines",
         "type": "scatter",
         "x": [
          1065.625,
          1065.625,
          1175.625,
          1175.625
         ],
         "xaxis": "x",
         "y": [
          0.04131207925881349,
          0.10638089831662463,
          0.10638089831662463,
          0.074145573441747
         ],
         "yaxis": "y"
        },
        {
         "hoverinfo": "text",
         "marker": {
          "color": "rgb(0,116,217)"
         },
         "mode": "lines",
         "type": "scatter",
         "x": [
          954.21875,
          954.21875,
          1120.625,
          1120.625
         ],
         "xaxis": "x",
         "y": [
          0.07754622051529314,
          0.1433099551304289,
          0.1433099551304289,
          0.10638089831662463
         ],
         "yaxis": "y"
        },
        {
         "hoverinfo": "text",
         "marker": {
          "color": "rgb(0,116,217)"
         },
         "mode": "lines",
         "type": "scatter",
         "x": [
          690.1171875,
          690.1171875,
          1037.421875,
          1037.421875
         ],
         "xaxis": "x",
         "y": [
          0.11853847705317384,
          0.2354353996731259,
          0.2354353996731259,
          0.1433099551304289
         ],
         "yaxis": "y"
        },
        {
         "hoverinfo": "text",
         "marker": {
          "color": "rgb(0,116,217)"
         },
         "mode": "lines",
         "type": "scatter",
         "x": [
          610,
          610,
          863.76953125,
          863.76953125
         ],
         "xaxis": "x",
         "y": [
          0.1253847747261991,
          0.3262136010815635,
          0.3262136010815635,
          0.2354353996731259
         ],
         "yaxis": "y"
        },
        {
         "hoverinfo": "text",
         "marker": {
          "color": "rgb(0,116,217)"
         },
         "mode": "lines",
         "type": "scatter",
         "x": [
          595,
          595,
          736.884765625,
          736.884765625
         ],
         "xaxis": "x",
         "y": [
          0,
          0.5108647477596255,
          0.5108647477596255,
          0.3262136010815635
         ],
         "yaxis": "y"
        },
        {
         "hoverinfo": "text",
         "marker": {
          "color": "rgb(0,116,217)"
         },
         "mode": "lines",
         "type": "scatter",
         "x": [
          443.33984375,
          443.33984375,
          665.9423828125,
          665.9423828125
         ],
         "xaxis": "x",
         "y": [
          0.4076480776892522,
          0.7109940681524249,
          0.7109940681524249,
          0.5108647477596255
         ],
         "yaxis": "y"
        },
        {
         "hoverinfo": "text",
         "marker": {
          "color": "rgb(0,116,217)"
         },
         "mode": "lines",
         "type": "scatter",
         "x": [
          295,
          295,
          554.64111328125,
          554.64111328125
         ],
         "xaxis": "x",
         "y": [
          0.23916400507872865,
          0.8153740636431759,
          0.8153740636431759,
          0.7109940681524249
         ],
         "yaxis": "y"
        },
        {
         "hoverinfo": "text",
         "marker": {
          "color": "rgb(0,116,217)"
         },
         "mode": "lines",
         "type": "scatter",
         "x": [
          204.375,
          204.375,
          424.820556640625,
          424.820556640625
         ],
         "xaxis": "x",
         "y": [
          0.3081982857238599,
          1.2120438620889387,
          1.2120438620889387,
          0.8153740636431759
         ],
         "yaxis": "y"
        },
        {
         "hoverinfo": "text",
         "marker": {
          "color": "rgb(0,116,217)"
         },
         "mode": "lines",
         "type": "scatter",
         "x": [
          116.5625,
          116.5625,
          314.5977783203125,
          314.5977783203125
         ],
         "xaxis": "x",
         "y": [
          1.0622215256778582,
          1.5786364982943673,
          1.5786364982943673,
          1.2120438620889387
         ],
         "yaxis": "y"
        },
        {
         "hoverinfo": "text",
         "marker": {
          "color": "rgb(0,116,217)"
         },
         "mode": "lines",
         "type": "scatter",
         "x": [
          50,
          50,
          215.58013916015625,
          215.58013916015625
         ],
         "xaxis": "x",
         "y": [
          1.0195754506010073,
          2.0611388387108027,
          2.0611388387108027,
          1.5786364982943673
         ],
         "yaxis": "y"
        },
        {
         "hoverinfo": "text",
         "marker": {
          "color": "rgb(0,116,217)"
         },
         "mode": "lines",
         "type": "scatter",
         "x": [
          1275,
          1275,
          1285,
          1285
         ],
         "xaxis": "x",
         "y": [
          0,
          0.419795117843097,
          0.419795117843097,
          0
         ],
         "yaxis": "y"
        },
        {
         "hoverinfo": "text",
         "marker": {
          "color": "rgb(0,116,217)"
         },
         "mode": "lines",
         "type": "scatter",
         "x": [
          1305,
          1305,
          1315,
          1315
         ],
         "xaxis": "x",
         "y": [
          0,
          0.25791712653704585,
          0.25791712653704585,
          0
         ],
         "yaxis": "y"
        },
        {
         "hoverinfo": "text",
         "marker": {
          "color": "rgb(0,116,217)"
         },
         "mode": "lines",
         "type": "scatter",
         "x": [
          1325,
          1325,
          1335,
          1335
         ],
         "xaxis": "x",
         "y": [
          0,
          0.03988673553485042,
          0.03988673553485042,
          0
         ],
         "yaxis": "y"
        },
        {
         "hoverinfo": "text",
         "marker": {
          "color": "rgb(0,116,217)"
         },
         "mode": "lines",
         "type": "scatter",
         "x": [
          1355,
          1355,
          1365,
          1365
         ],
         "xaxis": "x",
         "y": [
          0,
          0.004591424158976335,
          0.004591424158976335,
          0
         ],
         "yaxis": "y"
        },
        {
         "hoverinfo": "text",
         "marker": {
          "color": "rgb(0,116,217)"
         },
         "mode": "lines",
         "type": "scatter",
         "x": [
          1345,
          1345,
          1360,
          1360
         ],
         "xaxis": "x",
         "y": [
          0,
          0.012803593967505801,
          0.012803593967505801,
          0.004591424158976335
         ],
         "yaxis": "y"
        },
        {
         "hoverinfo": "text",
         "marker": {
          "color": "rgb(0,116,217)"
         },
         "mode": "lines",
         "type": "scatter",
         "x": [
          1385,
          1385,
          1395,
          1395
         ],
         "xaxis": "x",
         "y": [
          0,
          0.00853062219132843,
          0.00853062219132843,
          0
         ],
         "yaxis": "y"
        },
        {
         "hoverinfo": "text",
         "marker": {
          "color": "rgb(0,116,217)"
         },
         "mode": "lines",
         "type": "scatter",
         "x": [
          1375,
          1375,
          1390,
          1390
         ],
         "xaxis": "x",
         "y": [
          0,
          0.01950543455846986,
          0.01950543455846986,
          0.00853062219132843
         ],
         "yaxis": "y"
        },
        {
         "hoverinfo": "text",
         "marker": {
          "color": "rgb(0,116,217)"
         },
         "mode": "lines",
         "type": "scatter",
         "x": [
          1405,
          1405,
          1415,
          1415
         ],
         "xaxis": "x",
         "y": [
          0,
          0.03738307377327442,
          0.03738307377327442,
          0
         ],
         "yaxis": "y"
        },
        {
         "hoverinfo": "text",
         "marker": {
          "color": "rgb(0,116,217)"
         },
         "mode": "lines",
         "type": "scatter",
         "x": [
          1382.5,
          1382.5,
          1410,
          1410
         ],
         "xaxis": "x",
         "y": [
          0.01950543455846986,
          0.05584849416758884,
          0.05584849416758884,
          0.03738307377327442
         ],
         "yaxis": "y"
        },
        {
         "hoverinfo": "text",
         "marker": {
          "color": "rgb(0,116,217)"
         },
         "mode": "lines",
         "type": "scatter",
         "x": [
          1352.5,
          1352.5,
          1396.25,
          1396.25
         ],
         "xaxis": "x",
         "y": [
          0.012803593967505801,
          0.09771660808773372,
          0.09771660808773372,
          0.05584849416758884
         ],
         "yaxis": "y"
        },
        {
         "hoverinfo": "text",
         "marker": {
          "color": "rgb(0,116,217)"
         },
         "mode": "lines",
         "type": "scatter",
         "x": [
          1425,
          1425,
          1435,
          1435
         ],
         "xaxis": "x",
         "y": [
          0,
          0.08326677769052618,
          0.08326677769052618,
          0
         ],
         "yaxis": "y"
        },
        {
         "hoverinfo": "text",
         "marker": {
          "color": "rgb(0,116,217)"
         },
         "mode": "lines",
         "type": "scatter",
         "x": [
          1455,
          1455,
          1465,
          1465
         ],
         "xaxis": "x",
         "y": [
          0,
          0.06130686146708754,
          0.06130686146708754,
          0
         ],
         "yaxis": "y"
        },
        {
         "hoverinfo": "text",
         "marker": {
          "color": "rgb(0,116,217)"
         },
         "mode": "lines",
         "type": "scatter",
         "x": [
          1445,
          1445,
          1460,
          1460
         ],
         "xaxis": "x",
         "y": [
          0,
          0.13311586824365298,
          0.13311586824365298,
          0.06130686146708754
         ],
         "yaxis": "y"
        },
        {
         "hoverinfo": "text",
         "marker": {
          "color": "rgb(0,116,217)"
         },
         "mode": "lines",
         "type": "scatter",
         "x": [
          1430,
          1430,
          1452.5,
          1452.5
         ],
         "xaxis": "x",
         "y": [
          0.08326677769052618,
          0.2830697210163767,
          0.2830697210163767,
          0.13311586824365298
         ],
         "yaxis": "y"
        },
        {
         "hoverinfo": "text",
         "marker": {
          "color": "rgb(0,116,217)"
         },
         "mode": "lines",
         "type": "scatter",
         "x": [
          1374.375,
          1374.375,
          1441.25,
          1441.25
         ],
         "xaxis": "x",
         "y": [
          0.09771660808773372,
          0.39422678093055563,
          0.39422678093055563,
          0.2830697210163767
         ],
         "yaxis": "y"
        },
        {
         "hoverinfo": "text",
         "marker": {
          "color": "rgb(0,116,217)"
         },
         "mode": "lines",
         "type": "scatter",
         "x": [
          1330,
          1330,
          1407.8125,
          1407.8125
         ],
         "xaxis": "x",
         "y": [
          0.03988673553485042,
          0.5799227548836572,
          0.5799227548836572,
          0.39422678093055563
         ],
         "yaxis": "y"
        },
        {
         "hoverinfo": "text",
         "marker": {
          "color": "rgb(0,116,217)"
         },
         "mode": "lines",
         "type": "scatter",
         "x": [
          1310,
          1310,
          1368.90625,
          1368.90625
         ],
         "xaxis": "x",
         "y": [
          0.25791712653704585,
          0.6258752959339196,
          0.6258752959339196,
          0.5799227548836572
         ],
         "yaxis": "y"
        },
        {
         "hoverinfo": "text",
         "marker": {
          "color": "rgb(0,116,217)"
         },
         "mode": "lines",
         "type": "scatter",
         "x": [
          1295,
          1295,
          1339.453125,
          1339.453125
         ],
         "xaxis": "x",
         "y": [
          0,
          0.7666771189518923,
          0.7666771189518923,
          0.6258752959339196
         ],
         "yaxis": "y"
        },
        {
         "hoverinfo": "text",
         "marker": {
          "color": "rgb(0,116,217)"
         },
         "mode": "lines",
         "type": "scatter",
         "x": [
          1280,
          1280,
          1317.2265625,
          1317.2265625
         ],
         "xaxis": "x",
         "y": [
          0.419795117843097,
          1.071024059939115,
          1.071024059939115,
          0.7666771189518923
         ],
         "yaxis": "y"
        },
        {
         "hoverinfo": "text",
         "marker": {
          "color": "rgb(0,116,217)"
         },
         "mode": "lines",
         "type": "scatter",
         "x": [
          1495,
          1495,
          1505,
          1505
         ],
         "xaxis": "x",
         "y": [
          0,
          0.13448153810476307,
          0.13448153810476307,
          0
         ],
         "yaxis": "y"
        },
        {
         "hoverinfo": "text",
         "marker": {
          "color": "rgb(0,116,217)"
         },
         "mode": "lines",
         "type": "scatter",
         "x": [
          1485,
          1485,
          1500,
          1500
         ],
         "xaxis": "x",
         "y": [
          0,
          0.25018429924088675,
          0.25018429924088675,
          0.13448153810476307
         ],
         "yaxis": "y"
        },
        {
         "hoverinfo": "text",
         "marker": {
          "color": "rgb(0,116,217)"
         },
         "mode": "lines",
         "type": "scatter",
         "x": [
          1475,
          1475,
          1492.5,
          1492.5
         ],
         "xaxis": "x",
         "y": [
          0,
          0.6176064107369205,
          0.6176064107369205,
          0.25018429924088675
         ],
         "yaxis": "y"
        },
        {
         "hoverinfo": "text",
         "marker": {
          "color": "rgb(0,116,217)"
         },
         "mode": "lines",
         "type": "scatter",
         "x": [
          1515,
          1515,
          1525,
          1525
         ],
         "xaxis": "x",
         "y": [
          0,
          0.6222255237285315,
          0.6222255237285315,
          0
         ],
         "yaxis": "y"
        },
        {
         "hoverinfo": "text",
         "marker": {
          "color": "rgb(0,116,217)"
         },
         "mode": "lines",
         "type": "scatter",
         "x": [
          1483.75,
          1483.75,
          1520,
          1520
         ],
         "xaxis": "x",
         "y": [
          0.6176064107369205,
          1.3039190621106485,
          1.3039190621106485,
          0.6222255237285315
         ],
         "yaxis": "y"
        },
        {
         "hoverinfo": "text",
         "marker": {
          "color": "rgb(0,116,217)"
         },
         "mode": "lines",
         "type": "scatter",
         "x": [
          1555,
          1555,
          1565,
          1565
         ],
         "xaxis": "x",
         "y": [
          0,
          0.07816061644468295,
          0.07816061644468295,
          0
         ],
         "yaxis": "y"
        },
        {
         "hoverinfo": "text",
         "marker": {
          "color": "rgb(0,116,217)"
         },
         "mode": "lines",
         "type": "scatter",
         "x": [
          1545,
          1545,
          1560,
          1560
         ],
         "xaxis": "x",
         "y": [
          0,
          1.0659321545343141,
          1.0659321545343141,
          0.07816061644468295
         ],
         "yaxis": "y"
        },
        {
         "hoverinfo": "text",
         "marker": {
          "color": "rgb(0,116,217)"
         },
         "mode": "lines",
         "type": "scatter",
         "x": [
          1535,
          1535,
          1552.5,
          1552.5
         ],
         "xaxis": "x",
         "y": [
          0,
          1.673650035711729,
          1.673650035711729,
          1.0659321545343141
         ],
         "yaxis": "y"
        },
        {
         "hoverinfo": "text",
         "marker": {
          "color": "rgb(0,116,217)"
         },
         "mode": "lines",
         "type": "scatter",
         "x": [
          1501.875,
          1501.875,
          1543.75,
          1543.75
         ],
         "xaxis": "x",
         "y": [
          1.3039190621106485,
          2.3785787976272457,
          2.3785787976272457,
          1.673650035711729
         ],
         "yaxis": "y"
        },
        {
         "hoverinfo": "text",
         "marker": {
          "color": "rgb(0,116,217)"
         },
         "mode": "lines",
         "type": "scatter",
         "x": [
          1298.61328125,
          1298.61328125,
          1522.8125,
          1522.8125
         ],
         "xaxis": "x",
         "y": [
          1.071024059939115,
          2.744050560446706,
          2.744050560446706,
          2.3785787976272457
         ],
         "yaxis": "y"
        },
        {
         "hoverinfo": "text",
         "marker": {
          "color": "rgb(0,116,217)"
         },
         "mode": "lines",
         "type": "scatter",
         "x": [
          132.79006958007812,
          132.79006958007812,
          1410.712890625,
          1410.712890625
         ],
         "xaxis": "x",
         "y": [
          2.0611388387108027,
          3.7042341701860035,
          3.7042341701860035,
          2.744050560446706
         ],
         "yaxis": "y"
        },
        {
         "hoverinfo": "text",
         "marker": {
          "color": "rgb(0,116,217)"
         },
         "mode": "lines",
         "type": "scatter",
         "x": [
          5,
          5,
          771.7514801025391,
          771.7514801025391
         ],
         "xaxis": "x",
         "y": [
          0,
          4.5363124078862995,
          4.5363124078862995,
          3.7042341701860035
         ],
         "yaxis": "y"
        },
        {
         "hoverinfo": "text",
         "marker": {
          "color": "rgb(0,116,217)"
         },
         "mode": "lines",
         "type": "scatter",
         "x": [
          1575,
          1575,
          1585,
          1585
         ],
         "xaxis": "x",
         "y": [
          0,
          0.5493787491658734,
          0.5493787491658734,
          0
         ],
         "yaxis": "y"
        },
        {
         "hoverinfo": "text",
         "marker": {
          "color": "rgb(0,116,217)"
         },
         "mode": "lines",
         "type": "scatter",
         "x": [
          1605,
          1605,
          1615,
          1615
         ],
         "xaxis": "x",
         "y": [
          0,
          0.4220857175966665,
          0.4220857175966665,
          0
         ],
         "yaxis": "y"
        },
        {
         "hoverinfo": "text",
         "marker": {
          "color": "rgb(0,116,217)"
         },
         "mode": "lines",
         "type": "scatter",
         "x": [
          1595,
          1595,
          1610,
          1610
         ],
         "xaxis": "x",
         "y": [
          0,
          0.7485850475219826,
          0.7485850475219826,
          0.4220857175966665
         ],
         "yaxis": "y"
        },
        {
         "hoverinfo": "text",
         "marker": {
          "color": "rgb(0,116,217)"
         },
         "mode": "lines",
         "type": "scatter",
         "x": [
          1580,
          1580,
          1602.5,
          1602.5
         ],
         "xaxis": "x",
         "y": [
          0.5493787491658734,
          1.7931712598350673,
          1.7931712598350673,
          0.7485850475219826
         ],
         "yaxis": "y"
        },
        {
         "hoverinfo": "text",
         "marker": {
          "color": "rgb(0,116,217)"
         },
         "mode": "lines",
         "type": "scatter",
         "x": [
          1635,
          1635,
          1645,
          1645
         ],
         "xaxis": "x",
         "y": [
          0,
          0.4075083369203263,
          0.4075083369203263,
          0
         ],
         "yaxis": "y"
        },
        {
         "hoverinfo": "text",
         "marker": {
          "color": "rgb(0,116,217)"
         },
         "mode": "lines",
         "type": "scatter",
         "x": [
          1665,
          1665,
          1675,
          1675
         ],
         "xaxis": "x",
         "y": [
          0,
          0.2823178314965444,
          0.2823178314965444,
          0
         ],
         "yaxis": "y"
        },
        {
         "hoverinfo": "text",
         "marker": {
          "color": "rgb(0,116,217)"
         },
         "mode": "lines",
         "type": "scatter",
         "x": [
          1655,
          1655,
          1670,
          1670
         ],
         "xaxis": "x",
         "y": [
          0,
          0.4690166966970932,
          0.4690166966970932,
          0.2823178314965444
         ],
         "yaxis": "y"
        },
        {
         "hoverinfo": "text",
         "marker": {
          "color": "rgb(0,116,217)"
         },
         "mode": "lines",
         "type": "scatter",
         "x": [
          1640,
          1640,
          1662.5,
          1662.5
         ],
         "xaxis": "x",
         "y": [
          0.4075083369203263,
          0.6699287756414095,
          0.6699287756414095,
          0.4690166966970932
         ],
         "yaxis": "y"
        },
        {
         "hoverinfo": "text",
         "marker": {
          "color": "rgb(0,116,217)"
         },
         "mode": "lines",
         "type": "scatter",
         "x": [
          1685,
          1685,
          1695,
          1695
         ],
         "xaxis": "x",
         "y": [
          0,
          0.1448071503748406,
          0.1448071503748406,
          0
         ],
         "yaxis": "y"
        },
        {
         "hoverinfo": "text",
         "marker": {
          "color": "rgb(0,116,217)"
         },
         "mode": "lines",
         "type": "scatter",
         "x": [
          1715,
          1715,
          1725,
          1725
         ],
         "xaxis": "x",
         "y": [
          0,
          0.1307377488309012,
          0.1307377488309012,
          0
         ],
         "yaxis": "y"
        },
        {
         "hoverinfo": "text",
         "marker": {
          "color": "rgb(0,116,217)"
         },
         "mode": "lines",
         "type": "scatter",
         "x": [
          1705,
          1705,
          1720,
          1720
         ],
         "xaxis": "x",
         "y": [
          0,
          0.19752316044934054,
          0.19752316044934054,
          0.1307377488309012
         ],
         "yaxis": "y"
        },
        {
         "hoverinfo": "text",
         "marker": {
          "color": "rgb(0,116,217)"
         },
         "mode": "lines",
         "type": "scatter",
         "x": [
          1690,
          1690,
          1712.5,
          1712.5
         ],
         "xaxis": "x",
         "y": [
          0.1448071503748406,
          0.38959081246433597,
          0.38959081246433597,
          0.19752316044934054
         ],
         "yaxis": "y"
        },
        {
         "hoverinfo": "text",
         "marker": {
          "color": "rgb(0,116,217)"
         },
         "mode": "lines",
         "type": "scatter",
         "x": [
          1755,
          1755,
          1765,
          1765
         ],
         "xaxis": "x",
         "y": [
          0,
          0.013230188139871615,
          0.013230188139871615,
          0
         ],
         "yaxis": "y"
        },
        {
         "hoverinfo": "text",
         "marker": {
          "color": "rgb(0,116,217)"
         },
         "mode": "lines",
         "type": "scatter",
         "x": [
          1745,
          1745,
          1760,
          1760
         ],
         "xaxis": "x",
         "y": [
          0,
          0.2851863797689164,
          0.2851863797689164,
          0.013230188139871615
         ],
         "yaxis": "y"
        },
        {
         "hoverinfo": "text",
         "marker": {
          "color": "rgb(0,116,217)"
         },
         "mode": "lines",
         "type": "scatter",
         "x": [
          1735,
          1735,
          1752.5,
          1752.5
         ],
         "xaxis": "x",
         "y": [
          0,
          0.41149771189302087,
          0.41149771189302087,
          0.2851863797689164
         ],
         "yaxis": "y"
        },
        {
         "hoverinfo": "text",
         "marker": {
          "color": "rgb(0,116,217)"
         },
         "mode": "lines",
         "type": "scatter",
         "x": [
          1701.25,
          1701.25,
          1743.75,
          1743.75
         ],
         "xaxis": "x",
         "y": [
          0.38959081246433597,
          0.7462052727280764,
          0.7462052727280764,
          0.41149771189302087
         ],
         "yaxis": "y"
        },
        {
         "hoverinfo": "text",
         "marker": {
          "color": "rgb(0,116,217)"
         },
         "mode": "lines",
         "type": "scatter",
         "x": [
          1651.25,
          1651.25,
          1722.5,
          1722.5
         ],
         "xaxis": "x",
         "y": [
          0.6699287756414095,
          0.8880474271574471,
          0.8880474271574471,
          0.7462052727280764
         ],
         "yaxis": "y"
        },
        {
         "hoverinfo": "text",
         "marker": {
          "color": "rgb(0,116,217)"
         },
         "mode": "lines",
         "type": "scatter",
         "x": [
          1785,
          1785,
          1795,
          1795
         ],
         "xaxis": "x",
         "y": [
          0,
          0.223107814611434,
          0.223107814611434,
          0
         ],
         "yaxis": "y"
        },
        {
         "hoverinfo": "text",
         "marker": {
          "color": "rgb(0,116,217)"
         },
         "mode": "lines",
         "type": "scatter",
         "x": [
          1805,
          1805,
          1815,
          1815
         ],
         "xaxis": "x",
         "y": [
          0,
          0.06522699934518848,
          0.06522699934518848,
          0
         ],
         "yaxis": "y"
        },
        {
         "hoverinfo": "text",
         "marker": {
          "color": "rgb(0,116,217)"
         },
         "mode": "lines",
         "type": "scatter",
         "x": [
          1825,
          1825,
          1835,
          1835
         ],
         "xaxis": "x",
         "y": [
          0,
          0.15062292053462537,
          0.15062292053462537,
          0
         ],
         "yaxis": "y"
        },
        {
         "hoverinfo": "text",
         "marker": {
          "color": "rgb(0,116,217)"
         },
         "mode": "lines",
         "type": "scatter",
         "x": [
          1810,
          1810,
          1830,
          1830
         ],
         "xaxis": "x",
         "y": [
          0.06522699934518848,
          0.20012758726773103,
          0.20012758726773103,
          0.15062292053462537
         ],
         "yaxis": "y"
        },
        {
         "hoverinfo": "text",
         "marker": {
          "color": "rgb(0,116,217)"
         },
         "mode": "lines",
         "type": "scatter",
         "x": [
          1845,
          1845,
          1855,
          1855
         ],
         "xaxis": "x",
         "y": [
          0,
          0.061171256904536626,
          0.061171256904536626,
          0
         ],
         "yaxis": "y"
        },
        {
         "hoverinfo": "text",
         "marker": {
          "color": "rgb(0,116,217)"
         },
         "mode": "lines",
         "type": "scatter",
         "x": [
          1865,
          1865,
          1875,
          1875
         ],
         "xaxis": "x",
         "y": [
          0,
          0.1274476243708857,
          0.1274476243708857,
          0
         ],
         "yaxis": "y"
        },
        {
         "hoverinfo": "text",
         "marker": {
          "color": "rgb(0,116,217)"
         },
         "mode": "lines",
         "type": "scatter",
         "x": [
          1850,
          1850,
          1870,
          1870
         ],
         "xaxis": "x",
         "y": [
          0.061171256904536626,
          0.3980787842666334,
          0.3980787842666334,
          0.1274476243708857
         ],
         "yaxis": "y"
        },
        {
         "hoverinfo": "text",
         "marker": {
          "color": "rgb(0,116,217)"
         },
         "mode": "lines",
         "type": "scatter",
         "x": [
          1820,
          1820,
          1860,
          1860
         ],
         "xaxis": "x",
         "y": [
          0.20012758726773103,
          0.5503753630374065,
          0.5503753630374065,
          0.3980787842666334
         ],
         "yaxis": "y"
        },
        {
         "hoverinfo": "text",
         "marker": {
          "color": "rgb(0,116,217)"
         },
         "mode": "lines",
         "type": "scatter",
         "x": [
          1790,
          1790,
          1840,
          1840
         ],
         "xaxis": "x",
         "y": [
          0.223107814611434,
          0.6423864159262547,
          0.6423864159262547,
          0.5503753630374065
         ],
         "yaxis": "y"
        },
        {
         "hoverinfo": "text",
         "marker": {
          "color": "rgb(0,116,217)"
         },
         "mode": "lines",
         "type": "scatter",
         "x": [
          1775,
          1775,
          1815,
          1815
         ],
         "xaxis": "x",
         "y": [
          0,
          1.0640053073117204,
          1.0640053073117204,
          0.6423864159262547
         ],
         "yaxis": "y"
        },
        {
         "hoverinfo": "text",
         "marker": {
          "color": "rgb(0,116,217)"
         },
         "mode": "lines",
         "type": "scatter",
         "x": [
          1686.875,
          1686.875,
          1795,
          1795
         ],
         "xaxis": "x",
         "y": [
          0.8880474271574471,
          1.1171108367011555,
          1.1171108367011555,
          1.0640053073117204
         ],
         "yaxis": "y"
        },
        {
         "hoverinfo": "text",
         "marker": {
          "color": "rgb(0,116,217)"
         },
         "mode": "lines",
         "type": "scatter",
         "x": [
          1625,
          1625,
          1740.9375,
          1740.9375
         ],
         "xaxis": "x",
         "y": [
          0,
          1.2636092470489457,
          1.2636092470489457,
          1.1171108367011555
         ],
         "yaxis": "y"
        },
        {
         "hoverinfo": "text",
         "marker": {
          "color": "rgb(0,116,217)"
         },
         "mode": "lines",
         "type": "scatter",
         "x": [
          1895,
          1895,
          1905,
          1905
         ],
         "xaxis": "x",
         "y": [
          0,
          0.038906118024699086,
          0.038906118024699086,
          0
         ],
         "yaxis": "y"
        },
        {
         "hoverinfo": "text",
         "marker": {
          "color": "rgb(0,116,217)"
         },
         "mode": "lines",
         "type": "scatter",
         "x": [
          1885,
          1885,
          1900,
          1900
         ],
         "xaxis": "x",
         "y": [
          0,
          0.4616318659697458,
          0.4616318659697458,
          0.038906118024699086
         ],
         "yaxis": "y"
        },
        {
         "hoverinfo": "text",
         "marker": {
          "color": "rgb(0,116,217)"
         },
         "mode": "lines",
         "type": "scatter",
         "x": [
          1915,
          1915,
          1925,
          1925
         ],
         "xaxis": "x",
         "y": [
          0,
          0.5492897031584923,
          0.5492897031584923,
          0
         ],
         "yaxis": "y"
        },
        {
         "hoverinfo": "text",
         "marker": {
          "color": "rgb(0,116,217)"
         },
         "mode": "lines",
         "type": "scatter",
         "x": [
          1892.5,
          1892.5,
          1920,
          1920
         ],
         "xaxis": "x",
         "y": [
          0.4616318659697458,
          0.8757078704095455,
          0.8757078704095455,
          0.5492897031584923
         ],
         "yaxis": "y"
        },
        {
         "hoverinfo": "text",
         "marker": {
          "color": "rgb(0,116,217)"
         },
         "mode": "lines",
         "type": "scatter",
         "x": [
          1955,
          1955,
          1965,
          1965
         ],
         "xaxis": "x",
         "y": [
          0,
          0.256117863347492,
          0.256117863347492,
          0
         ],
         "yaxis": "y"
        },
        {
         "hoverinfo": "text",
         "marker": {
          "color": "rgb(0,116,217)"
         },
         "mode": "lines",
         "type": "scatter",
         "x": [
          1945,
          1945,
          1960,
          1960
         ],
         "xaxis": "x",
         "y": [
          0,
          0.7085276644011501,
          0.7085276644011501,
          0.256117863347492
         ],
         "yaxis": "y"
        },
        {
         "hoverinfo": "text",
         "marker": {
          "color": "rgb(0,116,217)"
         },
         "mode": "lines",
         "type": "scatter",
         "x": [
          1935,
          1935,
          1952.5,
          1952.5
         ],
         "xaxis": "x",
         "y": [
          0,
          0.9938770617656439,
          0.9938770617656439,
          0.7085276644011501
         ],
         "yaxis": "y"
        },
        {
         "hoverinfo": "text",
         "marker": {
          "color": "rgb(0,116,217)"
         },
         "mode": "lines",
         "type": "scatter",
         "x": [
          1906.25,
          1906.25,
          1943.75,
          1943.75
         ],
         "xaxis": "x",
         "y": [
          0.8757078704095455,
          1.8949344484829784,
          1.8949344484829784,
          0.9938770617656439
         ],
         "yaxis": "y"
        },
        {
         "hoverinfo": "text",
         "marker": {
          "color": "rgb(0,116,217)"
         },
         "mode": "lines",
         "type": "scatter",
         "x": [
          1682.96875,
          1682.96875,
          1925,
          1925
         ],
         "xaxis": "x",
         "y": [
          1.2636092470489457,
          2.144829711882787,
          2.144829711882787,
          1.8949344484829784
         ],
         "yaxis": "y"
        },
        {
         "hoverinfo": "text",
         "marker": {
          "color": "rgb(0,116,217)"
         },
         "mode": "lines",
         "type": "scatter",
         "x": [
          1591.25,
          1591.25,
          1803.984375,
          1803.984375
         ],
         "xaxis": "x",
         "y": [
          1.7931712598350673,
          2.668626249751741,
          2.668626249751741,
          2.144829711882787
         ],
         "yaxis": "y"
        },
        {
         "hoverinfo": "text",
         "marker": {
          "color": "rgb(0,116,217)"
         },
         "mode": "lines",
         "type": "scatter",
         "x": [
          2005,
          2005,
          2015,
          2015
         ],
         "xaxis": "x",
         "y": [
          0,
          0.004088309898177266,
          0.004088309898177266,
          0
         ],
         "yaxis": "y"
        },
        {
         "hoverinfo": "text",
         "marker": {
          "color": "rgb(0,116,217)"
         },
         "mode": "lines",
         "type": "scatter",
         "x": [
          2035,
          2035,
          2045,
          2045
         ],
         "xaxis": "x",
         "y": [
          0,
          0.0023361024044452187,
          0.0023361024044452187,
          0
         ],
         "yaxis": "y"
        },
        {
         "hoverinfo": "text",
         "marker": {
          "color": "rgb(0,116,217)"
         },
         "mode": "lines",
         "type": "scatter",
         "x": [
          2025,
          2025,
          2040,
          2040
         ],
         "xaxis": "x",
         "y": [
          0,
          0.03192426757235858,
          0.03192426757235858,
          0.0023361024044452187
         ],
         "yaxis": "y"
        },
        {
         "hoverinfo": "text",
         "marker": {
          "color": "rgb(0,116,217)"
         },
         "mode": "lines",
         "type": "scatter",
         "x": [
          2010,
          2010,
          2032.5,
          2032.5
         ],
         "xaxis": "x",
         "y": [
          0.004088309898177266,
          0.0715400891304415,
          0.0715400891304415,
          0.03192426757235858
         ],
         "yaxis": "y"
        },
        {
         "hoverinfo": "text",
         "marker": {
          "color": "rgb(0,116,217)"
         },
         "mode": "lines",
         "type": "scatter",
         "x": [
          1995,
          1995,
          2021.25,
          2021.25
         ],
         "xaxis": "x",
         "y": [
          0,
          0.4667237017536284,
          0.4667237017536284,
          0.0715400891304415
         ],
         "yaxis": "y"
        },
        {
         "hoverinfo": "text",
         "marker": {
          "color": "rgb(0,116,217)"
         },
         "mode": "lines",
         "type": "scatter",
         "x": [
          2075,
          2075,
          2085,
          2085
         ],
         "xaxis": "x",
         "y": [
          0,
          0.03242522669001231,
          0.03242522669001231,
          0
         ],
         "yaxis": "y"
        },
        {
         "hoverinfo": "text",
         "marker": {
          "color": "rgb(0,116,217)"
         },
         "mode": "lines",
         "type": "scatter",
         "x": [
          2095,
          2095,
          2105,
          2105
         ],
         "xaxis": "x",
         "y": [
          0,
          0.028801320211003522,
          0.028801320211003522,
          0
         ],
         "yaxis": "y"
        },
        {
         "hoverinfo": "text",
         "marker": {
          "color": "rgb(0,116,217)"
         },
         "mode": "lines",
         "type": "scatter",
         "x": [
          2115,
          2115,
          2125,
          2125
         ],
         "xaxis": "x",
         "y": [
          0,
          0.047222621109369575,
          0.047222621109369575,
          0
         ],
         "yaxis": "y"
        },
        {
         "hoverinfo": "text",
         "marker": {
          "color": "rgb(0,116,217)"
         },
         "mode": "lines",
         "type": "scatter",
         "x": [
          2100,
          2100,
          2120,
          2120
         ],
         "xaxis": "x",
         "y": [
          0.028801320211003522,
          0.0701460781429564,
          0.0701460781429564,
          0.047222621109369575
         ],
         "yaxis": "y"
        },
        {
         "hoverinfo": "text",
         "marker": {
          "color": "rgb(0,116,217)"
         },
         "mode": "lines",
         "type": "scatter",
         "x": [
          2080,
          2080,
          2110,
          2110
         ],
         "xaxis": "x",
         "y": [
          0.03242522669001231,
          0.13694312688381347,
          0.13694312688381347,
          0.0701460781429564
         ],
         "yaxis": "y"
        },
        {
         "hoverinfo": "text",
         "marker": {
          "color": "rgb(0,116,217)"
         },
         "mode": "lines",
         "type": "scatter",
         "x": [
          2145,
          2145,
          2155,
          2155
         ],
         "xaxis": "x",
         "y": [
          0,
          0.015485069060074672,
          0.015485069060074672,
          0
         ],
         "yaxis": "y"
        },
        {
         "hoverinfo": "text",
         "marker": {
          "color": "rgb(0,116,217)"
         },
         "mode": "lines",
         "type": "scatter",
         "x": [
          2185,
          2185,
          2195,
          2195
         ],
         "xaxis": "x",
         "y": [
          0,
          0.005844662328476615,
          0.005844662328476615,
          0
         ],
         "yaxis": "y"
        },
        {
         "hoverinfo": "text",
         "marker": {
          "color": "rgb(0,116,217)"
         },
         "mode": "lines",
         "type": "scatter",
         "x": [
          2175,
          2175,
          2190,
          2190
         ],
         "xaxis": "x",
         "y": [
          0,
          0.012289268539067618,
          0.012289268539067618,
          0.005844662328476615
         ],
         "yaxis": "y"
        },
        {
         "hoverinfo": "text",
         "marker": {
          "color": "rgb(0,116,217)"
         },
         "mode": "lines",
         "type": "scatter",
         "x": [
          2165,
          2165,
          2182.5,
          2182.5
         ],
         "xaxis": "x",
         "y": [
          0,
          0.025718705865974564,
          0.025718705865974564,
          0.012289268539067618
         ],
         "yaxis": "y"
        },
        {
         "hoverinfo": "text",
         "marker": {
          "color": "rgb(0,116,217)"
         },
         "mode": "lines",
         "type": "scatter",
         "x": [
          2215,
          2215,
          2225,
          2225
         ],
         "xaxis": "x",
         "y": [
          0,
          0.004747079057566266,
          0.004747079057566266,
          0
         ],
         "yaxis": "y"
        },
        {
         "hoverinfo": "text",
         "marker": {
          "color": "rgb(0,116,217)"
         },
         "mode": "lines",
         "type": "scatter",
         "x": [
          2205,
          2205,
          2220,
          2220
         ],
         "xaxis": "x",
         "y": [
          0,
          0.03795788161087935,
          0.03795788161087935,
          0.004747079057566266
         ],
         "yaxis": "y"
        },
        {
         "hoverinfo": "text",
         "marker": {
          "color": "rgb(0,116,217)"
         },
         "mode": "lines",
         "type": "scatter",
         "x": [
          2173.75,
          2173.75,
          2212.5,
          2212.5
         ],
         "xaxis": "x",
         "y": [
          0.025718705865974564,
          0.05015288119264376,
          0.05015288119264376,
          0.03795788161087935
         ],
         "yaxis": "y"
        },
        {
         "hoverinfo": "text",
         "marker": {
          "color": "rgb(0,116,217)"
         },
         "mode": "lines",
         "type": "scatter",
         "x": [
          2150,
          2150,
          2193.125,
          2193.125
         ],
         "xaxis": "x",
         "y": [
          0.015485069060074672,
          0.07852611590444025,
          0.07852611590444025,
          0.05015288119264376
         ],
         "yaxis": "y"
        },
        {
         "hoverinfo": "text",
         "marker": {
          "color": "rgb(0,116,217)"
         },
         "mode": "lines",
         "type": "scatter",
         "x": [
          2245,
          2245,
          2255,
          2255
         ],
         "xaxis": "x",
         "y": [
          0,
          0.013153430791953325,
          0.013153430791953325,
          0
         ],
         "yaxis": "y"
        },
        {
         "hoverinfo": "text",
         "marker": {
          "color": "rgb(0,116,217)"
         },
         "mode": "lines",
         "type": "scatter",
         "x": [
          2235,
          2235,
          2250,
          2250
         ],
         "xaxis": "x",
         "y": [
          0,
          0.03822104514122585,
          0.03822104514122585,
          0.013153430791953325
         ],
         "yaxis": "y"
        },
        {
         "hoverinfo": "text",
         "marker": {
          "color": "rgb(0,116,217)"
         },
         "mode": "lines",
         "type": "scatter",
         "x": [
          2275,
          2275,
          2285,
          2285
         ],
         "xaxis": "x",
         "y": [
          0,
          0.009140165917484235,
          0.009140165917484235,
          0
         ],
         "yaxis": "y"
        },
        {
         "hoverinfo": "text",
         "marker": {
          "color": "rgb(0,116,217)"
         },
         "mode": "lines",
         "type": "scatter",
         "x": [
          2265,
          2265,
          2280,
          2280
         ],
         "xaxis": "x",
         "y": [
          0,
          0.025280172095671453,
          0.025280172095671453,
          0.009140165917484235
         ],
         "yaxis": "y"
        },
        {
         "hoverinfo": "text",
         "marker": {
          "color": "rgb(0,116,217)"
         },
         "mode": "lines",
         "type": "scatter",
         "x": [
          2295,
          2295,
          2305,
          2305
         ],
         "xaxis": "x",
         "y": [
          0,
          0.02768018002232322,
          0.02768018002232322,
          0
         ],
         "yaxis": "y"
        },
        {
         "hoverinfo": "text",
         "marker": {
          "color": "rgb(0,116,217)"
         },
         "mode": "lines",
         "type": "scatter",
         "x": [
          2272.5,
          2272.5,
          2300,
          2300
         ],
         "xaxis": "x",
         "y": [
          0.025280172095671453,
          0.04763807807071861,
          0.04763807807071861,
          0.02768018002232322
         ],
         "yaxis": "y"
        },
        {
         "hoverinfo": "text",
         "marker": {
          "color": "rgb(0,116,217)"
         },
         "mode": "lines",
         "type": "scatter",
         "x": [
          2242.5,
          2242.5,
          2286.25,
          2286.25
         ],
         "xaxis": "x",
         "y": [
          0.03822104514122585,
          0.0864676579805062,
          0.0864676579805062,
          0.04763807807071861
         ],
         "yaxis": "y"
        },
        {
         "hoverinfo": "text",
         "marker": {
          "color": "rgb(0,116,217)"
         },
         "mode": "lines",
         "type": "scatter",
         "x": [
          2171.5625,
          2171.5625,
          2264.375,
          2264.375
         ],
         "xaxis": "x",
         "y": [
          0.07852611590444025,
          0.09746741823739226,
          0.09746741823739226,
          0.0864676579805062
         ],
         "yaxis": "y"
        },
        {
         "hoverinfo": "text",
         "marker": {
          "color": "rgb(0,116,217)"
         },
         "mode": "lines",
         "type": "scatter",
         "x": [
          2335,
          2335,
          2345,
          2345
         ],
         "xaxis": "x",
         "y": [
          0,
          0.0035766669999887507,
          0.0035766669999887507,
          0
         ],
         "yaxis": "y"
        },
        {
         "hoverinfo": "text",
         "marker": {
          "color": "rgb(0,116,217)"
         },
         "mode": "lines",
         "type": "scatter",
         "x": [
          2325,
          2325,
          2340,
          2340
         ],
         "xaxis": "x",
         "y": [
          0,
          0.01665708672774855,
          0.01665708672774855,
          0.0035766669999887507
         ],
         "yaxis": "y"
        },
        {
         "hoverinfo": "text",
         "marker": {
          "color": "rgb(0,116,217)"
         },
         "mode": "lines",
         "type": "scatter",
         "x": [
          2375,
          2375,
          2385,
          2385
         ],
         "xaxis": "x",
         "y": [
          0,
          0.002887984979845711,
          0.002887984979845711,
          0
         ],
         "yaxis": "y"
        },
        {
         "hoverinfo": "text",
         "marker": {
          "color": "rgb(0,116,217)"
         },
         "mode": "lines",
         "type": "scatter",
         "x": [
          2365,
          2365,
          2380,
          2380
         ],
         "xaxis": "x",
         "y": [
          0,
          0.004274928380693919,
          0.004274928380693919,
          0.002887984979845711
         ],
         "yaxis": "y"
        },
        {
         "hoverinfo": "text",
         "marker": {
          "color": "rgb(0,116,217)"
         },
         "mode": "lines",
         "type": "scatter",
         "x": [
          2355,
          2355,
          2372.5,
          2372.5
         ],
         "xaxis": "x",
         "y": [
          0,
          0.019346963465057296,
          0.019346963465057296,
          0.004274928380693919
         ],
         "yaxis": "y"
        },
        {
         "hoverinfo": "text",
         "marker": {
          "color": "rgb(0,116,217)"
         },
         "mode": "lines",
         "type": "scatter",
         "x": [
          2332.5,
          2332.5,
          2363.75,
          2363.75
         ],
         "xaxis": "x",
         "y": [
          0.01665708672774855,
          0.03991381964059807,
          0.03991381964059807,
          0.019346963465057296
         ],
         "yaxis": "y"
        },
        {
         "hoverinfo": "text",
         "marker": {
          "color": "rgb(0,116,217)"
         },
         "mode": "lines",
         "type": "scatter",
         "x": [
          2315,
          2315,
          2348.125,
          2348.125
         ],
         "xaxis": "x",
         "y": [
          0,
          0.047115824756349484,
          0.047115824756349484,
          0.03991381964059807
         ],
         "yaxis": "y"
        },
        {
         "hoverinfo": "text",
         "marker": {
          "color": "rgb(0,116,217)"
         },
         "mode": "lines",
         "type": "scatter",
         "x": [
          2395,
          2395,
          2405,
          2405
         ],
         "xaxis": "x",
         "y": [
          0,
          0.02618721854481138,
          0.02618721854481138,
          0
         ],
         "yaxis": "y"
        },
        {
         "hoverinfo": "text",
         "marker": {
          "color": "rgb(0,116,217)"
         },
         "mode": "lines",
         "type": "scatter",
         "x": [
          2415,
          2415,
          2425,
          2425
         ],
         "xaxis": "x",
         "y": [
          0,
          0.004819748035108944,
          0.004819748035108944,
          0
         ],
         "yaxis": "y"
        },
        {
         "hoverinfo": "text",
         "marker": {
          "color": "rgb(0,116,217)"
         },
         "mode": "lines",
         "type": "scatter",
         "x": [
          2445,
          2445,
          2455,
          2455
         ],
         "xaxis": "x",
         "y": [
          0,
          0.00494758940724557,
          0.00494758940724557,
          0
         ],
         "yaxis": "y"
        },
        {
         "hoverinfo": "text",
         "marker": {
          "color": "rgb(0,116,217)"
         },
         "mode": "lines",
         "type": "scatter",
         "x": [
          2435,
          2435,
          2450,
          2450
         ],
         "xaxis": "x",
         "y": [
          0,
          0.010156924746352396,
          0.010156924746352396,
          0.00494758940724557
         ],
         "yaxis": "y"
        },
        {
         "hoverinfo": "text",
         "marker": {
          "color": "rgb(0,116,217)"
         },
         "mode": "lines",
         "type": "scatter",
         "x": [
          2420,
          2420,
          2442.5,
          2442.5
         ],
         "xaxis": "x",
         "y": [
          0.004819748035108944,
          0.029029145527665143,
          0.029029145527665143,
          0.010156924746352396
         ],
         "yaxis": "y"
        },
        {
         "hoverinfo": "text",
         "marker": {
          "color": "rgb(0,116,217)"
         },
         "mode": "lines",
         "type": "scatter",
         "x": [
          2400,
          2400,
          2431.25,
          2431.25
         ],
         "xaxis": "x",
         "y": [
          0.02618721854481138,
          0.07866656795150467,
          0.07866656795150467,
          0.029029145527665143
         ],
         "yaxis": "y"
        },
        {
         "hoverinfo": "text",
         "marker": {
          "color": "rgb(0,116,217)"
         },
         "mode": "lines",
         "type": "scatter",
         "x": [
          2331.5625,
          2331.5625,
          2415.625,
          2415.625
         ],
         "xaxis": "x",
         "y": [
          0.047115824756349484,
          0.09990330523043017,
          0.09990330523043017,
          0.07866656795150467
         ],
         "yaxis": "y"
        },
        {
         "hoverinfo": "text",
         "marker": {
          "color": "rgb(0,116,217)"
         },
         "mode": "lines",
         "type": "scatter",
         "x": [
          2217.96875,
          2217.96875,
          2373.59375,
          2373.59375
         ],
         "xaxis": "x",
         "y": [
          0.09746741823739226,
          0.19751484270984604,
          0.19751484270984604,
          0.09990330523043017
         ],
         "yaxis": "y"
        },
        {
         "hoverinfo": "text",
         "marker": {
          "color": "rgb(0,116,217)"
         },
         "mode": "lines",
         "type": "scatter",
         "x": [
          2135,
          2135,
          2295.78125,
          2295.78125
         ],
         "xaxis": "x",
         "y": [
          0,
          0.30718442099470816,
          0.30718442099470816,
          0.19751484270984604
         ],
         "yaxis": "y"
        },
        {
         "hoverinfo": "text",
         "marker": {
          "color": "rgb(0,116,217)"
         },
         "mode": "lines",
         "type": "scatter",
         "x": [
          2095,
          2095,
          2215.390625,
          2215.390625
         ],
         "xaxis": "x",
         "y": [
          0.13694312688381347,
          0.41836488695321306,
          0.41836488695321306,
          0.30718442099470816
         ],
         "yaxis": "y"
        },
        {
         "hoverinfo": "text",
         "marker": {
          "color": "rgb(0,116,217)"
         },
         "mode": "lines",
         "type": "scatter",
         "x": [
          2065,
          2065,
          2155.1953125,
          2155.1953125
         ],
         "xaxis": "x",
         "y": [
          0,
          0.47241197690347786,
          0.47241197690347786,
          0.41836488695321306
         ],
         "yaxis": "y"
        },
        {
         "hoverinfo": "text",
         "marker": {
          "color": "rgb(0,116,217)"
         },
         "mode": "lines",
         "type": "scatter",
         "x": [
          2055,
          2055,
          2110.09765625,
          2110.09765625
         ],
         "xaxis": "x",
         "y": [
          0,
          0.7317826211908569,
          0.7317826211908569,
          0.47241197690347786
         ],
         "yaxis": "y"
        },
        {
         "hoverinfo": "text",
         "marker": {
          "color": "rgb(0,116,217)"
         },
         "mode": "lines",
         "type": "scatter",
         "x": [
          2008.125,
          2008.125,
          2082.548828125,
          2082.548828125
         ],
         "xaxis": "x",
         "y": [
          0.4667237017536284,
          0.7916913932847254,
          0.7916913932847254,
          0.7317826211908569
         ],
         "yaxis": "y"
        },
        {
         "hoverinfo": "text",
         "marker": {
          "color": "rgb(0,116,217)"
         },
         "mode": "lines",
         "type": "scatter",
         "x": [
          1985,
          1985,
          2045.3369140625,
          2045.3369140625
         ],
         "xaxis": "x",
         "y": [
          0,
          1.5033009975585676,
          1.5033009975585676,
          0.7916913932847254
         ],
         "yaxis": "y"
        },
        {
         "hoverinfo": "text",
         "marker": {
          "color": "rgb(0,116,217)"
         },
         "mode": "lines",
         "type": "scatter",
         "x": [
          2485,
          2485,
          2495,
          2495
         ],
         "xaxis": "x",
         "y": [
          0,
          0.0027175179152330916,
          0.0027175179152330916,
          0
         ],
         "yaxis": "y"
        },
        {
         "hoverinfo": "text",
         "marker": {
          "color": "rgb(0,116,217)"
         },
         "mode": "lines",
         "type": "scatter",
         "x": [
          2475,
          2475,
          2490,
          2490
         ],
         "xaxis": "x",
         "y": [
          0,
          0.011649221415496801,
          0.011649221415496801,
          0.0027175179152330916
         ],
         "yaxis": "y"
        },
        {
         "hoverinfo": "text",
         "marker": {
          "color": "rgb(0,116,217)"
         },
         "mode": "lines",
         "type": "scatter",
         "x": [
          2465,
          2465,
          2482.5,
          2482.5
         ],
         "xaxis": "x",
         "y": [
          0,
          0.021394940615223637,
          0.021394940615223637,
          0.011649221415496801
         ],
         "yaxis": "y"
        },
        {
         "hoverinfo": "text",
         "marker": {
          "color": "rgb(0,116,217)"
         },
         "mode": "lines",
         "type": "scatter",
         "x": [
          2515,
          2515,
          2525,
          2525
         ],
         "xaxis": "x",
         "y": [
          0,
          0.02401752969793343,
          0.02401752969793343,
          0
         ],
         "yaxis": "y"
        },
        {
         "hoverinfo": "text",
         "marker": {
          "color": "rgb(0,116,217)"
         },
         "mode": "lines",
         "type": "scatter",
         "x": [
          2505,
          2505,
          2520,
          2520
         ],
         "xaxis": "x",
         "y": [
          0,
          0.09677401379054147,
          0.09677401379054147,
          0.02401752969793343
         ],
         "yaxis": "y"
        },
        {
         "hoverinfo": "text",
         "marker": {
          "color": "rgb(0,116,217)"
         },
         "mode": "lines",
         "type": "scatter",
         "x": [
          2473.75,
          2473.75,
          2512.5,
          2512.5
         ],
         "xaxis": "x",
         "y": [
          0.021394940615223637,
          0.1711672316753927,
          0.1711672316753927,
          0.09677401379054147
         ],
         "yaxis": "y"
        },
        {
         "hoverinfo": "text",
         "marker": {
          "color": "rgb(0,116,217)"
         },
         "mode": "lines",
         "type": "scatter",
         "x": [
          2545,
          2545,
          2555,
          2555
         ],
         "xaxis": "x",
         "y": [
          0,
          0.05234009817354367,
          0.05234009817354367,
          0
         ],
         "yaxis": "y"
        },
        {
         "hoverinfo": "text",
         "marker": {
          "color": "rgb(0,116,217)"
         },
         "mode": "lines",
         "type": "scatter",
         "x": [
          2585,
          2585,
          2595,
          2595
         ],
         "xaxis": "x",
         "y": [
          0,
          0.04280018993778446,
          0.04280018993778446,
          0
         ],
         "yaxis": "y"
        },
        {
         "hoverinfo": "text",
         "marker": {
          "color": "rgb(0,116,217)"
         },
         "mode": "lines",
         "type": "scatter",
         "x": [
          2575,
          2575,
          2590,
          2590
         ],
         "xaxis": "x",
         "y": [
          0,
          0.08047785160454585,
          0.08047785160454585,
          0.04280018993778446
         ],
         "yaxis": "y"
        },
        {
         "hoverinfo": "text",
         "marker": {
          "color": "rgb(0,116,217)"
         },
         "mode": "lines",
         "type": "scatter",
         "x": [
          2565,
          2565,
          2582.5,
          2582.5
         ],
         "xaxis": "x",
         "y": [
          0,
          0.13568092106793248,
          0.13568092106793248,
          0.08047785160454585
         ],
         "yaxis": "y"
        },
        {
         "hoverinfo": "text",
         "marker": {
          "color": "rgb(0,116,217)"
         },
         "mode": "lines",
         "type": "scatter",
         "x": [
          2550,
          2550,
          2573.75,
          2573.75
         ],
         "xaxis": "x",
         "y": [
          0.05234009817354367,
          0.18788817404951766,
          0.18788817404951766,
          0.13568092106793248
         ],
         "yaxis": "y"
        },
        {
         "hoverinfo": "text",
         "marker": {
          "color": "rgb(0,116,217)"
         },
         "mode": "lines",
         "type": "scatter",
         "x": [
          2535,
          2535,
          2561.875,
          2561.875
         ],
         "xaxis": "x",
         "y": [
          0,
          0.42377776242545395,
          0.42377776242545395,
          0.18788817404951766
         ],
         "yaxis": "y"
        },
        {
         "hoverinfo": "text",
         "marker": {
          "color": "rgb(0,116,217)"
         },
         "mode": "lines",
         "type": "scatter",
         "x": [
          2493.125,
          2493.125,
          2548.4375,
          2548.4375
         ],
         "xaxis": "x",
         "y": [
          0.1711672316753927,
          1.0044509213496362,
          1.0044509213496362,
          0.42377776242545395
         ],
         "yaxis": "y"
        },
        {
         "hoverinfo": "text",
         "marker": {
          "color": "rgb(0,116,217)"
         },
         "mode": "lines",
         "type": "scatter",
         "x": [
          2615,
          2615,
          2625,
          2625
         ],
         "xaxis": "x",
         "y": [
          0,
          0.17000440811983936,
          0.17000440811983936,
          0
         ],
         "yaxis": "y"
        },
        {
         "hoverinfo": "text",
         "marker": {
          "color": "rgb(0,116,217)"
         },
         "mode": "lines",
         "type": "scatter",
         "x": [
          2605,
          2605,
          2620,
          2620
         ],
         "xaxis": "x",
         "y": [
          0,
          0.4112368465465755,
          0.4112368465465755,
          0.17000440811983936
         ],
         "yaxis": "y"
        },
        {
         "hoverinfo": "text",
         "marker": {
          "color": "rgb(0,116,217)"
         },
         "mode": "lines",
         "type": "scatter",
         "x": [
          2645,
          2645,
          2655,
          2655
         ],
         "xaxis": "x",
         "y": [
          0,
          0.05216028515632012,
          0.05216028515632012,
          0
         ],
         "yaxis": "y"
        },
        {
         "hoverinfo": "text",
         "marker": {
          "color": "rgb(0,116,217)"
         },
         "mode": "lines",
         "type": "scatter",
         "x": [
          2635,
          2635,
          2650,
          2650
         ],
         "xaxis": "x",
         "y": [
          0,
          0.10836447347561791,
          0.10836447347561791,
          0.05216028515632012
         ],
         "yaxis": "y"
        },
        {
         "hoverinfo": "text",
         "marker": {
          "color": "rgb(0,116,217)"
         },
         "mode": "lines",
         "type": "scatter",
         "x": [
          2675,
          2675,
          2685,
          2685
         ],
         "xaxis": "x",
         "y": [
          0,
          0.11651350220668674,
          0.11651350220668674,
          0
         ],
         "yaxis": "y"
        },
        {
         "hoverinfo": "text",
         "marker": {
          "color": "rgb(0,116,217)"
         },
         "mode": "lines",
         "type": "scatter",
         "x": [
          2665,
          2665,
          2680,
          2680
         ],
         "xaxis": "x",
         "y": [
          0,
          0.19468494673052295,
          0.19468494673052295,
          0.11651350220668674
         ],
         "yaxis": "y"
        },
        {
         "hoverinfo": "text",
         "marker": {
          "color": "rgb(0,116,217)"
         },
         "mode": "lines",
         "type": "scatter",
         "x": [
          2725,
          2725,
          2735,
          2735
         ],
         "xaxis": "x",
         "y": [
          0,
          0.02346393066178107,
          0.02346393066178107,
          0
         ],
         "yaxis": "y"
        },
        {
         "hoverinfo": "text",
         "marker": {
          "color": "rgb(0,116,217)"
         },
         "mode": "lines",
         "type": "scatter",
         "x": [
          2715,
          2715,
          2730,
          2730
         ],
         "xaxis": "x",
         "y": [
          0,
          0.04524116705235623,
          0.04524116705235623,
          0.02346393066178107
         ],
         "yaxis": "y"
        },
        {
         "hoverinfo": "text",
         "marker": {
          "color": "rgb(0,116,217)"
         },
         "mode": "lines",
         "type": "scatter",
         "x": [
          2765,
          2765,
          2775,
          2775
         ],
         "xaxis": "x",
         "y": [
          0,
          0.0263457905557175,
          0.0263457905557175,
          0
         ],
         "yaxis": "y"
        },
        {
         "hoverinfo": "text",
         "marker": {
          "color": "rgb(0,116,217)"
         },
         "mode": "lines",
         "type": "scatter",
         "x": [
          2755,
          2755,
          2770,
          2770
         ],
         "xaxis": "x",
         "y": [
          0,
          0.04675501204364015,
          0.04675501204364015,
          0.0263457905557175
         ],
         "yaxis": "y"
        },
        {
         "hoverinfo": "text",
         "marker": {
          "color": "rgb(0,116,217)"
         },
         "mode": "lines",
         "type": "scatter",
         "x": [
          2745,
          2745,
          2762.5,
          2762.5
         ],
         "xaxis": "x",
         "y": [
          0,
          0.07693612168049595,
          0.07693612168049595,
          0.04675501204364015
         ],
         "yaxis": "y"
        },
        {
         "hoverinfo": "text",
         "marker": {
          "color": "rgb(0,116,217)"
         },
         "mode": "lines",
         "type": "scatter",
         "x": [
          2722.5,
          2722.5,
          2753.75,
          2753.75
         ],
         "xaxis": "x",
         "y": [
          0.04524116705235623,
          0.10801898081653004,
          0.10801898081653004,
          0.07693612168049595
         ],
         "yaxis": "y"
        },
        {
         "hoverinfo": "text",
         "marker": {
          "color": "rgb(0,116,217)"
         },
         "mode": "lines",
         "type": "scatter",
         "x": [
          2705,
          2705,
          2738.125,
          2738.125
         ],
         "xaxis": "x",
         "y": [
          0,
          0.1505548983868757,
          0.1505548983868757,
          0.10801898081653004
         ],
         "yaxis": "y"
        },
        {
         "hoverinfo": "text",
         "marker": {
          "color": "rgb(0,116,217)"
         },
         "mode": "lines",
         "type": "scatter",
         "x": [
          2695,
          2695,
          2721.5625,
          2721.5625
         ],
         "xaxis": "x",
         "y": [
          0,
          0.22011681164003832,
          0.22011681164003832,
          0.1505548983868757
         ],
         "yaxis": "y"
        },
        {
         "hoverinfo": "text",
         "marker": {
          "color": "rgb(0,116,217)"
         },
         "mode": "lines",
         "type": "scatter",
         "x": [
          2785,
          2785,
          2795,
          2795
         ],
         "xaxis": "x",
         "y": [
          0,
          0.00420936426021691,
          0.00420936426021691,
          0
         ],
         "yaxis": "y"
        },
        {
         "hoverinfo": "text",
         "marker": {
          "color": "rgb(0,116,217)"
         },
         "mode": "lines",
         "type": "scatter",
         "x": [
          2815,
          2815,
          2825,
          2825
         ],
         "xaxis": "x",
         "y": [
          0,
          0.009487031523804633,
          0.009487031523804633,
          0
         ],
         "yaxis": "y"
        },
        {
         "hoverinfo": "text",
         "marker": {
          "color": "rgb(0,116,217)"
         },
         "mode": "lines",
         "type": "scatter",
         "x": [
          2805,
          2805,
          2820,
          2820
         ],
         "xaxis": "x",
         "y": [
          0,
          0.012693715486719794,
          0.012693715486719794,
          0.009487031523804633
         ],
         "yaxis": "y"
        },
        {
         "hoverinfo": "text",
         "marker": {
          "color": "rgb(0,116,217)"
         },
         "mode": "lines",
         "type": "scatter",
         "x": [
          2845,
          2845,
          2855,
          2855
         ],
         "xaxis": "x",
         "y": [
          0,
          0.0055212884513637355,
          0.0055212884513637355,
          0
         ],
         "yaxis": "y"
        },
        {
         "hoverinfo": "text",
         "marker": {
          "color": "rgb(0,116,217)"
         },
         "mode": "lines",
         "type": "scatter",
         "x": [
          2835,
          2835,
          2850,
          2850
         ],
         "xaxis": "x",
         "y": [
          0,
          0.016296218004196884,
          0.016296218004196884,
          0.0055212884513637355
         ],
         "yaxis": "y"
        },
        {
         "hoverinfo": "text",
         "marker": {
          "color": "rgb(0,116,217)"
         },
         "mode": "lines",
         "type": "scatter",
         "x": [
          2812.5,
          2812.5,
          2842.5,
          2842.5
         ],
         "xaxis": "x",
         "y": [
          0.012693715486719794,
          0.028668865598877807,
          0.028668865598877807,
          0.016296218004196884
         ],
         "yaxis": "y"
        },
        {
         "hoverinfo": "text",
         "marker": {
          "color": "rgb(0,116,217)"
         },
         "mode": "lines",
         "type": "scatter",
         "x": [
          2790,
          2790,
          2827.5,
          2827.5
         ],
         "xaxis": "x",
         "y": [
          0.00420936426021691,
          0.06344698823580011,
          0.06344698823580011,
          0.028668865598877807
         ],
         "yaxis": "y"
        },
        {
         "hoverinfo": "text",
         "marker": {
          "color": "rgb(0,116,217)"
         },
         "mode": "lines",
         "type": "scatter",
         "x": [
          2865,
          2865,
          2875,
          2875
         ],
         "xaxis": "x",
         "y": [
          0,
          0.03218848512128415,
          0.03218848512128415,
          0
         ],
         "yaxis": "y"
        },
        {
         "hoverinfo": "text",
         "marker": {
          "color": "rgb(0,116,217)"
         },
         "mode": "lines",
         "type": "scatter",
         "x": [
          2905,
          2905,
          2915,
          2915
         ],
         "xaxis": "x",
         "y": [
          0,
          0.0043690232745853584,
          0.0043690232745853584,
          0
         ],
         "yaxis": "y"
        },
        {
         "hoverinfo": "text",
         "marker": {
          "color": "rgb(0,116,217)"
         },
         "mode": "lines",
         "type": "scatter",
         "x": [
          2895,
          2895,
          2910,
          2910
         ],
         "xaxis": "x",
         "y": [
          0,
          0.011003472838461502,
          0.011003472838461502,
          0.0043690232745853584
         ],
         "yaxis": "y"
        },
        {
         "hoverinfo": "text",
         "marker": {
          "color": "rgb(0,116,217)"
         },
         "mode": "lines",
         "type": "scatter",
         "x": [
          2885,
          2885,
          2902.5,
          2902.5
         ],
         "xaxis": "x",
         "y": [
          0,
          0.023390131465285298,
          0.023390131465285298,
          0.011003472838461502
         ],
         "yaxis": "y"
        },
        {
         "hoverinfo": "text",
         "marker": {
          "color": "rgb(0,116,217)"
         },
         "mode": "lines",
         "type": "scatter",
         "x": [
          2925,
          2925,
          2935,
          2935
         ],
         "xaxis": "x",
         "y": [
          0,
          0.016117606691588206,
          0.016117606691588206,
          0
         ],
         "yaxis": "y"
        },
        {
         "hoverinfo": "text",
         "marker": {
          "color": "rgb(0,116,217)"
         },
         "mode": "lines",
         "type": "scatter",
         "x": [
          2955,
          2955,
          2965,
          2965
         ],
         "xaxis": "x",
         "y": [
          0,
          0.00363315979833501,
          0.00363315979833501,
          0
         ],
         "yaxis": "y"
        },
        {
         "hoverinfo": "text",
         "marker": {
          "color": "rgb(0,116,217)"
         },
         "mode": "lines",
         "type": "scatter",
         "x": [
          2945,
          2945,
          2960,
          2960
         ],
         "xaxis": "x",
         "y": [
          0,
          0.005633693339562004,
          0.005633693339562004,
          0.00363315979833501
         ],
         "yaxis": "y"
        },
        {
         "hoverinfo": "text",
         "marker": {
          "color": "rgb(0,116,217)"
         },
         "mode": "lines",
         "type": "scatter",
         "x": [
          2975,
          2975,
          2985,
          2985
         ],
         "xaxis": "x",
         "y": [
          0,
          0.008132564077637527,
          0.008132564077637527,
          0
         ],
         "yaxis": "y"
        },
        {
         "hoverinfo": "text",
         "marker": {
          "color": "rgb(0,116,217)"
         },
         "mode": "lines",
         "type": "scatter",
         "x": [
          2952.5,
          2952.5,
          2980,
          2980
         ],
         "xaxis": "x",
         "y": [
          0.005633693339562004,
          0.017043695120352413,
          0.017043695120352413,
          0.008132564077637527
         ],
         "yaxis": "y"
        },
        {
         "hoverinfo": "text",
         "marker": {
          "color": "rgb(0,116,217)"
         },
         "mode": "lines",
         "type": "scatter",
         "x": [
          2930,
          2930,
          2966.25,
          2966.25
         ],
         "xaxis": "x",
         "y": [
          0.016117606691588206,
          0.037018466986872174,
          0.037018466986872174,
          0.017043695120352413
         ],
         "yaxis": "y"
        },
        {
         "hoverinfo": "text",
         "marker": {
          "color": "rgb(0,116,217)"
         },
         "mode": "lines",
         "type": "scatter",
         "x": [
          2893.75,
          2893.75,
          2948.125,
          2948.125
         ],
         "xaxis": "x",
         "y": [
          0.023390131465285298,
          0.0619315846902513,
          0.0619315846902513,
          0.037018466986872174
         ],
         "yaxis": "y"
        },
        {
         "hoverinfo": "text",
         "marker": {
          "color": "rgb(0,116,217)"
         },
         "mode": "lines",
         "type": "scatter",
         "x": [
          2870,
          2870,
          2920.9375,
          2920.9375
         ],
         "xaxis": "x",
         "y": [
          0.03218848512128415,
          0.08161819095924205,
          0.08161819095924205,
          0.0619315846902513
         ],
         "yaxis": "y"
        },
        {
         "hoverinfo": "text",
         "marker": {
          "color": "rgb(0,116,217)"
         },
         "mode": "lines",
         "type": "scatter",
         "x": [
          2808.75,
          2808.75,
          2895.46875,
          2895.46875
         ],
         "xaxis": "x",
         "y": [
          0.06344698823580011,
          0.16321199917808196,
          0.16321199917808196,
          0.08161819095924205
         ],
         "yaxis": "y"
        },
        {
         "hoverinfo": "text",
         "marker": {
          "color": "rgb(0,116,217)"
         },
         "mode": "lines",
         "type": "scatter",
         "x": [
          2995,
          2995,
          3005,
          3005
         ],
         "xaxis": "x",
         "y": [
          0,
          0.03738321497829024,
          0.03738321497829024,
          0
         ],
         "yaxis": "y"
        },
        {
         "hoverinfo": "text",
         "marker": {
          "color": "rgb(0,116,217)"
         },
         "mode": "lines",
         "type": "scatter",
         "x": [
          3015,
          3015,
          3025,
          3025
         ],
         "xaxis": "x",
         "y": [
          0,
          0.019305698498888222,
          0.019305698498888222,
          0
         ],
         "yaxis": "y"
        },
        {
         "hoverinfo": "text",
         "marker": {
          "color": "rgb(0,116,217)"
         },
         "mode": "lines",
         "type": "scatter",
         "x": [
          3035,
          3035,
          3045,
          3045
         ],
         "xaxis": "x",
         "y": [
          0,
          0.009367581757490497,
          0.009367581757490497,
          0
         ],
         "yaxis": "y"
        },
        {
         "hoverinfo": "text",
         "marker": {
          "color": "rgb(0,116,217)"
         },
         "mode": "lines",
         "type": "scatter",
         "x": [
          3055,
          3055,
          3065,
          3065
         ],
         "xaxis": "x",
         "y": [
          0,
          0.008314684953872806,
          0.008314684953872806,
          0
         ],
         "yaxis": "y"
        },
        {
         "hoverinfo": "text",
         "marker": {
          "color": "rgb(0,116,217)"
         },
         "mode": "lines",
         "type": "scatter",
         "x": [
          3075,
          3075,
          3085,
          3085
         ],
         "xaxis": "x",
         "y": [
          0,
          0.0008481585093998662,
          0.0008481585093998662,
          0
         ],
         "yaxis": "y"
        },
        {
         "hoverinfo": "text",
         "marker": {
          "color": "rgb(0,116,217)"
         },
         "mode": "lines",
         "type": "scatter",
         "x": [
          3105,
          3105,
          3115,
          3115
         ],
         "xaxis": "x",
         "y": [
          0,
          0.0029863527408067994,
          0.0029863527408067994,
          0
         ],
         "yaxis": "y"
        },
        {
         "hoverinfo": "text",
         "marker": {
          "color": "rgb(0,116,217)"
         },
         "mode": "lines",
         "type": "scatter",
         "x": [
          3095,
          3095,
          3110,
          3110
         ],
         "xaxis": "x",
         "y": [
          0,
          0.008324296392694209,
          0.008324296392694209,
          0.0029863527408067994
         ],
         "yaxis": "y"
        },
        {
         "hoverinfo": "text",
         "marker": {
          "color": "rgb(0,116,217)"
         },
         "mode": "lines",
         "type": "scatter",
         "x": [
          3080,
          3080,
          3102.5,
          3102.5
         ],
         "xaxis": "x",
         "y": [
          0.0008481585093998662,
          0.013693436395513616,
          0.013693436395513616,
          0.008324296392694209
         ],
         "yaxis": "y"
        },
        {
         "hoverinfo": "text",
         "marker": {
          "color": "rgb(0,116,217)"
         },
         "mode": "lines",
         "type": "scatter",
         "x": [
          3060,
          3060,
          3091.25,
          3091.25
         ],
         "xaxis": "x",
         "y": [
          0.008314684953872806,
          0.017894618972799845,
          0.017894618972799845,
          0.013693436395513616
         ],
         "yaxis": "y"
        },
        {
         "hoverinfo": "text",
         "marker": {
          "color": "rgb(0,116,217)"
         },
         "mode": "lines",
         "type": "scatter",
         "x": [
          3040,
          3040,
          3075.625,
          3075.625
         ],
         "xaxis": "x",
         "y": [
          0.009367581757490497,
          0.03281124117021369,
          0.03281124117021369,
          0.017894618972799845
         ],
         "yaxis": "y"
        },
        {
         "hoverinfo": "text",
         "marker": {
          "color": "rgb(0,116,217)"
         },
         "mode": "lines",
         "type": "scatter",
         "x": [
          3020,
          3020,
          3057.8125,
          3057.8125
         ],
         "xaxis": "x",
         "y": [
          0.019305698498888222,
          0.059211303750566664,
          0.059211303750566664,
          0.03281124117021369
         ],
         "yaxis": "y"
        },
        {
         "hoverinfo": "text",
         "marker": {
          "color": "rgb(0,116,217)"
         },
         "mode": "lines",
         "type": "scatter",
         "x": [
          3125,
          3125,
          3135,
          3135
         ],
         "xaxis": "x",
         "y": [
          0,
          0.02217508472453714,
          0.02217508472453714,
          0
         ],
         "yaxis": "y"
        },
        {
         "hoverinfo": "text",
         "marker": {
          "color": "rgb(0,116,217)"
         },
         "mode": "lines",
         "type": "scatter",
         "x": [
          3165,
          3165,
          3175,
          3175
         ],
         "xaxis": "x",
         "y": [
          0,
          0.007094667353293029,
          0.007094667353293029,
          0
         ],
         "yaxis": "y"
        },
        {
         "hoverinfo": "text",
         "marker": {
          "color": "rgb(0,116,217)"
         },
         "mode": "lines",
         "type": "scatter",
         "x": [
          3155,
          3155,
          3170,
          3170
         ],
         "xaxis": "x",
         "y": [
          0,
          0.010869637372324995,
          0.010869637372324995,
          0.007094667353293029
         ],
         "yaxis": "y"
        },
        {
         "hoverinfo": "text",
         "marker": {
          "color": "rgb(0,116,217)"
         },
         "mode": "lines",
         "type": "scatter",
         "x": [
          3145,
          3145,
          3162.5,
          3162.5
         ],
         "xaxis": "x",
         "y": [
          0,
          0.018944857086601815,
          0.018944857086601815,
          0.010869637372324995
         ],
         "yaxis": "y"
        },
        {
         "hoverinfo": "text",
         "marker": {
          "color": "rgb(0,116,217)"
         },
         "mode": "lines",
         "type": "scatter",
         "x": [
          3195,
          3195,
          3205,
          3205
         ],
         "xaxis": "x",
         "y": [
          0,
          0.009542391363369714,
          0.009542391363369714,
          0
         ],
         "yaxis": "y"
        },
        {
         "hoverinfo": "text",
         "marker": {
          "color": "rgb(0,116,217)"
         },
         "mode": "lines",
         "type": "scatter",
         "x": [
          3185,
          3185,
          3200,
          3200
         ],
         "xaxis": "x",
         "y": [
          0,
          0.01911794029805314,
          0.01911794029805314,
          0.009542391363369714
         ],
         "yaxis": "y"
        },
        {
         "hoverinfo": "text",
         "marker": {
          "color": "rgb(0,116,217)"
         },
         "mode": "lines",
         "type": "scatter",
         "x": [
          3153.75,
          3153.75,
          3192.5,
          3192.5
         ],
         "xaxis": "x",
         "y": [
          0.018944857086601815,
          0.04855336459488427,
          0.04855336459488427,
          0.01911794029805314
         ],
         "yaxis": "y"
        },
        {
         "hoverinfo": "text",
         "marker": {
          "color": "rgb(0,116,217)"
         },
         "mode": "lines",
         "type": "scatter",
         "x": [
          3130,
          3130,
          3173.125,
          3173.125
         ],
         "xaxis": "x",
         "y": [
          0.02217508472453714,
          0.06771396312614751,
          0.06771396312614751,
          0.04855336459488427
         ],
         "yaxis": "y"
        },
        {
         "hoverinfo": "text",
         "marker": {
          "color": "rgb(0,116,217)"
         },
         "mode": "lines",
         "type": "scatter",
         "x": [
          3038.90625,
          3038.90625,
          3151.5625,
          3151.5625
         ],
         "xaxis": "x",
         "y": [
          0.059211303750566664,
          0.1203825481567145,
          0.1203825481567145,
          0.06771396312614751
         ],
         "yaxis": "y"
        },
        {
         "hoverinfo": "text",
         "marker": {
          "color": "rgb(0,116,217)"
         },
         "mode": "lines",
         "type": "scatter",
         "x": [
          3215,
          3215,
          3225,
          3225
         ],
         "xaxis": "x",
         "y": [
          0,
          0.13459432238826372,
          0.13459432238826372,
          0
         ],
         "yaxis": "y"
        },
        {
         "hoverinfo": "text",
         "marker": {
          "color": "rgb(0,116,217)"
         },
         "mode": "lines",
         "type": "scatter",
         "x": [
          3095.234375,
          3095.234375,
          3220,
          3220
         ],
         "xaxis": "x",
         "y": [
          0.1203825481567145,
          0.18772100249599355,
          0.18772100249599355,
          0.13459432238826372
         ],
         "yaxis": "y"
        },
        {
         "hoverinfo": "text",
         "marker": {
          "color": "rgb(0,116,217)"
         },
         "mode": "lines",
         "type": "scatter",
         "x": [
          3000,
          3000,
          3157.6171875,
          3157.6171875
         ],
         "xaxis": "x",
         "y": [
          0.03738321497829024,
          0.2507392740337759,
          0.2507392740337759,
          0.18772100249599355
         ],
         "yaxis": "y"
        },
        {
         "hoverinfo": "text",
         "marker": {
          "color": "rgb(0,116,217)"
         },
         "mode": "lines",
         "type": "scatter",
         "x": [
          2852.109375,
          2852.109375,
          3078.80859375,
          3078.80859375
         ],
         "xaxis": "x",
         "y": [
          0.16321199917808196,
          0.32333315143359614,
          0.32333315143359614,
          0.2507392740337759
         ],
         "yaxis": "y"
        },
        {
         "hoverinfo": "text",
         "marker": {
          "color": "rgb(0,116,217)"
         },
         "mode": "lines",
         "type": "scatter",
         "x": [
          2708.28125,
          2708.28125,
          2965.458984375,
          2965.458984375
         ],
         "xaxis": "x",
         "y": [
          0.22011681164003832,
          0.4939870361885603,
          0.4939870361885603,
          0.32333315143359614
         ],
         "yaxis": "y"
        },
        {
         "hoverinfo": "text",
         "marker": {
          "color": "rgb(0,116,217)"
         },
         "mode": "lines",
         "type": "scatter",
         "x": [
          2672.5,
          2672.5,
          2836.8701171875,
          2836.8701171875
         ],
         "xaxis": "x",
         "y": [
          0.19468494673052295,
          0.5834298412253129,
          0.5834298412253129,
          0.4939870361885603
         ],
         "yaxis": "y"
        },
        {
         "hoverinfo": "text",
         "marker": {
          "color": "rgb(0,116,217)"
         },
         "mode": "lines",
         "type": "scatter",
         "x": [
          2642.5,
          2642.5,
          2754.68505859375,
          2754.68505859375
         ],
         "xaxis": "x",
         "y": [
          0.10836447347561791,
          0.6668911136033465,
          0.6668911136033465,
          0.5834298412253129
         ],
         "yaxis": "y"
        },
        {
         "hoverinfo": "text",
         "marker": {
          "color": "rgb(0,116,217)"
         },
         "mode": "lines",
         "type": "scatter",
         "x": [
          3235,
          3235,
          3245,
          3245
         ],
         "xaxis": "x",
         "y": [
          0,
          0.15733638207553852,
          0.15733638207553852,
          0
         ],
         "yaxis": "y"
        },
        {
         "hoverinfo": "text",
         "marker": {
          "color": "rgb(0,116,217)"
         },
         "mode": "lines",
         "type": "scatter",
         "x": [
          3275,
          3275,
          3285,
          3285
         ],
         "xaxis": "x",
         "y": [
          0,
          0.014430858881773244,
          0.014430858881773244,
          0
         ],
         "yaxis": "y"
        },
        {
         "hoverinfo": "text",
         "marker": {
          "color": "rgb(0,116,217)"
         },
         "mode": "lines",
         "type": "scatter",
         "x": [
          3265,
          3265,
          3280,
          3280
         ],
         "xaxis": "x",
         "y": [
          0,
          0.06695430343432468,
          0.06695430343432468,
          0.014430858881773244
         ],
         "yaxis": "y"
        },
        {
         "hoverinfo": "text",
         "marker": {
          "color": "rgb(0,116,217)"
         },
         "mode": "lines",
         "type": "scatter",
         "x": [
          3255,
          3255,
          3272.5,
          3272.5
         ],
         "xaxis": "x",
         "y": [
          0,
          0.16901886810432137,
          0.16901886810432137,
          0.06695430343432468
         ],
         "yaxis": "y"
        },
        {
         "hoverinfo": "text",
         "marker": {
          "color": "rgb(0,116,217)"
         },
         "mode": "lines",
         "type": "scatter",
         "x": [
          3240,
          3240,
          3263.75,
          3263.75
         ],
         "xaxis": "x",
         "y": [
          0.15733638207553852,
          0.3069327880176268,
          0.3069327880176268,
          0.16901886810432137
         ],
         "yaxis": "y"
        },
        {
         "hoverinfo": "text",
         "marker": {
          "color": "rgb(0,116,217)"
         },
         "mode": "lines",
         "type": "scatter",
         "x": [
          3305,
          3305,
          3315,
          3315
         ],
         "xaxis": "x",
         "y": [
          0,
          0.022962187896085916,
          0.022962187896085916,
          0
         ],
         "yaxis": "y"
        },
        {
         "hoverinfo": "text",
         "marker": {
          "color": "rgb(0,116,217)"
         },
         "mode": "lines",
         "type": "scatter",
         "x": [
          3355,
          3355,
          3365,
          3365
         ],
         "xaxis": "x",
         "y": [
          0,
          0.005558006852149293,
          0.005558006852149293,
          0
         ],
         "yaxis": "y"
        },
        {
         "hoverinfo": "text",
         "marker": {
          "color": "rgb(0,116,217)"
         },
         "mode": "lines",
         "type": "scatter",
         "x": [
          3345,
          3345,
          3360,
          3360
         ],
         "xaxis": "x",
         "y": [
          0,
          0.016784716481796278,
          0.016784716481796278,
          0.005558006852149293
         ],
         "yaxis": "y"
        },
        {
         "hoverinfo": "text",
         "marker": {
          "color": "rgb(0,116,217)"
         },
         "mode": "lines",
         "type": "scatter",
         "x": [
          3335,
          3335,
          3352.5,
          3352.5
         ],
         "xaxis": "x",
         "y": [
          0,
          0.03139192646845149,
          0.03139192646845149,
          0.016784716481796278
         ],
         "yaxis": "y"
        },
        {
         "hoverinfo": "text",
         "marker": {
          "color": "rgb(0,116,217)"
         },
         "mode": "lines",
         "type": "scatter",
         "x": [
          3325,
          3325,
          3343.75,
          3343.75
         ],
         "xaxis": "x",
         "y": [
          0,
          0.04207421943039729,
          0.04207421943039729,
          0.03139192646845149
         ],
         "yaxis": "y"
        },
        {
         "hoverinfo": "text",
         "marker": {
          "color": "rgb(0,116,217)"
         },
         "mode": "lines",
         "type": "scatter",
         "x": [
          3310,
          3310,
          3334.375,
          3334.375
         ],
         "xaxis": "x",
         "y": [
          0.022962187896085916,
          0.06501562482560713,
          0.06501562482560713,
          0.04207421943039729
         ],
         "yaxis": "y"
        },
        {
         "hoverinfo": "text",
         "marker": {
          "color": "rgb(0,116,217)"
         },
         "mode": "lines",
         "type": "scatter",
         "x": [
          3295,
          3295,
          3322.1875,
          3322.1875
         ],
         "xaxis": "x",
         "y": [
          0,
          0.15056933163149175,
          0.15056933163149175,
          0.06501562482560713
         ],
         "yaxis": "y"
        },
        {
         "hoverinfo": "text",
         "marker": {
          "color": "rgb(0,116,217)"
         },
         "mode": "lines",
         "type": "scatter",
         "x": [
          3385,
          3385,
          3395,
          3395
         ],
         "xaxis": "x",
         "y": [
          0,
          0.04382041266905624,
          0.04382041266905624,
          0
         ],
         "yaxis": "y"
        },
        {
         "hoverinfo": "text",
         "marker": {
          "color": "rgb(0,116,217)"
         },
         "mode": "lines",
         "type": "scatter",
         "x": [
          3375,
          3375,
          3390,
          3390
         ],
         "xaxis": "x",
         "y": [
          0,
          0.18616322372025593,
          0.18616322372025593,
          0.04382041266905624
         ],
         "yaxis": "y"
        },
        {
         "hoverinfo": "text",
         "marker": {
          "color": "rgb(0,116,217)"
         },
         "mode": "lines",
         "type": "scatter",
         "x": [
          3308.59375,
          3308.59375,
          3382.5,
          3382.5
         ],
         "xaxis": "x",
         "y": [
          0.15056933163149175,
          0.357778335282402,
          0.357778335282402,
          0.18616322372025593
         ],
         "yaxis": "y"
        },
        {
         "hoverinfo": "text",
         "marker": {
          "color": "rgb(0,116,217)"
         },
         "mode": "lines",
         "type": "scatter",
         "x": [
          3251.875,
          3251.875,
          3345.546875,
          3345.546875
         ],
         "xaxis": "x",
         "y": [
          0.3069327880176268,
          0.5483168245244718,
          0.5483168245244718,
          0.357778335282402
         ],
         "yaxis": "y"
        },
        {
         "hoverinfo": "text",
         "marker": {
          "color": "rgb(0,116,217)"
         },
         "mode": "lines",
         "type": "scatter",
         "x": [
          3415,
          3415,
          3425,
          3425
         ],
         "xaxis": "x",
         "y": [
          0,
          0.0043219545015182525,
          0.0043219545015182525,
          0
         ],
         "yaxis": "y"
        },
        {
         "hoverinfo": "text",
         "marker": {
          "color": "rgb(0,116,217)"
         },
         "mode": "lines",
         "type": "scatter",
         "x": [
          3405,
          3405,
          3420,
          3420
         ],
         "xaxis": "x",
         "y": [
          0,
          0.01680337152772227,
          0.01680337152772227,
          0.0043219545015182525
         ],
         "yaxis": "y"
        },
        {
         "hoverinfo": "text",
         "marker": {
          "color": "rgb(0,116,217)"
         },
         "mode": "lines",
         "type": "scatter",
         "x": [
          3435,
          3435,
          3445,
          3445
         ],
         "xaxis": "x",
         "y": [
          0,
          0.005710763310557178,
          0.005710763310557178,
          0
         ],
         "yaxis": "y"
        },
        {
         "hoverinfo": "text",
         "marker": {
          "color": "rgb(0,116,217)"
         },
         "mode": "lines",
         "type": "scatter",
         "x": [
          3475,
          3475,
          3485,
          3485
         ],
         "xaxis": "x",
         "y": [
          0,
          0.0017924333633019562,
          0.0017924333633019562,
          0
         ],
         "yaxis": "y"
        },
        {
         "hoverinfo": "text",
         "marker": {
          "color": "rgb(0,116,217)"
         },
         "mode": "lines",
         "type": "scatter",
         "x": [
          3465,
          3465,
          3480,
          3480
         ],
         "xaxis": "x",
         "y": [
          0,
          0.0041663925725149995,
          0.0041663925725149995,
          0.0017924333633019562
         ],
         "yaxis": "y"
        },
        {
         "hoverinfo": "text",
         "marker": {
          "color": "rgb(0,116,217)"
         },
         "mode": "lines",
         "type": "scatter",
         "x": [
          3455,
          3455,
          3472.5,
          3472.5
         ],
         "xaxis": "x",
         "y": [
          0,
          0.006387587945231363,
          0.006387587945231363,
          0.0041663925725149995
         ],
         "yaxis": "y"
        },
        {
         "hoverinfo": "text",
         "marker": {
          "color": "rgb(0,116,217)"
         },
         "mode": "lines",
         "type": "scatter",
         "x": [
          3440,
          3440,
          3463.75,
          3463.75
         ],
         "xaxis": "x",
         "y": [
          0.005710763310557178,
          0.017330237849166825,
          0.017330237849166825,
          0.006387587945231363
         ],
         "yaxis": "y"
        },
        {
         "hoverinfo": "text",
         "marker": {
          "color": "rgb(0,116,217)"
         },
         "mode": "lines",
         "type": "scatter",
         "x": [
          3495,
          3495,
          3505,
          3505
         ],
         "xaxis": "x",
         "y": [
          0,
          0.0028023416912568494,
          0.0028023416912568494,
          0
         ],
         "yaxis": "y"
        },
        {
         "hoverinfo": "text",
         "marker": {
          "color": "rgb(0,116,217)"
         },
         "mode": "lines",
         "type": "scatter",
         "x": [
          3515,
          3515,
          3525,
          3525
         ],
         "xaxis": "x",
         "y": [
          0,
          0.010121392229405933,
          0.010121392229405933,
          0
         ],
         "yaxis": "y"
        },
        {
         "hoverinfo": "text",
         "marker": {
          "color": "rgb(0,116,217)"
         },
         "mode": "lines",
         "type": "scatter",
         "x": [
          3500,
          3500,
          3520,
          3520
         ],
         "xaxis": "x",
         "y": [
          0.0028023416912568494,
          0.025922670202248966,
          0.025922670202248966,
          0.010121392229405933
         ],
         "yaxis": "y"
        },
        {
         "hoverinfo": "text",
         "marker": {
          "color": "rgb(0,116,217)"
         },
         "mode": "lines",
         "type": "scatter",
         "x": [
          3451.875,
          3451.875,
          3510,
          3510
         ],
         "xaxis": "x",
         "y": [
          0.017330237849166825,
          0.05051355470717984,
          0.05051355470717984,
          0.025922670202248966
         ],
         "yaxis": "y"
        },
        {
         "hoverinfo": "text",
         "marker": {
          "color": "rgb(0,116,217)"
         },
         "mode": "lines",
         "type": "scatter",
         "x": [
          3412.5,
          3412.5,
          3480.9375,
          3480.9375
         ],
         "xaxis": "x",
         "y": [
          0.01680337152772227,
          0.11009956579728018,
          0.11009956579728018,
          0.05051355470717984
         ],
         "yaxis": "y"
        },
        {
         "hoverinfo": "text",
         "marker": {
          "color": "rgb(0,116,217)"
         },
         "mode": "lines",
         "type": "scatter",
         "x": [
          3545,
          3545,
          3555,
          3555
         ],
         "xaxis": "x",
         "y": [
          0,
          0.003681348395307613,
          0.003681348395307613,
          0
         ],
         "yaxis": "y"
        },
        {
         "hoverinfo": "text",
         "marker": {
          "color": "rgb(0,116,217)"
         },
         "mode": "lines",
         "type": "scatter",
         "x": [
          3535,
          3535,
          3550,
          3550
         ],
         "xaxis": "x",
         "y": [
          0,
          0.02565833604615276,
          0.02565833604615276,
          0.003681348395307613
         ],
         "yaxis": "y"
        },
        {
         "hoverinfo": "text",
         "marker": {
          "color": "rgb(0,116,217)"
         },
         "mode": "lines",
         "type": "scatter",
         "x": [
          3575,
          3575,
          3585,
          3585
         ],
         "xaxis": "x",
         "y": [
          0,
          0.007995244077513215,
          0.007995244077513215,
          0
         ],
         "yaxis": "y"
        },
        {
         "hoverinfo": "text",
         "marker": {
          "color": "rgb(0,116,217)"
         },
         "mode": "lines",
         "type": "scatter",
         "x": [
          3565,
          3565,
          3580,
          3580
         ],
         "xaxis": "x",
         "y": [
          0,
          0.03485979489191095,
          0.03485979489191095,
          0.007995244077513215
         ],
         "yaxis": "y"
        },
        {
         "hoverinfo": "text",
         "marker": {
          "color": "rgb(0,116,217)"
         },
         "mode": "lines",
         "type": "scatter",
         "x": [
          3542.5,
          3542.5,
          3572.5,
          3572.5
         ],
         "xaxis": "x",
         "y": [
          0.02565833604615276,
          0.11317144922857605,
          0.11317144922857605,
          0.03485979489191095
         ],
         "yaxis": "y"
        },
        {
         "hoverinfo": "text",
         "marker": {
          "color": "rgb(0,116,217)"
         },
         "mode": "lines",
         "type": "scatter",
         "x": [
          3446.71875,
          3446.71875,
          3557.5,
          3557.5
         ],
         "xaxis": "x",
         "y": [
          0.11009956579728018,
          0.18878773957524367,
          0.18878773957524367,
          0.11317144922857605
         ],
         "yaxis": "y"
        },
        {
         "hoverinfo": "text",
         "marker": {
          "color": "rgb(0,116,217)"
         },
         "mode": "lines",
         "type": "scatter",
         "x": [
          3605,
          3605,
          3615,
          3615
         ],
         "xaxis": "x",
         "y": [
          0,
          0.24238984080485573,
          0.24238984080485573,
          0
         ],
         "yaxis": "y"
        },
        {
         "hoverinfo": "text",
         "marker": {
          "color": "rgb(0,116,217)"
         },
         "mode": "lines",
         "type": "scatter",
         "x": [
          3595,
          3595,
          3610,
          3610
         ],
         "xaxis": "x",
         "y": [
          0,
          0.26878806491378243,
          0.26878806491378243,
          0.24238984080485573
         ],
         "yaxis": "y"
        },
        {
         "hoverinfo": "text",
         "marker": {
          "color": "rgb(0,116,217)"
         },
         "mode": "lines",
         "type": "scatter",
         "x": [
          3502.109375,
          3502.109375,
          3602.5,
          3602.5
         ],
         "xaxis": "x",
         "y": [
          0.18878773957524367,
          0.6099773032093251,
          0.6099773032093251,
          0.26878806491378243
         ],
         "yaxis": "y"
        },
        {
         "hoverinfo": "text",
         "marker": {
          "color": "rgb(0,116,217)"
         },
         "mode": "lines",
         "type": "scatter",
         "x": [
          3298.7109375,
          3298.7109375,
          3552.3046875,
          3552.3046875
         ],
         "xaxis": "x",
         "y": [
          0.5483168245244718,
          0.9387137662350885,
          0.9387137662350885,
          0.6099773032093251
         ],
         "yaxis": "y"
        },
        {
         "hoverinfo": "text",
         "marker": {
          "color": "rgb(0,116,217)"
         },
         "mode": "lines",
         "type": "scatter",
         "x": [
          2698.592529296875,
          2698.592529296875,
          3425.5078125,
          3425.5078125
         ],
         "xaxis": "x",
         "y": [
          0.6668911136033465,
          1.0678098299946048,
          1.0678098299946048,
          0.9387137662350885
         ],
         "yaxis": "y"
        },
        {
         "hoverinfo": "text",
         "marker": {
          "color": "rgb(0,116,217)"
         },
         "mode": "lines",
         "type": "scatter",
         "x": [
          2612.5,
          2612.5,
          3062.0501708984375,
          3062.0501708984375
         ],
         "xaxis": "x",
         "y": [
          0.4112368465465755,
          1.1392643648499883,
          1.1392643648499883,
          1.0678098299946048
         ],
         "yaxis": "y"
        },
        {
         "hoverinfo": "text",
         "marker": {
          "color": "rgb(0,116,217)"
         },
         "mode": "lines",
         "type": "scatter",
         "x": [
          3645,
          3645,
          3655,
          3655
         ],
         "xaxis": "x",
         "y": [
          0,
          0.013310249271788371,
          0.013310249271788371,
          0
         ],
         "yaxis": "y"
        },
        {
         "hoverinfo": "text",
         "marker": {
          "color": "rgb(0,116,217)"
         },
         "mode": "lines",
         "type": "scatter",
         "x": [
          3665,
          3665,
          3675,
          3675
         ],
         "xaxis": "x",
         "y": [
          0,
          0.039296221509113737,
          0.039296221509113737,
          0
         ],
         "yaxis": "y"
        },
        {
         "hoverinfo": "text",
         "marker": {
          "color": "rgb(0,116,217)"
         },
         "mode": "lines",
         "type": "scatter",
         "x": [
          3650,
          3650,
          3670,
          3670
         ],
         "xaxis": "x",
         "y": [
          0.013310249271788371,
          0.1171409981258455,
          0.1171409981258455,
          0.039296221509113737
         ],
         "yaxis": "y"
        },
        {
         "hoverinfo": "text",
         "marker": {
          "color": "rgb(0,116,217)"
         },
         "mode": "lines",
         "type": "scatter",
         "x": [
          3705,
          3705,
          3715,
          3715
         ],
         "xaxis": "x",
         "y": [
          0,
          0.05634742755687607,
          0.05634742755687607,
          0
         ],
         "yaxis": "y"
        },
        {
         "hoverinfo": "text",
         "marker": {
          "color": "rgb(0,116,217)"
         },
         "mode": "lines",
         "type": "scatter",
         "x": [
          3695,
          3695,
          3710,
          3710
         ],
         "xaxis": "x",
         "y": [
          0,
          0.12320295806316815,
          0.12320295806316815,
          0.05634742755687607
         ],
         "yaxis": "y"
        },
        {
         "hoverinfo": "text",
         "marker": {
          "color": "rgb(0,116,217)"
         },
         "mode": "lines",
         "type": "scatter",
         "x": [
          3685,
          3685,
          3702.5,
          3702.5
         ],
         "xaxis": "x",
         "y": [
          0,
          0.13240617907935998,
          0.13240617907935998,
          0.12320295806316815
         ],
         "yaxis": "y"
        },
        {
         "hoverinfo": "text",
         "marker": {
          "color": "rgb(0,116,217)"
         },
         "mode": "lines",
         "type": "scatter",
         "x": [
          3660,
          3660,
          3693.75,
          3693.75
         ],
         "xaxis": "x",
         "y": [
          0.1171409981258455,
          0.3105565152904876,
          0.3105565152904876,
          0.13240617907935998
         ],
         "yaxis": "y"
        },
        {
         "hoverinfo": "text",
         "marker": {
          "color": "rgb(0,116,217)"
         },
         "mode": "lines",
         "type": "scatter",
         "x": [
          3635,
          3635,
          3676.875,
          3676.875
         ],
         "xaxis": "x",
         "y": [
          0,
          0.5140771163380126,
          0.5140771163380126,
          0.3105565152904876
         ],
         "yaxis": "y"
        },
        {
         "hoverinfo": "text",
         "marker": {
          "color": "rgb(0,116,217)"
         },
         "mode": "lines",
         "type": "scatter",
         "x": [
          3625,
          3625,
          3655.9375,
          3655.9375
         ],
         "xaxis": "x",
         "y": [
          0,
          0.6110386532252139,
          0.6110386532252139,
          0.5140771163380126
         ],
         "yaxis": "y"
        },
        {
         "hoverinfo": "text",
         "marker": {
          "color": "rgb(0,116,217)"
         },
         "mode": "lines",
         "type": "scatter",
         "x": [
          3725,
          3725,
          3735,
          3735
         ],
         "xaxis": "x",
         "y": [
          0,
          0.6059525047134263,
          0.6059525047134263,
          0
         ],
         "yaxis": "y"
        },
        {
         "hoverinfo": "text",
         "marker": {
          "color": "rgb(0,116,217)"
         },
         "mode": "lines",
         "type": "scatter",
         "x": [
          3755,
          3755,
          3765,
          3765
         ],
         "xaxis": "x",
         "y": [
          0,
          0.08246180261360372,
          0.08246180261360372,
          0
         ],
         "yaxis": "y"
        },
        {
         "hoverinfo": "text",
         "marker": {
          "color": "rgb(0,116,217)"
         },
         "mode": "lines",
         "type": "scatter",
         "x": [
          3745,
          3745,
          3760,
          3760
         ],
         "xaxis": "x",
         "y": [
          0,
          0.22982948976254322,
          0.22982948976254322,
          0.08246180261360372
         ],
         "yaxis": "y"
        },
        {
         "hoverinfo": "text",
         "marker": {
          "color": "rgb(0,116,217)"
         },
         "mode": "lines",
         "type": "scatter",
         "x": [
          3775,
          3775,
          3785,
          3785
         ],
         "xaxis": "x",
         "y": [
          0,
          0.0340346113815524,
          0.0340346113815524,
          0
         ],
         "yaxis": "y"
        },
        {
         "hoverinfo": "text",
         "marker": {
          "color": "rgb(0,116,217)"
         },
         "mode": "lines",
         "type": "scatter",
         "x": [
          3795,
          3795,
          3805,
          3805
         ],
         "xaxis": "x",
         "y": [
          0,
          0.06565225184471576,
          0.06565225184471576,
          0
         ],
         "yaxis": "y"
        },
        {
         "hoverinfo": "text",
         "marker": {
          "color": "rgb(0,116,217)"
         },
         "mode": "lines",
         "type": "scatter",
         "x": [
          3780,
          3780,
          3800,
          3800
         ],
         "xaxis": "x",
         "y": [
          0.0340346113815524,
          0.1448877385255957,
          0.1448877385255957,
          0.06565225184471576
         ],
         "yaxis": "y"
        },
        {
         "hoverinfo": "text",
         "marker": {
          "color": "rgb(0,116,217)"
         },
         "mode": "lines",
         "type": "scatter",
         "x": [
          3825,
          3825,
          3835,
          3835
         ],
         "xaxis": "x",
         "y": [
          0,
          0.01174560216832042,
          0.01174560216832042,
          0
         ],
         "yaxis": "y"
        },
        {
         "hoverinfo": "text",
         "marker": {
          "color": "rgb(0,116,217)"
         },
         "mode": "lines",
         "type": "scatter",
         "x": [
          3855,
          3855,
          3865,
          3865
         ],
         "xaxis": "x",
         "y": [
          0,
          0.003150526859911156,
          0.003150526859911156,
          0
         ],
         "yaxis": "y"
        },
        {
         "hoverinfo": "text",
         "marker": {
          "color": "rgb(0,116,217)"
         },
         "mode": "lines",
         "type": "scatter",
         "x": [
          3845,
          3845,
          3860,
          3860
         ],
         "xaxis": "x",
         "y": [
          0,
          0.008121617411262463,
          0.008121617411262463,
          0.003150526859911156
         ],
         "yaxis": "y"
        },
        {
         "hoverinfo": "text",
         "marker": {
          "color": "rgb(0,116,217)"
         },
         "mode": "lines",
         "type": "scatter",
         "x": [
          3875,
          3875,
          3885,
          3885
         ],
         "xaxis": "x",
         "y": [
          0,
          0.009086946466145763,
          0.009086946466145763,
          0
         ],
         "yaxis": "y"
        },
        {
         "hoverinfo": "text",
         "marker": {
          "color": "rgb(0,116,217)"
         },
         "mode": "lines",
         "type": "scatter",
         "x": [
          3852.5,
          3852.5,
          3880,
          3880
         ],
         "xaxis": "x",
         "y": [
          0.008121617411262463,
          0.02501256937077384,
          0.02501256937077384,
          0.009086946466145763
         ],
         "yaxis": "y"
        },
        {
         "hoverinfo": "text",
         "marker": {
          "color": "rgb(0,116,217)"
         },
         "mode": "lines",
         "type": "scatter",
         "x": [
          3830,
          3830,
          3866.25,
          3866.25
         ],
         "xaxis": "x",
         "y": [
          0.01174560216832042,
          0.08127623278996479,
          0.08127623278996479,
          0.02501256937077384
         ],
         "yaxis": "y"
        },
        {
         "hoverinfo": "text",
         "marker": {
          "color": "rgb(0,116,217)"
         },
         "mode": "lines",
         "type": "scatter",
         "x": [
          3925,
          3925,
          3935,
          3935
         ],
         "xaxis": "x",
         "y": [
          0,
          0.002770212202783108,
          0.002770212202783108,
          0
         ],
         "yaxis": "y"
        },
        {
         "hoverinfo": "text",
         "marker": {
          "color": "rgb(0,116,217)"
         },
         "mode": "lines",
         "type": "scatter",
         "x": [
          3915,
          3915,
          3930,
          3930
         ],
         "xaxis": "x",
         "y": [
          0,
          0.007796180931724576,
          0.007796180931724576,
          0.002770212202783108
         ],
         "yaxis": "y"
        },
        {
         "hoverinfo": "text",
         "marker": {
          "color": "rgb(0,116,217)"
         },
         "mode": "lines",
         "type": "scatter",
         "x": [
          3905,
          3905,
          3922.5,
          3922.5
         ],
         "xaxis": "x",
         "y": [
          0,
          0.013521249525410934,
          0.013521249525410934,
          0.007796180931724576
         ],
         "yaxis": "y"
        },
        {
         "hoverinfo": "text",
         "marker": {
          "color": "rgb(0,116,217)"
         },
         "mode": "lines",
         "type": "scatter",
         "x": [
          3895,
          3895,
          3913.75,
          3913.75
         ],
         "xaxis": "x",
         "y": [
          0,
          0.02219658866614209,
          0.02219658866614209,
          0.013521249525410934
         ],
         "yaxis": "y"
        },
        {
         "hoverinfo": "text",
         "marker": {
          "color": "rgb(0,116,217)"
         },
         "mode": "lines",
         "type": "scatter",
         "x": [
          3955,
          3955,
          3965,
          3965
         ],
         "xaxis": "x",
         "y": [
          0,
          0.012181592426662067,
          0.012181592426662067,
          0
         ],
         "yaxis": "y"
        },
        {
         "hoverinfo": "text",
         "marker": {
          "color": "rgb(0,116,217)"
         },
         "mode": "lines",
         "type": "scatter",
         "x": [
          3945,
          3945,
          3960,
          3960
         ],
         "xaxis": "x",
         "y": [
          0,
          0.040852920808788634,
          0.040852920808788634,
          0.012181592426662067
         ],
         "yaxis": "y"
        },
        {
         "hoverinfo": "text",
         "marker": {
          "color": "rgb(0,116,217)"
         },
         "mode": "lines",
         "type": "scatter",
         "x": [
          3904.375,
          3904.375,
          3952.5,
          3952.5
         ],
         "xaxis": "x",
         "y": [
          0.02219658866614209,
          0.05648455209130094,
          0.05648455209130094,
          0.040852920808788634
         ],
         "yaxis": "y"
        },
        {
         "hoverinfo": "text",
         "marker": {
          "color": "rgb(0,116,217)"
         },
         "mode": "lines",
         "type": "scatter",
         "x": [
          3975,
          3975,
          3985,
          3985
         ],
         "xaxis": "x",
         "y": [
          0,
          0.004933388640596953,
          0.004933388640596953,
          0
         ],
         "yaxis": "y"
        },
        {
         "hoverinfo": "text",
         "marker": {
          "color": "rgb(0,116,217)"
         },
         "mode": "lines",
         "type": "scatter",
         "x": [
          3995,
          3995,
          4005,
          4005
         ],
         "xaxis": "x",
         "y": [
          0,
          0.010732338265335258,
          0.010732338265335258,
          0
         ],
         "yaxis": "y"
        },
        {
         "hoverinfo": "text",
         "marker": {
          "color": "rgb(0,116,217)"
         },
         "mode": "lines",
         "type": "scatter",
         "x": [
          3980,
          3980,
          4000,
          4000
         ],
         "xaxis": "x",
         "y": [
          0.004933388640596953,
          0.020107868464180376,
          0.020107868464180376,
          0.010732338265335258
         ],
         "yaxis": "y"
        },
        {
         "hoverinfo": "text",
         "marker": {
          "color": "rgb(0,116,217)"
         },
         "mode": "lines",
         "type": "scatter",
         "x": [
          4015,
          4015,
          4025,
          4025
         ],
         "xaxis": "x",
         "y": [
          0,
          0.03854526572023688,
          0.03854526572023688,
          0
         ],
         "yaxis": "y"
        },
        {
         "hoverinfo": "text",
         "marker": {
          "color": "rgb(0,116,217)"
         },
         "mode": "lines",
         "type": "scatter",
         "x": [
          3990,
          3990,
          4020,
          4020
         ],
         "xaxis": "x",
         "y": [
          0.020107868464180376,
          0.05981337991792439,
          0.05981337991792439,
          0.03854526572023688
         ],
         "yaxis": "y"
        },
        {
         "hoverinfo": "text",
         "marker": {
          "color": "rgb(0,116,217)"
         },
         "mode": "lines",
         "type": "scatter",
         "x": [
          3928.4375,
          3928.4375,
          4005,
          4005
         ],
         "xaxis": "x",
         "y": [
          0.05648455209130094,
          0.10543924087609047,
          0.10543924087609047,
          0.05981337991792439
         ],
         "yaxis": "y"
        },
        {
         "hoverinfo": "text",
         "marker": {
          "color": "rgb(0,116,217)"
         },
         "mode": "lines",
         "type": "scatter",
         "x": [
          3848.125,
          3848.125,
          3966.71875,
          3966.71875
         ],
         "xaxis": "x",
         "y": [
          0.08127623278996479,
          0.22947553217958333,
          0.22947553217958333,
          0.10543924087609047
         ],
         "yaxis": "y"
        },
        {
         "hoverinfo": "text",
         "marker": {
          "color": "rgb(0,116,217)"
         },
         "mode": "lines",
         "type": "scatter",
         "x": [
          3815,
          3815,
          3907.421875,
          3907.421875
         ],
         "xaxis": "x",
         "y": [
          0,
          0.4558464054262393,
          0.4558464054262393,
          0.22947553217958333
         ],
         "yaxis": "y"
        },
        {
         "hoverinfo": "text",
         "marker": {
          "color": "rgb(0,116,217)"
         },
         "mode": "lines",
         "type": "scatter",
         "x": [
          3790,
          3790,
          3861.2109375,
          3861.2109375
         ],
         "xaxis": "x",
         "y": [
          0.1448877385255957,
          0.4890075121746139,
          0.4890075121746139,
          0.4558464054262393
         ],
         "yaxis": "y"
        },
        {
         "hoverinfo": "text",
         "marker": {
          "color": "rgb(0,116,217)"
         },
         "mode": "lines",
         "type": "scatter",
         "x": [
          3752.5,
          3752.5,
          3825.60546875,
          3825.60546875
         ],
         "xaxis": "x",
         "y": [
          0.22982948976254322,
          0.7093848799524558,
          0.7093848799524558,
          0.4890075121746139
         ],
         "yaxis": "y"
        },
        {
         "hoverinfo": "text",
         "marker": {
          "color": "rgb(0,116,217)"
         },
         "mode": "lines",
         "type": "scatter",
         "x": [
          3730,
          3730,
          3789.052734375,
          3789.052734375
         ],
         "xaxis": "x",
         "y": [
          0.6059525047134263,
          1.0424472125796105,
          1.0424472125796105,
          0.7093848799524558
         ],
         "yaxis": "y"
        },
        {
         "hoverinfo": "text",
         "marker": {
          "color": "rgb(0,116,217)"
         },
         "mode": "lines",
         "type": "scatter",
         "x": [
          3640.46875,
          3640.46875,
          3759.5263671875,
          3759.5263671875
         ],
         "xaxis": "x",
         "y": [
          0.6110386532252139,
          1.2110585629676236,
          1.2110585629676236,
          1.0424472125796105
         ],
         "yaxis": "y"
        },
        {
         "hoverinfo": "text",
         "marker": {
          "color": "rgb(0,116,217)"
         },
         "mode": "lines",
         "type": "scatter",
         "x": [
          2837.2750854492188,
          2837.2750854492188,
          3699.99755859375,
          3699.99755859375
         ],
         "xaxis": "x",
         "y": [
          1.1392643648499883,
          1.8701607617202043,
          1.8701607617202043,
          1.2110585629676236
         ],
         "yaxis": "y"
        },
        {
         "hoverinfo": "text",
         "marker": {
          "color": "rgb(0,116,217)"
         },
         "mode": "lines",
         "type": "scatter",
         "x": [
          2520.78125,
          2520.78125,
          3268.6363220214844,
          3268.6363220214844
         ],
         "xaxis": "x",
         "y": [
          1.0044509213496362,
          2.0864083902092614,
          2.0864083902092614,
          1.8701607617202043
         ],
         "yaxis": "y"
        },
        {
         "hoverinfo": "text",
         "marker": {
          "color": "rgb(0,116,217)"
         },
         "mode": "lines",
         "type": "scatter",
         "x": [
          2015.16845703125,
          2015.16845703125,
          2894.708786010742,
          2894.708786010742
         ],
         "xaxis": "x",
         "y": [
          1.5033009975585676,
          2.4173591554691147,
          2.4173591554691147,
          2.0864083902092614
         ],
         "yaxis": "y"
        },
        {
         "hoverinfo": "text",
         "marker": {
          "color": "rgb(0,116,217)"
         },
         "mode": "lines",
         "type": "scatter",
         "x": [
          1975,
          1975,
          2454.938621520996,
          2454.938621520996
         ],
         "xaxis": "x",
         "y": [
          0,
          3.1233442659089548,
          3.1233442659089548,
          2.4173591554691147
         ],
         "yaxis": "y"
        },
        {
         "hoverinfo": "text",
         "marker": {
          "color": "rgb(0,116,217)"
         },
         "mode": "lines",
         "type": "scatter",
         "x": [
          1697.6171875,
          1697.6171875,
          2214.969310760498,
          2214.969310760498
         ],
         "xaxis": "x",
         "y": [
          2.668626249751741,
          3.855197899582591,
          3.855197899582591,
          3.1233442659089548
         ],
         "yaxis": "y"
        },
        {
         "hoverinfo": "text",
         "marker": {
          "color": "rgb(0,116,217)"
         },
         "mode": "lines",
         "type": "scatter",
         "x": [
          4045,
          4045,
          4055,
          4055
         ],
         "xaxis": "x",
         "y": [
          0,
          0.4025246576264939,
          0.4025246576264939,
          0
         ],
         "yaxis": "y"
        },
        {
         "hoverinfo": "text",
         "marker": {
          "color": "rgb(0,116,217)"
         },
         "mode": "lines",
         "type": "scatter",
         "x": [
          4085,
          4085,
          4095,
          4095
         ],
         "xaxis": "x",
         "y": [
          0,
          0.03595951951444358,
          0.03595951951444358,
          0
         ],
         "yaxis": "y"
        },
        {
         "hoverinfo": "text",
         "marker": {
          "color": "rgb(0,116,217)"
         },
         "mode": "lines",
         "type": "scatter",
         "x": [
          4075,
          4075,
          4090,
          4090
         ],
         "xaxis": "x",
         "y": [
          0,
          0.09083003550898604,
          0.09083003550898604,
          0.03595951951444358
         ],
         "yaxis": "y"
        },
        {
         "hoverinfo": "text",
         "marker": {
          "color": "rgb(0,116,217)"
         },
         "mode": "lines",
         "type": "scatter",
         "x": [
          4065,
          4065,
          4082.5,
          4082.5
         ],
         "xaxis": "x",
         "y": [
          0,
          0.4045891961936823,
          0.4045891961936823,
          0.09083003550898604
         ],
         "yaxis": "y"
        },
        {
         "hoverinfo": "text",
         "marker": {
          "color": "rgb(0,116,217)"
         },
         "mode": "lines",
         "type": "scatter",
         "x": [
          4050,
          4050,
          4073.75,
          4073.75
         ],
         "xaxis": "x",
         "y": [
          0.4025246576264939,
          0.8658931816730558,
          0.8658931816730558,
          0.4045891961936823
         ],
         "yaxis": "y"
        },
        {
         "hoverinfo": "text",
         "marker": {
          "color": "rgb(0,116,217)"
         },
         "mode": "lines",
         "type": "scatter",
         "x": [
          4035,
          4035,
          4061.875,
          4061.875
         ],
         "xaxis": "x",
         "y": [
          0,
          0.9700943596368286,
          0.9700943596368286,
          0.8658931816730558
         ],
         "yaxis": "y"
        },
        {
         "hoverinfo": "text",
         "marker": {
          "color": "rgb(0,116,217)"
         },
         "mode": "lines",
         "type": "scatter",
         "x": [
          4125,
          4125,
          4135,
          4135
         ],
         "xaxis": "x",
         "y": [
          0,
          0.05621667594040247,
          0.05621667594040247,
          0
         ],
         "yaxis": "y"
        },
        {
         "hoverinfo": "text",
         "marker": {
          "color": "rgb(0,116,217)"
         },
         "mode": "lines",
         "type": "scatter",
         "x": [
          4115,
          4115,
          4130,
          4130
         ],
         "xaxis": "x",
         "y": [
          0,
          0.14502901538669224,
          0.14502901538669224,
          0.05621667594040247
         ],
         "yaxis": "y"
        },
        {
         "hoverinfo": "text",
         "marker": {
          "color": "rgb(0,116,217)"
         },
         "mode": "lines",
         "type": "scatter",
         "x": [
          4105,
          4105,
          4122.5,
          4122.5
         ],
         "xaxis": "x",
         "y": [
          0,
          0.2888987589376599,
          0.2888987589376599,
          0.14502901538669224
         ],
         "yaxis": "y"
        },
        {
         "hoverinfo": "text",
         "marker": {
          "color": "rgb(0,116,217)"
         },
         "mode": "lines",
         "type": "scatter",
         "x": [
          4145,
          4145,
          4155,
          4155
         ],
         "xaxis": "x",
         "y": [
          0,
          0.02106526463926342,
          0.02106526463926342,
          0
         ],
         "yaxis": "y"
        },
        {
         "hoverinfo": "text",
         "marker": {
          "color": "rgb(0,116,217)"
         },
         "mode": "lines",
         "type": "scatter",
         "x": [
          4175,
          4175,
          4185,
          4185
         ],
         "xaxis": "x",
         "y": [
          0,
          0.038218282958671426,
          0.038218282958671426,
          0
         ],
         "yaxis": "y"
        },
        {
         "hoverinfo": "text",
         "marker": {
          "color": "rgb(0,116,217)"
         },
         "mode": "lines",
         "type": "scatter",
         "x": [
          4165,
          4165,
          4180,
          4180
         ],
         "xaxis": "x",
         "y": [
          0,
          0.0581331304862216,
          0.0581331304862216,
          0.038218282958671426
         ],
         "yaxis": "y"
        },
        {
         "hoverinfo": "text",
         "marker": {
          "color": "rgb(0,116,217)"
         },
         "mode": "lines",
         "type": "scatter",
         "x": [
          4150,
          4150,
          4172.5,
          4172.5
         ],
         "xaxis": "x",
         "y": [
          0.02106526463926342,
          0.147831869190138,
          0.147831869190138,
          0.0581331304862216
         ],
         "yaxis": "y"
        },
        {
         "hoverinfo": "text",
         "marker": {
          "color": "rgb(0,116,217)"
         },
         "mode": "lines",
         "type": "scatter",
         "x": [
          4195,
          4195,
          4205,
          4205
         ],
         "xaxis": "x",
         "y": [
          0,
          0.043199846102613015,
          0.043199846102613015,
          0
         ],
         "yaxis": "y"
        },
        {
         "hoverinfo": "text",
         "marker": {
          "color": "rgb(0,116,217)"
         },
         "mode": "lines",
         "type": "scatter",
         "x": [
          4215,
          4215,
          4225,
          4225
         ],
         "xaxis": "x",
         "y": [
          0,
          0.022625984419703024,
          0.022625984419703024,
          0
         ],
         "yaxis": "y"
        },
        {
         "hoverinfo": "text",
         "marker": {
          "color": "rgb(0,116,217)"
         },
         "mode": "lines",
         "type": "scatter",
         "x": [
          4235,
          4235,
          4245,
          4245
         ],
         "xaxis": "x",
         "y": [
          0,
          0.03258347488038492,
          0.03258347488038492,
          0
         ],
         "yaxis": "y"
        },
        {
         "hoverinfo": "text",
         "marker": {
          "color": "rgb(0,116,217)"
         },
         "mode": "lines",
         "type": "scatter",
         "x": [
          4220,
          4220,
          4240,
          4240
         ],
         "xaxis": "x",
         "y": [
          0.022625984419703024,
          0.07851595253379627,
          0.07851595253379627,
          0.03258347488038492
         ],
         "yaxis": "y"
        },
        {
         "hoverinfo": "text",
         "marker": {
          "color": "rgb(0,116,217)"
         },
         "mode": "lines",
         "type": "scatter",
         "x": [
          4200,
          4200,
          4230,
          4230
         ],
         "xaxis": "x",
         "y": [
          0.043199846102613015,
          0.18710533988443676,
          0.18710533988443676,
          0.07851595253379627
         ],
         "yaxis": "y"
        },
        {
         "hoverinfo": "text",
         "marker": {
          "color": "rgb(0,116,217)"
         },
         "mode": "lines",
         "type": "scatter",
         "x": [
          4161.25,
          4161.25,
          4215,
          4215
         ],
         "xaxis": "x",
         "y": [
          0.147831869190138,
          0.4235116231202317,
          0.4235116231202317,
          0.18710533988443676
         ],
         "yaxis": "y"
        },
        {
         "hoverinfo": "text",
         "marker": {
          "color": "rgb(0,116,217)"
         },
         "mode": "lines",
         "type": "scatter",
         "x": [
          4113.75,
          4113.75,
          4188.125,
          4188.125
         ],
         "xaxis": "x",
         "y": [
          0.2888987589376599,
          0.8486686766858971,
          0.8486686766858971,
          0.4235116231202317
         ],
         "yaxis": "y"
        },
        {
         "hoverinfo": "text",
         "marker": {
          "color": "rgb(0,116,217)"
         },
         "mode": "lines",
         "type": "scatter",
         "x": [
          4275,
          4275,
          4285,
          4285
         ],
         "xaxis": "x",
         "y": [
          0,
          0.26974633762684724,
          0.26974633762684724,
          0
         ],
         "yaxis": "y"
        },
        {
         "hoverinfo": "text",
         "marker": {
          "color": "rgb(0,116,217)"
         },
         "mode": "lines",
         "type": "scatter",
         "x": [
          4265,
          4265,
          4280,
          4280
         ],
         "xaxis": "x",
         "y": [
          0,
          0.4495668517118413,
          0.4495668517118413,
          0.26974633762684724
         ],
         "yaxis": "y"
        },
        {
         "hoverinfo": "text",
         "marker": {
          "color": "rgb(0,116,217)"
         },
         "mode": "lines",
         "type": "scatter",
         "x": [
          4305,
          4305,
          4315,
          4315
         ],
         "xaxis": "x",
         "y": [
          0,
          0.037713767885190624,
          0.037713767885190624,
          0
         ],
         "yaxis": "y"
        },
        {
         "hoverinfo": "text",
         "marker": {
          "color": "rgb(0,116,217)"
         },
         "mode": "lines",
         "type": "scatter",
         "x": [
          4335,
          4335,
          4345,
          4345
         ],
         "xaxis": "x",
         "y": [
          0,
          0.009136466117143506,
          0.009136466117143506,
          0
         ],
         "yaxis": "y"
        },
        {
         "hoverinfo": "text",
         "marker": {
          "color": "rgb(0,116,217)"
         },
         "mode": "lines",
         "type": "scatter",
         "x": [
          4325,
          4325,
          4340,
          4340
         ],
         "xaxis": "x",
         "y": [
          0,
          0.1383968517493385,
          0.1383968517493385,
          0.009136466117143506
         ],
         "yaxis": "y"
        },
        {
         "hoverinfo": "text",
         "marker": {
          "color": "rgb(0,116,217)"
         },
         "mode": "lines",
         "type": "scatter",
         "x": [
          4310,
          4310,
          4332.5,
          4332.5
         ],
         "xaxis": "x",
         "y": [
          0.037713767885190624,
          0.19681296179471405,
          0.19681296179471405,
          0.1383968517493385
         ],
         "yaxis": "y"
        },
        {
         "hoverinfo": "text",
         "marker": {
          "color": "rgb(0,116,217)"
         },
         "mode": "lines",
         "type": "scatter",
         "x": [
          4295,
          4295,
          4321.25,
          4321.25
         ],
         "xaxis": "x",
         "y": [
          0,
          0.4322657214330805,
          0.4322657214330805,
          0.19681296179471405
         ],
         "yaxis": "y"
        },
        {
         "hoverinfo": "text",
         "marker": {
          "color": "rgb(0,116,217)"
         },
         "mode": "lines",
         "type": "scatter",
         "x": [
          4355,
          4355,
          4365,
          4365
         ],
         "xaxis": "x",
         "y": [
          0,
          0.09389041954983501,
          0.09389041954983501,
          0
         ],
         "yaxis": "y"
        },
        {
         "hoverinfo": "text",
         "marker": {
          "color": "rgb(0,116,217)"
         },
         "mode": "lines",
         "type": "scatter",
         "x": [
          4395,
          4395,
          4405,
          4405
         ],
         "xaxis": "x",
         "y": [
          0,
          0.0139844465637151,
          0.0139844465637151,
          0
         ],
         "yaxis": "y"
        },
        {
         "hoverinfo": "text",
         "marker": {
          "color": "rgb(0,116,217)"
         },
         "mode": "lines",
         "type": "scatter",
         "x": [
          4385,
          4385,
          4400,
          4400
         ],
         "xaxis": "x",
         "y": [
          0,
          0.059310958202649464,
          0.059310958202649464,
          0.0139844465637151
         ],
         "yaxis": "y"
        },
        {
         "hoverinfo": "text",
         "marker": {
          "color": "rgb(0,116,217)"
         },
         "mode": "lines",
         "type": "scatter",
         "x": [
          4375,
          4375,
          4392.5,
          4392.5
         ],
         "xaxis": "x",
         "y": [
          0,
          0.11891526129867896,
          0.11891526129867896,
          0.059310958202649464
         ],
         "yaxis": "y"
        },
        {
         "hoverinfo": "text",
         "marker": {
          "color": "rgb(0,116,217)"
         },
         "mode": "lines",
         "type": "scatter",
         "x": [
          4360,
          4360,
          4383.75,
          4383.75
         ],
         "xaxis": "x",
         "y": [
          0.09389041954983501,
          0.2570493545492117,
          0.2570493545492117,
          0.11891526129867896
         ],
         "yaxis": "y"
        },
        {
         "hoverinfo": "text",
         "marker": {
          "color": "rgb(0,116,217)"
         },
         "mode": "lines",
         "type": "scatter",
         "x": [
          4415,
          4415,
          4425,
          4425
         ],
         "xaxis": "x",
         "y": [
          0,
          0.35390343666677015,
          0.35390343666677015,
          0
         ],
         "yaxis": "y"
        },
        {
         "hoverinfo": "text",
         "marker": {
          "color": "rgb(0,116,217)"
         },
         "mode": "lines",
         "type": "scatter",
         "x": [
          4371.875,
          4371.875,
          4420,
          4420
         ],
         "xaxis": "x",
         "y": [
          0.2570493545492117,
          0.48962165052117484,
          0.48962165052117484,
          0.35390343666677015
         ],
         "yaxis": "y"
        },
        {
         "hoverinfo": "text",
         "marker": {
          "color": "rgb(0,116,217)"
         },
         "mode": "lines",
         "type": "scatter",
         "x": [
          4308.125,
          4308.125,
          4395.9375,
          4395.9375
         ],
         "xaxis": "x",
         "y": [
          0.4322657214330805,
          0.788479915993788,
          0.788479915993788,
          0.48962165052117484
         ],
         "yaxis": "y"
        },
        {
         "hoverinfo": "text",
         "marker": {
          "color": "rgb(0,116,217)"
         },
         "mode": "lines",
         "type": "scatter",
         "x": [
          4272.5,
          4272.5,
          4352.03125,
          4352.03125
         ],
         "xaxis": "x",
         "y": [
          0.4495668517118413,
          1.191636139725134,
          1.191636139725134,
          0.788479915993788
         ],
         "yaxis": "y"
        },
        {
         "hoverinfo": "text",
         "marker": {
          "color": "rgb(0,116,217)"
         },
         "mode": "lines",
         "type": "scatter",
         "x": [
          4255,
          4255,
          4312.265625,
          4312.265625
         ],
         "xaxis": "x",
         "y": [
          0,
          1.5072246266786056,
          1.5072246266786056,
          1.191636139725134
         ],
         "yaxis": "y"
        },
        {
         "hoverinfo": "text",
         "marker": {
          "color": "rgb(0,116,217)"
         },
         "mode": "lines",
         "type": "scatter",
         "x": [
          4150.9375,
          4150.9375,
          4283.6328125,
          4283.6328125
         ],
         "xaxis": "x",
         "y": [
          0.8486686766858971,
          1.7556487997377954,
          1.7556487997377954,
          1.5072246266786056
         ],
         "yaxis": "y"
        },
        {
         "hoverinfo": "text",
         "marker": {
          "color": "rgb(0,116,217)"
         },
         "mode": "lines",
         "type": "scatter",
         "x": [
          4048.4375,
          4048.4375,
          4217.28515625,
          4217.28515625
         ],
         "xaxis": "x",
         "y": [
          0.9700943596368286,
          3.126752071546061,
          3.126752071546061,
          1.7556487997377954
         ],
         "yaxis": "y"
        },
        {
         "hoverinfo": "text",
         "marker": {
          "color": "rgb(0,116,217)"
         },
         "mode": "lines",
         "type": "scatter",
         "x": [
          4435,
          4435,
          4445,
          4445
         ],
         "xaxis": "x",
         "y": [
          0,
          0.01659715238206793,
          0.01659715238206793,
          0
         ],
         "yaxis": "y"
        },
        {
         "hoverinfo": "text",
         "marker": {
          "color": "rgb(0,116,217)"
         },
         "mode": "lines",
         "type": "scatter",
         "x": [
          4475,
          4475,
          4485,
          4485
         ],
         "xaxis": "x",
         "y": [
          0,
          0.006611922984517702,
          0.006611922984517702,
          0
         ],
         "yaxis": "y"
        },
        {
         "hoverinfo": "text",
         "marker": {
          "color": "rgb(0,116,217)"
         },
         "mode": "lines",
         "type": "scatter",
         "x": [
          4465,
          4465,
          4480,
          4480
         ],
         "xaxis": "x",
         "y": [
          0,
          0.03348513416500122,
          0.03348513416500122,
          0.006611922984517702
         ],
         "yaxis": "y"
        },
        {
         "hoverinfo": "text",
         "marker": {
          "color": "rgb(0,116,217)"
         },
         "mode": "lines",
         "type": "scatter",
         "x": [
          4455,
          4455,
          4472.5,
          4472.5
         ],
         "xaxis": "x",
         "y": [
          0,
          0.11335478390300123,
          0.11335478390300123,
          0.03348513416500122
         ],
         "yaxis": "y"
        },
        {
         "hoverinfo": "text",
         "marker": {
          "color": "rgb(0,116,217)"
         },
         "mode": "lines",
         "type": "scatter",
         "x": [
          4440,
          4440,
          4463.75,
          4463.75
         ],
         "xaxis": "x",
         "y": [
          0.01659715238206793,
          0.4859263329119659,
          0.4859263329119659,
          0.11335478390300123
         ],
         "yaxis": "y"
        },
        {
         "hoverinfo": "text",
         "marker": {
          "color": "rgb(0,116,217)"
         },
         "mode": "lines",
         "type": "scatter",
         "x": [
          4495,
          4495,
          4505,
          4505
         ],
         "xaxis": "x",
         "y": [
          0,
          0.4808914894150672,
          0.4808914894150672,
          0
         ],
         "yaxis": "y"
        },
        {
         "hoverinfo": "text",
         "marker": {
          "color": "rgb(0,116,217)"
         },
         "mode": "lines",
         "type": "scatter",
         "x": [
          4535,
          4535,
          4545,
          4545
         ],
         "xaxis": "x",
         "y": [
          0,
          0.03715099530763158,
          0.03715099530763158,
          0
         ],
         "yaxis": "y"
        },
        {
         "hoverinfo": "text",
         "marker": {
          "color": "rgb(0,116,217)"
         },
         "mode": "lines",
         "type": "scatter",
         "x": [
          4525,
          4525,
          4540,
          4540
         ],
         "xaxis": "x",
         "y": [
          0,
          0.05691107140611425,
          0.05691107140611425,
          0.03715099530763158
         ],
         "yaxis": "y"
        },
        {
         "hoverinfo": "text",
         "marker": {
          "color": "rgb(0,116,217)"
         },
         "mode": "lines",
         "type": "scatter",
         "x": [
          4515,
          4515,
          4532.5,
          4532.5
         ],
         "xaxis": "x",
         "y": [
          0,
          0.132674495989963,
          0.132674495989963,
          0.05691107140611425
         ],
         "yaxis": "y"
        },
        {
         "hoverinfo": "text",
         "marker": {
          "color": "rgb(0,116,217)"
         },
         "mode": "lines",
         "type": "scatter",
         "x": [
          4575,
          4575,
          4585,
          4585
         ],
         "xaxis": "x",
         "y": [
          0,
          0.030056450578854112,
          0.030056450578854112,
          0
         ],
         "yaxis": "y"
        },
        {
         "hoverinfo": "text",
         "marker": {
          "color": "rgb(0,116,217)"
         },
         "mode": "lines",
         "type": "scatter",
         "x": [
          4605,
          4605,
          4615,
          4615
         ],
         "xaxis": "x",
         "y": [
          0,
          0.009755046412836116,
          0.009755046412836116,
          0
         ],
         "yaxis": "y"
        },
        {
         "hoverinfo": "text",
         "marker": {
          "color": "rgb(0,116,217)"
         },
         "mode": "lines",
         "type": "scatter",
         "x": [
          4595,
          4595,
          4610,
          4610
         ],
         "xaxis": "x",
         "y": [
          0,
          0.023820907442005004,
          0.023820907442005004,
          0.009755046412836116
         ],
         "yaxis": "y"
        },
        {
         "hoverinfo": "text",
         "marker": {
          "color": "rgb(0,116,217)"
         },
         "mode": "lines",
         "type": "scatter",
         "x": [
          4625,
          4625,
          4635,
          4635
         ],
         "xaxis": "x",
         "y": [
          0,
          0.03855827928186021,
          0.03855827928186021,
          0
         ],
         "yaxis": "y"
        },
        {
         "hoverinfo": "text",
         "marker": {
          "color": "rgb(0,116,217)"
         },
         "mode": "lines",
         "type": "scatter",
         "x": [
          4602.5,
          4602.5,
          4630,
          4630
         ],
         "xaxis": "x",
         "y": [
          0.023820907442005004,
          0.06495783706750283,
          0.06495783706750283,
          0.03855827928186021
         ],
         "yaxis": "y"
        },
        {
         "hoverinfo": "text",
         "marker": {
          "color": "rgb(0,116,217)"
         },
         "mode": "lines",
         "type": "scatter",
         "x": [
          4580,
          4580,
          4616.25,
          4616.25
         ],
         "xaxis": "x",
         "y": [
          0.030056450578854112,
          0.11279371900187041,
          0.11279371900187041,
          0.06495783706750283
         ],
         "yaxis": "y"
        },
        {
         "hoverinfo": "text",
         "marker": {
          "color": "rgb(0,116,217)"
         },
         "mode": "lines",
         "type": "scatter",
         "x": [
          4565,
          4565,
          4598.125,
          4598.125
         ],
         "xaxis": "x",
         "y": [
          0,
          0.13663200431506087,
          0.13663200431506087,
          0.11279371900187041
         ],
         "yaxis": "y"
        },
        {
         "hoverinfo": "text",
         "marker": {
          "color": "rgb(0,116,217)"
         },
         "mode": "lines",
         "type": "scatter",
         "x": [
          4555,
          4555,
          4581.5625,
          4581.5625
         ],
         "xaxis": "x",
         "y": [
          0,
          0.22416683234819076,
          0.22416683234819076,
          0.13663200431506087
         ],
         "yaxis": "y"
        },
        {
         "hoverinfo": "text",
         "marker": {
          "color": "rgb(0,116,217)"
         },
         "mode": "lines",
         "type": "scatter",
         "x": [
          4523.75,
          4523.75,
          4568.28125,
          4568.28125
         ],
         "xaxis": "x",
         "y": [
          0.132674495989963,
          0.5019607239714431,
          0.5019607239714431,
          0.22416683234819076
         ],
         "yaxis": "y"
        },
        {
         "hoverinfo": "text",
         "marker": {
          "color": "rgb(0,116,217)"
         },
         "mode": "lines",
         "type": "scatter",
         "x": [
          4500,
          4500,
          4546.015625,
          4546.015625
         ],
         "xaxis": "x",
         "y": [
          0.4808914894150672,
          0.7832128324092263,
          0.7832128324092263,
          0.5019607239714431
         ],
         "yaxis": "y"
        },
        {
         "hoverinfo": "text",
         "marker": {
          "color": "rgb(0,116,217)"
         },
         "mode": "lines",
         "type": "scatter",
         "x": [
          4451.875,
          4451.875,
          4523.0078125,
          4523.0078125
         ],
         "xaxis": "x",
         "y": [
          0.4859263329119659,
          1.054692617876076,
          1.054692617876076,
          0.7832128324092263
         ],
         "yaxis": "y"
        },
        {
         "hoverinfo": "text",
         "marker": {
          "color": "rgb(0,116,217)"
         },
         "mode": "lines",
         "type": "scatter",
         "x": [
          4675,
          4675,
          4685,
          4685
         ],
         "xaxis": "x",
         "y": [
          0,
          0.0794212189517789,
          0.0794212189517789,
          0
         ],
         "yaxis": "y"
        },
        {
         "hoverinfo": "text",
         "marker": {
          "color": "rgb(0,116,217)"
         },
         "mode": "lines",
         "type": "scatter",
         "x": [
          4665,
          4665,
          4680,
          4680
         ],
         "xaxis": "x",
         "y": [
          0,
          0.3798503022066781,
          0.3798503022066781,
          0.0794212189517789
         ],
         "yaxis": "y"
        },
        {
         "hoverinfo": "text",
         "marker": {
          "color": "rgb(0,116,217)"
         },
         "mode": "lines",
         "type": "scatter",
         "x": [
          4705,
          4705,
          4715,
          4715
         ],
         "xaxis": "x",
         "y": [
          0,
          0.02607166185709361,
          0.02607166185709361,
          0
         ],
         "yaxis": "y"
        },
        {
         "hoverinfo": "text",
         "marker": {
          "color": "rgb(0,116,217)"
         },
         "mode": "lines",
         "type": "scatter",
         "x": [
          4695,
          4695,
          4710,
          4710
         ],
         "xaxis": "x",
         "y": [
          0,
          0.05809517500958432,
          0.05809517500958432,
          0.02607166185709361
         ],
         "yaxis": "y"
        },
        {
         "hoverinfo": "text",
         "marker": {
          "color": "rgb(0,116,217)"
         },
         "mode": "lines",
         "type": "scatter",
         "x": [
          4745,
          4745,
          4755,
          4755
         ],
         "xaxis": "x",
         "y": [
          0,
          0.01139673110094759,
          0.01139673110094759,
          0
         ],
         "yaxis": "y"
        },
        {
         "hoverinfo": "text",
         "marker": {
          "color": "rgb(0,116,217)"
         },
         "mode": "lines",
         "type": "scatter",
         "x": [
          4735,
          4735,
          4750,
          4750
         ],
         "xaxis": "x",
         "y": [
          0,
          0.01673827760734775,
          0.01673827760734775,
          0.01139673110094759
         ],
         "yaxis": "y"
        },
        {
         "hoverinfo": "text",
         "marker": {
          "color": "rgb(0,116,217)"
         },
         "mode": "lines",
         "type": "scatter",
         "x": [
          4725,
          4725,
          4742.5,
          4742.5
         ],
         "xaxis": "x",
         "y": [
          0,
          0.033407843499512056,
          0.033407843499512056,
          0.01673827760734775
         ],
         "yaxis": "y"
        },
        {
         "hoverinfo": "text",
         "marker": {
          "color": "rgb(0,116,217)"
         },
         "mode": "lines",
         "type": "scatter",
         "x": [
          4775,
          4775,
          4785,
          4785
         ],
         "xaxis": "x",
         "y": [
          0,
          0.0049521679208060455,
          0.0049521679208060455,
          0
         ],
         "yaxis": "y"
        },
        {
         "hoverinfo": "text",
         "marker": {
          "color": "rgb(0,116,217)"
         },
         "mode": "lines",
         "type": "scatter",
         "x": [
          4795,
          4795,
          4805,
          4805
         ],
         "xaxis": "x",
         "y": [
          0,
          0.006035136815699358,
          0.006035136815699358,
          0
         ],
         "yaxis": "y"
        },
        {
         "hoverinfo": "text",
         "marker": {
          "color": "rgb(0,116,217)"
         },
         "mode": "lines",
         "type": "scatter",
         "x": [
          4780,
          4780,
          4800,
          4800
         ],
         "xaxis": "x",
         "y": [
          0.0049521679208060455,
          0.014495230822047735,
          0.014495230822047735,
          0.006035136815699358
         ],
         "yaxis": "y"
        },
        {
         "hoverinfo": "text",
         "marker": {
          "color": "rgb(0,116,217)"
         },
         "mode": "lines",
         "type": "scatter",
         "x": [
          4765,
          4765,
          4790,
          4790
         ],
         "xaxis": "x",
         "y": [
          0,
          0.034081807959377056,
          0.034081807959377056,
          0.014495230822047735
         ],
         "yaxis": "y"
        },
        {
         "hoverinfo": "text",
         "marker": {
          "color": "rgb(0,116,217)"
         },
         "mode": "lines",
         "type": "scatter",
         "x": [
          4733.75,
          4733.75,
          4777.5,
          4777.5
         ],
         "xaxis": "x",
         "y": [
          0.033407843499512056,
          0.07834740387136753,
          0.07834740387136753,
          0.034081807959377056
         ],
         "yaxis": "y"
        },
        {
         "hoverinfo": "text",
         "marker": {
          "color": "rgb(0,116,217)"
         },
         "mode": "lines",
         "type": "scatter",
         "x": [
          4815,
          4815,
          4825,
          4825
         ],
         "xaxis": "x",
         "y": [
          0,
          0.033329150238198844,
          0.033329150238198844,
          0
         ],
         "yaxis": "y"
        },
        {
         "hoverinfo": "text",
         "marker": {
          "color": "rgb(0,116,217)"
         },
         "mode": "lines",
         "type": "scatter",
         "x": [
          4835,
          4835,
          4845,
          4845
         ],
         "xaxis": "x",
         "y": [
          0,
          0.05085580032423255,
          0.05085580032423255,
          0
         ],
         "yaxis": "y"
        },
        {
         "hoverinfo": "text",
         "marker": {
          "color": "rgb(0,116,217)"
         },
         "mode": "lines",
         "type": "scatter",
         "x": [
          4820,
          4820,
          4840,
          4840
         ],
         "xaxis": "x",
         "y": [
          0.033329150238198844,
          0.07846813318405832,
          0.07846813318405832,
          0.05085580032423255
         ],
         "yaxis": "y"
        },
        {
         "hoverinfo": "text",
         "marker": {
          "color": "rgb(0,116,217)"
         },
         "mode": "lines",
         "type": "scatter",
         "x": [
          4755.625,
          4755.625,
          4830,
          4830
         ],
         "xaxis": "x",
         "y": [
          0.07834740387136753,
          0.12470369600423227,
          0.12470369600423227,
          0.07846813318405832
         ],
         "yaxis": "y"
        },
        {
         "hoverinfo": "text",
         "marker": {
          "color": "rgb(0,116,217)"
         },
         "mode": "lines",
         "type": "scatter",
         "x": [
          4702.5,
          4702.5,
          4792.8125,
          4792.8125
         ],
         "xaxis": "x",
         "y": [
          0.05809517500958432,
          0.17082906588530833,
          0.17082906588530833,
          0.12470369600423227
         ],
         "yaxis": "y"
        },
        {
         "hoverinfo": "text",
         "marker": {
          "color": "rgb(0,116,217)"
         },
         "mode": "lines",
         "type": "scatter",
         "x": [
          4865,
          4865,
          4875,
          4875
         ],
         "xaxis": "x",
         "y": [
          0,
          0.044111913427101176,
          0.044111913427101176,
          0
         ],
         "yaxis": "y"
        },
        {
         "hoverinfo": "text",
         "marker": {
          "color": "rgb(0,116,217)"
         },
         "mode": "lines",
         "type": "scatter",
         "x": [
          4855,
          4855,
          4870,
          4870
         ],
         "xaxis": "x",
         "y": [
          0,
          0.10397069046216519,
          0.10397069046216519,
          0.044111913427101176
         ],
         "yaxis": "y"
        },
        {
         "hoverinfo": "text",
         "marker": {
          "color": "rgb(0,116,217)"
         },
         "mode": "lines",
         "type": "scatter",
         "x": [
          4885,
          4885,
          4895,
          4895
         ],
         "xaxis": "x",
         "y": [
          0,
          0.12612659002067786,
          0.12612659002067786,
          0
         ],
         "yaxis": "y"
        },
        {
         "hoverinfo": "text",
         "marker": {
          "color": "rgb(0,116,217)"
         },
         "mode": "lines",
         "type": "scatter",
         "x": [
          4862.5,
          4862.5,
          4890,
          4890
         ],
         "xaxis": "x",
         "y": [
          0.10397069046216519,
          0.2813149621787464,
          0.2813149621787464,
          0.12612659002067786
         ],
         "yaxis": "y"
        },
        {
         "hoverinfo": "text",
         "marker": {
          "color": "rgb(0,116,217)"
         },
         "mode": "lines",
         "type": "scatter",
         "x": [
          4747.65625,
          4747.65625,
          4876.25,
          4876.25
         ],
         "xaxis": "x",
         "y": [
          0.17082906588530833,
          0.4854960055904133,
          0.4854960055904133,
          0.2813149621787464
         ],
         "yaxis": "y"
        },
        {
         "hoverinfo": "text",
         "marker": {
          "color": "rgb(0,116,217)"
         },
         "mode": "lines",
         "type": "scatter",
         "x": [
          4672.5,
          4672.5,
          4811.953125,
          4811.953125
         ],
         "xaxis": "x",
         "y": [
          0.3798503022066781,
          0.6533626118450963,
          0.6533626118450963,
          0.4854960055904133
         ],
         "yaxis": "y"
        },
        {
         "hoverinfo": "text",
         "marker": {
          "color": "rgb(0,116,217)"
         },
         "mode": "lines",
         "type": "scatter",
         "x": [
          4655,
          4655,
          4742.2265625,
          4742.2265625
         ],
         "xaxis": "x",
         "y": [
          0,
          0.8509179557029546,
          0.8509179557029546,
          0.6533626118450963
         ],
         "yaxis": "y"
        },
        {
         "hoverinfo": "text",
         "marker": {
          "color": "rgb(0,116,217)"
         },
         "mode": "lines",
         "type": "scatter",
         "x": [
          4645,
          4645,
          4698.61328125,
          4698.61328125
         ],
         "xaxis": "x",
         "y": [
          0,
          1.1125965716942046,
          1.1125965716942046,
          0.8509179557029546
         ],
         "yaxis": "y"
        },
        {
         "hoverinfo": "text",
         "marker": {
          "color": "rgb(0,116,217)"
         },
         "mode": "lines",
         "type": "scatter",
         "x": [
          4905,
          4905,
          4915,
          4915
         ],
         "xaxis": "x",
         "y": [
          0,
          0.01777312730162474,
          0.01777312730162474,
          0
         ],
         "yaxis": "y"
        },
        {
         "hoverinfo": "text",
         "marker": {
          "color": "rgb(0,116,217)"
         },
         "mode": "lines",
         "type": "scatter",
         "x": [
          4955,
          4955,
          4965,
          4965
         ],
         "xaxis": "x",
         "y": [
          0,
          0.002011379567216261,
          0.002011379567216261,
          0
         ],
         "yaxis": "y"
        },
        {
         "hoverinfo": "text",
         "marker": {
          "color": "rgb(0,116,217)"
         },
         "mode": "lines",
         "type": "scatter",
         "x": [
          4945,
          4945,
          4960,
          4960
         ],
         "xaxis": "x",
         "y": [
          0,
          0.006358012013490105,
          0.006358012013490105,
          0.002011379567216261
         ],
         "yaxis": "y"
        },
        {
         "hoverinfo": "text",
         "marker": {
          "color": "rgb(0,116,217)"
         },
         "mode": "lines",
         "type": "scatter",
         "x": [
          4935,
          4935,
          4952.5,
          4952.5
         ],
         "xaxis": "x",
         "y": [
          0,
          0.017803865691705268,
          0.017803865691705268,
          0.006358012013490105
         ],
         "yaxis": "y"
        },
        {
         "hoverinfo": "text",
         "marker": {
          "color": "rgb(0,116,217)"
         },
         "mode": "lines",
         "type": "scatter",
         "x": [
          4925,
          4925,
          4943.75,
          4943.75
         ],
         "xaxis": "x",
         "y": [
          0,
          0.0382085702068518,
          0.0382085702068518,
          0.017803865691705268
         ],
         "yaxis": "y"
        },
        {
         "hoverinfo": "text",
         "marker": {
          "color": "rgb(0,116,217)"
         },
         "mode": "lines",
         "type": "scatter",
         "x": [
          4975,
          4975,
          4985,
          4985
         ],
         "xaxis": "x",
         "y": [
          0,
          0.07880968898741147,
          0.07880968898741147,
          0
         ],
         "yaxis": "y"
        },
        {
         "hoverinfo": "text",
         "marker": {
          "color": "rgb(0,116,217)"
         },
         "mode": "lines",
         "type": "scatter",
         "x": [
          4934.375,
          4934.375,
          4980,
          4980
         ],
         "xaxis": "x",
         "y": [
          0.0382085702068518,
          0.2225629629741879,
          0.2225629629741879,
          0.07880968898741147
         ],
         "yaxis": "y"
        },
        {
         "hoverinfo": "text",
         "marker": {
          "color": "rgb(0,116,217)"
         },
         "mode": "lines",
         "type": "scatter",
         "x": [
          5005,
          5005,
          5015,
          5015
         ],
         "xaxis": "x",
         "y": [
          0,
          0.07059256746222012,
          0.07059256746222012,
          0
         ],
         "yaxis": "y"
        },
        {
         "hoverinfo": "text",
         "marker": {
          "color": "rgb(0,116,217)"
         },
         "mode": "lines",
         "type": "scatter",
         "x": [
          4995,
          4995,
          5010,
          5010
         ],
         "xaxis": "x",
         "y": [
          0,
          0.16584713937096535,
          0.16584713937096535,
          0.07059256746222012
         ],
         "yaxis": "y"
        },
        {
         "hoverinfo": "text",
         "marker": {
          "color": "rgb(0,116,217)"
         },
         "mode": "lines",
         "type": "scatter",
         "x": [
          5035,
          5035,
          5045,
          5045
         ],
         "xaxis": "x",
         "y": [
          0,
          0.07415071137632423,
          0.07415071137632423,
          0
         ],
         "yaxis": "y"
        },
        {
         "hoverinfo": "text",
         "marker": {
          "color": "rgb(0,116,217)"
         },
         "mode": "lines",
         "type": "scatter",
         "x": [
          5025,
          5025,
          5040,
          5040
         ],
         "xaxis": "x",
         "y": [
          0,
          0.18507532720212294,
          0.18507532720212294,
          0.07415071137632423
         ],
         "yaxis": "y"
        },
        {
         "hoverinfo": "text",
         "marker": {
          "color": "rgb(0,116,217)"
         },
         "mode": "lines",
         "type": "scatter",
         "x": [
          5002.5,
          5002.5,
          5032.5,
          5032.5
         ],
         "xaxis": "x",
         "y": [
          0.16584713937096535,
          0.3573449383368798,
          0.3573449383368798,
          0.18507532720212294
         ],
         "yaxis": "y"
        },
        {
         "hoverinfo": "text",
         "marker": {
          "color": "rgb(0,116,217)"
         },
         "mode": "lines",
         "type": "scatter",
         "x": [
          4957.1875,
          4957.1875,
          5017.5,
          5017.5
         ],
         "xaxis": "x",
         "y": [
          0.2225629629741879,
          0.48644847049792955,
          0.48644847049792955,
          0.3573449383368798
         ],
         "yaxis": "y"
        },
        {
         "hoverinfo": "text",
         "marker": {
          "color": "rgb(0,116,217)"
         },
         "mode": "lines",
         "type": "scatter",
         "x": [
          4910,
          4910,
          4987.34375,
          4987.34375
         ],
         "xaxis": "x",
         "y": [
          0.01777312730162474,
          0.7089336267101174,
          0.7089336267101174,
          0.48644847049792955
         ],
         "yaxis": "y"
        },
        {
         "hoverinfo": "text",
         "marker": {
          "color": "rgb(0,116,217)"
         },
         "mode": "lines",
         "type": "scatter",
         "x": [
          5065,
          5065,
          5075,
          5075
         ],
         "xaxis": "x",
         "y": [
          0,
          0.09436940082678004,
          0.09436940082678004,
          0
         ],
         "yaxis": "y"
        },
        {
         "hoverinfo": "text",
         "marker": {
          "color": "rgb(0,116,217)"
         },
         "mode": "lines",
         "type": "scatter",
         "x": [
          5095,
          5095,
          5105,
          5105
         ],
         "xaxis": "x",
         "y": [
          0,
          0.03892886091193831,
          0.03892886091193831,
          0
         ],
         "yaxis": "y"
        },
        {
         "hoverinfo": "text",
         "marker": {
          "color": "rgb(0,116,217)"
         },
         "mode": "lines",
         "type": "scatter",
         "x": [
          5085,
          5085,
          5100,
          5100
         ],
         "xaxis": "x",
         "y": [
          0,
          0.13232467811815188,
          0.13232467811815188,
          0.03892886091193831
         ],
         "yaxis": "y"
        },
        {
         "hoverinfo": "text",
         "marker": {
          "color": "rgb(0,116,217)"
         },
         "mode": "lines",
         "type": "scatter",
         "x": [
          5070,
          5070,
          5092.5,
          5092.5
         ],
         "xaxis": "x",
         "y": [
          0.09436940082678004,
          0.2717513083507587,
          0.2717513083507587,
          0.13232467811815188
         ],
         "yaxis": "y"
        },
        {
         "hoverinfo": "text",
         "marker": {
          "color": "rgb(0,116,217)"
         },
         "mode": "lines",
         "type": "scatter",
         "x": [
          5055,
          5055,
          5081.25,
          5081.25
         ],
         "xaxis": "x",
         "y": [
          0,
          0.7637599522783931,
          0.7637599522783931,
          0.2717513083507587
         ],
         "yaxis": "y"
        },
        {
         "hoverinfo": "text",
         "marker": {
          "color": "rgb(0,116,217)"
         },
         "mode": "lines",
         "type": "scatter",
         "x": [
          4948.671875,
          4948.671875,
          5068.125,
          5068.125
         ],
         "xaxis": "x",
         "y": [
          0.7089336267101174,
          1.1913541495783857,
          1.1913541495783857,
          0.7637599522783931
         ],
         "yaxis": "y"
        },
        {
         "hoverinfo": "text",
         "marker": {
          "color": "rgb(0,116,217)"
         },
         "mode": "lines",
         "type": "scatter",
         "x": [
          4671.806640625,
          4671.806640625,
          5008.3984375,
          5008.3984375
         ],
         "xaxis": "x",
         "y": [
          1.1125965716942046,
          1.3844499172888227,
          1.3844499172888227,
          1.1913541495783857
         ],
         "yaxis": "y"
        },
        {
         "hoverinfo": "text",
         "marker": {
          "color": "rgb(0,116,217)"
         },
         "mode": "lines",
         "type": "scatter",
         "x": [
          4487.44140625,
          4487.44140625,
          4840.1025390625,
          4840.1025390625
         ],
         "xaxis": "x",
         "y": [
          1.054692617876076,
          2.000359537094542,
          2.000359537094542,
          1.3844499172888227
         ],
         "yaxis": "y"
        },
        {
         "hoverinfo": "text",
         "marker": {
          "color": "rgb(0,116,217)"
         },
         "mode": "lines",
         "type": "scatter",
         "x": [
          5145,
          5145,
          5155,
          5155
         ],
         "xaxis": "x",
         "y": [
          0,
          0.026187239959352182,
          0.026187239959352182,
          0
         ],
         "yaxis": "y"
        },
        {
         "hoverinfo": "text",
         "marker": {
          "color": "rgb(0,116,217)"
         },
         "mode": "lines",
         "type": "scatter",
         "x": [
          5135,
          5135,
          5150,
          5150
         ],
         "xaxis": "x",
         "y": [
          0,
          0.34335544517030037,
          0.34335544517030037,
          0.026187239959352182
         ],
         "yaxis": "y"
        },
        {
         "hoverinfo": "text",
         "marker": {
          "color": "rgb(0,116,217)"
         },
         "mode": "lines",
         "type": "scatter",
         "x": [
          5125,
          5125,
          5142.5,
          5142.5
         ],
         "xaxis": "x",
         "y": [
          0,
          0.5443181260083594,
          0.5443181260083594,
          0.34335544517030037
         ],
         "yaxis": "y"
        },
        {
         "hoverinfo": "text",
         "marker": {
          "color": "rgb(0,116,217)"
         },
         "mode": "lines",
         "type": "scatter",
         "x": [
          5115,
          5115,
          5133.75,
          5133.75
         ],
         "xaxis": "x",
         "y": [
          0,
          1.2121439191726966,
          1.2121439191726966,
          0.5443181260083594
         ],
         "yaxis": "y"
        },
        {
         "hoverinfo": "text",
         "marker": {
          "color": "rgb(0,116,217)"
         },
         "mode": "lines",
         "type": "scatter",
         "x": [
          5165,
          5165,
          5175,
          5175
         ],
         "xaxis": "x",
         "y": [
          0,
          0.06063512382092496,
          0.06063512382092496,
          0
         ],
         "yaxis": "y"
        },
        {
         "hoverinfo": "text",
         "marker": {
          "color": "rgb(0,116,217)"
         },
         "mode": "lines",
         "type": "scatter",
         "x": [
          5185,
          5185,
          5195,
          5195
         ],
         "xaxis": "x",
         "y": [
          0,
          0.012733715182967831,
          0.012733715182967831,
          0
         ],
         "yaxis": "y"
        },
        {
         "hoverinfo": "text",
         "marker": {
          "color": "rgb(0,116,217)"
         },
         "mode": "lines",
         "type": "scatter",
         "x": [
          5205,
          5205,
          5215,
          5215
         ],
         "xaxis": "x",
         "y": [
          0,
          0.02705484884481008,
          0.02705484884481008,
          0
         ],
         "yaxis": "y"
        },
        {
         "hoverinfo": "text",
         "marker": {
          "color": "rgb(0,116,217)"
         },
         "mode": "lines",
         "type": "scatter",
         "x": [
          5190,
          5190,
          5210,
          5210
         ],
         "xaxis": "x",
         "y": [
          0.012733715182967831,
          0.06070435122353586,
          0.06070435122353586,
          0.02705484884481008
         ],
         "yaxis": "y"
        },
        {
         "hoverinfo": "text",
         "marker": {
          "color": "rgb(0,116,217)"
         },
         "mode": "lines",
         "type": "scatter",
         "x": [
          5235,
          5235,
          5245,
          5245
         ],
         "xaxis": "x",
         "y": [
          0,
          0.0211628284208541,
          0.0211628284208541,
          0
         ],
         "yaxis": "y"
        },
        {
         "hoverinfo": "text",
         "marker": {
          "color": "rgb(0,116,217)"
         },
         "mode": "lines",
         "type": "scatter",
         "x": [
          5225,
          5225,
          5240,
          5240
         ],
         "xaxis": "x",
         "y": [
          0,
          0.07417820076428812,
          0.07417820076428812,
          0.0211628284208541
         ],
         "yaxis": "y"
        },
        {
         "hoverinfo": "text",
         "marker": {
          "color": "rgb(0,116,217)"
         },
         "mode": "lines",
         "type": "scatter",
         "x": [
          5200,
          5200,
          5232.5,
          5232.5
         ],
         "xaxis": "x",
         "y": [
          0.06070435122353586,
          0.39460522973024165,
          0.39460522973024165,
          0.07417820076428812
         ],
         "yaxis": "y"
        },
        {
         "hoverinfo": "text",
         "marker": {
          "color": "rgb(0,116,217)"
         },
         "mode": "lines",
         "type": "scatter",
         "x": [
          5170,
          5170,
          5216.25,
          5216.25
         ],
         "xaxis": "x",
         "y": [
          0.06063512382092496,
          0.6151933161692491,
          0.6151933161692491,
          0.39460522973024165
         ],
         "yaxis": "y"
        },
        {
         "hoverinfo": "text",
         "marker": {
          "color": "rgb(0,116,217)"
         },
         "mode": "lines",
         "type": "scatter",
         "x": [
          5275,
          5275,
          5285,
          5285
         ],
         "xaxis": "x",
         "y": [
          0,
          0.2599515937760282,
          0.2599515937760282,
          0
         ],
         "yaxis": "y"
        },
        {
         "hoverinfo": "text",
         "marker": {
          "color": "rgb(0,116,217)"
         },
         "mode": "lines",
         "type": "scatter",
         "x": [
          5265,
          5265,
          5280,
          5280
         ],
         "xaxis": "x",
         "y": [
          0,
          0.5543244897253485,
          0.5543244897253485,
          0.2599515937760282
         ],
         "yaxis": "y"
        },
        {
         "hoverinfo": "text",
         "marker": {
          "color": "rgb(0,116,217)"
         },
         "mode": "lines",
         "type": "scatter",
         "x": [
          5255,
          5255,
          5272.5,
          5272.5
         ],
         "xaxis": "x",
         "y": [
          0,
          0.7975464913650073,
          0.7975464913650073,
          0.5543244897253485
         ],
         "yaxis": "y"
        },
        {
         "hoverinfo": "text",
         "marker": {
          "color": "rgb(0,116,217)"
         },
         "mode": "lines",
         "type": "scatter",
         "x": [
          5325,
          5325,
          5335,
          5335
         ],
         "xaxis": "x",
         "y": [
          0,
          0.0022574943963523555,
          0.0022574943963523555,
          0
         ],
         "yaxis": "y"
        },
        {
         "hoverinfo": "text",
         "marker": {
          "color": "rgb(0,116,217)"
         },
         "mode": "lines",
         "type": "scatter",
         "x": [
          5315,
          5315,
          5330,
          5330
         ],
         "xaxis": "x",
         "y": [
          0,
          0.005876022800700439,
          0.005876022800700439,
          0.0022574943963523555
         ],
         "yaxis": "y"
        },
        {
         "hoverinfo": "text",
         "marker": {
          "color": "rgb(0,116,217)"
         },
         "mode": "lines",
         "type": "scatter",
         "x": [
          5305,
          5305,
          5322.5,
          5322.5
         ],
         "xaxis": "x",
         "y": [
          0,
          0.015734921242315188,
          0.015734921242315188,
          0.005876022800700439
         ],
         "yaxis": "y"
        },
        {
         "hoverinfo": "text",
         "marker": {
          "color": "rgb(0,116,217)"
         },
         "mode": "lines",
         "type": "scatter",
         "x": [
          5295,
          5295,
          5313.75,
          5313.75
         ],
         "xaxis": "x",
         "y": [
          0,
          0.0679123003510815,
          0.0679123003510815,
          0.015734921242315188
         ],
         "yaxis": "y"
        },
        {
         "hoverinfo": "text",
         "marker": {
          "color": "rgb(0,116,217)"
         },
         "mode": "lines",
         "type": "scatter",
         "x": [
          5355,
          5355,
          5365,
          5365
         ],
         "xaxis": "x",
         "y": [
          0,
          0.012635152920674587,
          0.012635152920674587,
          0
         ],
         "yaxis": "y"
        },
        {
         "hoverinfo": "text",
         "marker": {
          "color": "rgb(0,116,217)"
         },
         "mode": "lines",
         "type": "scatter",
         "x": [
          5345,
          5345,
          5360,
          5360
         ],
         "xaxis": "x",
         "y": [
          0,
          0.0839765993735732,
          0.0839765993735732,
          0.012635152920674587
         ],
         "yaxis": "y"
        },
        {
         "hoverinfo": "text",
         "marker": {
          "color": "rgb(0,116,217)"
         },
         "mode": "lines",
         "type": "scatter",
         "x": [
          5304.375,
          5304.375,
          5352.5,
          5352.5
         ],
         "xaxis": "x",
         "y": [
          0.0679123003510815,
          0.39537339670087396,
          0.39537339670087396,
          0.0839765993735732
         ],
         "yaxis": "y"
        },
        {
         "hoverinfo": "text",
         "marker": {
          "color": "rgb(0,116,217)"
         },
         "mode": "lines",
         "type": "scatter",
         "x": [
          5385,
          5385,
          5395,
          5395
         ],
         "xaxis": "x",
         "y": [
          0,
          0.1898692333346075,
          0.1898692333346075,
          0
         ],
         "yaxis": "y"
        },
        {
         "hoverinfo": "text",
         "marker": {
          "color": "rgb(0,116,217)"
         },
         "mode": "lines",
         "type": "scatter",
         "x": [
          5375,
          5375,
          5390,
          5390
         ],
         "xaxis": "x",
         "y": [
          0,
          0.4010081293789968,
          0.4010081293789968,
          0.1898692333346075
         ],
         "yaxis": "y"
        },
        {
         "hoverinfo": "text",
         "marker": {
          "color": "rgb(0,116,217)"
         },
         "mode": "lines",
         "type": "scatter",
         "x": [
          5328.4375,
          5328.4375,
          5382.5,
          5382.5
         ],
         "xaxis": "x",
         "y": [
          0.39537339670087396,
          0.9995105903377136,
          0.9995105903377136,
          0.4010081293789968
         ],
         "yaxis": "y"
        },
        {
         "hoverinfo": "text",
         "marker": {
          "color": "rgb(0,116,217)"
         },
         "mode": "lines",
         "type": "scatter",
         "x": [
          5263.75,
          5263.75,
          5355.46875,
          5355.46875
         ],
         "xaxis": "x",
         "y": [
          0.7975464913650073,
          1.2635795084783874,
          1.2635795084783874,
          0.9995105903377136
         ],
         "yaxis": "y"
        },
        {
         "hoverinfo": "text",
         "marker": {
          "color": "rgb(0,116,217)"
         },
         "mode": "lines",
         "type": "scatter",
         "x": [
          5193.125,
          5193.125,
          5309.609375,
          5309.609375
         ],
         "xaxis": "x",
         "y": [
          0.6151933161692491,
          1.7265086351749106,
          1.7265086351749106,
          1.2635795084783874
         ],
         "yaxis": "y"
        },
        {
         "hoverinfo": "text",
         "marker": {
          "color": "rgb(0,116,217)"
         },
         "mode": "lines",
         "type": "scatter",
         "x": [
          5124.375,
          5124.375,
          5251.3671875,
          5251.3671875
         ],
         "xaxis": "x",
         "y": [
          1.2121439191726966,
          2.0531321939044105,
          2.0531321939044105,
          1.7265086351749106
         ],
         "yaxis": "y"
        },
        {
         "hoverinfo": "text",
         "marker": {
          "color": "rgb(0,116,217)"
         },
         "mode": "lines",
         "type": "scatter",
         "x": [
          4663.77197265625,
          4663.77197265625,
          5187.87109375,
          5187.87109375
         ],
         "xaxis": "x",
         "y": [
          2.000359537094542,
          3.3513350080050417,
          3.3513350080050417,
          2.0531321939044105
         ],
         "yaxis": "y"
        },
        {
         "hoverinfo": "text",
         "marker": {
          "color": "rgb(0,116,217)"
         },
         "mode": "lines",
         "type": "scatter",
         "x": [
          4132.861328125,
          4132.861328125,
          4925.821533203125,
          4925.821533203125
         ],
         "xaxis": "x",
         "y": [
          3.126752071546061,
          4.315430687634046,
          4.315430687634046,
          3.3513350080050417
         ],
         "yaxis": "y"
        },
        {
         "hoverinfo": "text",
         "marker": {
          "color": "rgb(0,116,217)"
         },
         "mode": "lines",
         "type": "scatter",
         "x": [
          1956.293249130249,
          1956.293249130249,
          4529.3414306640625,
          4529.3414306640625
         ],
         "xaxis": "x",
         "y": [
          3.855197899582591,
          5.044460073631717,
          5.044460073631717,
          4.315430687634046
         ],
         "yaxis": "y"
        },
        {
         "hoverinfo": "text",
         "marker": {
          "color": "rgb(0,116,217)"
         },
         "mode": "lines",
         "type": "scatter",
         "x": [
          388.37574005126953,
          388.37574005126953,
          3242.8173398971558,
          3242.8173398971558
         ],
         "xaxis": "x",
         "y": [
          4.5363124078862995,
          5.921169388124319,
          5.921169388124319,
          5.044460073631717
         ],
         "yaxis": "y"
        },
        {
         "hoverinfo": "text",
         "marker": {
          "color": "rgb(0,116,217)"
         },
         "mode": "lines",
         "type": "scatter",
         "x": [
          5415,
          5415,
          5425,
          5425
         ],
         "xaxis": "x",
         "y": [
          0,
          4.051911623073285,
          4.051911623073285,
          0
         ],
         "yaxis": "y"
        },
        {
         "hoverinfo": "text",
         "marker": {
          "color": "rgb(0,116,217)"
         },
         "mode": "lines",
         "type": "scatter",
         "x": [
          5405,
          5405,
          5420,
          5420
         ],
         "xaxis": "x",
         "y": [
          0,
          11.476378065305472,
          11.476378065305472,
          4.051911623073285
         ],
         "yaxis": "y"
        },
        {
         "hoverinfo": "text",
         "marker": {
          "color": "rgb(0,116,217)"
         },
         "mode": "lines",
         "type": "scatter",
         "x": [
          1815.5965399742126,
          1815.5965399742126,
          5412.5,
          5412.5
         ],
         "xaxis": "x",
         "y": [
          5.921169388124319,
          19.321304191269636,
          19.321304191269636,
          11.476378065305472
         ],
         "yaxis": "y"
        },
        {
         "hoverinfo": "text",
         "marker": {
          "color": "rgb(0,116,217)"
         },
         "mode": "lines",
         "type": "scatter",
         "x": [
          5455,
          5455,
          5465,
          5465
         ],
         "xaxis": "x",
         "y": [
          0,
          4.195413371447552,
          4.195413371447552,
          0
         ],
         "yaxis": "y"
        },
        {
         "hoverinfo": "text",
         "marker": {
          "color": "rgb(0,116,217)"
         },
         "mode": "lines",
         "type": "scatter",
         "x": [
          5445,
          5445,
          5460,
          5460
         ],
         "xaxis": "x",
         "y": [
          0,
          11.995424884272403,
          11.995424884272403,
          4.195413371447552
         ],
         "yaxis": "y"
        },
        {
         "hoverinfo": "text",
         "marker": {
          "color": "rgb(0,116,217)"
         },
         "mode": "lines",
         "type": "scatter",
         "x": [
          5435,
          5435,
          5452.5,
          5452.5
         ],
         "xaxis": "x",
         "y": [
          0,
          23.774991239348722,
          23.774991239348722,
          11.995424884272403
         ],
         "yaxis": "y"
        },
        {
         "hoverinfo": "text",
         "marker": {
          "color": "rgb(0,116,217)"
         },
         "mode": "lines",
         "type": "scatter",
         "x": [
          3614.0482699871063,
          3614.0482699871063,
          5443.75,
          5443.75
         ],
         "xaxis": "x",
         "y": [
          19.321304191269636,
          36.51391290637069,
          36.51391290637069,
          23.774991239348722
         ],
         "yaxis": "y"
        }
       ],
       "layout": {
        "autosize": false,
        "height": 500,
        "hovermode": "closest",
        "showlegend": false,
        "template": {
         "data": {
          "bar": [
           {
            "error_x": {
             "color": "#2a3f5f"
            },
            "error_y": {
             "color": "#2a3f5f"
            },
            "marker": {
             "line": {
              "color": "#E5ECF6",
              "width": 0.5
             },
             "pattern": {
              "fillmode": "overlay",
              "size": 10,
              "solidity": 0.2
             }
            },
            "type": "bar"
           }
          ],
          "barpolar": [
           {
            "marker": {
             "line": {
              "color": "#E5ECF6",
              "width": 0.5
             },
             "pattern": {
              "fillmode": "overlay",
              "size": 10,
              "solidity": 0.2
             }
            },
            "type": "barpolar"
           }
          ],
          "carpet": [
           {
            "aaxis": {
             "endlinecolor": "#2a3f5f",
             "gridcolor": "white",
             "linecolor": "white",
             "minorgridcolor": "white",
             "startlinecolor": "#2a3f5f"
            },
            "baxis": {
             "endlinecolor": "#2a3f5f",
             "gridcolor": "white",
             "linecolor": "white",
             "minorgridcolor": "white",
             "startlinecolor": "#2a3f5f"
            },
            "type": "carpet"
           }
          ],
          "choropleth": [
           {
            "colorbar": {
             "outlinewidth": 0,
             "ticks": ""
            },
            "type": "choropleth"
           }
          ],
          "contour": [
           {
            "colorbar": {
             "outlinewidth": 0,
             "ticks": ""
            },
            "colorscale": [
             [
              0,
              "#0d0887"
             ],
             [
              0.1111111111111111,
              "#46039f"
             ],
             [
              0.2222222222222222,
              "#7201a8"
             ],
             [
              0.3333333333333333,
              "#9c179e"
             ],
             [
              0.4444444444444444,
              "#bd3786"
             ],
             [
              0.5555555555555556,
              "#d8576b"
             ],
             [
              0.6666666666666666,
              "#ed7953"
             ],
             [
              0.7777777777777778,
              "#fb9f3a"
             ],
             [
              0.8888888888888888,
              "#fdca26"
             ],
             [
              1,
              "#f0f921"
             ]
            ],
            "type": "contour"
           }
          ],
          "contourcarpet": [
           {
            "colorbar": {
             "outlinewidth": 0,
             "ticks": ""
            },
            "type": "contourcarpet"
           }
          ],
          "heatmap": [
           {
            "colorbar": {
             "outlinewidth": 0,
             "ticks": ""
            },
            "colorscale": [
             [
              0,
              "#0d0887"
             ],
             [
              0.1111111111111111,
              "#46039f"
             ],
             [
              0.2222222222222222,
              "#7201a8"
             ],
             [
              0.3333333333333333,
              "#9c179e"
             ],
             [
              0.4444444444444444,
              "#bd3786"
             ],
             [
              0.5555555555555556,
              "#d8576b"
             ],
             [
              0.6666666666666666,
              "#ed7953"
             ],
             [
              0.7777777777777778,
              "#fb9f3a"
             ],
             [
              0.8888888888888888,
              "#fdca26"
             ],
             [
              1,
              "#f0f921"
             ]
            ],
            "type": "heatmap"
           }
          ],
          "heatmapgl": [
           {
            "colorbar": {
             "outlinewidth": 0,
             "ticks": ""
            },
            "colorscale": [
             [
              0,
              "#0d0887"
             ],
             [
              0.1111111111111111,
              "#46039f"
             ],
             [
              0.2222222222222222,
              "#7201a8"
             ],
             [
              0.3333333333333333,
              "#9c179e"
             ],
             [
              0.4444444444444444,
              "#bd3786"
             ],
             [
              0.5555555555555556,
              "#d8576b"
             ],
             [
              0.6666666666666666,
              "#ed7953"
             ],
             [
              0.7777777777777778,
              "#fb9f3a"
             ],
             [
              0.8888888888888888,
              "#fdca26"
             ],
             [
              1,
              "#f0f921"
             ]
            ],
            "type": "heatmapgl"
           }
          ],
          "histogram": [
           {
            "marker": {
             "pattern": {
              "fillmode": "overlay",
              "size": 10,
              "solidity": 0.2
             }
            },
            "type": "histogram"
           }
          ],
          "histogram2d": [
           {
            "colorbar": {
             "outlinewidth": 0,
             "ticks": ""
            },
            "colorscale": [
             [
              0,
              "#0d0887"
             ],
             [
              0.1111111111111111,
              "#46039f"
             ],
             [
              0.2222222222222222,
              "#7201a8"
             ],
             [
              0.3333333333333333,
              "#9c179e"
             ],
             [
              0.4444444444444444,
              "#bd3786"
             ],
             [
              0.5555555555555556,
              "#d8576b"
             ],
             [
              0.6666666666666666,
              "#ed7953"
             ],
             [
              0.7777777777777778,
              "#fb9f3a"
             ],
             [
              0.8888888888888888,
              "#fdca26"
             ],
             [
              1,
              "#f0f921"
             ]
            ],
            "type": "histogram2d"
           }
          ],
          "histogram2dcontour": [
           {
            "colorbar": {
             "outlinewidth": 0,
             "ticks": ""
            },
            "colorscale": [
             [
              0,
              "#0d0887"
             ],
             [
              0.1111111111111111,
              "#46039f"
             ],
             [
              0.2222222222222222,
              "#7201a8"
             ],
             [
              0.3333333333333333,
              "#9c179e"
             ],
             [
              0.4444444444444444,
              "#bd3786"
             ],
             [
              0.5555555555555556,
              "#d8576b"
             ],
             [
              0.6666666666666666,
              "#ed7953"
             ],
             [
              0.7777777777777778,
              "#fb9f3a"
             ],
             [
              0.8888888888888888,
              "#fdca26"
             ],
             [
              1,
              "#f0f921"
             ]
            ],
            "type": "histogram2dcontour"
           }
          ],
          "mesh3d": [
           {
            "colorbar": {
             "outlinewidth": 0,
             "ticks": ""
            },
            "type": "mesh3d"
           }
          ],
          "parcoords": [
           {
            "line": {
             "colorbar": {
              "outlinewidth": 0,
              "ticks": ""
             }
            },
            "type": "parcoords"
           }
          ],
          "pie": [
           {
            "automargin": true,
            "type": "pie"
           }
          ],
          "scatter": [
           {
            "marker": {
             "colorbar": {
              "outlinewidth": 0,
              "ticks": ""
             }
            },
            "type": "scatter"
           }
          ],
          "scatter3d": [
           {
            "line": {
             "colorbar": {
              "outlinewidth": 0,
              "ticks": ""
             }
            },
            "marker": {
             "colorbar": {
              "outlinewidth": 0,
              "ticks": ""
             }
            },
            "type": "scatter3d"
           }
          ],
          "scattercarpet": [
           {
            "marker": {
             "colorbar": {
              "outlinewidth": 0,
              "ticks": ""
             }
            },
            "type": "scattercarpet"
           }
          ],
          "scattergeo": [
           {
            "marker": {
             "colorbar": {
              "outlinewidth": 0,
              "ticks": ""
             }
            },
            "type": "scattergeo"
           }
          ],
          "scattergl": [
           {
            "marker": {
             "colorbar": {
              "outlinewidth": 0,
              "ticks": ""
             }
            },
            "type": "scattergl"
           }
          ],
          "scattermapbox": [
           {
            "marker": {
             "colorbar": {
              "outlinewidth": 0,
              "ticks": ""
             }
            },
            "type": "scattermapbox"
           }
          ],
          "scatterpolar": [
           {
            "marker": {
             "colorbar": {
              "outlinewidth": 0,
              "ticks": ""
             }
            },
            "type": "scatterpolar"
           }
          ],
          "scatterpolargl": [
           {
            "marker": {
             "colorbar": {
              "outlinewidth": 0,
              "ticks": ""
             }
            },
            "type": "scatterpolargl"
           }
          ],
          "scatterternary": [
           {
            "marker": {
             "colorbar": {
              "outlinewidth": 0,
              "ticks": ""
             }
            },
            "type": "scatterternary"
           }
          ],
          "surface": [
           {
            "colorbar": {
             "outlinewidth": 0,
             "ticks": ""
            },
            "colorscale": [
             [
              0,
              "#0d0887"
             ],
             [
              0.1111111111111111,
              "#46039f"
             ],
             [
              0.2222222222222222,
              "#7201a8"
             ],
             [
              0.3333333333333333,
              "#9c179e"
             ],
             [
              0.4444444444444444,
              "#bd3786"
             ],
             [
              0.5555555555555556,
              "#d8576b"
             ],
             [
              0.6666666666666666,
              "#ed7953"
             ],
             [
              0.7777777777777778,
              "#fb9f3a"
             ],
             [
              0.8888888888888888,
              "#fdca26"
             ],
             [
              1,
              "#f0f921"
             ]
            ],
            "type": "surface"
           }
          ],
          "table": [
           {
            "cells": {
             "fill": {
              "color": "#EBF0F8"
             },
             "line": {
              "color": "white"
             }
            },
            "header": {
             "fill": {
              "color": "#C8D4E3"
             },
             "line": {
              "color": "white"
             }
            },
            "type": "table"
           }
          ]
         },
         "layout": {
          "annotationdefaults": {
           "arrowcolor": "#2a3f5f",
           "arrowhead": 0,
           "arrowwidth": 1
          },
          "autotypenumbers": "strict",
          "coloraxis": {
           "colorbar": {
            "outlinewidth": 0,
            "ticks": ""
           }
          },
          "colorscale": {
           "diverging": [
            [
             0,
             "#8e0152"
            ],
            [
             0.1,
             "#c51b7d"
            ],
            [
             0.2,
             "#de77ae"
            ],
            [
             0.3,
             "#f1b6da"
            ],
            [
             0.4,
             "#fde0ef"
            ],
            [
             0.5,
             "#f7f7f7"
            ],
            [
             0.6,
             "#e6f5d0"
            ],
            [
             0.7,
             "#b8e186"
            ],
            [
             0.8,
             "#7fbc41"
            ],
            [
             0.9,
             "#4d9221"
            ],
            [
             1,
             "#276419"
            ]
           ],
           "sequential": [
            [
             0,
             "#0d0887"
            ],
            [
             0.1111111111111111,
             "#46039f"
            ],
            [
             0.2222222222222222,
             "#7201a8"
            ],
            [
             0.3333333333333333,
             "#9c179e"
            ],
            [
             0.4444444444444444,
             "#bd3786"
            ],
            [
             0.5555555555555556,
             "#d8576b"
            ],
            [
             0.6666666666666666,
             "#ed7953"
            ],
            [
             0.7777777777777778,
             "#fb9f3a"
            ],
            [
             0.8888888888888888,
             "#fdca26"
            ],
            [
             1,
             "#f0f921"
            ]
           ],
           "sequentialminus": [
            [
             0,
             "#0d0887"
            ],
            [
             0.1111111111111111,
             "#46039f"
            ],
            [
             0.2222222222222222,
             "#7201a8"
            ],
            [
             0.3333333333333333,
             "#9c179e"
            ],
            [
             0.4444444444444444,
             "#bd3786"
            ],
            [
             0.5555555555555556,
             "#d8576b"
            ],
            [
             0.6666666666666666,
             "#ed7953"
            ],
            [
             0.7777777777777778,
             "#fb9f3a"
            ],
            [
             0.8888888888888888,
             "#fdca26"
            ],
            [
             1,
             "#f0f921"
            ]
           ]
          },
          "colorway": [
           "#636efa",
           "#EF553B",
           "#00cc96",
           "#ab63fa",
           "#FFA15A",
           "#19d3f3",
           "#FF6692",
           "#B6E880",
           "#FF97FF",
           "#FECB52"
          ],
          "font": {
           "color": "#2a3f5f"
          },
          "geo": {
           "bgcolor": "white",
           "lakecolor": "white",
           "landcolor": "#E5ECF6",
           "showlakes": true,
           "showland": true,
           "subunitcolor": "white"
          },
          "hoverlabel": {
           "align": "left"
          },
          "hovermode": "closest",
          "mapbox": {
           "style": "light"
          },
          "paper_bgcolor": "white",
          "plot_bgcolor": "#E5ECF6",
          "polar": {
           "angularaxis": {
            "gridcolor": "white",
            "linecolor": "white",
            "ticks": ""
           },
           "bgcolor": "#E5ECF6",
           "radialaxis": {
            "gridcolor": "white",
            "linecolor": "white",
            "ticks": ""
           }
          },
          "scene": {
           "xaxis": {
            "backgroundcolor": "#E5ECF6",
            "gridcolor": "white",
            "gridwidth": 2,
            "linecolor": "white",
            "showbackground": true,
            "ticks": "",
            "zerolinecolor": "white"
           },
           "yaxis": {
            "backgroundcolor": "#E5ECF6",
            "gridcolor": "white",
            "gridwidth": 2,
            "linecolor": "white",
            "showbackground": true,
            "ticks": "",
            "zerolinecolor": "white"
           },
           "zaxis": {
            "backgroundcolor": "#E5ECF6",
            "gridcolor": "white",
            "gridwidth": 2,
            "linecolor": "white",
            "showbackground": true,
            "ticks": "",
            "zerolinecolor": "white"
           }
          },
          "shapedefaults": {
           "line": {
            "color": "#2a3f5f"
           }
          },
          "ternary": {
           "aaxis": {
            "gridcolor": "white",
            "linecolor": "white",
            "ticks": ""
           },
           "baxis": {
            "gridcolor": "white",
            "linecolor": "white",
            "ticks": ""
           },
           "bgcolor": "#E5ECF6",
           "caxis": {
            "gridcolor": "white",
            "linecolor": "white",
            "ticks": ""
           }
          },
          "title": {
           "x": 0.05
          },
          "xaxis": {
           "automargin": true,
           "gridcolor": "white",
           "linecolor": "white",
           "ticks": "",
           "title": {
            "standoff": 15
           },
           "zerolinecolor": "white",
           "zerolinewidth": 2
          },
          "yaxis": {
           "automargin": true,
           "gridcolor": "white",
           "linecolor": "white",
           "ticks": "",
           "title": {
            "standoff": 15
           },
           "zerolinecolor": "white",
           "zerolinewidth": 2
          }
         }
        },
        "width": 800,
        "xaxis": {
         "mirror": "allticks",
         "rangemode": "tozero",
         "showgrid": false,
         "showline": true,
         "showticklabels": true,
         "tickmode": "array",
         "ticks": "outside",
         "ticktext": [
          "475",
          "8",
          "357",
          "26",
          "473",
          "61",
          "183",
          "3",
          "87",
          "73",
          "317",
          "210",
          "470",
          "290",
          "436",
          "400",
          "412",
          "76",
          "402",
          "107",
          "525",
          "539",
          "294",
          "299",
          "158",
          "343",
          "179",
          "541",
          "69",
          "249",
          "288",
          "386",
          "203",
          "491",
          "6",
          "195",
          "432",
          "41",
          "401",
          "72",
          "266",
          "262",
          "533",
          "217",
          "164",
          "95",
          "35",
          "171",
          "31",
          "234",
          "409",
          "490",
          "438",
          "236",
          "307",
          "295",
          "467",
          "2",
          "176",
          "342",
          "168",
          "380",
          "453",
          "381",
          "196",
          "338",
          "155",
          "377",
          "462",
          "275",
          "474",
          "309",
          "395",
          "354",
          "431",
          "202",
          "167",
          "181",
          "68",
          "208",
          "321",
          "471",
          "411",
          "495",
          "516",
          "430",
          "487",
          "511",
          "269",
          "302",
          "524",
          "297",
          "439",
          "335",
          "457",
          "146",
          "328",
          "150",
          "332",
          "371",
          "261",
          "393",
          "271",
          "326",
          "296",
          "277",
          "320",
          "331",
          "522",
          "359",
          "193",
          "358",
          "137",
          "403",
          "460",
          "90",
          "211",
          "378",
          "325",
          "461",
          "201",
          "372",
          "379",
          "506",
          "182",
          "123",
          "399",
          "245",
          "424",
          "260",
          "194",
          "313",
          "127",
          "314",
          "223",
          "242",
          "413",
          "397",
          "1",
          "218",
          "494",
          "512",
          "185",
          "517",
          "139",
          "276",
          "375",
          "523",
          "29",
          "88",
          "383",
          "0",
          "38",
          "429",
          "278",
          "356",
          "423",
          "22",
          "99",
          "241",
          "43",
          "485",
          "443",
          "37",
          "285",
          "148",
          "5",
          "268",
          "479",
          "526",
          "333",
          "263",
          "521",
          "256",
          "509",
          "113",
          "226",
          "4",
          "98",
          "135",
          "20",
          "116",
          "192",
          "446",
          "225",
          "229",
          "11",
          "284",
          "81",
          "248",
          "445",
          "14",
          "390",
          "166",
          "170",
          "7",
          "169",
          "422",
          "100",
          "246",
          "145",
          "258",
          "200",
          "508",
          "518",
          "239",
          "74",
          "199",
          "466",
          "93",
          "340",
          "28",
          "82",
          "515",
          "108",
          "537",
          "415",
          "311",
          "291",
          "458",
          "428",
          "450",
          "502",
          "416",
          "156",
          "364",
          "505",
          "118",
          "198",
          "32",
          "259",
          "289",
          "352",
          "10",
          "507",
          "387",
          "351",
          "389",
          "396",
          "319",
          "464",
          "162",
          "174",
          "110",
          "306",
          "456",
          "121",
          "197",
          "341",
          "435",
          "133",
          "426",
          "434",
          "360",
          "71",
          "483",
          "488",
          "56",
          "172",
          "543",
          "449",
          "106",
          "124",
          "476",
          "283",
          "496",
          "444",
          "228",
          "455",
          "55",
          "64",
          "235",
          "47",
          "189",
          "499",
          "227",
          "149",
          "190",
          "13",
          "191",
          "209",
          "160",
          "230",
          "130",
          "214",
          "237",
          "105",
          "425",
          "92",
          "355",
          "45",
          "247",
          "65",
          "363",
          "350",
          "115",
          "136",
          "53",
          "480",
          "17",
          "143",
          "101",
          "504",
          "374",
          "465",
          "420",
          "492",
          "52",
          "212",
          "361",
          "104",
          "370",
          "147",
          "513",
          "84",
          "153",
          "96",
          "414",
          "125",
          "109",
          "224",
          "315",
          "542",
          "305",
          "323",
          "111",
          "286",
          "24",
          "48",
          "91",
          "140",
          "345",
          "270",
          "388",
          "58",
          "27",
          "419",
          "39",
          "131",
          "407",
          "264",
          "34",
          "368",
          "23",
          "151",
          "536",
          "30",
          "21",
          "251",
          "75",
          "447",
          "280",
          "347",
          "44",
          "184",
          "545",
          "304",
          "382",
          "519",
          "77",
          "12",
          "94",
          "221",
          "89",
          "216",
          "240",
          "142",
          "215",
          "373",
          "18",
          "220",
          "334",
          "367",
          "486",
          "497",
          "120",
          "520",
          "33",
          "410",
          "16",
          "253",
          "362",
          "49",
          "452",
          "510",
          "54",
          "454",
          "114",
          "337",
          "322",
          "173",
          "219",
          "213",
          "421",
          "478",
          "40",
          "254",
          "178",
          "300",
          "310",
          "538",
          "408",
          "503",
          "231",
          "129",
          "472",
          "527",
          "134",
          "152",
          "165",
          "117",
          "66",
          "85",
          "535",
          "255",
          "469",
          "405",
          "180",
          "484",
          "19",
          "80",
          "281",
          "327",
          "175",
          "329",
          "119",
          "308",
          "67",
          "459",
          "83",
          "318",
          "532",
          "204",
          "448",
          "498",
          "250",
          "336",
          "528",
          "316",
          "265",
          "303",
          "36",
          "159",
          "46",
          "157",
          "398",
          "463",
          "279",
          "540",
          "339",
          "437",
          "493",
          "301",
          "274",
          "376",
          "529",
          "97",
          "232",
          "489",
          "298",
          "287",
          "391",
          "272",
          "433",
          "122",
          "500",
          "394",
          "59",
          "62",
          "369",
          "25",
          "312",
          "112",
          "441",
          "330",
          "546",
          "531",
          "293",
          "481",
          "273",
          "427",
          "51",
          "324",
          "384",
          "385",
          "102",
          "141",
          "366",
          "86",
          "163",
          "292",
          "477",
          "243",
          "186",
          "544",
          "349",
          "353",
          "138",
          "282",
          "348",
          "57",
          "222",
          "392",
          "161",
          "205",
          "344",
          "78",
          "534",
          "501",
          "238",
          "451",
          "418",
          "244",
          "187",
          "188",
          "207",
          "404",
          "406",
          "63",
          "154",
          "15",
          "126",
          "206",
          "42",
          "177",
          "530",
          "346",
          "132",
          "365",
          "70",
          "482",
          "50",
          "9",
          "257",
          "79",
          "233",
          "417",
          "440",
          "60",
          "442",
          "252",
          "103",
          "468",
          "514",
          "128",
          "144",
          "267"
         ],
         "tickvals": [
          5,
          15,
          25,
          35,
          45,
          55,
          65,
          75,
          85,
          95,
          105,
          115,
          125,
          135,
          145,
          155,
          165,
          175,
          185,
          195,
          205,
          215,
          225,
          235,
          245,
          255,
          265,
          275,
          285,
          295,
          305,
          315,
          325,
          335,
          345,
          355,
          365,
          375,
          385,
          395,
          405,
          415,
          425,
          435,
          445,
          455,
          465,
          475,
          485,
          495,
          505,
          515,
          525,
          535,
          545,
          555,
          565,
          575,
          585,
          595,
          605,
          615,
          625,
          635,
          645,
          655,
          665,
          675,
          685,
          695,
          705,
          715,
          725,
          735,
          745,
          755,
          765,
          775,
          785,
          795,
          805,
          815,
          825,
          835,
          845,
          855,
          865,
          875,
          885,
          895,
          905,
          915,
          925,
          935,
          945,
          955,
          965,
          975,
          985,
          995,
          1005,
          1015,
          1025,
          1035,
          1045,
          1055,
          1065,
          1075,
          1085,
          1095,
          1105,
          1115,
          1125,
          1135,
          1145,
          1155,
          1165,
          1175,
          1185,
          1195,
          1205,
          1215,
          1225,
          1235,
          1245,
          1255,
          1265,
          1275,
          1285,
          1295,
          1305,
          1315,
          1325,
          1335,
          1345,
          1355,
          1365,
          1375,
          1385,
          1395,
          1405,
          1415,
          1425,
          1435,
          1445,
          1455,
          1465,
          1475,
          1485,
          1495,
          1505,
          1515,
          1525,
          1535,
          1545,
          1555,
          1565,
          1575,
          1585,
          1595,
          1605,
          1615,
          1625,
          1635,
          1645,
          1655,
          1665,
          1675,
          1685,
          1695,
          1705,
          1715,
          1725,
          1735,
          1745,
          1755,
          1765,
          1775,
          1785,
          1795,
          1805,
          1815,
          1825,
          1835,
          1845,
          1855,
          1865,
          1875,
          1885,
          1895,
          1905,
          1915,
          1925,
          1935,
          1945,
          1955,
          1965,
          1975,
          1985,
          1995,
          2005,
          2015,
          2025,
          2035,
          2045,
          2055,
          2065,
          2075,
          2085,
          2095,
          2105,
          2115,
          2125,
          2135,
          2145,
          2155,
          2165,
          2175,
          2185,
          2195,
          2205,
          2215,
          2225,
          2235,
          2245,
          2255,
          2265,
          2275,
          2285,
          2295,
          2305,
          2315,
          2325,
          2335,
          2345,
          2355,
          2365,
          2375,
          2385,
          2395,
          2405,
          2415,
          2425,
          2435,
          2445,
          2455,
          2465,
          2475,
          2485,
          2495,
          2505,
          2515,
          2525,
          2535,
          2545,
          2555,
          2565,
          2575,
          2585,
          2595,
          2605,
          2615,
          2625,
          2635,
          2645,
          2655,
          2665,
          2675,
          2685,
          2695,
          2705,
          2715,
          2725,
          2735,
          2745,
          2755,
          2765,
          2775,
          2785,
          2795,
          2805,
          2815,
          2825,
          2835,
          2845,
          2855,
          2865,
          2875,
          2885,
          2895,
          2905,
          2915,
          2925,
          2935,
          2945,
          2955,
          2965,
          2975,
          2985,
          2995,
          3005,
          3015,
          3025,
          3035,
          3045,
          3055,
          3065,
          3075,
          3085,
          3095,
          3105,
          3115,
          3125,
          3135,
          3145,
          3155,
          3165,
          3175,
          3185,
          3195,
          3205,
          3215,
          3225,
          3235,
          3245,
          3255,
          3265,
          3275,
          3285,
          3295,
          3305,
          3315,
          3325,
          3335,
          3345,
          3355,
          3365,
          3375,
          3385,
          3395,
          3405,
          3415,
          3425,
          3435,
          3445,
          3455,
          3465,
          3475,
          3485,
          3495,
          3505,
          3515,
          3525,
          3535,
          3545,
          3555,
          3565,
          3575,
          3585,
          3595,
          3605,
          3615,
          3625,
          3635,
          3645,
          3655,
          3665,
          3675,
          3685,
          3695,
          3705,
          3715,
          3725,
          3735,
          3745,
          3755,
          3765,
          3775,
          3785,
          3795,
          3805,
          3815,
          3825,
          3835,
          3845,
          3855,
          3865,
          3875,
          3885,
          3895,
          3905,
          3915,
          3925,
          3935,
          3945,
          3955,
          3965,
          3975,
          3985,
          3995,
          4005,
          4015,
          4025,
          4035,
          4045,
          4055,
          4065,
          4075,
          4085,
          4095,
          4105,
          4115,
          4125,
          4135,
          4145,
          4155,
          4165,
          4175,
          4185,
          4195,
          4205,
          4215,
          4225,
          4235,
          4245,
          4255,
          4265,
          4275,
          4285,
          4295,
          4305,
          4315,
          4325,
          4335,
          4345,
          4355,
          4365,
          4375,
          4385,
          4395,
          4405,
          4415,
          4425,
          4435,
          4445,
          4455,
          4465,
          4475,
          4485,
          4495,
          4505,
          4515,
          4525,
          4535,
          4545,
          4555,
          4565,
          4575,
          4585,
          4595,
          4605,
          4615,
          4625,
          4635,
          4645,
          4655,
          4665,
          4675,
          4685,
          4695,
          4705,
          4715,
          4725,
          4735,
          4745,
          4755,
          4765,
          4775,
          4785,
          4795,
          4805,
          4815,
          4825,
          4835,
          4845,
          4855,
          4865,
          4875,
          4885,
          4895,
          4905,
          4915,
          4925,
          4935,
          4945,
          4955,
          4965,
          4975,
          4985,
          4995,
          5005,
          5015,
          5025,
          5035,
          5045,
          5055,
          5065,
          5075,
          5085,
          5095,
          5105,
          5115,
          5125,
          5135,
          5145,
          5155,
          5165,
          5175,
          5185,
          5195,
          5205,
          5215,
          5225,
          5235,
          5245,
          5255,
          5265,
          5275,
          5285,
          5295,
          5305,
          5315,
          5325,
          5335,
          5345,
          5355,
          5365,
          5375,
          5385,
          5395,
          5405,
          5415,
          5425,
          5435,
          5445,
          5455,
          5465
         ],
         "type": "linear",
         "zeroline": false
        },
        "yaxis": {
         "mirror": "allticks",
         "rangemode": "tozero",
         "showgrid": false,
         "showline": true,
         "showticklabels": true,
         "ticks": "outside",
         "type": "linear",
         "zeroline": false
        }
       }
      },
      "text/html": [
       "<div>                            <div id=\"2dc3f793-4c38-408d-bdd0-a7e10fd26c13\" class=\"plotly-graph-div\" style=\"height:500px; width:800px;\"></div>            <script type=\"text/javascript\">                require([\"plotly\"], function(Plotly) {                    window.PLOTLYENV=window.PLOTLYENV || {};                                    if (document.getElementById(\"2dc3f793-4c38-408d-bdd0-a7e10fd26c13\")) {                    Plotly.newPlot(                        \"2dc3f793-4c38-408d-bdd0-a7e10fd26c13\",                        [{\"hoverinfo\":\"text\",\"marker\":{\"color\":\"rgb(0,116,217)\"},\"mode\":\"lines\",\"x\":[15.0,15.0,25.0,25.0],\"xaxis\":\"x\",\"y\":[0.0,0.037186737325502824,0.037186737325502824,0.0],\"yaxis\":\"y\",\"type\":\"scatter\"},{\"hoverinfo\":\"text\",\"marker\":{\"color\":\"rgb(0,116,217)\"},\"mode\":\"lines\",\"x\":[35.0,35.0,45.0,45.0],\"xaxis\":\"x\",\"y\":[0.0,0.04925611489138193,0.04925611489138193,0.0],\"yaxis\":\"y\",\"type\":\"scatter\"},{\"hoverinfo\":\"text\",\"marker\":{\"color\":\"rgb(0,116,217)\"},\"mode\":\"lines\",\"x\":[20.0,20.0,40.0,40.0],\"xaxis\":\"x\",\"y\":[0.037186737325502824,0.1471713169762362,0.1471713169762362,0.04925611489138193],\"yaxis\":\"y\",\"type\":\"scatter\"},{\"hoverinfo\":\"text\",\"marker\":{\"color\":\"rgb(0,116,217)\"},\"mode\":\"lines\",\"x\":[55.0,55.0,65.0,65.0],\"xaxis\":\"x\",\"y\":[0.0,0.03976083361569799,0.03976083361569799,0.0],\"yaxis\":\"y\",\"type\":\"scatter\"},{\"hoverinfo\":\"text\",\"marker\":{\"color\":\"rgb(0,116,217)\"},\"mode\":\"lines\",\"x\":[75.0,75.0,85.0,85.0],\"xaxis\":\"x\",\"y\":[0.0,0.0924578105636737,0.0924578105636737,0.0],\"yaxis\":\"y\",\"type\":\"scatter\"},{\"hoverinfo\":\"text\",\"marker\":{\"color\":\"rgb(0,116,217)\"},\"mode\":\"lines\",\"x\":[60.0,60.0,80.0,80.0],\"xaxis\":\"x\",\"y\":[0.03976083361569799,0.29751393991484676,0.29751393991484676,0.0924578105636737],\"yaxis\":\"y\",\"type\":\"scatter\"},{\"hoverinfo\":\"text\",\"marker\":{\"color\":\"rgb(0,116,217)\"},\"mode\":\"lines\",\"x\":[30.0,30.0,70.0,70.0],\"xaxis\":\"x\",\"y\":[0.1471713169762362,1.0195754506010073,1.0195754506010073,0.29751393991484676],\"yaxis\":\"y\",\"type\":\"scatter\"},{\"hoverinfo\":\"text\",\"marker\":{\"color\":\"rgb(0,116,217)\"},\"mode\":\"lines\",\"x\":[95.0,95.0,105.0,105.0],\"xaxis\":\"x\",\"y\":[0.0,0.39265100551503246,0.39265100551503246,0.0],\"yaxis\":\"y\",\"type\":\"scatter\"},{\"hoverinfo\":\"text\",\"marker\":{\"color\":\"rgb(0,116,217)\"},\"mode\":\"lines\",\"x\":[135.0,135.0,145.0,145.0],\"xaxis\":\"x\",\"y\":[0.0,0.07482457562534175,0.07482457562534175,0.0],\"yaxis\":\"y\",\"type\":\"scatter\"},{\"hoverinfo\":\"text\",\"marker\":{\"color\":\"rgb(0,116,217)\"},\"mode\":\"lines\",\"x\":[125.0,125.0,140.0,140.0],\"xaxis\":\"x\",\"y\":[0.0,0.1529109949265751,0.1529109949265751,0.07482457562534175],\"yaxis\":\"y\",\"type\":\"scatter\"},{\"hoverinfo\":\"text\",\"marker\":{\"color\":\"rgb(0,116,217)\"},\"mode\":\"lines\",\"x\":[155.0,155.0,165.0,165.0],\"xaxis\":\"x\",\"y\":[0.0,0.05149429290023161,0.05149429290023161,0.0],\"yaxis\":\"y\",\"type\":\"scatter\"},{\"hoverinfo\":\"text\",\"marker\":{\"color\":\"rgb(0,116,217)\"},\"mode\":\"lines\",\"x\":[175.0,175.0,185.0,185.0],\"xaxis\":\"x\",\"y\":[0.0,0.10528467961731709,0.10528467961731709,0.0],\"yaxis\":\"y\",\"type\":\"scatter\"},{\"hoverinfo\":\"text\",\"marker\":{\"color\":\"rgb(0,116,217)\"},\"mode\":\"lines\",\"x\":[160.0,160.0,180.0,180.0],\"xaxis\":\"x\",\"y\":[0.05149429290023161,0.2843849162079907,0.2843849162079907,0.10528467961731709],\"yaxis\":\"y\",\"type\":\"scatter\"},{\"hoverinfo\":\"text\",\"marker\":{\"color\":\"rgb(0,116,217)\"},\"mode\":\"lines\",\"x\":[132.5,132.5,170.0,170.0],\"xaxis\":\"x\",\"y\":[0.1529109949265751,0.30924240139186504,0.30924240139186504,0.2843849162079907],\"yaxis\":\"y\",\"type\":\"scatter\"},{\"hoverinfo\":\"text\",\"marker\":{\"color\":\"rgb(0,116,217)\"},\"mode\":\"lines\",\"x\":[115.0,115.0,151.25,151.25],\"xaxis\":\"x\",\"y\":[0.0,0.560010928599582,0.560010928599582,0.30924240139186504],\"yaxis\":\"y\",\"type\":\"scatter\"},{\"hoverinfo\":\"text\",\"marker\":{\"color\":\"rgb(0,116,217)\"},\"mode\":\"lines\",\"x\":[100.0,100.0,133.125,133.125],\"xaxis\":\"x\",\"y\":[0.39265100551503246,1.0622215256778582,1.0622215256778582,0.560010928599582],\"yaxis\":\"y\",\"type\":\"scatter\"},{\"hoverinfo\":\"text\",\"marker\":{\"color\":\"rgb(0,116,217)\"},\"mode\":\"lines\",\"x\":[225.0,225.0,235.0,235.0],\"xaxis\":\"x\",\"y\":[0.0,0.0464326443101369,0.0464326443101369,0.0],\"yaxis\":\"y\",\"type\":\"scatter\"},{\"hoverinfo\":\"text\",\"marker\":{\"color\":\"rgb(0,116,217)\"},\"mode\":\"lines\",\"x\":[215.0,215.0,230.0,230.0],\"xaxis\":\"x\",\"y\":[0.0,0.06577485840900359,0.06577485840900359,0.0464326443101369],\"yaxis\":\"y\",\"type\":\"scatter\"},{\"hoverinfo\":\"text\",\"marker\":{\"color\":\"rgb(0,116,217)\"},\"mode\":\"lines\",\"x\":[205.0,205.0,222.5,222.5],\"xaxis\":\"x\",\"y\":[0.0,0.16498752620881454,0.16498752620881454,0.06577485840900359],\"yaxis\":\"y\",\"type\":\"scatter\"},{\"hoverinfo\":\"text\",\"marker\":{\"color\":\"rgb(0,116,217)\"},\"mode\":\"lines\",\"x\":[195.0,195.0,213.75,213.75],\"xaxis\":\"x\",\"y\":[0.0,0.3081982857238599,0.3081982857238599,0.16498752620881454],\"yaxis\":\"y\",\"type\":\"scatter\"},{\"hoverinfo\":\"text\",\"marker\":{\"color\":\"rgb(0,116,217)\"},\"mode\":\"lines\",\"x\":[245.0,245.0,255.0,255.0],\"xaxis\":\"x\",\"y\":[0.0,0.022145968067521372,0.022145968067521372,0.0],\"yaxis\":\"y\",\"type\":\"scatter\"},{\"hoverinfo\":\"text\",\"marker\":{\"color\":\"rgb(0,116,217)\"},\"mode\":\"lines\",\"x\":[265.0,265.0,275.0,275.0],\"xaxis\":\"x\",\"y\":[0.0,0.021734072073472704,0.021734072073472704,0.0],\"yaxis\":\"y\",\"type\":\"scatter\"},{\"hoverinfo\":\"text\",\"marker\":{\"color\":\"rgb(0,116,217)\"},\"mode\":\"lines\",\"x\":[295.0,295.0,305.0,305.0],\"xaxis\":\"x\",\"y\":[0.0,0.028191779571942056,0.028191779571942056,0.0],\"yaxis\":\"y\",\"type\":\"scatter\"},{\"hoverinfo\":\"text\",\"marker\":{\"color\":\"rgb(0,116,217)\"},\"mode\":\"lines\",\"x\":[285.0,285.0,300.0,300.0],\"xaxis\":\"x\",\"y\":[0.0,0.04906435991362902,0.04906435991362902,0.028191779571942056],\"yaxis\":\"y\",\"type\":\"scatter\"},{\"hoverinfo\":\"text\",\"marker\":{\"color\":\"rgb(0,116,217)\"},\"mode\":\"lines\",\"x\":[270.0,270.0,292.5,292.5],\"xaxis\":\"x\",\"y\":[0.021734072073472704,0.08566667312121681,0.08566667312121681,0.04906435991362902],\"yaxis\":\"y\",\"type\":\"scatter\"},{\"hoverinfo\":\"text\",\"marker\":{\"color\":\"rgb(0,116,217)\"},\"mode\":\"lines\",\"x\":[250.0,250.0,281.25,281.25],\"xaxis\":\"x\",\"y\":[0.022145968067521372,0.1314416291946441,0.1314416291946441,0.08566667312121681],\"yaxis\":\"y\",\"type\":\"scatter\"},{\"hoverinfo\":\"text\",\"marker\":{\"color\":\"rgb(0,116,217)\"},\"mode\":\"lines\",\"x\":[345.0,345.0,355.0,355.0],\"xaxis\":\"x\",\"y\":[0.0,0.03789063459592641,0.03789063459592641,0.0],\"yaxis\":\"y\",\"type\":\"scatter\"},{\"hoverinfo\":\"text\",\"marker\":{\"color\":\"rgb(0,116,217)\"},\"mode\":\"lines\",\"x\":[335.0,335.0,350.0,350.0],\"xaxis\":\"x\",\"y\":[0.0,0.053431363965131685,0.053431363965131685,0.03789063459592641],\"yaxis\":\"y\",\"type\":\"scatter\"},{\"hoverinfo\":\"text\",\"marker\":{\"color\":\"rgb(0,116,217)\"},\"mode\":\"lines\",\"x\":[325.0,325.0,342.5,342.5],\"xaxis\":\"x\",\"y\":[0.0,0.10733709367828691,0.10733709367828691,0.053431363965131685],\"yaxis\":\"y\",\"type\":\"scatter\"},{\"hoverinfo\":\"text\",\"marker\":{\"color\":\"rgb(0,116,217)\"},\"mode\":\"lines\",\"x\":[315.0,315.0,333.75,333.75],\"xaxis\":\"x\",\"y\":[0.0,0.17090750789228543,0.17090750789228543,0.10733709367828691],\"yaxis\":\"y\",\"type\":\"scatter\"},{\"hoverinfo\":\"text\",\"marker\":{\"color\":\"rgb(0,116,217)\"},\"mode\":\"lines\",\"x\":[265.625,265.625,324.375,324.375],\"xaxis\":\"x\",\"y\":[0.1314416291946441,0.23916400507872865,0.23916400507872865,0.17090750789228543],\"yaxis\":\"y\",\"type\":\"scatter\"},{\"hoverinfo\":\"text\",\"marker\":{\"color\":\"rgb(0,116,217)\"},\"mode\":\"lines\",\"x\":[375.0,375.0,385.0,385.0],\"xaxis\":\"x\",\"y\":[0.0,0.03710500891430426,0.03710500891430426,0.0],\"yaxis\":\"y\",\"type\":\"scatter\"},{\"hoverinfo\":\"text\",\"marker\":{\"color\":\"rgb(0,116,217)\"},\"mode\":\"lines\",\"x\":[395.0,395.0,405.0,405.0],\"xaxis\":\"x\",\"y\":[0.0,0.010074893836684876,0.010074893836684876,0.0],\"yaxis\":\"y\",\"type\":\"scatter\"},{\"hoverinfo\":\"text\",\"marker\":{\"color\":\"rgb(0,116,217)\"},\"mode\":\"lines\",\"x\":[415.0,415.0,425.0,425.0],\"xaxis\":\"x\",\"y\":[0.0,0.00949287996809776,0.00949287996809776,0.0],\"yaxis\":\"y\",\"type\":\"scatter\"},{\"hoverinfo\":\"text\",\"marker\":{\"color\":\"rgb(0,116,217)\"},\"mode\":\"lines\",\"x\":[465.0,465.0,475.0,475.0],\"xaxis\":\"x\",\"y\":[0.0,0.0013492039947420366,0.0013492039947420366,0.0],\"yaxis\":\"y\",\"type\":\"scatter\"},{\"hoverinfo\":\"text\",\"marker\":{\"color\":\"rgb(0,116,217)\"},\"mode\":\"lines\",\"x\":[455.0,455.0,470.0,470.0],\"xaxis\":\"x\",\"y\":[0.0,0.007674755564565643,0.007674755564565643,0.0013492039947420366],\"yaxis\":\"y\",\"type\":\"scatter\"},{\"hoverinfo\":\"text\",\"marker\":{\"color\":\"rgb(0,116,217)\"},\"mode\":\"lines\",\"x\":[445.0,445.0,462.5,462.5],\"xaxis\":\"x\",\"y\":[0.0,0.014441759501490067,0.014441759501490067,0.007674755564565643],\"yaxis\":\"y\",\"type\":\"scatter\"},{\"hoverinfo\":\"text\",\"marker\":{\"color\":\"rgb(0,116,217)\"},\"mode\":\"lines\",\"x\":[435.0,435.0,453.75,453.75],\"xaxis\":\"x\",\"y\":[0.0,0.023239396451873104,0.023239396451873104,0.014441759501490067],\"yaxis\":\"y\",\"type\":\"scatter\"},{\"hoverinfo\":\"text\",\"marker\":{\"color\":\"rgb(0,116,217)\"},\"mode\":\"lines\",\"x\":[420.0,420.0,444.375,444.375],\"xaxis\":\"x\",\"y\":[0.00949287996809776,0.042623217596317646,0.042623217596317646,0.023239396451873104],\"yaxis\":\"y\",\"type\":\"scatter\"},{\"hoverinfo\":\"text\",\"marker\":{\"color\":\"rgb(0,116,217)\"},\"mode\":\"lines\",\"x\":[400.0,400.0,432.1875,432.1875],\"xaxis\":\"x\",\"y\":[0.010074893836684876,0.06763144005725515,0.06763144005725515,0.042623217596317646],\"yaxis\":\"y\",\"type\":\"scatter\"},{\"hoverinfo\":\"text\",\"marker\":{\"color\":\"rgb(0,116,217)\"},\"mode\":\"lines\",\"x\":[380.0,380.0,416.09375,416.09375],\"xaxis\":\"x\",\"y\":[0.03710500891430426,0.12026254919048739,0.12026254919048739,0.06763144005725515],\"yaxis\":\"y\",\"type\":\"scatter\"},{\"hoverinfo\":\"text\",\"marker\":{\"color\":\"rgb(0,116,217)\"},\"mode\":\"lines\",\"x\":[365.0,365.0,398.046875,398.046875],\"xaxis\":\"x\",\"y\":[0.0,0.17810272057938425,0.17810272057938425,0.12026254919048739],\"yaxis\":\"y\",\"type\":\"scatter\"},{\"hoverinfo\":\"text\",\"marker\":{\"color\":\"rgb(0,116,217)\"},\"mode\":\"lines\",\"x\":[505.0,505.0,515.0,515.0],\"xaxis\":\"x\",\"y\":[0.0,0.00999731167676583,0.00999731167676583,0.0],\"yaxis\":\"y\",\"type\":\"scatter\"},{\"hoverinfo\":\"text\",\"marker\":{\"color\":\"rgb(0,116,217)\"},\"mode\":\"lines\",\"x\":[495.0,495.0,510.0,510.0],\"xaxis\":\"x\",\"y\":[0.0,0.04298796793802206,0.04298796793802206,0.00999731167676583],\"yaxis\":\"y\",\"type\":\"scatter\"},{\"hoverinfo\":\"text\",\"marker\":{\"color\":\"rgb(0,116,217)\"},\"mode\":\"lines\",\"x\":[535.0,535.0,545.0,545.0],\"xaxis\":\"x\",\"y\":[0.0,0.006592975928780984,0.006592975928780984,0.0],\"yaxis\":\"y\",\"type\":\"scatter\"},{\"hoverinfo\":\"text\",\"marker\":{\"color\":\"rgb(0,116,217)\"},\"mode\":\"lines\",\"x\":[525.0,525.0,540.0,540.0],\"xaxis\":\"x\",\"y\":[0.0,0.02751215892556543,0.02751215892556543,0.006592975928780984],\"yaxis\":\"y\",\"type\":\"scatter\"},{\"hoverinfo\":\"text\",\"marker\":{\"color\":\"rgb(0,116,217)\"},\"mode\":\"lines\",\"x\":[575.0,575.0,585.0,585.0],\"xaxis\":\"x\",\"y\":[0.0,0.009281935790385273,0.009281935790385273,0.0],\"yaxis\":\"y\",\"type\":\"scatter\"},{\"hoverinfo\":\"text\",\"marker\":{\"color\":\"rgb(0,116,217)\"},\"mode\":\"lines\",\"x\":[565.0,565.0,580.0,580.0],\"xaxis\":\"x\",\"y\":[0.0,0.02742110635999632,0.02742110635999632,0.009281935790385273],\"yaxis\":\"y\",\"type\":\"scatter\"},{\"hoverinfo\":\"text\",\"marker\":{\"color\":\"rgb(0,116,217)\"},\"mode\":\"lines\",\"x\":[555.0,555.0,572.5,572.5],\"xaxis\":\"x\",\"y\":[0.0,0.046149779114631334,0.046149779114631334,0.02742110635999632],\"yaxis\":\"y\",\"type\":\"scatter\"},{\"hoverinfo\":\"text\",\"marker\":{\"color\":\"rgb(0,116,217)\"},\"mode\":\"lines\",\"x\":[532.5,532.5,563.75,563.75],\"xaxis\":\"x\",\"y\":[0.02751215892556543,0.08056498486481475,0.08056498486481475,0.046149779114631334],\"yaxis\":\"y\",\"type\":\"scatter\"},{\"hoverinfo\":\"text\",\"marker\":{\"color\":\"rgb(0,116,217)\"},\"mode\":\"lines\",\"x\":[502.5,502.5,548.125,548.125],\"xaxis\":\"x\",\"y\":[0.04298796793802206,0.15508386651728542,0.15508386651728542,0.08056498486481475],\"yaxis\":\"y\",\"type\":\"scatter\"},{\"hoverinfo\":\"text\",\"marker\":{\"color\":\"rgb(0,116,217)\"},\"mode\":\"lines\",\"x\":[485.0,485.0,525.3125,525.3125],\"xaxis\":\"x\",\"y\":[0.0,0.23323918410976577,0.23323918410976577,0.15508386651728542],\"yaxis\":\"y\",\"type\":\"scatter\"},{\"hoverinfo\":\"text\",\"marker\":{\"color\":\"rgb(0,116,217)\"},\"mode\":\"lines\",\"x\":[381.5234375,381.5234375,505.15625,505.15625],\"xaxis\":\"x\",\"y\":[0.17810272057938425,0.4076480776892522,0.4076480776892522,0.23323918410976577],\"yaxis\":\"y\",\"type\":\"scatter\"},{\"hoverinfo\":\"text\",\"marker\":{\"color\":\"rgb(0,116,217)\"},\"mode\":\"lines\",\"x\":[605.0,605.0,615.0,615.0],\"xaxis\":\"x\",\"y\":[0.0,0.1253847747261991,0.1253847747261991,0.0],\"yaxis\":\"y\",\"type\":\"scatter\"},{\"hoverinfo\":\"text\",\"marker\":{\"color\":\"rgb(0,116,217)\"},\"mode\":\"lines\",\"x\":[645.0,645.0,655.0,655.0],\"xaxis\":\"x\",\"y\":[0.0,0.003708720885602984,0.003708720885602984,0.0],\"yaxis\":\"y\",\"type\":\"scatter\"},{\"hoverinfo\":\"text\",\"marker\":{\"color\":\"rgb(0,116,217)\"},\"mode\":\"lines\",\"x\":[635.0,635.0,650.0,650.0],\"xaxis\":\"x\",\"y\":[0.0,0.01071367428504675,0.01071367428504675,0.003708720885602984],\"yaxis\":\"y\",\"type\":\"scatter\"},{\"hoverinfo\":\"text\",\"marker\":{\"color\":\"rgb(0,116,217)\"},\"mode\":\"lines\",\"x\":[665.0,665.0,675.0,675.0],\"xaxis\":\"x\",\"y\":[0.0,0.016100120243880165,0.016100120243880165,0.0],\"yaxis\":\"y\",\"type\":\"scatter\"},{\"hoverinfo\":\"text\",\"marker\":{\"color\":\"rgb(0,116,217)\"},\"mode\":\"lines\",\"x\":[642.5,642.5,670.0,670.0],\"xaxis\":\"x\",\"y\":[0.01071367428504675,0.041387922803952516,0.041387922803952516,0.016100120243880165],\"yaxis\":\"y\",\"type\":\"scatter\"},{\"hoverinfo\":\"text\",\"marker\":{\"color\":\"rgb(0,116,217)\"},\"mode\":\"lines\",\"x\":[625.0,625.0,656.25,656.25],\"xaxis\":\"x\",\"y\":[0.0,0.07909058620461518,0.07909058620461518,0.041387922803952516],\"yaxis\":\"y\",\"type\":\"scatter\"},{\"hoverinfo\":\"text\",\"marker\":{\"color\":\"rgb(0,116,217)\"},\"mode\":\"lines\",\"x\":[695.0,695.0,705.0,705.0],\"xaxis\":\"x\",\"y\":[0.0,0.01841213321020343,0.01841213321020343,0.0],\"yaxis\":\"y\",\"type\":\"scatter\"},{\"hoverinfo\":\"text\",\"marker\":{\"color\":\"rgb(0,116,217)\"},\"mode\":\"lines\",\"x\":[685.0,685.0,700.0,700.0],\"xaxis\":\"x\",\"y\":[0.0,0.045373419933110844,0.045373419933110844,0.01841213321020343],\"yaxis\":\"y\",\"type\":\"scatter\"},{\"hoverinfo\":\"text\",\"marker\":{\"color\":\"rgb(0,116,217)\"},\"mode\":\"lines\",\"x\":[715.0,715.0,725.0,725.0],\"xaxis\":\"x\",\"y\":[0.0,0.013991576018883187,0.013991576018883187,0.0],\"yaxis\":\"y\",\"type\":\"scatter\"},{\"hoverinfo\":\"text\",\"marker\":{\"color\":\"rgb(0,116,217)\"},\"mode\":\"lines\",\"x\":[765.0,765.0,775.0,775.0],\"xaxis\":\"x\",\"y\":[0.0,0.0016774622072650055,0.0016774622072650055,0.0],\"yaxis\":\"y\",\"type\":\"scatter\"},{\"hoverinfo\":\"text\",\"marker\":{\"color\":\"rgb(0,116,217)\"},\"mode\":\"lines\",\"x\":[755.0,755.0,770.0,770.0],\"xaxis\":\"x\",\"y\":[0.0,0.003561425968852064,0.003561425968852064,0.0016774622072650055],\"yaxis\":\"y\",\"type\":\"scatter\"},{\"hoverinfo\":\"text\",\"marker\":{\"color\":\"rgb(0,116,217)\"},\"mode\":\"lines\",\"x\":[745.0,745.0,762.5,762.5],\"xaxis\":\"x\",\"y\":[0.0,0.006359336541519365,0.006359336541519365,0.003561425968852064],\"yaxis\":\"y\",\"type\":\"scatter\"},{\"hoverinfo\":\"text\",\"marker\":{\"color\":\"rgb(0,116,217)\"},\"mode\":\"lines\",\"x\":[735.0,735.0,753.75,753.75],\"xaxis\":\"x\",\"y\":[0.0,0.015530818094215719,0.015530818094215719,0.006359336541519365],\"yaxis\":\"y\",\"type\":\"scatter\"},{\"hoverinfo\":\"text\",\"marker\":{\"color\":\"rgb(0,116,217)\"},\"mode\":\"lines\",\"x\":[720.0,720.0,744.375,744.375],\"xaxis\":\"x\",\"y\":[0.013991576018883187,0.02886484424039304,0.02886484424039304,0.015530818094215719],\"yaxis\":\"y\",\"type\":\"scatter\"},{\"hoverinfo\":\"text\",\"marker\":{\"color\":\"rgb(0,116,217)\"},\"mode\":\"lines\",\"x\":[785.0,785.0,795.0,795.0],\"xaxis\":\"x\",\"y\":[0.0,0.0007015011886277896,0.0007015011886277896,0.0],\"yaxis\":\"y\",\"type\":\"scatter\"},{\"hoverinfo\":\"text\",\"marker\":{\"color\":\"rgb(0,116,217)\"},\"mode\":\"lines\",\"x\":[805.0,805.0,815.0,815.0],\"xaxis\":\"x\",\"y\":[0.0,0.002216249752137304,0.002216249752137304,0.0],\"yaxis\":\"y\",\"type\":\"scatter\"},{\"hoverinfo\":\"text\",\"marker\":{\"color\":\"rgb(0,116,217)\"},\"mode\":\"lines\",\"x\":[790.0,790.0,810.0,810.0],\"xaxis\":\"x\",\"y\":[0.0007015011886277896,0.004384091438548539,0.004384091438548539,0.002216249752137304],\"yaxis\":\"y\",\"type\":\"scatter\"},{\"hoverinfo\":\"text\",\"marker\":{\"color\":\"rgb(0,116,217)\"},\"mode\":\"lines\",\"x\":[825.0,825.0,835.0,835.0],\"xaxis\":\"x\",\"y\":[0.0,0.005433464819927342,0.005433464819927342,0.0],\"yaxis\":\"y\",\"type\":\"scatter\"},{\"hoverinfo\":\"text\",\"marker\":{\"color\":\"rgb(0,116,217)\"},\"mode\":\"lines\",\"x\":[800.0,800.0,830.0,830.0],\"xaxis\":\"x\",\"y\":[0.004384091438548539,0.01654480053300312,0.01654480053300312,0.005433464819927342],\"yaxis\":\"y\",\"type\":\"scatter\"},{\"hoverinfo\":\"text\",\"marker\":{\"color\":\"rgb(0,116,217)\"},\"mode\":\"lines\",\"x\":[855.0,855.0,865.0,865.0],\"xaxis\":\"x\",\"y\":[0.0,0.0040419541175064294,0.0040419541175064294,0.0],\"yaxis\":\"y\",\"type\":\"scatter\"},{\"hoverinfo\":\"text\",\"marker\":{\"color\":\"rgb(0,116,217)\"},\"mode\":\"lines\",\"x\":[845.0,845.0,860.0,860.0],\"xaxis\":\"x\",\"y\":[0.0,0.006786514891437427,0.006786514891437427,0.0040419541175064294],\"yaxis\":\"y\",\"type\":\"scatter\"},{\"hoverinfo\":\"text\",\"marker\":{\"color\":\"rgb(0,116,217)\"},\"mode\":\"lines\",\"x\":[885.0,885.0,895.0,895.0],\"xaxis\":\"x\",\"y\":[0.0,0.004293878091746544,0.004293878091746544,0.0],\"yaxis\":\"y\",\"type\":\"scatter\"},{\"hoverinfo\":\"text\",\"marker\":{\"color\":\"rgb(0,116,217)\"},\"mode\":\"lines\",\"x\":[875.0,875.0,890.0,890.0],\"xaxis\":\"x\",\"y\":[0.0,0.0070720895965234445,0.0070720895965234445,0.004293878091746544],\"yaxis\":\"y\",\"type\":\"scatter\"},{\"hoverinfo\":\"text\",\"marker\":{\"color\":\"rgb(0,116,217)\"},\"mode\":\"lines\",\"x\":[852.5,852.5,882.5,882.5],\"xaxis\":\"x\",\"y\":[0.006786514891437427,0.01739648984945536,0.01739648984945536,0.0070720895965234445],\"yaxis\":\"y\",\"type\":\"scatter\"},{\"hoverinfo\":\"text\",\"marker\":{\"color\":\"rgb(0,116,217)\"},\"mode\":\"lines\",\"x\":[815.0,815.0,867.5,867.5],\"xaxis\":\"x\",\"y\":[0.01654480053300312,0.044832432946222946,0.044832432946222946,0.01739648984945536],\"yaxis\":\"y\",\"type\":\"scatter\"},{\"hoverinfo\":\"text\",\"marker\":{\"color\":\"rgb(0,116,217)\"},\"mode\":\"lines\",\"x\":[732.1875,732.1875,841.25,841.25],\"xaxis\":\"x\",\"y\":[0.02886484424039304,0.06569953328736364,0.06569953328736364,0.044832432946222946],\"yaxis\":\"y\",\"type\":\"scatter\"},{\"hoverinfo\":\"text\",\"marker\":{\"color\":\"rgb(0,116,217)\"},\"mode\":\"lines\",\"x\":[692.5,692.5,786.71875,786.71875],\"xaxis\":\"x\",\"y\":[0.045373419933110844,0.07936234056065967,0.07936234056065967,0.06569953328736364],\"yaxis\":\"y\",\"type\":\"scatter\"},{\"hoverinfo\":\"text\",\"marker\":{\"color\":\"rgb(0,116,217)\"},\"mode\":\"lines\",\"x\":[640.625,640.625,739.609375,739.609375],\"xaxis\":\"x\",\"y\":[0.07909058620461518,0.11853847705317384,0.11853847705317384,0.07936234056065967],\"yaxis\":\"y\",\"type\":\"scatter\"},{\"hoverinfo\":\"text\",\"marker\":{\"color\":\"rgb(0,116,217)\"},\"mode\":\"lines\",\"x\":[915.0,915.0,925.0,925.0],\"xaxis\":\"x\",\"y\":[0.0,0.0005199000992899978,0.0005199000992899978,0.0],\"yaxis\":\"y\",\"type\":\"scatter\"},{\"hoverinfo\":\"text\",\"marker\":{\"color\":\"rgb(0,116,217)\"},\"mode\":\"lines\",\"x\":[955.0,955.0,965.0,965.0],\"xaxis\":\"x\",\"y\":[0.0,0.0026964421085812055,0.0026964421085812055,0.0],\"yaxis\":\"y\",\"type\":\"scatter\"},{\"hoverinfo\":\"text\",\"marker\":{\"color\":\"rgb(0,116,217)\"},\"mode\":\"lines\",\"x\":[945.0,945.0,960.0,960.0],\"xaxis\":\"x\",\"y\":[0.0,0.005850760006074815,0.005850760006074815,0.0026964421085812055],\"yaxis\":\"y\",\"type\":\"scatter\"},{\"hoverinfo\":\"text\",\"marker\":{\"color\":\"rgb(0,116,217)\"},\"mode\":\"lines\",\"x\":[935.0,935.0,952.5,952.5],\"xaxis\":\"x\",\"y\":[0.0,0.012227222393004786,0.012227222393004786,0.005850760006074815],\"yaxis\":\"y\",\"type\":\"scatter\"},{\"hoverinfo\":\"text\",\"marker\":{\"color\":\"rgb(0,116,217)\"},\"mode\":\"lines\",\"x\":[920.0,920.0,943.75,943.75],\"xaxis\":\"x\",\"y\":[0.0005199000992899978,0.020775120837596875,0.020775120837596875,0.012227222393004786],\"yaxis\":\"y\",\"type\":\"scatter\"},{\"hoverinfo\":\"text\",\"marker\":{\"color\":\"rgb(0,116,217)\"},\"mode\":\"lines\",\"x\":[905.0,905.0,931.875,931.875],\"xaxis\":\"x\",\"y\":[0.0,0.03866770698675398,0.03866770698675398,0.020775120837596875],\"yaxis\":\"y\",\"type\":\"scatter\"},{\"hoverinfo\":\"text\",\"marker\":{\"color\":\"rgb(0,116,217)\"},\"mode\":\"lines\",\"x\":[985.0,985.0,995.0,995.0],\"xaxis\":\"x\",\"y\":[0.0,0.010550072632535894,0.010550072632535894,0.0],\"yaxis\":\"y\",\"type\":\"scatter\"},{\"hoverinfo\":\"text\",\"marker\":{\"color\":\"rgb(0,116,217)\"},\"mode\":\"lines\",\"x\":[1005.0,1005.0,1015.0,1015.0],\"xaxis\":\"x\",\"y\":[0.0,0.0034402828515134854,0.0034402828515134854,0.0],\"yaxis\":\"y\",\"type\":\"scatter\"},{\"hoverinfo\":\"text\",\"marker\":{\"color\":\"rgb(0,116,217)\"},\"mode\":\"lines\",\"x\":[1025.0,1025.0,1035.0,1035.0],\"xaxis\":\"x\",\"y\":[0.0,0.004770282864485271,0.004770282864485271,0.0],\"yaxis\":\"y\",\"type\":\"scatter\"},{\"hoverinfo\":\"text\",\"marker\":{\"color\":\"rgb(0,116,217)\"},\"mode\":\"lines\",\"x\":[1010.0,1010.0,1030.0,1030.0],\"xaxis\":\"x\",\"y\":[0.0034402828515134854,0.014143655792937545,0.014143655792937545,0.004770282864485271],\"yaxis\":\"y\",\"type\":\"scatter\"},{\"hoverinfo\":\"text\",\"marker\":{\"color\":\"rgb(0,116,217)\"},\"mode\":\"lines\",\"x\":[990.0,990.0,1020.0,1020.0],\"xaxis\":\"x\",\"y\":[0.010550072632535894,0.04109686613946055,0.04109686613946055,0.014143655792937545],\"yaxis\":\"y\",\"type\":\"scatter\"},{\"hoverinfo\":\"text\",\"marker\":{\"color\":\"rgb(0,116,217)\"},\"mode\":\"lines\",\"x\":[975.0,975.0,1005.0,1005.0],\"xaxis\":\"x\",\"y\":[0.0,0.043089215863788895,0.043089215863788895,0.04109686613946055],\"yaxis\":\"y\",\"type\":\"scatter\"},{\"hoverinfo\":\"text\",\"marker\":{\"color\":\"rgb(0,116,217)\"},\"mode\":\"lines\",\"x\":[918.4375,918.4375,990.0,990.0],\"xaxis\":\"x\",\"y\":[0.03866770698675398,0.07754622051529314,0.07754622051529314,0.043089215863788895],\"yaxis\":\"y\",\"type\":\"scatter\"},{\"hoverinfo\":\"text\",\"marker\":{\"color\":\"rgb(0,116,217)\"},\"mode\":\"lines\",\"x\":[1055.0,1055.0,1065.0,1065.0],\"xaxis\":\"x\",\"y\":[0.0,0.0038023389856493505,0.0038023389856493505,0.0],\"yaxis\":\"y\",\"type\":\"scatter\"},{\"hoverinfo\":\"text\",\"marker\":{\"color\":\"rgb(0,116,217)\"},\"mode\":\"lines\",\"x\":[1075.0,1075.0,1085.0,1085.0],\"xaxis\":\"x\",\"y\":[0.0,0.004936898107379405,0.004936898107379405,0.0],\"yaxis\":\"y\",\"type\":\"scatter\"},{\"hoverinfo\":\"text\",\"marker\":{\"color\":\"rgb(0,116,217)\"},\"mode\":\"lines\",\"x\":[1060.0,1060.0,1080.0,1080.0],\"xaxis\":\"x\",\"y\":[0.0038023389856493505,0.010445224563996252,0.010445224563996252,0.004936898107379405],\"yaxis\":\"y\",\"type\":\"scatter\"},{\"hoverinfo\":\"text\",\"marker\":{\"color\":\"rgb(0,116,217)\"},\"mode\":\"lines\",\"x\":[1105.0,1105.0,1115.0,1115.0],\"xaxis\":\"x\",\"y\":[0.0,0.0019900305054801008,0.0019900305054801008,0.0],\"yaxis\":\"y\",\"type\":\"scatter\"},{\"hoverinfo\":\"text\",\"marker\":{\"color\":\"rgb(0,116,217)\"},\"mode\":\"lines\",\"x\":[1095.0,1095.0,1110.0,1110.0],\"xaxis\":\"x\",\"y\":[0.0,0.010682484966760719,0.010682484966760719,0.0019900305054801008],\"yaxis\":\"y\",\"type\":\"scatter\"},{\"hoverinfo\":\"text\",\"marker\":{\"color\":\"rgb(0,116,217)\"},\"mode\":\"lines\",\"x\":[1070.0,1070.0,1102.5,1102.5],\"xaxis\":\"x\",\"y\":[0.010445224563996252,0.026188352884782787,0.026188352884782787,0.010682484966760719],\"yaxis\":\"y\",\"type\":\"scatter\"},{\"hoverinfo\":\"text\",\"marker\":{\"color\":\"rgb(0,116,217)\"},\"mode\":\"lines\",\"x\":[1045.0,1045.0,1086.25,1086.25],\"xaxis\":\"x\",\"y\":[0.0,0.04131207925881349,0.04131207925881349,0.026188352884782787],\"yaxis\":\"y\",\"type\":\"scatter\"},{\"hoverinfo\":\"text\",\"marker\":{\"color\":\"rgb(0,116,217)\"},\"mode\":\"lines\",\"x\":[1135.0,1135.0,1145.0,1145.0],\"xaxis\":\"x\",\"y\":[0.0,0.005642671978969062,0.005642671978969062,0.0],\"yaxis\":\"y\",\"type\":\"scatter\"},{\"hoverinfo\":\"text\",\"marker\":{\"color\":\"rgb(0,116,217)\"},\"mode\":\"lines\",\"x\":[1165.0,1165.0,1175.0,1175.0],\"xaxis\":\"x\",\"y\":[0.0,0.003954042867331998,0.003954042867331998,0.0],\"yaxis\":\"y\",\"type\":\"scatter\"},{\"hoverinfo\":\"text\",\"marker\":{\"color\":\"rgb(0,116,217)\"},\"mode\":\"lines\",\"x\":[1155.0,1155.0,1170.0,1170.0],\"xaxis\":\"x\",\"y\":[0.0,0.00770479471536922,0.00770479471536922,0.003954042867331998],\"yaxis\":\"y\",\"type\":\"scatter\"},{\"hoverinfo\":\"text\",\"marker\":{\"color\":\"rgb(0,116,217)\"},\"mode\":\"lines\",\"x\":[1140.0,1140.0,1162.5,1162.5],\"xaxis\":\"x\",\"y\":[0.005642671978969062,0.018057664873789698,0.018057664873789698,0.00770479471536922],\"yaxis\":\"y\",\"type\":\"scatter\"},{\"hoverinfo\":\"text\",\"marker\":{\"color\":\"rgb(0,116,217)\"},\"mode\":\"lines\",\"x\":[1125.0,1125.0,1151.25,1151.25],\"xaxis\":\"x\",\"y\":[0.0,0.04644751911086932,0.04644751911086932,0.018057664873789698],\"yaxis\":\"y\",\"type\":\"scatter\"},{\"hoverinfo\":\"text\",\"marker\":{\"color\":\"rgb(0,116,217)\"},\"mode\":\"lines\",\"x\":[1185.0,1185.0,1195.0,1195.0],\"xaxis\":\"x\",\"y\":[0.0,0.00804656479255146,0.00804656479255146,0.0],\"yaxis\":\"y\",\"type\":\"scatter\"},{\"hoverinfo\":\"text\",\"marker\":{\"color\":\"rgb(0,116,217)\"},\"mode\":\"lines\",\"x\":[1205.0,1205.0,1215.0,1215.0],\"xaxis\":\"x\",\"y\":[0.0,0.0032564828343126097,0.0032564828343126097,0.0],\"yaxis\":\"y\",\"type\":\"scatter\"},{\"hoverinfo\":\"text\",\"marker\":{\"color\":\"rgb(0,116,217)\"},\"mode\":\"lines\",\"x\":[1225.0,1225.0,1235.0,1235.0],\"xaxis\":\"x\",\"y\":[0.0,0.0037087042044185057,0.0037087042044185057,0.0],\"yaxis\":\"y\",\"type\":\"scatter\"},{\"hoverinfo\":\"text\",\"marker\":{\"color\":\"rgb(0,116,217)\"},\"mode\":\"lines\",\"x\":[1210.0,1210.0,1230.0,1230.0],\"xaxis\":\"x\",\"y\":[0.0032564828343126097,0.010868468027768087,0.010868468027768087,0.0037087042044185057],\"yaxis\":\"y\",\"type\":\"scatter\"},{\"hoverinfo\":\"text\",\"marker\":{\"color\":\"rgb(0,116,217)\"},\"mode\":\"lines\",\"x\":[1255.0,1255.0,1265.0,1265.0],\"xaxis\":\"x\",\"y\":[0.0,0.0037117198800869842,0.0037117198800869842,0.0],\"yaxis\":\"y\",\"type\":\"scatter\"},{\"hoverinfo\":\"text\",\"marker\":{\"color\":\"rgb(0,116,217)\"},\"mode\":\"lines\",\"x\":[1245.0,1245.0,1260.0,1260.0],\"xaxis\":\"x\",\"y\":[0.0,0.01619560194673507,0.01619560194673507,0.0037117198800869842],\"yaxis\":\"y\",\"type\":\"scatter\"},{\"hoverinfo\":\"text\",\"marker\":{\"color\":\"rgb(0,116,217)\"},\"mode\":\"lines\",\"x\":[1220.0,1220.0,1252.5,1252.5],\"xaxis\":\"x\",\"y\":[0.010868468027768087,0.03438954403465954,0.03438954403465954,0.01619560194673507],\"yaxis\":\"y\",\"type\":\"scatter\"},{\"hoverinfo\":\"text\",\"marker\":{\"color\":\"rgb(0,116,217)\"},\"mode\":\"lines\",\"x\":[1190.0,1190.0,1236.25,1236.25],\"xaxis\":\"x\",\"y\":[0.00804656479255146,0.05080697373097511,0.05080697373097511,0.03438954403465954],\"yaxis\":\"y\",\"type\":\"scatter\"},{\"hoverinfo\":\"text\",\"marker\":{\"color\":\"rgb(0,116,217)\"},\"mode\":\"lines\",\"x\":[1138.125,1138.125,1213.125,1213.125],\"xaxis\":\"x\",\"y\":[0.04644751911086932,0.074145573441747,0.074145573441747,0.05080697373097511],\"yaxis\":\"y\",\"type\":\"scatter\"},{\"hoverinfo\":\"text\",\"marker\":{\"color\":\"rgb(0,116,217)\"},\"mode\":\"lines\",\"x\":[1065.625,1065.625,1175.625,1175.625],\"xaxis\":\"x\",\"y\":[0.04131207925881349,0.10638089831662463,0.10638089831662463,0.074145573441747],\"yaxis\":\"y\",\"type\":\"scatter\"},{\"hoverinfo\":\"text\",\"marker\":{\"color\":\"rgb(0,116,217)\"},\"mode\":\"lines\",\"x\":[954.21875,954.21875,1120.625,1120.625],\"xaxis\":\"x\",\"y\":[0.07754622051529314,0.1433099551304289,0.1433099551304289,0.10638089831662463],\"yaxis\":\"y\",\"type\":\"scatter\"},{\"hoverinfo\":\"text\",\"marker\":{\"color\":\"rgb(0,116,217)\"},\"mode\":\"lines\",\"x\":[690.1171875,690.1171875,1037.421875,1037.421875],\"xaxis\":\"x\",\"y\":[0.11853847705317384,0.2354353996731259,0.2354353996731259,0.1433099551304289],\"yaxis\":\"y\",\"type\":\"scatter\"},{\"hoverinfo\":\"text\",\"marker\":{\"color\":\"rgb(0,116,217)\"},\"mode\":\"lines\",\"x\":[610.0,610.0,863.76953125,863.76953125],\"xaxis\":\"x\",\"y\":[0.1253847747261991,0.3262136010815635,0.3262136010815635,0.2354353996731259],\"yaxis\":\"y\",\"type\":\"scatter\"},{\"hoverinfo\":\"text\",\"marker\":{\"color\":\"rgb(0,116,217)\"},\"mode\":\"lines\",\"x\":[595.0,595.0,736.884765625,736.884765625],\"xaxis\":\"x\",\"y\":[0.0,0.5108647477596255,0.5108647477596255,0.3262136010815635],\"yaxis\":\"y\",\"type\":\"scatter\"},{\"hoverinfo\":\"text\",\"marker\":{\"color\":\"rgb(0,116,217)\"},\"mode\":\"lines\",\"x\":[443.33984375,443.33984375,665.9423828125,665.9423828125],\"xaxis\":\"x\",\"y\":[0.4076480776892522,0.7109940681524249,0.7109940681524249,0.5108647477596255],\"yaxis\":\"y\",\"type\":\"scatter\"},{\"hoverinfo\":\"text\",\"marker\":{\"color\":\"rgb(0,116,217)\"},\"mode\":\"lines\",\"x\":[295.0,295.0,554.64111328125,554.64111328125],\"xaxis\":\"x\",\"y\":[0.23916400507872865,0.8153740636431759,0.8153740636431759,0.7109940681524249],\"yaxis\":\"y\",\"type\":\"scatter\"},{\"hoverinfo\":\"text\",\"marker\":{\"color\":\"rgb(0,116,217)\"},\"mode\":\"lines\",\"x\":[204.375,204.375,424.820556640625,424.820556640625],\"xaxis\":\"x\",\"y\":[0.3081982857238599,1.2120438620889387,1.2120438620889387,0.8153740636431759],\"yaxis\":\"y\",\"type\":\"scatter\"},{\"hoverinfo\":\"text\",\"marker\":{\"color\":\"rgb(0,116,217)\"},\"mode\":\"lines\",\"x\":[116.5625,116.5625,314.5977783203125,314.5977783203125],\"xaxis\":\"x\",\"y\":[1.0622215256778582,1.5786364982943673,1.5786364982943673,1.2120438620889387],\"yaxis\":\"y\",\"type\":\"scatter\"},{\"hoverinfo\":\"text\",\"marker\":{\"color\":\"rgb(0,116,217)\"},\"mode\":\"lines\",\"x\":[50.0,50.0,215.58013916015625,215.58013916015625],\"xaxis\":\"x\",\"y\":[1.0195754506010073,2.0611388387108027,2.0611388387108027,1.5786364982943673],\"yaxis\":\"y\",\"type\":\"scatter\"},{\"hoverinfo\":\"text\",\"marker\":{\"color\":\"rgb(0,116,217)\"},\"mode\":\"lines\",\"x\":[1275.0,1275.0,1285.0,1285.0],\"xaxis\":\"x\",\"y\":[0.0,0.419795117843097,0.419795117843097,0.0],\"yaxis\":\"y\",\"type\":\"scatter\"},{\"hoverinfo\":\"text\",\"marker\":{\"color\":\"rgb(0,116,217)\"},\"mode\":\"lines\",\"x\":[1305.0,1305.0,1315.0,1315.0],\"xaxis\":\"x\",\"y\":[0.0,0.25791712653704585,0.25791712653704585,0.0],\"yaxis\":\"y\",\"type\":\"scatter\"},{\"hoverinfo\":\"text\",\"marker\":{\"color\":\"rgb(0,116,217)\"},\"mode\":\"lines\",\"x\":[1325.0,1325.0,1335.0,1335.0],\"xaxis\":\"x\",\"y\":[0.0,0.03988673553485042,0.03988673553485042,0.0],\"yaxis\":\"y\",\"type\":\"scatter\"},{\"hoverinfo\":\"text\",\"marker\":{\"color\":\"rgb(0,116,217)\"},\"mode\":\"lines\",\"x\":[1355.0,1355.0,1365.0,1365.0],\"xaxis\":\"x\",\"y\":[0.0,0.004591424158976335,0.004591424158976335,0.0],\"yaxis\":\"y\",\"type\":\"scatter\"},{\"hoverinfo\":\"text\",\"marker\":{\"color\":\"rgb(0,116,217)\"},\"mode\":\"lines\",\"x\":[1345.0,1345.0,1360.0,1360.0],\"xaxis\":\"x\",\"y\":[0.0,0.012803593967505801,0.012803593967505801,0.004591424158976335],\"yaxis\":\"y\",\"type\":\"scatter\"},{\"hoverinfo\":\"text\",\"marker\":{\"color\":\"rgb(0,116,217)\"},\"mode\":\"lines\",\"x\":[1385.0,1385.0,1395.0,1395.0],\"xaxis\":\"x\",\"y\":[0.0,0.00853062219132843,0.00853062219132843,0.0],\"yaxis\":\"y\",\"type\":\"scatter\"},{\"hoverinfo\":\"text\",\"marker\":{\"color\":\"rgb(0,116,217)\"},\"mode\":\"lines\",\"x\":[1375.0,1375.0,1390.0,1390.0],\"xaxis\":\"x\",\"y\":[0.0,0.01950543455846986,0.01950543455846986,0.00853062219132843],\"yaxis\":\"y\",\"type\":\"scatter\"},{\"hoverinfo\":\"text\",\"marker\":{\"color\":\"rgb(0,116,217)\"},\"mode\":\"lines\",\"x\":[1405.0,1405.0,1415.0,1415.0],\"xaxis\":\"x\",\"y\":[0.0,0.03738307377327442,0.03738307377327442,0.0],\"yaxis\":\"y\",\"type\":\"scatter\"},{\"hoverinfo\":\"text\",\"marker\":{\"color\":\"rgb(0,116,217)\"},\"mode\":\"lines\",\"x\":[1382.5,1382.5,1410.0,1410.0],\"xaxis\":\"x\",\"y\":[0.01950543455846986,0.05584849416758884,0.05584849416758884,0.03738307377327442],\"yaxis\":\"y\",\"type\":\"scatter\"},{\"hoverinfo\":\"text\",\"marker\":{\"color\":\"rgb(0,116,217)\"},\"mode\":\"lines\",\"x\":[1352.5,1352.5,1396.25,1396.25],\"xaxis\":\"x\",\"y\":[0.012803593967505801,0.09771660808773372,0.09771660808773372,0.05584849416758884],\"yaxis\":\"y\",\"type\":\"scatter\"},{\"hoverinfo\":\"text\",\"marker\":{\"color\":\"rgb(0,116,217)\"},\"mode\":\"lines\",\"x\":[1425.0,1425.0,1435.0,1435.0],\"xaxis\":\"x\",\"y\":[0.0,0.08326677769052618,0.08326677769052618,0.0],\"yaxis\":\"y\",\"type\":\"scatter\"},{\"hoverinfo\":\"text\",\"marker\":{\"color\":\"rgb(0,116,217)\"},\"mode\":\"lines\",\"x\":[1455.0,1455.0,1465.0,1465.0],\"xaxis\":\"x\",\"y\":[0.0,0.06130686146708754,0.06130686146708754,0.0],\"yaxis\":\"y\",\"type\":\"scatter\"},{\"hoverinfo\":\"text\",\"marker\":{\"color\":\"rgb(0,116,217)\"},\"mode\":\"lines\",\"x\":[1445.0,1445.0,1460.0,1460.0],\"xaxis\":\"x\",\"y\":[0.0,0.13311586824365298,0.13311586824365298,0.06130686146708754],\"yaxis\":\"y\",\"type\":\"scatter\"},{\"hoverinfo\":\"text\",\"marker\":{\"color\":\"rgb(0,116,217)\"},\"mode\":\"lines\",\"x\":[1430.0,1430.0,1452.5,1452.5],\"xaxis\":\"x\",\"y\":[0.08326677769052618,0.2830697210163767,0.2830697210163767,0.13311586824365298],\"yaxis\":\"y\",\"type\":\"scatter\"},{\"hoverinfo\":\"text\",\"marker\":{\"color\":\"rgb(0,116,217)\"},\"mode\":\"lines\",\"x\":[1374.375,1374.375,1441.25,1441.25],\"xaxis\":\"x\",\"y\":[0.09771660808773372,0.39422678093055563,0.39422678093055563,0.2830697210163767],\"yaxis\":\"y\",\"type\":\"scatter\"},{\"hoverinfo\":\"text\",\"marker\":{\"color\":\"rgb(0,116,217)\"},\"mode\":\"lines\",\"x\":[1330.0,1330.0,1407.8125,1407.8125],\"xaxis\":\"x\",\"y\":[0.03988673553485042,0.5799227548836572,0.5799227548836572,0.39422678093055563],\"yaxis\":\"y\",\"type\":\"scatter\"},{\"hoverinfo\":\"text\",\"marker\":{\"color\":\"rgb(0,116,217)\"},\"mode\":\"lines\",\"x\":[1310.0,1310.0,1368.90625,1368.90625],\"xaxis\":\"x\",\"y\":[0.25791712653704585,0.6258752959339196,0.6258752959339196,0.5799227548836572],\"yaxis\":\"y\",\"type\":\"scatter\"},{\"hoverinfo\":\"text\",\"marker\":{\"color\":\"rgb(0,116,217)\"},\"mode\":\"lines\",\"x\":[1295.0,1295.0,1339.453125,1339.453125],\"xaxis\":\"x\",\"y\":[0.0,0.7666771189518923,0.7666771189518923,0.6258752959339196],\"yaxis\":\"y\",\"type\":\"scatter\"},{\"hoverinfo\":\"text\",\"marker\":{\"color\":\"rgb(0,116,217)\"},\"mode\":\"lines\",\"x\":[1280.0,1280.0,1317.2265625,1317.2265625],\"xaxis\":\"x\",\"y\":[0.419795117843097,1.071024059939115,1.071024059939115,0.7666771189518923],\"yaxis\":\"y\",\"type\":\"scatter\"},{\"hoverinfo\":\"text\",\"marker\":{\"color\":\"rgb(0,116,217)\"},\"mode\":\"lines\",\"x\":[1495.0,1495.0,1505.0,1505.0],\"xaxis\":\"x\",\"y\":[0.0,0.13448153810476307,0.13448153810476307,0.0],\"yaxis\":\"y\",\"type\":\"scatter\"},{\"hoverinfo\":\"text\",\"marker\":{\"color\":\"rgb(0,116,217)\"},\"mode\":\"lines\",\"x\":[1485.0,1485.0,1500.0,1500.0],\"xaxis\":\"x\",\"y\":[0.0,0.25018429924088675,0.25018429924088675,0.13448153810476307],\"yaxis\":\"y\",\"type\":\"scatter\"},{\"hoverinfo\":\"text\",\"marker\":{\"color\":\"rgb(0,116,217)\"},\"mode\":\"lines\",\"x\":[1475.0,1475.0,1492.5,1492.5],\"xaxis\":\"x\",\"y\":[0.0,0.6176064107369205,0.6176064107369205,0.25018429924088675],\"yaxis\":\"y\",\"type\":\"scatter\"},{\"hoverinfo\":\"text\",\"marker\":{\"color\":\"rgb(0,116,217)\"},\"mode\":\"lines\",\"x\":[1515.0,1515.0,1525.0,1525.0],\"xaxis\":\"x\",\"y\":[0.0,0.6222255237285315,0.6222255237285315,0.0],\"yaxis\":\"y\",\"type\":\"scatter\"},{\"hoverinfo\":\"text\",\"marker\":{\"color\":\"rgb(0,116,217)\"},\"mode\":\"lines\",\"x\":[1483.75,1483.75,1520.0,1520.0],\"xaxis\":\"x\",\"y\":[0.6176064107369205,1.3039190621106485,1.3039190621106485,0.6222255237285315],\"yaxis\":\"y\",\"type\":\"scatter\"},{\"hoverinfo\":\"text\",\"marker\":{\"color\":\"rgb(0,116,217)\"},\"mode\":\"lines\",\"x\":[1555.0,1555.0,1565.0,1565.0],\"xaxis\":\"x\",\"y\":[0.0,0.07816061644468295,0.07816061644468295,0.0],\"yaxis\":\"y\",\"type\":\"scatter\"},{\"hoverinfo\":\"text\",\"marker\":{\"color\":\"rgb(0,116,217)\"},\"mode\":\"lines\",\"x\":[1545.0,1545.0,1560.0,1560.0],\"xaxis\":\"x\",\"y\":[0.0,1.0659321545343141,1.0659321545343141,0.07816061644468295],\"yaxis\":\"y\",\"type\":\"scatter\"},{\"hoverinfo\":\"text\",\"marker\":{\"color\":\"rgb(0,116,217)\"},\"mode\":\"lines\",\"x\":[1535.0,1535.0,1552.5,1552.5],\"xaxis\":\"x\",\"y\":[0.0,1.673650035711729,1.673650035711729,1.0659321545343141],\"yaxis\":\"y\",\"type\":\"scatter\"},{\"hoverinfo\":\"text\",\"marker\":{\"color\":\"rgb(0,116,217)\"},\"mode\":\"lines\",\"x\":[1501.875,1501.875,1543.75,1543.75],\"xaxis\":\"x\",\"y\":[1.3039190621106485,2.3785787976272457,2.3785787976272457,1.673650035711729],\"yaxis\":\"y\",\"type\":\"scatter\"},{\"hoverinfo\":\"text\",\"marker\":{\"color\":\"rgb(0,116,217)\"},\"mode\":\"lines\",\"x\":[1298.61328125,1298.61328125,1522.8125,1522.8125],\"xaxis\":\"x\",\"y\":[1.071024059939115,2.744050560446706,2.744050560446706,2.3785787976272457],\"yaxis\":\"y\",\"type\":\"scatter\"},{\"hoverinfo\":\"text\",\"marker\":{\"color\":\"rgb(0,116,217)\"},\"mode\":\"lines\",\"x\":[132.79006958007812,132.79006958007812,1410.712890625,1410.712890625],\"xaxis\":\"x\",\"y\":[2.0611388387108027,3.7042341701860035,3.7042341701860035,2.744050560446706],\"yaxis\":\"y\",\"type\":\"scatter\"},{\"hoverinfo\":\"text\",\"marker\":{\"color\":\"rgb(0,116,217)\"},\"mode\":\"lines\",\"x\":[5.0,5.0,771.7514801025391,771.7514801025391],\"xaxis\":\"x\",\"y\":[0.0,4.5363124078862995,4.5363124078862995,3.7042341701860035],\"yaxis\":\"y\",\"type\":\"scatter\"},{\"hoverinfo\":\"text\",\"marker\":{\"color\":\"rgb(0,116,217)\"},\"mode\":\"lines\",\"x\":[1575.0,1575.0,1585.0,1585.0],\"xaxis\":\"x\",\"y\":[0.0,0.5493787491658734,0.5493787491658734,0.0],\"yaxis\":\"y\",\"type\":\"scatter\"},{\"hoverinfo\":\"text\",\"marker\":{\"color\":\"rgb(0,116,217)\"},\"mode\":\"lines\",\"x\":[1605.0,1605.0,1615.0,1615.0],\"xaxis\":\"x\",\"y\":[0.0,0.4220857175966665,0.4220857175966665,0.0],\"yaxis\":\"y\",\"type\":\"scatter\"},{\"hoverinfo\":\"text\",\"marker\":{\"color\":\"rgb(0,116,217)\"},\"mode\":\"lines\",\"x\":[1595.0,1595.0,1610.0,1610.0],\"xaxis\":\"x\",\"y\":[0.0,0.7485850475219826,0.7485850475219826,0.4220857175966665],\"yaxis\":\"y\",\"type\":\"scatter\"},{\"hoverinfo\":\"text\",\"marker\":{\"color\":\"rgb(0,116,217)\"},\"mode\":\"lines\",\"x\":[1580.0,1580.0,1602.5,1602.5],\"xaxis\":\"x\",\"y\":[0.5493787491658734,1.7931712598350673,1.7931712598350673,0.7485850475219826],\"yaxis\":\"y\",\"type\":\"scatter\"},{\"hoverinfo\":\"text\",\"marker\":{\"color\":\"rgb(0,116,217)\"},\"mode\":\"lines\",\"x\":[1635.0,1635.0,1645.0,1645.0],\"xaxis\":\"x\",\"y\":[0.0,0.4075083369203263,0.4075083369203263,0.0],\"yaxis\":\"y\",\"type\":\"scatter\"},{\"hoverinfo\":\"text\",\"marker\":{\"color\":\"rgb(0,116,217)\"},\"mode\":\"lines\",\"x\":[1665.0,1665.0,1675.0,1675.0],\"xaxis\":\"x\",\"y\":[0.0,0.2823178314965444,0.2823178314965444,0.0],\"yaxis\":\"y\",\"type\":\"scatter\"},{\"hoverinfo\":\"text\",\"marker\":{\"color\":\"rgb(0,116,217)\"},\"mode\":\"lines\",\"x\":[1655.0,1655.0,1670.0,1670.0],\"xaxis\":\"x\",\"y\":[0.0,0.4690166966970932,0.4690166966970932,0.2823178314965444],\"yaxis\":\"y\",\"type\":\"scatter\"},{\"hoverinfo\":\"text\",\"marker\":{\"color\":\"rgb(0,116,217)\"},\"mode\":\"lines\",\"x\":[1640.0,1640.0,1662.5,1662.5],\"xaxis\":\"x\",\"y\":[0.4075083369203263,0.6699287756414095,0.6699287756414095,0.4690166966970932],\"yaxis\":\"y\",\"type\":\"scatter\"},{\"hoverinfo\":\"text\",\"marker\":{\"color\":\"rgb(0,116,217)\"},\"mode\":\"lines\",\"x\":[1685.0,1685.0,1695.0,1695.0],\"xaxis\":\"x\",\"y\":[0.0,0.1448071503748406,0.1448071503748406,0.0],\"yaxis\":\"y\",\"type\":\"scatter\"},{\"hoverinfo\":\"text\",\"marker\":{\"color\":\"rgb(0,116,217)\"},\"mode\":\"lines\",\"x\":[1715.0,1715.0,1725.0,1725.0],\"xaxis\":\"x\",\"y\":[0.0,0.1307377488309012,0.1307377488309012,0.0],\"yaxis\":\"y\",\"type\":\"scatter\"},{\"hoverinfo\":\"text\",\"marker\":{\"color\":\"rgb(0,116,217)\"},\"mode\":\"lines\",\"x\":[1705.0,1705.0,1720.0,1720.0],\"xaxis\":\"x\",\"y\":[0.0,0.19752316044934054,0.19752316044934054,0.1307377488309012],\"yaxis\":\"y\",\"type\":\"scatter\"},{\"hoverinfo\":\"text\",\"marker\":{\"color\":\"rgb(0,116,217)\"},\"mode\":\"lines\",\"x\":[1690.0,1690.0,1712.5,1712.5],\"xaxis\":\"x\",\"y\":[0.1448071503748406,0.38959081246433597,0.38959081246433597,0.19752316044934054],\"yaxis\":\"y\",\"type\":\"scatter\"},{\"hoverinfo\":\"text\",\"marker\":{\"color\":\"rgb(0,116,217)\"},\"mode\":\"lines\",\"x\":[1755.0,1755.0,1765.0,1765.0],\"xaxis\":\"x\",\"y\":[0.0,0.013230188139871615,0.013230188139871615,0.0],\"yaxis\":\"y\",\"type\":\"scatter\"},{\"hoverinfo\":\"text\",\"marker\":{\"color\":\"rgb(0,116,217)\"},\"mode\":\"lines\",\"x\":[1745.0,1745.0,1760.0,1760.0],\"xaxis\":\"x\",\"y\":[0.0,0.2851863797689164,0.2851863797689164,0.013230188139871615],\"yaxis\":\"y\",\"type\":\"scatter\"},{\"hoverinfo\":\"text\",\"marker\":{\"color\":\"rgb(0,116,217)\"},\"mode\":\"lines\",\"x\":[1735.0,1735.0,1752.5,1752.5],\"xaxis\":\"x\",\"y\":[0.0,0.41149771189302087,0.41149771189302087,0.2851863797689164],\"yaxis\":\"y\",\"type\":\"scatter\"},{\"hoverinfo\":\"text\",\"marker\":{\"color\":\"rgb(0,116,217)\"},\"mode\":\"lines\",\"x\":[1701.25,1701.25,1743.75,1743.75],\"xaxis\":\"x\",\"y\":[0.38959081246433597,0.7462052727280764,0.7462052727280764,0.41149771189302087],\"yaxis\":\"y\",\"type\":\"scatter\"},{\"hoverinfo\":\"text\",\"marker\":{\"color\":\"rgb(0,116,217)\"},\"mode\":\"lines\",\"x\":[1651.25,1651.25,1722.5,1722.5],\"xaxis\":\"x\",\"y\":[0.6699287756414095,0.8880474271574471,0.8880474271574471,0.7462052727280764],\"yaxis\":\"y\",\"type\":\"scatter\"},{\"hoverinfo\":\"text\",\"marker\":{\"color\":\"rgb(0,116,217)\"},\"mode\":\"lines\",\"x\":[1785.0,1785.0,1795.0,1795.0],\"xaxis\":\"x\",\"y\":[0.0,0.223107814611434,0.223107814611434,0.0],\"yaxis\":\"y\",\"type\":\"scatter\"},{\"hoverinfo\":\"text\",\"marker\":{\"color\":\"rgb(0,116,217)\"},\"mode\":\"lines\",\"x\":[1805.0,1805.0,1815.0,1815.0],\"xaxis\":\"x\",\"y\":[0.0,0.06522699934518848,0.06522699934518848,0.0],\"yaxis\":\"y\",\"type\":\"scatter\"},{\"hoverinfo\":\"text\",\"marker\":{\"color\":\"rgb(0,116,217)\"},\"mode\":\"lines\",\"x\":[1825.0,1825.0,1835.0,1835.0],\"xaxis\":\"x\",\"y\":[0.0,0.15062292053462537,0.15062292053462537,0.0],\"yaxis\":\"y\",\"type\":\"scatter\"},{\"hoverinfo\":\"text\",\"marker\":{\"color\":\"rgb(0,116,217)\"},\"mode\":\"lines\",\"x\":[1810.0,1810.0,1830.0,1830.0],\"xaxis\":\"x\",\"y\":[0.06522699934518848,0.20012758726773103,0.20012758726773103,0.15062292053462537],\"yaxis\":\"y\",\"type\":\"scatter\"},{\"hoverinfo\":\"text\",\"marker\":{\"color\":\"rgb(0,116,217)\"},\"mode\":\"lines\",\"x\":[1845.0,1845.0,1855.0,1855.0],\"xaxis\":\"x\",\"y\":[0.0,0.061171256904536626,0.061171256904536626,0.0],\"yaxis\":\"y\",\"type\":\"scatter\"},{\"hoverinfo\":\"text\",\"marker\":{\"color\":\"rgb(0,116,217)\"},\"mode\":\"lines\",\"x\":[1865.0,1865.0,1875.0,1875.0],\"xaxis\":\"x\",\"y\":[0.0,0.1274476243708857,0.1274476243708857,0.0],\"yaxis\":\"y\",\"type\":\"scatter\"},{\"hoverinfo\":\"text\",\"marker\":{\"color\":\"rgb(0,116,217)\"},\"mode\":\"lines\",\"x\":[1850.0,1850.0,1870.0,1870.0],\"xaxis\":\"x\",\"y\":[0.061171256904536626,0.3980787842666334,0.3980787842666334,0.1274476243708857],\"yaxis\":\"y\",\"type\":\"scatter\"},{\"hoverinfo\":\"text\",\"marker\":{\"color\":\"rgb(0,116,217)\"},\"mode\":\"lines\",\"x\":[1820.0,1820.0,1860.0,1860.0],\"xaxis\":\"x\",\"y\":[0.20012758726773103,0.5503753630374065,0.5503753630374065,0.3980787842666334],\"yaxis\":\"y\",\"type\":\"scatter\"},{\"hoverinfo\":\"text\",\"marker\":{\"color\":\"rgb(0,116,217)\"},\"mode\":\"lines\",\"x\":[1790.0,1790.0,1840.0,1840.0],\"xaxis\":\"x\",\"y\":[0.223107814611434,0.6423864159262547,0.6423864159262547,0.5503753630374065],\"yaxis\":\"y\",\"type\":\"scatter\"},{\"hoverinfo\":\"text\",\"marker\":{\"color\":\"rgb(0,116,217)\"},\"mode\":\"lines\",\"x\":[1775.0,1775.0,1815.0,1815.0],\"xaxis\":\"x\",\"y\":[0.0,1.0640053073117204,1.0640053073117204,0.6423864159262547],\"yaxis\":\"y\",\"type\":\"scatter\"},{\"hoverinfo\":\"text\",\"marker\":{\"color\":\"rgb(0,116,217)\"},\"mode\":\"lines\",\"x\":[1686.875,1686.875,1795.0,1795.0],\"xaxis\":\"x\",\"y\":[0.8880474271574471,1.1171108367011555,1.1171108367011555,1.0640053073117204],\"yaxis\":\"y\",\"type\":\"scatter\"},{\"hoverinfo\":\"text\",\"marker\":{\"color\":\"rgb(0,116,217)\"},\"mode\":\"lines\",\"x\":[1625.0,1625.0,1740.9375,1740.9375],\"xaxis\":\"x\",\"y\":[0.0,1.2636092470489457,1.2636092470489457,1.1171108367011555],\"yaxis\":\"y\",\"type\":\"scatter\"},{\"hoverinfo\":\"text\",\"marker\":{\"color\":\"rgb(0,116,217)\"},\"mode\":\"lines\",\"x\":[1895.0,1895.0,1905.0,1905.0],\"xaxis\":\"x\",\"y\":[0.0,0.038906118024699086,0.038906118024699086,0.0],\"yaxis\":\"y\",\"type\":\"scatter\"},{\"hoverinfo\":\"text\",\"marker\":{\"color\":\"rgb(0,116,217)\"},\"mode\":\"lines\",\"x\":[1885.0,1885.0,1900.0,1900.0],\"xaxis\":\"x\",\"y\":[0.0,0.4616318659697458,0.4616318659697458,0.038906118024699086],\"yaxis\":\"y\",\"type\":\"scatter\"},{\"hoverinfo\":\"text\",\"marker\":{\"color\":\"rgb(0,116,217)\"},\"mode\":\"lines\",\"x\":[1915.0,1915.0,1925.0,1925.0],\"xaxis\":\"x\",\"y\":[0.0,0.5492897031584923,0.5492897031584923,0.0],\"yaxis\":\"y\",\"type\":\"scatter\"},{\"hoverinfo\":\"text\",\"marker\":{\"color\":\"rgb(0,116,217)\"},\"mode\":\"lines\",\"x\":[1892.5,1892.5,1920.0,1920.0],\"xaxis\":\"x\",\"y\":[0.4616318659697458,0.8757078704095455,0.8757078704095455,0.5492897031584923],\"yaxis\":\"y\",\"type\":\"scatter\"},{\"hoverinfo\":\"text\",\"marker\":{\"color\":\"rgb(0,116,217)\"},\"mode\":\"lines\",\"x\":[1955.0,1955.0,1965.0,1965.0],\"xaxis\":\"x\",\"y\":[0.0,0.256117863347492,0.256117863347492,0.0],\"yaxis\":\"y\",\"type\":\"scatter\"},{\"hoverinfo\":\"text\",\"marker\":{\"color\":\"rgb(0,116,217)\"},\"mode\":\"lines\",\"x\":[1945.0,1945.0,1960.0,1960.0],\"xaxis\":\"x\",\"y\":[0.0,0.7085276644011501,0.7085276644011501,0.256117863347492],\"yaxis\":\"y\",\"type\":\"scatter\"},{\"hoverinfo\":\"text\",\"marker\":{\"color\":\"rgb(0,116,217)\"},\"mode\":\"lines\",\"x\":[1935.0,1935.0,1952.5,1952.5],\"xaxis\":\"x\",\"y\":[0.0,0.9938770617656439,0.9938770617656439,0.7085276644011501],\"yaxis\":\"y\",\"type\":\"scatter\"},{\"hoverinfo\":\"text\",\"marker\":{\"color\":\"rgb(0,116,217)\"},\"mode\":\"lines\",\"x\":[1906.25,1906.25,1943.75,1943.75],\"xaxis\":\"x\",\"y\":[0.8757078704095455,1.8949344484829784,1.8949344484829784,0.9938770617656439],\"yaxis\":\"y\",\"type\":\"scatter\"},{\"hoverinfo\":\"text\",\"marker\":{\"color\":\"rgb(0,116,217)\"},\"mode\":\"lines\",\"x\":[1682.96875,1682.96875,1925.0,1925.0],\"xaxis\":\"x\",\"y\":[1.2636092470489457,2.144829711882787,2.144829711882787,1.8949344484829784],\"yaxis\":\"y\",\"type\":\"scatter\"},{\"hoverinfo\":\"text\",\"marker\":{\"color\":\"rgb(0,116,217)\"},\"mode\":\"lines\",\"x\":[1591.25,1591.25,1803.984375,1803.984375],\"xaxis\":\"x\",\"y\":[1.7931712598350673,2.668626249751741,2.668626249751741,2.144829711882787],\"yaxis\":\"y\",\"type\":\"scatter\"},{\"hoverinfo\":\"text\",\"marker\":{\"color\":\"rgb(0,116,217)\"},\"mode\":\"lines\",\"x\":[2005.0,2005.0,2015.0,2015.0],\"xaxis\":\"x\",\"y\":[0.0,0.004088309898177266,0.004088309898177266,0.0],\"yaxis\":\"y\",\"type\":\"scatter\"},{\"hoverinfo\":\"text\",\"marker\":{\"color\":\"rgb(0,116,217)\"},\"mode\":\"lines\",\"x\":[2035.0,2035.0,2045.0,2045.0],\"xaxis\":\"x\",\"y\":[0.0,0.0023361024044452187,0.0023361024044452187,0.0],\"yaxis\":\"y\",\"type\":\"scatter\"},{\"hoverinfo\":\"text\",\"marker\":{\"color\":\"rgb(0,116,217)\"},\"mode\":\"lines\",\"x\":[2025.0,2025.0,2040.0,2040.0],\"xaxis\":\"x\",\"y\":[0.0,0.03192426757235858,0.03192426757235858,0.0023361024044452187],\"yaxis\":\"y\",\"type\":\"scatter\"},{\"hoverinfo\":\"text\",\"marker\":{\"color\":\"rgb(0,116,217)\"},\"mode\":\"lines\",\"x\":[2010.0,2010.0,2032.5,2032.5],\"xaxis\":\"x\",\"y\":[0.004088309898177266,0.0715400891304415,0.0715400891304415,0.03192426757235858],\"yaxis\":\"y\",\"type\":\"scatter\"},{\"hoverinfo\":\"text\",\"marker\":{\"color\":\"rgb(0,116,217)\"},\"mode\":\"lines\",\"x\":[1995.0,1995.0,2021.25,2021.25],\"xaxis\":\"x\",\"y\":[0.0,0.4667237017536284,0.4667237017536284,0.0715400891304415],\"yaxis\":\"y\",\"type\":\"scatter\"},{\"hoverinfo\":\"text\",\"marker\":{\"color\":\"rgb(0,116,217)\"},\"mode\":\"lines\",\"x\":[2075.0,2075.0,2085.0,2085.0],\"xaxis\":\"x\",\"y\":[0.0,0.03242522669001231,0.03242522669001231,0.0],\"yaxis\":\"y\",\"type\":\"scatter\"},{\"hoverinfo\":\"text\",\"marker\":{\"color\":\"rgb(0,116,217)\"},\"mode\":\"lines\",\"x\":[2095.0,2095.0,2105.0,2105.0],\"xaxis\":\"x\",\"y\":[0.0,0.028801320211003522,0.028801320211003522,0.0],\"yaxis\":\"y\",\"type\":\"scatter\"},{\"hoverinfo\":\"text\",\"marker\":{\"color\":\"rgb(0,116,217)\"},\"mode\":\"lines\",\"x\":[2115.0,2115.0,2125.0,2125.0],\"xaxis\":\"x\",\"y\":[0.0,0.047222621109369575,0.047222621109369575,0.0],\"yaxis\":\"y\",\"type\":\"scatter\"},{\"hoverinfo\":\"text\",\"marker\":{\"color\":\"rgb(0,116,217)\"},\"mode\":\"lines\",\"x\":[2100.0,2100.0,2120.0,2120.0],\"xaxis\":\"x\",\"y\":[0.028801320211003522,0.0701460781429564,0.0701460781429564,0.047222621109369575],\"yaxis\":\"y\",\"type\":\"scatter\"},{\"hoverinfo\":\"text\",\"marker\":{\"color\":\"rgb(0,116,217)\"},\"mode\":\"lines\",\"x\":[2080.0,2080.0,2110.0,2110.0],\"xaxis\":\"x\",\"y\":[0.03242522669001231,0.13694312688381347,0.13694312688381347,0.0701460781429564],\"yaxis\":\"y\",\"type\":\"scatter\"},{\"hoverinfo\":\"text\",\"marker\":{\"color\":\"rgb(0,116,217)\"},\"mode\":\"lines\",\"x\":[2145.0,2145.0,2155.0,2155.0],\"xaxis\":\"x\",\"y\":[0.0,0.015485069060074672,0.015485069060074672,0.0],\"yaxis\":\"y\",\"type\":\"scatter\"},{\"hoverinfo\":\"text\",\"marker\":{\"color\":\"rgb(0,116,217)\"},\"mode\":\"lines\",\"x\":[2185.0,2185.0,2195.0,2195.0],\"xaxis\":\"x\",\"y\":[0.0,0.005844662328476615,0.005844662328476615,0.0],\"yaxis\":\"y\",\"type\":\"scatter\"},{\"hoverinfo\":\"text\",\"marker\":{\"color\":\"rgb(0,116,217)\"},\"mode\":\"lines\",\"x\":[2175.0,2175.0,2190.0,2190.0],\"xaxis\":\"x\",\"y\":[0.0,0.012289268539067618,0.012289268539067618,0.005844662328476615],\"yaxis\":\"y\",\"type\":\"scatter\"},{\"hoverinfo\":\"text\",\"marker\":{\"color\":\"rgb(0,116,217)\"},\"mode\":\"lines\",\"x\":[2165.0,2165.0,2182.5,2182.5],\"xaxis\":\"x\",\"y\":[0.0,0.025718705865974564,0.025718705865974564,0.012289268539067618],\"yaxis\":\"y\",\"type\":\"scatter\"},{\"hoverinfo\":\"text\",\"marker\":{\"color\":\"rgb(0,116,217)\"},\"mode\":\"lines\",\"x\":[2215.0,2215.0,2225.0,2225.0],\"xaxis\":\"x\",\"y\":[0.0,0.004747079057566266,0.004747079057566266,0.0],\"yaxis\":\"y\",\"type\":\"scatter\"},{\"hoverinfo\":\"text\",\"marker\":{\"color\":\"rgb(0,116,217)\"},\"mode\":\"lines\",\"x\":[2205.0,2205.0,2220.0,2220.0],\"xaxis\":\"x\",\"y\":[0.0,0.03795788161087935,0.03795788161087935,0.004747079057566266],\"yaxis\":\"y\",\"type\":\"scatter\"},{\"hoverinfo\":\"text\",\"marker\":{\"color\":\"rgb(0,116,217)\"},\"mode\":\"lines\",\"x\":[2173.75,2173.75,2212.5,2212.5],\"xaxis\":\"x\",\"y\":[0.025718705865974564,0.05015288119264376,0.05015288119264376,0.03795788161087935],\"yaxis\":\"y\",\"type\":\"scatter\"},{\"hoverinfo\":\"text\",\"marker\":{\"color\":\"rgb(0,116,217)\"},\"mode\":\"lines\",\"x\":[2150.0,2150.0,2193.125,2193.125],\"xaxis\":\"x\",\"y\":[0.015485069060074672,0.07852611590444025,0.07852611590444025,0.05015288119264376],\"yaxis\":\"y\",\"type\":\"scatter\"},{\"hoverinfo\":\"text\",\"marker\":{\"color\":\"rgb(0,116,217)\"},\"mode\":\"lines\",\"x\":[2245.0,2245.0,2255.0,2255.0],\"xaxis\":\"x\",\"y\":[0.0,0.013153430791953325,0.013153430791953325,0.0],\"yaxis\":\"y\",\"type\":\"scatter\"},{\"hoverinfo\":\"text\",\"marker\":{\"color\":\"rgb(0,116,217)\"},\"mode\":\"lines\",\"x\":[2235.0,2235.0,2250.0,2250.0],\"xaxis\":\"x\",\"y\":[0.0,0.03822104514122585,0.03822104514122585,0.013153430791953325],\"yaxis\":\"y\",\"type\":\"scatter\"},{\"hoverinfo\":\"text\",\"marker\":{\"color\":\"rgb(0,116,217)\"},\"mode\":\"lines\",\"x\":[2275.0,2275.0,2285.0,2285.0],\"xaxis\":\"x\",\"y\":[0.0,0.009140165917484235,0.009140165917484235,0.0],\"yaxis\":\"y\",\"type\":\"scatter\"},{\"hoverinfo\":\"text\",\"marker\":{\"color\":\"rgb(0,116,217)\"},\"mode\":\"lines\",\"x\":[2265.0,2265.0,2280.0,2280.0],\"xaxis\":\"x\",\"y\":[0.0,0.025280172095671453,0.025280172095671453,0.009140165917484235],\"yaxis\":\"y\",\"type\":\"scatter\"},{\"hoverinfo\":\"text\",\"marker\":{\"color\":\"rgb(0,116,217)\"},\"mode\":\"lines\",\"x\":[2295.0,2295.0,2305.0,2305.0],\"xaxis\":\"x\",\"y\":[0.0,0.02768018002232322,0.02768018002232322,0.0],\"yaxis\":\"y\",\"type\":\"scatter\"},{\"hoverinfo\":\"text\",\"marker\":{\"color\":\"rgb(0,116,217)\"},\"mode\":\"lines\",\"x\":[2272.5,2272.5,2300.0,2300.0],\"xaxis\":\"x\",\"y\":[0.025280172095671453,0.04763807807071861,0.04763807807071861,0.02768018002232322],\"yaxis\":\"y\",\"type\":\"scatter\"},{\"hoverinfo\":\"text\",\"marker\":{\"color\":\"rgb(0,116,217)\"},\"mode\":\"lines\",\"x\":[2242.5,2242.5,2286.25,2286.25],\"xaxis\":\"x\",\"y\":[0.03822104514122585,0.0864676579805062,0.0864676579805062,0.04763807807071861],\"yaxis\":\"y\",\"type\":\"scatter\"},{\"hoverinfo\":\"text\",\"marker\":{\"color\":\"rgb(0,116,217)\"},\"mode\":\"lines\",\"x\":[2171.5625,2171.5625,2264.375,2264.375],\"xaxis\":\"x\",\"y\":[0.07852611590444025,0.09746741823739226,0.09746741823739226,0.0864676579805062],\"yaxis\":\"y\",\"type\":\"scatter\"},{\"hoverinfo\":\"text\",\"marker\":{\"color\":\"rgb(0,116,217)\"},\"mode\":\"lines\",\"x\":[2335.0,2335.0,2345.0,2345.0],\"xaxis\":\"x\",\"y\":[0.0,0.0035766669999887507,0.0035766669999887507,0.0],\"yaxis\":\"y\",\"type\":\"scatter\"},{\"hoverinfo\":\"text\",\"marker\":{\"color\":\"rgb(0,116,217)\"},\"mode\":\"lines\",\"x\":[2325.0,2325.0,2340.0,2340.0],\"xaxis\":\"x\",\"y\":[0.0,0.01665708672774855,0.01665708672774855,0.0035766669999887507],\"yaxis\":\"y\",\"type\":\"scatter\"},{\"hoverinfo\":\"text\",\"marker\":{\"color\":\"rgb(0,116,217)\"},\"mode\":\"lines\",\"x\":[2375.0,2375.0,2385.0,2385.0],\"xaxis\":\"x\",\"y\":[0.0,0.002887984979845711,0.002887984979845711,0.0],\"yaxis\":\"y\",\"type\":\"scatter\"},{\"hoverinfo\":\"text\",\"marker\":{\"color\":\"rgb(0,116,217)\"},\"mode\":\"lines\",\"x\":[2365.0,2365.0,2380.0,2380.0],\"xaxis\":\"x\",\"y\":[0.0,0.004274928380693919,0.004274928380693919,0.002887984979845711],\"yaxis\":\"y\",\"type\":\"scatter\"},{\"hoverinfo\":\"text\",\"marker\":{\"color\":\"rgb(0,116,217)\"},\"mode\":\"lines\",\"x\":[2355.0,2355.0,2372.5,2372.5],\"xaxis\":\"x\",\"y\":[0.0,0.019346963465057296,0.019346963465057296,0.004274928380693919],\"yaxis\":\"y\",\"type\":\"scatter\"},{\"hoverinfo\":\"text\",\"marker\":{\"color\":\"rgb(0,116,217)\"},\"mode\":\"lines\",\"x\":[2332.5,2332.5,2363.75,2363.75],\"xaxis\":\"x\",\"y\":[0.01665708672774855,0.03991381964059807,0.03991381964059807,0.019346963465057296],\"yaxis\":\"y\",\"type\":\"scatter\"},{\"hoverinfo\":\"text\",\"marker\":{\"color\":\"rgb(0,116,217)\"},\"mode\":\"lines\",\"x\":[2315.0,2315.0,2348.125,2348.125],\"xaxis\":\"x\",\"y\":[0.0,0.047115824756349484,0.047115824756349484,0.03991381964059807],\"yaxis\":\"y\",\"type\":\"scatter\"},{\"hoverinfo\":\"text\",\"marker\":{\"color\":\"rgb(0,116,217)\"},\"mode\":\"lines\",\"x\":[2395.0,2395.0,2405.0,2405.0],\"xaxis\":\"x\",\"y\":[0.0,0.02618721854481138,0.02618721854481138,0.0],\"yaxis\":\"y\",\"type\":\"scatter\"},{\"hoverinfo\":\"text\",\"marker\":{\"color\":\"rgb(0,116,217)\"},\"mode\":\"lines\",\"x\":[2415.0,2415.0,2425.0,2425.0],\"xaxis\":\"x\",\"y\":[0.0,0.004819748035108944,0.004819748035108944,0.0],\"yaxis\":\"y\",\"type\":\"scatter\"},{\"hoverinfo\":\"text\",\"marker\":{\"color\":\"rgb(0,116,217)\"},\"mode\":\"lines\",\"x\":[2445.0,2445.0,2455.0,2455.0],\"xaxis\":\"x\",\"y\":[0.0,0.00494758940724557,0.00494758940724557,0.0],\"yaxis\":\"y\",\"type\":\"scatter\"},{\"hoverinfo\":\"text\",\"marker\":{\"color\":\"rgb(0,116,217)\"},\"mode\":\"lines\",\"x\":[2435.0,2435.0,2450.0,2450.0],\"xaxis\":\"x\",\"y\":[0.0,0.010156924746352396,0.010156924746352396,0.00494758940724557],\"yaxis\":\"y\",\"type\":\"scatter\"},{\"hoverinfo\":\"text\",\"marker\":{\"color\":\"rgb(0,116,217)\"},\"mode\":\"lines\",\"x\":[2420.0,2420.0,2442.5,2442.5],\"xaxis\":\"x\",\"y\":[0.004819748035108944,0.029029145527665143,0.029029145527665143,0.010156924746352396],\"yaxis\":\"y\",\"type\":\"scatter\"},{\"hoverinfo\":\"text\",\"marker\":{\"color\":\"rgb(0,116,217)\"},\"mode\":\"lines\",\"x\":[2400.0,2400.0,2431.25,2431.25],\"xaxis\":\"x\",\"y\":[0.02618721854481138,0.07866656795150467,0.07866656795150467,0.029029145527665143],\"yaxis\":\"y\",\"type\":\"scatter\"},{\"hoverinfo\":\"text\",\"marker\":{\"color\":\"rgb(0,116,217)\"},\"mode\":\"lines\",\"x\":[2331.5625,2331.5625,2415.625,2415.625],\"xaxis\":\"x\",\"y\":[0.047115824756349484,0.09990330523043017,0.09990330523043017,0.07866656795150467],\"yaxis\":\"y\",\"type\":\"scatter\"},{\"hoverinfo\":\"text\",\"marker\":{\"color\":\"rgb(0,116,217)\"},\"mode\":\"lines\",\"x\":[2217.96875,2217.96875,2373.59375,2373.59375],\"xaxis\":\"x\",\"y\":[0.09746741823739226,0.19751484270984604,0.19751484270984604,0.09990330523043017],\"yaxis\":\"y\",\"type\":\"scatter\"},{\"hoverinfo\":\"text\",\"marker\":{\"color\":\"rgb(0,116,217)\"},\"mode\":\"lines\",\"x\":[2135.0,2135.0,2295.78125,2295.78125],\"xaxis\":\"x\",\"y\":[0.0,0.30718442099470816,0.30718442099470816,0.19751484270984604],\"yaxis\":\"y\",\"type\":\"scatter\"},{\"hoverinfo\":\"text\",\"marker\":{\"color\":\"rgb(0,116,217)\"},\"mode\":\"lines\",\"x\":[2095.0,2095.0,2215.390625,2215.390625],\"xaxis\":\"x\",\"y\":[0.13694312688381347,0.41836488695321306,0.41836488695321306,0.30718442099470816],\"yaxis\":\"y\",\"type\":\"scatter\"},{\"hoverinfo\":\"text\",\"marker\":{\"color\":\"rgb(0,116,217)\"},\"mode\":\"lines\",\"x\":[2065.0,2065.0,2155.1953125,2155.1953125],\"xaxis\":\"x\",\"y\":[0.0,0.47241197690347786,0.47241197690347786,0.41836488695321306],\"yaxis\":\"y\",\"type\":\"scatter\"},{\"hoverinfo\":\"text\",\"marker\":{\"color\":\"rgb(0,116,217)\"},\"mode\":\"lines\",\"x\":[2055.0,2055.0,2110.09765625,2110.09765625],\"xaxis\":\"x\",\"y\":[0.0,0.7317826211908569,0.7317826211908569,0.47241197690347786],\"yaxis\":\"y\",\"type\":\"scatter\"},{\"hoverinfo\":\"text\",\"marker\":{\"color\":\"rgb(0,116,217)\"},\"mode\":\"lines\",\"x\":[2008.125,2008.125,2082.548828125,2082.548828125],\"xaxis\":\"x\",\"y\":[0.4667237017536284,0.7916913932847254,0.7916913932847254,0.7317826211908569],\"yaxis\":\"y\",\"type\":\"scatter\"},{\"hoverinfo\":\"text\",\"marker\":{\"color\":\"rgb(0,116,217)\"},\"mode\":\"lines\",\"x\":[1985.0,1985.0,2045.3369140625,2045.3369140625],\"xaxis\":\"x\",\"y\":[0.0,1.5033009975585676,1.5033009975585676,0.7916913932847254],\"yaxis\":\"y\",\"type\":\"scatter\"},{\"hoverinfo\":\"text\",\"marker\":{\"color\":\"rgb(0,116,217)\"},\"mode\":\"lines\",\"x\":[2485.0,2485.0,2495.0,2495.0],\"xaxis\":\"x\",\"y\":[0.0,0.0027175179152330916,0.0027175179152330916,0.0],\"yaxis\":\"y\",\"type\":\"scatter\"},{\"hoverinfo\":\"text\",\"marker\":{\"color\":\"rgb(0,116,217)\"},\"mode\":\"lines\",\"x\":[2475.0,2475.0,2490.0,2490.0],\"xaxis\":\"x\",\"y\":[0.0,0.011649221415496801,0.011649221415496801,0.0027175179152330916],\"yaxis\":\"y\",\"type\":\"scatter\"},{\"hoverinfo\":\"text\",\"marker\":{\"color\":\"rgb(0,116,217)\"},\"mode\":\"lines\",\"x\":[2465.0,2465.0,2482.5,2482.5],\"xaxis\":\"x\",\"y\":[0.0,0.021394940615223637,0.021394940615223637,0.011649221415496801],\"yaxis\":\"y\",\"type\":\"scatter\"},{\"hoverinfo\":\"text\",\"marker\":{\"color\":\"rgb(0,116,217)\"},\"mode\":\"lines\",\"x\":[2515.0,2515.0,2525.0,2525.0],\"xaxis\":\"x\",\"y\":[0.0,0.02401752969793343,0.02401752969793343,0.0],\"yaxis\":\"y\",\"type\":\"scatter\"},{\"hoverinfo\":\"text\",\"marker\":{\"color\":\"rgb(0,116,217)\"},\"mode\":\"lines\",\"x\":[2505.0,2505.0,2520.0,2520.0],\"xaxis\":\"x\",\"y\":[0.0,0.09677401379054147,0.09677401379054147,0.02401752969793343],\"yaxis\":\"y\",\"type\":\"scatter\"},{\"hoverinfo\":\"text\",\"marker\":{\"color\":\"rgb(0,116,217)\"},\"mode\":\"lines\",\"x\":[2473.75,2473.75,2512.5,2512.5],\"xaxis\":\"x\",\"y\":[0.021394940615223637,0.1711672316753927,0.1711672316753927,0.09677401379054147],\"yaxis\":\"y\",\"type\":\"scatter\"},{\"hoverinfo\":\"text\",\"marker\":{\"color\":\"rgb(0,116,217)\"},\"mode\":\"lines\",\"x\":[2545.0,2545.0,2555.0,2555.0],\"xaxis\":\"x\",\"y\":[0.0,0.05234009817354367,0.05234009817354367,0.0],\"yaxis\":\"y\",\"type\":\"scatter\"},{\"hoverinfo\":\"text\",\"marker\":{\"color\":\"rgb(0,116,217)\"},\"mode\":\"lines\",\"x\":[2585.0,2585.0,2595.0,2595.0],\"xaxis\":\"x\",\"y\":[0.0,0.04280018993778446,0.04280018993778446,0.0],\"yaxis\":\"y\",\"type\":\"scatter\"},{\"hoverinfo\":\"text\",\"marker\":{\"color\":\"rgb(0,116,217)\"},\"mode\":\"lines\",\"x\":[2575.0,2575.0,2590.0,2590.0],\"xaxis\":\"x\",\"y\":[0.0,0.08047785160454585,0.08047785160454585,0.04280018993778446],\"yaxis\":\"y\",\"type\":\"scatter\"},{\"hoverinfo\":\"text\",\"marker\":{\"color\":\"rgb(0,116,217)\"},\"mode\":\"lines\",\"x\":[2565.0,2565.0,2582.5,2582.5],\"xaxis\":\"x\",\"y\":[0.0,0.13568092106793248,0.13568092106793248,0.08047785160454585],\"yaxis\":\"y\",\"type\":\"scatter\"},{\"hoverinfo\":\"text\",\"marker\":{\"color\":\"rgb(0,116,217)\"},\"mode\":\"lines\",\"x\":[2550.0,2550.0,2573.75,2573.75],\"xaxis\":\"x\",\"y\":[0.05234009817354367,0.18788817404951766,0.18788817404951766,0.13568092106793248],\"yaxis\":\"y\",\"type\":\"scatter\"},{\"hoverinfo\":\"text\",\"marker\":{\"color\":\"rgb(0,116,217)\"},\"mode\":\"lines\",\"x\":[2535.0,2535.0,2561.875,2561.875],\"xaxis\":\"x\",\"y\":[0.0,0.42377776242545395,0.42377776242545395,0.18788817404951766],\"yaxis\":\"y\",\"type\":\"scatter\"},{\"hoverinfo\":\"text\",\"marker\":{\"color\":\"rgb(0,116,217)\"},\"mode\":\"lines\",\"x\":[2493.125,2493.125,2548.4375,2548.4375],\"xaxis\":\"x\",\"y\":[0.1711672316753927,1.0044509213496362,1.0044509213496362,0.42377776242545395],\"yaxis\":\"y\",\"type\":\"scatter\"},{\"hoverinfo\":\"text\",\"marker\":{\"color\":\"rgb(0,116,217)\"},\"mode\":\"lines\",\"x\":[2615.0,2615.0,2625.0,2625.0],\"xaxis\":\"x\",\"y\":[0.0,0.17000440811983936,0.17000440811983936,0.0],\"yaxis\":\"y\",\"type\":\"scatter\"},{\"hoverinfo\":\"text\",\"marker\":{\"color\":\"rgb(0,116,217)\"},\"mode\":\"lines\",\"x\":[2605.0,2605.0,2620.0,2620.0],\"xaxis\":\"x\",\"y\":[0.0,0.4112368465465755,0.4112368465465755,0.17000440811983936],\"yaxis\":\"y\",\"type\":\"scatter\"},{\"hoverinfo\":\"text\",\"marker\":{\"color\":\"rgb(0,116,217)\"},\"mode\":\"lines\",\"x\":[2645.0,2645.0,2655.0,2655.0],\"xaxis\":\"x\",\"y\":[0.0,0.05216028515632012,0.05216028515632012,0.0],\"yaxis\":\"y\",\"type\":\"scatter\"},{\"hoverinfo\":\"text\",\"marker\":{\"color\":\"rgb(0,116,217)\"},\"mode\":\"lines\",\"x\":[2635.0,2635.0,2650.0,2650.0],\"xaxis\":\"x\",\"y\":[0.0,0.10836447347561791,0.10836447347561791,0.05216028515632012],\"yaxis\":\"y\",\"type\":\"scatter\"},{\"hoverinfo\":\"text\",\"marker\":{\"color\":\"rgb(0,116,217)\"},\"mode\":\"lines\",\"x\":[2675.0,2675.0,2685.0,2685.0],\"xaxis\":\"x\",\"y\":[0.0,0.11651350220668674,0.11651350220668674,0.0],\"yaxis\":\"y\",\"type\":\"scatter\"},{\"hoverinfo\":\"text\",\"marker\":{\"color\":\"rgb(0,116,217)\"},\"mode\":\"lines\",\"x\":[2665.0,2665.0,2680.0,2680.0],\"xaxis\":\"x\",\"y\":[0.0,0.19468494673052295,0.19468494673052295,0.11651350220668674],\"yaxis\":\"y\",\"type\":\"scatter\"},{\"hoverinfo\":\"text\",\"marker\":{\"color\":\"rgb(0,116,217)\"},\"mode\":\"lines\",\"x\":[2725.0,2725.0,2735.0,2735.0],\"xaxis\":\"x\",\"y\":[0.0,0.02346393066178107,0.02346393066178107,0.0],\"yaxis\":\"y\",\"type\":\"scatter\"},{\"hoverinfo\":\"text\",\"marker\":{\"color\":\"rgb(0,116,217)\"},\"mode\":\"lines\",\"x\":[2715.0,2715.0,2730.0,2730.0],\"xaxis\":\"x\",\"y\":[0.0,0.04524116705235623,0.04524116705235623,0.02346393066178107],\"yaxis\":\"y\",\"type\":\"scatter\"},{\"hoverinfo\":\"text\",\"marker\":{\"color\":\"rgb(0,116,217)\"},\"mode\":\"lines\",\"x\":[2765.0,2765.0,2775.0,2775.0],\"xaxis\":\"x\",\"y\":[0.0,0.0263457905557175,0.0263457905557175,0.0],\"yaxis\":\"y\",\"type\":\"scatter\"},{\"hoverinfo\":\"text\",\"marker\":{\"color\":\"rgb(0,116,217)\"},\"mode\":\"lines\",\"x\":[2755.0,2755.0,2770.0,2770.0],\"xaxis\":\"x\",\"y\":[0.0,0.04675501204364015,0.04675501204364015,0.0263457905557175],\"yaxis\":\"y\",\"type\":\"scatter\"},{\"hoverinfo\":\"text\",\"marker\":{\"color\":\"rgb(0,116,217)\"},\"mode\":\"lines\",\"x\":[2745.0,2745.0,2762.5,2762.5],\"xaxis\":\"x\",\"y\":[0.0,0.07693612168049595,0.07693612168049595,0.04675501204364015],\"yaxis\":\"y\",\"type\":\"scatter\"},{\"hoverinfo\":\"text\",\"marker\":{\"color\":\"rgb(0,116,217)\"},\"mode\":\"lines\",\"x\":[2722.5,2722.5,2753.75,2753.75],\"xaxis\":\"x\",\"y\":[0.04524116705235623,0.10801898081653004,0.10801898081653004,0.07693612168049595],\"yaxis\":\"y\",\"type\":\"scatter\"},{\"hoverinfo\":\"text\",\"marker\":{\"color\":\"rgb(0,116,217)\"},\"mode\":\"lines\",\"x\":[2705.0,2705.0,2738.125,2738.125],\"xaxis\":\"x\",\"y\":[0.0,0.1505548983868757,0.1505548983868757,0.10801898081653004],\"yaxis\":\"y\",\"type\":\"scatter\"},{\"hoverinfo\":\"text\",\"marker\":{\"color\":\"rgb(0,116,217)\"},\"mode\":\"lines\",\"x\":[2695.0,2695.0,2721.5625,2721.5625],\"xaxis\":\"x\",\"y\":[0.0,0.22011681164003832,0.22011681164003832,0.1505548983868757],\"yaxis\":\"y\",\"type\":\"scatter\"},{\"hoverinfo\":\"text\",\"marker\":{\"color\":\"rgb(0,116,217)\"},\"mode\":\"lines\",\"x\":[2785.0,2785.0,2795.0,2795.0],\"xaxis\":\"x\",\"y\":[0.0,0.00420936426021691,0.00420936426021691,0.0],\"yaxis\":\"y\",\"type\":\"scatter\"},{\"hoverinfo\":\"text\",\"marker\":{\"color\":\"rgb(0,116,217)\"},\"mode\":\"lines\",\"x\":[2815.0,2815.0,2825.0,2825.0],\"xaxis\":\"x\",\"y\":[0.0,0.009487031523804633,0.009487031523804633,0.0],\"yaxis\":\"y\",\"type\":\"scatter\"},{\"hoverinfo\":\"text\",\"marker\":{\"color\":\"rgb(0,116,217)\"},\"mode\":\"lines\",\"x\":[2805.0,2805.0,2820.0,2820.0],\"xaxis\":\"x\",\"y\":[0.0,0.012693715486719794,0.012693715486719794,0.009487031523804633],\"yaxis\":\"y\",\"type\":\"scatter\"},{\"hoverinfo\":\"text\",\"marker\":{\"color\":\"rgb(0,116,217)\"},\"mode\":\"lines\",\"x\":[2845.0,2845.0,2855.0,2855.0],\"xaxis\":\"x\",\"y\":[0.0,0.0055212884513637355,0.0055212884513637355,0.0],\"yaxis\":\"y\",\"type\":\"scatter\"},{\"hoverinfo\":\"text\",\"marker\":{\"color\":\"rgb(0,116,217)\"},\"mode\":\"lines\",\"x\":[2835.0,2835.0,2850.0,2850.0],\"xaxis\":\"x\",\"y\":[0.0,0.016296218004196884,0.016296218004196884,0.0055212884513637355],\"yaxis\":\"y\",\"type\":\"scatter\"},{\"hoverinfo\":\"text\",\"marker\":{\"color\":\"rgb(0,116,217)\"},\"mode\":\"lines\",\"x\":[2812.5,2812.5,2842.5,2842.5],\"xaxis\":\"x\",\"y\":[0.012693715486719794,0.028668865598877807,0.028668865598877807,0.016296218004196884],\"yaxis\":\"y\",\"type\":\"scatter\"},{\"hoverinfo\":\"text\",\"marker\":{\"color\":\"rgb(0,116,217)\"},\"mode\":\"lines\",\"x\":[2790.0,2790.0,2827.5,2827.5],\"xaxis\":\"x\",\"y\":[0.00420936426021691,0.06344698823580011,0.06344698823580011,0.028668865598877807],\"yaxis\":\"y\",\"type\":\"scatter\"},{\"hoverinfo\":\"text\",\"marker\":{\"color\":\"rgb(0,116,217)\"},\"mode\":\"lines\",\"x\":[2865.0,2865.0,2875.0,2875.0],\"xaxis\":\"x\",\"y\":[0.0,0.03218848512128415,0.03218848512128415,0.0],\"yaxis\":\"y\",\"type\":\"scatter\"},{\"hoverinfo\":\"text\",\"marker\":{\"color\":\"rgb(0,116,217)\"},\"mode\":\"lines\",\"x\":[2905.0,2905.0,2915.0,2915.0],\"xaxis\":\"x\",\"y\":[0.0,0.0043690232745853584,0.0043690232745853584,0.0],\"yaxis\":\"y\",\"type\":\"scatter\"},{\"hoverinfo\":\"text\",\"marker\":{\"color\":\"rgb(0,116,217)\"},\"mode\":\"lines\",\"x\":[2895.0,2895.0,2910.0,2910.0],\"xaxis\":\"x\",\"y\":[0.0,0.011003472838461502,0.011003472838461502,0.0043690232745853584],\"yaxis\":\"y\",\"type\":\"scatter\"},{\"hoverinfo\":\"text\",\"marker\":{\"color\":\"rgb(0,116,217)\"},\"mode\":\"lines\",\"x\":[2885.0,2885.0,2902.5,2902.5],\"xaxis\":\"x\",\"y\":[0.0,0.023390131465285298,0.023390131465285298,0.011003472838461502],\"yaxis\":\"y\",\"type\":\"scatter\"},{\"hoverinfo\":\"text\",\"marker\":{\"color\":\"rgb(0,116,217)\"},\"mode\":\"lines\",\"x\":[2925.0,2925.0,2935.0,2935.0],\"xaxis\":\"x\",\"y\":[0.0,0.016117606691588206,0.016117606691588206,0.0],\"yaxis\":\"y\",\"type\":\"scatter\"},{\"hoverinfo\":\"text\",\"marker\":{\"color\":\"rgb(0,116,217)\"},\"mode\":\"lines\",\"x\":[2955.0,2955.0,2965.0,2965.0],\"xaxis\":\"x\",\"y\":[0.0,0.00363315979833501,0.00363315979833501,0.0],\"yaxis\":\"y\",\"type\":\"scatter\"},{\"hoverinfo\":\"text\",\"marker\":{\"color\":\"rgb(0,116,217)\"},\"mode\":\"lines\",\"x\":[2945.0,2945.0,2960.0,2960.0],\"xaxis\":\"x\",\"y\":[0.0,0.005633693339562004,0.005633693339562004,0.00363315979833501],\"yaxis\":\"y\",\"type\":\"scatter\"},{\"hoverinfo\":\"text\",\"marker\":{\"color\":\"rgb(0,116,217)\"},\"mode\":\"lines\",\"x\":[2975.0,2975.0,2985.0,2985.0],\"xaxis\":\"x\",\"y\":[0.0,0.008132564077637527,0.008132564077637527,0.0],\"yaxis\":\"y\",\"type\":\"scatter\"},{\"hoverinfo\":\"text\",\"marker\":{\"color\":\"rgb(0,116,217)\"},\"mode\":\"lines\",\"x\":[2952.5,2952.5,2980.0,2980.0],\"xaxis\":\"x\",\"y\":[0.005633693339562004,0.017043695120352413,0.017043695120352413,0.008132564077637527],\"yaxis\":\"y\",\"type\":\"scatter\"},{\"hoverinfo\":\"text\",\"marker\":{\"color\":\"rgb(0,116,217)\"},\"mode\":\"lines\",\"x\":[2930.0,2930.0,2966.25,2966.25],\"xaxis\":\"x\",\"y\":[0.016117606691588206,0.037018466986872174,0.037018466986872174,0.017043695120352413],\"yaxis\":\"y\",\"type\":\"scatter\"},{\"hoverinfo\":\"text\",\"marker\":{\"color\":\"rgb(0,116,217)\"},\"mode\":\"lines\",\"x\":[2893.75,2893.75,2948.125,2948.125],\"xaxis\":\"x\",\"y\":[0.023390131465285298,0.0619315846902513,0.0619315846902513,0.037018466986872174],\"yaxis\":\"y\",\"type\":\"scatter\"},{\"hoverinfo\":\"text\",\"marker\":{\"color\":\"rgb(0,116,217)\"},\"mode\":\"lines\",\"x\":[2870.0,2870.0,2920.9375,2920.9375],\"xaxis\":\"x\",\"y\":[0.03218848512128415,0.08161819095924205,0.08161819095924205,0.0619315846902513],\"yaxis\":\"y\",\"type\":\"scatter\"},{\"hoverinfo\":\"text\",\"marker\":{\"color\":\"rgb(0,116,217)\"},\"mode\":\"lines\",\"x\":[2808.75,2808.75,2895.46875,2895.46875],\"xaxis\":\"x\",\"y\":[0.06344698823580011,0.16321199917808196,0.16321199917808196,0.08161819095924205],\"yaxis\":\"y\",\"type\":\"scatter\"},{\"hoverinfo\":\"text\",\"marker\":{\"color\":\"rgb(0,116,217)\"},\"mode\":\"lines\",\"x\":[2995.0,2995.0,3005.0,3005.0],\"xaxis\":\"x\",\"y\":[0.0,0.03738321497829024,0.03738321497829024,0.0],\"yaxis\":\"y\",\"type\":\"scatter\"},{\"hoverinfo\":\"text\",\"marker\":{\"color\":\"rgb(0,116,217)\"},\"mode\":\"lines\",\"x\":[3015.0,3015.0,3025.0,3025.0],\"xaxis\":\"x\",\"y\":[0.0,0.019305698498888222,0.019305698498888222,0.0],\"yaxis\":\"y\",\"type\":\"scatter\"},{\"hoverinfo\":\"text\",\"marker\":{\"color\":\"rgb(0,116,217)\"},\"mode\":\"lines\",\"x\":[3035.0,3035.0,3045.0,3045.0],\"xaxis\":\"x\",\"y\":[0.0,0.009367581757490497,0.009367581757490497,0.0],\"yaxis\":\"y\",\"type\":\"scatter\"},{\"hoverinfo\":\"text\",\"marker\":{\"color\":\"rgb(0,116,217)\"},\"mode\":\"lines\",\"x\":[3055.0,3055.0,3065.0,3065.0],\"xaxis\":\"x\",\"y\":[0.0,0.008314684953872806,0.008314684953872806,0.0],\"yaxis\":\"y\",\"type\":\"scatter\"},{\"hoverinfo\":\"text\",\"marker\":{\"color\":\"rgb(0,116,217)\"},\"mode\":\"lines\",\"x\":[3075.0,3075.0,3085.0,3085.0],\"xaxis\":\"x\",\"y\":[0.0,0.0008481585093998662,0.0008481585093998662,0.0],\"yaxis\":\"y\",\"type\":\"scatter\"},{\"hoverinfo\":\"text\",\"marker\":{\"color\":\"rgb(0,116,217)\"},\"mode\":\"lines\",\"x\":[3105.0,3105.0,3115.0,3115.0],\"xaxis\":\"x\",\"y\":[0.0,0.0029863527408067994,0.0029863527408067994,0.0],\"yaxis\":\"y\",\"type\":\"scatter\"},{\"hoverinfo\":\"text\",\"marker\":{\"color\":\"rgb(0,116,217)\"},\"mode\":\"lines\",\"x\":[3095.0,3095.0,3110.0,3110.0],\"xaxis\":\"x\",\"y\":[0.0,0.008324296392694209,0.008324296392694209,0.0029863527408067994],\"yaxis\":\"y\",\"type\":\"scatter\"},{\"hoverinfo\":\"text\",\"marker\":{\"color\":\"rgb(0,116,217)\"},\"mode\":\"lines\",\"x\":[3080.0,3080.0,3102.5,3102.5],\"xaxis\":\"x\",\"y\":[0.0008481585093998662,0.013693436395513616,0.013693436395513616,0.008324296392694209],\"yaxis\":\"y\",\"type\":\"scatter\"},{\"hoverinfo\":\"text\",\"marker\":{\"color\":\"rgb(0,116,217)\"},\"mode\":\"lines\",\"x\":[3060.0,3060.0,3091.25,3091.25],\"xaxis\":\"x\",\"y\":[0.008314684953872806,0.017894618972799845,0.017894618972799845,0.013693436395513616],\"yaxis\":\"y\",\"type\":\"scatter\"},{\"hoverinfo\":\"text\",\"marker\":{\"color\":\"rgb(0,116,217)\"},\"mode\":\"lines\",\"x\":[3040.0,3040.0,3075.625,3075.625],\"xaxis\":\"x\",\"y\":[0.009367581757490497,0.03281124117021369,0.03281124117021369,0.017894618972799845],\"yaxis\":\"y\",\"type\":\"scatter\"},{\"hoverinfo\":\"text\",\"marker\":{\"color\":\"rgb(0,116,217)\"},\"mode\":\"lines\",\"x\":[3020.0,3020.0,3057.8125,3057.8125],\"xaxis\":\"x\",\"y\":[0.019305698498888222,0.059211303750566664,0.059211303750566664,0.03281124117021369],\"yaxis\":\"y\",\"type\":\"scatter\"},{\"hoverinfo\":\"text\",\"marker\":{\"color\":\"rgb(0,116,217)\"},\"mode\":\"lines\",\"x\":[3125.0,3125.0,3135.0,3135.0],\"xaxis\":\"x\",\"y\":[0.0,0.02217508472453714,0.02217508472453714,0.0],\"yaxis\":\"y\",\"type\":\"scatter\"},{\"hoverinfo\":\"text\",\"marker\":{\"color\":\"rgb(0,116,217)\"},\"mode\":\"lines\",\"x\":[3165.0,3165.0,3175.0,3175.0],\"xaxis\":\"x\",\"y\":[0.0,0.007094667353293029,0.007094667353293029,0.0],\"yaxis\":\"y\",\"type\":\"scatter\"},{\"hoverinfo\":\"text\",\"marker\":{\"color\":\"rgb(0,116,217)\"},\"mode\":\"lines\",\"x\":[3155.0,3155.0,3170.0,3170.0],\"xaxis\":\"x\",\"y\":[0.0,0.010869637372324995,0.010869637372324995,0.007094667353293029],\"yaxis\":\"y\",\"type\":\"scatter\"},{\"hoverinfo\":\"text\",\"marker\":{\"color\":\"rgb(0,116,217)\"},\"mode\":\"lines\",\"x\":[3145.0,3145.0,3162.5,3162.5],\"xaxis\":\"x\",\"y\":[0.0,0.018944857086601815,0.018944857086601815,0.010869637372324995],\"yaxis\":\"y\",\"type\":\"scatter\"},{\"hoverinfo\":\"text\",\"marker\":{\"color\":\"rgb(0,116,217)\"},\"mode\":\"lines\",\"x\":[3195.0,3195.0,3205.0,3205.0],\"xaxis\":\"x\",\"y\":[0.0,0.009542391363369714,0.009542391363369714,0.0],\"yaxis\":\"y\",\"type\":\"scatter\"},{\"hoverinfo\":\"text\",\"marker\":{\"color\":\"rgb(0,116,217)\"},\"mode\":\"lines\",\"x\":[3185.0,3185.0,3200.0,3200.0],\"xaxis\":\"x\",\"y\":[0.0,0.01911794029805314,0.01911794029805314,0.009542391363369714],\"yaxis\":\"y\",\"type\":\"scatter\"},{\"hoverinfo\":\"text\",\"marker\":{\"color\":\"rgb(0,116,217)\"},\"mode\":\"lines\",\"x\":[3153.75,3153.75,3192.5,3192.5],\"xaxis\":\"x\",\"y\":[0.018944857086601815,0.04855336459488427,0.04855336459488427,0.01911794029805314],\"yaxis\":\"y\",\"type\":\"scatter\"},{\"hoverinfo\":\"text\",\"marker\":{\"color\":\"rgb(0,116,217)\"},\"mode\":\"lines\",\"x\":[3130.0,3130.0,3173.125,3173.125],\"xaxis\":\"x\",\"y\":[0.02217508472453714,0.06771396312614751,0.06771396312614751,0.04855336459488427],\"yaxis\":\"y\",\"type\":\"scatter\"},{\"hoverinfo\":\"text\",\"marker\":{\"color\":\"rgb(0,116,217)\"},\"mode\":\"lines\",\"x\":[3038.90625,3038.90625,3151.5625,3151.5625],\"xaxis\":\"x\",\"y\":[0.059211303750566664,0.1203825481567145,0.1203825481567145,0.06771396312614751],\"yaxis\":\"y\",\"type\":\"scatter\"},{\"hoverinfo\":\"text\",\"marker\":{\"color\":\"rgb(0,116,217)\"},\"mode\":\"lines\",\"x\":[3215.0,3215.0,3225.0,3225.0],\"xaxis\":\"x\",\"y\":[0.0,0.13459432238826372,0.13459432238826372,0.0],\"yaxis\":\"y\",\"type\":\"scatter\"},{\"hoverinfo\":\"text\",\"marker\":{\"color\":\"rgb(0,116,217)\"},\"mode\":\"lines\",\"x\":[3095.234375,3095.234375,3220.0,3220.0],\"xaxis\":\"x\",\"y\":[0.1203825481567145,0.18772100249599355,0.18772100249599355,0.13459432238826372],\"yaxis\":\"y\",\"type\":\"scatter\"},{\"hoverinfo\":\"text\",\"marker\":{\"color\":\"rgb(0,116,217)\"},\"mode\":\"lines\",\"x\":[3000.0,3000.0,3157.6171875,3157.6171875],\"xaxis\":\"x\",\"y\":[0.03738321497829024,0.2507392740337759,0.2507392740337759,0.18772100249599355],\"yaxis\":\"y\",\"type\":\"scatter\"},{\"hoverinfo\":\"text\",\"marker\":{\"color\":\"rgb(0,116,217)\"},\"mode\":\"lines\",\"x\":[2852.109375,2852.109375,3078.80859375,3078.80859375],\"xaxis\":\"x\",\"y\":[0.16321199917808196,0.32333315143359614,0.32333315143359614,0.2507392740337759],\"yaxis\":\"y\",\"type\":\"scatter\"},{\"hoverinfo\":\"text\",\"marker\":{\"color\":\"rgb(0,116,217)\"},\"mode\":\"lines\",\"x\":[2708.28125,2708.28125,2965.458984375,2965.458984375],\"xaxis\":\"x\",\"y\":[0.22011681164003832,0.4939870361885603,0.4939870361885603,0.32333315143359614],\"yaxis\":\"y\",\"type\":\"scatter\"},{\"hoverinfo\":\"text\",\"marker\":{\"color\":\"rgb(0,116,217)\"},\"mode\":\"lines\",\"x\":[2672.5,2672.5,2836.8701171875,2836.8701171875],\"xaxis\":\"x\",\"y\":[0.19468494673052295,0.5834298412253129,0.5834298412253129,0.4939870361885603],\"yaxis\":\"y\",\"type\":\"scatter\"},{\"hoverinfo\":\"text\",\"marker\":{\"color\":\"rgb(0,116,217)\"},\"mode\":\"lines\",\"x\":[2642.5,2642.5,2754.68505859375,2754.68505859375],\"xaxis\":\"x\",\"y\":[0.10836447347561791,0.6668911136033465,0.6668911136033465,0.5834298412253129],\"yaxis\":\"y\",\"type\":\"scatter\"},{\"hoverinfo\":\"text\",\"marker\":{\"color\":\"rgb(0,116,217)\"},\"mode\":\"lines\",\"x\":[3235.0,3235.0,3245.0,3245.0],\"xaxis\":\"x\",\"y\":[0.0,0.15733638207553852,0.15733638207553852,0.0],\"yaxis\":\"y\",\"type\":\"scatter\"},{\"hoverinfo\":\"text\",\"marker\":{\"color\":\"rgb(0,116,217)\"},\"mode\":\"lines\",\"x\":[3275.0,3275.0,3285.0,3285.0],\"xaxis\":\"x\",\"y\":[0.0,0.014430858881773244,0.014430858881773244,0.0],\"yaxis\":\"y\",\"type\":\"scatter\"},{\"hoverinfo\":\"text\",\"marker\":{\"color\":\"rgb(0,116,217)\"},\"mode\":\"lines\",\"x\":[3265.0,3265.0,3280.0,3280.0],\"xaxis\":\"x\",\"y\":[0.0,0.06695430343432468,0.06695430343432468,0.014430858881773244],\"yaxis\":\"y\",\"type\":\"scatter\"},{\"hoverinfo\":\"text\",\"marker\":{\"color\":\"rgb(0,116,217)\"},\"mode\":\"lines\",\"x\":[3255.0,3255.0,3272.5,3272.5],\"xaxis\":\"x\",\"y\":[0.0,0.16901886810432137,0.16901886810432137,0.06695430343432468],\"yaxis\":\"y\",\"type\":\"scatter\"},{\"hoverinfo\":\"text\",\"marker\":{\"color\":\"rgb(0,116,217)\"},\"mode\":\"lines\",\"x\":[3240.0,3240.0,3263.75,3263.75],\"xaxis\":\"x\",\"y\":[0.15733638207553852,0.3069327880176268,0.3069327880176268,0.16901886810432137],\"yaxis\":\"y\",\"type\":\"scatter\"},{\"hoverinfo\":\"text\",\"marker\":{\"color\":\"rgb(0,116,217)\"},\"mode\":\"lines\",\"x\":[3305.0,3305.0,3315.0,3315.0],\"xaxis\":\"x\",\"y\":[0.0,0.022962187896085916,0.022962187896085916,0.0],\"yaxis\":\"y\",\"type\":\"scatter\"},{\"hoverinfo\":\"text\",\"marker\":{\"color\":\"rgb(0,116,217)\"},\"mode\":\"lines\",\"x\":[3355.0,3355.0,3365.0,3365.0],\"xaxis\":\"x\",\"y\":[0.0,0.005558006852149293,0.005558006852149293,0.0],\"yaxis\":\"y\",\"type\":\"scatter\"},{\"hoverinfo\":\"text\",\"marker\":{\"color\":\"rgb(0,116,217)\"},\"mode\":\"lines\",\"x\":[3345.0,3345.0,3360.0,3360.0],\"xaxis\":\"x\",\"y\":[0.0,0.016784716481796278,0.016784716481796278,0.005558006852149293],\"yaxis\":\"y\",\"type\":\"scatter\"},{\"hoverinfo\":\"text\",\"marker\":{\"color\":\"rgb(0,116,217)\"},\"mode\":\"lines\",\"x\":[3335.0,3335.0,3352.5,3352.5],\"xaxis\":\"x\",\"y\":[0.0,0.03139192646845149,0.03139192646845149,0.016784716481796278],\"yaxis\":\"y\",\"type\":\"scatter\"},{\"hoverinfo\":\"text\",\"marker\":{\"color\":\"rgb(0,116,217)\"},\"mode\":\"lines\",\"x\":[3325.0,3325.0,3343.75,3343.75],\"xaxis\":\"x\",\"y\":[0.0,0.04207421943039729,0.04207421943039729,0.03139192646845149],\"yaxis\":\"y\",\"type\":\"scatter\"},{\"hoverinfo\":\"text\",\"marker\":{\"color\":\"rgb(0,116,217)\"},\"mode\":\"lines\",\"x\":[3310.0,3310.0,3334.375,3334.375],\"xaxis\":\"x\",\"y\":[0.022962187896085916,0.06501562482560713,0.06501562482560713,0.04207421943039729],\"yaxis\":\"y\",\"type\":\"scatter\"},{\"hoverinfo\":\"text\",\"marker\":{\"color\":\"rgb(0,116,217)\"},\"mode\":\"lines\",\"x\":[3295.0,3295.0,3322.1875,3322.1875],\"xaxis\":\"x\",\"y\":[0.0,0.15056933163149175,0.15056933163149175,0.06501562482560713],\"yaxis\":\"y\",\"type\":\"scatter\"},{\"hoverinfo\":\"text\",\"marker\":{\"color\":\"rgb(0,116,217)\"},\"mode\":\"lines\",\"x\":[3385.0,3385.0,3395.0,3395.0],\"xaxis\":\"x\",\"y\":[0.0,0.04382041266905624,0.04382041266905624,0.0],\"yaxis\":\"y\",\"type\":\"scatter\"},{\"hoverinfo\":\"text\",\"marker\":{\"color\":\"rgb(0,116,217)\"},\"mode\":\"lines\",\"x\":[3375.0,3375.0,3390.0,3390.0],\"xaxis\":\"x\",\"y\":[0.0,0.18616322372025593,0.18616322372025593,0.04382041266905624],\"yaxis\":\"y\",\"type\":\"scatter\"},{\"hoverinfo\":\"text\",\"marker\":{\"color\":\"rgb(0,116,217)\"},\"mode\":\"lines\",\"x\":[3308.59375,3308.59375,3382.5,3382.5],\"xaxis\":\"x\",\"y\":[0.15056933163149175,0.357778335282402,0.357778335282402,0.18616322372025593],\"yaxis\":\"y\",\"type\":\"scatter\"},{\"hoverinfo\":\"text\",\"marker\":{\"color\":\"rgb(0,116,217)\"},\"mode\":\"lines\",\"x\":[3251.875,3251.875,3345.546875,3345.546875],\"xaxis\":\"x\",\"y\":[0.3069327880176268,0.5483168245244718,0.5483168245244718,0.357778335282402],\"yaxis\":\"y\",\"type\":\"scatter\"},{\"hoverinfo\":\"text\",\"marker\":{\"color\":\"rgb(0,116,217)\"},\"mode\":\"lines\",\"x\":[3415.0,3415.0,3425.0,3425.0],\"xaxis\":\"x\",\"y\":[0.0,0.0043219545015182525,0.0043219545015182525,0.0],\"yaxis\":\"y\",\"type\":\"scatter\"},{\"hoverinfo\":\"text\",\"marker\":{\"color\":\"rgb(0,116,217)\"},\"mode\":\"lines\",\"x\":[3405.0,3405.0,3420.0,3420.0],\"xaxis\":\"x\",\"y\":[0.0,0.01680337152772227,0.01680337152772227,0.0043219545015182525],\"yaxis\":\"y\",\"type\":\"scatter\"},{\"hoverinfo\":\"text\",\"marker\":{\"color\":\"rgb(0,116,217)\"},\"mode\":\"lines\",\"x\":[3435.0,3435.0,3445.0,3445.0],\"xaxis\":\"x\",\"y\":[0.0,0.005710763310557178,0.005710763310557178,0.0],\"yaxis\":\"y\",\"type\":\"scatter\"},{\"hoverinfo\":\"text\",\"marker\":{\"color\":\"rgb(0,116,217)\"},\"mode\":\"lines\",\"x\":[3475.0,3475.0,3485.0,3485.0],\"xaxis\":\"x\",\"y\":[0.0,0.0017924333633019562,0.0017924333633019562,0.0],\"yaxis\":\"y\",\"type\":\"scatter\"},{\"hoverinfo\":\"text\",\"marker\":{\"color\":\"rgb(0,116,217)\"},\"mode\":\"lines\",\"x\":[3465.0,3465.0,3480.0,3480.0],\"xaxis\":\"x\",\"y\":[0.0,0.0041663925725149995,0.0041663925725149995,0.0017924333633019562],\"yaxis\":\"y\",\"type\":\"scatter\"},{\"hoverinfo\":\"text\",\"marker\":{\"color\":\"rgb(0,116,217)\"},\"mode\":\"lines\",\"x\":[3455.0,3455.0,3472.5,3472.5],\"xaxis\":\"x\",\"y\":[0.0,0.006387587945231363,0.006387587945231363,0.0041663925725149995],\"yaxis\":\"y\",\"type\":\"scatter\"},{\"hoverinfo\":\"text\",\"marker\":{\"color\":\"rgb(0,116,217)\"},\"mode\":\"lines\",\"x\":[3440.0,3440.0,3463.75,3463.75],\"xaxis\":\"x\",\"y\":[0.005710763310557178,0.017330237849166825,0.017330237849166825,0.006387587945231363],\"yaxis\":\"y\",\"type\":\"scatter\"},{\"hoverinfo\":\"text\",\"marker\":{\"color\":\"rgb(0,116,217)\"},\"mode\":\"lines\",\"x\":[3495.0,3495.0,3505.0,3505.0],\"xaxis\":\"x\",\"y\":[0.0,0.0028023416912568494,0.0028023416912568494,0.0],\"yaxis\":\"y\",\"type\":\"scatter\"},{\"hoverinfo\":\"text\",\"marker\":{\"color\":\"rgb(0,116,217)\"},\"mode\":\"lines\",\"x\":[3515.0,3515.0,3525.0,3525.0],\"xaxis\":\"x\",\"y\":[0.0,0.010121392229405933,0.010121392229405933,0.0],\"yaxis\":\"y\",\"type\":\"scatter\"},{\"hoverinfo\":\"text\",\"marker\":{\"color\":\"rgb(0,116,217)\"},\"mode\":\"lines\",\"x\":[3500.0,3500.0,3520.0,3520.0],\"xaxis\":\"x\",\"y\":[0.0028023416912568494,0.025922670202248966,0.025922670202248966,0.010121392229405933],\"yaxis\":\"y\",\"type\":\"scatter\"},{\"hoverinfo\":\"text\",\"marker\":{\"color\":\"rgb(0,116,217)\"},\"mode\":\"lines\",\"x\":[3451.875,3451.875,3510.0,3510.0],\"xaxis\":\"x\",\"y\":[0.017330237849166825,0.05051355470717984,0.05051355470717984,0.025922670202248966],\"yaxis\":\"y\",\"type\":\"scatter\"},{\"hoverinfo\":\"text\",\"marker\":{\"color\":\"rgb(0,116,217)\"},\"mode\":\"lines\",\"x\":[3412.5,3412.5,3480.9375,3480.9375],\"xaxis\":\"x\",\"y\":[0.01680337152772227,0.11009956579728018,0.11009956579728018,0.05051355470717984],\"yaxis\":\"y\",\"type\":\"scatter\"},{\"hoverinfo\":\"text\",\"marker\":{\"color\":\"rgb(0,116,217)\"},\"mode\":\"lines\",\"x\":[3545.0,3545.0,3555.0,3555.0],\"xaxis\":\"x\",\"y\":[0.0,0.003681348395307613,0.003681348395307613,0.0],\"yaxis\":\"y\",\"type\":\"scatter\"},{\"hoverinfo\":\"text\",\"marker\":{\"color\":\"rgb(0,116,217)\"},\"mode\":\"lines\",\"x\":[3535.0,3535.0,3550.0,3550.0],\"xaxis\":\"x\",\"y\":[0.0,0.02565833604615276,0.02565833604615276,0.003681348395307613],\"yaxis\":\"y\",\"type\":\"scatter\"},{\"hoverinfo\":\"text\",\"marker\":{\"color\":\"rgb(0,116,217)\"},\"mode\":\"lines\",\"x\":[3575.0,3575.0,3585.0,3585.0],\"xaxis\":\"x\",\"y\":[0.0,0.007995244077513215,0.007995244077513215,0.0],\"yaxis\":\"y\",\"type\":\"scatter\"},{\"hoverinfo\":\"text\",\"marker\":{\"color\":\"rgb(0,116,217)\"},\"mode\":\"lines\",\"x\":[3565.0,3565.0,3580.0,3580.0],\"xaxis\":\"x\",\"y\":[0.0,0.03485979489191095,0.03485979489191095,0.007995244077513215],\"yaxis\":\"y\",\"type\":\"scatter\"},{\"hoverinfo\":\"text\",\"marker\":{\"color\":\"rgb(0,116,217)\"},\"mode\":\"lines\",\"x\":[3542.5,3542.5,3572.5,3572.5],\"xaxis\":\"x\",\"y\":[0.02565833604615276,0.11317144922857605,0.11317144922857605,0.03485979489191095],\"yaxis\":\"y\",\"type\":\"scatter\"},{\"hoverinfo\":\"text\",\"marker\":{\"color\":\"rgb(0,116,217)\"},\"mode\":\"lines\",\"x\":[3446.71875,3446.71875,3557.5,3557.5],\"xaxis\":\"x\",\"y\":[0.11009956579728018,0.18878773957524367,0.18878773957524367,0.11317144922857605],\"yaxis\":\"y\",\"type\":\"scatter\"},{\"hoverinfo\":\"text\",\"marker\":{\"color\":\"rgb(0,116,217)\"},\"mode\":\"lines\",\"x\":[3605.0,3605.0,3615.0,3615.0],\"xaxis\":\"x\",\"y\":[0.0,0.24238984080485573,0.24238984080485573,0.0],\"yaxis\":\"y\",\"type\":\"scatter\"},{\"hoverinfo\":\"text\",\"marker\":{\"color\":\"rgb(0,116,217)\"},\"mode\":\"lines\",\"x\":[3595.0,3595.0,3610.0,3610.0],\"xaxis\":\"x\",\"y\":[0.0,0.26878806491378243,0.26878806491378243,0.24238984080485573],\"yaxis\":\"y\",\"type\":\"scatter\"},{\"hoverinfo\":\"text\",\"marker\":{\"color\":\"rgb(0,116,217)\"},\"mode\":\"lines\",\"x\":[3502.109375,3502.109375,3602.5,3602.5],\"xaxis\":\"x\",\"y\":[0.18878773957524367,0.6099773032093251,0.6099773032093251,0.26878806491378243],\"yaxis\":\"y\",\"type\":\"scatter\"},{\"hoverinfo\":\"text\",\"marker\":{\"color\":\"rgb(0,116,217)\"},\"mode\":\"lines\",\"x\":[3298.7109375,3298.7109375,3552.3046875,3552.3046875],\"xaxis\":\"x\",\"y\":[0.5483168245244718,0.9387137662350885,0.9387137662350885,0.6099773032093251],\"yaxis\":\"y\",\"type\":\"scatter\"},{\"hoverinfo\":\"text\",\"marker\":{\"color\":\"rgb(0,116,217)\"},\"mode\":\"lines\",\"x\":[2698.592529296875,2698.592529296875,3425.5078125,3425.5078125],\"xaxis\":\"x\",\"y\":[0.6668911136033465,1.0678098299946048,1.0678098299946048,0.9387137662350885],\"yaxis\":\"y\",\"type\":\"scatter\"},{\"hoverinfo\":\"text\",\"marker\":{\"color\":\"rgb(0,116,217)\"},\"mode\":\"lines\",\"x\":[2612.5,2612.5,3062.0501708984375,3062.0501708984375],\"xaxis\":\"x\",\"y\":[0.4112368465465755,1.1392643648499883,1.1392643648499883,1.0678098299946048],\"yaxis\":\"y\",\"type\":\"scatter\"},{\"hoverinfo\":\"text\",\"marker\":{\"color\":\"rgb(0,116,217)\"},\"mode\":\"lines\",\"x\":[3645.0,3645.0,3655.0,3655.0],\"xaxis\":\"x\",\"y\":[0.0,0.013310249271788371,0.013310249271788371,0.0],\"yaxis\":\"y\",\"type\":\"scatter\"},{\"hoverinfo\":\"text\",\"marker\":{\"color\":\"rgb(0,116,217)\"},\"mode\":\"lines\",\"x\":[3665.0,3665.0,3675.0,3675.0],\"xaxis\":\"x\",\"y\":[0.0,0.039296221509113737,0.039296221509113737,0.0],\"yaxis\":\"y\",\"type\":\"scatter\"},{\"hoverinfo\":\"text\",\"marker\":{\"color\":\"rgb(0,116,217)\"},\"mode\":\"lines\",\"x\":[3650.0,3650.0,3670.0,3670.0],\"xaxis\":\"x\",\"y\":[0.013310249271788371,0.1171409981258455,0.1171409981258455,0.039296221509113737],\"yaxis\":\"y\",\"type\":\"scatter\"},{\"hoverinfo\":\"text\",\"marker\":{\"color\":\"rgb(0,116,217)\"},\"mode\":\"lines\",\"x\":[3705.0,3705.0,3715.0,3715.0],\"xaxis\":\"x\",\"y\":[0.0,0.05634742755687607,0.05634742755687607,0.0],\"yaxis\":\"y\",\"type\":\"scatter\"},{\"hoverinfo\":\"text\",\"marker\":{\"color\":\"rgb(0,116,217)\"},\"mode\":\"lines\",\"x\":[3695.0,3695.0,3710.0,3710.0],\"xaxis\":\"x\",\"y\":[0.0,0.12320295806316815,0.12320295806316815,0.05634742755687607],\"yaxis\":\"y\",\"type\":\"scatter\"},{\"hoverinfo\":\"text\",\"marker\":{\"color\":\"rgb(0,116,217)\"},\"mode\":\"lines\",\"x\":[3685.0,3685.0,3702.5,3702.5],\"xaxis\":\"x\",\"y\":[0.0,0.13240617907935998,0.13240617907935998,0.12320295806316815],\"yaxis\":\"y\",\"type\":\"scatter\"},{\"hoverinfo\":\"text\",\"marker\":{\"color\":\"rgb(0,116,217)\"},\"mode\":\"lines\",\"x\":[3660.0,3660.0,3693.75,3693.75],\"xaxis\":\"x\",\"y\":[0.1171409981258455,0.3105565152904876,0.3105565152904876,0.13240617907935998],\"yaxis\":\"y\",\"type\":\"scatter\"},{\"hoverinfo\":\"text\",\"marker\":{\"color\":\"rgb(0,116,217)\"},\"mode\":\"lines\",\"x\":[3635.0,3635.0,3676.875,3676.875],\"xaxis\":\"x\",\"y\":[0.0,0.5140771163380126,0.5140771163380126,0.3105565152904876],\"yaxis\":\"y\",\"type\":\"scatter\"},{\"hoverinfo\":\"text\",\"marker\":{\"color\":\"rgb(0,116,217)\"},\"mode\":\"lines\",\"x\":[3625.0,3625.0,3655.9375,3655.9375],\"xaxis\":\"x\",\"y\":[0.0,0.6110386532252139,0.6110386532252139,0.5140771163380126],\"yaxis\":\"y\",\"type\":\"scatter\"},{\"hoverinfo\":\"text\",\"marker\":{\"color\":\"rgb(0,116,217)\"},\"mode\":\"lines\",\"x\":[3725.0,3725.0,3735.0,3735.0],\"xaxis\":\"x\",\"y\":[0.0,0.6059525047134263,0.6059525047134263,0.0],\"yaxis\":\"y\",\"type\":\"scatter\"},{\"hoverinfo\":\"text\",\"marker\":{\"color\":\"rgb(0,116,217)\"},\"mode\":\"lines\",\"x\":[3755.0,3755.0,3765.0,3765.0],\"xaxis\":\"x\",\"y\":[0.0,0.08246180261360372,0.08246180261360372,0.0],\"yaxis\":\"y\",\"type\":\"scatter\"},{\"hoverinfo\":\"text\",\"marker\":{\"color\":\"rgb(0,116,217)\"},\"mode\":\"lines\",\"x\":[3745.0,3745.0,3760.0,3760.0],\"xaxis\":\"x\",\"y\":[0.0,0.22982948976254322,0.22982948976254322,0.08246180261360372],\"yaxis\":\"y\",\"type\":\"scatter\"},{\"hoverinfo\":\"text\",\"marker\":{\"color\":\"rgb(0,116,217)\"},\"mode\":\"lines\",\"x\":[3775.0,3775.0,3785.0,3785.0],\"xaxis\":\"x\",\"y\":[0.0,0.0340346113815524,0.0340346113815524,0.0],\"yaxis\":\"y\",\"type\":\"scatter\"},{\"hoverinfo\":\"text\",\"marker\":{\"color\":\"rgb(0,116,217)\"},\"mode\":\"lines\",\"x\":[3795.0,3795.0,3805.0,3805.0],\"xaxis\":\"x\",\"y\":[0.0,0.06565225184471576,0.06565225184471576,0.0],\"yaxis\":\"y\",\"type\":\"scatter\"},{\"hoverinfo\":\"text\",\"marker\":{\"color\":\"rgb(0,116,217)\"},\"mode\":\"lines\",\"x\":[3780.0,3780.0,3800.0,3800.0],\"xaxis\":\"x\",\"y\":[0.0340346113815524,0.1448877385255957,0.1448877385255957,0.06565225184471576],\"yaxis\":\"y\",\"type\":\"scatter\"},{\"hoverinfo\":\"text\",\"marker\":{\"color\":\"rgb(0,116,217)\"},\"mode\":\"lines\",\"x\":[3825.0,3825.0,3835.0,3835.0],\"xaxis\":\"x\",\"y\":[0.0,0.01174560216832042,0.01174560216832042,0.0],\"yaxis\":\"y\",\"type\":\"scatter\"},{\"hoverinfo\":\"text\",\"marker\":{\"color\":\"rgb(0,116,217)\"},\"mode\":\"lines\",\"x\":[3855.0,3855.0,3865.0,3865.0],\"xaxis\":\"x\",\"y\":[0.0,0.003150526859911156,0.003150526859911156,0.0],\"yaxis\":\"y\",\"type\":\"scatter\"},{\"hoverinfo\":\"text\",\"marker\":{\"color\":\"rgb(0,116,217)\"},\"mode\":\"lines\",\"x\":[3845.0,3845.0,3860.0,3860.0],\"xaxis\":\"x\",\"y\":[0.0,0.008121617411262463,0.008121617411262463,0.003150526859911156],\"yaxis\":\"y\",\"type\":\"scatter\"},{\"hoverinfo\":\"text\",\"marker\":{\"color\":\"rgb(0,116,217)\"},\"mode\":\"lines\",\"x\":[3875.0,3875.0,3885.0,3885.0],\"xaxis\":\"x\",\"y\":[0.0,0.009086946466145763,0.009086946466145763,0.0],\"yaxis\":\"y\",\"type\":\"scatter\"},{\"hoverinfo\":\"text\",\"marker\":{\"color\":\"rgb(0,116,217)\"},\"mode\":\"lines\",\"x\":[3852.5,3852.5,3880.0,3880.0],\"xaxis\":\"x\",\"y\":[0.008121617411262463,0.02501256937077384,0.02501256937077384,0.009086946466145763],\"yaxis\":\"y\",\"type\":\"scatter\"},{\"hoverinfo\":\"text\",\"marker\":{\"color\":\"rgb(0,116,217)\"},\"mode\":\"lines\",\"x\":[3830.0,3830.0,3866.25,3866.25],\"xaxis\":\"x\",\"y\":[0.01174560216832042,0.08127623278996479,0.08127623278996479,0.02501256937077384],\"yaxis\":\"y\",\"type\":\"scatter\"},{\"hoverinfo\":\"text\",\"marker\":{\"color\":\"rgb(0,116,217)\"},\"mode\":\"lines\",\"x\":[3925.0,3925.0,3935.0,3935.0],\"xaxis\":\"x\",\"y\":[0.0,0.002770212202783108,0.002770212202783108,0.0],\"yaxis\":\"y\",\"type\":\"scatter\"},{\"hoverinfo\":\"text\",\"marker\":{\"color\":\"rgb(0,116,217)\"},\"mode\":\"lines\",\"x\":[3915.0,3915.0,3930.0,3930.0],\"xaxis\":\"x\",\"y\":[0.0,0.007796180931724576,0.007796180931724576,0.002770212202783108],\"yaxis\":\"y\",\"type\":\"scatter\"},{\"hoverinfo\":\"text\",\"marker\":{\"color\":\"rgb(0,116,217)\"},\"mode\":\"lines\",\"x\":[3905.0,3905.0,3922.5,3922.5],\"xaxis\":\"x\",\"y\":[0.0,0.013521249525410934,0.013521249525410934,0.007796180931724576],\"yaxis\":\"y\",\"type\":\"scatter\"},{\"hoverinfo\":\"text\",\"marker\":{\"color\":\"rgb(0,116,217)\"},\"mode\":\"lines\",\"x\":[3895.0,3895.0,3913.75,3913.75],\"xaxis\":\"x\",\"y\":[0.0,0.02219658866614209,0.02219658866614209,0.013521249525410934],\"yaxis\":\"y\",\"type\":\"scatter\"},{\"hoverinfo\":\"text\",\"marker\":{\"color\":\"rgb(0,116,217)\"},\"mode\":\"lines\",\"x\":[3955.0,3955.0,3965.0,3965.0],\"xaxis\":\"x\",\"y\":[0.0,0.012181592426662067,0.012181592426662067,0.0],\"yaxis\":\"y\",\"type\":\"scatter\"},{\"hoverinfo\":\"text\",\"marker\":{\"color\":\"rgb(0,116,217)\"},\"mode\":\"lines\",\"x\":[3945.0,3945.0,3960.0,3960.0],\"xaxis\":\"x\",\"y\":[0.0,0.040852920808788634,0.040852920808788634,0.012181592426662067],\"yaxis\":\"y\",\"type\":\"scatter\"},{\"hoverinfo\":\"text\",\"marker\":{\"color\":\"rgb(0,116,217)\"},\"mode\":\"lines\",\"x\":[3904.375,3904.375,3952.5,3952.5],\"xaxis\":\"x\",\"y\":[0.02219658866614209,0.05648455209130094,0.05648455209130094,0.040852920808788634],\"yaxis\":\"y\",\"type\":\"scatter\"},{\"hoverinfo\":\"text\",\"marker\":{\"color\":\"rgb(0,116,217)\"},\"mode\":\"lines\",\"x\":[3975.0,3975.0,3985.0,3985.0],\"xaxis\":\"x\",\"y\":[0.0,0.004933388640596953,0.004933388640596953,0.0],\"yaxis\":\"y\",\"type\":\"scatter\"},{\"hoverinfo\":\"text\",\"marker\":{\"color\":\"rgb(0,116,217)\"},\"mode\":\"lines\",\"x\":[3995.0,3995.0,4005.0,4005.0],\"xaxis\":\"x\",\"y\":[0.0,0.010732338265335258,0.010732338265335258,0.0],\"yaxis\":\"y\",\"type\":\"scatter\"},{\"hoverinfo\":\"text\",\"marker\":{\"color\":\"rgb(0,116,217)\"},\"mode\":\"lines\",\"x\":[3980.0,3980.0,4000.0,4000.0],\"xaxis\":\"x\",\"y\":[0.004933388640596953,0.020107868464180376,0.020107868464180376,0.010732338265335258],\"yaxis\":\"y\",\"type\":\"scatter\"},{\"hoverinfo\":\"text\",\"marker\":{\"color\":\"rgb(0,116,217)\"},\"mode\":\"lines\",\"x\":[4015.0,4015.0,4025.0,4025.0],\"xaxis\":\"x\",\"y\":[0.0,0.03854526572023688,0.03854526572023688,0.0],\"yaxis\":\"y\",\"type\":\"scatter\"},{\"hoverinfo\":\"text\",\"marker\":{\"color\":\"rgb(0,116,217)\"},\"mode\":\"lines\",\"x\":[3990.0,3990.0,4020.0,4020.0],\"xaxis\":\"x\",\"y\":[0.020107868464180376,0.05981337991792439,0.05981337991792439,0.03854526572023688],\"yaxis\":\"y\",\"type\":\"scatter\"},{\"hoverinfo\":\"text\",\"marker\":{\"color\":\"rgb(0,116,217)\"},\"mode\":\"lines\",\"x\":[3928.4375,3928.4375,4005.0,4005.0],\"xaxis\":\"x\",\"y\":[0.05648455209130094,0.10543924087609047,0.10543924087609047,0.05981337991792439],\"yaxis\":\"y\",\"type\":\"scatter\"},{\"hoverinfo\":\"text\",\"marker\":{\"color\":\"rgb(0,116,217)\"},\"mode\":\"lines\",\"x\":[3848.125,3848.125,3966.71875,3966.71875],\"xaxis\":\"x\",\"y\":[0.08127623278996479,0.22947553217958333,0.22947553217958333,0.10543924087609047],\"yaxis\":\"y\",\"type\":\"scatter\"},{\"hoverinfo\":\"text\",\"marker\":{\"color\":\"rgb(0,116,217)\"},\"mode\":\"lines\",\"x\":[3815.0,3815.0,3907.421875,3907.421875],\"xaxis\":\"x\",\"y\":[0.0,0.4558464054262393,0.4558464054262393,0.22947553217958333],\"yaxis\":\"y\",\"type\":\"scatter\"},{\"hoverinfo\":\"text\",\"marker\":{\"color\":\"rgb(0,116,217)\"},\"mode\":\"lines\",\"x\":[3790.0,3790.0,3861.2109375,3861.2109375],\"xaxis\":\"x\",\"y\":[0.1448877385255957,0.4890075121746139,0.4890075121746139,0.4558464054262393],\"yaxis\":\"y\",\"type\":\"scatter\"},{\"hoverinfo\":\"text\",\"marker\":{\"color\":\"rgb(0,116,217)\"},\"mode\":\"lines\",\"x\":[3752.5,3752.5,3825.60546875,3825.60546875],\"xaxis\":\"x\",\"y\":[0.22982948976254322,0.7093848799524558,0.7093848799524558,0.4890075121746139],\"yaxis\":\"y\",\"type\":\"scatter\"},{\"hoverinfo\":\"text\",\"marker\":{\"color\":\"rgb(0,116,217)\"},\"mode\":\"lines\",\"x\":[3730.0,3730.0,3789.052734375,3789.052734375],\"xaxis\":\"x\",\"y\":[0.6059525047134263,1.0424472125796105,1.0424472125796105,0.7093848799524558],\"yaxis\":\"y\",\"type\":\"scatter\"},{\"hoverinfo\":\"text\",\"marker\":{\"color\":\"rgb(0,116,217)\"},\"mode\":\"lines\",\"x\":[3640.46875,3640.46875,3759.5263671875,3759.5263671875],\"xaxis\":\"x\",\"y\":[0.6110386532252139,1.2110585629676236,1.2110585629676236,1.0424472125796105],\"yaxis\":\"y\",\"type\":\"scatter\"},{\"hoverinfo\":\"text\",\"marker\":{\"color\":\"rgb(0,116,217)\"},\"mode\":\"lines\",\"x\":[2837.2750854492188,2837.2750854492188,3699.99755859375,3699.99755859375],\"xaxis\":\"x\",\"y\":[1.1392643648499883,1.8701607617202043,1.8701607617202043,1.2110585629676236],\"yaxis\":\"y\",\"type\":\"scatter\"},{\"hoverinfo\":\"text\",\"marker\":{\"color\":\"rgb(0,116,217)\"},\"mode\":\"lines\",\"x\":[2520.78125,2520.78125,3268.6363220214844,3268.6363220214844],\"xaxis\":\"x\",\"y\":[1.0044509213496362,2.0864083902092614,2.0864083902092614,1.8701607617202043],\"yaxis\":\"y\",\"type\":\"scatter\"},{\"hoverinfo\":\"text\",\"marker\":{\"color\":\"rgb(0,116,217)\"},\"mode\":\"lines\",\"x\":[2015.16845703125,2015.16845703125,2894.708786010742,2894.708786010742],\"xaxis\":\"x\",\"y\":[1.5033009975585676,2.4173591554691147,2.4173591554691147,2.0864083902092614],\"yaxis\":\"y\",\"type\":\"scatter\"},{\"hoverinfo\":\"text\",\"marker\":{\"color\":\"rgb(0,116,217)\"},\"mode\":\"lines\",\"x\":[1975.0,1975.0,2454.938621520996,2454.938621520996],\"xaxis\":\"x\",\"y\":[0.0,3.1233442659089548,3.1233442659089548,2.4173591554691147],\"yaxis\":\"y\",\"type\":\"scatter\"},{\"hoverinfo\":\"text\",\"marker\":{\"color\":\"rgb(0,116,217)\"},\"mode\":\"lines\",\"x\":[1697.6171875,1697.6171875,2214.969310760498,2214.969310760498],\"xaxis\":\"x\",\"y\":[2.668626249751741,3.855197899582591,3.855197899582591,3.1233442659089548],\"yaxis\":\"y\",\"type\":\"scatter\"},{\"hoverinfo\":\"text\",\"marker\":{\"color\":\"rgb(0,116,217)\"},\"mode\":\"lines\",\"x\":[4045.0,4045.0,4055.0,4055.0],\"xaxis\":\"x\",\"y\":[0.0,0.4025246576264939,0.4025246576264939,0.0],\"yaxis\":\"y\",\"type\":\"scatter\"},{\"hoverinfo\":\"text\",\"marker\":{\"color\":\"rgb(0,116,217)\"},\"mode\":\"lines\",\"x\":[4085.0,4085.0,4095.0,4095.0],\"xaxis\":\"x\",\"y\":[0.0,0.03595951951444358,0.03595951951444358,0.0],\"yaxis\":\"y\",\"type\":\"scatter\"},{\"hoverinfo\":\"text\",\"marker\":{\"color\":\"rgb(0,116,217)\"},\"mode\":\"lines\",\"x\":[4075.0,4075.0,4090.0,4090.0],\"xaxis\":\"x\",\"y\":[0.0,0.09083003550898604,0.09083003550898604,0.03595951951444358],\"yaxis\":\"y\",\"type\":\"scatter\"},{\"hoverinfo\":\"text\",\"marker\":{\"color\":\"rgb(0,116,217)\"},\"mode\":\"lines\",\"x\":[4065.0,4065.0,4082.5,4082.5],\"xaxis\":\"x\",\"y\":[0.0,0.4045891961936823,0.4045891961936823,0.09083003550898604],\"yaxis\":\"y\",\"type\":\"scatter\"},{\"hoverinfo\":\"text\",\"marker\":{\"color\":\"rgb(0,116,217)\"},\"mode\":\"lines\",\"x\":[4050.0,4050.0,4073.75,4073.75],\"xaxis\":\"x\",\"y\":[0.4025246576264939,0.8658931816730558,0.8658931816730558,0.4045891961936823],\"yaxis\":\"y\",\"type\":\"scatter\"},{\"hoverinfo\":\"text\",\"marker\":{\"color\":\"rgb(0,116,217)\"},\"mode\":\"lines\",\"x\":[4035.0,4035.0,4061.875,4061.875],\"xaxis\":\"x\",\"y\":[0.0,0.9700943596368286,0.9700943596368286,0.8658931816730558],\"yaxis\":\"y\",\"type\":\"scatter\"},{\"hoverinfo\":\"text\",\"marker\":{\"color\":\"rgb(0,116,217)\"},\"mode\":\"lines\",\"x\":[4125.0,4125.0,4135.0,4135.0],\"xaxis\":\"x\",\"y\":[0.0,0.05621667594040247,0.05621667594040247,0.0],\"yaxis\":\"y\",\"type\":\"scatter\"},{\"hoverinfo\":\"text\",\"marker\":{\"color\":\"rgb(0,116,217)\"},\"mode\":\"lines\",\"x\":[4115.0,4115.0,4130.0,4130.0],\"xaxis\":\"x\",\"y\":[0.0,0.14502901538669224,0.14502901538669224,0.05621667594040247],\"yaxis\":\"y\",\"type\":\"scatter\"},{\"hoverinfo\":\"text\",\"marker\":{\"color\":\"rgb(0,116,217)\"},\"mode\":\"lines\",\"x\":[4105.0,4105.0,4122.5,4122.5],\"xaxis\":\"x\",\"y\":[0.0,0.2888987589376599,0.2888987589376599,0.14502901538669224],\"yaxis\":\"y\",\"type\":\"scatter\"},{\"hoverinfo\":\"text\",\"marker\":{\"color\":\"rgb(0,116,217)\"},\"mode\":\"lines\",\"x\":[4145.0,4145.0,4155.0,4155.0],\"xaxis\":\"x\",\"y\":[0.0,0.02106526463926342,0.02106526463926342,0.0],\"yaxis\":\"y\",\"type\":\"scatter\"},{\"hoverinfo\":\"text\",\"marker\":{\"color\":\"rgb(0,116,217)\"},\"mode\":\"lines\",\"x\":[4175.0,4175.0,4185.0,4185.0],\"xaxis\":\"x\",\"y\":[0.0,0.038218282958671426,0.038218282958671426,0.0],\"yaxis\":\"y\",\"type\":\"scatter\"},{\"hoverinfo\":\"text\",\"marker\":{\"color\":\"rgb(0,116,217)\"},\"mode\":\"lines\",\"x\":[4165.0,4165.0,4180.0,4180.0],\"xaxis\":\"x\",\"y\":[0.0,0.0581331304862216,0.0581331304862216,0.038218282958671426],\"yaxis\":\"y\",\"type\":\"scatter\"},{\"hoverinfo\":\"text\",\"marker\":{\"color\":\"rgb(0,116,217)\"},\"mode\":\"lines\",\"x\":[4150.0,4150.0,4172.5,4172.5],\"xaxis\":\"x\",\"y\":[0.02106526463926342,0.147831869190138,0.147831869190138,0.0581331304862216],\"yaxis\":\"y\",\"type\":\"scatter\"},{\"hoverinfo\":\"text\",\"marker\":{\"color\":\"rgb(0,116,217)\"},\"mode\":\"lines\",\"x\":[4195.0,4195.0,4205.0,4205.0],\"xaxis\":\"x\",\"y\":[0.0,0.043199846102613015,0.043199846102613015,0.0],\"yaxis\":\"y\",\"type\":\"scatter\"},{\"hoverinfo\":\"text\",\"marker\":{\"color\":\"rgb(0,116,217)\"},\"mode\":\"lines\",\"x\":[4215.0,4215.0,4225.0,4225.0],\"xaxis\":\"x\",\"y\":[0.0,0.022625984419703024,0.022625984419703024,0.0],\"yaxis\":\"y\",\"type\":\"scatter\"},{\"hoverinfo\":\"text\",\"marker\":{\"color\":\"rgb(0,116,217)\"},\"mode\":\"lines\",\"x\":[4235.0,4235.0,4245.0,4245.0],\"xaxis\":\"x\",\"y\":[0.0,0.03258347488038492,0.03258347488038492,0.0],\"yaxis\":\"y\",\"type\":\"scatter\"},{\"hoverinfo\":\"text\",\"marker\":{\"color\":\"rgb(0,116,217)\"},\"mode\":\"lines\",\"x\":[4220.0,4220.0,4240.0,4240.0],\"xaxis\":\"x\",\"y\":[0.022625984419703024,0.07851595253379627,0.07851595253379627,0.03258347488038492],\"yaxis\":\"y\",\"type\":\"scatter\"},{\"hoverinfo\":\"text\",\"marker\":{\"color\":\"rgb(0,116,217)\"},\"mode\":\"lines\",\"x\":[4200.0,4200.0,4230.0,4230.0],\"xaxis\":\"x\",\"y\":[0.043199846102613015,0.18710533988443676,0.18710533988443676,0.07851595253379627],\"yaxis\":\"y\",\"type\":\"scatter\"},{\"hoverinfo\":\"text\",\"marker\":{\"color\":\"rgb(0,116,217)\"},\"mode\":\"lines\",\"x\":[4161.25,4161.25,4215.0,4215.0],\"xaxis\":\"x\",\"y\":[0.147831869190138,0.4235116231202317,0.4235116231202317,0.18710533988443676],\"yaxis\":\"y\",\"type\":\"scatter\"},{\"hoverinfo\":\"text\",\"marker\":{\"color\":\"rgb(0,116,217)\"},\"mode\":\"lines\",\"x\":[4113.75,4113.75,4188.125,4188.125],\"xaxis\":\"x\",\"y\":[0.2888987589376599,0.8486686766858971,0.8486686766858971,0.4235116231202317],\"yaxis\":\"y\",\"type\":\"scatter\"},{\"hoverinfo\":\"text\",\"marker\":{\"color\":\"rgb(0,116,217)\"},\"mode\":\"lines\",\"x\":[4275.0,4275.0,4285.0,4285.0],\"xaxis\":\"x\",\"y\":[0.0,0.26974633762684724,0.26974633762684724,0.0],\"yaxis\":\"y\",\"type\":\"scatter\"},{\"hoverinfo\":\"text\",\"marker\":{\"color\":\"rgb(0,116,217)\"},\"mode\":\"lines\",\"x\":[4265.0,4265.0,4280.0,4280.0],\"xaxis\":\"x\",\"y\":[0.0,0.4495668517118413,0.4495668517118413,0.26974633762684724],\"yaxis\":\"y\",\"type\":\"scatter\"},{\"hoverinfo\":\"text\",\"marker\":{\"color\":\"rgb(0,116,217)\"},\"mode\":\"lines\",\"x\":[4305.0,4305.0,4315.0,4315.0],\"xaxis\":\"x\",\"y\":[0.0,0.037713767885190624,0.037713767885190624,0.0],\"yaxis\":\"y\",\"type\":\"scatter\"},{\"hoverinfo\":\"text\",\"marker\":{\"color\":\"rgb(0,116,217)\"},\"mode\":\"lines\",\"x\":[4335.0,4335.0,4345.0,4345.0],\"xaxis\":\"x\",\"y\":[0.0,0.009136466117143506,0.009136466117143506,0.0],\"yaxis\":\"y\",\"type\":\"scatter\"},{\"hoverinfo\":\"text\",\"marker\":{\"color\":\"rgb(0,116,217)\"},\"mode\":\"lines\",\"x\":[4325.0,4325.0,4340.0,4340.0],\"xaxis\":\"x\",\"y\":[0.0,0.1383968517493385,0.1383968517493385,0.009136466117143506],\"yaxis\":\"y\",\"type\":\"scatter\"},{\"hoverinfo\":\"text\",\"marker\":{\"color\":\"rgb(0,116,217)\"},\"mode\":\"lines\",\"x\":[4310.0,4310.0,4332.5,4332.5],\"xaxis\":\"x\",\"y\":[0.037713767885190624,0.19681296179471405,0.19681296179471405,0.1383968517493385],\"yaxis\":\"y\",\"type\":\"scatter\"},{\"hoverinfo\":\"text\",\"marker\":{\"color\":\"rgb(0,116,217)\"},\"mode\":\"lines\",\"x\":[4295.0,4295.0,4321.25,4321.25],\"xaxis\":\"x\",\"y\":[0.0,0.4322657214330805,0.4322657214330805,0.19681296179471405],\"yaxis\":\"y\",\"type\":\"scatter\"},{\"hoverinfo\":\"text\",\"marker\":{\"color\":\"rgb(0,116,217)\"},\"mode\":\"lines\",\"x\":[4355.0,4355.0,4365.0,4365.0],\"xaxis\":\"x\",\"y\":[0.0,0.09389041954983501,0.09389041954983501,0.0],\"yaxis\":\"y\",\"type\":\"scatter\"},{\"hoverinfo\":\"text\",\"marker\":{\"color\":\"rgb(0,116,217)\"},\"mode\":\"lines\",\"x\":[4395.0,4395.0,4405.0,4405.0],\"xaxis\":\"x\",\"y\":[0.0,0.0139844465637151,0.0139844465637151,0.0],\"yaxis\":\"y\",\"type\":\"scatter\"},{\"hoverinfo\":\"text\",\"marker\":{\"color\":\"rgb(0,116,217)\"},\"mode\":\"lines\",\"x\":[4385.0,4385.0,4400.0,4400.0],\"xaxis\":\"x\",\"y\":[0.0,0.059310958202649464,0.059310958202649464,0.0139844465637151],\"yaxis\":\"y\",\"type\":\"scatter\"},{\"hoverinfo\":\"text\",\"marker\":{\"color\":\"rgb(0,116,217)\"},\"mode\":\"lines\",\"x\":[4375.0,4375.0,4392.5,4392.5],\"xaxis\":\"x\",\"y\":[0.0,0.11891526129867896,0.11891526129867896,0.059310958202649464],\"yaxis\":\"y\",\"type\":\"scatter\"},{\"hoverinfo\":\"text\",\"marker\":{\"color\":\"rgb(0,116,217)\"},\"mode\":\"lines\",\"x\":[4360.0,4360.0,4383.75,4383.75],\"xaxis\":\"x\",\"y\":[0.09389041954983501,0.2570493545492117,0.2570493545492117,0.11891526129867896],\"yaxis\":\"y\",\"type\":\"scatter\"},{\"hoverinfo\":\"text\",\"marker\":{\"color\":\"rgb(0,116,217)\"},\"mode\":\"lines\",\"x\":[4415.0,4415.0,4425.0,4425.0],\"xaxis\":\"x\",\"y\":[0.0,0.35390343666677015,0.35390343666677015,0.0],\"yaxis\":\"y\",\"type\":\"scatter\"},{\"hoverinfo\":\"text\",\"marker\":{\"color\":\"rgb(0,116,217)\"},\"mode\":\"lines\",\"x\":[4371.875,4371.875,4420.0,4420.0],\"xaxis\":\"x\",\"y\":[0.2570493545492117,0.48962165052117484,0.48962165052117484,0.35390343666677015],\"yaxis\":\"y\",\"type\":\"scatter\"},{\"hoverinfo\":\"text\",\"marker\":{\"color\":\"rgb(0,116,217)\"},\"mode\":\"lines\",\"x\":[4308.125,4308.125,4395.9375,4395.9375],\"xaxis\":\"x\",\"y\":[0.4322657214330805,0.788479915993788,0.788479915993788,0.48962165052117484],\"yaxis\":\"y\",\"type\":\"scatter\"},{\"hoverinfo\":\"text\",\"marker\":{\"color\":\"rgb(0,116,217)\"},\"mode\":\"lines\",\"x\":[4272.5,4272.5,4352.03125,4352.03125],\"xaxis\":\"x\",\"y\":[0.4495668517118413,1.191636139725134,1.191636139725134,0.788479915993788],\"yaxis\":\"y\",\"type\":\"scatter\"},{\"hoverinfo\":\"text\",\"marker\":{\"color\":\"rgb(0,116,217)\"},\"mode\":\"lines\",\"x\":[4255.0,4255.0,4312.265625,4312.265625],\"xaxis\":\"x\",\"y\":[0.0,1.5072246266786056,1.5072246266786056,1.191636139725134],\"yaxis\":\"y\",\"type\":\"scatter\"},{\"hoverinfo\":\"text\",\"marker\":{\"color\":\"rgb(0,116,217)\"},\"mode\":\"lines\",\"x\":[4150.9375,4150.9375,4283.6328125,4283.6328125],\"xaxis\":\"x\",\"y\":[0.8486686766858971,1.7556487997377954,1.7556487997377954,1.5072246266786056],\"yaxis\":\"y\",\"type\":\"scatter\"},{\"hoverinfo\":\"text\",\"marker\":{\"color\":\"rgb(0,116,217)\"},\"mode\":\"lines\",\"x\":[4048.4375,4048.4375,4217.28515625,4217.28515625],\"xaxis\":\"x\",\"y\":[0.9700943596368286,3.126752071546061,3.126752071546061,1.7556487997377954],\"yaxis\":\"y\",\"type\":\"scatter\"},{\"hoverinfo\":\"text\",\"marker\":{\"color\":\"rgb(0,116,217)\"},\"mode\":\"lines\",\"x\":[4435.0,4435.0,4445.0,4445.0],\"xaxis\":\"x\",\"y\":[0.0,0.01659715238206793,0.01659715238206793,0.0],\"yaxis\":\"y\",\"type\":\"scatter\"},{\"hoverinfo\":\"text\",\"marker\":{\"color\":\"rgb(0,116,217)\"},\"mode\":\"lines\",\"x\":[4475.0,4475.0,4485.0,4485.0],\"xaxis\":\"x\",\"y\":[0.0,0.006611922984517702,0.006611922984517702,0.0],\"yaxis\":\"y\",\"type\":\"scatter\"},{\"hoverinfo\":\"text\",\"marker\":{\"color\":\"rgb(0,116,217)\"},\"mode\":\"lines\",\"x\":[4465.0,4465.0,4480.0,4480.0],\"xaxis\":\"x\",\"y\":[0.0,0.03348513416500122,0.03348513416500122,0.006611922984517702],\"yaxis\":\"y\",\"type\":\"scatter\"},{\"hoverinfo\":\"text\",\"marker\":{\"color\":\"rgb(0,116,217)\"},\"mode\":\"lines\",\"x\":[4455.0,4455.0,4472.5,4472.5],\"xaxis\":\"x\",\"y\":[0.0,0.11335478390300123,0.11335478390300123,0.03348513416500122],\"yaxis\":\"y\",\"type\":\"scatter\"},{\"hoverinfo\":\"text\",\"marker\":{\"color\":\"rgb(0,116,217)\"},\"mode\":\"lines\",\"x\":[4440.0,4440.0,4463.75,4463.75],\"xaxis\":\"x\",\"y\":[0.01659715238206793,0.4859263329119659,0.4859263329119659,0.11335478390300123],\"yaxis\":\"y\",\"type\":\"scatter\"},{\"hoverinfo\":\"text\",\"marker\":{\"color\":\"rgb(0,116,217)\"},\"mode\":\"lines\",\"x\":[4495.0,4495.0,4505.0,4505.0],\"xaxis\":\"x\",\"y\":[0.0,0.4808914894150672,0.4808914894150672,0.0],\"yaxis\":\"y\",\"type\":\"scatter\"},{\"hoverinfo\":\"text\",\"marker\":{\"color\":\"rgb(0,116,217)\"},\"mode\":\"lines\",\"x\":[4535.0,4535.0,4545.0,4545.0],\"xaxis\":\"x\",\"y\":[0.0,0.03715099530763158,0.03715099530763158,0.0],\"yaxis\":\"y\",\"type\":\"scatter\"},{\"hoverinfo\":\"text\",\"marker\":{\"color\":\"rgb(0,116,217)\"},\"mode\":\"lines\",\"x\":[4525.0,4525.0,4540.0,4540.0],\"xaxis\":\"x\",\"y\":[0.0,0.05691107140611425,0.05691107140611425,0.03715099530763158],\"yaxis\":\"y\",\"type\":\"scatter\"},{\"hoverinfo\":\"text\",\"marker\":{\"color\":\"rgb(0,116,217)\"},\"mode\":\"lines\",\"x\":[4515.0,4515.0,4532.5,4532.5],\"xaxis\":\"x\",\"y\":[0.0,0.132674495989963,0.132674495989963,0.05691107140611425],\"yaxis\":\"y\",\"type\":\"scatter\"},{\"hoverinfo\":\"text\",\"marker\":{\"color\":\"rgb(0,116,217)\"},\"mode\":\"lines\",\"x\":[4575.0,4575.0,4585.0,4585.0],\"xaxis\":\"x\",\"y\":[0.0,0.030056450578854112,0.030056450578854112,0.0],\"yaxis\":\"y\",\"type\":\"scatter\"},{\"hoverinfo\":\"text\",\"marker\":{\"color\":\"rgb(0,116,217)\"},\"mode\":\"lines\",\"x\":[4605.0,4605.0,4615.0,4615.0],\"xaxis\":\"x\",\"y\":[0.0,0.009755046412836116,0.009755046412836116,0.0],\"yaxis\":\"y\",\"type\":\"scatter\"},{\"hoverinfo\":\"text\",\"marker\":{\"color\":\"rgb(0,116,217)\"},\"mode\":\"lines\",\"x\":[4595.0,4595.0,4610.0,4610.0],\"xaxis\":\"x\",\"y\":[0.0,0.023820907442005004,0.023820907442005004,0.009755046412836116],\"yaxis\":\"y\",\"type\":\"scatter\"},{\"hoverinfo\":\"text\",\"marker\":{\"color\":\"rgb(0,116,217)\"},\"mode\":\"lines\",\"x\":[4625.0,4625.0,4635.0,4635.0],\"xaxis\":\"x\",\"y\":[0.0,0.03855827928186021,0.03855827928186021,0.0],\"yaxis\":\"y\",\"type\":\"scatter\"},{\"hoverinfo\":\"text\",\"marker\":{\"color\":\"rgb(0,116,217)\"},\"mode\":\"lines\",\"x\":[4602.5,4602.5,4630.0,4630.0],\"xaxis\":\"x\",\"y\":[0.023820907442005004,0.06495783706750283,0.06495783706750283,0.03855827928186021],\"yaxis\":\"y\",\"type\":\"scatter\"},{\"hoverinfo\":\"text\",\"marker\":{\"color\":\"rgb(0,116,217)\"},\"mode\":\"lines\",\"x\":[4580.0,4580.0,4616.25,4616.25],\"xaxis\":\"x\",\"y\":[0.030056450578854112,0.11279371900187041,0.11279371900187041,0.06495783706750283],\"yaxis\":\"y\",\"type\":\"scatter\"},{\"hoverinfo\":\"text\",\"marker\":{\"color\":\"rgb(0,116,217)\"},\"mode\":\"lines\",\"x\":[4565.0,4565.0,4598.125,4598.125],\"xaxis\":\"x\",\"y\":[0.0,0.13663200431506087,0.13663200431506087,0.11279371900187041],\"yaxis\":\"y\",\"type\":\"scatter\"},{\"hoverinfo\":\"text\",\"marker\":{\"color\":\"rgb(0,116,217)\"},\"mode\":\"lines\",\"x\":[4555.0,4555.0,4581.5625,4581.5625],\"xaxis\":\"x\",\"y\":[0.0,0.22416683234819076,0.22416683234819076,0.13663200431506087],\"yaxis\":\"y\",\"type\":\"scatter\"},{\"hoverinfo\":\"text\",\"marker\":{\"color\":\"rgb(0,116,217)\"},\"mode\":\"lines\",\"x\":[4523.75,4523.75,4568.28125,4568.28125],\"xaxis\":\"x\",\"y\":[0.132674495989963,0.5019607239714431,0.5019607239714431,0.22416683234819076],\"yaxis\":\"y\",\"type\":\"scatter\"},{\"hoverinfo\":\"text\",\"marker\":{\"color\":\"rgb(0,116,217)\"},\"mode\":\"lines\",\"x\":[4500.0,4500.0,4546.015625,4546.015625],\"xaxis\":\"x\",\"y\":[0.4808914894150672,0.7832128324092263,0.7832128324092263,0.5019607239714431],\"yaxis\":\"y\",\"type\":\"scatter\"},{\"hoverinfo\":\"text\",\"marker\":{\"color\":\"rgb(0,116,217)\"},\"mode\":\"lines\",\"x\":[4451.875,4451.875,4523.0078125,4523.0078125],\"xaxis\":\"x\",\"y\":[0.4859263329119659,1.054692617876076,1.054692617876076,0.7832128324092263],\"yaxis\":\"y\",\"type\":\"scatter\"},{\"hoverinfo\":\"text\",\"marker\":{\"color\":\"rgb(0,116,217)\"},\"mode\":\"lines\",\"x\":[4675.0,4675.0,4685.0,4685.0],\"xaxis\":\"x\",\"y\":[0.0,0.0794212189517789,0.0794212189517789,0.0],\"yaxis\":\"y\",\"type\":\"scatter\"},{\"hoverinfo\":\"text\",\"marker\":{\"color\":\"rgb(0,116,217)\"},\"mode\":\"lines\",\"x\":[4665.0,4665.0,4680.0,4680.0],\"xaxis\":\"x\",\"y\":[0.0,0.3798503022066781,0.3798503022066781,0.0794212189517789],\"yaxis\":\"y\",\"type\":\"scatter\"},{\"hoverinfo\":\"text\",\"marker\":{\"color\":\"rgb(0,116,217)\"},\"mode\":\"lines\",\"x\":[4705.0,4705.0,4715.0,4715.0],\"xaxis\":\"x\",\"y\":[0.0,0.02607166185709361,0.02607166185709361,0.0],\"yaxis\":\"y\",\"type\":\"scatter\"},{\"hoverinfo\":\"text\",\"marker\":{\"color\":\"rgb(0,116,217)\"},\"mode\":\"lines\",\"x\":[4695.0,4695.0,4710.0,4710.0],\"xaxis\":\"x\",\"y\":[0.0,0.05809517500958432,0.05809517500958432,0.02607166185709361],\"yaxis\":\"y\",\"type\":\"scatter\"},{\"hoverinfo\":\"text\",\"marker\":{\"color\":\"rgb(0,116,217)\"},\"mode\":\"lines\",\"x\":[4745.0,4745.0,4755.0,4755.0],\"xaxis\":\"x\",\"y\":[0.0,0.01139673110094759,0.01139673110094759,0.0],\"yaxis\":\"y\",\"type\":\"scatter\"},{\"hoverinfo\":\"text\",\"marker\":{\"color\":\"rgb(0,116,217)\"},\"mode\":\"lines\",\"x\":[4735.0,4735.0,4750.0,4750.0],\"xaxis\":\"x\",\"y\":[0.0,0.01673827760734775,0.01673827760734775,0.01139673110094759],\"yaxis\":\"y\",\"type\":\"scatter\"},{\"hoverinfo\":\"text\",\"marker\":{\"color\":\"rgb(0,116,217)\"},\"mode\":\"lines\",\"x\":[4725.0,4725.0,4742.5,4742.5],\"xaxis\":\"x\",\"y\":[0.0,0.033407843499512056,0.033407843499512056,0.01673827760734775],\"yaxis\":\"y\",\"type\":\"scatter\"},{\"hoverinfo\":\"text\",\"marker\":{\"color\":\"rgb(0,116,217)\"},\"mode\":\"lines\",\"x\":[4775.0,4775.0,4785.0,4785.0],\"xaxis\":\"x\",\"y\":[0.0,0.0049521679208060455,0.0049521679208060455,0.0],\"yaxis\":\"y\",\"type\":\"scatter\"},{\"hoverinfo\":\"text\",\"marker\":{\"color\":\"rgb(0,116,217)\"},\"mode\":\"lines\",\"x\":[4795.0,4795.0,4805.0,4805.0],\"xaxis\":\"x\",\"y\":[0.0,0.006035136815699358,0.006035136815699358,0.0],\"yaxis\":\"y\",\"type\":\"scatter\"},{\"hoverinfo\":\"text\",\"marker\":{\"color\":\"rgb(0,116,217)\"},\"mode\":\"lines\",\"x\":[4780.0,4780.0,4800.0,4800.0],\"xaxis\":\"x\",\"y\":[0.0049521679208060455,0.014495230822047735,0.014495230822047735,0.006035136815699358],\"yaxis\":\"y\",\"type\":\"scatter\"},{\"hoverinfo\":\"text\",\"marker\":{\"color\":\"rgb(0,116,217)\"},\"mode\":\"lines\",\"x\":[4765.0,4765.0,4790.0,4790.0],\"xaxis\":\"x\",\"y\":[0.0,0.034081807959377056,0.034081807959377056,0.014495230822047735],\"yaxis\":\"y\",\"type\":\"scatter\"},{\"hoverinfo\":\"text\",\"marker\":{\"color\":\"rgb(0,116,217)\"},\"mode\":\"lines\",\"x\":[4733.75,4733.75,4777.5,4777.5],\"xaxis\":\"x\",\"y\":[0.033407843499512056,0.07834740387136753,0.07834740387136753,0.034081807959377056],\"yaxis\":\"y\",\"type\":\"scatter\"},{\"hoverinfo\":\"text\",\"marker\":{\"color\":\"rgb(0,116,217)\"},\"mode\":\"lines\",\"x\":[4815.0,4815.0,4825.0,4825.0],\"xaxis\":\"x\",\"y\":[0.0,0.033329150238198844,0.033329150238198844,0.0],\"yaxis\":\"y\",\"type\":\"scatter\"},{\"hoverinfo\":\"text\",\"marker\":{\"color\":\"rgb(0,116,217)\"},\"mode\":\"lines\",\"x\":[4835.0,4835.0,4845.0,4845.0],\"xaxis\":\"x\",\"y\":[0.0,0.05085580032423255,0.05085580032423255,0.0],\"yaxis\":\"y\",\"type\":\"scatter\"},{\"hoverinfo\":\"text\",\"marker\":{\"color\":\"rgb(0,116,217)\"},\"mode\":\"lines\",\"x\":[4820.0,4820.0,4840.0,4840.0],\"xaxis\":\"x\",\"y\":[0.033329150238198844,0.07846813318405832,0.07846813318405832,0.05085580032423255],\"yaxis\":\"y\",\"type\":\"scatter\"},{\"hoverinfo\":\"text\",\"marker\":{\"color\":\"rgb(0,116,217)\"},\"mode\":\"lines\",\"x\":[4755.625,4755.625,4830.0,4830.0],\"xaxis\":\"x\",\"y\":[0.07834740387136753,0.12470369600423227,0.12470369600423227,0.07846813318405832],\"yaxis\":\"y\",\"type\":\"scatter\"},{\"hoverinfo\":\"text\",\"marker\":{\"color\":\"rgb(0,116,217)\"},\"mode\":\"lines\",\"x\":[4702.5,4702.5,4792.8125,4792.8125],\"xaxis\":\"x\",\"y\":[0.05809517500958432,0.17082906588530833,0.17082906588530833,0.12470369600423227],\"yaxis\":\"y\",\"type\":\"scatter\"},{\"hoverinfo\":\"text\",\"marker\":{\"color\":\"rgb(0,116,217)\"},\"mode\":\"lines\",\"x\":[4865.0,4865.0,4875.0,4875.0],\"xaxis\":\"x\",\"y\":[0.0,0.044111913427101176,0.044111913427101176,0.0],\"yaxis\":\"y\",\"type\":\"scatter\"},{\"hoverinfo\":\"text\",\"marker\":{\"color\":\"rgb(0,116,217)\"},\"mode\":\"lines\",\"x\":[4855.0,4855.0,4870.0,4870.0],\"xaxis\":\"x\",\"y\":[0.0,0.10397069046216519,0.10397069046216519,0.044111913427101176],\"yaxis\":\"y\",\"type\":\"scatter\"},{\"hoverinfo\":\"text\",\"marker\":{\"color\":\"rgb(0,116,217)\"},\"mode\":\"lines\",\"x\":[4885.0,4885.0,4895.0,4895.0],\"xaxis\":\"x\",\"y\":[0.0,0.12612659002067786,0.12612659002067786,0.0],\"yaxis\":\"y\",\"type\":\"scatter\"},{\"hoverinfo\":\"text\",\"marker\":{\"color\":\"rgb(0,116,217)\"},\"mode\":\"lines\",\"x\":[4862.5,4862.5,4890.0,4890.0],\"xaxis\":\"x\",\"y\":[0.10397069046216519,0.2813149621787464,0.2813149621787464,0.12612659002067786],\"yaxis\":\"y\",\"type\":\"scatter\"},{\"hoverinfo\":\"text\",\"marker\":{\"color\":\"rgb(0,116,217)\"},\"mode\":\"lines\",\"x\":[4747.65625,4747.65625,4876.25,4876.25],\"xaxis\":\"x\",\"y\":[0.17082906588530833,0.4854960055904133,0.4854960055904133,0.2813149621787464],\"yaxis\":\"y\",\"type\":\"scatter\"},{\"hoverinfo\":\"text\",\"marker\":{\"color\":\"rgb(0,116,217)\"},\"mode\":\"lines\",\"x\":[4672.5,4672.5,4811.953125,4811.953125],\"xaxis\":\"x\",\"y\":[0.3798503022066781,0.6533626118450963,0.6533626118450963,0.4854960055904133],\"yaxis\":\"y\",\"type\":\"scatter\"},{\"hoverinfo\":\"text\",\"marker\":{\"color\":\"rgb(0,116,217)\"},\"mode\":\"lines\",\"x\":[4655.0,4655.0,4742.2265625,4742.2265625],\"xaxis\":\"x\",\"y\":[0.0,0.8509179557029546,0.8509179557029546,0.6533626118450963],\"yaxis\":\"y\",\"type\":\"scatter\"},{\"hoverinfo\":\"text\",\"marker\":{\"color\":\"rgb(0,116,217)\"},\"mode\":\"lines\",\"x\":[4645.0,4645.0,4698.61328125,4698.61328125],\"xaxis\":\"x\",\"y\":[0.0,1.1125965716942046,1.1125965716942046,0.8509179557029546],\"yaxis\":\"y\",\"type\":\"scatter\"},{\"hoverinfo\":\"text\",\"marker\":{\"color\":\"rgb(0,116,217)\"},\"mode\":\"lines\",\"x\":[4905.0,4905.0,4915.0,4915.0],\"xaxis\":\"x\",\"y\":[0.0,0.01777312730162474,0.01777312730162474,0.0],\"yaxis\":\"y\",\"type\":\"scatter\"},{\"hoverinfo\":\"text\",\"marker\":{\"color\":\"rgb(0,116,217)\"},\"mode\":\"lines\",\"x\":[4955.0,4955.0,4965.0,4965.0],\"xaxis\":\"x\",\"y\":[0.0,0.002011379567216261,0.002011379567216261,0.0],\"yaxis\":\"y\",\"type\":\"scatter\"},{\"hoverinfo\":\"text\",\"marker\":{\"color\":\"rgb(0,116,217)\"},\"mode\":\"lines\",\"x\":[4945.0,4945.0,4960.0,4960.0],\"xaxis\":\"x\",\"y\":[0.0,0.006358012013490105,0.006358012013490105,0.002011379567216261],\"yaxis\":\"y\",\"type\":\"scatter\"},{\"hoverinfo\":\"text\",\"marker\":{\"color\":\"rgb(0,116,217)\"},\"mode\":\"lines\",\"x\":[4935.0,4935.0,4952.5,4952.5],\"xaxis\":\"x\",\"y\":[0.0,0.017803865691705268,0.017803865691705268,0.006358012013490105],\"yaxis\":\"y\",\"type\":\"scatter\"},{\"hoverinfo\":\"text\",\"marker\":{\"color\":\"rgb(0,116,217)\"},\"mode\":\"lines\",\"x\":[4925.0,4925.0,4943.75,4943.75],\"xaxis\":\"x\",\"y\":[0.0,0.0382085702068518,0.0382085702068518,0.017803865691705268],\"yaxis\":\"y\",\"type\":\"scatter\"},{\"hoverinfo\":\"text\",\"marker\":{\"color\":\"rgb(0,116,217)\"},\"mode\":\"lines\",\"x\":[4975.0,4975.0,4985.0,4985.0],\"xaxis\":\"x\",\"y\":[0.0,0.07880968898741147,0.07880968898741147,0.0],\"yaxis\":\"y\",\"type\":\"scatter\"},{\"hoverinfo\":\"text\",\"marker\":{\"color\":\"rgb(0,116,217)\"},\"mode\":\"lines\",\"x\":[4934.375,4934.375,4980.0,4980.0],\"xaxis\":\"x\",\"y\":[0.0382085702068518,0.2225629629741879,0.2225629629741879,0.07880968898741147],\"yaxis\":\"y\",\"type\":\"scatter\"},{\"hoverinfo\":\"text\",\"marker\":{\"color\":\"rgb(0,116,217)\"},\"mode\":\"lines\",\"x\":[5005.0,5005.0,5015.0,5015.0],\"xaxis\":\"x\",\"y\":[0.0,0.07059256746222012,0.07059256746222012,0.0],\"yaxis\":\"y\",\"type\":\"scatter\"},{\"hoverinfo\":\"text\",\"marker\":{\"color\":\"rgb(0,116,217)\"},\"mode\":\"lines\",\"x\":[4995.0,4995.0,5010.0,5010.0],\"xaxis\":\"x\",\"y\":[0.0,0.16584713937096535,0.16584713937096535,0.07059256746222012],\"yaxis\":\"y\",\"type\":\"scatter\"},{\"hoverinfo\":\"text\",\"marker\":{\"color\":\"rgb(0,116,217)\"},\"mode\":\"lines\",\"x\":[5035.0,5035.0,5045.0,5045.0],\"xaxis\":\"x\",\"y\":[0.0,0.07415071137632423,0.07415071137632423,0.0],\"yaxis\":\"y\",\"type\":\"scatter\"},{\"hoverinfo\":\"text\",\"marker\":{\"color\":\"rgb(0,116,217)\"},\"mode\":\"lines\",\"x\":[5025.0,5025.0,5040.0,5040.0],\"xaxis\":\"x\",\"y\":[0.0,0.18507532720212294,0.18507532720212294,0.07415071137632423],\"yaxis\":\"y\",\"type\":\"scatter\"},{\"hoverinfo\":\"text\",\"marker\":{\"color\":\"rgb(0,116,217)\"},\"mode\":\"lines\",\"x\":[5002.5,5002.5,5032.5,5032.5],\"xaxis\":\"x\",\"y\":[0.16584713937096535,0.3573449383368798,0.3573449383368798,0.18507532720212294],\"yaxis\":\"y\",\"type\":\"scatter\"},{\"hoverinfo\":\"text\",\"marker\":{\"color\":\"rgb(0,116,217)\"},\"mode\":\"lines\",\"x\":[4957.1875,4957.1875,5017.5,5017.5],\"xaxis\":\"x\",\"y\":[0.2225629629741879,0.48644847049792955,0.48644847049792955,0.3573449383368798],\"yaxis\":\"y\",\"type\":\"scatter\"},{\"hoverinfo\":\"text\",\"marker\":{\"color\":\"rgb(0,116,217)\"},\"mode\":\"lines\",\"x\":[4910.0,4910.0,4987.34375,4987.34375],\"xaxis\":\"x\",\"y\":[0.01777312730162474,0.7089336267101174,0.7089336267101174,0.48644847049792955],\"yaxis\":\"y\",\"type\":\"scatter\"},{\"hoverinfo\":\"text\",\"marker\":{\"color\":\"rgb(0,116,217)\"},\"mode\":\"lines\",\"x\":[5065.0,5065.0,5075.0,5075.0],\"xaxis\":\"x\",\"y\":[0.0,0.09436940082678004,0.09436940082678004,0.0],\"yaxis\":\"y\",\"type\":\"scatter\"},{\"hoverinfo\":\"text\",\"marker\":{\"color\":\"rgb(0,116,217)\"},\"mode\":\"lines\",\"x\":[5095.0,5095.0,5105.0,5105.0],\"xaxis\":\"x\",\"y\":[0.0,0.03892886091193831,0.03892886091193831,0.0],\"yaxis\":\"y\",\"type\":\"scatter\"},{\"hoverinfo\":\"text\",\"marker\":{\"color\":\"rgb(0,116,217)\"},\"mode\":\"lines\",\"x\":[5085.0,5085.0,5100.0,5100.0],\"xaxis\":\"x\",\"y\":[0.0,0.13232467811815188,0.13232467811815188,0.03892886091193831],\"yaxis\":\"y\",\"type\":\"scatter\"},{\"hoverinfo\":\"text\",\"marker\":{\"color\":\"rgb(0,116,217)\"},\"mode\":\"lines\",\"x\":[5070.0,5070.0,5092.5,5092.5],\"xaxis\":\"x\",\"y\":[0.09436940082678004,0.2717513083507587,0.2717513083507587,0.13232467811815188],\"yaxis\":\"y\",\"type\":\"scatter\"},{\"hoverinfo\":\"text\",\"marker\":{\"color\":\"rgb(0,116,217)\"},\"mode\":\"lines\",\"x\":[5055.0,5055.0,5081.25,5081.25],\"xaxis\":\"x\",\"y\":[0.0,0.7637599522783931,0.7637599522783931,0.2717513083507587],\"yaxis\":\"y\",\"type\":\"scatter\"},{\"hoverinfo\":\"text\",\"marker\":{\"color\":\"rgb(0,116,217)\"},\"mode\":\"lines\",\"x\":[4948.671875,4948.671875,5068.125,5068.125],\"xaxis\":\"x\",\"y\":[0.7089336267101174,1.1913541495783857,1.1913541495783857,0.7637599522783931],\"yaxis\":\"y\",\"type\":\"scatter\"},{\"hoverinfo\":\"text\",\"marker\":{\"color\":\"rgb(0,116,217)\"},\"mode\":\"lines\",\"x\":[4671.806640625,4671.806640625,5008.3984375,5008.3984375],\"xaxis\":\"x\",\"y\":[1.1125965716942046,1.3844499172888227,1.3844499172888227,1.1913541495783857],\"yaxis\":\"y\",\"type\":\"scatter\"},{\"hoverinfo\":\"text\",\"marker\":{\"color\":\"rgb(0,116,217)\"},\"mode\":\"lines\",\"x\":[4487.44140625,4487.44140625,4840.1025390625,4840.1025390625],\"xaxis\":\"x\",\"y\":[1.054692617876076,2.000359537094542,2.000359537094542,1.3844499172888227],\"yaxis\":\"y\",\"type\":\"scatter\"},{\"hoverinfo\":\"text\",\"marker\":{\"color\":\"rgb(0,116,217)\"},\"mode\":\"lines\",\"x\":[5145.0,5145.0,5155.0,5155.0],\"xaxis\":\"x\",\"y\":[0.0,0.026187239959352182,0.026187239959352182,0.0],\"yaxis\":\"y\",\"type\":\"scatter\"},{\"hoverinfo\":\"text\",\"marker\":{\"color\":\"rgb(0,116,217)\"},\"mode\":\"lines\",\"x\":[5135.0,5135.0,5150.0,5150.0],\"xaxis\":\"x\",\"y\":[0.0,0.34335544517030037,0.34335544517030037,0.026187239959352182],\"yaxis\":\"y\",\"type\":\"scatter\"},{\"hoverinfo\":\"text\",\"marker\":{\"color\":\"rgb(0,116,217)\"},\"mode\":\"lines\",\"x\":[5125.0,5125.0,5142.5,5142.5],\"xaxis\":\"x\",\"y\":[0.0,0.5443181260083594,0.5443181260083594,0.34335544517030037],\"yaxis\":\"y\",\"type\":\"scatter\"},{\"hoverinfo\":\"text\",\"marker\":{\"color\":\"rgb(0,116,217)\"},\"mode\":\"lines\",\"x\":[5115.0,5115.0,5133.75,5133.75],\"xaxis\":\"x\",\"y\":[0.0,1.2121439191726966,1.2121439191726966,0.5443181260083594],\"yaxis\":\"y\",\"type\":\"scatter\"},{\"hoverinfo\":\"text\",\"marker\":{\"color\":\"rgb(0,116,217)\"},\"mode\":\"lines\",\"x\":[5165.0,5165.0,5175.0,5175.0],\"xaxis\":\"x\",\"y\":[0.0,0.06063512382092496,0.06063512382092496,0.0],\"yaxis\":\"y\",\"type\":\"scatter\"},{\"hoverinfo\":\"text\",\"marker\":{\"color\":\"rgb(0,116,217)\"},\"mode\":\"lines\",\"x\":[5185.0,5185.0,5195.0,5195.0],\"xaxis\":\"x\",\"y\":[0.0,0.012733715182967831,0.012733715182967831,0.0],\"yaxis\":\"y\",\"type\":\"scatter\"},{\"hoverinfo\":\"text\",\"marker\":{\"color\":\"rgb(0,116,217)\"},\"mode\":\"lines\",\"x\":[5205.0,5205.0,5215.0,5215.0],\"xaxis\":\"x\",\"y\":[0.0,0.02705484884481008,0.02705484884481008,0.0],\"yaxis\":\"y\",\"type\":\"scatter\"},{\"hoverinfo\":\"text\",\"marker\":{\"color\":\"rgb(0,116,217)\"},\"mode\":\"lines\",\"x\":[5190.0,5190.0,5210.0,5210.0],\"xaxis\":\"x\",\"y\":[0.012733715182967831,0.06070435122353586,0.06070435122353586,0.02705484884481008],\"yaxis\":\"y\",\"type\":\"scatter\"},{\"hoverinfo\":\"text\",\"marker\":{\"color\":\"rgb(0,116,217)\"},\"mode\":\"lines\",\"x\":[5235.0,5235.0,5245.0,5245.0],\"xaxis\":\"x\",\"y\":[0.0,0.0211628284208541,0.0211628284208541,0.0],\"yaxis\":\"y\",\"type\":\"scatter\"},{\"hoverinfo\":\"text\",\"marker\":{\"color\":\"rgb(0,116,217)\"},\"mode\":\"lines\",\"x\":[5225.0,5225.0,5240.0,5240.0],\"xaxis\":\"x\",\"y\":[0.0,0.07417820076428812,0.07417820076428812,0.0211628284208541],\"yaxis\":\"y\",\"type\":\"scatter\"},{\"hoverinfo\":\"text\",\"marker\":{\"color\":\"rgb(0,116,217)\"},\"mode\":\"lines\",\"x\":[5200.0,5200.0,5232.5,5232.5],\"xaxis\":\"x\",\"y\":[0.06070435122353586,0.39460522973024165,0.39460522973024165,0.07417820076428812],\"yaxis\":\"y\",\"type\":\"scatter\"},{\"hoverinfo\":\"text\",\"marker\":{\"color\":\"rgb(0,116,217)\"},\"mode\":\"lines\",\"x\":[5170.0,5170.0,5216.25,5216.25],\"xaxis\":\"x\",\"y\":[0.06063512382092496,0.6151933161692491,0.6151933161692491,0.39460522973024165],\"yaxis\":\"y\",\"type\":\"scatter\"},{\"hoverinfo\":\"text\",\"marker\":{\"color\":\"rgb(0,116,217)\"},\"mode\":\"lines\",\"x\":[5275.0,5275.0,5285.0,5285.0],\"xaxis\":\"x\",\"y\":[0.0,0.2599515937760282,0.2599515937760282,0.0],\"yaxis\":\"y\",\"type\":\"scatter\"},{\"hoverinfo\":\"text\",\"marker\":{\"color\":\"rgb(0,116,217)\"},\"mode\":\"lines\",\"x\":[5265.0,5265.0,5280.0,5280.0],\"xaxis\":\"x\",\"y\":[0.0,0.5543244897253485,0.5543244897253485,0.2599515937760282],\"yaxis\":\"y\",\"type\":\"scatter\"},{\"hoverinfo\":\"text\",\"marker\":{\"color\":\"rgb(0,116,217)\"},\"mode\":\"lines\",\"x\":[5255.0,5255.0,5272.5,5272.5],\"xaxis\":\"x\",\"y\":[0.0,0.7975464913650073,0.7975464913650073,0.5543244897253485],\"yaxis\":\"y\",\"type\":\"scatter\"},{\"hoverinfo\":\"text\",\"marker\":{\"color\":\"rgb(0,116,217)\"},\"mode\":\"lines\",\"x\":[5325.0,5325.0,5335.0,5335.0],\"xaxis\":\"x\",\"y\":[0.0,0.0022574943963523555,0.0022574943963523555,0.0],\"yaxis\":\"y\",\"type\":\"scatter\"},{\"hoverinfo\":\"text\",\"marker\":{\"color\":\"rgb(0,116,217)\"},\"mode\":\"lines\",\"x\":[5315.0,5315.0,5330.0,5330.0],\"xaxis\":\"x\",\"y\":[0.0,0.005876022800700439,0.005876022800700439,0.0022574943963523555],\"yaxis\":\"y\",\"type\":\"scatter\"},{\"hoverinfo\":\"text\",\"marker\":{\"color\":\"rgb(0,116,217)\"},\"mode\":\"lines\",\"x\":[5305.0,5305.0,5322.5,5322.5],\"xaxis\":\"x\",\"y\":[0.0,0.015734921242315188,0.015734921242315188,0.005876022800700439],\"yaxis\":\"y\",\"type\":\"scatter\"},{\"hoverinfo\":\"text\",\"marker\":{\"color\":\"rgb(0,116,217)\"},\"mode\":\"lines\",\"x\":[5295.0,5295.0,5313.75,5313.75],\"xaxis\":\"x\",\"y\":[0.0,0.0679123003510815,0.0679123003510815,0.015734921242315188],\"yaxis\":\"y\",\"type\":\"scatter\"},{\"hoverinfo\":\"text\",\"marker\":{\"color\":\"rgb(0,116,217)\"},\"mode\":\"lines\",\"x\":[5355.0,5355.0,5365.0,5365.0],\"xaxis\":\"x\",\"y\":[0.0,0.012635152920674587,0.012635152920674587,0.0],\"yaxis\":\"y\",\"type\":\"scatter\"},{\"hoverinfo\":\"text\",\"marker\":{\"color\":\"rgb(0,116,217)\"},\"mode\":\"lines\",\"x\":[5345.0,5345.0,5360.0,5360.0],\"xaxis\":\"x\",\"y\":[0.0,0.0839765993735732,0.0839765993735732,0.012635152920674587],\"yaxis\":\"y\",\"type\":\"scatter\"},{\"hoverinfo\":\"text\",\"marker\":{\"color\":\"rgb(0,116,217)\"},\"mode\":\"lines\",\"x\":[5304.375,5304.375,5352.5,5352.5],\"xaxis\":\"x\",\"y\":[0.0679123003510815,0.39537339670087396,0.39537339670087396,0.0839765993735732],\"yaxis\":\"y\",\"type\":\"scatter\"},{\"hoverinfo\":\"text\",\"marker\":{\"color\":\"rgb(0,116,217)\"},\"mode\":\"lines\",\"x\":[5385.0,5385.0,5395.0,5395.0],\"xaxis\":\"x\",\"y\":[0.0,0.1898692333346075,0.1898692333346075,0.0],\"yaxis\":\"y\",\"type\":\"scatter\"},{\"hoverinfo\":\"text\",\"marker\":{\"color\":\"rgb(0,116,217)\"},\"mode\":\"lines\",\"x\":[5375.0,5375.0,5390.0,5390.0],\"xaxis\":\"x\",\"y\":[0.0,0.4010081293789968,0.4010081293789968,0.1898692333346075],\"yaxis\":\"y\",\"type\":\"scatter\"},{\"hoverinfo\":\"text\",\"marker\":{\"color\":\"rgb(0,116,217)\"},\"mode\":\"lines\",\"x\":[5328.4375,5328.4375,5382.5,5382.5],\"xaxis\":\"x\",\"y\":[0.39537339670087396,0.9995105903377136,0.9995105903377136,0.4010081293789968],\"yaxis\":\"y\",\"type\":\"scatter\"},{\"hoverinfo\":\"text\",\"marker\":{\"color\":\"rgb(0,116,217)\"},\"mode\":\"lines\",\"x\":[5263.75,5263.75,5355.46875,5355.46875],\"xaxis\":\"x\",\"y\":[0.7975464913650073,1.2635795084783874,1.2635795084783874,0.9995105903377136],\"yaxis\":\"y\",\"type\":\"scatter\"},{\"hoverinfo\":\"text\",\"marker\":{\"color\":\"rgb(0,116,217)\"},\"mode\":\"lines\",\"x\":[5193.125,5193.125,5309.609375,5309.609375],\"xaxis\":\"x\",\"y\":[0.6151933161692491,1.7265086351749106,1.7265086351749106,1.2635795084783874],\"yaxis\":\"y\",\"type\":\"scatter\"},{\"hoverinfo\":\"text\",\"marker\":{\"color\":\"rgb(0,116,217)\"},\"mode\":\"lines\",\"x\":[5124.375,5124.375,5251.3671875,5251.3671875],\"xaxis\":\"x\",\"y\":[1.2121439191726966,2.0531321939044105,2.0531321939044105,1.7265086351749106],\"yaxis\":\"y\",\"type\":\"scatter\"},{\"hoverinfo\":\"text\",\"marker\":{\"color\":\"rgb(0,116,217)\"},\"mode\":\"lines\",\"x\":[4663.77197265625,4663.77197265625,5187.87109375,5187.87109375],\"xaxis\":\"x\",\"y\":[2.000359537094542,3.3513350080050417,3.3513350080050417,2.0531321939044105],\"yaxis\":\"y\",\"type\":\"scatter\"},{\"hoverinfo\":\"text\",\"marker\":{\"color\":\"rgb(0,116,217)\"},\"mode\":\"lines\",\"x\":[4132.861328125,4132.861328125,4925.821533203125,4925.821533203125],\"xaxis\":\"x\",\"y\":[3.126752071546061,4.315430687634046,4.315430687634046,3.3513350080050417],\"yaxis\":\"y\",\"type\":\"scatter\"},{\"hoverinfo\":\"text\",\"marker\":{\"color\":\"rgb(0,116,217)\"},\"mode\":\"lines\",\"x\":[1956.293249130249,1956.293249130249,4529.3414306640625,4529.3414306640625],\"xaxis\":\"x\",\"y\":[3.855197899582591,5.044460073631717,5.044460073631717,4.315430687634046],\"yaxis\":\"y\",\"type\":\"scatter\"},{\"hoverinfo\":\"text\",\"marker\":{\"color\":\"rgb(0,116,217)\"},\"mode\":\"lines\",\"x\":[388.37574005126953,388.37574005126953,3242.8173398971558,3242.8173398971558],\"xaxis\":\"x\",\"y\":[4.5363124078862995,5.921169388124319,5.921169388124319,5.044460073631717],\"yaxis\":\"y\",\"type\":\"scatter\"},{\"hoverinfo\":\"text\",\"marker\":{\"color\":\"rgb(0,116,217)\"},\"mode\":\"lines\",\"x\":[5415.0,5415.0,5425.0,5425.0],\"xaxis\":\"x\",\"y\":[0.0,4.051911623073285,4.051911623073285,0.0],\"yaxis\":\"y\",\"type\":\"scatter\"},{\"hoverinfo\":\"text\",\"marker\":{\"color\":\"rgb(0,116,217)\"},\"mode\":\"lines\",\"x\":[5405.0,5405.0,5420.0,5420.0],\"xaxis\":\"x\",\"y\":[0.0,11.476378065305472,11.476378065305472,4.051911623073285],\"yaxis\":\"y\",\"type\":\"scatter\"},{\"hoverinfo\":\"text\",\"marker\":{\"color\":\"rgb(0,116,217)\"},\"mode\":\"lines\",\"x\":[1815.5965399742126,1815.5965399742126,5412.5,5412.5],\"xaxis\":\"x\",\"y\":[5.921169388124319,19.321304191269636,19.321304191269636,11.476378065305472],\"yaxis\":\"y\",\"type\":\"scatter\"},{\"hoverinfo\":\"text\",\"marker\":{\"color\":\"rgb(0,116,217)\"},\"mode\":\"lines\",\"x\":[5455.0,5455.0,5465.0,5465.0],\"xaxis\":\"x\",\"y\":[0.0,4.195413371447552,4.195413371447552,0.0],\"yaxis\":\"y\",\"type\":\"scatter\"},{\"hoverinfo\":\"text\",\"marker\":{\"color\":\"rgb(0,116,217)\"},\"mode\":\"lines\",\"x\":[5445.0,5445.0,5460.0,5460.0],\"xaxis\":\"x\",\"y\":[0.0,11.995424884272403,11.995424884272403,4.195413371447552],\"yaxis\":\"y\",\"type\":\"scatter\"},{\"hoverinfo\":\"text\",\"marker\":{\"color\":\"rgb(0,116,217)\"},\"mode\":\"lines\",\"x\":[5435.0,5435.0,5452.5,5452.5],\"xaxis\":\"x\",\"y\":[0.0,23.774991239348722,23.774991239348722,11.995424884272403],\"yaxis\":\"y\",\"type\":\"scatter\"},{\"hoverinfo\":\"text\",\"marker\":{\"color\":\"rgb(0,116,217)\"},\"mode\":\"lines\",\"x\":[3614.0482699871063,3614.0482699871063,5443.75,5443.75],\"xaxis\":\"x\",\"y\":[19.321304191269636,36.51391290637069,36.51391290637069,23.774991239348722],\"yaxis\":\"y\",\"type\":\"scatter\"}],                        {\"autosize\":false,\"height\":500,\"hovermode\":\"closest\",\"showlegend\":false,\"width\":800,\"xaxis\":{\"mirror\":\"allticks\",\"rangemode\":\"tozero\",\"showgrid\":false,\"showline\":true,\"showticklabels\":true,\"tickmode\":\"array\",\"ticks\":\"outside\",\"ticktext\":[\"475\",\"8\",\"357\",\"26\",\"473\",\"61\",\"183\",\"3\",\"87\",\"73\",\"317\",\"210\",\"470\",\"290\",\"436\",\"400\",\"412\",\"76\",\"402\",\"107\",\"525\",\"539\",\"294\",\"299\",\"158\",\"343\",\"179\",\"541\",\"69\",\"249\",\"288\",\"386\",\"203\",\"491\",\"6\",\"195\",\"432\",\"41\",\"401\",\"72\",\"266\",\"262\",\"533\",\"217\",\"164\",\"95\",\"35\",\"171\",\"31\",\"234\",\"409\",\"490\",\"438\",\"236\",\"307\",\"295\",\"467\",\"2\",\"176\",\"342\",\"168\",\"380\",\"453\",\"381\",\"196\",\"338\",\"155\",\"377\",\"462\",\"275\",\"474\",\"309\",\"395\",\"354\",\"431\",\"202\",\"167\",\"181\",\"68\",\"208\",\"321\",\"471\",\"411\",\"495\",\"516\",\"430\",\"487\",\"511\",\"269\",\"302\",\"524\",\"297\",\"439\",\"335\",\"457\",\"146\",\"328\",\"150\",\"332\",\"371\",\"261\",\"393\",\"271\",\"326\",\"296\",\"277\",\"320\",\"331\",\"522\",\"359\",\"193\",\"358\",\"137\",\"403\",\"460\",\"90\",\"211\",\"378\",\"325\",\"461\",\"201\",\"372\",\"379\",\"506\",\"182\",\"123\",\"399\",\"245\",\"424\",\"260\",\"194\",\"313\",\"127\",\"314\",\"223\",\"242\",\"413\",\"397\",\"1\",\"218\",\"494\",\"512\",\"185\",\"517\",\"139\",\"276\",\"375\",\"523\",\"29\",\"88\",\"383\",\"0\",\"38\",\"429\",\"278\",\"356\",\"423\",\"22\",\"99\",\"241\",\"43\",\"485\",\"443\",\"37\",\"285\",\"148\",\"5\",\"268\",\"479\",\"526\",\"333\",\"263\",\"521\",\"256\",\"509\",\"113\",\"226\",\"4\",\"98\",\"135\",\"20\",\"116\",\"192\",\"446\",\"225\",\"229\",\"11\",\"284\",\"81\",\"248\",\"445\",\"14\",\"390\",\"166\",\"170\",\"7\",\"169\",\"422\",\"100\",\"246\",\"145\",\"258\",\"200\",\"508\",\"518\",\"239\",\"74\",\"199\",\"466\",\"93\",\"340\",\"28\",\"82\",\"515\",\"108\",\"537\",\"415\",\"311\",\"291\",\"458\",\"428\",\"450\",\"502\",\"416\",\"156\",\"364\",\"505\",\"118\",\"198\",\"32\",\"259\",\"289\",\"352\",\"10\",\"507\",\"387\",\"351\",\"389\",\"396\",\"319\",\"464\",\"162\",\"174\",\"110\",\"306\",\"456\",\"121\",\"197\",\"341\",\"435\",\"133\",\"426\",\"434\",\"360\",\"71\",\"483\",\"488\",\"56\",\"172\",\"543\",\"449\",\"106\",\"124\",\"476\",\"283\",\"496\",\"444\",\"228\",\"455\",\"55\",\"64\",\"235\",\"47\",\"189\",\"499\",\"227\",\"149\",\"190\",\"13\",\"191\",\"209\",\"160\",\"230\",\"130\",\"214\",\"237\",\"105\",\"425\",\"92\",\"355\",\"45\",\"247\",\"65\",\"363\",\"350\",\"115\",\"136\",\"53\",\"480\",\"17\",\"143\",\"101\",\"504\",\"374\",\"465\",\"420\",\"492\",\"52\",\"212\",\"361\",\"104\",\"370\",\"147\",\"513\",\"84\",\"153\",\"96\",\"414\",\"125\",\"109\",\"224\",\"315\",\"542\",\"305\",\"323\",\"111\",\"286\",\"24\",\"48\",\"91\",\"140\",\"345\",\"270\",\"388\",\"58\",\"27\",\"419\",\"39\",\"131\",\"407\",\"264\",\"34\",\"368\",\"23\",\"151\",\"536\",\"30\",\"21\",\"251\",\"75\",\"447\",\"280\",\"347\",\"44\",\"184\",\"545\",\"304\",\"382\",\"519\",\"77\",\"12\",\"94\",\"221\",\"89\",\"216\",\"240\",\"142\",\"215\",\"373\",\"18\",\"220\",\"334\",\"367\",\"486\",\"497\",\"120\",\"520\",\"33\",\"410\",\"16\",\"253\",\"362\",\"49\",\"452\",\"510\",\"54\",\"454\",\"114\",\"337\",\"322\",\"173\",\"219\",\"213\",\"421\",\"478\",\"40\",\"254\",\"178\",\"300\",\"310\",\"538\",\"408\",\"503\",\"231\",\"129\",\"472\",\"527\",\"134\",\"152\",\"165\",\"117\",\"66\",\"85\",\"535\",\"255\",\"469\",\"405\",\"180\",\"484\",\"19\",\"80\",\"281\",\"327\",\"175\",\"329\",\"119\",\"308\",\"67\",\"459\",\"83\",\"318\",\"532\",\"204\",\"448\",\"498\",\"250\",\"336\",\"528\",\"316\",\"265\",\"303\",\"36\",\"159\",\"46\",\"157\",\"398\",\"463\",\"279\",\"540\",\"339\",\"437\",\"493\",\"301\",\"274\",\"376\",\"529\",\"97\",\"232\",\"489\",\"298\",\"287\",\"391\",\"272\",\"433\",\"122\",\"500\",\"394\",\"59\",\"62\",\"369\",\"25\",\"312\",\"112\",\"441\",\"330\",\"546\",\"531\",\"293\",\"481\",\"273\",\"427\",\"51\",\"324\",\"384\",\"385\",\"102\",\"141\",\"366\",\"86\",\"163\",\"292\",\"477\",\"243\",\"186\",\"544\",\"349\",\"353\",\"138\",\"282\",\"348\",\"57\",\"222\",\"392\",\"161\",\"205\",\"344\",\"78\",\"534\",\"501\",\"238\",\"451\",\"418\",\"244\",\"187\",\"188\",\"207\",\"404\",\"406\",\"63\",\"154\",\"15\",\"126\",\"206\",\"42\",\"177\",\"530\",\"346\",\"132\",\"365\",\"70\",\"482\",\"50\",\"9\",\"257\",\"79\",\"233\",\"417\",\"440\",\"60\",\"442\",\"252\",\"103\",\"468\",\"514\",\"128\",\"144\",\"267\"],\"tickvals\":[5.0,15.0,25.0,35.0,45.0,55.0,65.0,75.0,85.0,95.0,105.0,115.0,125.0,135.0,145.0,155.0,165.0,175.0,185.0,195.0,205.0,215.0,225.0,235.0,245.0,255.0,265.0,275.0,285.0,295.0,305.0,315.0,325.0,335.0,345.0,355.0,365.0,375.0,385.0,395.0,405.0,415.0,425.0,435.0,445.0,455.0,465.0,475.0,485.0,495.0,505.0,515.0,525.0,535.0,545.0,555.0,565.0,575.0,585.0,595.0,605.0,615.0,625.0,635.0,645.0,655.0,665.0,675.0,685.0,695.0,705.0,715.0,725.0,735.0,745.0,755.0,765.0,775.0,785.0,795.0,805.0,815.0,825.0,835.0,845.0,855.0,865.0,875.0,885.0,895.0,905.0,915.0,925.0,935.0,945.0,955.0,965.0,975.0,985.0,995.0,1005.0,1015.0,1025.0,1035.0,1045.0,1055.0,1065.0,1075.0,1085.0,1095.0,1105.0,1115.0,1125.0,1135.0,1145.0,1155.0,1165.0,1175.0,1185.0,1195.0,1205.0,1215.0,1225.0,1235.0,1245.0,1255.0,1265.0,1275.0,1285.0,1295.0,1305.0,1315.0,1325.0,1335.0,1345.0,1355.0,1365.0,1375.0,1385.0,1395.0,1405.0,1415.0,1425.0,1435.0,1445.0,1455.0,1465.0,1475.0,1485.0,1495.0,1505.0,1515.0,1525.0,1535.0,1545.0,1555.0,1565.0,1575.0,1585.0,1595.0,1605.0,1615.0,1625.0,1635.0,1645.0,1655.0,1665.0,1675.0,1685.0,1695.0,1705.0,1715.0,1725.0,1735.0,1745.0,1755.0,1765.0,1775.0,1785.0,1795.0,1805.0,1815.0,1825.0,1835.0,1845.0,1855.0,1865.0,1875.0,1885.0,1895.0,1905.0,1915.0,1925.0,1935.0,1945.0,1955.0,1965.0,1975.0,1985.0,1995.0,2005.0,2015.0,2025.0,2035.0,2045.0,2055.0,2065.0,2075.0,2085.0,2095.0,2105.0,2115.0,2125.0,2135.0,2145.0,2155.0,2165.0,2175.0,2185.0,2195.0,2205.0,2215.0,2225.0,2235.0,2245.0,2255.0,2265.0,2275.0,2285.0,2295.0,2305.0,2315.0,2325.0,2335.0,2345.0,2355.0,2365.0,2375.0,2385.0,2395.0,2405.0,2415.0,2425.0,2435.0,2445.0,2455.0,2465.0,2475.0,2485.0,2495.0,2505.0,2515.0,2525.0,2535.0,2545.0,2555.0,2565.0,2575.0,2585.0,2595.0,2605.0,2615.0,2625.0,2635.0,2645.0,2655.0,2665.0,2675.0,2685.0,2695.0,2705.0,2715.0,2725.0,2735.0,2745.0,2755.0,2765.0,2775.0,2785.0,2795.0,2805.0,2815.0,2825.0,2835.0,2845.0,2855.0,2865.0,2875.0,2885.0,2895.0,2905.0,2915.0,2925.0,2935.0,2945.0,2955.0,2965.0,2975.0,2985.0,2995.0,3005.0,3015.0,3025.0,3035.0,3045.0,3055.0,3065.0,3075.0,3085.0,3095.0,3105.0,3115.0,3125.0,3135.0,3145.0,3155.0,3165.0,3175.0,3185.0,3195.0,3205.0,3215.0,3225.0,3235.0,3245.0,3255.0,3265.0,3275.0,3285.0,3295.0,3305.0,3315.0,3325.0,3335.0,3345.0,3355.0,3365.0,3375.0,3385.0,3395.0,3405.0,3415.0,3425.0,3435.0,3445.0,3455.0,3465.0,3475.0,3485.0,3495.0,3505.0,3515.0,3525.0,3535.0,3545.0,3555.0,3565.0,3575.0,3585.0,3595.0,3605.0,3615.0,3625.0,3635.0,3645.0,3655.0,3665.0,3675.0,3685.0,3695.0,3705.0,3715.0,3725.0,3735.0,3745.0,3755.0,3765.0,3775.0,3785.0,3795.0,3805.0,3815.0,3825.0,3835.0,3845.0,3855.0,3865.0,3875.0,3885.0,3895.0,3905.0,3915.0,3925.0,3935.0,3945.0,3955.0,3965.0,3975.0,3985.0,3995.0,4005.0,4015.0,4025.0,4035.0,4045.0,4055.0,4065.0,4075.0,4085.0,4095.0,4105.0,4115.0,4125.0,4135.0,4145.0,4155.0,4165.0,4175.0,4185.0,4195.0,4205.0,4215.0,4225.0,4235.0,4245.0,4255.0,4265.0,4275.0,4285.0,4295.0,4305.0,4315.0,4325.0,4335.0,4345.0,4355.0,4365.0,4375.0,4385.0,4395.0,4405.0,4415.0,4425.0,4435.0,4445.0,4455.0,4465.0,4475.0,4485.0,4495.0,4505.0,4515.0,4525.0,4535.0,4545.0,4555.0,4565.0,4575.0,4585.0,4595.0,4605.0,4615.0,4625.0,4635.0,4645.0,4655.0,4665.0,4675.0,4685.0,4695.0,4705.0,4715.0,4725.0,4735.0,4745.0,4755.0,4765.0,4775.0,4785.0,4795.0,4805.0,4815.0,4825.0,4835.0,4845.0,4855.0,4865.0,4875.0,4885.0,4895.0,4905.0,4915.0,4925.0,4935.0,4945.0,4955.0,4965.0,4975.0,4985.0,4995.0,5005.0,5015.0,5025.0,5035.0,5045.0,5055.0,5065.0,5075.0,5085.0,5095.0,5105.0,5115.0,5125.0,5135.0,5145.0,5155.0,5165.0,5175.0,5185.0,5195.0,5205.0,5215.0,5225.0,5235.0,5245.0,5255.0,5265.0,5275.0,5285.0,5295.0,5305.0,5315.0,5325.0,5335.0,5345.0,5355.0,5365.0,5375.0,5385.0,5395.0,5405.0,5415.0,5425.0,5435.0,5445.0,5455.0,5465.0],\"type\":\"linear\",\"zeroline\":false},\"yaxis\":{\"mirror\":\"allticks\",\"rangemode\":\"tozero\",\"showgrid\":false,\"showline\":true,\"showticklabels\":true,\"ticks\":\"outside\",\"type\":\"linear\",\"zeroline\":false},\"template\":{\"data\":{\"bar\":[{\"error_x\":{\"color\":\"#2a3f5f\"},\"error_y\":{\"color\":\"#2a3f5f\"},\"marker\":{\"line\":{\"color\":\"#E5ECF6\",\"width\":0.5},\"pattern\":{\"fillmode\":\"overlay\",\"size\":10,\"solidity\":0.2}},\"type\":\"bar\"}],\"barpolar\":[{\"marker\":{\"line\":{\"color\":\"#E5ECF6\",\"width\":0.5},\"pattern\":{\"fillmode\":\"overlay\",\"size\":10,\"solidity\":0.2}},\"type\":\"barpolar\"}],\"carpet\":[{\"aaxis\":{\"endlinecolor\":\"#2a3f5f\",\"gridcolor\":\"white\",\"linecolor\":\"white\",\"minorgridcolor\":\"white\",\"startlinecolor\":\"#2a3f5f\"},\"baxis\":{\"endlinecolor\":\"#2a3f5f\",\"gridcolor\":\"white\",\"linecolor\":\"white\",\"minorgridcolor\":\"white\",\"startlinecolor\":\"#2a3f5f\"},\"type\":\"carpet\"}],\"choropleth\":[{\"colorbar\":{\"outlinewidth\":0,\"ticks\":\"\"},\"type\":\"choropleth\"}],\"contour\":[{\"colorbar\":{\"outlinewidth\":0,\"ticks\":\"\"},\"colorscale\":[[0.0,\"#0d0887\"],[0.1111111111111111,\"#46039f\"],[0.2222222222222222,\"#7201a8\"],[0.3333333333333333,\"#9c179e\"],[0.4444444444444444,\"#bd3786\"],[0.5555555555555556,\"#d8576b\"],[0.6666666666666666,\"#ed7953\"],[0.7777777777777778,\"#fb9f3a\"],[0.8888888888888888,\"#fdca26\"],[1.0,\"#f0f921\"]],\"type\":\"contour\"}],\"contourcarpet\":[{\"colorbar\":{\"outlinewidth\":0,\"ticks\":\"\"},\"type\":\"contourcarpet\"}],\"heatmap\":[{\"colorbar\":{\"outlinewidth\":0,\"ticks\":\"\"},\"colorscale\":[[0.0,\"#0d0887\"],[0.1111111111111111,\"#46039f\"],[0.2222222222222222,\"#7201a8\"],[0.3333333333333333,\"#9c179e\"],[0.4444444444444444,\"#bd3786\"],[0.5555555555555556,\"#d8576b\"],[0.6666666666666666,\"#ed7953\"],[0.7777777777777778,\"#fb9f3a\"],[0.8888888888888888,\"#fdca26\"],[1.0,\"#f0f921\"]],\"type\":\"heatmap\"}],\"heatmapgl\":[{\"colorbar\":{\"outlinewidth\":0,\"ticks\":\"\"},\"colorscale\":[[0.0,\"#0d0887\"],[0.1111111111111111,\"#46039f\"],[0.2222222222222222,\"#7201a8\"],[0.3333333333333333,\"#9c179e\"],[0.4444444444444444,\"#bd3786\"],[0.5555555555555556,\"#d8576b\"],[0.6666666666666666,\"#ed7953\"],[0.7777777777777778,\"#fb9f3a\"],[0.8888888888888888,\"#fdca26\"],[1.0,\"#f0f921\"]],\"type\":\"heatmapgl\"}],\"histogram\":[{\"marker\":{\"pattern\":{\"fillmode\":\"overlay\",\"size\":10,\"solidity\":0.2}},\"type\":\"histogram\"}],\"histogram2d\":[{\"colorbar\":{\"outlinewidth\":0,\"ticks\":\"\"},\"colorscale\":[[0.0,\"#0d0887\"],[0.1111111111111111,\"#46039f\"],[0.2222222222222222,\"#7201a8\"],[0.3333333333333333,\"#9c179e\"],[0.4444444444444444,\"#bd3786\"],[0.5555555555555556,\"#d8576b\"],[0.6666666666666666,\"#ed7953\"],[0.7777777777777778,\"#fb9f3a\"],[0.8888888888888888,\"#fdca26\"],[1.0,\"#f0f921\"]],\"type\":\"histogram2d\"}],\"histogram2dcontour\":[{\"colorbar\":{\"outlinewidth\":0,\"ticks\":\"\"},\"colorscale\":[[0.0,\"#0d0887\"],[0.1111111111111111,\"#46039f\"],[0.2222222222222222,\"#7201a8\"],[0.3333333333333333,\"#9c179e\"],[0.4444444444444444,\"#bd3786\"],[0.5555555555555556,\"#d8576b\"],[0.6666666666666666,\"#ed7953\"],[0.7777777777777778,\"#fb9f3a\"],[0.8888888888888888,\"#fdca26\"],[1.0,\"#f0f921\"]],\"type\":\"histogram2dcontour\"}],\"mesh3d\":[{\"colorbar\":{\"outlinewidth\":0,\"ticks\":\"\"},\"type\":\"mesh3d\"}],\"parcoords\":[{\"line\":{\"colorbar\":{\"outlinewidth\":0,\"ticks\":\"\"}},\"type\":\"parcoords\"}],\"pie\":[{\"automargin\":true,\"type\":\"pie\"}],\"scatter\":[{\"marker\":{\"colorbar\":{\"outlinewidth\":0,\"ticks\":\"\"}},\"type\":\"scatter\"}],\"scatter3d\":[{\"line\":{\"colorbar\":{\"outlinewidth\":0,\"ticks\":\"\"}},\"marker\":{\"colorbar\":{\"outlinewidth\":0,\"ticks\":\"\"}},\"type\":\"scatter3d\"}],\"scattercarpet\":[{\"marker\":{\"colorbar\":{\"outlinewidth\":0,\"ticks\":\"\"}},\"type\":\"scattercarpet\"}],\"scattergeo\":[{\"marker\":{\"colorbar\":{\"outlinewidth\":0,\"ticks\":\"\"}},\"type\":\"scattergeo\"}],\"scattergl\":[{\"marker\":{\"colorbar\":{\"outlinewidth\":0,\"ticks\":\"\"}},\"type\":\"scattergl\"}],\"scattermapbox\":[{\"marker\":{\"colorbar\":{\"outlinewidth\":0,\"ticks\":\"\"}},\"type\":\"scattermapbox\"}],\"scatterpolar\":[{\"marker\":{\"colorbar\":{\"outlinewidth\":0,\"ticks\":\"\"}},\"type\":\"scatterpolar\"}],\"scatterpolargl\":[{\"marker\":{\"colorbar\":{\"outlinewidth\":0,\"ticks\":\"\"}},\"type\":\"scatterpolargl\"}],\"scatterternary\":[{\"marker\":{\"colorbar\":{\"outlinewidth\":0,\"ticks\":\"\"}},\"type\":\"scatterternary\"}],\"surface\":[{\"colorbar\":{\"outlinewidth\":0,\"ticks\":\"\"},\"colorscale\":[[0.0,\"#0d0887\"],[0.1111111111111111,\"#46039f\"],[0.2222222222222222,\"#7201a8\"],[0.3333333333333333,\"#9c179e\"],[0.4444444444444444,\"#bd3786\"],[0.5555555555555556,\"#d8576b\"],[0.6666666666666666,\"#ed7953\"],[0.7777777777777778,\"#fb9f3a\"],[0.8888888888888888,\"#fdca26\"],[1.0,\"#f0f921\"]],\"type\":\"surface\"}],\"table\":[{\"cells\":{\"fill\":{\"color\":\"#EBF0F8\"},\"line\":{\"color\":\"white\"}},\"header\":{\"fill\":{\"color\":\"#C8D4E3\"},\"line\":{\"color\":\"white\"}},\"type\":\"table\"}]},\"layout\":{\"annotationdefaults\":{\"arrowcolor\":\"#2a3f5f\",\"arrowhead\":0,\"arrowwidth\":1},\"autotypenumbers\":\"strict\",\"coloraxis\":{\"colorbar\":{\"outlinewidth\":0,\"ticks\":\"\"}},\"colorscale\":{\"diverging\":[[0,\"#8e0152\"],[0.1,\"#c51b7d\"],[0.2,\"#de77ae\"],[0.3,\"#f1b6da\"],[0.4,\"#fde0ef\"],[0.5,\"#f7f7f7\"],[0.6,\"#e6f5d0\"],[0.7,\"#b8e186\"],[0.8,\"#7fbc41\"],[0.9,\"#4d9221\"],[1,\"#276419\"]],\"sequential\":[[0.0,\"#0d0887\"],[0.1111111111111111,\"#46039f\"],[0.2222222222222222,\"#7201a8\"],[0.3333333333333333,\"#9c179e\"],[0.4444444444444444,\"#bd3786\"],[0.5555555555555556,\"#d8576b\"],[0.6666666666666666,\"#ed7953\"],[0.7777777777777778,\"#fb9f3a\"],[0.8888888888888888,\"#fdca26\"],[1.0,\"#f0f921\"]],\"sequentialminus\":[[0.0,\"#0d0887\"],[0.1111111111111111,\"#46039f\"],[0.2222222222222222,\"#7201a8\"],[0.3333333333333333,\"#9c179e\"],[0.4444444444444444,\"#bd3786\"],[0.5555555555555556,\"#d8576b\"],[0.6666666666666666,\"#ed7953\"],[0.7777777777777778,\"#fb9f3a\"],[0.8888888888888888,\"#fdca26\"],[1.0,\"#f0f921\"]]},\"colorway\":[\"#636efa\",\"#EF553B\",\"#00cc96\",\"#ab63fa\",\"#FFA15A\",\"#19d3f3\",\"#FF6692\",\"#B6E880\",\"#FF97FF\",\"#FECB52\"],\"font\":{\"color\":\"#2a3f5f\"},\"geo\":{\"bgcolor\":\"white\",\"lakecolor\":\"white\",\"landcolor\":\"#E5ECF6\",\"showlakes\":true,\"showland\":true,\"subunitcolor\":\"white\"},\"hoverlabel\":{\"align\":\"left\"},\"hovermode\":\"closest\",\"mapbox\":{\"style\":\"light\"},\"paper_bgcolor\":\"white\",\"plot_bgcolor\":\"#E5ECF6\",\"polar\":{\"angularaxis\":{\"gridcolor\":\"white\",\"linecolor\":\"white\",\"ticks\":\"\"},\"bgcolor\":\"#E5ECF6\",\"radialaxis\":{\"gridcolor\":\"white\",\"linecolor\":\"white\",\"ticks\":\"\"}},\"scene\":{\"xaxis\":{\"backgroundcolor\":\"#E5ECF6\",\"gridcolor\":\"white\",\"gridwidth\":2,\"linecolor\":\"white\",\"showbackground\":true,\"ticks\":\"\",\"zerolinecolor\":\"white\"},\"yaxis\":{\"backgroundcolor\":\"#E5ECF6\",\"gridcolor\":\"white\",\"gridwidth\":2,\"linecolor\":\"white\",\"showbackground\":true,\"ticks\":\"\",\"zerolinecolor\":\"white\"},\"zaxis\":{\"backgroundcolor\":\"#E5ECF6\",\"gridcolor\":\"white\",\"gridwidth\":2,\"linecolor\":\"white\",\"showbackground\":true,\"ticks\":\"\",\"zerolinecolor\":\"white\"}},\"shapedefaults\":{\"line\":{\"color\":\"#2a3f5f\"}},\"ternary\":{\"aaxis\":{\"gridcolor\":\"white\",\"linecolor\":\"white\",\"ticks\":\"\"},\"baxis\":{\"gridcolor\":\"white\",\"linecolor\":\"white\",\"ticks\":\"\"},\"bgcolor\":\"#E5ECF6\",\"caxis\":{\"gridcolor\":\"white\",\"linecolor\":\"white\",\"ticks\":\"\"}},\"title\":{\"x\":0.05},\"xaxis\":{\"automargin\":true,\"gridcolor\":\"white\",\"linecolor\":\"white\",\"ticks\":\"\",\"title\":{\"standoff\":15},\"zerolinecolor\":\"white\",\"zerolinewidth\":2},\"yaxis\":{\"automargin\":true,\"gridcolor\":\"white\",\"linecolor\":\"white\",\"ticks\":\"\",\"title\":{\"standoff\":15},\"zerolinecolor\":\"white\",\"zerolinewidth\":2}}}},                        {\"responsive\": true}                    ).then(function(){\n",
       "                            \n",
       "var gd = document.getElementById('2dc3f793-4c38-408d-bdd0-a7e10fd26c13');\n",
       "var x = new MutationObserver(function (mutations, observer) {{\n",
       "        var display = window.getComputedStyle(gd).display;\n",
       "        if (!display || display === 'none') {{\n",
       "            console.log([gd, 'removed!']);\n",
       "            Plotly.purge(gd);\n",
       "            observer.disconnect();\n",
       "        }}\n",
       "}});\n",
       "\n",
       "// Listen for the removal of the full notebook cells\n",
       "var notebookContainer = gd.closest('#notebook-container');\n",
       "if (notebookContainer) {{\n",
       "    x.observe(notebookContainer, {childList: true});\n",
       "}}\n",
       "\n",
       "// Listen for the clearing of the current output cell\n",
       "var outputEl = gd.closest('.output');\n",
       "if (outputEl) {{\n",
       "    x.observe(outputEl, {childList: true});\n",
       "}}\n",
       "\n",
       "                        })                };                });            </script>        </div>"
      ]
     },
     "metadata": {},
     "output_type": "display_data"
    }
   ],
   "source": [
    "# Create the dendrogram\n",
    "fig = ff.create_dendrogram(df_df1_pca, color_threshold=0)\n",
    "fig.update_layout(width=800, height=500)\n",
    "fig.show()"
   ]
  },
  {
   "cell_type": "code",
   "execution_count": 141,
   "id": "e5b1b9b4",
   "metadata": {},
   "outputs": [
    {
     "data": {
      "text/html": [
       "<div>\n",
       "<style scoped>\n",
       "    .dataframe tbody tr th:only-of-type {\n",
       "        vertical-align: middle;\n",
       "    }\n",
       "\n",
       "    .dataframe tbody tr th {\n",
       "        vertical-align: top;\n",
       "    }\n",
       "\n",
       "    .dataframe thead th {\n",
       "        text-align: right;\n",
       "    }\n",
       "</style>\n",
       "<table border=\"1\" class=\"dataframe\">\n",
       "  <thead>\n",
       "    <tr style=\"text-align: right;\">\n",
       "      <th></th>\n",
       "      <th>PC1</th>\n",
       "      <th>PC2</th>\n",
       "      <th>PC3</th>\n",
       "      <th>PC4</th>\n",
       "      <th>PC5</th>\n",
       "      <th>class</th>\n",
       "    </tr>\n",
       "  </thead>\n",
       "  <tbody>\n",
       "    <tr>\n",
       "      <th>0</th>\n",
       "      <td>-0.211851</td>\n",
       "      <td>0.446897</td>\n",
       "      <td>-1.128799</td>\n",
       "      <td>0.952116</td>\n",
       "      <td>0.741696</td>\n",
       "      <td>0</td>\n",
       "    </tr>\n",
       "    <tr>\n",
       "      <th>1</th>\n",
       "      <td>-0.299020</td>\n",
       "      <td>-1.122570</td>\n",
       "      <td>-1.529409</td>\n",
       "      <td>1.904702</td>\n",
       "      <td>-0.207345</td>\n",
       "      <td>0</td>\n",
       "    </tr>\n",
       "    <tr>\n",
       "      <th>2</th>\n",
       "      <td>0.183606</td>\n",
       "      <td>-1.731744</td>\n",
       "      <td>0.272794</td>\n",
       "      <td>0.115013</td>\n",
       "      <td>-0.046124</td>\n",
       "      <td>0</td>\n",
       "    </tr>\n",
       "    <tr>\n",
       "      <th>3</th>\n",
       "      <td>1.170501</td>\n",
       "      <td>-1.746579</td>\n",
       "      <td>0.295282</td>\n",
       "      <td>0.116972</td>\n",
       "      <td>-0.028584</td>\n",
       "      <td>0</td>\n",
       "    </tr>\n",
       "    <tr>\n",
       "      <th>4</th>\n",
       "      <td>-0.224846</td>\n",
       "      <td>1.251701</td>\n",
       "      <td>-1.409877</td>\n",
       "      <td>1.105906</td>\n",
       "      <td>-1.615379</td>\n",
       "      <td>0</td>\n",
       "    </tr>\n",
       "  </tbody>\n",
       "</table>\n",
       "</div>"
      ],
      "text/plain": [
       "        PC1       PC2       PC3       PC4       PC5  class\n",
       "0 -0.211851  0.446897 -1.128799  0.952116  0.741696      0\n",
       "1 -0.299020 -1.122570 -1.529409  1.904702 -0.207345      0\n",
       "2  0.183606 -1.731744  0.272794  0.115013 -0.046124      0\n",
       "3  1.170501 -1.746579  0.295282  0.116972 -0.028584      0\n",
       "4 -0.224846  1.251701 -1.409877  1.105906 -1.615379      0"
      ]
     },
     "execution_count": 141,
     "metadata": {},
     "output_type": "execute_result"
    }
   ],
   "source": [
    "# Agglomerative clustering\n",
    "agg = AgglomerativeClustering(n_clusters=2)\n",
    "model = agg.fit(df_df1_pca)\n",
    "\n",
    "# Add a new class column to df_df1_pca\n",
    "df_df1_pca['class'] = model.labels_\n",
    "df_df1_pca.head()"
   ]
  },
  {
   "cell_type": "code",
   "execution_count": 142,
   "id": "625286ad",
   "metadata": {},
   "outputs": [
    {
     "data": {
      "application/vnd.plotly.v1+json": {
       "config": {
        "plotlyServerURL": "https://plot.ly"
       },
       "data": [
        {
         "hovertemplate": "class=%{marker.color}<br>PC1=%{x}<br>PC2=%{y}<br>PC3=%{z}<extra></extra>",
         "legendgroup": "0",
         "marker": {
          "color": [
           0,
           0,
           0,
           0,
           0,
           0,
           0,
           0,
           0,
           0,
           0,
           0,
           0,
           0,
           0,
           0,
           0,
           0,
           0,
           0,
           0,
           0,
           0,
           0,
           0,
           0,
           0,
           0,
           0,
           0,
           0,
           0,
           0,
           0,
           0,
           0,
           0,
           0,
           0,
           0,
           0,
           0,
           0,
           0,
           0,
           0,
           0,
           0,
           0,
           0,
           0,
           0,
           0,
           0,
           0,
           0,
           0,
           0,
           0,
           0,
           0,
           0,
           0,
           0,
           0,
           0,
           0,
           0,
           0,
           0,
           0,
           0,
           0,
           0,
           0,
           0,
           0,
           0,
           0,
           0,
           0,
           0,
           0,
           0,
           0,
           0,
           0,
           0,
           0,
           0,
           0,
           0,
           0,
           0,
           0,
           0,
           0,
           0,
           0,
           0,
           0,
           0,
           0,
           0,
           0,
           0,
           0,
           0,
           0,
           0,
           0,
           0,
           0,
           0,
           0,
           0,
           0,
           0,
           0,
           0,
           0,
           0,
           0,
           0,
           0,
           0,
           0,
           0,
           0,
           0,
           0,
           0,
           0,
           0,
           0,
           0,
           0,
           0,
           0,
           0,
           0,
           0,
           0,
           0,
           0,
           0,
           0,
           0,
           0,
           0,
           0,
           0,
           0,
           0,
           0,
           0,
           0,
           0,
           0,
           0,
           0,
           0,
           0,
           0,
           0,
           0,
           0,
           0,
           0,
           0,
           0,
           0,
           0,
           0,
           0,
           0,
           0,
           0,
           0,
           0,
           0,
           0,
           0,
           0,
           0,
           0,
           0,
           0,
           0,
           0,
           0,
           0,
           0,
           0,
           0,
           0,
           0,
           0,
           0,
           0,
           0,
           0,
           0,
           0,
           0,
           0,
           0,
           0,
           0,
           0,
           0,
           0,
           0,
           0,
           0,
           0,
           0,
           0,
           0,
           0,
           0,
           0,
           0,
           0,
           0,
           0,
           0,
           0,
           0,
           0,
           0,
           0,
           0,
           0,
           0,
           0,
           0,
           0,
           0,
           0,
           0,
           0,
           0,
           0,
           0,
           0,
           0,
           0,
           0,
           0,
           0,
           0,
           0,
           0,
           0,
           0,
           0,
           0,
           0,
           0,
           0,
           0,
           0,
           0,
           0,
           0,
           0,
           0,
           0,
           0,
           0,
           0,
           0,
           0,
           0,
           0,
           0,
           0,
           0,
           0,
           0,
           0,
           0,
           0,
           0,
           0,
           0,
           0,
           0,
           0,
           0,
           0,
           0,
           0,
           0,
           0,
           0,
           0,
           0,
           0,
           0,
           0,
           0,
           0,
           0,
           0,
           0,
           0,
           0,
           0,
           0,
           0,
           0,
           0,
           0,
           0,
           0,
           0,
           0,
           0,
           0,
           0,
           0,
           0,
           0,
           0,
           0,
           0,
           0,
           0,
           0,
           0,
           0,
           0,
           0,
           0,
           0,
           0,
           0,
           0,
           0,
           0,
           0,
           0,
           0,
           0,
           0,
           0,
           0,
           0,
           0,
           0,
           0,
           0,
           0,
           0,
           0,
           0,
           0,
           0,
           0,
           0,
           0,
           0,
           0,
           0,
           0,
           0,
           0,
           0,
           0,
           0,
           0,
           0,
           0,
           0,
           0,
           0,
           0,
           0,
           0,
           0,
           0,
           0,
           0,
           0,
           0,
           0,
           0,
           0,
           0,
           0,
           0,
           0,
           0,
           0,
           0,
           0,
           0,
           0,
           0,
           0,
           0,
           0,
           0,
           0,
           0,
           0,
           0,
           0,
           0,
           0,
           0,
           0,
           0,
           0,
           0,
           0,
           0,
           0,
           0,
           0,
           0,
           0,
           0,
           0,
           0,
           0,
           0,
           0,
           0,
           0,
           0,
           0,
           0,
           0,
           0,
           0,
           0,
           0,
           0,
           0,
           0,
           0,
           0,
           0,
           0,
           0,
           0,
           0,
           0,
           0,
           0,
           0,
           0,
           0,
           0,
           0,
           0,
           0,
           0,
           0,
           0,
           0,
           0,
           0,
           0,
           0,
           0,
           0,
           0,
           0,
           0,
           0,
           0,
           0,
           0,
           0,
           0,
           0,
           0,
           0,
           0,
           0,
           0,
           0,
           0,
           0,
           0,
           0,
           0,
           0,
           0,
           0,
           0,
           0,
           0,
           0,
           0,
           0,
           0,
           0,
           0,
           0,
           0,
           0,
           0,
           0,
           0,
           0,
           0,
           0,
           0,
           0,
           0,
           0,
           0,
           0,
           0,
           0,
           0,
           0,
           0,
           0,
           0,
           0,
           0,
           0,
           0,
           0,
           0,
           0,
           0,
           0,
           0,
           0,
           0,
           0,
           0,
           0,
           0,
           0,
           0
          ],
          "coloraxis": "coloraxis",
          "symbol": "circle"
         },
         "mode": "markers",
         "name": "0",
         "scene": "scene",
         "showlegend": true,
         "type": "scatter3d",
         "x": [
          -0.21185071726899632,
          -0.29901957092498327,
          0.1836060152047331,
          1.1705005124223378,
          -0.2248455695622448,
          -0.02561787474463994,
          -0.21567902807847222,
          -0.20661237739180896,
          0.4496404274259988,
          -0.2778628018138107,
          -0.20723138230809832,
          -0.23602249988338994,
          0.3713198081839479,
          0.022823347020925523,
          -0.2279807249427313,
          -0.22011206558466773,
          0.08931124983074039,
          -0.1721608806505398,
          -0.10883788820999937,
          -0.1244013675957026,
          -0.19130678925363856,
          -0.14063660216688834,
          1.3003301772946707,
          -0.15432994681471915,
          -0.22808538476274545,
          -0.2102434335010704,
          0.5438232329001926,
          -0.24361130568832076,
          -0.03139765683034431,
          0.040890026826510745,
          -0.13718432898325197,
          0.27408961079668936,
          -0.3371460887127122,
          0.043660428528691037,
          -0.19713596089266325,
          -0.052012256488272866,
          0.21314565496583654,
          -0.23548678058174882,
          -0.18528598809514077,
          0.02359536719191872,
          -0.2099638090338481,
          -0.08767171071372126,
          -0.13809274707982228,
          -0.0628293447408096,
          -0.11888448817067875,
          -0.10078785157372214,
          -0.22372896890986035,
          0.12916906550532875,
          -0.21526326857095415,
          -0.09326448561894271,
          -0.2807064756492465,
          -0.3001850418874899,
          -0.22043877551060198,
          -0.14025224967273694,
          -0.1551332335315077,
          0.16017587002011163,
          -0.11021292701715169,
          -0.01257499848442333,
          -0.2552051664011196,
          -0.012237406564250647,
          0.0238585363286801,
          1.4645131006469108,
          0.06690602450213576,
          -0.253939195389972,
          0.152182933958835,
          -0.11952581778579788,
          -0.2340189521500665,
          -0.08232462178330859,
          -0.23458216568304383,
          -0.2247363703714773,
          -0.2134703318634598,
          -0.29796394309495616,
          0.007215403771823011,
          0.1226134534902901,
          -0.2548918549936737,
          -0.1056034377496186,
          -0.0693526723544562,
          0.12335073669819102,
          -0.21067055330671008,
          -0.2708538395938862,
          -0.16757519221971717,
          -0.26807839582769993,
          -0.05474937152171368,
          -0.351544844642648,
          -0.2517814074118927,
          -0.10852894411443341,
          -0.16381406924603323,
          1.2601898124832325,
          -0.2085421149549157,
          0.17967476068383167,
          -0.1107312641476072,
          -0.3131802348446573,
          -0.07857752607256639,
          0.014076390455994861,
          0.27021459163497147,
          -0.04484977203920457,
          -0.23500515327838037,
          -0.12175820012487877,
          -0.2241197165618758,
          0.9370391152303955,
          1.130246254661204,
          -0.16245032397196435,
          -0.3145172780973439,
          -0.2803219760763171,
          -0.21378316368215108,
          -0.12193569179993498,
          -0.20145770948955347,
          0.028108174231511632,
          -0.3138859085518668,
          -0.2690561323821514,
          -0.16134028037652154,
          -0.05956163369824077,
          -0.31843955104270116,
          -0.029210921760029165,
          -0.1468040845827122,
          -0.131378048006747,
          -0.1313792754003989,
          0.0456792032637695,
          -0.31307781094997605,
          0.9238261546120256,
          -0.25327844949577716,
          -0.20014612957127847,
          0.5442847710808629,
          -0.15686718397234475,
          -0.20155260573330347,
          -0.2821190112241519,
          -0.19327768858475114,
          0.21305725587117705,
          -0.17361614068975392,
          -0.01467019226116706,
          -0.1352973051427536,
          -0.13974302515947698,
          -0.029178385364921604,
          -0.2911653980600089,
          -0.2063718786938037,
          -0.12792469165672601,
          -0.13779966319215284,
          -0.17029566075853117,
          -0.20816491637392276,
          -0.27544403193965034,
          -0.22525274860075828,
          -0.3040923098211482,
          -0.14010372349104444,
          -0.25492175222373875,
          -0.18679377418735618,
          -0.2764227001172293,
          -0.017719076223199556,
          0.11088881777677495,
          -0.228559162746748,
          -0.1487772629870329,
          -0.2365217579860978,
          -0.2352433765051768,
          -0.2452959780954747,
          -0.34393097794094724,
          -0.26965659167704253,
          -0.23481876242625924,
          -0.31125993199919355,
          0.012720878376581977,
          -0.04057435749976705,
          -0.2112150222268851,
          -0.14678688795677658,
          -0.03774391593804479,
          -0.059155938302579224,
          -0.20057829192638746,
          -0.2159058553074489,
          -0.27116880870868315,
          -0.31784741772375713,
          -0.1544137559971914,
          -0.24654468816846514,
          -0.05078020992693441,
          -0.17542113478097282,
          -0.26325373931269064,
          -0.1425884129157771,
          -0.31141213923125927,
          0.19225501939130427,
          -0.1177284557787657,
          -0.29434179013578093,
          -0.17994030115071963,
          -0.2684083696241575,
          -0.26968968102655866,
          -0.1692028898066042,
          1.4641263705994558,
          -0.09692892794734881,
          0.011751881132804431,
          -0.2726194511791581,
          -0.1568196563412286,
          0.048412509236525,
          0.14766040793353644,
          0.09264892524043786,
          0.018629373751412805,
          -0.07887079608633119,
          -0.2086805259924755,
          -0.13962664349433204,
          -0.17792780468020658,
          -0.3325258323950578,
          -0.17893196284338236,
          -0.32220489979199224,
          -0.0845318446751969,
          -0.29020704050307383,
          -0.14452754263355455,
          -0.26969188346487405,
          -0.2572658493800283,
          -0.3296023463896253,
          -0.21328949622969517,
          -0.19183619971605226,
          0.07451656054098334,
          -0.23433744407133952,
          -0.033172702724918464,
          0.03890952323577751,
          -0.11813255970719333,
          -0.2199446253042119,
          -0.2548646494313703,
          -0.013204917073583374,
          -0.2921233617649374,
          -0.32719053353037747,
          -0.03597001134590646,
          -0.2912622082219966,
          -0.24992896404079926,
          -0.12205319735732692,
          -0.18651705972231095,
          -0.08313628326915053,
          -0.20139220355784684,
          -0.2739829959842791,
          -0.2428394504780371,
          -0.023771217313786223,
          0.06599806286181156,
          -0.08823336311993148,
          -0.18169948077947537,
          -0.0326893721471924,
          -0.2724031329086742,
          -0.20426628313117523,
          -0.18744738520166612,
          0.08386694227508053,
          0.17087586922696257,
          0.1392008173761755,
          -0.018382640230261375,
          -0.0690199820266622,
          0.36540462605510604,
          -0.3144633720910034,
          -0.18178840900681945,
          -0.21256348837029426,
          -0.28152415632536965,
          -0.2076231913046363,
          -0.029194983017985558,
          -0.32451719783638017,
          -0.1017713011947358,
          -0.2725126133188035,
          -0.19259937546952105,
          -0.01912272991405256,
          -0.1389089972828599,
          0.3777357351058779,
          0.15493760744136573,
          -0.21020023901851898,
          -0.13444319178156472,
          0.2935956842470257,
          -0.27595929992917567,
          -0.25097388522526587,
          -0.31141668536973166,
          -0.2794482795004232,
          -0.23662571457108808,
          -0.03974582273343283,
          -0.19622658637324958,
          -0.21391233537799614,
          -0.17445057173893652,
          0.008438917389087246,
          -0.14055423096255032,
          -0.27405685447611206,
          -0.24785971104438423,
          -0.24995269228129474,
          -0.2027471498829873,
          -0.2748140263504027,
          -0.26310705188722094,
          -0.29157374898608057,
          -0.17696631437407268,
          -0.19091482933068765,
          -0.30932364176640376,
          -0.2655996196285999,
          -0.11966475001428635,
          -0.24972091539649668,
          -0.24899654788078218,
          -0.11272403097635429,
          -0.11495269334386694,
          -0.15488810045526852,
          -0.1612270281181101,
          -0.2370455705496063,
          -0.22072308316524106,
          -0.21258462843495293,
          -0.2185105183864057,
          -0.3022196086616639,
          -0.1754622204471695,
          -0.2612393898306716,
          -0.21776357679550398,
          0.1646809487907476,
          -0.19922442926302714,
          -0.17248563354072552,
          -0.22642840772069045,
          -0.2066166799955388,
          -0.29015069592717474,
          -0.21911746509545427,
          -0.2698633987194275,
          -0.16236660464091687,
          -0.20646782044522483,
          -0.2559582006809391,
          -0.1687445365908922,
          0.13303408373097647,
          -0.21961806709901274,
          -0.2857264014069639,
          -0.30346781682328156,
          -0.2906204163632164,
          -0.18679475438978171,
          -0.2022356880152204,
          0.22746977073947122,
          -0.13895236549746345,
          -0.2215785950939822,
          -0.21811518522574672,
          -0.18069827954445494,
          -0.18682768104105252,
          -0.1926368613120268,
          -0.2323642029017709,
          -0.2617556923243818,
          -0.21106782417730605,
          -0.2668789046655101,
          -0.14287434885168138,
          -0.24624829523559294,
          -0.23295743059114046,
          -0.18481760785514945,
          -0.278845632043843,
          -0.29700167756857426,
          -0.19633856186354948,
          -0.2097296244897116,
          -0.17426779872854073,
          -0.16309634856041821,
          -0.19320856318968765,
          -0.07847637979790897,
          -0.13791917160469683,
          -0.33030768214836354,
          -0.09303266984042372,
          -0.013057345776839228,
          -0.18805844421540469,
          -0.22211304665291168,
          -0.28997497431545377,
          -0.17722278194100363,
          -0.29714863000268266,
          -0.18590608956136156,
          -0.12978034957806844,
          -0.0908231735665258,
          -0.2866393483313762,
          -0.1321223356567643,
          -0.2422604908690168,
          -0.20376269313614429,
          -0.28466452993955915,
          -0.26180094823977074,
          -0.0926483461310545,
          -0.2804283776475601,
          0.4512941519826815,
          -0.20670587609320717,
          -0.2170666552190112,
          -0.18821887688098,
          -0.2068702889688989,
          -0.11392200231130045,
          -0.10348726805772084,
          -0.25879429742683285,
          -0.2200476048784902,
          -0.269164302313972,
          -0.22771433863871085,
          -0.20058799337265854,
          -0.15373557855016715,
          -0.21131249812327482,
          -0.2156589051597654,
          -0.14576690781237944,
          -0.03973371080054912,
          -0.2011903038931285,
          -0.2382462150449683,
          -0.2647602101769477,
          -0.3279165242845414,
          -0.11738916266064782,
          -0.13861055049777457,
          -0.3033525952143682,
          -0.335295208793939,
          -0.1738897835534037,
          -0.17599279863039874,
          -0.2792997992085376,
          -0.24545195954417853,
          -0.10194495246858747,
          -0.2277145602621435,
          -0.24087011508742273,
          -0.23806695086605797,
          0.0002100253332662966,
          -0.24617710669809,
          -0.21093611212587984,
          -0.23638143764771985,
          0.06488437718711891,
          -0.2800408320067218,
          -0.24053538930285506,
          -0.27994467616737206,
          -0.16506423930680073,
          -0.15316543466669416,
          -0.23746958011337985,
          -0.08908059208007983,
          0.035273289411415276,
          -0.12577578532964764,
          -0.16623028463069034,
          -0.22431594870653682,
          -0.22683823857652258,
          -0.15954616024763849,
          -0.30871156827111645,
          0.0409474457916458,
          0.01011343298844536,
          -0.24716599969892783,
          -0.18614748720736501,
          -0.21161237749806366,
          -0.24191244366716083,
          -0.2822210002956963,
          -0.26701296725516627,
          -0.1996412113835977,
          -0.08372777098477856,
          -0.2384279735234072,
          -0.20737434413011693,
          -0.2568409120450335,
          -0.06017217386430994,
          -0.20233848911747201,
          -0.08755713904767425,
          -0.10049752865722623,
          -0.10170324706803041,
          -0.26962971933574315,
          -0.27278541151646296,
          1.0026479250166787,
          -0.2636964725113157,
          -0.27042613377306063,
          -0.1165307857107384,
          -0.19207136672416694,
          -0.12563804891928096,
          -0.19052655770228635,
          -0.1439950354840471,
          -0.23803605551937648,
          0.1118111186716014,
          -0.1724834665945566,
          -0.0905805984544548,
          -0.31057681956595157,
          -0.16586215789140615,
          -0.22957427196963218,
          -0.14829826938218033,
          -0.2619409733516359,
          0.005923229291343541,
          -0.10387428032710559,
          -0.32898534853587164,
          -0.16502261403507593,
          -0.30585004623123724,
          -0.1077523924317159,
          -0.0816672791255336,
          -0.3173843267990399,
          -0.1549449018602234,
          -0.2046887357881836,
          -0.17145314734057832,
          -0.18136295170546696,
          -0.29704048881046824,
          -0.3519358650295809,
          -0.12873974537018879,
          -0.13497738603936713,
          -0.2831191311937581,
          -0.2722315582539563,
          -0.21272986292821283,
          -0.1964919619342647,
          -0.11685760247438533,
          0.16534943109769082,
          -0.26417306843522864,
          -0.15516385881630124,
          -0.18473165338972716,
          -0.23063577962536297,
          -0.28138636588495336,
          0.5907090434819976,
          -0.3099570527817767,
          3.553719746345999,
          -0.18680226297119415,
          -0.1576978470420076,
          -0.22483687513724532,
          -0.1761928697966956,
          -0.13409033071375803,
          -0.26592480477721303,
          -0.2688226756277493,
          -0.2620184298703642,
          -0.2783514429780938,
          -0.12907497921096067,
          -0.17246731842081764,
          -0.26048726069766026,
          -0.19060961411357602,
          -0.17427238421173205,
          0.04956678792884651,
          -0.18957314885995374,
          -0.21551703889602813,
          -0.13826880071838632,
          -0.257962886054881,
          -0.2419859170331681,
          -0.07849177669878593,
          -0.1884545614877742,
          -0.3198577662513915,
          0.07715353359346253,
          -0.17252168201744195,
          -0.03327447929141488,
          -0.3105372968497414,
          -0.2707110917084044,
          -0.17578558188742216,
          -0.337262774315218,
          -0.13491068765721112,
          -0.21068286055631966,
          -0.3218886215600714,
          -0.08424353713386064,
          -0.16283929995196134,
          -0.275294208552735,
          -0.2555150364339986,
          -0.2717164282001933,
          -0.31951013404583317,
          -0.2580257063849964,
          -0.06317047771198243,
          -0.32018521535346156,
          -0.1780901595397676,
          -0.24718287337727368,
          -0.12733088222150585,
          -0.20127267064527185,
          0.2725708759186511,
          -0.1831586840998206,
          -0.27518996765358306,
          -0.10017577286951707,
          -0.2738216448855281,
          -0.2740508863300724,
          -0.036359905024222844,
          -0.13549601536544909,
          -0.24100869618075357,
          -0.21771325479431333,
          -0.04911467762986012,
          -0.30491336070314556,
          -0.1515284986540041,
          -0.13767225067623068,
          -0.30390446457904685,
          -0.310136727527899,
          -0.1605267790516986,
          -0.2612771834092353,
          -0.20165227678034922,
          -0.2734203594909227,
          -0.18915145396656946,
          -0.2900904661375357,
          -0.09347459042329075,
          -0.29479195827360655
         ],
         "y": [
          0.4468969485570544,
          -1.1225697292634493,
          -1.7317440501383112,
          -1.746579295745649,
          1.2517008530397749,
          1.5021950198495708,
          -1.2929255707966196,
          0.3148899503876265,
          -1.7100768518626168,
          1.6347464883380811,
          -0.43014480213800627,
          0.9028341394012939,
          0.9583729886216555,
          0.6309873631436996,
          0.20640481585159168,
          1.7117957326582482,
          -0.013696243171516107,
          0.6732526343045966,
          0.10036400510318823,
          0.16779160092048215,
          1.1851826289613276,
          0.9664799158631209,
          1.121468355400075,
          0.9665520956261041,
          0.6718114064427597,
          0.7235557734780285,
          -1.7374965159491966,
          0.386800193895268,
          -0.45899579058995094,
          -0.03407982138946935,
          0.965909941127725,
          -1.7584265078813408,
          -0.4544772098404451,
          -0.014185020936846331,
          0.9670893794692046,
          -1.727762443003663,
          0.12512675728406758,
          1.085499247774581,
          0.3023722170383596,
          0.3842939515367609,
          -0.009156764437013494,
          -1.7743024402774537,
          1.7986484298828451,
          1.2220571832598424,
          1.0654327114737225,
          0.6313700478858035,
          1.9002885161316965,
          0.6303561205150973,
          0.6703764693132592,
          -0.010793833867468591,
          1.6338117070484395,
          0.6778034054259814,
          0.6355159386711077,
          0.6347085600082035,
          -0.010524249798097084,
          0.6687202431599282,
          -0.2654821940596625,
          0.785945661260113,
          0.3873686727896495,
          0.7459885024469292,
          1.429204757226597,
          -1.7799850839150886,
          0.7455529076274606,
          1.711396371569795,
          0.6603235033365072,
          0.6349317967279904,
          -0.06349608346416018,
          0.49440362196191334,
          -1.7249672611454807,
          -1.2681726631354067,
          1.6346255345242222,
          -0.26100967892347904,
          -1.7260306581508706,
          -1.1587762490223472,
          -0.7373154828249683,
          0.9656689609541675,
          -1.335958217813447,
          0.961896771222295,
          1.5529214631283295,
          1.3501716130632724,
          0.16809360505282736,
          0.5919473628467248,
          -0.4303838735702814,
          -0.3977021908070839,
          0.6336065386648193,
          -0.013287654808764567,
          1.0316602788870621,
          -1.757647788663849,
          -0.029629532277928954,
          0.044739309172738606,
          -1.7264510122294476,
          0.3894495992952233,
          0.632548244439612,
          -0.43467238817307247,
          0.8104634612464918,
          -1.7279941138227541,
          0.6330935306454707,
          1.8887473518004472,
          1.418894455287873,
          1.2832752995217398,
          -0.4493373789243079,
          0.6370496737103774,
          1.0443700295234797,
          4.428265224842318,
          0.6340866290430075,
          0.6466038578122554,
          0.7441156799578578,
          -2.3034066199915726,
          -0.4166238778492627,
          0.6334032987293506,
          -0.43062506417994634,
          0.6708418184275942,
          0.7491310748124665,
          1.2915843587565978,
          -0.010109069313614522,
          0.6323352345652187,
          1.1788270093516,
          -0.013811713608737779,
          -0.4293295214654167,
          -0.18671976624103273,
          -0.09339994252892973,
          -0.9066912195462423,
          1.0181367384122277,
          -1.7260386687873477,
          0.7790306451390434,
          0.6364165010554639,
          1.7107085896753111,
          -1.0737812144173824,
          0.8412718357569803,
          0.6333675545743072,
          0.38606050727782115,
          1.4712048946942926,
          -0.9108158039448085,
          0.5325430235862932,
          1.2710897723501982,
          0.6320128095821831,
          -1.701814939039147,
          0.9722467113004848,
          -1.065481319241338,
          0.3860889306857516,
          1.0318833600613728,
          0.05210647772286716,
          0.6686531321624619,
          -0.24711837827645716,
          -1.7501323958646369,
          0.6410781781600089,
          1.3741785926519534,
          0.6267592405207367,
          -1.7744723156769273,
          0.9666902125880151,
          0.532751786727254,
          0.6352521624837288,
          1.713195759227431,
          -1.7481254558246195,
          -0.430413483700869,
          1.9028522500347596,
          -1.2185169379542944,
          -0.07312028584645258,
          0.6312763209086288,
          0.8639248863740111,
          -0.431889750131336,
          1.0293837923924316,
          -1.727549893713728,
          0.5323422118855303,
          -0.30508293248059887,
          -1.7486466325793484,
          -1.6663525696578187,
          0.392403517592601,
          0.030665839571190418,
          -1.7277624771055193,
          -0.2889443042731455,
          -0.008014856004806482,
          -0.431729172035007,
          0.17163314525040693,
          -1.733298130618119,
          1.7970827810097085,
          -0.007912787977244557,
          -1.2199167645053017,
          0.4040277757736408,
          -1.7487808916557135,
          -1.7252050426096406,
          -1.7576029944625078,
          1.06462928128593,
          -1.0694670982959287,
          1.0988303752627466,
          2.4475728969760198,
          2.3912961407956477,
          0.6270331176539716,
          0.6309464690752086,
          0.6311362442945667,
          1.15139791508372,
          -1.7256113860731517,
          -0.7452407804163445,
          -1.2930167501814052,
          -1.7214101329323164,
          -0.9074859804713103,
          -0.4292279840281106,
          -0.4069956379290273,
          -0.24732568001787383,
          -1.7259728641981444,
          -1.749284242818847,
          -1.3406902828926608,
          -0.038841033651458155,
          0.9137893599104433,
          1.7986883409282657,
          2.391298545052523,
          -1.7249213469680724,
          0.6334187969318115,
          -1.6109330996544384,
          -1.7263532291640022,
          0.6352447381692862,
          -0.008051315790160283,
          0.6300674092205294,
          0.027772963882470542,
          0.10246943425347697,
          -1.7276581888672822,
          -1.1219596190741679,
          -0.007776352803694773,
          0.05039837521567625,
          0.37201512329207376,
          0.7869352370404712,
          -1.1252195783265881,
          0.6351444909482228,
          0.9892516615788394,
          1.2938435745405283,
          0.6301696524173483,
          0.3258797026667606,
          0.988391382078726,
          0.6306748494591873,
          0.6268284035215361,
          1.816263313967674,
          1.3504161826103296,
          -1.7542427766993556,
          0.6336746790814516,
          -1.7305687334455848,
          0.6303599053319493,
          1.4760305909157851,
          -0.43999071238128745,
          0.10145644700403747,
          1.0337238606029158,
          -1.124332922880746,
          1.0739846689512447,
          2.822478362358326,
          -0.9502325044102589,
          -0.6750831345552499,
          0.6323016741679587,
          0.7000485833686235,
          -1.2454548327767223,
          0.1762866039109655,
          0.9665304959375121,
          4.486964712141356,
          -0.014787497111687165,
          -0.006588300230957996,
          0.4012860363636032,
          1.2243231575974114,
          1.6344732237110562,
          -0.2469102396756911,
          -0.45282391277789336,
          -0.9820845524412705,
          -1.7482539495859226,
          -1.7520599213172656,
          1.6823314317524412,
          0.9675748819605136,
          0.13062069280536703,
          -1.7279808341907692,
          1.5739151661756983,
          -1.7232612241690046,
          0.3661574070160793,
          -1.7489958039501674,
          1.8666162808422315,
          0.7500328856358606,
          1.434675432948303,
          -1.723646508588935,
          -1.062366878031988,
          -1.7249669975767576,
          -1.3975048506751813,
          2.2249656891059213,
          0.9661893513214459,
          0.17324383757610992,
          0.9744078799539926,
          0.6479534083829164,
          0.8764338045052323,
          1.102213675362999,
          0.6699898686880134,
          1.8662585098149982,
          -1.2446616017945251,
          -0.4050123763819187,
          -1.3822705911102877,
          -0.428938316436715,
          1.111097914461597,
          0.7507725415601895,
          -2.348842246714374,
          -1.7067076509504169,
          -1.6991314663249066,
          -1.7508447728153083,
          1.8681647173258196,
          -2.3292844423633876,
          -0.008431902358229403,
          1.4593530945523772,
          -1.7235283790904445,
          0.12885682766701778,
          1.067363829397967,
          0.8373759900103735,
          -0.4312039171042872,
          -1.729896118945958,
          0.1689291801626693,
          -1.7483418895565574,
          -0.006921053975992238,
          -0.42828830043892085,
          0.725455978097778,
          -0.6841184971764858,
          -1.0991887148684205,
          0.6630078988828102,
          0.13070626256504325,
          -1.0828952217180745,
          -0.06795065022928796,
          -0.45614748056873483,
          -1.7244633192043954,
          -1.724615810703169,
          -0.0038252460732717234,
          0.847394065298612,
          0.6770738969772291,
          -1.7505606223069596,
          -1.748547522035193,
          0.16981249303170903,
          -1.7498777227698614,
          0.17095563829941504,
          0.7540367305648024,
          -1.7250147247927752,
          -1.7480349430343878,
          1.6254347710875117,
          0.024189647608341906,
          -1.750267598669129,
          0.12833819885645548,
          -0.010034402761032664,
          -1.7220949201737958,
          1.9793686896140719,
          -0.43188148885025374,
          -0.9068859163666507,
          -1.6101960258552959,
          -1.217643339547137,
          1.7236928067099901,
          0.3880048129290794,
          1.3449800539186931,
          0.9664255313375734,
          0.6883559807238928,
          1.0976392026313204,
          0.6313227721278282,
          -0.4284069109341017,
          -0.42696302284873583,
          1.0975858138120467,
          -1.7509718325776573,
          0.6308956980917247,
          -1.3233113766726596,
          -1.7359820806510606,
          -1.7257032826316818,
          -1.7248982902980126,
          -0.5352633979187897,
          0.6348500621125887,
          -0.36734750659345977,
          0.6349108786550434,
          -0.4290870907188046,
          1.4172825942048297,
          1.0333912005360142,
          0.10576663103613954,
          0.9677143652606809,
          0.7256074476530769,
          0.6341498676672774,
          -1.7496969957524768,
          -1.7262066711981192,
          0.02288362234435126,
          0.6361402380892486,
          -1.0614821778260841,
          1.459990690217033,
          -1.7481945025959806,
          -1.7255443076341084,
          -1.7263998783914452,
          -1.6945179504280883,
          -1.7200671208533278,
          1.0693213520332148,
          -0.08424070111914662,
          0.7303055248410097,
          0.7049582903041527,
          -1.2958921932534724,
          -0.43137693962397594,
          0.39280653190873877,
          -0.42865481198591326,
          0.26308684597196497,
          1.865703341741974,
          0.7894072958799243,
          -1.7490290533637645,
          0.8327562777001708,
          -1.7457754570788382,
          -0.4289284458429445,
          -1.123705658014862,
          2.222273817602348,
          -1.726195508489255,
          -1.2833459259075348,
          -1.749762286786566,
          -1.3362851750912321,
          -1.7249439845239336,
          1.3903707888834702,
          0.3781820035978085,
          1.3915118097026489,
          0.36202335530134017,
          -0.029710759770538556,
          -1.7545769072580144,
          -0.012618499215415798,
          -1.7242387080872144,
          -1.2835583723956459,
          -1.1231433819669066,
          0.6336063540769488,
          -0.425964785918436,
          -0.4550567949670178,
          1.3514549283307644,
          2.6212004835994698,
          0.3870702078890133,
          0.632857557656712,
          -0.008327993307367497,
          1.2303566083283528,
          -1.3243241724795656,
          -0.7831919132106243,
          0.6418378066375967,
          -0.907923070527736,
          0.7505256944067304,
          -0.4041718081482196,
          -1.3449689966439287,
          -1.7241569847452067,
          -1.7480027442176953,
          -1.7776463487291227,
          1.8902713487589042,
          -0.9077174559253909,
          -0.9070852852979736,
          -1.3823244850164742,
          1.6024149677080695,
          -1.7303927646191175,
          -1.7510689208120898,
          1.1497014451585463,
          0.7531815514227057,
          1.4334666522263604,
          1.1962460290754147,
          0.20424901993868816,
          0.6758889649710524,
          1.174510409821464,
          0.966074362340275,
          -0.06727941669640614,
          0.8522483226909797,
          -0.40449178214788223,
          1.4775705005098794,
          -0.010597659082335781,
          -1.774058115578982,
          -0.00993452977517269,
          0.3281058983966701,
          -0.43048375617881174,
          -1.7499030880500643,
          -0.42963099592437254,
          0.4999122492755401,
          -1.7259792284003022,
          -1.7513022837224241,
          -1.6996360431574347,
          2.2318053360995047,
          -0.454907883015742,
          0.6373361282656597,
          -0.406460651724447,
          -1.7328103333260052,
          2.6148801813604328,
          0.4023803144369361,
          -1.479615274438708,
          -1.7243781930381055,
          0.9793375534820491,
          -1.7435291124165708,
          -1.7232140827251226,
          -1.58920685139048,
          0.6263805704324039,
          1.1107204946480482,
          -0.0334193532239214,
          1.667055305727288,
          0.6336549718884767,
          0.7510922500922773,
          1.6357182165449593,
          -0.2873534437781949,
          0.37873913849690277,
          0.9198376995217342,
          0.5313938269032492,
          -1.7236740498695553,
          -0.33776047210573223,
          1.8161459411235024,
          -1.7542773798288642,
          -1.3125660538800983,
          0.6326030109577286,
          1.4324319871891773,
          -1.1489025598602345,
          -1.7247113433505508,
          0.6248377223961868,
          0.05451457365848826,
          -0.06726818146874794,
          0.6411771901627507,
          0.9208148286473943,
          1.5505879584357591,
          -0.40423190916765434,
          -0.02908006559795842,
          0.6344154390169748,
          -0.43041307090789144,
          -1.7263404069663881,
          -0.4301125384190484,
          -0.2476137646246135,
          1.2618588741652659,
          -0.010045495615459983,
          -1.724474183853716,
          -1.1225816288063988,
          0.6455251776372662,
          -0.3768692056645621,
          -1.724973732216417,
          -1.0944114858591307,
          -0.2472750691967195,
          1.0680069390923501,
          -0.03630966826850192,
          1.7516096841692632,
          -1.7249293653619155,
          -0.24464778383340666,
          -1.7745947127469737,
          -2.2799720286393095,
          1.6964483986258057,
          0.20009499008788628,
          0.15797617047259685,
          1.8134830643324429,
          1.9521797191908716,
          0.7501846583101661,
          -0.06868437768018885,
          -1.7524079085962379,
          1.5553989632305878,
          -0.03667314280969863,
          0.9672449289548691,
          -0.41921893295127055,
          -0.008531105196320247,
          -2.349285064927045,
          2.225874671564639,
          -1.2196869711308305,
          0.6647596882772865,
          -0.2606693680061513,
          1.0984732304359008,
          1.06417140260567,
          0.7517848048348671
         ],
         "z": [
          -1.1287994879129586,
          -1.5294094821889141,
          0.2727944897369927,
          0.29528153998584533,
          -1.4098770072825768,
          -1.7203226657569375,
          0.2683686213906965,
          -1.4114665856035684,
          0.2807554343812186,
          -1.5882147420636716,
          0.26715193955259053,
          -1.2104861550133499,
          0.3535970085775548,
          0.3502255812985462,
          -1.4898570872119614,
          -1.5160398824956585,
          0.30511402319962594,
          0.4851454523771131,
          0.28097303181881783,
          0.20895027819787995,
          -1.252748894565053,
          0.34106769103577345,
          -1.178010768492054,
          0.34042331395835945,
          0.32224527616349874,
          0.21429621474367125,
          0.2805742440427534,
          0.32496273789964647,
          0.263372031350389,
          -0.9279256993051299,
          0.33946167154197116,
          0.27446898107895834,
          0.25757030975618816,
          0.2993061404749652,
          0.3394192453510853,
          0.26927512943208204,
          0.18381414480545472,
          -1.4128031862786394,
          -0.7038478583408185,
          0.33581494584079336,
          0.29861790901772717,
          0.2737250907378169,
          -1.7633222605492698,
          -0.42910408347738666,
          0.34988044530118234,
          0.3435197400602205,
          0.27600267945662227,
          0.3573049642023289,
          0.31744041494990377,
          0.3011838982340363,
          -1.5915896689118658,
          0.21642973779651242,
          0.34898569646369687,
          0.35207967373655186,
          0.2974774683167921,
          0.4936601463941503,
          0.3793974915722869,
          0.25968683580437535,
          0.3262350207860444,
          0.22214519992975565,
          -0.9870507553952037,
          0.2879985779824503,
          0.22782717233103078,
          -1.5199471594092107,
          0.2769717010000862,
          0.3541976021404574,
          0.22361091490048562,
          0.13107760796855764,
          0.2671444530987494,
          0.26970898063036386,
          -1.5841655990088142,
          0.38039745340873415,
          0.2807381741559589,
          -0.45199220074642793,
          0.27534949657968794,
          0.34074398103100734,
          0.22894330650596584,
          0.34344617037570274,
          0.24788850908980523,
          -1.58201287746313,
          0.20824007399744723,
          -1.5004477204544224,
          0.27711220636599565,
          0.16439793930146634,
          0.34046263824294914,
          0.23931222200429864,
          0.20877999360382216,
          0.29068152440843287,
          -0.930317241094442,
          0.2764724940731635,
          0.2692199091246301,
          0.4145501419358856,
          0.3488659072458544,
          0.2686311743263776,
          0.3339051447459452,
          0.27178231824154186,
          0.33999082631893035,
          0.31105656488512995,
          -1.4709982666887085,
          -1.1144132762476842,
          0.295614347745394,
          0.3580512150320213,
          0.24189485356676552,
          8.514904788526913,
          0.34441372137356246,
          0.39738941434299857,
          0.7333648070501573,
          0.28006058574554465,
          0.30717950140416084,
          0.33772975920011306,
          0.2687948630761293,
          0.3332135263882702,
          0.21022770811022287,
          -1.6109447271971074,
          0.29952444783046067,
          0.34506119224842224,
          -1.2706087870437421,
          0.2484694790708025,
          0.262489802640745,
          0.16527116101457423,
          0.3244595846535043,
          0.3335598849062171,
          0.21982695680462927,
          0.2680864113382795,
          0.8561087775918886,
          0.34775852309635297,
          -1.5182630467024336,
          -1.6918800883079046,
          -1.7766857575277248,
          0.3559487099979422,
          0.3300238885079293,
          -0.952192973053704,
          0.3302723452131779,
          -1.6456790806602268,
          -1.4777371166850226,
          0.3443278465258509,
          0.2692898304871849,
          0.2384796643548462,
          -1.6943814999440874,
          0.31998366587622895,
          0.20441567681036152,
          0.26861903989456465,
          0.471742640522772,
          0.24227127402147847,
          0.26545169787985373,
          0.3649323818863418,
          -1.8778876153115793,
          0.3412491876825872,
          0.2630549308016961,
          0.34148057532153336,
          -1.6408998942363489,
          0.34726066417634954,
          -1.5131400340900496,
          0.261527564828841,
          0.261872008422554,
          0.284988467794568,
          0.26742026746573533,
          0.15568529638268905,
          0.3509956138841145,
          0.2638024972056075,
          0.26588054585040294,
          0.2089422438696821,
          0.2732328877953419,
          -1.6404053531001643,
          -1.4614556924773325,
          0.26550375226841144,
          0.09357350414258123,
          -1.5927969125858532,
          -1.1735179048151445,
          0.2687969093041929,
          0.37611440702553306,
          0.29890987360607135,
          0.26786951590239594,
          0.20874552383835276,
          0.2748565331657707,
          -1.767194350085856,
          0.29716436984311245,
          0.2719072126941944,
          0.19332021515619496,
          0.2648922264567241,
          0.2692737925142773,
          0.2972315862716622,
          0.3484453833370141,
          -1.6908439507035324,
          0.24970392163045374,
          -1.6662379274625285,
          -1.476691105951353,
          0.34712887006485427,
          0.35481176034689466,
          0.3504162570938201,
          -1.1751062616138397,
          0.2657209149401617,
          -1.5373470317000868,
          0.2710546935903285,
          0.2710478703808915,
          0.3316801360575154,
          0.26279289102491377,
          0.2744882487453167,
          0.23866550848620155,
          0.2700697448644204,
          0.26311778978855477,
          0.2679653539713598,
          0.2511656303293297,
          0.2691533564232675,
          -1.7659693053383059,
          -1.4750627594972863,
          0.26655745635967404,
          0.35567976942554425,
          0.20789188441782697,
          0.26916704031315397,
          0.34870938872086443,
          0.2994496776629338,
          0.3441766562897358,
          0.26836916484714873,
          0.2728560908784046,
          0.27213715909431513,
          -1.5267888167274777,
          0.3006840419414239,
          0.2770568521345106,
          0.2932571635872008,
          0.25851410792497603,
          -1.5299684367935857,
          0.3436028379695363,
          -1.4653936360706126,
          -1.6020356429680132,
          0.35020651877547665,
          0.3632697256719093,
          -1.4640937616911556,
          0.3466864203456393,
          -1.319128727715035,
          0.30935928696527926,
          -1.5740080403775782,
          0.27322965650495756,
          0.3698280461927217,
          0.27455230116861784,
          0.34569158042792647,
          0.24422158971025607,
          0.274415858312503,
          0.2701866412708354,
          -0.8538172955615304,
          -1.527798982114347,
          0.2470280855921324,
          -1.4977136452019493,
          -1.75516543379567,
          0.24981076715695244,
          0.34653319627499346,
          -1.5306171558390507,
          0.26619724951230145,
          0.17929825253961032,
          0.3414476390676519,
          13.971448861662592,
          0.3056632584403967,
          0.30733250678529533,
          0.19291965335744207,
          -1.4515026488366276,
          -1.5890801118812468,
          0.2429993103041106,
          0.26518844493915056,
          -1.964756284876278,
          0.26874342121144734,
          0.2696036819588417,
          -1.6971733116991579,
          0.33979409352274537,
          0.1765915282724923,
          0.27338522398581794,
          -1.850156657130671,
          0.26886078443934663,
          0.3371781795725816,
          0.2651948162079253,
          0.31292402542169684,
          0.21601116799292905,
          0.30721597172742515,
          0.2673237351946375,
          -1.7817585915090233,
          0.26851124015980604,
          0.10983507796295491,
          0.3057830074436701,
          0.34171421397332685,
          0.21882548779607175,
          0.2400199002729248,
          0.38388108285848255,
          -1.2092222205897916,
          -1.806344368893893,
          0.32083070728447793,
          0.309058574238642,
          0.26726504162570974,
          0.2705733454576014,
          0.22592204795187948,
          0.2646697564242398,
          0.28447822648555926,
          0.2198918933239758,
          0.2742818175780141,
          0.27460412211615665,
          0.27468772497546373,
          0.2641445353737819,
          0.3162394140743558,
          0.25687065715573537,
          0.29523304048779525,
          0.3116847432675162,
          0.2682531645089291,
          0.17178495556400003,
          0.35035034717984126,
          0.390820960544888,
          0.26635668595662226,
          0.27604775465355547,
          0.0525010967816723,
          0.26503403453680946,
          0.29962576680247394,
          0.2676929677673448,
          0.222798263934068,
          -1.7003367076406308,
          -1.6938142357101105,
          0.2664418774078174,
          0.17294659139726262,
          -0.3652161290016049,
          0.1600355679323287,
          0.2628864314861083,
          0.27117391537118957,
          0.2670873321704054,
          0.31354104966521595,
          0.24319179690504106,
          0.2161915057711909,
          0.2678252743733278,
          0.26751827225416625,
          0.2080658217467649,
          0.2668909943819493,
          0.20875972465507744,
          0.2289329717517273,
          0.26957564888683105,
          0.2717221153127387,
          -1.6250049970716771,
          0.2647367854713106,
          0.26484825216352276,
          0.17663999911941394,
          0.3011357403022805,
          0.2689708455322655,
          -0.027419141964571257,
          0.27483454258478746,
          0.3331962906365763,
          -0.07403262705921321,
          0.27205122618991034,
          -0.26634767326291997,
          0.32513590241565554,
          -1.004977276946808,
          0.3416768320310526,
          0.2518824426689146,
          0.24449070287738012,
          0.341561127874176,
          0.27074332801185447,
          0.27877177588055363,
          0.24484400535305534,
          0.25868143002240007,
          0.34217600375181434,
          -0.931036636424944,
          0.27604400741858787,
          0.26593846816253425,
          0.2675664191913303,
          0.3617500782072722,
          0.3479115740491996,
          0.30957051945347547,
          0.35552964309622853,
          0.2673487297862542,
          -0.7751127000523895,
          0.2069367312302058,
          -0.04332708405408578,
          0.34121919234960557,
          0.22423709983586249,
          0.3458579050146668,
          0.2653271629251592,
          0.2675461658308012,
          0.26893647974846013,
          0.35265569907717204,
          -1.7827741616877208,
          0.3109363298351843,
          0.2629607964925165,
          0.2719495729199438,
          0.2680114966271066,
          0.18183817355838275,
          0.275769317244341,
          0.3596536754725565,
          -0.8483251791886197,
          0.23329129318311434,
          0.2302622553851468,
          0.26652406821832364,
          0.26181725813987106,
          0.34660895330744107,
          0.27020358270808803,
          -1.8486697906318996,
          0.30650225121862573,
          0.25775093157762197,
          0.2663508600976847,
          -0.02729868644784028,
          0.27427727767423865,
          0.26910642999466616,
          -1.5321506554970623,
          0.3041435682688202,
          0.26827666483262275,
          0.23190459273276964,
          0.2750528877318136,
          0.23907118104975786,
          0.2733975257864406,
          -1.5341582946679793,
          0.19175107108331033,
          -1.5343256775194671,
          0.32887327941740396,
          0.3045463985240172,
          0.27388296903986054,
          0.3032439056900854,
          0.26762155531302245,
          0.2354364248146123,
          -1.524931773484289,
          0.3409920917527498,
          0.27655226177660774,
          0.2607911808625507,
          -1.5719691597989358,
          -0.8939418459281308,
          0.3265195261304256,
          0.3402077649728878,
          0.2979328101589509,
          1.7127446631906633,
          -0.9282895256180901,
          -1.5667825299486382,
          0.37967230908996347,
          0.33635593083747345,
          0.21835336261781577,
          0.2689964484099393,
          -0.9099947167534933,
          0.2669128530277659,
          0.2677045023610474,
          0.36096760637179526,
          0.311454437961842,
          0.3345976716722535,
          0.33236094005452355,
          0.2314763069970345,
          -0.1165976474617813,
          0.2722862516957743,
          0.2644430844252847,
          -0.9705575022375549,
          0.22464499866077278,
          -0.9851573407906209,
          -1.022101982537661,
          0.35505638243878646,
          -1.529179586947759,
          -1.2742925454474545,
          0.34237476146831664,
          0.15138858277561917,
          0.9302655541095859,
          0.26533050407510317,
          0.2463718922697456,
          0.3026072076632181,
          0.25756669823241773,
          0.29981127923815387,
          0.360942970192386,
          0.2695117598214453,
          0.26720485718485504,
          0.2628328133224546,
          0.13074499356049524,
          0.2700244955479997,
          0.26737678023073586,
          0.26622562983229575,
          0.3294277526228164,
          0.26532043125003923,
          0.35897413962338437,
          0.2721340458526289,
          0.2700145929671911,
          5.679524797417626,
          0.19544628869153174,
          0.2295706619083997,
          0.2681266337183249,
          -1.6078261334285484,
          0.2738018372874952,
          0.26639104367733496,
          -0.2952797249078607,
          0.38808752502479715,
          0.28475515193829587,
          0.29761166908298375,
          -1.4474470816284553,
          0.34815246864821403,
          0.22109376279920032,
          -1.5840142495976575,
          0.3756555733651372,
          0.18896195401336202,
          -0.5063304133304298,
          -0.0925382585420925,
          0.26867872854655217,
          0.3746201267638278,
          0.30805296614988387,
          0.26941472577889236,
          0.28672735428718277,
          0.338981961843781,
          0.30797279862400495,
          -1.532477579998716,
          0.266560322230109,
          0.39031733406419783,
          0.3377571261407371,
          0.15148304577612223,
          0.3912402531179098,
          -0.29155061190570497,
          0.2532192402715646,
          0.26577707557233277,
          0.3095727600154102,
          0.34783150386620143,
          0.2569357786079745,
          0.26798444676384764,
          0.2679511213210031,
          0.23562168704876518,
          -1.3462800547079998,
          0.29943150432407445,
          0.26506290308820474,
          -1.5263569783594437,
          0.3805343306949289,
          0.4469586274824994,
          0.2642295546250404,
          -1.6995527434296427,
          0.2367438058445224,
          0.35468587964233256,
          0.3545229064024265,
          -1.7045739809168623,
          0.2696115097642435,
          -0.89861416804446,
          0.2663684015212267,
          0.2552340125675539,
          -1.5245596027408603,
          -1.6361142183191555,
          0.17995655635302385,
          0.30792471099767593,
          -0.947726194885003,
          0.21955940944861618,
          0.15437238144936297,
          0.2707040294660604,
          0.24981784960787512,
          0.2385807099944298,
          0.3440324542239016,
          0.2987313332302719,
          0.29348324725694075,
          0.2753598886186812,
          0.30949149627797956,
          0.2711155712140154,
          0.26158415527051493,
          0.38940123879220534,
          0.2470275743938285,
          0.347778892950689,
          0.22078703529583407
         ]
        },
        {
         "hovertemplate": "class=%{marker.color}<br>PC1=%{x}<br>PC2=%{y}<br>PC3=%{z}<extra></extra>",
         "legendgroup": "1",
         "marker": {
          "color": [
           1,
           1,
           1,
           1
          ],
          "coloraxis": "coloraxis",
          "symbol": "diamond"
         },
         "mode": "markers",
         "name": "1",
         "scene": "scene",
         "showlegend": true,
         "type": "scatter3d",
         "x": [
          19.659134607803935,
          11.393302099737214,
          7.9737488789144555,
          31.63968084347442
         ],
         "y": [
          0.9767885466653433,
          0.4581920819602662,
          -1.255760396747387,
          0.08182210828643853
         ],
         "z": [
          -1.285881657197722,
          0.3840003661315076,
          -0.34034521841458,
          0.6385885253586447
         ]
        }
       ],
       "layout": {
        "coloraxis": {
         "colorbar": {
          "title": {
           "text": "class"
          }
         },
         "colorscale": [
          [
           0,
           "#0d0887"
          ],
          [
           0.1111111111111111,
           "#46039f"
          ],
          [
           0.2222222222222222,
           "#7201a8"
          ],
          [
           0.3333333333333333,
           "#9c179e"
          ],
          [
           0.4444444444444444,
           "#bd3786"
          ],
          [
           0.5555555555555556,
           "#d8576b"
          ],
          [
           0.6666666666666666,
           "#ed7953"
          ],
          [
           0.7777777777777778,
           "#fb9f3a"
          ],
          [
           0.8888888888888888,
           "#fdca26"
          ],
          [
           1,
           "#f0f921"
          ]
         ]
        },
        "legend": {
         "title": {
          "text": "class"
         },
         "tracegroupgap": 0,
         "x": 0,
         "y": 1
        },
        "margin": {
         "t": 60
        },
        "scene": {
         "domain": {
          "x": [
           0,
           1
          ],
          "y": [
           0,
           1
          ]
         },
         "xaxis": {
          "title": {
           "text": "PC1"
          }
         },
         "yaxis": {
          "title": {
           "text": "PC2"
          }
         },
         "zaxis": {
          "title": {
           "text": "PC3"
          }
         }
        },
        "template": {
         "data": {
          "bar": [
           {
            "error_x": {
             "color": "#2a3f5f"
            },
            "error_y": {
             "color": "#2a3f5f"
            },
            "marker": {
             "line": {
              "color": "#E5ECF6",
              "width": 0.5
             },
             "pattern": {
              "fillmode": "overlay",
              "size": 10,
              "solidity": 0.2
             }
            },
            "type": "bar"
           }
          ],
          "barpolar": [
           {
            "marker": {
             "line": {
              "color": "#E5ECF6",
              "width": 0.5
             },
             "pattern": {
              "fillmode": "overlay",
              "size": 10,
              "solidity": 0.2
             }
            },
            "type": "barpolar"
           }
          ],
          "carpet": [
           {
            "aaxis": {
             "endlinecolor": "#2a3f5f",
             "gridcolor": "white",
             "linecolor": "white",
             "minorgridcolor": "white",
             "startlinecolor": "#2a3f5f"
            },
            "baxis": {
             "endlinecolor": "#2a3f5f",
             "gridcolor": "white",
             "linecolor": "white",
             "minorgridcolor": "white",
             "startlinecolor": "#2a3f5f"
            },
            "type": "carpet"
           }
          ],
          "choropleth": [
           {
            "colorbar": {
             "outlinewidth": 0,
             "ticks": ""
            },
            "type": "choropleth"
           }
          ],
          "contour": [
           {
            "colorbar": {
             "outlinewidth": 0,
             "ticks": ""
            },
            "colorscale": [
             [
              0,
              "#0d0887"
             ],
             [
              0.1111111111111111,
              "#46039f"
             ],
             [
              0.2222222222222222,
              "#7201a8"
             ],
             [
              0.3333333333333333,
              "#9c179e"
             ],
             [
              0.4444444444444444,
              "#bd3786"
             ],
             [
              0.5555555555555556,
              "#d8576b"
             ],
             [
              0.6666666666666666,
              "#ed7953"
             ],
             [
              0.7777777777777778,
              "#fb9f3a"
             ],
             [
              0.8888888888888888,
              "#fdca26"
             ],
             [
              1,
              "#f0f921"
             ]
            ],
            "type": "contour"
           }
          ],
          "contourcarpet": [
           {
            "colorbar": {
             "outlinewidth": 0,
             "ticks": ""
            },
            "type": "contourcarpet"
           }
          ],
          "heatmap": [
           {
            "colorbar": {
             "outlinewidth": 0,
             "ticks": ""
            },
            "colorscale": [
             [
              0,
              "#0d0887"
             ],
             [
              0.1111111111111111,
              "#46039f"
             ],
             [
              0.2222222222222222,
              "#7201a8"
             ],
             [
              0.3333333333333333,
              "#9c179e"
             ],
             [
              0.4444444444444444,
              "#bd3786"
             ],
             [
              0.5555555555555556,
              "#d8576b"
             ],
             [
              0.6666666666666666,
              "#ed7953"
             ],
             [
              0.7777777777777778,
              "#fb9f3a"
             ],
             [
              0.8888888888888888,
              "#fdca26"
             ],
             [
              1,
              "#f0f921"
             ]
            ],
            "type": "heatmap"
           }
          ],
          "heatmapgl": [
           {
            "colorbar": {
             "outlinewidth": 0,
             "ticks": ""
            },
            "colorscale": [
             [
              0,
              "#0d0887"
             ],
             [
              0.1111111111111111,
              "#46039f"
             ],
             [
              0.2222222222222222,
              "#7201a8"
             ],
             [
              0.3333333333333333,
              "#9c179e"
             ],
             [
              0.4444444444444444,
              "#bd3786"
             ],
             [
              0.5555555555555556,
              "#d8576b"
             ],
             [
              0.6666666666666666,
              "#ed7953"
             ],
             [
              0.7777777777777778,
              "#fb9f3a"
             ],
             [
              0.8888888888888888,
              "#fdca26"
             ],
             [
              1,
              "#f0f921"
             ]
            ],
            "type": "heatmapgl"
           }
          ],
          "histogram": [
           {
            "marker": {
             "pattern": {
              "fillmode": "overlay",
              "size": 10,
              "solidity": 0.2
             }
            },
            "type": "histogram"
           }
          ],
          "histogram2d": [
           {
            "colorbar": {
             "outlinewidth": 0,
             "ticks": ""
            },
            "colorscale": [
             [
              0,
              "#0d0887"
             ],
             [
              0.1111111111111111,
              "#46039f"
             ],
             [
              0.2222222222222222,
              "#7201a8"
             ],
             [
              0.3333333333333333,
              "#9c179e"
             ],
             [
              0.4444444444444444,
              "#bd3786"
             ],
             [
              0.5555555555555556,
              "#d8576b"
             ],
             [
              0.6666666666666666,
              "#ed7953"
             ],
             [
              0.7777777777777778,
              "#fb9f3a"
             ],
             [
              0.8888888888888888,
              "#fdca26"
             ],
             [
              1,
              "#f0f921"
             ]
            ],
            "type": "histogram2d"
           }
          ],
          "histogram2dcontour": [
           {
            "colorbar": {
             "outlinewidth": 0,
             "ticks": ""
            },
            "colorscale": [
             [
              0,
              "#0d0887"
             ],
             [
              0.1111111111111111,
              "#46039f"
             ],
             [
              0.2222222222222222,
              "#7201a8"
             ],
             [
              0.3333333333333333,
              "#9c179e"
             ],
             [
              0.4444444444444444,
              "#bd3786"
             ],
             [
              0.5555555555555556,
              "#d8576b"
             ],
             [
              0.6666666666666666,
              "#ed7953"
             ],
             [
              0.7777777777777778,
              "#fb9f3a"
             ],
             [
              0.8888888888888888,
              "#fdca26"
             ],
             [
              1,
              "#f0f921"
             ]
            ],
            "type": "histogram2dcontour"
           }
          ],
          "mesh3d": [
           {
            "colorbar": {
             "outlinewidth": 0,
             "ticks": ""
            },
            "type": "mesh3d"
           }
          ],
          "parcoords": [
           {
            "line": {
             "colorbar": {
              "outlinewidth": 0,
              "ticks": ""
             }
            },
            "type": "parcoords"
           }
          ],
          "pie": [
           {
            "automargin": true,
            "type": "pie"
           }
          ],
          "scatter": [
           {
            "marker": {
             "colorbar": {
              "outlinewidth": 0,
              "ticks": ""
             }
            },
            "type": "scatter"
           }
          ],
          "scatter3d": [
           {
            "line": {
             "colorbar": {
              "outlinewidth": 0,
              "ticks": ""
             }
            },
            "marker": {
             "colorbar": {
              "outlinewidth": 0,
              "ticks": ""
             }
            },
            "type": "scatter3d"
           }
          ],
          "scattercarpet": [
           {
            "marker": {
             "colorbar": {
              "outlinewidth": 0,
              "ticks": ""
             }
            },
            "type": "scattercarpet"
           }
          ],
          "scattergeo": [
           {
            "marker": {
             "colorbar": {
              "outlinewidth": 0,
              "ticks": ""
             }
            },
            "type": "scattergeo"
           }
          ],
          "scattergl": [
           {
            "marker": {
             "colorbar": {
              "outlinewidth": 0,
              "ticks": ""
             }
            },
            "type": "scattergl"
           }
          ],
          "scattermapbox": [
           {
            "marker": {
             "colorbar": {
              "outlinewidth": 0,
              "ticks": ""
             }
            },
            "type": "scattermapbox"
           }
          ],
          "scatterpolar": [
           {
            "marker": {
             "colorbar": {
              "outlinewidth": 0,
              "ticks": ""
             }
            },
            "type": "scatterpolar"
           }
          ],
          "scatterpolargl": [
           {
            "marker": {
             "colorbar": {
              "outlinewidth": 0,
              "ticks": ""
             }
            },
            "type": "scatterpolargl"
           }
          ],
          "scatterternary": [
           {
            "marker": {
             "colorbar": {
              "outlinewidth": 0,
              "ticks": ""
             }
            },
            "type": "scatterternary"
           }
          ],
          "surface": [
           {
            "colorbar": {
             "outlinewidth": 0,
             "ticks": ""
            },
            "colorscale": [
             [
              0,
              "#0d0887"
             ],
             [
              0.1111111111111111,
              "#46039f"
             ],
             [
              0.2222222222222222,
              "#7201a8"
             ],
             [
              0.3333333333333333,
              "#9c179e"
             ],
             [
              0.4444444444444444,
              "#bd3786"
             ],
             [
              0.5555555555555556,
              "#d8576b"
             ],
             [
              0.6666666666666666,
              "#ed7953"
             ],
             [
              0.7777777777777778,
              "#fb9f3a"
             ],
             [
              0.8888888888888888,
              "#fdca26"
             ],
             [
              1,
              "#f0f921"
             ]
            ],
            "type": "surface"
           }
          ],
          "table": [
           {
            "cells": {
             "fill": {
              "color": "#EBF0F8"
             },
             "line": {
              "color": "white"
             }
            },
            "header": {
             "fill": {
              "color": "#C8D4E3"
             },
             "line": {
              "color": "white"
             }
            },
            "type": "table"
           }
          ]
         },
         "layout": {
          "annotationdefaults": {
           "arrowcolor": "#2a3f5f",
           "arrowhead": 0,
           "arrowwidth": 1
          },
          "autotypenumbers": "strict",
          "coloraxis": {
           "colorbar": {
            "outlinewidth": 0,
            "ticks": ""
           }
          },
          "colorscale": {
           "diverging": [
            [
             0,
             "#8e0152"
            ],
            [
             0.1,
             "#c51b7d"
            ],
            [
             0.2,
             "#de77ae"
            ],
            [
             0.3,
             "#f1b6da"
            ],
            [
             0.4,
             "#fde0ef"
            ],
            [
             0.5,
             "#f7f7f7"
            ],
            [
             0.6,
             "#e6f5d0"
            ],
            [
             0.7,
             "#b8e186"
            ],
            [
             0.8,
             "#7fbc41"
            ],
            [
             0.9,
             "#4d9221"
            ],
            [
             1,
             "#276419"
            ]
           ],
           "sequential": [
            [
             0,
             "#0d0887"
            ],
            [
             0.1111111111111111,
             "#46039f"
            ],
            [
             0.2222222222222222,
             "#7201a8"
            ],
            [
             0.3333333333333333,
             "#9c179e"
            ],
            [
             0.4444444444444444,
             "#bd3786"
            ],
            [
             0.5555555555555556,
             "#d8576b"
            ],
            [
             0.6666666666666666,
             "#ed7953"
            ],
            [
             0.7777777777777778,
             "#fb9f3a"
            ],
            [
             0.8888888888888888,
             "#fdca26"
            ],
            [
             1,
             "#f0f921"
            ]
           ],
           "sequentialminus": [
            [
             0,
             "#0d0887"
            ],
            [
             0.1111111111111111,
             "#46039f"
            ],
            [
             0.2222222222222222,
             "#7201a8"
            ],
            [
             0.3333333333333333,
             "#9c179e"
            ],
            [
             0.4444444444444444,
             "#bd3786"
            ],
            [
             0.5555555555555556,
             "#d8576b"
            ],
            [
             0.6666666666666666,
             "#ed7953"
            ],
            [
             0.7777777777777778,
             "#fb9f3a"
            ],
            [
             0.8888888888888888,
             "#fdca26"
            ],
            [
             1,
             "#f0f921"
            ]
           ]
          },
          "colorway": [
           "#636efa",
           "#EF553B",
           "#00cc96",
           "#ab63fa",
           "#FFA15A",
           "#19d3f3",
           "#FF6692",
           "#B6E880",
           "#FF97FF",
           "#FECB52"
          ],
          "font": {
           "color": "#2a3f5f"
          },
          "geo": {
           "bgcolor": "white",
           "lakecolor": "white",
           "landcolor": "#E5ECF6",
           "showlakes": true,
           "showland": true,
           "subunitcolor": "white"
          },
          "hoverlabel": {
           "align": "left"
          },
          "hovermode": "closest",
          "mapbox": {
           "style": "light"
          },
          "paper_bgcolor": "white",
          "plot_bgcolor": "#E5ECF6",
          "polar": {
           "angularaxis": {
            "gridcolor": "white",
            "linecolor": "white",
            "ticks": ""
           },
           "bgcolor": "#E5ECF6",
           "radialaxis": {
            "gridcolor": "white",
            "linecolor": "white",
            "ticks": ""
           }
          },
          "scene": {
           "xaxis": {
            "backgroundcolor": "#E5ECF6",
            "gridcolor": "white",
            "gridwidth": 2,
            "linecolor": "white",
            "showbackground": true,
            "ticks": "",
            "zerolinecolor": "white"
           },
           "yaxis": {
            "backgroundcolor": "#E5ECF6",
            "gridcolor": "white",
            "gridwidth": 2,
            "linecolor": "white",
            "showbackground": true,
            "ticks": "",
            "zerolinecolor": "white"
           },
           "zaxis": {
            "backgroundcolor": "#E5ECF6",
            "gridcolor": "white",
            "gridwidth": 2,
            "linecolor": "white",
            "showbackground": true,
            "ticks": "",
            "zerolinecolor": "white"
           }
          },
          "shapedefaults": {
           "line": {
            "color": "#2a3f5f"
           }
          },
          "ternary": {
           "aaxis": {
            "gridcolor": "white",
            "linecolor": "white",
            "ticks": ""
           },
           "baxis": {
            "gridcolor": "white",
            "linecolor": "white",
            "ticks": ""
           },
           "bgcolor": "#E5ECF6",
           "caxis": {
            "gridcolor": "white",
            "linecolor": "white",
            "ticks": ""
           }
          },
          "title": {
           "x": 0.05
          },
          "xaxis": {
           "automargin": true,
           "gridcolor": "white",
           "linecolor": "white",
           "ticks": "",
           "title": {
            "standoff": 15
           },
           "zerolinecolor": "white",
           "zerolinewidth": 2
          },
          "yaxis": {
           "automargin": true,
           "gridcolor": "white",
           "linecolor": "white",
           "ticks": "",
           "title": {
            "standoff": 15
           },
           "zerolinecolor": "white",
           "zerolinewidth": 2
          }
         }
        },
        "width": 800
       }
      },
      "text/html": [
       "<div>                            <div id=\"ec74f54c-5214-4d9d-8bc6-fc9583b073b5\" class=\"plotly-graph-div\" style=\"height:525px; width:800px;\"></div>            <script type=\"text/javascript\">                require([\"plotly\"], function(Plotly) {                    window.PLOTLYENV=window.PLOTLYENV || {};                                    if (document.getElementById(\"ec74f54c-5214-4d9d-8bc6-fc9583b073b5\")) {                    Plotly.newPlot(                        \"ec74f54c-5214-4d9d-8bc6-fc9583b073b5\",                        [{\"hovertemplate\":\"class=%{marker.color}<br>PC1=%{x}<br>PC2=%{y}<br>PC3=%{z}<extra></extra>\",\"legendgroup\":\"0\",\"marker\":{\"color\":[0,0,0,0,0,0,0,0,0,0,0,0,0,0,0,0,0,0,0,0,0,0,0,0,0,0,0,0,0,0,0,0,0,0,0,0,0,0,0,0,0,0,0,0,0,0,0,0,0,0,0,0,0,0,0,0,0,0,0,0,0,0,0,0,0,0,0,0,0,0,0,0,0,0,0,0,0,0,0,0,0,0,0,0,0,0,0,0,0,0,0,0,0,0,0,0,0,0,0,0,0,0,0,0,0,0,0,0,0,0,0,0,0,0,0,0,0,0,0,0,0,0,0,0,0,0,0,0,0,0,0,0,0,0,0,0,0,0,0,0,0,0,0,0,0,0,0,0,0,0,0,0,0,0,0,0,0,0,0,0,0,0,0,0,0,0,0,0,0,0,0,0,0,0,0,0,0,0,0,0,0,0,0,0,0,0,0,0,0,0,0,0,0,0,0,0,0,0,0,0,0,0,0,0,0,0,0,0,0,0,0,0,0,0,0,0,0,0,0,0,0,0,0,0,0,0,0,0,0,0,0,0,0,0,0,0,0,0,0,0,0,0,0,0,0,0,0,0,0,0,0,0,0,0,0,0,0,0,0,0,0,0,0,0,0,0,0,0,0,0,0,0,0,0,0,0,0,0,0,0,0,0,0,0,0,0,0,0,0,0,0,0,0,0,0,0,0,0,0,0,0,0,0,0,0,0,0,0,0,0,0,0,0,0,0,0,0,0,0,0,0,0,0,0,0,0,0,0,0,0,0,0,0,0,0,0,0,0,0,0,0,0,0,0,0,0,0,0,0,0,0,0,0,0,0,0,0,0,0,0,0,0,0,0,0,0,0,0,0,0,0,0,0,0,0,0,0,0,0,0,0,0,0,0,0,0,0,0,0,0,0,0,0,0,0,0,0,0,0,0,0,0,0,0,0,0,0,0,0,0,0,0,0,0,0,0,0,0,0,0,0,0,0,0,0,0,0,0,0,0,0,0,0,0,0,0,0,0,0,0,0,0,0,0,0,0,0,0,0,0,0,0,0,0,0,0,0,0,0,0,0,0,0,0,0,0,0,0,0,0,0,0,0,0,0,0,0,0,0,0,0,0,0,0,0,0,0,0,0,0,0,0,0,0,0,0,0,0,0,0,0,0,0,0,0,0,0,0,0,0,0,0,0,0,0,0,0,0,0,0,0,0,0,0,0,0,0,0,0,0,0,0,0,0,0,0,0,0,0,0,0,0,0],\"coloraxis\":\"coloraxis\",\"symbol\":\"circle\"},\"mode\":\"markers\",\"name\":\"0\",\"scene\":\"scene\",\"showlegend\":true,\"x\":[-0.21185071726899632,-0.29901957092498327,0.1836060152047331,1.1705005124223378,-0.2248455695622448,-0.02561787474463994,-0.21567902807847222,-0.20661237739180896,0.4496404274259988,-0.2778628018138107,-0.20723138230809832,-0.23602249988338994,0.3713198081839479,0.022823347020925523,-0.2279807249427313,-0.22011206558466773,0.08931124983074039,-0.1721608806505398,-0.10883788820999937,-0.1244013675957026,-0.19130678925363856,-0.14063660216688834,1.3003301772946707,-0.15432994681471915,-0.22808538476274545,-0.2102434335010704,0.5438232329001926,-0.24361130568832076,-0.03139765683034431,0.040890026826510745,-0.13718432898325197,0.27408961079668936,-0.3371460887127122,0.043660428528691037,-0.19713596089266325,-0.052012256488272866,0.21314565496583654,-0.23548678058174882,-0.18528598809514077,0.02359536719191872,-0.2099638090338481,-0.08767171071372126,-0.13809274707982228,-0.0628293447408096,-0.11888448817067875,-0.10078785157372214,-0.22372896890986035,0.12916906550532875,-0.21526326857095415,-0.09326448561894271,-0.2807064756492465,-0.3001850418874899,-0.22043877551060198,-0.14025224967273694,-0.1551332335315077,0.16017587002011163,-0.11021292701715169,-0.01257499848442333,-0.2552051664011196,-0.012237406564250647,0.0238585363286801,1.4645131006469108,0.06690602450213576,-0.253939195389972,0.152182933958835,-0.11952581778579788,-0.2340189521500665,-0.08232462178330859,-0.23458216568304383,-0.2247363703714773,-0.2134703318634598,-0.29796394309495616,0.007215403771823011,0.1226134534902901,-0.2548918549936737,-0.1056034377496186,-0.0693526723544562,0.12335073669819102,-0.21067055330671008,-0.2708538395938862,-0.16757519221971717,-0.26807839582769993,-0.05474937152171368,-0.351544844642648,-0.2517814074118927,-0.10852894411443341,-0.16381406924603323,1.2601898124832325,-0.2085421149549157,0.17967476068383167,-0.1107312641476072,-0.3131802348446573,-0.07857752607256639,0.014076390455994861,0.27021459163497147,-0.04484977203920457,-0.23500515327838037,-0.12175820012487877,-0.2241197165618758,0.9370391152303955,1.130246254661204,-0.16245032397196435,-0.3145172780973439,-0.2803219760763171,-0.21378316368215108,-0.12193569179993498,-0.20145770948955347,0.028108174231511632,-0.3138859085518668,-0.2690561323821514,-0.16134028037652154,-0.05956163369824077,-0.31843955104270116,-0.029210921760029165,-0.1468040845827122,-0.131378048006747,-0.1313792754003989,0.0456792032637695,-0.31307781094997605,0.9238261546120256,-0.25327844949577716,-0.20014612957127847,0.5442847710808629,-0.15686718397234475,-0.20155260573330347,-0.2821190112241519,-0.19327768858475114,0.21305725587117705,-0.17361614068975392,-0.01467019226116706,-0.1352973051427536,-0.13974302515947698,-0.029178385364921604,-0.2911653980600089,-0.2063718786938037,-0.12792469165672601,-0.13779966319215284,-0.17029566075853117,-0.20816491637392276,-0.27544403193965034,-0.22525274860075828,-0.3040923098211482,-0.14010372349104444,-0.25492175222373875,-0.18679377418735618,-0.2764227001172293,-0.017719076223199556,0.11088881777677495,-0.228559162746748,-0.1487772629870329,-0.2365217579860978,-0.2352433765051768,-0.2452959780954747,-0.34393097794094724,-0.26965659167704253,-0.23481876242625924,-0.31125993199919355,0.012720878376581977,-0.04057435749976705,-0.2112150222268851,-0.14678688795677658,-0.03774391593804479,-0.059155938302579224,-0.20057829192638746,-0.2159058553074489,-0.27116880870868315,-0.31784741772375713,-0.1544137559971914,-0.24654468816846514,-0.05078020992693441,-0.17542113478097282,-0.26325373931269064,-0.1425884129157771,-0.31141213923125927,0.19225501939130427,-0.1177284557787657,-0.29434179013578093,-0.17994030115071963,-0.2684083696241575,-0.26968968102655866,-0.1692028898066042,1.4641263705994558,-0.09692892794734881,0.011751881132804431,-0.2726194511791581,-0.1568196563412286,0.048412509236525,0.14766040793353644,0.09264892524043786,0.018629373751412805,-0.07887079608633119,-0.2086805259924755,-0.13962664349433204,-0.17792780468020658,-0.3325258323950578,-0.17893196284338236,-0.32220489979199224,-0.0845318446751969,-0.29020704050307383,-0.14452754263355455,-0.26969188346487405,-0.2572658493800283,-0.3296023463896253,-0.21328949622969517,-0.19183619971605226,0.07451656054098334,-0.23433744407133952,-0.033172702724918464,0.03890952323577751,-0.11813255970719333,-0.2199446253042119,-0.2548646494313703,-0.013204917073583374,-0.2921233617649374,-0.32719053353037747,-0.03597001134590646,-0.2912622082219966,-0.24992896404079926,-0.12205319735732692,-0.18651705972231095,-0.08313628326915053,-0.20139220355784684,-0.2739829959842791,-0.2428394504780371,-0.023771217313786223,0.06599806286181156,-0.08823336311993148,-0.18169948077947537,-0.0326893721471924,-0.2724031329086742,-0.20426628313117523,-0.18744738520166612,0.08386694227508053,0.17087586922696257,0.1392008173761755,-0.018382640230261375,-0.0690199820266622,0.36540462605510604,-0.3144633720910034,-0.18178840900681945,-0.21256348837029426,-0.28152415632536965,-0.2076231913046363,-0.029194983017985558,-0.32451719783638017,-0.1017713011947358,-0.2725126133188035,-0.19259937546952105,-0.01912272991405256,-0.1389089972828599,0.3777357351058779,0.15493760744136573,-0.21020023901851898,-0.13444319178156472,0.2935956842470257,-0.27595929992917567,-0.25097388522526587,-0.31141668536973166,-0.2794482795004232,-0.23662571457108808,-0.03974582273343283,-0.19622658637324958,-0.21391233537799614,-0.17445057173893652,0.008438917389087246,-0.14055423096255032,-0.27405685447611206,-0.24785971104438423,-0.24995269228129474,-0.2027471498829873,-0.2748140263504027,-0.26310705188722094,-0.29157374898608057,-0.17696631437407268,-0.19091482933068765,-0.30932364176640376,-0.2655996196285999,-0.11966475001428635,-0.24972091539649668,-0.24899654788078218,-0.11272403097635429,-0.11495269334386694,-0.15488810045526852,-0.1612270281181101,-0.2370455705496063,-0.22072308316524106,-0.21258462843495293,-0.2185105183864057,-0.3022196086616639,-0.1754622204471695,-0.2612393898306716,-0.21776357679550398,0.1646809487907476,-0.19922442926302714,-0.17248563354072552,-0.22642840772069045,-0.2066166799955388,-0.29015069592717474,-0.21911746509545427,-0.2698633987194275,-0.16236660464091687,-0.20646782044522483,-0.2559582006809391,-0.1687445365908922,0.13303408373097647,-0.21961806709901274,-0.2857264014069639,-0.30346781682328156,-0.2906204163632164,-0.18679475438978171,-0.2022356880152204,0.22746977073947122,-0.13895236549746345,-0.2215785950939822,-0.21811518522574672,-0.18069827954445494,-0.18682768104105252,-0.1926368613120268,-0.2323642029017709,-0.2617556923243818,-0.21106782417730605,-0.2668789046655101,-0.14287434885168138,-0.24624829523559294,-0.23295743059114046,-0.18481760785514945,-0.278845632043843,-0.29700167756857426,-0.19633856186354948,-0.2097296244897116,-0.17426779872854073,-0.16309634856041821,-0.19320856318968765,-0.07847637979790897,-0.13791917160469683,-0.33030768214836354,-0.09303266984042372,-0.013057345776839228,-0.18805844421540469,-0.22211304665291168,-0.28997497431545377,-0.17722278194100363,-0.29714863000268266,-0.18590608956136156,-0.12978034957806844,-0.0908231735665258,-0.2866393483313762,-0.1321223356567643,-0.2422604908690168,-0.20376269313614429,-0.28466452993955915,-0.26180094823977074,-0.0926483461310545,-0.2804283776475601,0.4512941519826815,-0.20670587609320717,-0.2170666552190112,-0.18821887688098,-0.2068702889688989,-0.11392200231130045,-0.10348726805772084,-0.25879429742683285,-0.2200476048784902,-0.269164302313972,-0.22771433863871085,-0.20058799337265854,-0.15373557855016715,-0.21131249812327482,-0.2156589051597654,-0.14576690781237944,-0.03973371080054912,-0.2011903038931285,-0.2382462150449683,-0.2647602101769477,-0.3279165242845414,-0.11738916266064782,-0.13861055049777457,-0.3033525952143682,-0.335295208793939,-0.1738897835534037,-0.17599279863039874,-0.2792997992085376,-0.24545195954417853,-0.10194495246858747,-0.2277145602621435,-0.24087011508742273,-0.23806695086605797,0.0002100253332662966,-0.24617710669809,-0.21093611212587984,-0.23638143764771985,0.06488437718711891,-0.2800408320067218,-0.24053538930285506,-0.27994467616737206,-0.16506423930680073,-0.15316543466669416,-0.23746958011337985,-0.08908059208007983,0.035273289411415276,-0.12577578532964764,-0.16623028463069034,-0.22431594870653682,-0.22683823857652258,-0.15954616024763849,-0.30871156827111645,0.0409474457916458,0.01011343298844536,-0.24716599969892783,-0.18614748720736501,-0.21161237749806366,-0.24191244366716083,-0.2822210002956963,-0.26701296725516627,-0.1996412113835977,-0.08372777098477856,-0.2384279735234072,-0.20737434413011693,-0.2568409120450335,-0.06017217386430994,-0.20233848911747201,-0.08755713904767425,-0.10049752865722623,-0.10170324706803041,-0.26962971933574315,-0.27278541151646296,1.0026479250166787,-0.2636964725113157,-0.27042613377306063,-0.1165307857107384,-0.19207136672416694,-0.12563804891928096,-0.19052655770228635,-0.1439950354840471,-0.23803605551937648,0.1118111186716014,-0.1724834665945566,-0.0905805984544548,-0.31057681956595157,-0.16586215789140615,-0.22957427196963218,-0.14829826938218033,-0.2619409733516359,0.005923229291343541,-0.10387428032710559,-0.32898534853587164,-0.16502261403507593,-0.30585004623123724,-0.1077523924317159,-0.0816672791255336,-0.3173843267990399,-0.1549449018602234,-0.2046887357881836,-0.17145314734057832,-0.18136295170546696,-0.29704048881046824,-0.3519358650295809,-0.12873974537018879,-0.13497738603936713,-0.2831191311937581,-0.2722315582539563,-0.21272986292821283,-0.1964919619342647,-0.11685760247438533,0.16534943109769082,-0.26417306843522864,-0.15516385881630124,-0.18473165338972716,-0.23063577962536297,-0.28138636588495336,0.5907090434819976,-0.3099570527817767,3.553719746345999,-0.18680226297119415,-0.1576978470420076,-0.22483687513724532,-0.1761928697966956,-0.13409033071375803,-0.26592480477721303,-0.2688226756277493,-0.2620184298703642,-0.2783514429780938,-0.12907497921096067,-0.17246731842081764,-0.26048726069766026,-0.19060961411357602,-0.17427238421173205,0.04956678792884651,-0.18957314885995374,-0.21551703889602813,-0.13826880071838632,-0.257962886054881,-0.2419859170331681,-0.07849177669878593,-0.1884545614877742,-0.3198577662513915,0.07715353359346253,-0.17252168201744195,-0.03327447929141488,-0.3105372968497414,-0.2707110917084044,-0.17578558188742216,-0.337262774315218,-0.13491068765721112,-0.21068286055631966,-0.3218886215600714,-0.08424353713386064,-0.16283929995196134,-0.275294208552735,-0.2555150364339986,-0.2717164282001933,-0.31951013404583317,-0.2580257063849964,-0.06317047771198243,-0.32018521535346156,-0.1780901595397676,-0.24718287337727368,-0.12733088222150585,-0.20127267064527185,0.2725708759186511,-0.1831586840998206,-0.27518996765358306,-0.10017577286951707,-0.2738216448855281,-0.2740508863300724,-0.036359905024222844,-0.13549601536544909,-0.24100869618075357,-0.21771325479431333,-0.04911467762986012,-0.30491336070314556,-0.1515284986540041,-0.13767225067623068,-0.30390446457904685,-0.310136727527899,-0.1605267790516986,-0.2612771834092353,-0.20165227678034922,-0.2734203594909227,-0.18915145396656946,-0.2900904661375357,-0.09347459042329075,-0.29479195827360655],\"y\":[0.4468969485570544,-1.1225697292634493,-1.7317440501383112,-1.746579295745649,1.2517008530397749,1.5021950198495708,-1.2929255707966196,0.3148899503876265,-1.7100768518626168,1.6347464883380811,-0.43014480213800627,0.9028341394012939,0.9583729886216555,0.6309873631436996,0.20640481585159168,1.7117957326582482,-0.013696243171516107,0.6732526343045966,0.10036400510318823,0.16779160092048215,1.1851826289613276,0.9664799158631209,1.121468355400075,0.9665520956261041,0.6718114064427597,0.7235557734780285,-1.7374965159491966,0.386800193895268,-0.45899579058995094,-0.03407982138946935,0.965909941127725,-1.7584265078813408,-0.4544772098404451,-0.014185020936846331,0.9670893794692046,-1.727762443003663,0.12512675728406758,1.085499247774581,0.3023722170383596,0.3842939515367609,-0.009156764437013494,-1.7743024402774537,1.7986484298828451,1.2220571832598424,1.0654327114737225,0.6313700478858035,1.9002885161316965,0.6303561205150973,0.6703764693132592,-0.010793833867468591,1.6338117070484395,0.6778034054259814,0.6355159386711077,0.6347085600082035,-0.010524249798097084,0.6687202431599282,-0.2654821940596625,0.785945661260113,0.3873686727896495,0.7459885024469292,1.429204757226597,-1.7799850839150886,0.7455529076274606,1.711396371569795,0.6603235033365072,0.6349317967279904,-0.06349608346416018,0.49440362196191334,-1.7249672611454807,-1.2681726631354067,1.6346255345242222,-0.26100967892347904,-1.7260306581508706,-1.1587762490223472,-0.7373154828249683,0.9656689609541675,-1.335958217813447,0.961896771222295,1.5529214631283295,1.3501716130632724,0.16809360505282736,0.5919473628467248,-0.4303838735702814,-0.3977021908070839,0.6336065386648193,-0.013287654808764567,1.0316602788870621,-1.757647788663849,-0.029629532277928954,0.044739309172738606,-1.7264510122294476,0.3894495992952233,0.632548244439612,-0.43467238817307247,0.8104634612464918,-1.7279941138227541,0.6330935306454707,1.8887473518004472,1.418894455287873,1.2832752995217398,-0.4493373789243079,0.6370496737103774,1.0443700295234797,4.428265224842318,0.6340866290430075,0.6466038578122554,0.7441156799578578,-2.3034066199915726,-0.4166238778492627,0.6334032987293506,-0.43062506417994634,0.6708418184275942,0.7491310748124665,1.2915843587565978,-0.010109069313614522,0.6323352345652187,1.1788270093516,-0.013811713608737779,-0.4293295214654167,-0.18671976624103273,-0.09339994252892973,-0.9066912195462423,1.0181367384122277,-1.7260386687873477,0.7790306451390434,0.6364165010554639,1.7107085896753111,-1.0737812144173824,0.8412718357569803,0.6333675545743072,0.38606050727782115,1.4712048946942926,-0.9108158039448085,0.5325430235862932,1.2710897723501982,0.6320128095821831,-1.701814939039147,0.9722467113004848,-1.065481319241338,0.3860889306857516,1.0318833600613728,0.05210647772286716,0.6686531321624619,-0.24711837827645716,-1.7501323958646369,0.6410781781600089,1.3741785926519534,0.6267592405207367,-1.7744723156769273,0.9666902125880151,0.532751786727254,0.6352521624837288,1.713195759227431,-1.7481254558246195,-0.430413483700869,1.9028522500347596,-1.2185169379542944,-0.07312028584645258,0.6312763209086288,0.8639248863740111,-0.431889750131336,1.0293837923924316,-1.727549893713728,0.5323422118855303,-0.30508293248059887,-1.7486466325793484,-1.6663525696578187,0.392403517592601,0.030665839571190418,-1.7277624771055193,-0.2889443042731455,-0.008014856004806482,-0.431729172035007,0.17163314525040693,-1.733298130618119,1.7970827810097085,-0.007912787977244557,-1.2199167645053017,0.4040277757736408,-1.7487808916557135,-1.7252050426096406,-1.7576029944625078,1.06462928128593,-1.0694670982959287,1.0988303752627466,2.4475728969760198,2.3912961407956477,0.6270331176539716,0.6309464690752086,0.6311362442945667,1.15139791508372,-1.7256113860731517,-0.7452407804163445,-1.2930167501814052,-1.7214101329323164,-0.9074859804713103,-0.4292279840281106,-0.4069956379290273,-0.24732568001787383,-1.7259728641981444,-1.749284242818847,-1.3406902828926608,-0.038841033651458155,0.9137893599104433,1.7986883409282657,2.391298545052523,-1.7249213469680724,0.6334187969318115,-1.6109330996544384,-1.7263532291640022,0.6352447381692862,-0.008051315790160283,0.6300674092205294,0.027772963882470542,0.10246943425347697,-1.7276581888672822,-1.1219596190741679,-0.007776352803694773,0.05039837521567625,0.37201512329207376,0.7869352370404712,-1.1252195783265881,0.6351444909482228,0.9892516615788394,1.2938435745405283,0.6301696524173483,0.3258797026667606,0.988391382078726,0.6306748494591873,0.6268284035215361,1.816263313967674,1.3504161826103296,-1.7542427766993556,0.6336746790814516,-1.7305687334455848,0.6303599053319493,1.4760305909157851,-0.43999071238128745,0.10145644700403747,1.0337238606029158,-1.124332922880746,1.0739846689512447,2.822478362358326,-0.9502325044102589,-0.6750831345552499,0.6323016741679587,0.7000485833686235,-1.2454548327767223,0.1762866039109655,0.9665304959375121,4.486964712141356,-0.014787497111687165,-0.006588300230957996,0.4012860363636032,1.2243231575974114,1.6344732237110562,-0.2469102396756911,-0.45282391277789336,-0.9820845524412705,-1.7482539495859226,-1.7520599213172656,1.6823314317524412,0.9675748819605136,0.13062069280536703,-1.7279808341907692,1.5739151661756983,-1.7232612241690046,0.3661574070160793,-1.7489958039501674,1.8666162808422315,0.7500328856358606,1.434675432948303,-1.723646508588935,-1.062366878031988,-1.7249669975767576,-1.3975048506751813,2.2249656891059213,0.9661893513214459,0.17324383757610992,0.9744078799539926,0.6479534083829164,0.8764338045052323,1.102213675362999,0.6699898686880134,1.8662585098149982,-1.2446616017945251,-0.4050123763819187,-1.3822705911102877,-0.428938316436715,1.111097914461597,0.7507725415601895,-2.348842246714374,-1.7067076509504169,-1.6991314663249066,-1.7508447728153083,1.8681647173258196,-2.3292844423633876,-0.008431902358229403,1.4593530945523772,-1.7235283790904445,0.12885682766701778,1.067363829397967,0.8373759900103735,-0.4312039171042872,-1.729896118945958,0.1689291801626693,-1.7483418895565574,-0.006921053975992238,-0.42828830043892085,0.725455978097778,-0.6841184971764858,-1.0991887148684205,0.6630078988828102,0.13070626256504325,-1.0828952217180745,-0.06795065022928796,-0.45614748056873483,-1.7244633192043954,-1.724615810703169,-0.0038252460732717234,0.847394065298612,0.6770738969772291,-1.7505606223069596,-1.748547522035193,0.16981249303170903,-1.7498777227698614,0.17095563829941504,0.7540367305648024,-1.7250147247927752,-1.7480349430343878,1.6254347710875117,0.024189647608341906,-1.750267598669129,0.12833819885645548,-0.010034402761032664,-1.7220949201737958,1.9793686896140719,-0.43188148885025374,-0.9068859163666507,-1.6101960258552959,-1.217643339547137,1.7236928067099901,0.3880048129290794,1.3449800539186931,0.9664255313375734,0.6883559807238928,1.0976392026313204,0.6313227721278282,-0.4284069109341017,-0.42696302284873583,1.0975858138120467,-1.7509718325776573,0.6308956980917247,-1.3233113766726596,-1.7359820806510606,-1.7257032826316818,-1.7248982902980126,-0.5352633979187897,0.6348500621125887,-0.36734750659345977,0.6349108786550434,-0.4290870907188046,1.4172825942048297,1.0333912005360142,0.10576663103613954,0.9677143652606809,0.7256074476530769,0.6341498676672774,-1.7496969957524768,-1.7262066711981192,0.02288362234435126,0.6361402380892486,-1.0614821778260841,1.459990690217033,-1.7481945025959806,-1.7255443076341084,-1.7263998783914452,-1.6945179504280883,-1.7200671208533278,1.0693213520332148,-0.08424070111914662,0.7303055248410097,0.7049582903041527,-1.2958921932534724,-0.43137693962397594,0.39280653190873877,-0.42865481198591326,0.26308684597196497,1.865703341741974,0.7894072958799243,-1.7490290533637645,0.8327562777001708,-1.7457754570788382,-0.4289284458429445,-1.123705658014862,2.222273817602348,-1.726195508489255,-1.2833459259075348,-1.749762286786566,-1.3362851750912321,-1.7249439845239336,1.3903707888834702,0.3781820035978085,1.3915118097026489,0.36202335530134017,-0.029710759770538556,-1.7545769072580144,-0.012618499215415798,-1.7242387080872144,-1.2835583723956459,-1.1231433819669066,0.6336063540769488,-0.425964785918436,-0.4550567949670178,1.3514549283307644,2.6212004835994698,0.3870702078890133,0.632857557656712,-0.008327993307367497,1.2303566083283528,-1.3243241724795656,-0.7831919132106243,0.6418378066375967,-0.907923070527736,0.7505256944067304,-0.4041718081482196,-1.3449689966439287,-1.7241569847452067,-1.7480027442176953,-1.7776463487291227,1.8902713487589042,-0.9077174559253909,-0.9070852852979736,-1.3823244850164742,1.6024149677080695,-1.7303927646191175,-1.7510689208120898,1.1497014451585463,0.7531815514227057,1.4334666522263604,1.1962460290754147,0.20424901993868816,0.6758889649710524,1.174510409821464,0.966074362340275,-0.06727941669640614,0.8522483226909797,-0.40449178214788223,1.4775705005098794,-0.010597659082335781,-1.774058115578982,-0.00993452977517269,0.3281058983966701,-0.43048375617881174,-1.7499030880500643,-0.42963099592437254,0.4999122492755401,-1.7259792284003022,-1.7513022837224241,-1.6996360431574347,2.2318053360995047,-0.454907883015742,0.6373361282656597,-0.406460651724447,-1.7328103333260052,2.6148801813604328,0.4023803144369361,-1.479615274438708,-1.7243781930381055,0.9793375534820491,-1.7435291124165708,-1.7232140827251226,-1.58920685139048,0.6263805704324039,1.1107204946480482,-0.0334193532239214,1.667055305727288,0.6336549718884767,0.7510922500922773,1.6357182165449593,-0.2873534437781949,0.37873913849690277,0.9198376995217342,0.5313938269032492,-1.7236740498695553,-0.33776047210573223,1.8161459411235024,-1.7542773798288642,-1.3125660538800983,0.6326030109577286,1.4324319871891773,-1.1489025598602345,-1.7247113433505508,0.6248377223961868,0.05451457365848826,-0.06726818146874794,0.6411771901627507,0.9208148286473943,1.5505879584357591,-0.40423190916765434,-0.02908006559795842,0.6344154390169748,-0.43041307090789144,-1.7263404069663881,-0.4301125384190484,-0.2476137646246135,1.2618588741652659,-0.010045495615459983,-1.724474183853716,-1.1225816288063988,0.6455251776372662,-0.3768692056645621,-1.724973732216417,-1.0944114858591307,-0.2472750691967195,1.0680069390923501,-0.03630966826850192,1.7516096841692632,-1.7249293653619155,-0.24464778383340666,-1.7745947127469737,-2.2799720286393095,1.6964483986258057,0.20009499008788628,0.15797617047259685,1.8134830643324429,1.9521797191908716,0.7501846583101661,-0.06868437768018885,-1.7524079085962379,1.5553989632305878,-0.03667314280969863,0.9672449289548691,-0.41921893295127055,-0.008531105196320247,-2.349285064927045,2.225874671564639,-1.2196869711308305,0.6647596882772865,-0.2606693680061513,1.0984732304359008,1.06417140260567,0.7517848048348671],\"z\":[-1.1287994879129586,-1.5294094821889141,0.2727944897369927,0.29528153998584533,-1.4098770072825768,-1.7203226657569375,0.2683686213906965,-1.4114665856035684,0.2807554343812186,-1.5882147420636716,0.26715193955259053,-1.2104861550133499,0.3535970085775548,0.3502255812985462,-1.4898570872119614,-1.5160398824956585,0.30511402319962594,0.4851454523771131,0.28097303181881783,0.20895027819787995,-1.252748894565053,0.34106769103577345,-1.178010768492054,0.34042331395835945,0.32224527616349874,0.21429621474367125,0.2805742440427534,0.32496273789964647,0.263372031350389,-0.9279256993051299,0.33946167154197116,0.27446898107895834,0.25757030975618816,0.2993061404749652,0.3394192453510853,0.26927512943208204,0.18381414480545472,-1.4128031862786394,-0.7038478583408185,0.33581494584079336,0.29861790901772717,0.2737250907378169,-1.7633222605492698,-0.42910408347738666,0.34988044530118234,0.3435197400602205,0.27600267945662227,0.3573049642023289,0.31744041494990377,0.3011838982340363,-1.5915896689118658,0.21642973779651242,0.34898569646369687,0.35207967373655186,0.2974774683167921,0.4936601463941503,0.3793974915722869,0.25968683580437535,0.3262350207860444,0.22214519992975565,-0.9870507553952037,0.2879985779824503,0.22782717233103078,-1.5199471594092107,0.2769717010000862,0.3541976021404574,0.22361091490048562,0.13107760796855764,0.2671444530987494,0.26970898063036386,-1.5841655990088142,0.38039745340873415,0.2807381741559589,-0.45199220074642793,0.27534949657968794,0.34074398103100734,0.22894330650596584,0.34344617037570274,0.24788850908980523,-1.58201287746313,0.20824007399744723,-1.5004477204544224,0.27711220636599565,0.16439793930146634,0.34046263824294914,0.23931222200429864,0.20877999360382216,0.29068152440843287,-0.930317241094442,0.2764724940731635,0.2692199091246301,0.4145501419358856,0.3488659072458544,0.2686311743263776,0.3339051447459452,0.27178231824154186,0.33999082631893035,0.31105656488512995,-1.4709982666887085,-1.1144132762476842,0.295614347745394,0.3580512150320213,0.24189485356676552,8.514904788526913,0.34441372137356246,0.39738941434299857,0.7333648070501573,0.28006058574554465,0.30717950140416084,0.33772975920011306,0.2687948630761293,0.3332135263882702,0.21022770811022287,-1.6109447271971074,0.29952444783046067,0.34506119224842224,-1.2706087870437421,0.2484694790708025,0.262489802640745,0.16527116101457423,0.3244595846535043,0.3335598849062171,0.21982695680462927,0.2680864113382795,0.8561087775918886,0.34775852309635297,-1.5182630467024336,-1.6918800883079046,-1.7766857575277248,0.3559487099979422,0.3300238885079293,-0.952192973053704,0.3302723452131779,-1.6456790806602268,-1.4777371166850226,0.3443278465258509,0.2692898304871849,0.2384796643548462,-1.6943814999440874,0.31998366587622895,0.20441567681036152,0.26861903989456465,0.471742640522772,0.24227127402147847,0.26545169787985373,0.3649323818863418,-1.8778876153115793,0.3412491876825872,0.2630549308016961,0.34148057532153336,-1.6408998942363489,0.34726066417634954,-1.5131400340900496,0.261527564828841,0.261872008422554,0.284988467794568,0.26742026746573533,0.15568529638268905,0.3509956138841145,0.2638024972056075,0.26588054585040294,0.2089422438696821,0.2732328877953419,-1.6404053531001643,-1.4614556924773325,0.26550375226841144,0.09357350414258123,-1.5927969125858532,-1.1735179048151445,0.2687969093041929,0.37611440702553306,0.29890987360607135,0.26786951590239594,0.20874552383835276,0.2748565331657707,-1.767194350085856,0.29716436984311245,0.2719072126941944,0.19332021515619496,0.2648922264567241,0.2692737925142773,0.2972315862716622,0.3484453833370141,-1.6908439507035324,0.24970392163045374,-1.6662379274625285,-1.476691105951353,0.34712887006485427,0.35481176034689466,0.3504162570938201,-1.1751062616138397,0.2657209149401617,-1.5373470317000868,0.2710546935903285,0.2710478703808915,0.3316801360575154,0.26279289102491377,0.2744882487453167,0.23866550848620155,0.2700697448644204,0.26311778978855477,0.2679653539713598,0.2511656303293297,0.2691533564232675,-1.7659693053383059,-1.4750627594972863,0.26655745635967404,0.35567976942554425,0.20789188441782697,0.26916704031315397,0.34870938872086443,0.2994496776629338,0.3441766562897358,0.26836916484714873,0.2728560908784046,0.27213715909431513,-1.5267888167274777,0.3006840419414239,0.2770568521345106,0.2932571635872008,0.25851410792497603,-1.5299684367935857,0.3436028379695363,-1.4653936360706126,-1.6020356429680132,0.35020651877547665,0.3632697256719093,-1.4640937616911556,0.3466864203456393,-1.319128727715035,0.30935928696527926,-1.5740080403775782,0.27322965650495756,0.3698280461927217,0.27455230116861784,0.34569158042792647,0.24422158971025607,0.274415858312503,0.2701866412708354,-0.8538172955615304,-1.527798982114347,0.2470280855921324,-1.4977136452019493,-1.75516543379567,0.24981076715695244,0.34653319627499346,-1.5306171558390507,0.26619724951230145,0.17929825253961032,0.3414476390676519,13.971448861662592,0.3056632584403967,0.30733250678529533,0.19291965335744207,-1.4515026488366276,-1.5890801118812468,0.2429993103041106,0.26518844493915056,-1.964756284876278,0.26874342121144734,0.2696036819588417,-1.6971733116991579,0.33979409352274537,0.1765915282724923,0.27338522398581794,-1.850156657130671,0.26886078443934663,0.3371781795725816,0.2651948162079253,0.31292402542169684,0.21601116799292905,0.30721597172742515,0.2673237351946375,-1.7817585915090233,0.26851124015980604,0.10983507796295491,0.3057830074436701,0.34171421397332685,0.21882548779607175,0.2400199002729248,0.38388108285848255,-1.2092222205897916,-1.806344368893893,0.32083070728447793,0.309058574238642,0.26726504162570974,0.2705733454576014,0.22592204795187948,0.2646697564242398,0.28447822648555926,0.2198918933239758,0.2742818175780141,0.27460412211615665,0.27468772497546373,0.2641445353737819,0.3162394140743558,0.25687065715573537,0.29523304048779525,0.3116847432675162,0.2682531645089291,0.17178495556400003,0.35035034717984126,0.390820960544888,0.26635668595662226,0.27604775465355547,0.0525010967816723,0.26503403453680946,0.29962576680247394,0.2676929677673448,0.222798263934068,-1.7003367076406308,-1.6938142357101105,0.2664418774078174,0.17294659139726262,-0.3652161290016049,0.1600355679323287,0.2628864314861083,0.27117391537118957,0.2670873321704054,0.31354104966521595,0.24319179690504106,0.2161915057711909,0.2678252743733278,0.26751827225416625,0.2080658217467649,0.2668909943819493,0.20875972465507744,0.2289329717517273,0.26957564888683105,0.2717221153127387,-1.6250049970716771,0.2647367854713106,0.26484825216352276,0.17663999911941394,0.3011357403022805,0.2689708455322655,-0.027419141964571257,0.27483454258478746,0.3331962906365763,-0.07403262705921321,0.27205122618991034,-0.26634767326291997,0.32513590241565554,-1.004977276946808,0.3416768320310526,0.2518824426689146,0.24449070287738012,0.341561127874176,0.27074332801185447,0.27877177588055363,0.24484400535305534,0.25868143002240007,0.34217600375181434,-0.931036636424944,0.27604400741858787,0.26593846816253425,0.2675664191913303,0.3617500782072722,0.3479115740491996,0.30957051945347547,0.35552964309622853,0.2673487297862542,-0.7751127000523895,0.2069367312302058,-0.04332708405408578,0.34121919234960557,0.22423709983586249,0.3458579050146668,0.2653271629251592,0.2675461658308012,0.26893647974846013,0.35265569907717204,-1.7827741616877208,0.3109363298351843,0.2629607964925165,0.2719495729199438,0.2680114966271066,0.18183817355838275,0.275769317244341,0.3596536754725565,-0.8483251791886197,0.23329129318311434,0.2302622553851468,0.26652406821832364,0.26181725813987106,0.34660895330744107,0.27020358270808803,-1.8486697906318996,0.30650225121862573,0.25775093157762197,0.2663508600976847,-0.02729868644784028,0.27427727767423865,0.26910642999466616,-1.5321506554970623,0.3041435682688202,0.26827666483262275,0.23190459273276964,0.2750528877318136,0.23907118104975786,0.2733975257864406,-1.5341582946679793,0.19175107108331033,-1.5343256775194671,0.32887327941740396,0.3045463985240172,0.27388296903986054,0.3032439056900854,0.26762155531302245,0.2354364248146123,-1.524931773484289,0.3409920917527498,0.27655226177660774,0.2607911808625507,-1.5719691597989358,-0.8939418459281308,0.3265195261304256,0.3402077649728878,0.2979328101589509,1.7127446631906633,-0.9282895256180901,-1.5667825299486382,0.37967230908996347,0.33635593083747345,0.21835336261781577,0.2689964484099393,-0.9099947167534933,0.2669128530277659,0.2677045023610474,0.36096760637179526,0.311454437961842,0.3345976716722535,0.33236094005452355,0.2314763069970345,-0.1165976474617813,0.2722862516957743,0.2644430844252847,-0.9705575022375549,0.22464499866077278,-0.9851573407906209,-1.022101982537661,0.35505638243878646,-1.529179586947759,-1.2742925454474545,0.34237476146831664,0.15138858277561917,0.9302655541095859,0.26533050407510317,0.2463718922697456,0.3026072076632181,0.25756669823241773,0.29981127923815387,0.360942970192386,0.2695117598214453,0.26720485718485504,0.2628328133224546,0.13074499356049524,0.2700244955479997,0.26737678023073586,0.26622562983229575,0.3294277526228164,0.26532043125003923,0.35897413962338437,0.2721340458526289,0.2700145929671911,5.679524797417626,0.19544628869153174,0.2295706619083997,0.2681266337183249,-1.6078261334285484,0.2738018372874952,0.26639104367733496,-0.2952797249078607,0.38808752502479715,0.28475515193829587,0.29761166908298375,-1.4474470816284553,0.34815246864821403,0.22109376279920032,-1.5840142495976575,0.3756555733651372,0.18896195401336202,-0.5063304133304298,-0.0925382585420925,0.26867872854655217,0.3746201267638278,0.30805296614988387,0.26941472577889236,0.28672735428718277,0.338981961843781,0.30797279862400495,-1.532477579998716,0.266560322230109,0.39031733406419783,0.3377571261407371,0.15148304577612223,0.3912402531179098,-0.29155061190570497,0.2532192402715646,0.26577707557233277,0.3095727600154102,0.34783150386620143,0.2569357786079745,0.26798444676384764,0.2679511213210031,0.23562168704876518,-1.3462800547079998,0.29943150432407445,0.26506290308820474,-1.5263569783594437,0.3805343306949289,0.4469586274824994,0.2642295546250404,-1.6995527434296427,0.2367438058445224,0.35468587964233256,0.3545229064024265,-1.7045739809168623,0.2696115097642435,-0.89861416804446,0.2663684015212267,0.2552340125675539,-1.5245596027408603,-1.6361142183191555,0.17995655635302385,0.30792471099767593,-0.947726194885003,0.21955940944861618,0.15437238144936297,0.2707040294660604,0.24981784960787512,0.2385807099944298,0.3440324542239016,0.2987313332302719,0.29348324725694075,0.2753598886186812,0.30949149627797956,0.2711155712140154,0.26158415527051493,0.38940123879220534,0.2470275743938285,0.347778892950689,0.22078703529583407],\"type\":\"scatter3d\"},{\"hovertemplate\":\"class=%{marker.color}<br>PC1=%{x}<br>PC2=%{y}<br>PC3=%{z}<extra></extra>\",\"legendgroup\":\"1\",\"marker\":{\"color\":[1,1,1,1],\"coloraxis\":\"coloraxis\",\"symbol\":\"diamond\"},\"mode\":\"markers\",\"name\":\"1\",\"scene\":\"scene\",\"showlegend\":true,\"x\":[19.659134607803935,11.393302099737214,7.9737488789144555,31.63968084347442],\"y\":[0.9767885466653433,0.4581920819602662,-1.255760396747387,0.08182210828643853],\"z\":[-1.285881657197722,0.3840003661315076,-0.34034521841458,0.6385885253586447],\"type\":\"scatter3d\"}],                        {\"template\":{\"data\":{\"bar\":[{\"error_x\":{\"color\":\"#2a3f5f\"},\"error_y\":{\"color\":\"#2a3f5f\"},\"marker\":{\"line\":{\"color\":\"#E5ECF6\",\"width\":0.5},\"pattern\":{\"fillmode\":\"overlay\",\"size\":10,\"solidity\":0.2}},\"type\":\"bar\"}],\"barpolar\":[{\"marker\":{\"line\":{\"color\":\"#E5ECF6\",\"width\":0.5},\"pattern\":{\"fillmode\":\"overlay\",\"size\":10,\"solidity\":0.2}},\"type\":\"barpolar\"}],\"carpet\":[{\"aaxis\":{\"endlinecolor\":\"#2a3f5f\",\"gridcolor\":\"white\",\"linecolor\":\"white\",\"minorgridcolor\":\"white\",\"startlinecolor\":\"#2a3f5f\"},\"baxis\":{\"endlinecolor\":\"#2a3f5f\",\"gridcolor\":\"white\",\"linecolor\":\"white\",\"minorgridcolor\":\"white\",\"startlinecolor\":\"#2a3f5f\"},\"type\":\"carpet\"}],\"choropleth\":[{\"colorbar\":{\"outlinewidth\":0,\"ticks\":\"\"},\"type\":\"choropleth\"}],\"contour\":[{\"colorbar\":{\"outlinewidth\":0,\"ticks\":\"\"},\"colorscale\":[[0.0,\"#0d0887\"],[0.1111111111111111,\"#46039f\"],[0.2222222222222222,\"#7201a8\"],[0.3333333333333333,\"#9c179e\"],[0.4444444444444444,\"#bd3786\"],[0.5555555555555556,\"#d8576b\"],[0.6666666666666666,\"#ed7953\"],[0.7777777777777778,\"#fb9f3a\"],[0.8888888888888888,\"#fdca26\"],[1.0,\"#f0f921\"]],\"type\":\"contour\"}],\"contourcarpet\":[{\"colorbar\":{\"outlinewidth\":0,\"ticks\":\"\"},\"type\":\"contourcarpet\"}],\"heatmap\":[{\"colorbar\":{\"outlinewidth\":0,\"ticks\":\"\"},\"colorscale\":[[0.0,\"#0d0887\"],[0.1111111111111111,\"#46039f\"],[0.2222222222222222,\"#7201a8\"],[0.3333333333333333,\"#9c179e\"],[0.4444444444444444,\"#bd3786\"],[0.5555555555555556,\"#d8576b\"],[0.6666666666666666,\"#ed7953\"],[0.7777777777777778,\"#fb9f3a\"],[0.8888888888888888,\"#fdca26\"],[1.0,\"#f0f921\"]],\"type\":\"heatmap\"}],\"heatmapgl\":[{\"colorbar\":{\"outlinewidth\":0,\"ticks\":\"\"},\"colorscale\":[[0.0,\"#0d0887\"],[0.1111111111111111,\"#46039f\"],[0.2222222222222222,\"#7201a8\"],[0.3333333333333333,\"#9c179e\"],[0.4444444444444444,\"#bd3786\"],[0.5555555555555556,\"#d8576b\"],[0.6666666666666666,\"#ed7953\"],[0.7777777777777778,\"#fb9f3a\"],[0.8888888888888888,\"#fdca26\"],[1.0,\"#f0f921\"]],\"type\":\"heatmapgl\"}],\"histogram\":[{\"marker\":{\"pattern\":{\"fillmode\":\"overlay\",\"size\":10,\"solidity\":0.2}},\"type\":\"histogram\"}],\"histogram2d\":[{\"colorbar\":{\"outlinewidth\":0,\"ticks\":\"\"},\"colorscale\":[[0.0,\"#0d0887\"],[0.1111111111111111,\"#46039f\"],[0.2222222222222222,\"#7201a8\"],[0.3333333333333333,\"#9c179e\"],[0.4444444444444444,\"#bd3786\"],[0.5555555555555556,\"#d8576b\"],[0.6666666666666666,\"#ed7953\"],[0.7777777777777778,\"#fb9f3a\"],[0.8888888888888888,\"#fdca26\"],[1.0,\"#f0f921\"]],\"type\":\"histogram2d\"}],\"histogram2dcontour\":[{\"colorbar\":{\"outlinewidth\":0,\"ticks\":\"\"},\"colorscale\":[[0.0,\"#0d0887\"],[0.1111111111111111,\"#46039f\"],[0.2222222222222222,\"#7201a8\"],[0.3333333333333333,\"#9c179e\"],[0.4444444444444444,\"#bd3786\"],[0.5555555555555556,\"#d8576b\"],[0.6666666666666666,\"#ed7953\"],[0.7777777777777778,\"#fb9f3a\"],[0.8888888888888888,\"#fdca26\"],[1.0,\"#f0f921\"]],\"type\":\"histogram2dcontour\"}],\"mesh3d\":[{\"colorbar\":{\"outlinewidth\":0,\"ticks\":\"\"},\"type\":\"mesh3d\"}],\"parcoords\":[{\"line\":{\"colorbar\":{\"outlinewidth\":0,\"ticks\":\"\"}},\"type\":\"parcoords\"}],\"pie\":[{\"automargin\":true,\"type\":\"pie\"}],\"scatter\":[{\"marker\":{\"colorbar\":{\"outlinewidth\":0,\"ticks\":\"\"}},\"type\":\"scatter\"}],\"scatter3d\":[{\"line\":{\"colorbar\":{\"outlinewidth\":0,\"ticks\":\"\"}},\"marker\":{\"colorbar\":{\"outlinewidth\":0,\"ticks\":\"\"}},\"type\":\"scatter3d\"}],\"scattercarpet\":[{\"marker\":{\"colorbar\":{\"outlinewidth\":0,\"ticks\":\"\"}},\"type\":\"scattercarpet\"}],\"scattergeo\":[{\"marker\":{\"colorbar\":{\"outlinewidth\":0,\"ticks\":\"\"}},\"type\":\"scattergeo\"}],\"scattergl\":[{\"marker\":{\"colorbar\":{\"outlinewidth\":0,\"ticks\":\"\"}},\"type\":\"scattergl\"}],\"scattermapbox\":[{\"marker\":{\"colorbar\":{\"outlinewidth\":0,\"ticks\":\"\"}},\"type\":\"scattermapbox\"}],\"scatterpolar\":[{\"marker\":{\"colorbar\":{\"outlinewidth\":0,\"ticks\":\"\"}},\"type\":\"scatterpolar\"}],\"scatterpolargl\":[{\"marker\":{\"colorbar\":{\"outlinewidth\":0,\"ticks\":\"\"}},\"type\":\"scatterpolargl\"}],\"scatterternary\":[{\"marker\":{\"colorbar\":{\"outlinewidth\":0,\"ticks\":\"\"}},\"type\":\"scatterternary\"}],\"surface\":[{\"colorbar\":{\"outlinewidth\":0,\"ticks\":\"\"},\"colorscale\":[[0.0,\"#0d0887\"],[0.1111111111111111,\"#46039f\"],[0.2222222222222222,\"#7201a8\"],[0.3333333333333333,\"#9c179e\"],[0.4444444444444444,\"#bd3786\"],[0.5555555555555556,\"#d8576b\"],[0.6666666666666666,\"#ed7953\"],[0.7777777777777778,\"#fb9f3a\"],[0.8888888888888888,\"#fdca26\"],[1.0,\"#f0f921\"]],\"type\":\"surface\"}],\"table\":[{\"cells\":{\"fill\":{\"color\":\"#EBF0F8\"},\"line\":{\"color\":\"white\"}},\"header\":{\"fill\":{\"color\":\"#C8D4E3\"},\"line\":{\"color\":\"white\"}},\"type\":\"table\"}]},\"layout\":{\"annotationdefaults\":{\"arrowcolor\":\"#2a3f5f\",\"arrowhead\":0,\"arrowwidth\":1},\"autotypenumbers\":\"strict\",\"coloraxis\":{\"colorbar\":{\"outlinewidth\":0,\"ticks\":\"\"}},\"colorscale\":{\"diverging\":[[0,\"#8e0152\"],[0.1,\"#c51b7d\"],[0.2,\"#de77ae\"],[0.3,\"#f1b6da\"],[0.4,\"#fde0ef\"],[0.5,\"#f7f7f7\"],[0.6,\"#e6f5d0\"],[0.7,\"#b8e186\"],[0.8,\"#7fbc41\"],[0.9,\"#4d9221\"],[1,\"#276419\"]],\"sequential\":[[0.0,\"#0d0887\"],[0.1111111111111111,\"#46039f\"],[0.2222222222222222,\"#7201a8\"],[0.3333333333333333,\"#9c179e\"],[0.4444444444444444,\"#bd3786\"],[0.5555555555555556,\"#d8576b\"],[0.6666666666666666,\"#ed7953\"],[0.7777777777777778,\"#fb9f3a\"],[0.8888888888888888,\"#fdca26\"],[1.0,\"#f0f921\"]],\"sequentialminus\":[[0.0,\"#0d0887\"],[0.1111111111111111,\"#46039f\"],[0.2222222222222222,\"#7201a8\"],[0.3333333333333333,\"#9c179e\"],[0.4444444444444444,\"#bd3786\"],[0.5555555555555556,\"#d8576b\"],[0.6666666666666666,\"#ed7953\"],[0.7777777777777778,\"#fb9f3a\"],[0.8888888888888888,\"#fdca26\"],[1.0,\"#f0f921\"]]},\"colorway\":[\"#636efa\",\"#EF553B\",\"#00cc96\",\"#ab63fa\",\"#FFA15A\",\"#19d3f3\",\"#FF6692\",\"#B6E880\",\"#FF97FF\",\"#FECB52\"],\"font\":{\"color\":\"#2a3f5f\"},\"geo\":{\"bgcolor\":\"white\",\"lakecolor\":\"white\",\"landcolor\":\"#E5ECF6\",\"showlakes\":true,\"showland\":true,\"subunitcolor\":\"white\"},\"hoverlabel\":{\"align\":\"left\"},\"hovermode\":\"closest\",\"mapbox\":{\"style\":\"light\"},\"paper_bgcolor\":\"white\",\"plot_bgcolor\":\"#E5ECF6\",\"polar\":{\"angularaxis\":{\"gridcolor\":\"white\",\"linecolor\":\"white\",\"ticks\":\"\"},\"bgcolor\":\"#E5ECF6\",\"radialaxis\":{\"gridcolor\":\"white\",\"linecolor\":\"white\",\"ticks\":\"\"}},\"scene\":{\"xaxis\":{\"backgroundcolor\":\"#E5ECF6\",\"gridcolor\":\"white\",\"gridwidth\":2,\"linecolor\":\"white\",\"showbackground\":true,\"ticks\":\"\",\"zerolinecolor\":\"white\"},\"yaxis\":{\"backgroundcolor\":\"#E5ECF6\",\"gridcolor\":\"white\",\"gridwidth\":2,\"linecolor\":\"white\",\"showbackground\":true,\"ticks\":\"\",\"zerolinecolor\":\"white\"},\"zaxis\":{\"backgroundcolor\":\"#E5ECF6\",\"gridcolor\":\"white\",\"gridwidth\":2,\"linecolor\":\"white\",\"showbackground\":true,\"ticks\":\"\",\"zerolinecolor\":\"white\"}},\"shapedefaults\":{\"line\":{\"color\":\"#2a3f5f\"}},\"ternary\":{\"aaxis\":{\"gridcolor\":\"white\",\"linecolor\":\"white\",\"ticks\":\"\"},\"baxis\":{\"gridcolor\":\"white\",\"linecolor\":\"white\",\"ticks\":\"\"},\"bgcolor\":\"#E5ECF6\",\"caxis\":{\"gridcolor\":\"white\",\"linecolor\":\"white\",\"ticks\":\"\"}},\"title\":{\"x\":0.05},\"xaxis\":{\"automargin\":true,\"gridcolor\":\"white\",\"linecolor\":\"white\",\"ticks\":\"\",\"title\":{\"standoff\":15},\"zerolinecolor\":\"white\",\"zerolinewidth\":2},\"yaxis\":{\"automargin\":true,\"gridcolor\":\"white\",\"linecolor\":\"white\",\"ticks\":\"\",\"title\":{\"standoff\":15},\"zerolinecolor\":\"white\",\"zerolinewidth\":2}}},\"scene\":{\"domain\":{\"x\":[0.0,1.0],\"y\":[0.0,1.0]},\"xaxis\":{\"title\":{\"text\":\"PC1\"}},\"yaxis\":{\"title\":{\"text\":\"PC2\"}},\"zaxis\":{\"title\":{\"text\":\"PC3\"}}},\"coloraxis\":{\"colorbar\":{\"title\":{\"text\":\"class\"}},\"colorscale\":[[0.0,\"#0d0887\"],[0.1111111111111111,\"#46039f\"],[0.2222222222222222,\"#7201a8\"],[0.3333333333333333,\"#9c179e\"],[0.4444444444444444,\"#bd3786\"],[0.5555555555555556,\"#d8576b\"],[0.6666666666666666,\"#ed7953\"],[0.7777777777777778,\"#fb9f3a\"],[0.8888888888888888,\"#fdca26\"],[1.0,\"#f0f921\"]]},\"legend\":{\"title\":{\"text\":\"class\"},\"tracegroupgap\":0,\"x\":0,\"y\":1},\"margin\":{\"t\":60},\"width\":800},                        {\"responsive\": true}                    ).then(function(){\n",
       "                            \n",
       "var gd = document.getElementById('ec74f54c-5214-4d9d-8bc6-fc9583b073b5');\n",
       "var x = new MutationObserver(function (mutations, observer) {{\n",
       "        var display = window.getComputedStyle(gd).display;\n",
       "        if (!display || display === 'none') {{\n",
       "            console.log([gd, 'removed!']);\n",
       "            Plotly.purge(gd);\n",
       "            observer.disconnect();\n",
       "        }}\n",
       "}});\n",
       "\n",
       "// Listen for the removal of the full notebook cells\n",
       "var notebookContainer = gd.closest('#notebook-container');\n",
       "if (notebookContainer) {{\n",
       "    x.observe(notebookContainer, {childList: true});\n",
       "}}\n",
       "\n",
       "// Listen for the clearing of the current output cell\n",
       "var outputEl = gd.closest('.output');\n",
       "if (outputEl) {{\n",
       "    x.observe(outputEl, {childList: true});\n",
       "}}\n",
       "\n",
       "                        })                };                });            </script>        </div>"
      ]
     },
     "metadata": {},
     "output_type": "display_data"
    }
   ],
   "source": [
    "fig = px.scatter_3d(\n",
    "    df_df1_pca,\n",
    "    x='PC1',\n",
    "    y='PC2',\n",
    "    z='PC3',\n",
    "    color='class',\n",
    "    symbol='class',\n",
    "    width=800,\n",
    ")\n",
    "\n",
    "fig.update_layout(legend=dict(x=0, y=1))\n",
    "fig.show()"
   ]
  }
 ],
 "metadata": {
  "kernelspec": {
   "display_name": "mlenv",
   "language": "python",
   "name": "mlenv"
  },
  "language_info": {
   "codemirror_mode": {
    "name": "ipython",
    "version": 3
   },
   "file_extension": ".py",
   "mimetype": "text/x-python",
   "name": "python",
   "nbconvert_exporter": "python",
   "pygments_lexer": "ipython3",
   "version": "3.7.13"
  }
 },
 "nbformat": 4,
 "nbformat_minor": 5
}
