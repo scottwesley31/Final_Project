{
 "cells": [
  {
   "cell_type": "markdown",
   "id": "45c4e431",
   "metadata": {},
   "source": [
    "# Long Short Term Memory Network (LSTM)"
   ]
  },
  {
   "cell_type": "markdown",
   "id": "64e8f800",
   "metadata": {},
   "source": [
    "## Stock Price Prediction"
   ]
  },
  {
   "cell_type": "markdown",
   "id": "f7e87a16",
   "metadata": {},
   "source": [
    "Reference: https://medium.com/the-handbook-of-coding-in-finance/stock-prices-prediction-using-long-short-term-memory-lstm-model-in-python-734dd1ed6827"
   ]
  },
  {
   "cell_type": "code",
   "execution_count": 1,
   "id": "714eaef5",
   "metadata": {},
   "outputs": [],
   "source": [
    "# Import dependencies\n",
    "\n",
    "import math\n",
    "import numpy as np\n",
    "import pandas as pd\n",
    "from sklearn.preprocessing import MinMaxScaler \n",
    "import matplotlib.pyplot as plt\n",
    "import tensorflow as tf\n",
    "from tensorflow import keras\n",
    "from tensorflow.keras import layers"
   ]
  },
  {
   "cell_type": "code",
   "execution_count": 2,
   "id": "196ba56b",
   "metadata": {},
   "outputs": [
    {
     "data": {
      "text/html": [
       "<div>\n",
       "<style scoped>\n",
       "    .dataframe tbody tr th:only-of-type {\n",
       "        vertical-align: middle;\n",
       "    }\n",
       "\n",
       "    .dataframe tbody tr th {\n",
       "        vertical-align: top;\n",
       "    }\n",
       "\n",
       "    .dataframe thead th {\n",
       "        text-align: right;\n",
       "    }\n",
       "</style>\n",
       "<table border=\"1\" class=\"dataframe\">\n",
       "  <thead>\n",
       "    <tr style=\"text-align: right;\">\n",
       "      <th></th>\n",
       "      <th>Date</th>\n",
       "      <th>Open</th>\n",
       "      <th>High</th>\n",
       "      <th>Low</th>\n",
       "      <th>Close</th>\n",
       "      <th>Adj Close</th>\n",
       "      <th>Volume</th>\n",
       "      <th>TCKR</th>\n",
       "      <th>sector</th>\n",
       "      <th>industry</th>\n",
       "      <th>country</th>\n",
       "      <th>growth_rate</th>\n",
       "      <th>target_median_price</th>\n",
       "      <th>target_mean_price</th>\n",
       "      <th>target_high_price</th>\n",
       "    </tr>\n",
       "  </thead>\n",
       "  <tbody>\n",
       "    <tr>\n",
       "      <th>0</th>\n",
       "      <td>2019-12-19</td>\n",
       "      <td>11.000</td>\n",
       "      <td>11.96</td>\n",
       "      <td>10.50</td>\n",
       "      <td>10.70</td>\n",
       "      <td>10.70</td>\n",
       "      <td>89400.0</td>\n",
       "      <td>INDO</td>\n",
       "      <td>Energy</td>\n",
       "      <td>Oil &amp; Gas E&amp;P</td>\n",
       "      <td>Indonesia</td>\n",
       "      <td>1.206</td>\n",
       "      <td>15.0</td>\n",
       "      <td>15.0</td>\n",
       "      <td>15.0</td>\n",
       "    </tr>\n",
       "    <tr>\n",
       "      <th>1</th>\n",
       "      <td>2019-12-20</td>\n",
       "      <td>10.808</td>\n",
       "      <td>12.49</td>\n",
       "      <td>9.25</td>\n",
       "      <td>9.65</td>\n",
       "      <td>9.65</td>\n",
       "      <td>503000.0</td>\n",
       "      <td>INDO</td>\n",
       "      <td>Energy</td>\n",
       "      <td>Oil &amp; Gas E&amp;P</td>\n",
       "      <td>Indonesia</td>\n",
       "      <td>1.206</td>\n",
       "      <td>15.0</td>\n",
       "      <td>15.0</td>\n",
       "      <td>15.0</td>\n",
       "    </tr>\n",
       "    <tr>\n",
       "      <th>2</th>\n",
       "      <td>2019-12-23</td>\n",
       "      <td>8.790</td>\n",
       "      <td>8.79</td>\n",
       "      <td>7.25</td>\n",
       "      <td>7.81</td>\n",
       "      <td>7.81</td>\n",
       "      <td>117400.0</td>\n",
       "      <td>INDO</td>\n",
       "      <td>Energy</td>\n",
       "      <td>Oil &amp; Gas E&amp;P</td>\n",
       "      <td>Indonesia</td>\n",
       "      <td>1.206</td>\n",
       "      <td>15.0</td>\n",
       "      <td>15.0</td>\n",
       "      <td>15.0</td>\n",
       "    </tr>\n",
       "    <tr>\n",
       "      <th>3</th>\n",
       "      <td>2019-12-24</td>\n",
       "      <td>7.500</td>\n",
       "      <td>7.64</td>\n",
       "      <td>6.00</td>\n",
       "      <td>6.41</td>\n",
       "      <td>6.41</td>\n",
       "      <td>102800.0</td>\n",
       "      <td>INDO</td>\n",
       "      <td>Energy</td>\n",
       "      <td>Oil &amp; Gas E&amp;P</td>\n",
       "      <td>Indonesia</td>\n",
       "      <td>1.206</td>\n",
       "      <td>15.0</td>\n",
       "      <td>15.0</td>\n",
       "      <td>15.0</td>\n",
       "    </tr>\n",
       "    <tr>\n",
       "      <th>4</th>\n",
       "      <td>2019-12-26</td>\n",
       "      <td>6.420</td>\n",
       "      <td>7.72</td>\n",
       "      <td>6.42</td>\n",
       "      <td>7.41</td>\n",
       "      <td>7.41</td>\n",
       "      <td>78400.0</td>\n",
       "      <td>INDO</td>\n",
       "      <td>Energy</td>\n",
       "      <td>Oil &amp; Gas E&amp;P</td>\n",
       "      <td>Indonesia</td>\n",
       "      <td>1.206</td>\n",
       "      <td>15.0</td>\n",
       "      <td>15.0</td>\n",
       "      <td>15.0</td>\n",
       "    </tr>\n",
       "  </tbody>\n",
       "</table>\n",
       "</div>"
      ],
      "text/plain": [
       "         Date    Open   High    Low  Close  Adj Close    Volume  TCKR  sector  \\\n",
       "0  2019-12-19  11.000  11.96  10.50  10.70      10.70   89400.0  INDO  Energy   \n",
       "1  2019-12-20  10.808  12.49   9.25   9.65       9.65  503000.0  INDO  Energy   \n",
       "2  2019-12-23   8.790   8.79   7.25   7.81       7.81  117400.0  INDO  Energy   \n",
       "3  2019-12-24   7.500   7.64   6.00   6.41       6.41  102800.0  INDO  Energy   \n",
       "4  2019-12-26   6.420   7.72   6.42   7.41       7.41   78400.0  INDO  Energy   \n",
       "\n",
       "        industry    country  growth_rate  target_median_price  \\\n",
       "0  Oil & Gas E&P  Indonesia        1.206                 15.0   \n",
       "1  Oil & Gas E&P  Indonesia        1.206                 15.0   \n",
       "2  Oil & Gas E&P  Indonesia        1.206                 15.0   \n",
       "3  Oil & Gas E&P  Indonesia        1.206                 15.0   \n",
       "4  Oil & Gas E&P  Indonesia        1.206                 15.0   \n",
       "\n",
       "   target_mean_price  target_high_price  \n",
       "0               15.0               15.0  \n",
       "1               15.0               15.0  \n",
       "2               15.0               15.0  \n",
       "3               15.0               15.0  \n",
       "4               15.0               15.0  "
      ]
     },
     "execution_count": 2,
     "metadata": {},
     "output_type": "execute_result"
    }
   ],
   "source": [
    "# Read the dataset into a pandas dataframe\n",
    "df1 = pd.read_csv('../../launchit.csv')\n",
    "df1.head()"
   ]
  },
  {
   "cell_type": "code",
   "execution_count": 6,
   "id": "20bd6d07",
   "metadata": {},
   "outputs": [],
   "source": [
    "# Make a new copy of the dataset_train \n",
    "stock_data = df1.copy()"
   ]
  },
  {
   "cell_type": "code",
   "execution_count": 7,
   "id": "c42cd305",
   "metadata": {},
   "outputs": [
    {
     "data": {
      "text/html": [
       "<div>\n",
       "<style scoped>\n",
       "    .dataframe tbody tr th:only-of-type {\n",
       "        vertical-align: middle;\n",
       "    }\n",
       "\n",
       "    .dataframe tbody tr th {\n",
       "        vertical-align: top;\n",
       "    }\n",
       "\n",
       "    .dataframe thead th {\n",
       "        text-align: right;\n",
       "    }\n",
       "</style>\n",
       "<table border=\"1\" class=\"dataframe\">\n",
       "  <thead>\n",
       "    <tr style=\"text-align: right;\">\n",
       "      <th></th>\n",
       "      <th>Date</th>\n",
       "      <th>Open</th>\n",
       "      <th>High</th>\n",
       "      <th>Low</th>\n",
       "      <th>Close</th>\n",
       "      <th>Adj Close</th>\n",
       "      <th>Volume</th>\n",
       "      <th>TCKR</th>\n",
       "    </tr>\n",
       "  </thead>\n",
       "  <tbody>\n",
       "    <tr>\n",
       "      <th>0</th>\n",
       "      <td>2019-12-19</td>\n",
       "      <td>11.000</td>\n",
       "      <td>11.96</td>\n",
       "      <td>10.50</td>\n",
       "      <td>10.70</td>\n",
       "      <td>10.70</td>\n",
       "      <td>89400.0</td>\n",
       "      <td>INDO</td>\n",
       "    </tr>\n",
       "    <tr>\n",
       "      <th>1</th>\n",
       "      <td>2019-12-20</td>\n",
       "      <td>10.808</td>\n",
       "      <td>12.49</td>\n",
       "      <td>9.25</td>\n",
       "      <td>9.65</td>\n",
       "      <td>9.65</td>\n",
       "      <td>503000.0</td>\n",
       "      <td>INDO</td>\n",
       "    </tr>\n",
       "    <tr>\n",
       "      <th>2</th>\n",
       "      <td>2019-12-23</td>\n",
       "      <td>8.790</td>\n",
       "      <td>8.79</td>\n",
       "      <td>7.25</td>\n",
       "      <td>7.81</td>\n",
       "      <td>7.81</td>\n",
       "      <td>117400.0</td>\n",
       "      <td>INDO</td>\n",
       "    </tr>\n",
       "    <tr>\n",
       "      <th>3</th>\n",
       "      <td>2019-12-24</td>\n",
       "      <td>7.500</td>\n",
       "      <td>7.64</td>\n",
       "      <td>6.00</td>\n",
       "      <td>6.41</td>\n",
       "      <td>6.41</td>\n",
       "      <td>102800.0</td>\n",
       "      <td>INDO</td>\n",
       "    </tr>\n",
       "    <tr>\n",
       "      <th>4</th>\n",
       "      <td>2019-12-26</td>\n",
       "      <td>6.420</td>\n",
       "      <td>7.72</td>\n",
       "      <td>6.42</td>\n",
       "      <td>7.41</td>\n",
       "      <td>7.41</td>\n",
       "      <td>78400.0</td>\n",
       "      <td>INDO</td>\n",
       "    </tr>\n",
       "  </tbody>\n",
       "</table>\n",
       "</div>"
      ],
      "text/plain": [
       "         Date    Open   High    Low  Close  Adj Close    Volume  TCKR\n",
       "0  2019-12-19  11.000  11.96  10.50  10.70      10.70   89400.0  INDO\n",
       "1  2019-12-20  10.808  12.49   9.25   9.65       9.65  503000.0  INDO\n",
       "2  2019-12-23   8.790   8.79   7.25   7.81       7.81  117400.0  INDO\n",
       "3  2019-12-24   7.500   7.64   6.00   6.41       6.41  102800.0  INDO\n",
       "4  2019-12-26   6.420   7.72   6.42   7.41       7.41   78400.0  INDO"
      ]
     },
     "execution_count": 7,
     "metadata": {},
     "output_type": "execute_result"
    }
   ],
   "source": [
    "# Drop qualitative columns\n",
    "stock_data = stock_data.drop(labels=['sector', 'industry', 'country', 'growth_rate', 'target_median_price', 'target_mean_price', 'target_high_price'], axis=1)\n",
    "stock_data.head()"
   ]
  },
  {
   "cell_type": "code",
   "execution_count": 8,
   "id": "c69f3c0f",
   "metadata": {},
   "outputs": [
    {
     "data": {
      "text/html": [
       "<div>\n",
       "<style scoped>\n",
       "    .dataframe tbody tr th:only-of-type {\n",
       "        vertical-align: middle;\n",
       "    }\n",
       "\n",
       "    .dataframe tbody tr th {\n",
       "        vertical-align: top;\n",
       "    }\n",
       "\n",
       "    .dataframe thead th {\n",
       "        text-align: right;\n",
       "    }\n",
       "</style>\n",
       "<table border=\"1\" class=\"dataframe\">\n",
       "  <thead>\n",
       "    <tr style=\"text-align: right;\">\n",
       "      <th></th>\n",
       "      <th>Date</th>\n",
       "      <th>Open</th>\n",
       "      <th>High</th>\n",
       "      <th>Low</th>\n",
       "      <th>Close</th>\n",
       "      <th>Adj Close</th>\n",
       "      <th>Volume</th>\n",
       "      <th>TCKR</th>\n",
       "    </tr>\n",
       "  </thead>\n",
       "  <tbody>\n",
       "    <tr>\n",
       "      <th>0</th>\n",
       "      <td>2019-12-19</td>\n",
       "      <td>11.000</td>\n",
       "      <td>11.96</td>\n",
       "      <td>10.500</td>\n",
       "      <td>10.70</td>\n",
       "      <td>10.70</td>\n",
       "      <td>89400.0</td>\n",
       "      <td>INDO</td>\n",
       "    </tr>\n",
       "    <tr>\n",
       "      <th>1</th>\n",
       "      <td>2019-12-20</td>\n",
       "      <td>10.808</td>\n",
       "      <td>12.49</td>\n",
       "      <td>9.250</td>\n",
       "      <td>9.65</td>\n",
       "      <td>9.65</td>\n",
       "      <td>503000.0</td>\n",
       "      <td>INDO</td>\n",
       "    </tr>\n",
       "    <tr>\n",
       "      <th>2</th>\n",
       "      <td>2019-12-23</td>\n",
       "      <td>8.790</td>\n",
       "      <td>8.79</td>\n",
       "      <td>7.250</td>\n",
       "      <td>7.81</td>\n",
       "      <td>7.81</td>\n",
       "      <td>117400.0</td>\n",
       "      <td>INDO</td>\n",
       "    </tr>\n",
       "    <tr>\n",
       "      <th>3</th>\n",
       "      <td>2019-12-24</td>\n",
       "      <td>7.500</td>\n",
       "      <td>7.64</td>\n",
       "      <td>6.000</td>\n",
       "      <td>6.41</td>\n",
       "      <td>6.41</td>\n",
       "      <td>102800.0</td>\n",
       "      <td>INDO</td>\n",
       "    </tr>\n",
       "    <tr>\n",
       "      <th>4</th>\n",
       "      <td>2019-12-26</td>\n",
       "      <td>6.420</td>\n",
       "      <td>7.72</td>\n",
       "      <td>6.420</td>\n",
       "      <td>7.41</td>\n",
       "      <td>7.41</td>\n",
       "      <td>78400.0</td>\n",
       "      <td>INDO</td>\n",
       "    </tr>\n",
       "    <tr>\n",
       "      <th>...</th>\n",
       "      <td>...</td>\n",
       "      <td>...</td>\n",
       "      <td>...</td>\n",
       "      <td>...</td>\n",
       "      <td>...</td>\n",
       "      <td>...</td>\n",
       "      <td>...</td>\n",
       "      <td>...</td>\n",
       "    </tr>\n",
       "    <tr>\n",
       "      <th>721</th>\n",
       "      <td>2022-10-31</td>\n",
       "      <td>6.370</td>\n",
       "      <td>6.72</td>\n",
       "      <td>6.340</td>\n",
       "      <td>6.67</td>\n",
       "      <td>6.67</td>\n",
       "      <td>319600.0</td>\n",
       "      <td>INDO</td>\n",
       "    </tr>\n",
       "    <tr>\n",
       "      <th>722</th>\n",
       "      <td>2022-11-01</td>\n",
       "      <td>6.900</td>\n",
       "      <td>7.05</td>\n",
       "      <td>6.660</td>\n",
       "      <td>6.75</td>\n",
       "      <td>6.75</td>\n",
       "      <td>374500.0</td>\n",
       "      <td>INDO</td>\n",
       "    </tr>\n",
       "    <tr>\n",
       "      <th>723</th>\n",
       "      <td>2022-11-02</td>\n",
       "      <td>6.720</td>\n",
       "      <td>6.88</td>\n",
       "      <td>6.410</td>\n",
       "      <td>6.61</td>\n",
       "      <td>6.61</td>\n",
       "      <td>605100.0</td>\n",
       "      <td>INDO</td>\n",
       "    </tr>\n",
       "    <tr>\n",
       "      <th>724</th>\n",
       "      <td>2022-11-03</td>\n",
       "      <td>6.560</td>\n",
       "      <td>6.82</td>\n",
       "      <td>6.542</td>\n",
       "      <td>6.70</td>\n",
       "      <td>6.70</td>\n",
       "      <td>177700.0</td>\n",
       "      <td>INDO</td>\n",
       "    </tr>\n",
       "    <tr>\n",
       "      <th>725</th>\n",
       "      <td>2022-11-04</td>\n",
       "      <td>7.120</td>\n",
       "      <td>7.28</td>\n",
       "      <td>6.640</td>\n",
       "      <td>6.99</td>\n",
       "      <td>6.99</td>\n",
       "      <td>567372.0</td>\n",
       "      <td>INDO</td>\n",
       "    </tr>\n",
       "  </tbody>\n",
       "</table>\n",
       "<p>726 rows × 8 columns</p>\n",
       "</div>"
      ],
      "text/plain": [
       "           Date    Open   High     Low  Close  Adj Close    Volume  TCKR\n",
       "0    2019-12-19  11.000  11.96  10.500  10.70      10.70   89400.0  INDO\n",
       "1    2019-12-20  10.808  12.49   9.250   9.65       9.65  503000.0  INDO\n",
       "2    2019-12-23   8.790   8.79   7.250   7.81       7.81  117400.0  INDO\n",
       "3    2019-12-24   7.500   7.64   6.000   6.41       6.41  102800.0  INDO\n",
       "4    2019-12-26   6.420   7.72   6.420   7.41       7.41   78400.0  INDO\n",
       "..          ...     ...    ...     ...    ...        ...       ...   ...\n",
       "721  2022-10-31   6.370   6.72   6.340   6.67       6.67  319600.0  INDO\n",
       "722  2022-11-01   6.900   7.05   6.660   6.75       6.75  374500.0  INDO\n",
       "723  2022-11-02   6.720   6.88   6.410   6.61       6.61  605100.0  INDO\n",
       "724  2022-11-03   6.560   6.82   6.542   6.70       6.70  177700.0  INDO\n",
       "725  2022-11-04   7.120   7.28   6.640   6.99       6.99  567372.0  INDO\n",
       "\n",
       "[726 rows x 8 columns]"
      ]
     },
     "execution_count": 8,
     "metadata": {},
     "output_type": "execute_result"
    }
   ],
   "source": [
    "# Isolate just 1 TCKR to attempt LSTM process\n",
    "stock_data = stock_data[stock_data.TCKR == 'INDO']\n",
    "stock_data"
   ]
  },
  {
   "cell_type": "code",
   "execution_count": 9,
   "id": "3bc50d83",
   "metadata": {},
   "outputs": [
    {
     "data": {
      "text/plain": [
       "Text(0, 0.5, 'Prices ($)')"
      ]
     },
     "execution_count": 9,
     "metadata": {},
     "output_type": "execute_result"
    },
    {
     "data": {
      "image/png": "[encoded data removed]",
      "text/plain": [
       "<Figure size 1080x576 with 1 Axes>"
      ]
     },
     "metadata": {
      "needs_background": "light"
     },
     "output_type": "display_data"
    }
   ],
   "source": [
    "# Visualize stock prices history\n",
    "plt.figure(figsize=(15, 8))\n",
    "plt.title('Stock Prices History')\n",
    "plt.plot(stock_data['Close'])\n",
    "plt.xlabel('Date')\n",
    "plt.ylabel('Prices ($)')"
   ]
  },
  {
   "cell_type": "code",
   "execution_count": 10,
   "id": "ac480039",
   "metadata": {},
   "outputs": [],
   "source": [
    "# Prepare the training set\n",
    "close_prices = stock_data['Close']\n",
    "values = close_prices.values\n",
    "training_data_len = math.ceil(len(values)* 0.8)\n",
    "\n",
    "scaler = MinMaxScaler(feature_range=(0,1))\n",
    "scaled_data = scaler.fit_transform(values.reshape(-1,1))\n",
    "train_data = scaled_data[0: training_data_len, :]\n",
    "\n",
    "x_train = []\n",
    "y_train = []\n",
    "\n",
    "for i in range(60, len(train_data)):\n",
    "    x_train.append(train_data[i-60:i, 0])\n",
    "    y_train.append(train_data[i, 0])\n",
    "    \n",
    "x_train, y_train = np.array(x_train), np.array(y_train)\n",
    "x_train = np.reshape(x_train, (x_train.shape[0], x_train.shape[1], 1))"
   ]
  },
  {
   "cell_type": "code",
   "execution_count": 12,
   "id": "44d9383e",
   "metadata": {},
   "outputs": [],
   "source": [
    "# Prepare the test set\n",
    "\n",
    "test_data = scaled_data[training_data_len-60: , : ]\n",
    "x_test = []\n",
    "y_test = values[training_data_len:]\n",
    "\n",
    "for i in range(60, len(test_data)):\n",
    "    x_test.append(test_data[i-60:i, 0])\n",
    "\n",
    "x_test = np.array(x_test)\n",
    "x_test = np.reshape(x_test, (x_test.shape[0], x_test.shape[1], 1))"
   ]
  },
  {
   "cell_type": "code",
   "execution_count": 13,
   "id": "242a67cd",
   "metadata": {},
   "outputs": [
    {
     "name": "stdout",
     "output_type": "stream",
     "text": [
      "Model: \"sequential\"\n",
      "_________________________________________________________________\n",
      " Layer (type)                Output Shape              Param #   \n",
      "=================================================================\n",
      " lstm (LSTM)                 (None, 60, 100)           40800     \n",
      "                                                                 \n",
      " lstm_1 (LSTM)               (None, 100)               80400     \n",
      "                                                                 \n",
      " dense (Dense)               (None, 25)                2525      \n",
      "                                                                 \n",
      " dense_1 (Dense)             (None, 1)                 26        \n",
      "                                                                 \n",
      "=================================================================\n",
      "Total params: 123,751\n",
      "Trainable params: 123,751\n",
      "Non-trainable params: 0\n",
      "_________________________________________________________________\n"
     ]
    }
   ],
   "source": [
    "# Setting up the LSTM Network Architecture\n",
    "model = keras.Sequential()\n",
    "model.add(layers.LSTM(100, return_sequences=True, input_shape=(x_train.shape[1], 1)))\n",
    "model.add(layers.LSTM(100, return_sequences=False))\n",
    "model.add(layers.Dense(25))\n",
    "model.add(layers.Dense(1))\n",
    "model.summary()"
   ]
  },
  {
   "cell_type": "code",
   "execution_count": 14,
   "id": "19850bb2",
   "metadata": {},
   "outputs": [
    {
     "name": "stdout",
     "output_type": "stream",
     "text": [
      "Epoch 1/3\n",
      "521/521 [==============================] - 32s 46ms/step - loss: 0.0039\n",
      "Epoch 2/3\n",
      "521/521 [==============================] - 24s 46ms/step - loss: 0.0025\n",
      "Epoch 3/3\n",
      "521/521 [==============================] - 21s 40ms/step - loss: 0.0024\n"
     ]
    },
    {
     "data": {
      "text/plain": [
       "<keras.callbacks.History at 0x253b5f634c8>"
      ]
     },
     "execution_count": 14,
     "metadata": {},
     "output_type": "execute_result"
    }
   ],
   "source": [
    "# Train the LSTM Model\n",
    "model.compile(optimizer='adam', loss='mean_squared_error')\n",
    "model.fit(x_train, y_train, batch_size= 1, epochs=3)"
   ]
  },
  {
   "cell_type": "code",
   "execution_count": 15,
   "id": "53d8d7d4",
   "metadata": {},
   "outputs": [
    {
     "name": "stdout",
     "output_type": "stream",
     "text": [
      "5/5 [==============================] - 3s 44ms/step\n"
     ]
    },
    {
     "data": {
      "text/plain": [
       "0.5175598966664281"
      ]
     },
     "execution_count": 15,
     "metadata": {},
     "output_type": "execute_result"
    }
   ],
   "source": [
    "# Evaluate the Model\n",
    "predictions = model.predict(x_test)\n",
    "predictions = scaler.inverse_transform(predictions)\n",
    "rmse = np.sqrt(np.mean(predictions - y_test)**2)\n",
    "rmse"
   ]
  },
  {
   "cell_type": "code",
   "execution_count": 16,
   "id": "bafbc4c1",
   "metadata": {},
   "outputs": [
    {
     "name": "stderr",
     "output_type": "stream",
     "text": [
      "C:\\Users\\Owner\\anaconda3\\envs\\mlenv\\lib\\site-packages\\ipykernel_launcher.py:5: SettingWithCopyWarning: \n",
      "A value is trying to be set on a copy of a slice from a DataFrame.\n",
      "Try using .loc[row_indexer,col_indexer] = value instead\n",
      "\n",
      "See the caveats in the documentation: https://pandas.pydata.org/pandas-docs/stable/user_guide/indexing.html#returning-a-view-versus-a-copy\n",
      "  \"\"\"\n"
     ]
    },
    {
     "data": {
      "image/png": "[encoded data removed]",
      "text/plain": [
       "<Figure size 1152x576 with 1 Axes>"
      ]
     },
     "metadata": {
      "needs_background": "light"
     },
     "output_type": "display_data"
    }
   ],
   "source": [
    "# Visualize the Predicted Prices\n",
    "data = stock_data.filter(['Close'])\n",
    "train = data[:training_data_len]\n",
    "validation = data[training_data_len:]\n",
    "validation['Predictions'] = predictions\n",
    "plt.figure(figsize=(16,8))\n",
    "plt.title('Model')\n",
    "plt.xlabel('Date')\n",
    "plt.ylabel('Close Price USD ($)')\n",
    "plt.plot(train)\n",
    "plt.plot(validation[['Close', 'Predictions']])\n",
    "plt.legend(['Train', 'Val', 'Predictions'], loc='lower right')\n",
    "plt.show()"
   ]
  },
  {
   "cell_type": "code",
   "execution_count": null,
   "id": "6e298b78",
   "metadata": {},
   "outputs": [],
   "source": []
  }
 ],
 "metadata": {
  "kernelspec": {
   "display_name": "mlenv",
   "language": "python",
   "name": "mlenv"
  },
  "language_info": {
   "codemirror_mode": {
    "name": "ipython",
    "version": 3
   },
   "file_extension": ".py",
   "mimetype": "text/x-python",
   "name": "python",
   "nbconvert_exporter": "python",
   "pygments_lexer": "ipython3",
   "version": "3.7.13"
  }
 },
 "nbformat": 4,
 "nbformat_minor": 5
}
